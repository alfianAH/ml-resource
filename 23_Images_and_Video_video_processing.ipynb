{
  "nbformat": 4,
  "nbformat_minor": 0,
  "metadata": {
    "colab": {
      "name": "#23-Images and Video-video_processing.ipynb",
      "provenance": [],
      "collapsed_sections": [
        "copyright",
        "H3voR3OOxDv1"
      ],
      "toc_visible": true,
      "include_colab_link": true
    },
    "kernelspec": {
      "display_name": "Python 3",
      "name": "python3"
    }
  },
  "cells": [
    {
      "cell_type": "markdown",
      "metadata": {
        "id": "view-in-github",
        "colab_type": "text"
      },
      "source": [
        "<a href=\"https://colab.research.google.com/github/alfianAH/ml-resource/blob/main/23_Images_and_Video_video_processing.ipynb\" target=\"_parent\"><img src=\"https://colab.research.google.com/assets/colab-badge.svg\" alt=\"Open In Colab\"/></a>"
      ]
    },
    {
      "cell_type": "markdown",
      "metadata": {
        "id": "copyright"
      },
      "source": [
        "#### Copyright 2020 Google LLC."
      ]
    },
    {
      "cell_type": "code",
      "metadata": {
        "id": "khlO4Bu21oZ4"
      },
      "source": [
        "# Licensed under the Apache License, Version 2.0 (the \"License\");\n",
        "# you may not use this file except in compliance with the License.\n",
        "# You may obtain a copy of the License at\n",
        "#\n",
        "# https://www.apache.org/licenses/LICENSE-2.0\n",
        "#\n",
        "# Unless required by applicable law or agreed to in writing, software\n",
        "# distributed under the License is distributed on an \"AS IS\" BASIS,\n",
        "# WITHOUT WARRANTIES OR CONDITIONS OF ANY KIND, either express or implied.\n",
        "# See the License for the specific language governing permissions and\n",
        "# limitations under the License."
      ],
      "execution_count": null,
      "outputs": []
    },
    {
      "cell_type": "markdown",
      "metadata": {
        "id": "AlzIlBsScJJ_"
      },
      "source": [
        "# Video Processing"
      ]
    },
    {
      "cell_type": "markdown",
      "metadata": {
        "id": "nTirVS4FWaPx"
      },
      "source": [
        "In this lesson we will process video data using the [OpenCV](https://opencv.org/) Python library."
      ]
    },
    {
      "cell_type": "markdown",
      "metadata": {
        "id": "QmPyT9q4fEyp"
      },
      "source": [
        "## Obtain a Video"
      ]
    },
    {
      "cell_type": "markdown",
      "metadata": {
        "id": "PmhKfT5OfIET"
      },
      "source": [
        "Let's start by uploading the smallest version of [this video](https://pixabay.com/videos/cars-motorway-speed-motion-traffic-1900/) to the Colab. Rename the video to `cars.mp4` or change the name of the video in the code below."
      ]
    },
    {
      "cell_type": "markdown",
      "metadata": {
        "id": "K0Z3-prQMBph"
      },
      "source": [
        "## Reading the Video\n",
        "\n",
        "OpenCV is an open source library for performing computer vision tasks. One of these tasks is reading and writing video frames. To read the `cars.mp4` video file, we use the [VideoCapture](https://docs.opencv.org/2.4/modules/highgui/doc/reading_and_writing_images_and_video.html#videocapture) class."
      ]
    },
    {
      "cell_type": "code",
      "metadata": {
        "id": "xwwkoH0WMArG"
      },
      "source": [
        "import cv2 as cv\n",
        "\n",
        "cars_video = cv.VideoCapture('cars.mp4')"
      ],
      "execution_count": 6,
      "outputs": []
    },
    {
      "cell_type": "markdown",
      "metadata": {
        "id": "jzxNrZmigdz5"
      },
      "source": [
        "Once you have created a `VideoCapture` object, you can obtain information about the video that you are processing."
      ]
    },
    {
      "cell_type": "code",
      "metadata": {
        "id": "vHhBlRVFgiBu",
        "colab": {
          "base_uri": "https://localhost:8080/"
        },
        "outputId": "45aeaba3-c893-41b2-d66f-a8f543522324"
      },
      "source": [
        "height = int(cars_video.get(cv.CAP_PROP_FRAME_HEIGHT))\n",
        "width = int(cars_video.get(cv.CAP_PROP_FRAME_WIDTH))\n",
        "fps = cars_video.get(cv.CAP_PROP_FPS)\n",
        "total_frames = int(cars_video.get(cv.CAP_PROP_FRAME_COUNT))\n",
        "\n",
        "print(f'height: {height}')\n",
        "print(f'width: {width}')\n",
        "print(f'frames per second: {fps}')\n",
        "print(f'total frames: {total_frames}')\n",
        "print(f'video length (seconds): {total_frames / fps}')"
      ],
      "execution_count": 7,
      "outputs": [
        {
          "output_type": "stream",
          "text": [
            "height: 540\n",
            "width: 960\n",
            "frames per second: 30.058027079303674\n",
            "total frames: 518\n",
            "video length (seconds): 17.233333333333334\n"
          ],
          "name": "stdout"
        }
      ]
    },
    {
      "cell_type": "markdown",
      "metadata": {
        "id": "yUQ5ZW6OhHgM"
      },
      "source": [
        "When you are done processing a video file, it is a good idea to release the VideoCapture to free up memory in your program."
      ]
    },
    {
      "cell_type": "code",
      "metadata": {
        "id": "o_Ubw7Wlgk52"
      },
      "source": [
        "cars_video.release()"
      ],
      "execution_count": 8,
      "outputs": []
    },
    {
      "cell_type": "markdown",
      "metadata": {
        "id": "0pRQOHZ9nxIE"
      },
      "source": [
        "We can now loop through the video frame by frame. To do this we need to know the total number of frames in the video. For each frame we set the current frame position and then read that frame. This causes the frame to be loaded from disk into memory. This is done because videos can be enormous in size, so we don't necessarily want the entire thing in memory.\n",
        " \n",
        "You might also notice that we read the frame from the car's video, and then we check the return value to make sure that the read was successful. This is because the underlying video processing library is written in the C++ programming language, and a common practice in that language is to return a status code indicating if a function succeeds or not. This isn't very idiomatic in Python; it is just the underlying library's style leaking through into the Python wrapper."
      ]
    },
    {
      "cell_type": "code",
      "metadata": {
        "id": "c7j0yculnH4-",
        "colab": {
          "base_uri": "https://localhost:8080/"
        },
        "outputId": "a96b58b0-7895-4332-e88d-272b93b1f161"
      },
      "source": [
        "cars_video = cv.VideoCapture('cars.mp4')\n",
        "\n",
        "total_frames = int(cars_video.get(cv.CAP_PROP_FRAME_COUNT))\n",
        "\n",
        "frames_read = 0\n",
        "\n",
        "for current_frame in range(0, total_frames):\n",
        "  cars_video.set(cv.CAP_PROP_POS_FRAMES, current_frame)\n",
        "  ret, _ = cars_video.read()\n",
        "  if not ret:\n",
        "    raise Exception(f'Problem reading frame {current_frame} from video')\n",
        "  if (current_frame+1) % 50 == 0:\n",
        "    print(f'Read {current_frame+1} frames so far')\n",
        "\n",
        "cars_video.release()\n",
        "\n",
        "print(f'Read {total_frames} frames')"
      ],
      "execution_count": 9,
      "outputs": [
        {
          "output_type": "stream",
          "text": [
            "Read 50 frames so far\n",
            "Read 100 frames so far\n",
            "Read 150 frames so far\n",
            "Read 200 frames so far\n",
            "Read 250 frames so far\n",
            "Read 300 frames so far\n",
            "Read 350 frames so far\n",
            "Read 400 frames so far\n",
            "Read 450 frames so far\n",
            "Read 500 frames so far\n",
            "Read 518 frames\n"
          ],
          "name": "stdout"
        }
      ]
    },
    {
      "cell_type": "markdown",
      "metadata": {
        "id": "2tNLbfYtn74T"
      },
      "source": [
        "That code took a while to execute. The video is just over a minute long, and it takes a while to iterate over every frame. Consider the amount of time it would take to perform object recognition on each frame.\n",
        "\n",
        "In practice you will be doing this kind of processing on a much bigger machine, or machines, than Colab provides for free. You can also process many frames in parallel.\n",
        "\n",
        "For our purposes, let's just make the video shorter."
      ]
    },
    {
      "cell_type": "markdown",
      "metadata": {
        "id": "47T_WTF0i_Fd"
      },
      "source": [
        "We'll load the video one more time, and then we'll read out a single frame to illustrate that the frame is just an image."
      ]
    },
    {
      "cell_type": "code",
      "metadata": {
        "id": "xT7_5wLWi6nW",
        "colab": {
          "base_uri": "https://localhost:8080/",
          "height": 258
        },
        "outputId": "00716858-c885-4626-8987-1c5e17c91edf"
      },
      "source": [
        "import matplotlib.pyplot as plt\n",
        "\n",
        "cars_video = cv.VideoCapture('cars.mp4')\n",
        "cars_video.set(cv.CAP_PROP_POS_FRAMES, 123)\n",
        "ret, frame = cars_video.read()\n",
        "if not ret:\n",
        "  raise Exception(f'Problem reading frame {current_frame} from video')\n",
        "\n",
        "cars_video.release()\n",
        "\n",
        "plt.imshow(frame)"
      ],
      "execution_count": 10,
      "outputs": [
        {
          "output_type": "execute_result",
          "data": {
            "text/plain": [
              "<matplotlib.image.AxesImage at 0x7ffa14a8e1d0>"
            ]
          },
          "metadata": {
            "tags": []
          },
          "execution_count": 10
        },
        {
          "output_type": "display_data",
          "data": {
            "image/png": "[encoded data removed]",
            "text/plain": [
              "<Figure size 432x288 with 1 Axes>"
            ]
          },
          "metadata": {
            "tags": [],
            "needs_background": "light"
          }
        }
      ]
    },
    {
      "cell_type": "markdown",
      "metadata": {
        "id": "muBJqjcCoiIi"
      },
      "source": [
        "## Writing a Video\n",
        "\n",
        "OpenCV also supports writing video data. Let's loop through the long video that we have and save only one second of it into a new file."
      ]
    },
    {
      "cell_type": "markdown",
      "metadata": {
        "id": "OZ_WjoBiknW_"
      },
      "source": [
        "First we need to open our input video and get information about the frame rate, height, and width."
      ]
    },
    {
      "cell_type": "code",
      "metadata": {
        "id": "HAp-Xom7kuV6",
        "colab": {
          "base_uri": "https://localhost:8080/"
        },
        "outputId": "64bab90e-5364-4a8e-e78c-77cbedeeab4b"
      },
      "source": [
        "input_video = cv.VideoCapture('cars.mp4')\n",
        "\n",
        "height = int(input_video.get(cv.CAP_PROP_FRAME_HEIGHT))\n",
        "width = int(input_video.get(cv.CAP_PROP_FRAME_WIDTH))\n",
        "fps = input_video.get(cv.CAP_PROP_FPS)\n",
        "\n",
        "print(f'height: {height}')\n",
        "print(f'width: {width}')\n",
        "print(f'frames per second: {fps}')"
      ],
      "execution_count": 25,
      "outputs": [
        {
          "output_type": "stream",
          "text": [
            "height: 540\n",
            "width: 960\n",
            "frames per second: 30.058027079303674\n"
          ],
          "name": "stdout"
        }
      ]
    },
    {
      "cell_type": "markdown",
      "metadata": {
        "id": "xL7bq84AkwVR"
      },
      "source": [
        "Using that information we can create a [VideoWriter](https://docs.opencv.org/2.4/modules/highgui/doc/reading_and_writing_images_and_video.html#videowriter) that we'll use to write the shorter video.\n",
        "\n",
        "Video can be encoded using many different formats. In order to tell OpenCV which format to use, we choose a \"four character code\" from [fourcc](https://www.fourcc.org/). In this case we use \"mp4v\" to keep our input and output files consistent."
      ]
    },
    {
      "cell_type": "code",
      "metadata": {
        "id": "6BrWL2cJovEU"
      },
      "source": [
        "fourcc = cv.VideoWriter_fourcc(*'mp4v')\n",
        "output_video = cv.VideoWriter('cars-short.mp4', fourcc, fps, (width, height))"
      ],
      "execution_count": 26,
      "outputs": []
    },
    {
      "cell_type": "markdown",
      "metadata": {
        "id": "z87NtCMOnMnL"
      },
      "source": [
        "Now we can loop through one second of video frames and write each frame to our output video."
      ]
    },
    {
      "cell_type": "code",
      "metadata": {
        "id": "Ns_6ESqXyWSS"
      },
      "source": [
        "for i in range(0, int(fps)):\n",
        "  input_video.set(cv.CAP_PROP_POS_FRAMES, i)\n",
        "  ret, frame = input_video.read()\n",
        "  if not ret:\n",
        "    raise Exception(\"Problem reading frame\", i, \" from video\")\n",
        "  output_video.write(frame)"
      ],
      "execution_count": 27,
      "outputs": []
    },
    {
      "cell_type": "markdown",
      "metadata": {
        "id": "gN-eK_4knWWh"
      },
      "source": [
        "Once processing is complete, be sure to release the video objects from memory."
      ]
    },
    {
      "cell_type": "code",
      "metadata": {
        "id": "IblYT5rUnaQ4"
      },
      "source": [
        "input_video.release()\n",
        "output_video.release()"
      ],
      "execution_count": 33,
      "outputs": []
    },
    {
      "cell_type": "markdown",
      "metadata": {
        "id": "vRrkuRxrydtn"
      },
      "source": [
        "And now we can list the directory to see if our new file was created."
      ]
    },
    {
      "cell_type": "code",
      "metadata": {
        "id": "yABTY1HoPcpC",
        "colab": {
          "base_uri": "https://localhost:8080/"
        },
        "outputId": "1b2ce26b-ef1d-4229-ccc5-fbc7bfe15297"
      },
      "source": [
        "import os\n",
        "\n",
        "os.listdir('./')"
      ],
      "execution_count": 34,
      "outputs": [
        {
          "output_type": "execute_result",
          "data": {
            "text/plain": [
              "['.config', 'cars-sampled.mp4', 'cars.mp4', 'cars-short.mp4', 'sample_data']"
            ]
          },
          "metadata": {
            "tags": []
          },
          "execution_count": 34
        }
      ]
    },
    {
      "cell_type": "markdown",
      "metadata": {
        "id": "cJiP6TUxqMM4"
      },
      "source": [
        "You should now see a `cars-short.mp4` file in your file browser in Colab. Download and view the video to make sure that it only lasts for a second."
      ]
    },
    {
      "cell_type": "markdown",
      "metadata": {
        "id": "qc5FP_s2nqQg"
      },
      "source": [
        "Notice we have only concerned ourselves with the visual portion of the video. Videos contain both visual and auditory elements. OpenCV is only concerned with computer vision, so it doesn't handle audio processing."
      ]
    },
    {
      "cell_type": "markdown",
      "metadata": {
        "id": "YTVUYxPwcHhp"
      },
      "source": [
        "# Exercises"
      ]
    },
    {
      "cell_type": "markdown",
      "metadata": {
        "id": "LdIOgOHP1ces"
      },
      "source": [
        "## Exercise 1"
      ]
    },
    {
      "cell_type": "markdown",
      "metadata": {
        "id": "jhTEOK1ZmqN8"
      },
      "source": [
        "Above we shortened our video to 1 second by simply grabbing the first second of frames from the video file. Since not much typically changes from frame to frame within a second of video, a better video processing technique is to sample frames throughout the entire video and skip some frames. For example, it might be more beneficial to process every 10th frame or only process 1 of the frames in every second of video.\n",
        "\n",
        "In this exercise, take the original cars video used in this Colab and reduce it to a short 25-fps (frames per second) video by grabbing the first frame of every second of video. Save the video as `cars-sampled.mp4`."
      ]
    },
    {
      "cell_type": "markdown",
      "metadata": {
        "id": "7XM35vYWSbim"
      },
      "source": [
        "### **Student Solution**"
      ]
    },
    {
      "cell_type": "code",
      "metadata": {
        "id": "ivTzfzQN5jDk",
        "colab": {
          "base_uri": "https://localhost:8080/"
        },
        "outputId": "98c05589-3448-48c4-b299-e919bc719f4f"
      },
      "source": [
        "# Your code goes here\n",
        "input_video = cv.VideoCapture('cars.mp4')\n",
        "\n",
        "height = int(input_video.get(cv.CAP_PROP_FRAME_HEIGHT))\n",
        "width = int(input_video.get(cv.CAP_PROP_FRAME_WIDTH))\n",
        "fps = input_video.get(cv.CAP_PROP_FPS)\n",
        "total_frames = input_video.get(cv.CAP_PROP_FRAME_COUNT)\n",
        "\n",
        "print(\"Input\")\n",
        "print(\"height: {}\".format(height))\n",
        "print(\"width: {}\".format(width))\n",
        "print(\"fps: {}\".format(fps))\n",
        "print(\"total_frame: {}\".format(total_frames))\n",
        "print('video length (seconds): {}'.format(total_frames / fps))\n",
        "\n",
        "fourcc = cv.VideoWriter_fourcc(*'mp4v')\n",
        "output_video = cv.VideoWriter('cars-sampled.mp4', fourcc, 25, (width, height))\n",
        "\n",
        "for curr_frame in range(0, int(total_frames)):\n",
        "    input_video.set(cv.CAP_PROP_POS_FRAMES, curr_frame)\n",
        "    ret, frame = input_video.read()\n",
        "    \n",
        "    if not ret:\n",
        "        raise Exception(\"Problem reading frame\", i, \" from video\")\n",
        "\n",
        "    output_video.write(frame)\n",
        "\n",
        "input_video.release()\n",
        "output_video.release()\n",
        "\n",
        "output_video = cv.VideoCapture('cars-sampled.mp4')\n",
        "height = int(output_video.get(cv.CAP_PROP_FRAME_HEIGHT))\n",
        "width = int(output_video.get(cv.CAP_PROP_FRAME_WIDTH))\n",
        "fps = output_video.get(cv.CAP_PROP_FPS)\n",
        "total_frames = output_video.get(cv.CAP_PROP_FRAME_COUNT)\n",
        "\n",
        "print(\"\\nOutput\")\n",
        "print(\"height: {}\".format(height))\n",
        "print(\"width: {}\".format(width))\n",
        "print(\"fps: {}\".format(fps))\n",
        "print(\"total_frame: {}\".format(total_frames))\n",
        "print('video length (seconds): {}'.format(total_frames / fps))\n",
        "\n",
        "output_video.release()"
      ],
      "execution_count": 60,
      "outputs": [
        {
          "output_type": "stream",
          "text": [
            "Input\n",
            "height: 540\n",
            "width: 960\n",
            "fps: 30.058027079303674\n",
            "total_frame: 518.0\n",
            "video length (seconds): 17.233333333333334\n",
            "\n",
            "Output\n",
            "height: 540\n",
            "width: 960\n",
            "fps: 25.0\n",
            "total_frame: 518.0\n",
            "video length (seconds): 20.72\n"
          ],
          "name": "stdout"
        }
      ]
    },
    {
      "cell_type": "markdown",
      "metadata": {
        "id": "ictdRRePTvA8"
      },
      "source": [
        "---"
      ]
    }
  ]
}