{
  "nbformat": 4,
  "nbformat_minor": 0,
  "metadata": {
    "colab": {
      "name": "#18-Classification with TensorFlow.ipynb",
      "provenance": [],
      "collapsed_sections": [
        "copyright",
        "PcoLpQIGNn_i",
        "5du8Nf50PP_e",
        "PpuEAl0mgttU",
        "pBTMpUv0lPiY"
      ],
      "toc_visible": true,
      "include_colab_link": true
    },
    "kernelspec": {
      "display_name": "Python 3",
      "name": "python3"
    }
  },
  "cells": [
    {
      "cell_type": "markdown",
      "metadata": {
        "id": "view-in-github",
        "colab_type": "text"
      },
      "source": [
        "<a href=\"https://colab.research.google.com/github/alfianAH/ml-resource/blob/main/18_Classification_with_TensorFlow.ipynb\" target=\"_parent\"><img src=\"https://colab.research.google.com/assets/colab-badge.svg\" alt=\"Open In Colab\"/></a>"
      ]
    },
    {
      "cell_type": "markdown",
      "metadata": {
        "id": "copyright"
      },
      "source": [
        "#### Copyright 2020 Google LLC."
      ]
    },
    {
      "cell_type": "code",
      "metadata": {
        "id": "BX4BkCSEPV26"
      },
      "source": [
        "# Licensed under the Apache License, Version 2.0 (the \"License\");\n",
        "# you may not use this file except in compliance with the License.\n",
        "# You may obtain a copy of the License at\n",
        "#\n",
        "# https://www.apache.org/licenses/LICENSE-2.0\n",
        "#\n",
        "# Unless required by applicable law or agreed to in writing, software\n",
        "# distributed under the License is distributed on an \"AS IS\" BASIS,\n",
        "# WITHOUT WARRANTIES OR CONDITIONS OF ANY KIND, either express or implied.\n",
        "# See the License for the specific language governing permissions and\n",
        "# limitations under the License."
      ],
      "execution_count": 1,
      "outputs": []
    },
    {
      "cell_type": "markdown",
      "metadata": {
        "id": "eXugJRE9PcpT"
      },
      "source": [
        "# Classification with TensorFlow"
      ]
    },
    {
      "cell_type": "markdown",
      "metadata": {
        "id": "KrDw3-6MIhhJ"
      },
      "source": [
        "By now you should be familiar with classification in scikit-learn. In this Colab we will explore another commonly used tool for classification and machine learning: TensorFlow."
      ]
    },
    {
      "cell_type": "markdown",
      "metadata": {
        "id": "ryWbLSCgKGOp"
      },
      "source": [
        "## The Dataset"
      ]
    },
    {
      "cell_type": "markdown",
      "metadata": {
        "id": "owzuGnZ9KH57"
      },
      "source": [
        "The dataset that we'll be using is the [UCI Heart Disease dataset](http://archive.ics.uci.edu/ml/datasets/Heart+Disease). The dataset contains health information about patients, as well as a \"presence of heart disease\" indicator.\n",
        "\n",
        "The [original dataset](http://archive.ics.uci.edu/ml/datasets/Heart+Disease) contains over 70 different attributes and five heart disease classifications. For this lab we'll use a [simplified version of the dataset](https://www.kaggle.com/ronitf/heart-disease-uci) hosted on Kaggle.\n",
        "\n",
        "This simplified version of the dataset contains 13 attributes and a yes/no indicator for the presence or absence of heart disease.\n",
        "\n",
        "The columns are below:\n",
        "\n",
        "Feature | Description\n",
        "--------|--------------\n",
        "age     | age in years\n",
        "sex     | sex<br>0 = female<br>1 = male\n",
        "cp      | chest pain type<br>1 = typical angina<br>2 = atypical angina<br>3 = non-anginal pain<br>4 = asymptomatic\n",
        "trestbps  | resting blood pressure in Hg\n",
        "chol      | serum cholesterol in mg/dl\n",
        "fbs       | is fasting blood sugar > 120 mg/dl<br>0 = false<br>1 = true\n",
        "restecg   | results of a resting electrocardiograph<br>0 = normal<br>1 = ST-T wave abnormality<br>2 = left ventricular hypertrophy\n",
        "thalach   | max heart rate\n",
        "exang     | exercise induced angina<br>0 = no<br>1 = yes\n",
        "oldpeak   | measurement of an abnormal ST depression\n",
        "slope     | slope of peak of exercise ST segment<br>1 = upslope<br>2 = flat<br>3 = downslope\n",
        "ca        | count of major blood vessels colored by fluoroscopy<br>0, 1, 2, 3, or 4\n",
        "thal      | presence heart condition<br>0 = unknown<br>1 = normal<br>2 = fixed defect<br>3 = reversible defect\n",
        "\n",
        "The heart disease indicator is a 0 for no disease and a 1 for heart disease.\n",
        "\n",
        "Let's assume we have been given this dataset by the Cleveland Clinic and have been asked to build a model that can predict if their patients have heart disease or not. The purpose of the model is to assist doctors in making diagnostic decisions faster."
      ]
    },
    {
      "cell_type": "markdown",
      "metadata": {
        "id": "0Ci8tyuGL365"
      },
      "source": [
        "### Exercise 1: Ethical Considerations\n",
        "\n",
        "Before we dive in, let's take a moment to think about the dataset and the larger problem that we are trying to solve. We have 17 data attributes related to an individual's health, as well as an indicator that determines if the patient has heart disease."
      ]
    },
    {
      "cell_type": "markdown",
      "metadata": {
        "id": "fNn5FTmaMEux"
      },
      "source": [
        "#### Question 1\n",
        "\n",
        "Are there any attributes in the data that we should pay special attention to? Imagine a case where the data is unbalanced in some way. How might that affect the model and the doctor/patient experience?"
      ]
    },
    {
      "cell_type": "markdown",
      "metadata": {
        "id": "f7SNDV81NkHV"
      },
      "source": [
        "##### **Student Solution**"
      ]
    },
    {
      "cell_type": "markdown",
      "metadata": {
        "id": "tEfCxyNVNlk_"
      },
      "source": [
        "> We should pay attention to \n",
        "1. cp (chest pain type), \n",
        "1. trestbps (resting blood pressure)\n",
        "1. chol (serum cholestrol)\n",
        "1. restecg (resting electrocardiograph)\n",
        "1. thalach (max heart rate)\n",
        "1. thal (presence heart condition)\n",
        "\n",
        "> If the data is unbalanced, it will give false positive and false negative."
      ]
    },
    {
      "cell_type": "markdown",
      "metadata": {
        "id": "zNemvB8nTjz-"
      },
      "source": [
        "---"
      ]
    },
    {
      "cell_type": "markdown",
      "metadata": {
        "id": "xBAYBKo-Ozja"
      },
      "source": [
        "#### Question 2\n",
        "\n",
        "Assuming we can get a reasonably well-performing model deployed, is there potential for problems with how the predictions from this model are interpreted and used?"
      ]
    },
    {
      "cell_type": "markdown",
      "metadata": {
        "id": "_IriIC2DPL8d"
      },
      "source": [
        "##### **Student Solution**"
      ]
    },
    {
      "cell_type": "markdown",
      "metadata": {
        "id": "PhRc5qbjPNn2"
      },
      "source": [
        "> I don't think so"
      ]
    },
    {
      "cell_type": "markdown",
      "metadata": {
        "id": "KU1bmHjCTsKH"
      },
      "source": [
        "---"
      ]
    },
    {
      "cell_type": "markdown",
      "metadata": {
        "id": "70JOzTBLPwcf"
      },
      "source": [
        "### Exploratory Data Analysis"
      ]
    },
    {
      "cell_type": "markdown",
      "metadata": {
        "id": "t-igE14mP0X5"
      },
      "source": [
        "Let's download the data and take a look at what we are working with.\n",
        "\n",
        "Upload your `kaggle.json` file and run the code below."
      ]
    },
    {
      "cell_type": "code",
      "metadata": {
        "id": "gNulecG9as1b",
        "colab": {
          "base_uri": "https://localhost:8080/"
        },
        "outputId": "024f3d5b-8277-4aa4-b45a-cfa4b2e9faa5"
      },
      "source": [
        "! chmod 600 kaggle.json && (ls ~/.kaggle 2>/dev/null || mkdir ~/.kaggle) && mv kaggle.json ~/.kaggle/ && echo 'Done'"
      ],
      "execution_count": 2,
      "outputs": [
        {
          "output_type": "stream",
          "text": [
            "Done\n"
          ],
          "name": "stdout"
        }
      ]
    },
    {
      "cell_type": "markdown",
      "metadata": {
        "id": "_My-5RPAP9qC"
      },
      "source": [
        "And then download the dataset."
      ]
    },
    {
      "cell_type": "code",
      "metadata": {
        "id": "Kj7CvPiWbPP7",
        "colab": {
          "base_uri": "https://localhost:8080/"
        },
        "outputId": "7586a680-92fc-450b-bfce-e39d18e06011"
      },
      "source": [
        "!kaggle datasets download ronitf/heart-disease-uci\n",
        "!ls"
      ],
      "execution_count": 3,
      "outputs": [
        {
          "output_type": "stream",
          "text": [
            "Downloading heart-disease-uci.zip to /content\n",
            "\r  0% 0.00/3.40k [00:00<?, ?B/s]\n",
            "\r100% 3.40k/3.40k [00:00<00:00, 1.38MB/s]\n",
            "heart-disease-uci.zip  sample_data\n"
          ],
          "name": "stdout"
        }
      ]
    },
    {
      "cell_type": "markdown",
      "metadata": {
        "id": "7_An5CMFQBFJ"
      },
      "source": [
        "And load the data into a `DataFrame` and take a peek."
      ]
    },
    {
      "cell_type": "code",
      "metadata": {
        "id": "yBFg4O0TbSTX",
        "colab": {
          "base_uri": "https://localhost:8080/",
          "height": 206
        },
        "outputId": "4a86c1ba-77ed-4cc2-bd55-8d8cf3ea14db"
      },
      "source": [
        "import pandas as pd\n",
        "\n",
        "df = pd.read_csv('heart-disease-uci.zip')\n",
        "df.sample(5)"
      ],
      "execution_count": 4,
      "outputs": [
        {
          "output_type": "execute_result",
          "data": {
            "text/html": [
              "<div>\n",
              "<style scoped>\n",
              "    .dataframe tbody tr th:only-of-type {\n",
              "        vertical-align: middle;\n",
              "    }\n",
              "\n",
              "    .dataframe tbody tr th {\n",
              "        vertical-align: top;\n",
              "    }\n",
              "\n",
              "    .dataframe thead th {\n",
              "        text-align: right;\n",
              "    }\n",
              "</style>\n",
              "<table border=\"1\" class=\"dataframe\">\n",
              "  <thead>\n",
              "    <tr style=\"text-align: right;\">\n",
              "      <th></th>\n",
              "      <th>age</th>\n",
              "      <th>sex</th>\n",
              "      <th>cp</th>\n",
              "      <th>trestbps</th>\n",
              "      <th>chol</th>\n",
              "      <th>fbs</th>\n",
              "      <th>restecg</th>\n",
              "      <th>thalach</th>\n",
              "      <th>exang</th>\n",
              "      <th>oldpeak</th>\n",
              "      <th>slope</th>\n",
              "      <th>ca</th>\n",
              "      <th>thal</th>\n",
              "      <th>target</th>\n",
              "    </tr>\n",
              "  </thead>\n",
              "  <tbody>\n",
              "    <tr>\n",
              "      <th>4</th>\n",
              "      <td>57</td>\n",
              "      <td>0</td>\n",
              "      <td>0</td>\n",
              "      <td>120</td>\n",
              "      <td>354</td>\n",
              "      <td>0</td>\n",
              "      <td>1</td>\n",
              "      <td>163</td>\n",
              "      <td>1</td>\n",
              "      <td>0.6</td>\n",
              "      <td>2</td>\n",
              "      <td>0</td>\n",
              "      <td>2</td>\n",
              "      <td>1</td>\n",
              "    </tr>\n",
              "    <tr>\n",
              "      <th>75</th>\n",
              "      <td>55</td>\n",
              "      <td>0</td>\n",
              "      <td>1</td>\n",
              "      <td>135</td>\n",
              "      <td>250</td>\n",
              "      <td>0</td>\n",
              "      <td>0</td>\n",
              "      <td>161</td>\n",
              "      <td>0</td>\n",
              "      <td>1.4</td>\n",
              "      <td>1</td>\n",
              "      <td>0</td>\n",
              "      <td>2</td>\n",
              "      <td>1</td>\n",
              "    </tr>\n",
              "    <tr>\n",
              "      <th>278</th>\n",
              "      <td>58</td>\n",
              "      <td>0</td>\n",
              "      <td>1</td>\n",
              "      <td>136</td>\n",
              "      <td>319</td>\n",
              "      <td>1</td>\n",
              "      <td>0</td>\n",
              "      <td>152</td>\n",
              "      <td>0</td>\n",
              "      <td>0.0</td>\n",
              "      <td>2</td>\n",
              "      <td>2</td>\n",
              "      <td>2</td>\n",
              "      <td>0</td>\n",
              "    </tr>\n",
              "    <tr>\n",
              "      <th>294</th>\n",
              "      <td>44</td>\n",
              "      <td>1</td>\n",
              "      <td>0</td>\n",
              "      <td>120</td>\n",
              "      <td>169</td>\n",
              "      <td>0</td>\n",
              "      <td>1</td>\n",
              "      <td>144</td>\n",
              "      <td>1</td>\n",
              "      <td>2.8</td>\n",
              "      <td>0</td>\n",
              "      <td>0</td>\n",
              "      <td>1</td>\n",
              "      <td>0</td>\n",
              "    </tr>\n",
              "    <tr>\n",
              "      <th>223</th>\n",
              "      <td>56</td>\n",
              "      <td>0</td>\n",
              "      <td>0</td>\n",
              "      <td>200</td>\n",
              "      <td>288</td>\n",
              "      <td>1</td>\n",
              "      <td>0</td>\n",
              "      <td>133</td>\n",
              "      <td>1</td>\n",
              "      <td>4.0</td>\n",
              "      <td>0</td>\n",
              "      <td>2</td>\n",
              "      <td>3</td>\n",
              "      <td>0</td>\n",
              "    </tr>\n",
              "  </tbody>\n",
              "</table>\n",
              "</div>"
            ],
            "text/plain": [
              "     age  sex  cp  trestbps  chol  fbs  ...  exang  oldpeak  slope  ca  thal  target\n",
              "4     57    0   0       120   354    0  ...      1      0.6      2   0     2       1\n",
              "75    55    0   1       135   250    0  ...      0      1.4      1   0     2       1\n",
              "278   58    0   1       136   319    1  ...      0      0.0      2   2     2       0\n",
              "294   44    1   0       120   169    0  ...      1      2.8      0   0     1       0\n",
              "223   56    0   0       200   288    1  ...      1      4.0      0   2     3       0\n",
              "\n",
              "[5 rows x 14 columns]"
            ]
          },
          "metadata": {
            "tags": []
          },
          "execution_count": 4
        }
      ]
    },
    {
      "cell_type": "markdown",
      "metadata": {
        "id": "Lg3B3HXYQOEF"
      },
      "source": [
        "We can see that all of the data is numeric, but varies a bit in scale.\n",
        "\n",
        "Let's describe the data:"
      ]
    },
    {
      "cell_type": "code",
      "metadata": {
        "id": "tFod1RMIbZar",
        "colab": {
          "base_uri": "https://localhost:8080/",
          "height": 320
        },
        "outputId": "131b3ecd-e237-42f6-cc2c-35d7942281f5"
      },
      "source": [
        "df.describe()"
      ],
      "execution_count": 5,
      "outputs": [
        {
          "output_type": "execute_result",
          "data": {
            "text/html": [
              "<div>\n",
              "<style scoped>\n",
              "    .dataframe tbody tr th:only-of-type {\n",
              "        vertical-align: middle;\n",
              "    }\n",
              "\n",
              "    .dataframe tbody tr th {\n",
              "        vertical-align: top;\n",
              "    }\n",
              "\n",
              "    .dataframe thead th {\n",
              "        text-align: right;\n",
              "    }\n",
              "</style>\n",
              "<table border=\"1\" class=\"dataframe\">\n",
              "  <thead>\n",
              "    <tr style=\"text-align: right;\">\n",
              "      <th></th>\n",
              "      <th>age</th>\n",
              "      <th>sex</th>\n",
              "      <th>cp</th>\n",
              "      <th>trestbps</th>\n",
              "      <th>chol</th>\n",
              "      <th>fbs</th>\n",
              "      <th>restecg</th>\n",
              "      <th>thalach</th>\n",
              "      <th>exang</th>\n",
              "      <th>oldpeak</th>\n",
              "      <th>slope</th>\n",
              "      <th>ca</th>\n",
              "      <th>thal</th>\n",
              "      <th>target</th>\n",
              "    </tr>\n",
              "  </thead>\n",
              "  <tbody>\n",
              "    <tr>\n",
              "      <th>count</th>\n",
              "      <td>303.000000</td>\n",
              "      <td>303.000000</td>\n",
              "      <td>303.000000</td>\n",
              "      <td>303.000000</td>\n",
              "      <td>303.000000</td>\n",
              "      <td>303.000000</td>\n",
              "      <td>303.000000</td>\n",
              "      <td>303.000000</td>\n",
              "      <td>303.000000</td>\n",
              "      <td>303.000000</td>\n",
              "      <td>303.000000</td>\n",
              "      <td>303.000000</td>\n",
              "      <td>303.000000</td>\n",
              "      <td>303.000000</td>\n",
              "    </tr>\n",
              "    <tr>\n",
              "      <th>mean</th>\n",
              "      <td>54.366337</td>\n",
              "      <td>0.683168</td>\n",
              "      <td>0.966997</td>\n",
              "      <td>131.623762</td>\n",
              "      <td>246.264026</td>\n",
              "      <td>0.148515</td>\n",
              "      <td>0.528053</td>\n",
              "      <td>149.646865</td>\n",
              "      <td>0.326733</td>\n",
              "      <td>1.039604</td>\n",
              "      <td>1.399340</td>\n",
              "      <td>0.729373</td>\n",
              "      <td>2.313531</td>\n",
              "      <td>0.544554</td>\n",
              "    </tr>\n",
              "    <tr>\n",
              "      <th>std</th>\n",
              "      <td>9.082101</td>\n",
              "      <td>0.466011</td>\n",
              "      <td>1.032052</td>\n",
              "      <td>17.538143</td>\n",
              "      <td>51.830751</td>\n",
              "      <td>0.356198</td>\n",
              "      <td>0.525860</td>\n",
              "      <td>22.905161</td>\n",
              "      <td>0.469794</td>\n",
              "      <td>1.161075</td>\n",
              "      <td>0.616226</td>\n",
              "      <td>1.022606</td>\n",
              "      <td>0.612277</td>\n",
              "      <td>0.498835</td>\n",
              "    </tr>\n",
              "    <tr>\n",
              "      <th>min</th>\n",
              "      <td>29.000000</td>\n",
              "      <td>0.000000</td>\n",
              "      <td>0.000000</td>\n",
              "      <td>94.000000</td>\n",
              "      <td>126.000000</td>\n",
              "      <td>0.000000</td>\n",
              "      <td>0.000000</td>\n",
              "      <td>71.000000</td>\n",
              "      <td>0.000000</td>\n",
              "      <td>0.000000</td>\n",
              "      <td>0.000000</td>\n",
              "      <td>0.000000</td>\n",
              "      <td>0.000000</td>\n",
              "      <td>0.000000</td>\n",
              "    </tr>\n",
              "    <tr>\n",
              "      <th>25%</th>\n",
              "      <td>47.500000</td>\n",
              "      <td>0.000000</td>\n",
              "      <td>0.000000</td>\n",
              "      <td>120.000000</td>\n",
              "      <td>211.000000</td>\n",
              "      <td>0.000000</td>\n",
              "      <td>0.000000</td>\n",
              "      <td>133.500000</td>\n",
              "      <td>0.000000</td>\n",
              "      <td>0.000000</td>\n",
              "      <td>1.000000</td>\n",
              "      <td>0.000000</td>\n",
              "      <td>2.000000</td>\n",
              "      <td>0.000000</td>\n",
              "    </tr>\n",
              "    <tr>\n",
              "      <th>50%</th>\n",
              "      <td>55.000000</td>\n",
              "      <td>1.000000</td>\n",
              "      <td>1.000000</td>\n",
              "      <td>130.000000</td>\n",
              "      <td>240.000000</td>\n",
              "      <td>0.000000</td>\n",
              "      <td>1.000000</td>\n",
              "      <td>153.000000</td>\n",
              "      <td>0.000000</td>\n",
              "      <td>0.800000</td>\n",
              "      <td>1.000000</td>\n",
              "      <td>0.000000</td>\n",
              "      <td>2.000000</td>\n",
              "      <td>1.000000</td>\n",
              "    </tr>\n",
              "    <tr>\n",
              "      <th>75%</th>\n",
              "      <td>61.000000</td>\n",
              "      <td>1.000000</td>\n",
              "      <td>2.000000</td>\n",
              "      <td>140.000000</td>\n",
              "      <td>274.500000</td>\n",
              "      <td>0.000000</td>\n",
              "      <td>1.000000</td>\n",
              "      <td>166.000000</td>\n",
              "      <td>1.000000</td>\n",
              "      <td>1.600000</td>\n",
              "      <td>2.000000</td>\n",
              "      <td>1.000000</td>\n",
              "      <td>3.000000</td>\n",
              "      <td>1.000000</td>\n",
              "    </tr>\n",
              "    <tr>\n",
              "      <th>max</th>\n",
              "      <td>77.000000</td>\n",
              "      <td>1.000000</td>\n",
              "      <td>3.000000</td>\n",
              "      <td>200.000000</td>\n",
              "      <td>564.000000</td>\n",
              "      <td>1.000000</td>\n",
              "      <td>2.000000</td>\n",
              "      <td>202.000000</td>\n",
              "      <td>1.000000</td>\n",
              "      <td>6.200000</td>\n",
              "      <td>2.000000</td>\n",
              "      <td>4.000000</td>\n",
              "      <td>3.000000</td>\n",
              "      <td>1.000000</td>\n",
              "    </tr>\n",
              "  </tbody>\n",
              "</table>\n",
              "</div>"
            ],
            "text/plain": [
              "              age         sex          cp  ...          ca        thal      target\n",
              "count  303.000000  303.000000  303.000000  ...  303.000000  303.000000  303.000000\n",
              "mean    54.366337    0.683168    0.966997  ...    0.729373    2.313531    0.544554\n",
              "std      9.082101    0.466011    1.032052  ...    1.022606    0.612277    0.498835\n",
              "min     29.000000    0.000000    0.000000  ...    0.000000    0.000000    0.000000\n",
              "25%     47.500000    0.000000    0.000000  ...    0.000000    2.000000    0.000000\n",
              "50%     55.000000    1.000000    1.000000  ...    0.000000    2.000000    1.000000\n",
              "75%     61.000000    1.000000    2.000000  ...    1.000000    3.000000    1.000000\n",
              "max     77.000000    1.000000    3.000000  ...    4.000000    3.000000    1.000000\n",
              "\n",
              "[8 rows x 14 columns]"
            ]
          },
          "metadata": {
            "tags": []
          },
          "execution_count": 5
        }
      ]
    },
    {
      "cell_type": "markdown",
      "metadata": {
        "id": "HePmoUX8QZ68"
      },
      "source": [
        "No missing data. Only 303 rows of data, though, so we aren't working with a huge dataset.\n",
        "\n",
        "Now we'll dig deeper into the data in a few of the columns. If you were working with a dataset for a real-world model you would want to explore each column.\n",
        "\n",
        "We'll start by mapping out the correlations in the data."
      ]
    },
    {
      "cell_type": "code",
      "metadata": {
        "id": "2zpT6H3IQzlV",
        "colab": {
          "base_uri": "https://localhost:8080/",
          "height": 626
        },
        "outputId": "e8c9989b-a82b-49e7-9527-20f7654b0723"
      },
      "source": [
        "import matplotlib.pyplot as plt\n",
        "import seaborn as sns\n",
        "\n",
        "plt.figure(figsize=(10,10))\n",
        "_ = sns.heatmap(df.corr(), cmap='coolwarm', annot=True)"
      ],
      "execution_count": 6,
      "outputs": [
        {
          "output_type": "display_data",
          "data": {
            "image/png": "[encoded data removed]",
            "text/plain": [
              "<Figure size 720x720 with 2 Axes>"
            ]
          },
          "metadata": {
            "tags": [],
            "needs_background": "light"
          }
        }
      ]
    },
    {
      "cell_type": "markdown",
      "metadata": {
        "id": "YuYIA8KFRich"
      },
      "source": [
        "There are no obviously strong correlations.\n",
        "\n",
        "Let's now see how balanced our data is by sex:"
      ]
    },
    {
      "cell_type": "code",
      "metadata": {
        "id": "HhNIowgiRrV_",
        "colab": {
          "base_uri": "https://localhost:8080/",
          "height": 283
        },
        "outputId": "27f3b033-3703-425d-ef0d-6af64cad5f0d"
      },
      "source": [
        "df['sex'].hist()"
      ],
      "execution_count": 7,
      "outputs": [
        {
          "output_type": "execute_result",
          "data": {
            "text/plain": [
              "<matplotlib.axes._subplots.AxesSubplot at 0x7f4d9d8d59d0>"
            ]
          },
          "metadata": {
            "tags": []
          },
          "execution_count": 7
        },
        {
          "output_type": "display_data",
          "data": {
            "image/png": "[encoded data removed]",
            "text/plain": [
              "<Figure size 432x288 with 1 Axes>"
            ]
          },
          "metadata": {
            "tags": [],
            "needs_background": "light"
          }
        }
      ]
    },
    {
      "cell_type": "markdown",
      "metadata": {
        "id": "MQAIX7B_Ry51"
      },
      "source": [
        "In this data female maps to 0 and male maps to 1, so there are over twice as many men in the dataset."
      ]
    },
    {
      "cell_type": "markdown",
      "metadata": {
        "id": "xUCv_seER_QL"
      },
      "source": [
        "Let's also check out the target."
      ]
    },
    {
      "cell_type": "code",
      "metadata": {
        "id": "Dtw_Qi1ER8fo",
        "colab": {
          "base_uri": "https://localhost:8080/",
          "height": 283
        },
        "outputId": "1afe48ac-f471-455d-c104-552933d98967"
      },
      "source": [
        "df['target'].hist()"
      ],
      "execution_count": 8,
      "outputs": [
        {
          "output_type": "execute_result",
          "data": {
            "text/plain": [
              "<matplotlib.axes._subplots.AxesSubplot at 0x7f4d8569c790>"
            ]
          },
          "metadata": {
            "tags": []
          },
          "execution_count": 8
        },
        {
          "output_type": "display_data",
          "data": {
            "image/png": "[encoded data removed]",
            "text/plain": [
              "<Figure size 432x288 with 1 Axes>"
            ]
          },
          "metadata": {
            "tags": [],
            "needs_background": "light"
          }
        }
      ]
    },
    {
      "cell_type": "markdown",
      "metadata": {
        "id": "nRJWasBGSC_j"
      },
      "source": [
        "In this case the dataset looks more balanced."
      ]
    },
    {
      "cell_type": "markdown",
      "metadata": {
        "id": "ejVlvHCqSLJK"
      },
      "source": [
        "And finally we'll look at age."
      ]
    },
    {
      "cell_type": "code",
      "metadata": {
        "id": "zWaUmlctSHZx",
        "colab": {
          "base_uri": "https://localhost:8080/",
          "height": 283
        },
        "outputId": "a6523624-ba97-4fb0-d810-37d75ec5e352"
      },
      "source": [
        "df['age'].hist()"
      ],
      "execution_count": 9,
      "outputs": [
        {
          "output_type": "execute_result",
          "data": {
            "text/plain": [
              "<matplotlib.axes._subplots.AxesSubplot at 0x7f4d855b4390>"
            ]
          },
          "metadata": {
            "tags": []
          },
          "execution_count": 9
        },
        {
          "output_type": "display_data",
          "data": {
            "image/png": "[encoded data removed]",
            "text/plain": [
              "<Figure size 432x288 with 1 Axes>"
            ]
          },
          "metadata": {
            "tags": [],
            "needs_background": "light"
          }
        }
      ]
    },
    {
      "cell_type": "markdown",
      "metadata": {
        "id": "K105PK38SPou"
      },
      "source": [
        "The dataset seems to be pretty heavily skewed toward individuals in their 50s and 60s."
      ]
    },
    {
      "cell_type": "markdown",
      "metadata": {
        "id": "dSxDdJ1QSezo"
      },
      "source": [
        "There isn't a lot of actionable information from our analysis. We might want to stratify our data by sex when we train and test our model, but there are no data repairs that seem to need to be done.\n",
        "\n",
        "If you were building this model for a real world application, you would also want to ensure that the values in the numeric columns are realistic."
      ]
    },
    {
      "cell_type": "markdown",
      "metadata": {
        "id": "8GzJm-2mScy-"
      },
      "source": [
        "## The Model"
      ]
    },
    {
      "cell_type": "markdown",
      "metadata": {
        "id": "istg6urgS-Ke"
      },
      "source": [
        "Let's build and train our model. We'll build a deep neural network that takes our input features and returns a `0` if it predicts that the patient doesn't have heart disease and a `1` if it predicts that the patient does have heart disease."
      ]
    },
    {
      "cell_type": "markdown",
      "metadata": {
        "id": "3QM9AMMYTbQ7"
      },
      "source": [
        "First let's create a list of features to make coding easier."
      ]
    },
    {
      "cell_type": "code",
      "metadata": {
        "id": "0J_mhetHTn2s",
        "colab": {
          "base_uri": "https://localhost:8080/"
        },
        "outputId": "57b4cd37-8e7e-408e-85dd-aabbbb297623"
      },
      "source": [
        "FEATURES = df.columns.values[:-1]\n",
        "TARGET = df.columns.values[-1]\n",
        "\n",
        "FEATURES, TARGET"
      ],
      "execution_count": 10,
      "outputs": [
        {
          "output_type": "execute_result",
          "data": {
            "text/plain": [
              "(array(['age', 'sex', 'cp', 'trestbps', 'chol', 'fbs', 'restecg',\n",
              "        'thalach', 'exang', 'oldpeak', 'slope', 'ca', 'thal'], dtype=object),\n",
              " 'target')"
            ]
          },
          "metadata": {
            "tags": []
          },
          "execution_count": 10
        }
      ]
    },
    {
      "cell_type": "markdown",
      "metadata": {
        "id": "nZSZ94RVTrHv"
      },
      "source": [
        "We'll also want to normalize our feature data before feeding it into the model."
      ]
    },
    {
      "cell_type": "code",
      "metadata": {
        "id": "y3o_nvShTwKE",
        "colab": {
          "base_uri": "https://localhost:8080/",
          "height": 320
        },
        "outputId": "73be7f64-1034-4ae7-ed22-75126a384f43"
      },
      "source": [
        "df.loc[:, FEATURES] = ((df[FEATURES] - df[FEATURES].min()) / (df[FEATURES].max() - df[FEATURES].min()))\n",
        "\n",
        "df.describe()"
      ],
      "execution_count": 11,
      "outputs": [
        {
          "output_type": "execute_result",
          "data": {
            "text/html": [
              "<div>\n",
              "<style scoped>\n",
              "    .dataframe tbody tr th:only-of-type {\n",
              "        vertical-align: middle;\n",
              "    }\n",
              "\n",
              "    .dataframe tbody tr th {\n",
              "        vertical-align: top;\n",
              "    }\n",
              "\n",
              "    .dataframe thead th {\n",
              "        text-align: right;\n",
              "    }\n",
              "</style>\n",
              "<table border=\"1\" class=\"dataframe\">\n",
              "  <thead>\n",
              "    <tr style=\"text-align: right;\">\n",
              "      <th></th>\n",
              "      <th>age</th>\n",
              "      <th>sex</th>\n",
              "      <th>cp</th>\n",
              "      <th>trestbps</th>\n",
              "      <th>chol</th>\n",
              "      <th>fbs</th>\n",
              "      <th>restecg</th>\n",
              "      <th>thalach</th>\n",
              "      <th>exang</th>\n",
              "      <th>oldpeak</th>\n",
              "      <th>slope</th>\n",
              "      <th>ca</th>\n",
              "      <th>thal</th>\n",
              "      <th>target</th>\n",
              "    </tr>\n",
              "  </thead>\n",
              "  <tbody>\n",
              "    <tr>\n",
              "      <th>count</th>\n",
              "      <td>303.000000</td>\n",
              "      <td>303.000000</td>\n",
              "      <td>303.000000</td>\n",
              "      <td>303.000000</td>\n",
              "      <td>303.000000</td>\n",
              "      <td>303.000000</td>\n",
              "      <td>303.000000</td>\n",
              "      <td>303.000000</td>\n",
              "      <td>303.000000</td>\n",
              "      <td>303.000000</td>\n",
              "      <td>303.000000</td>\n",
              "      <td>303.000000</td>\n",
              "      <td>303.000000</td>\n",
              "      <td>303.000000</td>\n",
              "    </tr>\n",
              "    <tr>\n",
              "      <th>mean</th>\n",
              "      <td>0.528465</td>\n",
              "      <td>0.683168</td>\n",
              "      <td>0.322332</td>\n",
              "      <td>0.354941</td>\n",
              "      <td>0.274575</td>\n",
              "      <td>0.148515</td>\n",
              "      <td>0.264026</td>\n",
              "      <td>0.600358</td>\n",
              "      <td>0.326733</td>\n",
              "      <td>0.167678</td>\n",
              "      <td>0.699670</td>\n",
              "      <td>0.182343</td>\n",
              "      <td>0.771177</td>\n",
              "      <td>0.544554</td>\n",
              "    </tr>\n",
              "    <tr>\n",
              "      <th>std</th>\n",
              "      <td>0.189210</td>\n",
              "      <td>0.466011</td>\n",
              "      <td>0.344017</td>\n",
              "      <td>0.165454</td>\n",
              "      <td>0.118335</td>\n",
              "      <td>0.356198</td>\n",
              "      <td>0.262930</td>\n",
              "      <td>0.174849</td>\n",
              "      <td>0.469794</td>\n",
              "      <td>0.187270</td>\n",
              "      <td>0.308113</td>\n",
              "      <td>0.255652</td>\n",
              "      <td>0.204092</td>\n",
              "      <td>0.498835</td>\n",
              "    </tr>\n",
              "    <tr>\n",
              "      <th>min</th>\n",
              "      <td>0.000000</td>\n",
              "      <td>0.000000</td>\n",
              "      <td>0.000000</td>\n",
              "      <td>0.000000</td>\n",
              "      <td>0.000000</td>\n",
              "      <td>0.000000</td>\n",
              "      <td>0.000000</td>\n",
              "      <td>0.000000</td>\n",
              "      <td>0.000000</td>\n",
              "      <td>0.000000</td>\n",
              "      <td>0.000000</td>\n",
              "      <td>0.000000</td>\n",
              "      <td>0.000000</td>\n",
              "      <td>0.000000</td>\n",
              "    </tr>\n",
              "    <tr>\n",
              "      <th>25%</th>\n",
              "      <td>0.385417</td>\n",
              "      <td>0.000000</td>\n",
              "      <td>0.000000</td>\n",
              "      <td>0.245283</td>\n",
              "      <td>0.194064</td>\n",
              "      <td>0.000000</td>\n",
              "      <td>0.000000</td>\n",
              "      <td>0.477099</td>\n",
              "      <td>0.000000</td>\n",
              "      <td>0.000000</td>\n",
              "      <td>0.500000</td>\n",
              "      <td>0.000000</td>\n",
              "      <td>0.666667</td>\n",
              "      <td>0.000000</td>\n",
              "    </tr>\n",
              "    <tr>\n",
              "      <th>50%</th>\n",
              "      <td>0.541667</td>\n",
              "      <td>1.000000</td>\n",
              "      <td>0.333333</td>\n",
              "      <td>0.339623</td>\n",
              "      <td>0.260274</td>\n",
              "      <td>0.000000</td>\n",
              "      <td>0.500000</td>\n",
              "      <td>0.625954</td>\n",
              "      <td>0.000000</td>\n",
              "      <td>0.129032</td>\n",
              "      <td>0.500000</td>\n",
              "      <td>0.000000</td>\n",
              "      <td>0.666667</td>\n",
              "      <td>1.000000</td>\n",
              "    </tr>\n",
              "    <tr>\n",
              "      <th>75%</th>\n",
              "      <td>0.666667</td>\n",
              "      <td>1.000000</td>\n",
              "      <td>0.666667</td>\n",
              "      <td>0.433962</td>\n",
              "      <td>0.339041</td>\n",
              "      <td>0.000000</td>\n",
              "      <td>0.500000</td>\n",
              "      <td>0.725191</td>\n",
              "      <td>1.000000</td>\n",
              "      <td>0.258065</td>\n",
              "      <td>1.000000</td>\n",
              "      <td>0.250000</td>\n",
              "      <td>1.000000</td>\n",
              "      <td>1.000000</td>\n",
              "    </tr>\n",
              "    <tr>\n",
              "      <th>max</th>\n",
              "      <td>1.000000</td>\n",
              "      <td>1.000000</td>\n",
              "      <td>1.000000</td>\n",
              "      <td>1.000000</td>\n",
              "      <td>1.000000</td>\n",
              "      <td>1.000000</td>\n",
              "      <td>1.000000</td>\n",
              "      <td>1.000000</td>\n",
              "      <td>1.000000</td>\n",
              "      <td>1.000000</td>\n",
              "      <td>1.000000</td>\n",
              "      <td>1.000000</td>\n",
              "      <td>1.000000</td>\n",
              "      <td>1.000000</td>\n",
              "    </tr>\n",
              "  </tbody>\n",
              "</table>\n",
              "</div>"
            ],
            "text/plain": [
              "              age         sex          cp  ...          ca        thal      target\n",
              "count  303.000000  303.000000  303.000000  ...  303.000000  303.000000  303.000000\n",
              "mean     0.528465    0.683168    0.322332  ...    0.182343    0.771177    0.544554\n",
              "std      0.189210    0.466011    0.344017  ...    0.255652    0.204092    0.498835\n",
              "min      0.000000    0.000000    0.000000  ...    0.000000    0.000000    0.000000\n",
              "25%      0.385417    0.000000    0.000000  ...    0.000000    0.666667    0.000000\n",
              "50%      0.541667    1.000000    0.333333  ...    0.000000    0.666667    1.000000\n",
              "75%      0.666667    1.000000    0.666667  ...    0.250000    1.000000    1.000000\n",
              "max      1.000000    1.000000    1.000000  ...    1.000000    1.000000    1.000000\n",
              "\n",
              "[8 rows x 14 columns]"
            ]
          },
          "metadata": {
            "tags": []
          },
          "execution_count": 11
        }
      ]
    },
    {
      "cell_type": "markdown",
      "metadata": {
        "id": "TCtMxC49Ubev"
      },
      "source": [
        "We can also now split off a validation set from our data. Since we have so many more men than women in this dataset, we will stratify on sex."
      ]
    },
    {
      "cell_type": "code",
      "metadata": {
        "id": "putOqS6YUnu8",
        "colab": {
          "base_uri": "https://localhost:8080/"
        },
        "outputId": "35f60261-fa0d-43d3-a44a-772a02a0b84d"
      },
      "source": [
        "from sklearn.model_selection import train_test_split\n",
        "\n",
        "X_train, X_validate, y_train, y_validate = train_test_split(\n",
        "    df[FEATURES], df[TARGET], test_size=0.2, stratify=df['sex'])\n",
        "\n",
        "X_train.shape, X_validate.shape"
      ],
      "execution_count": 12,
      "outputs": [
        {
          "output_type": "execute_result",
          "data": {
            "text/plain": [
              "((242, 13), (61, 13))"
            ]
          },
          "metadata": {
            "tags": []
          },
          "execution_count": 12
        }
      ]
    },
    {
      "cell_type": "markdown",
      "metadata": {
        "id": "aEFNqxYjUF5h"
      },
      "source": [
        "We'll use the TensorFlow Keras [`Sequential`](https://www.tensorflow.org/api_docs/python/tf/keras/Sequential) model. The input size needs to be equal to the number of input features that we have. The output size needs to be 1 since we are predicting a yes/no value. The number and width of layers in between are an area for experimentation, as are the activation functions.\n",
        "\n",
        "We start with an initial hidden layer 64 nodes wide and funnel down to 32, 16, and finally, to the output layer of 1 node."
      ]
    },
    {
      "cell_type": "code",
      "metadata": {
        "id": "pnxd91YdczCy",
        "colab": {
          "base_uri": "https://localhost:8080/"
        },
        "outputId": "957e9024-cea5-4e2d-fc18-8bc5485b5648"
      },
      "source": [
        "import tensorflow as tf\n",
        "\n",
        "model = tf.keras.Sequential([\n",
        "    tf.keras.layers.Dense(64, activation=tf.nn.relu, \n",
        "                          input_shape=(FEATURES.size,)),\n",
        "    tf.keras.layers.Dense(32, activation=tf.nn.relu),\n",
        "    tf.keras.layers.Dense(16, activation=tf.nn.relu),\n",
        "    tf.keras.layers.Dense(1, activation=tf.nn.sigmoid)\n",
        "])\n",
        "\n",
        "model.summary()"
      ],
      "execution_count": 13,
      "outputs": [
        {
          "output_type": "stream",
          "text": [
            "Model: \"sequential\"\n",
            "_________________________________________________________________\n",
            "Layer (type)                 Output Shape              Param #   \n",
            "=================================================================\n",
            "dense (Dense)                (None, 64)                896       \n",
            "_________________________________________________________________\n",
            "dense_1 (Dense)              (None, 32)                2080      \n",
            "_________________________________________________________________\n",
            "dense_2 (Dense)              (None, 16)                528       \n",
            "_________________________________________________________________\n",
            "dense_3 (Dense)              (None, 1)                 17        \n",
            "=================================================================\n",
            "Total params: 3,521\n",
            "Trainable params: 3,521\n",
            "Non-trainable params: 0\n",
            "_________________________________________________________________\n"
          ],
          "name": "stdout"
        }
      ]
    },
    {
      "cell_type": "markdown",
      "metadata": {
        "id": "9ZZ6VUxUVhB9"
      },
      "source": [
        "We can now compile the model. We use 'binary_crossentropy' loss since this is a binary classification model."
      ]
    },
    {
      "cell_type": "code",
      "metadata": {
        "id": "adzz7_VFdFUk"
      },
      "source": [
        "model.compile(\n",
        "    loss='binary_crossentropy',\n",
        "    optimizer='Adam',\n",
        "    metrics=['accuracy']\n",
        ")"
      ],
      "execution_count": 14,
      "outputs": []
    },
    {
      "cell_type": "markdown",
      "metadata": {
        "id": "xE88mejaWUxt"
      },
      "source": [
        "And finally, we can actually fit the model. We'll start with a run of 500 training epochs. Once we are done, we'll print out the final accuracy the model achieved."
      ]
    },
    {
      "cell_type": "code",
      "metadata": {
        "id": "vdgB9wUmdL7V",
        "colab": {
          "base_uri": "https://localhost:8080/"
        },
        "outputId": "fb5ba16c-1c29-449c-fd35-9722619f9bf6"
      },
      "source": [
        "history = model.fit(X_train, y_train, epochs=500, verbose=1)\n",
        "\n",
        "history.history['accuracy'][-1]"
      ],
      "execution_count": 15,
      "outputs": [
        {
          "output_type": "stream",
          "text": [
            "Epoch 1/500\n",
            "8/8 [==============================] - 1s 2ms/step - loss: 0.6981 - accuracy: 0.4511\n",
            "Epoch 2/500\n",
            "8/8 [==============================] - 0s 2ms/step - loss: 0.6831 - accuracy: 0.6977\n",
            "Epoch 3/500\n",
            "8/8 [==============================] - 0s 2ms/step - loss: 0.6719 - accuracy: 0.6933\n",
            "Epoch 4/500\n",
            "8/8 [==============================] - 0s 2ms/step - loss: 0.6611 - accuracy: 0.7304\n",
            "Epoch 5/500\n",
            "8/8 [==============================] - 0s 2ms/step - loss: 0.6477 - accuracy: 0.7182\n",
            "Epoch 6/500\n",
            "8/8 [==============================] - 0s 2ms/step - loss: 0.6180 - accuracy: 0.7892\n",
            "Epoch 7/500\n",
            "8/8 [==============================] - 0s 2ms/step - loss: 0.5956 - accuracy: 0.7931\n",
            "Epoch 8/500\n",
            "8/8 [==============================] - 0s 2ms/step - loss: 0.5576 - accuracy: 0.8323\n",
            "Epoch 9/500\n",
            "8/8 [==============================] - 0s 2ms/step - loss: 0.5386 - accuracy: 0.8035\n",
            "Epoch 10/500\n",
            "8/8 [==============================] - 0s 2ms/step - loss: 0.5058 - accuracy: 0.7902\n",
            "Epoch 11/500\n",
            "8/8 [==============================] - 0s 2ms/step - loss: 0.4539 - accuracy: 0.8506\n",
            "Epoch 12/500\n",
            "8/8 [==============================] - 0s 2ms/step - loss: 0.4543 - accuracy: 0.8043\n",
            "Epoch 13/500\n",
            "8/8 [==============================] - 0s 2ms/step - loss: 0.4142 - accuracy: 0.8328\n",
            "Epoch 14/500\n",
            "8/8 [==============================] - 0s 2ms/step - loss: 0.4135 - accuracy: 0.8322\n",
            "Epoch 15/500\n",
            "8/8 [==============================] - 0s 2ms/step - loss: 0.4066 - accuracy: 0.8065\n",
            "Epoch 16/500\n",
            "8/8 [==============================] - 0s 2ms/step - loss: 0.3885 - accuracy: 0.8206\n",
            "Epoch 17/500\n",
            "8/8 [==============================] - 0s 2ms/step - loss: 0.3617 - accuracy: 0.8621\n",
            "Epoch 18/500\n",
            "8/8 [==============================] - 0s 2ms/step - loss: 0.3989 - accuracy: 0.8077\n",
            "Epoch 19/500\n",
            "8/8 [==============================] - 0s 2ms/step - loss: 0.3459 - accuracy: 0.8717\n",
            "Epoch 20/500\n",
            "8/8 [==============================] - 0s 3ms/step - loss: 0.3613 - accuracy: 0.8281\n",
            "Epoch 21/500\n",
            "8/8 [==============================] - 0s 2ms/step - loss: 0.3605 - accuracy: 0.8526\n",
            "Epoch 22/500\n",
            "8/8 [==============================] - 0s 2ms/step - loss: 0.3743 - accuracy: 0.8470\n",
            "Epoch 23/500\n",
            "8/8 [==============================] - 0s 2ms/step - loss: 0.3538 - accuracy: 0.8570\n",
            "Epoch 24/500\n",
            "8/8 [==============================] - 0s 2ms/step - loss: 0.3382 - accuracy: 0.8727\n",
            "Epoch 25/500\n",
            "8/8 [==============================] - 0s 2ms/step - loss: 0.4010 - accuracy: 0.8480\n",
            "Epoch 26/500\n",
            "8/8 [==============================] - 0s 2ms/step - loss: 0.3434 - accuracy: 0.8638\n",
            "Epoch 27/500\n",
            "8/8 [==============================] - 0s 2ms/step - loss: 0.3468 - accuracy: 0.8604\n",
            "Epoch 28/500\n",
            "8/8 [==============================] - 0s 2ms/step - loss: 0.3817 - accuracy: 0.8263\n",
            "Epoch 29/500\n",
            "8/8 [==============================] - 0s 2ms/step - loss: 0.3486 - accuracy: 0.8610\n",
            "Epoch 30/500\n",
            "8/8 [==============================] - 0s 3ms/step - loss: 0.3300 - accuracy: 0.8573\n",
            "Epoch 31/500\n",
            "8/8 [==============================] - 0s 2ms/step - loss: 0.3110 - accuracy: 0.8963\n",
            "Epoch 32/500\n",
            "8/8 [==============================] - 0s 2ms/step - loss: 0.3532 - accuracy: 0.8625\n",
            "Epoch 33/500\n",
            "8/8 [==============================] - 0s 2ms/step - loss: 0.3004 - accuracy: 0.8945\n",
            "Epoch 34/500\n",
            "8/8 [==============================] - 0s 2ms/step - loss: 0.3034 - accuracy: 0.8994\n",
            "Epoch 35/500\n",
            "8/8 [==============================] - 0s 2ms/step - loss: 0.3265 - accuracy: 0.8769\n",
            "Epoch 36/500\n",
            "8/8 [==============================] - 0s 2ms/step - loss: 0.3378 - accuracy: 0.8714\n",
            "Epoch 37/500\n",
            "8/8 [==============================] - 0s 2ms/step - loss: 0.3224 - accuracy: 0.8652\n",
            "Epoch 38/500\n",
            "8/8 [==============================] - 0s 3ms/step - loss: 0.2949 - accuracy: 0.8948\n",
            "Epoch 39/500\n",
            "8/8 [==============================] - 0s 2ms/step - loss: 0.2959 - accuracy: 0.8920\n",
            "Epoch 40/500\n",
            "8/8 [==============================] - 0s 2ms/step - loss: 0.3244 - accuracy: 0.8610\n",
            "Epoch 41/500\n",
            "8/8 [==============================] - 0s 2ms/step - loss: 0.2894 - accuracy: 0.8942\n",
            "Epoch 42/500\n",
            "8/8 [==============================] - 0s 2ms/step - loss: 0.3130 - accuracy: 0.8997\n",
            "Epoch 43/500\n",
            "8/8 [==============================] - 0s 2ms/step - loss: 0.2808 - accuracy: 0.8985\n",
            "Epoch 44/500\n",
            "8/8 [==============================] - 0s 2ms/step - loss: 0.2837 - accuracy: 0.9020\n",
            "Epoch 45/500\n",
            "8/8 [==============================] - 0s 2ms/step - loss: 0.3228 - accuracy: 0.8611\n",
            "Epoch 46/500\n",
            "8/8 [==============================] - 0s 3ms/step - loss: 0.2961 - accuracy: 0.8966\n",
            "Epoch 47/500\n",
            "8/8 [==============================] - 0s 2ms/step - loss: 0.2903 - accuracy: 0.8881\n",
            "Epoch 48/500\n",
            "8/8 [==============================] - 0s 2ms/step - loss: 0.2450 - accuracy: 0.9128\n",
            "Epoch 49/500\n",
            "8/8 [==============================] - 0s 2ms/step - loss: 0.2346 - accuracy: 0.9168\n",
            "Epoch 50/500\n",
            "8/8 [==============================] - 0s 2ms/step - loss: 0.2320 - accuracy: 0.9368\n",
            "Epoch 51/500\n",
            "8/8 [==============================] - 0s 2ms/step - loss: 0.2806 - accuracy: 0.8971\n",
            "Epoch 52/500\n",
            "8/8 [==============================] - 0s 2ms/step - loss: 0.2471 - accuracy: 0.9194\n",
            "Epoch 53/500\n",
            "8/8 [==============================] - 0s 2ms/step - loss: 0.2401 - accuracy: 0.9085\n",
            "Epoch 54/500\n",
            "8/8 [==============================] - 0s 2ms/step - loss: 0.2752 - accuracy: 0.8875\n",
            "Epoch 55/500\n",
            "8/8 [==============================] - 0s 2ms/step - loss: 0.2417 - accuracy: 0.8933\n",
            "Epoch 56/500\n",
            "8/8 [==============================] - 0s 2ms/step - loss: 0.2449 - accuracy: 0.9078\n",
            "Epoch 57/500\n",
            "8/8 [==============================] - 0s 2ms/step - loss: 0.2431 - accuracy: 0.9179\n",
            "Epoch 58/500\n",
            "8/8 [==============================] - 0s 2ms/step - loss: 0.2185 - accuracy: 0.9269\n",
            "Epoch 59/500\n",
            "8/8 [==============================] - 0s 2ms/step - loss: 0.2121 - accuracy: 0.9276\n",
            "Epoch 60/500\n",
            "8/8 [==============================] - 0s 2ms/step - loss: 0.2314 - accuracy: 0.9280\n",
            "Epoch 61/500\n",
            "8/8 [==============================] - 0s 2ms/step - loss: 0.2178 - accuracy: 0.9090\n",
            "Epoch 62/500\n",
            "8/8 [==============================] - 0s 2ms/step - loss: 0.2572 - accuracy: 0.9103\n",
            "Epoch 63/500\n",
            "8/8 [==============================] - 0s 2ms/step - loss: 0.2387 - accuracy: 0.9054\n",
            "Epoch 64/500\n",
            "8/8 [==============================] - 0s 3ms/step - loss: 0.2111 - accuracy: 0.9068\n",
            "Epoch 65/500\n",
            "8/8 [==============================] - 0s 2ms/step - loss: 0.2173 - accuracy: 0.9231\n",
            "Epoch 66/500\n",
            "8/8 [==============================] - 0s 3ms/step - loss: 0.1941 - accuracy: 0.9181\n",
            "Epoch 67/500\n",
            "8/8 [==============================] - 0s 2ms/step - loss: 0.1887 - accuracy: 0.9361\n",
            "Epoch 68/500\n",
            "8/8 [==============================] - 0s 2ms/step - loss: 0.2215 - accuracy: 0.9145\n",
            "Epoch 69/500\n",
            "8/8 [==============================] - 0s 2ms/step - loss: 0.1969 - accuracy: 0.9284\n",
            "Epoch 70/500\n",
            "8/8 [==============================] - 0s 3ms/step - loss: 0.1983 - accuracy: 0.9282\n",
            "Epoch 71/500\n",
            "8/8 [==============================] - 0s 2ms/step - loss: 0.1941 - accuracy: 0.9154\n",
            "Epoch 72/500\n",
            "8/8 [==============================] - 0s 3ms/step - loss: 0.1658 - accuracy: 0.9502\n",
            "Epoch 73/500\n",
            "8/8 [==============================] - 0s 3ms/step - loss: 0.1657 - accuracy: 0.9476\n",
            "Epoch 74/500\n",
            "8/8 [==============================] - 0s 2ms/step - loss: 0.1953 - accuracy: 0.9318\n",
            "Epoch 75/500\n",
            "8/8 [==============================] - 0s 3ms/step - loss: 0.1508 - accuracy: 0.9527\n",
            "Epoch 76/500\n",
            "8/8 [==============================] - 0s 2ms/step - loss: 0.1737 - accuracy: 0.9481\n",
            "Epoch 77/500\n",
            "8/8 [==============================] - 0s 2ms/step - loss: 0.1743 - accuracy: 0.9369\n",
            "Epoch 78/500\n",
            "8/8 [==============================] - 0s 2ms/step - loss: 0.1685 - accuracy: 0.9477\n",
            "Epoch 79/500\n",
            "8/8 [==============================] - 0s 3ms/step - loss: 0.1786 - accuracy: 0.9276\n",
            "Epoch 80/500\n",
            "8/8 [==============================] - 0s 2ms/step - loss: 0.1650 - accuracy: 0.9444\n",
            "Epoch 81/500\n",
            "8/8 [==============================] - 0s 2ms/step - loss: 0.1757 - accuracy: 0.9419\n",
            "Epoch 82/500\n",
            "8/8 [==============================] - 0s 2ms/step - loss: 0.1791 - accuracy: 0.9347\n",
            "Epoch 83/500\n",
            "8/8 [==============================] - 0s 2ms/step - loss: 0.1910 - accuracy: 0.9182\n",
            "Epoch 84/500\n",
            "8/8 [==============================] - 0s 2ms/step - loss: 0.1496 - accuracy: 0.9518\n",
            "Epoch 85/500\n",
            "8/8 [==============================] - 0s 2ms/step - loss: 0.1828 - accuracy: 0.9255\n",
            "Epoch 86/500\n",
            "8/8 [==============================] - 0s 2ms/step - loss: 0.1654 - accuracy: 0.9282\n",
            "Epoch 87/500\n",
            "8/8 [==============================] - 0s 2ms/step - loss: 0.1609 - accuracy: 0.9334\n",
            "Epoch 88/500\n",
            "8/8 [==============================] - 0s 2ms/step - loss: 0.1483 - accuracy: 0.9452\n",
            "Epoch 89/500\n",
            "8/8 [==============================] - 0s 2ms/step - loss: 0.1612 - accuracy: 0.9269\n",
            "Epoch 90/500\n",
            "8/8 [==============================] - 0s 2ms/step - loss: 0.1409 - accuracy: 0.9603\n",
            "Epoch 91/500\n",
            "8/8 [==============================] - 0s 2ms/step - loss: 0.1646 - accuracy: 0.9298\n",
            "Epoch 92/500\n",
            "8/8 [==============================] - 0s 2ms/step - loss: 0.1795 - accuracy: 0.9155\n",
            "Epoch 93/500\n",
            "8/8 [==============================] - 0s 2ms/step - loss: 0.1515 - accuracy: 0.9259\n",
            "Epoch 94/500\n",
            "8/8 [==============================] - 0s 3ms/step - loss: 0.1329 - accuracy: 0.9401\n",
            "Epoch 95/500\n",
            "8/8 [==============================] - 0s 2ms/step - loss: 0.1642 - accuracy: 0.9322\n",
            "Epoch 96/500\n",
            "8/8 [==============================] - 0s 2ms/step - loss: 0.1195 - accuracy: 0.9652\n",
            "Epoch 97/500\n",
            "8/8 [==============================] - 0s 2ms/step - loss: 0.1470 - accuracy: 0.9519\n",
            "Epoch 98/500\n",
            "8/8 [==============================] - 0s 2ms/step - loss: 0.1241 - accuracy: 0.9678\n",
            "Epoch 99/500\n",
            "8/8 [==============================] - 0s 2ms/step - loss: 0.1357 - accuracy: 0.9386\n",
            "Epoch 100/500\n",
            "8/8 [==============================] - 0s 2ms/step - loss: 0.1565 - accuracy: 0.9441\n",
            "Epoch 101/500\n",
            "8/8 [==============================] - 0s 2ms/step - loss: 0.1273 - accuracy: 0.9604\n",
            "Epoch 102/500\n",
            "8/8 [==============================] - 0s 2ms/step - loss: 0.1482 - accuracy: 0.9392\n",
            "Epoch 103/500\n",
            "8/8 [==============================] - 0s 2ms/step - loss: 0.1403 - accuracy: 0.9513\n",
            "Epoch 104/500\n",
            "8/8 [==============================] - 0s 3ms/step - loss: 0.1320 - accuracy: 0.9414\n",
            "Epoch 105/500\n",
            "8/8 [==============================] - 0s 2ms/step - loss: 0.1229 - accuracy: 0.9495\n",
            "Epoch 106/500\n",
            "8/8 [==============================] - 0s 2ms/step - loss: 0.1427 - accuracy: 0.9340\n",
            "Epoch 107/500\n",
            "8/8 [==============================] - 0s 3ms/step - loss: 0.1534 - accuracy: 0.9318\n",
            "Epoch 108/500\n",
            "8/8 [==============================] - 0s 2ms/step - loss: 0.1085 - accuracy: 0.9559\n",
            "Epoch 109/500\n",
            "8/8 [==============================] - 0s 2ms/step - loss: 0.1111 - accuracy: 0.9637\n",
            "Epoch 110/500\n",
            "8/8 [==============================] - 0s 2ms/step - loss: 0.1266 - accuracy: 0.9608\n",
            "Epoch 111/500\n",
            "8/8 [==============================] - 0s 3ms/step - loss: 0.1186 - accuracy: 0.9648\n",
            "Epoch 112/500\n",
            "8/8 [==============================] - 0s 2ms/step - loss: 0.0968 - accuracy: 0.9728\n",
            "Epoch 113/500\n",
            "8/8 [==============================] - 0s 3ms/step - loss: 0.1112 - accuracy: 0.9613\n",
            "Epoch 114/500\n",
            "8/8 [==============================] - 0s 2ms/step - loss: 0.1078 - accuracy: 0.9606\n",
            "Epoch 115/500\n",
            "8/8 [==============================] - 0s 3ms/step - loss: 0.1127 - accuracy: 0.9630\n",
            "Epoch 116/500\n",
            "8/8 [==============================] - 0s 2ms/step - loss: 0.0970 - accuracy: 0.9771\n",
            "Epoch 117/500\n",
            "8/8 [==============================] - 0s 3ms/step - loss: 0.1199 - accuracy: 0.9578\n",
            "Epoch 118/500\n",
            "8/8 [==============================] - 0s 2ms/step - loss: 0.0991 - accuracy: 0.9688\n",
            "Epoch 119/500\n",
            "8/8 [==============================] - 0s 2ms/step - loss: 0.0970 - accuracy: 0.9762\n",
            "Epoch 120/500\n",
            "8/8 [==============================] - 0s 2ms/step - loss: 0.1004 - accuracy: 0.9659\n",
            "Epoch 121/500\n",
            "8/8 [==============================] - 0s 2ms/step - loss: 0.1074 - accuracy: 0.9678\n",
            "Epoch 122/500\n",
            "8/8 [==============================] - 0s 2ms/step - loss: 0.0917 - accuracy: 0.9796\n",
            "Epoch 123/500\n",
            "8/8 [==============================] - 0s 2ms/step - loss: 0.0999 - accuracy: 0.9561\n",
            "Epoch 124/500\n",
            "8/8 [==============================] - 0s 2ms/step - loss: 0.1174 - accuracy: 0.9408\n",
            "Epoch 125/500\n",
            "8/8 [==============================] - 0s 2ms/step - loss: 0.1022 - accuracy: 0.9652\n",
            "Epoch 126/500\n",
            "8/8 [==============================] - 0s 2ms/step - loss: 0.0940 - accuracy: 0.9707\n",
            "Epoch 127/500\n",
            "8/8 [==============================] - 0s 2ms/step - loss: 0.0844 - accuracy: 0.9796\n",
            "Epoch 128/500\n",
            "8/8 [==============================] - 0s 2ms/step - loss: 0.0966 - accuracy: 0.9584\n",
            "Epoch 129/500\n",
            "8/8 [==============================] - 0s 2ms/step - loss: 0.1140 - accuracy: 0.9652\n",
            "Epoch 130/500\n",
            "8/8 [==============================] - 0s 3ms/step - loss: 0.0971 - accuracy: 0.9543\n",
            "Epoch 131/500\n",
            "8/8 [==============================] - 0s 2ms/step - loss: 0.0885 - accuracy: 0.9633\n",
            "Epoch 132/500\n",
            "8/8 [==============================] - 0s 2ms/step - loss: 0.0810 - accuracy: 0.9817\n",
            "Epoch 133/500\n",
            "8/8 [==============================] - 0s 2ms/step - loss: 0.0830 - accuracy: 0.9764\n",
            "Epoch 134/500\n",
            "8/8 [==============================] - 0s 3ms/step - loss: 0.0974 - accuracy: 0.9675\n",
            "Epoch 135/500\n",
            "8/8 [==============================] - 0s 2ms/step - loss: 0.0998 - accuracy: 0.9653\n",
            "Epoch 136/500\n",
            "8/8 [==============================] - 0s 2ms/step - loss: 0.0896 - accuracy: 0.9716\n",
            "Epoch 137/500\n",
            "8/8 [==============================] - 0s 2ms/step - loss: 0.0844 - accuracy: 0.9656\n",
            "Epoch 138/500\n",
            "8/8 [==============================] - 0s 2ms/step - loss: 0.0999 - accuracy: 0.9570\n",
            "Epoch 139/500\n",
            "8/8 [==============================] - 0s 2ms/step - loss: 0.0839 - accuracy: 0.9638\n",
            "Epoch 140/500\n",
            "8/8 [==============================] - 0s 2ms/step - loss: 0.0848 - accuracy: 0.9627\n",
            "Epoch 141/500\n",
            "8/8 [==============================] - 0s 2ms/step - loss: 0.0875 - accuracy: 0.9697\n",
            "Epoch 142/500\n",
            "8/8 [==============================] - 0s 2ms/step - loss: 0.0877 - accuracy: 0.9661\n",
            "Epoch 143/500\n",
            "8/8 [==============================] - 0s 2ms/step - loss: 0.0696 - accuracy: 0.9843\n",
            "Epoch 144/500\n",
            "8/8 [==============================] - 0s 2ms/step - loss: 0.0870 - accuracy: 0.9748\n",
            "Epoch 145/500\n",
            "8/8 [==============================] - 0s 2ms/step - loss: 0.0801 - accuracy: 0.9677\n",
            "Epoch 146/500\n",
            "8/8 [==============================] - 0s 2ms/step - loss: 0.0852 - accuracy: 0.9715\n",
            "Epoch 147/500\n",
            "8/8 [==============================] - 0s 2ms/step - loss: 0.0857 - accuracy: 0.9797\n",
            "Epoch 148/500\n",
            "8/8 [==============================] - 0s 3ms/step - loss: 0.0791 - accuracy: 0.9719\n",
            "Epoch 149/500\n",
            "8/8 [==============================] - 0s 3ms/step - loss: 0.0697 - accuracy: 0.9714\n",
            "Epoch 150/500\n",
            "8/8 [==============================] - 0s 2ms/step - loss: 0.0709 - accuracy: 0.9834\n",
            "Epoch 151/500\n",
            "8/8 [==============================] - 0s 2ms/step - loss: 0.0918 - accuracy: 0.9613\n",
            "Epoch 152/500\n",
            "8/8 [==============================] - 0s 2ms/step - loss: 0.0614 - accuracy: 0.9872\n",
            "Epoch 153/500\n",
            "8/8 [==============================] - 0s 2ms/step - loss: 0.0752 - accuracy: 0.9750\n",
            "Epoch 154/500\n",
            "8/8 [==============================] - 0s 2ms/step - loss: 0.0679 - accuracy: 0.9793\n",
            "Epoch 155/500\n",
            "8/8 [==============================] - 0s 2ms/step - loss: 0.0751 - accuracy: 0.9686\n",
            "Epoch 156/500\n",
            "8/8 [==============================] - 0s 3ms/step - loss: 0.0666 - accuracy: 0.9815\n",
            "Epoch 157/500\n",
            "8/8 [==============================] - 0s 2ms/step - loss: 0.0676 - accuracy: 0.9918\n",
            "Epoch 158/500\n",
            "8/8 [==============================] - 0s 2ms/step - loss: 0.0684 - accuracy: 0.9748\n",
            "Epoch 159/500\n",
            "8/8 [==============================] - 0s 2ms/step - loss: 0.0613 - accuracy: 0.9880\n",
            "Epoch 160/500\n",
            "8/8 [==============================] - 0s 2ms/step - loss: 0.0655 - accuracy: 0.9804\n",
            "Epoch 161/500\n",
            "8/8 [==============================] - 0s 2ms/step - loss: 0.0685 - accuracy: 0.9748\n",
            "Epoch 162/500\n",
            "8/8 [==============================] - 0s 3ms/step - loss: 0.0561 - accuracy: 0.9860\n",
            "Epoch 163/500\n",
            "8/8 [==============================] - 0s 3ms/step - loss: 0.0575 - accuracy: 0.9767\n",
            "Epoch 164/500\n",
            "8/8 [==============================] - 0s 2ms/step - loss: 0.0610 - accuracy: 0.9710\n",
            "Epoch 165/500\n",
            "8/8 [==============================] - 0s 2ms/step - loss: 0.0604 - accuracy: 0.9834\n",
            "Epoch 166/500\n",
            "8/8 [==============================] - 0s 2ms/step - loss: 0.0631 - accuracy: 0.9678\n",
            "Epoch 167/500\n",
            "8/8 [==============================] - 0s 3ms/step - loss: 0.0550 - accuracy: 0.9914\n",
            "Epoch 168/500\n",
            "8/8 [==============================] - 0s 3ms/step - loss: 0.0674 - accuracy: 0.9678\n",
            "Epoch 169/500\n",
            "8/8 [==============================] - 0s 3ms/step - loss: 0.0737 - accuracy: 0.9793\n",
            "Epoch 170/500\n",
            "8/8 [==============================] - 0s 2ms/step - loss: 0.0753 - accuracy: 0.9721\n",
            "Epoch 171/500\n",
            "8/8 [==============================] - 0s 2ms/step - loss: 0.0614 - accuracy: 0.9892\n",
            "Epoch 172/500\n",
            "8/8 [==============================] - 0s 2ms/step - loss: 0.0491 - accuracy: 0.9815\n",
            "Epoch 173/500\n",
            "8/8 [==============================] - 0s 2ms/step - loss: 0.0552 - accuracy: 0.9841\n",
            "Epoch 174/500\n",
            "8/8 [==============================] - 0s 3ms/step - loss: 0.0566 - accuracy: 0.9807\n",
            "Epoch 175/500\n",
            "8/8 [==============================] - 0s 3ms/step - loss: 0.0489 - accuracy: 0.9766\n",
            "Epoch 176/500\n",
            "8/8 [==============================] - 0s 2ms/step - loss: 0.0455 - accuracy: 0.9892\n",
            "Epoch 177/500\n",
            "8/8 [==============================] - 0s 2ms/step - loss: 0.0628 - accuracy: 0.9748\n",
            "Epoch 178/500\n",
            "8/8 [==============================] - 0s 3ms/step - loss: 0.0498 - accuracy: 0.9801\n",
            "Epoch 179/500\n",
            "8/8 [==============================] - 0s 2ms/step - loss: 0.0441 - accuracy: 0.9818\n",
            "Epoch 180/500\n",
            "8/8 [==============================] - 0s 2ms/step - loss: 0.0470 - accuracy: 0.9894\n",
            "Epoch 181/500\n",
            "8/8 [==============================] - 0s 2ms/step - loss: 0.0448 - accuracy: 0.9890\n",
            "Epoch 182/500\n",
            "8/8 [==============================] - 0s 2ms/step - loss: 0.0495 - accuracy: 0.9919\n",
            "Epoch 183/500\n",
            "8/8 [==============================] - 0s 2ms/step - loss: 0.0502 - accuracy: 0.9897\n",
            "Epoch 184/500\n",
            "8/8 [==============================] - 0s 4ms/step - loss: 0.0438 - accuracy: 0.9837\n",
            "Epoch 185/500\n",
            "8/8 [==============================] - 0s 2ms/step - loss: 0.0561 - accuracy: 0.9807\n",
            "Epoch 186/500\n",
            "8/8 [==============================] - 0s 2ms/step - loss: 0.0396 - accuracy: 0.9909\n",
            "Epoch 187/500\n",
            "8/8 [==============================] - 0s 2ms/step - loss: 0.0430 - accuracy: 0.9834\n",
            "Epoch 188/500\n",
            "8/8 [==============================] - 0s 2ms/step - loss: 0.0532 - accuracy: 0.9883\n",
            "Epoch 189/500\n",
            "8/8 [==============================] - 0s 2ms/step - loss: 0.0499 - accuracy: 0.9758\n",
            "Epoch 190/500\n",
            "8/8 [==============================] - 0s 2ms/step - loss: 0.0394 - accuracy: 0.9941\n",
            "Epoch 191/500\n",
            "8/8 [==============================] - 0s 2ms/step - loss: 0.0492 - accuracy: 0.9847\n",
            "Epoch 192/500\n",
            "8/8 [==============================] - 0s 2ms/step - loss: 0.0392 - accuracy: 0.9897\n",
            "Epoch 193/500\n",
            "8/8 [==============================] - 0s 2ms/step - loss: 0.0305 - accuracy: 0.9939\n",
            "Epoch 194/500\n",
            "8/8 [==============================] - 0s 2ms/step - loss: 0.0397 - accuracy: 0.9882\n",
            "Epoch 195/500\n",
            "8/8 [==============================] - 0s 2ms/step - loss: 0.0322 - accuracy: 0.9963\n",
            "Epoch 196/500\n",
            "8/8 [==============================] - 0s 2ms/step - loss: 0.0819 - accuracy: 0.9688\n",
            "Epoch 197/500\n",
            "8/8 [==============================] - 0s 3ms/step - loss: 0.0611 - accuracy: 0.9822\n",
            "Epoch 198/500\n",
            "8/8 [==============================] - 0s 2ms/step - loss: 0.0494 - accuracy: 0.9831\n",
            "Epoch 199/500\n",
            "8/8 [==============================] - 0s 2ms/step - loss: 0.0396 - accuracy: 0.9877\n",
            "Epoch 200/500\n",
            "8/8 [==============================] - 0s 2ms/step - loss: 0.0373 - accuracy: 0.9906\n",
            "Epoch 201/500\n",
            "8/8 [==============================] - 0s 2ms/step - loss: 0.0413 - accuracy: 0.9853\n",
            "Epoch 202/500\n",
            "8/8 [==============================] - 0s 4ms/step - loss: 0.0490 - accuracy: 0.9735\n",
            "Epoch 203/500\n",
            "8/8 [==============================] - 0s 2ms/step - loss: 0.0371 - accuracy: 0.9972\n",
            "Epoch 204/500\n",
            "8/8 [==============================] - 0s 3ms/step - loss: 0.0290 - accuracy: 0.9977\n",
            "Epoch 205/500\n",
            "8/8 [==============================] - 0s 3ms/step - loss: 0.0350 - accuracy: 0.9921\n",
            "Epoch 206/500\n",
            "8/8 [==============================] - 0s 2ms/step - loss: 0.0331 - accuracy: 0.9900\n",
            "Epoch 207/500\n",
            "8/8 [==============================] - 0s 2ms/step - loss: 0.0296 - accuracy: 0.9980\n",
            "Epoch 208/500\n",
            "8/8 [==============================] - 0s 2ms/step - loss: 0.0319 - accuracy: 0.9936\n",
            "Epoch 209/500\n",
            "8/8 [==============================] - 0s 2ms/step - loss: 0.0343 - accuracy: 1.0000\n",
            "Epoch 210/500\n",
            "8/8 [==============================] - 0s 2ms/step - loss: 0.0345 - accuracy: 0.9980\n",
            "Epoch 211/500\n",
            "8/8 [==============================] - 0s 3ms/step - loss: 0.0323 - accuracy: 0.9939\n",
            "Epoch 212/500\n",
            "8/8 [==============================] - 0s 2ms/step - loss: 0.0270 - accuracy: 0.9930\n",
            "Epoch 213/500\n",
            "8/8 [==============================] - 0s 3ms/step - loss: 0.0332 - accuracy: 0.9889\n",
            "Epoch 214/500\n",
            "8/8 [==============================] - 0s 2ms/step - loss: 0.0287 - accuracy: 0.9980\n",
            "Epoch 215/500\n",
            "8/8 [==============================] - 0s 2ms/step - loss: 0.0261 - accuracy: 0.9991\n",
            "Epoch 216/500\n",
            "8/8 [==============================] - 0s 2ms/step - loss: 0.0323 - accuracy: 0.9892\n",
            "Epoch 217/500\n",
            "8/8 [==============================] - 0s 2ms/step - loss: 0.0311 - accuracy: 0.9926\n",
            "Epoch 218/500\n",
            "8/8 [==============================] - 0s 3ms/step - loss: 0.0320 - accuracy: 0.9882\n",
            "Epoch 219/500\n",
            "8/8 [==============================] - 0s 2ms/step - loss: 0.0297 - accuracy: 0.9986\n",
            "Epoch 220/500\n",
            "8/8 [==============================] - 0s 2ms/step - loss: 0.0273 - accuracy: 0.9945\n",
            "Epoch 221/500\n",
            "8/8 [==============================] - 0s 2ms/step - loss: 0.0265 - accuracy: 0.9991\n",
            "Epoch 222/500\n",
            "8/8 [==============================] - 0s 3ms/step - loss: 0.0276 - accuracy: 0.9986\n",
            "Epoch 223/500\n",
            "8/8 [==============================] - 0s 2ms/step - loss: 0.0298 - accuracy: 1.0000\n",
            "Epoch 224/500\n",
            "8/8 [==============================] - 0s 2ms/step - loss: 0.0273 - accuracy: 0.9980\n",
            "Epoch 225/500\n",
            "8/8 [==============================] - 0s 2ms/step - loss: 0.0268 - accuracy: 0.9925\n",
            "Epoch 226/500\n",
            "8/8 [==============================] - 0s 2ms/step - loss: 0.0335 - accuracy: 1.0000\n",
            "Epoch 227/500\n",
            "8/8 [==============================] - 0s 2ms/step - loss: 0.0258 - accuracy: 0.9966\n",
            "Epoch 228/500\n",
            "8/8 [==============================] - 0s 2ms/step - loss: 0.0242 - accuracy: 1.0000\n",
            "Epoch 229/500\n",
            "8/8 [==============================] - 0s 2ms/step - loss: 0.0203 - accuracy: 1.0000\n",
            "Epoch 230/500\n",
            "8/8 [==============================] - 0s 2ms/step - loss: 0.0233 - accuracy: 0.9980\n",
            "Epoch 231/500\n",
            "8/8 [==============================] - 0s 2ms/step - loss: 0.0264 - accuracy: 1.0000\n",
            "Epoch 232/500\n",
            "8/8 [==============================] - 0s 3ms/step - loss: 0.0213 - accuracy: 1.0000\n",
            "Epoch 233/500\n",
            "8/8 [==============================] - 0s 3ms/step - loss: 0.0222 - accuracy: 1.0000\n",
            "Epoch 234/500\n",
            "8/8 [==============================] - 0s 2ms/step - loss: 0.0184 - accuracy: 0.9986\n",
            "Epoch 235/500\n",
            "8/8 [==============================] - 0s 2ms/step - loss: 0.0316 - accuracy: 0.9938\n",
            "Epoch 236/500\n",
            "8/8 [==============================] - 0s 3ms/step - loss: 0.0197 - accuracy: 1.0000\n",
            "Epoch 237/500\n",
            "8/8 [==============================] - 0s 3ms/step - loss: 0.0244 - accuracy: 0.9964\n",
            "Epoch 238/500\n",
            "8/8 [==============================] - 0s 4ms/step - loss: 0.0189 - accuracy: 1.0000\n",
            "Epoch 239/500\n",
            "8/8 [==============================] - 0s 2ms/step - loss: 0.0165 - accuracy: 1.0000\n",
            "Epoch 240/500\n",
            "8/8 [==============================] - 0s 3ms/step - loss: 0.0183 - accuracy: 1.0000\n",
            "Epoch 241/500\n",
            "8/8 [==============================] - 0s 3ms/step - loss: 0.0233 - accuracy: 0.9986\n",
            "Epoch 242/500\n",
            "8/8 [==============================] - 0s 3ms/step - loss: 0.0220 - accuracy: 0.9986\n",
            "Epoch 243/500\n",
            "8/8 [==============================] - 0s 2ms/step - loss: 0.0240 - accuracy: 0.9980\n",
            "Epoch 244/500\n",
            "8/8 [==============================] - 0s 2ms/step - loss: 0.0197 - accuracy: 0.9973\n",
            "Epoch 245/500\n",
            "8/8 [==============================] - 0s 2ms/step - loss: 0.0243 - accuracy: 0.9973\n",
            "Epoch 246/500\n",
            "8/8 [==============================] - 0s 2ms/step - loss: 0.0174 - accuracy: 0.9986\n",
            "Epoch 247/500\n",
            "8/8 [==============================] - 0s 2ms/step - loss: 0.0186 - accuracy: 1.0000\n",
            "Epoch 248/500\n",
            "8/8 [==============================] - 0s 2ms/step - loss: 0.0226 - accuracy: 0.9964\n",
            "Epoch 249/500\n",
            "8/8 [==============================] - 0s 2ms/step - loss: 0.0245 - accuracy: 0.9964\n",
            "Epoch 250/500\n",
            "8/8 [==============================] - 0s 2ms/step - loss: 0.0182 - accuracy: 1.0000\n",
            "Epoch 251/500\n",
            "8/8 [==============================] - 0s 3ms/step - loss: 0.0195 - accuracy: 1.0000\n",
            "Epoch 252/500\n",
            "8/8 [==============================] - 0s 2ms/step - loss: 0.0225 - accuracy: 1.0000\n",
            "Epoch 253/500\n",
            "8/8 [==============================] - 0s 2ms/step - loss: 0.0203 - accuracy: 1.0000\n",
            "Epoch 254/500\n",
            "8/8 [==============================] - 0s 2ms/step - loss: 0.0172 - accuracy: 1.0000\n",
            "Epoch 255/500\n",
            "8/8 [==============================] - 0s 3ms/step - loss: 0.0175 - accuracy: 1.0000\n",
            "Epoch 256/500\n",
            "8/8 [==============================] - 0s 3ms/step - loss: 0.0155 - accuracy: 0.9980\n",
            "Epoch 257/500\n",
            "8/8 [==============================] - 0s 3ms/step - loss: 0.0220 - accuracy: 1.0000\n",
            "Epoch 258/500\n",
            "8/8 [==============================] - 0s 2ms/step - loss: 0.0186 - accuracy: 1.0000\n",
            "Epoch 259/500\n",
            "8/8 [==============================] - 0s 2ms/step - loss: 0.0162 - accuracy: 1.0000\n",
            "Epoch 260/500\n",
            "8/8 [==============================] - 0s 2ms/step - loss: 0.0197 - accuracy: 1.0000\n",
            "Epoch 261/500\n",
            "8/8 [==============================] - 0s 3ms/step - loss: 0.0151 - accuracy: 1.0000\n",
            "Epoch 262/500\n",
            "8/8 [==============================] - 0s 2ms/step - loss: 0.0169 - accuracy: 0.9980\n",
            "Epoch 263/500\n",
            "8/8 [==============================] - 0s 2ms/step - loss: 0.0146 - accuracy: 1.0000\n",
            "Epoch 264/500\n",
            "8/8 [==============================] - 0s 2ms/step - loss: 0.0138 - accuracy: 1.0000\n",
            "Epoch 265/500\n",
            "8/8 [==============================] - 0s 2ms/step - loss: 0.0221 - accuracy: 0.9953\n",
            "Epoch 266/500\n",
            "8/8 [==============================] - 0s 3ms/step - loss: 0.0186 - accuracy: 0.9946\n",
            "Epoch 267/500\n",
            "8/8 [==============================] - 0s 2ms/step - loss: 0.0161 - accuracy: 0.9953\n",
            "Epoch 268/500\n",
            "8/8 [==============================] - 0s 2ms/step - loss: 0.0157 - accuracy: 0.9966\n",
            "Epoch 269/500\n",
            "8/8 [==============================] - 0s 2ms/step - loss: 0.0177 - accuracy: 0.9991\n",
            "Epoch 270/500\n",
            "8/8 [==============================] - 0s 2ms/step - loss: 0.0225 - accuracy: 0.9973\n",
            "Epoch 271/500\n",
            "8/8 [==============================] - 0s 2ms/step - loss: 0.0266 - accuracy: 0.9916\n",
            "Epoch 272/500\n",
            "8/8 [==============================] - 0s 3ms/step - loss: 0.0255 - accuracy: 0.9991\n",
            "Epoch 273/500\n",
            "8/8 [==============================] - 0s 2ms/step - loss: 0.0218 - accuracy: 0.9991\n",
            "Epoch 274/500\n",
            "8/8 [==============================] - 0s 2ms/step - loss: 0.0189 - accuracy: 0.9980\n",
            "Epoch 275/500\n",
            "8/8 [==============================] - 0s 3ms/step - loss: 0.0132 - accuracy: 0.9973\n",
            "Epoch 276/500\n",
            "8/8 [==============================] - 0s 3ms/step - loss: 0.0157 - accuracy: 1.0000\n",
            "Epoch 277/500\n",
            "8/8 [==============================] - 0s 2ms/step - loss: 0.0147 - accuracy: 1.0000\n",
            "Epoch 278/500\n",
            "8/8 [==============================] - 0s 3ms/step - loss: 0.0155 - accuracy: 1.0000\n",
            "Epoch 279/500\n",
            "8/8 [==============================] - 0s 3ms/step - loss: 0.0112 - accuracy: 1.0000\n",
            "Epoch 280/500\n",
            "8/8 [==============================] - 0s 3ms/step - loss: 0.0110 - accuracy: 1.0000\n",
            "Epoch 281/500\n",
            "8/8 [==============================] - 0s 2ms/step - loss: 0.0127 - accuracy: 1.0000\n",
            "Epoch 282/500\n",
            "8/8 [==============================] - 0s 2ms/step - loss: 0.0103 - accuracy: 1.0000\n",
            "Epoch 283/500\n",
            "8/8 [==============================] - 0s 2ms/step - loss: 0.0096 - accuracy: 1.0000\n",
            "Epoch 284/500\n",
            "8/8 [==============================] - 0s 2ms/step - loss: 0.0091 - accuracy: 1.0000\n",
            "Epoch 285/500\n",
            "8/8 [==============================] - 0s 2ms/step - loss: 0.0083 - accuracy: 1.0000\n",
            "Epoch 286/500\n",
            "8/8 [==============================] - 0s 2ms/step - loss: 0.0095 - accuracy: 1.0000\n",
            "Epoch 287/500\n",
            "8/8 [==============================] - 0s 2ms/step - loss: 0.0097 - accuracy: 1.0000\n",
            "Epoch 288/500\n",
            "8/8 [==============================] - 0s 2ms/step - loss: 0.0105 - accuracy: 1.0000\n",
            "Epoch 289/500\n",
            "8/8 [==============================] - 0s 3ms/step - loss: 0.0083 - accuracy: 1.0000\n",
            "Epoch 290/500\n",
            "8/8 [==============================] - 0s 2ms/step - loss: 0.0093 - accuracy: 1.0000\n",
            "Epoch 291/500\n",
            "8/8 [==============================] - 0s 2ms/step - loss: 0.0076 - accuracy: 1.0000\n",
            "Epoch 292/500\n",
            "8/8 [==============================] - 0s 2ms/step - loss: 0.0101 - accuracy: 1.0000\n",
            "Epoch 293/500\n",
            "8/8 [==============================] - 0s 2ms/step - loss: 0.0092 - accuracy: 1.0000\n",
            "Epoch 294/500\n",
            "8/8 [==============================] - 0s 2ms/step - loss: 0.0082 - accuracy: 1.0000\n",
            "Epoch 295/500\n",
            "8/8 [==============================] - 0s 3ms/step - loss: 0.0080 - accuracy: 1.0000\n",
            "Epoch 296/500\n",
            "8/8 [==============================] - 0s 3ms/step - loss: 0.0105 - accuracy: 1.0000\n",
            "Epoch 297/500\n",
            "8/8 [==============================] - 0s 3ms/step - loss: 0.0099 - accuracy: 1.0000\n",
            "Epoch 298/500\n",
            "8/8 [==============================] - 0s 3ms/step - loss: 0.0079 - accuracy: 1.0000\n",
            "Epoch 299/500\n",
            "8/8 [==============================] - 0s 3ms/step - loss: 0.0072 - accuracy: 1.0000\n",
            "Epoch 300/500\n",
            "8/8 [==============================] - 0s 2ms/step - loss: 0.0081 - accuracy: 1.0000\n",
            "Epoch 301/500\n",
            "8/8 [==============================] - 0s 2ms/step - loss: 0.0084 - accuracy: 1.0000\n",
            "Epoch 302/500\n",
            "8/8 [==============================] - 0s 2ms/step - loss: 0.0088 - accuracy: 1.0000\n",
            "Epoch 303/500\n",
            "8/8 [==============================] - 0s 2ms/step - loss: 0.0084 - accuracy: 1.0000\n",
            "Epoch 304/500\n",
            "8/8 [==============================] - 0s 2ms/step - loss: 0.0069 - accuracy: 1.0000\n",
            "Epoch 305/500\n",
            "8/8 [==============================] - 0s 3ms/step - loss: 0.0100 - accuracy: 1.0000\n",
            "Epoch 306/500\n",
            "8/8 [==============================] - 0s 2ms/step - loss: 0.0081 - accuracy: 1.0000\n",
            "Epoch 307/500\n",
            "8/8 [==============================] - 0s 2ms/step - loss: 0.0090 - accuracy: 1.0000\n",
            "Epoch 308/500\n",
            "8/8 [==============================] - 0s 3ms/step - loss: 0.0059 - accuracy: 1.0000\n",
            "Epoch 309/500\n",
            "8/8 [==============================] - 0s 2ms/step - loss: 0.0061 - accuracy: 1.0000\n",
            "Epoch 310/500\n",
            "8/8 [==============================] - 0s 2ms/step - loss: 0.0078 - accuracy: 1.0000\n",
            "Epoch 311/500\n",
            "8/8 [==============================] - 0s 2ms/step - loss: 0.0073 - accuracy: 1.0000\n",
            "Epoch 312/500\n",
            "8/8 [==============================] - 0s 2ms/step - loss: 0.0078 - accuracy: 1.0000\n",
            "Epoch 313/500\n",
            "8/8 [==============================] - 0s 2ms/step - loss: 0.0057 - accuracy: 1.0000\n",
            "Epoch 314/500\n",
            "8/8 [==============================] - 0s 3ms/step - loss: 0.0063 - accuracy: 1.0000\n",
            "Epoch 315/500\n",
            "8/8 [==============================] - 0s 3ms/step - loss: 0.0086 - accuracy: 1.0000\n",
            "Epoch 316/500\n",
            "8/8 [==============================] - 0s 3ms/step - loss: 0.0062 - accuracy: 1.0000\n",
            "Epoch 317/500\n",
            "8/8 [==============================] - 0s 2ms/step - loss: 0.0076 - accuracy: 1.0000\n",
            "Epoch 318/500\n",
            "8/8 [==============================] - 0s 4ms/step - loss: 0.0081 - accuracy: 1.0000\n",
            "Epoch 319/500\n",
            "8/8 [==============================] - 0s 2ms/step - loss: 0.0056 - accuracy: 1.0000\n",
            "Epoch 320/500\n",
            "8/8 [==============================] - 0s 3ms/step - loss: 0.0061 - accuracy: 1.0000\n",
            "Epoch 321/500\n",
            "8/8 [==============================] - 0s 3ms/step - loss: 0.0057 - accuracy: 1.0000\n",
            "Epoch 322/500\n",
            "8/8 [==============================] - 0s 3ms/step - loss: 0.0053 - accuracy: 1.0000\n",
            "Epoch 323/500\n",
            "8/8 [==============================] - 0s 2ms/step - loss: 0.0059 - accuracy: 1.0000\n",
            "Epoch 324/500\n",
            "8/8 [==============================] - 0s 2ms/step - loss: 0.0067 - accuracy: 1.0000\n",
            "Epoch 325/500\n",
            "8/8 [==============================] - 0s 3ms/step - loss: 0.0058 - accuracy: 1.0000\n",
            "Epoch 326/500\n",
            "8/8 [==============================] - 0s 2ms/step - loss: 0.0049 - accuracy: 1.0000\n",
            "Epoch 327/500\n",
            "8/8 [==============================] - 0s 3ms/step - loss: 0.0058 - accuracy: 1.0000\n",
            "Epoch 328/500\n",
            "8/8 [==============================] - 0s 2ms/step - loss: 0.0055 - accuracy: 1.0000\n",
            "Epoch 329/500\n",
            "8/8 [==============================] - 0s 2ms/step - loss: 0.0068 - accuracy: 1.0000\n",
            "Epoch 330/500\n",
            "8/8 [==============================] - 0s 2ms/step - loss: 0.0063 - accuracy: 1.0000\n",
            "Epoch 331/500\n",
            "8/8 [==============================] - 0s 2ms/step - loss: 0.0055 - accuracy: 1.0000\n",
            "Epoch 332/500\n",
            "8/8 [==============================] - 0s 2ms/step - loss: 0.0062 - accuracy: 1.0000\n",
            "Epoch 333/500\n",
            "8/8 [==============================] - 0s 2ms/step - loss: 0.0059 - accuracy: 1.0000\n",
            "Epoch 334/500\n",
            "8/8 [==============================] - 0s 2ms/step - loss: 0.0058 - accuracy: 1.0000\n",
            "Epoch 335/500\n",
            "8/8 [==============================] - 0s 3ms/step - loss: 0.0061 - accuracy: 1.0000\n",
            "Epoch 336/500\n",
            "8/8 [==============================] - 0s 2ms/step - loss: 0.0051 - accuracy: 1.0000\n",
            "Epoch 337/500\n",
            "8/8 [==============================] - 0s 2ms/step - loss: 0.0045 - accuracy: 1.0000\n",
            "Epoch 338/500\n",
            "8/8 [==============================] - 0s 3ms/step - loss: 0.0062 - accuracy: 1.0000\n",
            "Epoch 339/500\n",
            "8/8 [==============================] - 0s 2ms/step - loss: 0.0052 - accuracy: 1.0000\n",
            "Epoch 340/500\n",
            "8/8 [==============================] - 0s 2ms/step - loss: 0.0048 - accuracy: 1.0000\n",
            "Epoch 341/500\n",
            "8/8 [==============================] - 0s 3ms/step - loss: 0.0052 - accuracy: 1.0000\n",
            "Epoch 342/500\n",
            "8/8 [==============================] - 0s 3ms/step - loss: 0.0047 - accuracy: 1.0000\n",
            "Epoch 343/500\n",
            "8/8 [==============================] - 0s 2ms/step - loss: 0.0050 - accuracy: 1.0000\n",
            "Epoch 344/500\n",
            "8/8 [==============================] - 0s 2ms/step - loss: 0.0050 - accuracy: 1.0000\n",
            "Epoch 345/500\n",
            "8/8 [==============================] - 0s 2ms/step - loss: 0.0046 - accuracy: 1.0000\n",
            "Epoch 346/500\n",
            "8/8 [==============================] - 0s 2ms/step - loss: 0.0052 - accuracy: 1.0000\n",
            "Epoch 347/500\n",
            "8/8 [==============================] - 0s 3ms/step - loss: 0.0054 - accuracy: 1.0000\n",
            "Epoch 348/500\n",
            "8/8 [==============================] - 0s 2ms/step - loss: 0.0058 - accuracy: 1.0000\n",
            "Epoch 349/500\n",
            "8/8 [==============================] - 0s 2ms/step - loss: 0.0047 - accuracy: 1.0000\n",
            "Epoch 350/500\n",
            "8/8 [==============================] - 0s 2ms/step - loss: 0.0047 - accuracy: 1.0000\n",
            "Epoch 351/500\n",
            "8/8 [==============================] - 0s 3ms/step - loss: 0.0055 - accuracy: 1.0000\n",
            "Epoch 352/500\n",
            "8/8 [==============================] - 0s 3ms/step - loss: 0.0041 - accuracy: 1.0000\n",
            "Epoch 353/500\n",
            "8/8 [==============================] - 0s 3ms/step - loss: 0.0053 - accuracy: 1.0000\n",
            "Epoch 354/500\n",
            "8/8 [==============================] - 0s 2ms/step - loss: 0.0041 - accuracy: 1.0000\n",
            "Epoch 355/500\n",
            "8/8 [==============================] - 0s 3ms/step - loss: 0.0047 - accuracy: 1.0000\n",
            "Epoch 356/500\n",
            "8/8 [==============================] - 0s 3ms/step - loss: 0.0036 - accuracy: 1.0000\n",
            "Epoch 357/500\n",
            "8/8 [==============================] - 0s 2ms/step - loss: 0.0046 - accuracy: 1.0000\n",
            "Epoch 358/500\n",
            "8/8 [==============================] - 0s 2ms/step - loss: 0.0048 - accuracy: 1.0000\n",
            "Epoch 359/500\n",
            "8/8 [==============================] - 0s 2ms/step - loss: 0.0043 - accuracy: 1.0000\n",
            "Epoch 360/500\n",
            "8/8 [==============================] - 0s 2ms/step - loss: 0.0045 - accuracy: 1.0000\n",
            "Epoch 361/500\n",
            "8/8 [==============================] - 0s 2ms/step - loss: 0.0051 - accuracy: 1.0000\n",
            "Epoch 362/500\n",
            "8/8 [==============================] - 0s 3ms/step - loss: 0.0038 - accuracy: 1.0000\n",
            "Epoch 363/500\n",
            "8/8 [==============================] - 0s 3ms/step - loss: 0.0042 - accuracy: 1.0000\n",
            "Epoch 364/500\n",
            "8/8 [==============================] - 0s 2ms/step - loss: 0.0037 - accuracy: 1.0000\n",
            "Epoch 365/500\n",
            "8/8 [==============================] - 0s 2ms/step - loss: 0.0032 - accuracy: 1.0000\n",
            "Epoch 366/500\n",
            "8/8 [==============================] - 0s 2ms/step - loss: 0.0045 - accuracy: 1.0000\n",
            "Epoch 367/500\n",
            "8/8 [==============================] - 0s 3ms/step - loss: 0.0033 - accuracy: 1.0000\n",
            "Epoch 368/500\n",
            "8/8 [==============================] - 0s 2ms/step - loss: 0.0037 - accuracy: 1.0000\n",
            "Epoch 369/500\n",
            "8/8 [==============================] - 0s 2ms/step - loss: 0.0041 - accuracy: 1.0000\n",
            "Epoch 370/500\n",
            "8/8 [==============================] - 0s 3ms/step - loss: 0.0039 - accuracy: 1.0000\n",
            "Epoch 371/500\n",
            "8/8 [==============================] - 0s 2ms/step - loss: 0.0030 - accuracy: 1.0000\n",
            "Epoch 372/500\n",
            "8/8 [==============================] - 0s 2ms/step - loss: 0.0038 - accuracy: 1.0000\n",
            "Epoch 373/500\n",
            "8/8 [==============================] - 0s 3ms/step - loss: 0.0040 - accuracy: 1.0000\n",
            "Epoch 374/500\n",
            "8/8 [==============================] - 0s 3ms/step - loss: 0.0039 - accuracy: 1.0000\n",
            "Epoch 375/500\n",
            "8/8 [==============================] - 0s 2ms/step - loss: 0.0034 - accuracy: 1.0000\n",
            "Epoch 376/500\n",
            "8/8 [==============================] - 0s 3ms/step - loss: 0.0026 - accuracy: 1.0000\n",
            "Epoch 377/500\n",
            "8/8 [==============================] - 0s 2ms/step - loss: 0.0033 - accuracy: 1.0000\n",
            "Epoch 378/500\n",
            "8/8 [==============================] - 0s 2ms/step - loss: 0.0025 - accuracy: 1.0000\n",
            "Epoch 379/500\n",
            "8/8 [==============================] - 0s 2ms/step - loss: 0.0035 - accuracy: 1.0000\n",
            "Epoch 380/500\n",
            "8/8 [==============================] - 0s 2ms/step - loss: 0.0035 - accuracy: 1.0000\n",
            "Epoch 381/500\n",
            "8/8 [==============================] - 0s 3ms/step - loss: 0.0035 - accuracy: 1.0000\n",
            "Epoch 382/500\n",
            "8/8 [==============================] - 0s 3ms/step - loss: 0.0032 - accuracy: 1.0000\n",
            "Epoch 383/500\n",
            "8/8 [==============================] - 0s 3ms/step - loss: 0.0031 - accuracy: 1.0000\n",
            "Epoch 384/500\n",
            "8/8 [==============================] - 0s 3ms/step - loss: 0.0024 - accuracy: 1.0000\n",
            "Epoch 385/500\n",
            "8/8 [==============================] - 0s 3ms/step - loss: 0.0030 - accuracy: 1.0000\n",
            "Epoch 386/500\n",
            "8/8 [==============================] - 0s 4ms/step - loss: 0.0034 - accuracy: 1.0000\n",
            "Epoch 387/500\n",
            "8/8 [==============================] - 0s 4ms/step - loss: 0.0046 - accuracy: 1.0000\n",
            "Epoch 388/500\n",
            "8/8 [==============================] - 0s 2ms/step - loss: 0.0026 - accuracy: 1.0000\n",
            "Epoch 389/500\n",
            "8/8 [==============================] - 0s 3ms/step - loss: 0.0033 - accuracy: 1.0000\n",
            "Epoch 390/500\n",
            "8/8 [==============================] - 0s 2ms/step - loss: 0.0028 - accuracy: 1.0000\n",
            "Epoch 391/500\n",
            "8/8 [==============================] - 0s 2ms/step - loss: 0.0027 - accuracy: 1.0000\n",
            "Epoch 392/500\n",
            "8/8 [==============================] - 0s 3ms/step - loss: 0.0027 - accuracy: 1.0000\n",
            "Epoch 393/500\n",
            "8/8 [==============================] - 0s 2ms/step - loss: 0.0026 - accuracy: 1.0000\n",
            "Epoch 394/500\n",
            "8/8 [==============================] - 0s 2ms/step - loss: 0.0030 - accuracy: 1.0000\n",
            "Epoch 395/500\n",
            "8/8 [==============================] - 0s 2ms/step - loss: 0.0025 - accuracy: 1.0000\n",
            "Epoch 396/500\n",
            "8/8 [==============================] - 0s 2ms/step - loss: 0.0030 - accuracy: 1.0000\n",
            "Epoch 397/500\n",
            "8/8 [==============================] - 0s 3ms/step - loss: 0.0034 - accuracy: 1.0000\n",
            "Epoch 398/500\n",
            "8/8 [==============================] - 0s 3ms/step - loss: 0.0036 - accuracy: 1.0000\n",
            "Epoch 399/500\n",
            "8/8 [==============================] - 0s 3ms/step - loss: 0.0035 - accuracy: 1.0000\n",
            "Epoch 400/500\n",
            "8/8 [==============================] - 0s 3ms/step - loss: 0.0022 - accuracy: 1.0000\n",
            "Epoch 401/500\n",
            "8/8 [==============================] - 0s 2ms/step - loss: 0.0029 - accuracy: 1.0000\n",
            "Epoch 402/500\n",
            "8/8 [==============================] - 0s 2ms/step - loss: 0.0028 - accuracy: 1.0000\n",
            "Epoch 403/500\n",
            "8/8 [==============================] - 0s 3ms/step - loss: 0.0026 - accuracy: 1.0000\n",
            "Epoch 404/500\n",
            "8/8 [==============================] - 0s 2ms/step - loss: 0.0023 - accuracy: 1.0000\n",
            "Epoch 405/500\n",
            "8/8 [==============================] - 0s 3ms/step - loss: 0.0029 - accuracy: 1.0000\n",
            "Epoch 406/500\n",
            "8/8 [==============================] - 0s 2ms/step - loss: 0.0025 - accuracy: 1.0000\n",
            "Epoch 407/500\n",
            "8/8 [==============================] - 0s 3ms/step - loss: 0.0029 - accuracy: 1.0000\n",
            "Epoch 408/500\n",
            "8/8 [==============================] - 0s 3ms/step - loss: 0.0021 - accuracy: 1.0000\n",
            "Epoch 409/500\n",
            "8/8 [==============================] - 0s 3ms/step - loss: 0.0023 - accuracy: 1.0000\n",
            "Epoch 410/500\n",
            "8/8 [==============================] - 0s 3ms/step - loss: 0.0027 - accuracy: 1.0000\n",
            "Epoch 411/500\n",
            "8/8 [==============================] - 0s 3ms/step - loss: 0.0026 - accuracy: 1.0000\n",
            "Epoch 412/500\n",
            "8/8 [==============================] - 0s 2ms/step - loss: 0.0021 - accuracy: 1.0000\n",
            "Epoch 413/500\n",
            "8/8 [==============================] - 0s 2ms/step - loss: 0.0018 - accuracy: 1.0000\n",
            "Epoch 414/500\n",
            "8/8 [==============================] - 0s 3ms/step - loss: 0.0021 - accuracy: 1.0000\n",
            "Epoch 415/500\n",
            "8/8 [==============================] - 0s 3ms/step - loss: 0.0021 - accuracy: 1.0000\n",
            "Epoch 416/500\n",
            "8/8 [==============================] - 0s 3ms/step - loss: 0.0022 - accuracy: 1.0000\n",
            "Epoch 417/500\n",
            "8/8 [==============================] - 0s 3ms/step - loss: 0.0023 - accuracy: 1.0000\n",
            "Epoch 418/500\n",
            "8/8 [==============================] - 0s 2ms/step - loss: 0.0025 - accuracy: 1.0000\n",
            "Epoch 419/500\n",
            "8/8 [==============================] - 0s 2ms/step - loss: 0.0021 - accuracy: 1.0000\n",
            "Epoch 420/500\n",
            "8/8 [==============================] - 0s 2ms/step - loss: 0.0028 - accuracy: 1.0000\n",
            "Epoch 421/500\n",
            "8/8 [==============================] - 0s 2ms/step - loss: 0.0018 - accuracy: 1.0000\n",
            "Epoch 422/500\n",
            "8/8 [==============================] - 0s 3ms/step - loss: 0.0023 - accuracy: 1.0000\n",
            "Epoch 423/500\n",
            "8/8 [==============================] - 0s 3ms/step - loss: 0.0016 - accuracy: 1.0000\n",
            "Epoch 424/500\n",
            "8/8 [==============================] - 0s 3ms/step - loss: 0.0022 - accuracy: 1.0000\n",
            "Epoch 425/500\n",
            "8/8 [==============================] - 0s 3ms/step - loss: 0.0020 - accuracy: 1.0000\n",
            "Epoch 426/500\n",
            "8/8 [==============================] - 0s 3ms/step - loss: 0.0024 - accuracy: 1.0000\n",
            "Epoch 427/500\n",
            "8/8 [==============================] - 0s 3ms/step - loss: 0.0022 - accuracy: 1.0000\n",
            "Epoch 428/500\n",
            "8/8 [==============================] - 0s 5ms/step - loss: 0.0020 - accuracy: 1.0000\n",
            "Epoch 429/500\n",
            "8/8 [==============================] - 0s 4ms/step - loss: 0.0022 - accuracy: 1.0000\n",
            "Epoch 430/500\n",
            "8/8 [==============================] - 0s 2ms/step - loss: 0.0020 - accuracy: 1.0000\n",
            "Epoch 431/500\n",
            "8/8 [==============================] - 0s 3ms/step - loss: 0.0016 - accuracy: 1.0000\n",
            "Epoch 432/500\n",
            "8/8 [==============================] - 0s 4ms/step - loss: 0.0017 - accuracy: 1.0000\n",
            "Epoch 433/500\n",
            "8/8 [==============================] - 0s 4ms/step - loss: 0.0015 - accuracy: 1.0000\n",
            "Epoch 434/500\n",
            "8/8 [==============================] - 0s 3ms/step - loss: 0.0022 - accuracy: 1.0000\n",
            "Epoch 435/500\n",
            "8/8 [==============================] - 0s 3ms/step - loss: 0.0017 - accuracy: 1.0000\n",
            "Epoch 436/500\n",
            "8/8 [==============================] - 0s 3ms/step - loss: 0.0017 - accuracy: 1.0000\n",
            "Epoch 437/500\n",
            "8/8 [==============================] - 0s 3ms/step - loss: 0.0018 - accuracy: 1.0000\n",
            "Epoch 438/500\n",
            "8/8 [==============================] - 0s 3ms/step - loss: 0.0020 - accuracy: 1.0000\n",
            "Epoch 439/500\n",
            "8/8 [==============================] - 0s 3ms/step - loss: 0.0013 - accuracy: 1.0000\n",
            "Epoch 440/500\n",
            "8/8 [==============================] - 0s 3ms/step - loss: 0.0018 - accuracy: 1.0000\n",
            "Epoch 441/500\n",
            "8/8 [==============================] - 0s 3ms/step - loss: 0.0019 - accuracy: 1.0000\n",
            "Epoch 442/500\n",
            "8/8 [==============================] - 0s 3ms/step - loss: 0.0020 - accuracy: 1.0000\n",
            "Epoch 443/500\n",
            "8/8 [==============================] - 0s 3ms/step - loss: 0.0022 - accuracy: 1.0000\n",
            "Epoch 444/500\n",
            "8/8 [==============================] - 0s 3ms/step - loss: 0.0016 - accuracy: 1.0000\n",
            "Epoch 445/500\n",
            "8/8 [==============================] - 0s 3ms/step - loss: 0.0017 - accuracy: 1.0000\n",
            "Epoch 446/500\n",
            "8/8 [==============================] - 0s 2ms/step - loss: 0.0019 - accuracy: 1.0000\n",
            "Epoch 447/500\n",
            "8/8 [==============================] - 0s 3ms/step - loss: 0.0015 - accuracy: 1.0000\n",
            "Epoch 448/500\n",
            "8/8 [==============================] - 0s 3ms/step - loss: 0.0018 - accuracy: 1.0000\n",
            "Epoch 449/500\n",
            "8/8 [==============================] - 0s 3ms/step - loss: 0.0018 - accuracy: 1.0000\n",
            "Epoch 450/500\n",
            "8/8 [==============================] - 0s 3ms/step - loss: 0.0013 - accuracy: 1.0000\n",
            "Epoch 451/500\n",
            "8/8 [==============================] - 0s 3ms/step - loss: 0.0015 - accuracy: 1.0000\n",
            "Epoch 452/500\n",
            "8/8 [==============================] - 0s 2ms/step - loss: 0.0015 - accuracy: 1.0000\n",
            "Epoch 453/500\n",
            "8/8 [==============================] - 0s 3ms/step - loss: 0.0014 - accuracy: 1.0000\n",
            "Epoch 454/500\n",
            "8/8 [==============================] - 0s 3ms/step - loss: 0.0017 - accuracy: 1.0000\n",
            "Epoch 455/500\n",
            "8/8 [==============================] - 0s 4ms/step - loss: 0.0014 - accuracy: 1.0000\n",
            "Epoch 456/500\n",
            "8/8 [==============================] - 0s 3ms/step - loss: 0.0015 - accuracy: 1.0000\n",
            "Epoch 457/500\n",
            "8/8 [==============================] - 0s 3ms/step - loss: 0.0020 - accuracy: 1.0000\n",
            "Epoch 458/500\n",
            "8/8 [==============================] - 0s 3ms/step - loss: 0.0013 - accuracy: 1.0000\n",
            "Epoch 459/500\n",
            "8/8 [==============================] - 0s 3ms/step - loss: 0.0014 - accuracy: 1.0000\n",
            "Epoch 460/500\n",
            "8/8 [==============================] - 0s 4ms/step - loss: 0.0016 - accuracy: 1.0000\n",
            "Epoch 461/500\n",
            "8/8 [==============================] - 0s 4ms/step - loss: 0.0012 - accuracy: 1.0000\n",
            "Epoch 462/500\n",
            "8/8 [==============================] - 0s 3ms/step - loss: 0.0015 - accuracy: 1.0000\n",
            "Epoch 463/500\n",
            "8/8 [==============================] - 0s 3ms/step - loss: 0.0015 - accuracy: 1.0000\n",
            "Epoch 464/500\n",
            "8/8 [==============================] - 0s 3ms/step - loss: 0.0015 - accuracy: 1.0000\n",
            "Epoch 465/500\n",
            "8/8 [==============================] - 0s 3ms/step - loss: 0.0016 - accuracy: 1.0000\n",
            "Epoch 466/500\n",
            "8/8 [==============================] - 0s 3ms/step - loss: 0.0018 - accuracy: 1.0000\n",
            "Epoch 467/500\n",
            "8/8 [==============================] - 0s 2ms/step - loss: 0.0012 - accuracy: 1.0000\n",
            "Epoch 468/500\n",
            "8/8 [==============================] - 0s 2ms/step - loss: 0.0015 - accuracy: 1.0000\n",
            "Epoch 469/500\n",
            "8/8 [==============================] - 0s 3ms/step - loss: 0.0017 - accuracy: 1.0000\n",
            "Epoch 470/500\n",
            "8/8 [==============================] - 0s 3ms/step - loss: 0.0013 - accuracy: 1.0000\n",
            "Epoch 471/500\n",
            "8/8 [==============================] - 0s 3ms/step - loss: 0.0010 - accuracy: 1.0000\n",
            "Epoch 472/500\n",
            "8/8 [==============================] - 0s 2ms/step - loss: 0.0013 - accuracy: 1.0000\n",
            "Epoch 473/500\n",
            "8/8 [==============================] - 0s 3ms/step - loss: 0.0014 - accuracy: 1.0000\n",
            "Epoch 474/500\n",
            "8/8 [==============================] - 0s 3ms/step - loss: 0.0016 - accuracy: 1.0000\n",
            "Epoch 475/500\n",
            "8/8 [==============================] - 0s 3ms/step - loss: 0.0012 - accuracy: 1.0000\n",
            "Epoch 476/500\n",
            "8/8 [==============================] - 0s 3ms/step - loss: 0.0015 - accuracy: 1.0000\n",
            "Epoch 477/500\n",
            "8/8 [==============================] - 0s 3ms/step - loss: 0.0012 - accuracy: 1.0000\n",
            "Epoch 478/500\n",
            "8/8 [==============================] - 0s 3ms/step - loss: 0.0010 - accuracy: 1.0000\n",
            "Epoch 479/500\n",
            "8/8 [==============================] - 0s 2ms/step - loss: 0.0010 - accuracy: 1.0000\n",
            "Epoch 480/500\n",
            "8/8 [==============================] - 0s 3ms/step - loss: 0.0014 - accuracy: 1.0000\n",
            "Epoch 481/500\n",
            "8/8 [==============================] - 0s 2ms/step - loss: 0.0016 - accuracy: 1.0000\n",
            "Epoch 482/500\n",
            "8/8 [==============================] - 0s 2ms/step - loss: 0.0012 - accuracy: 1.0000\n",
            "Epoch 483/500\n",
            "8/8 [==============================] - 0s 2ms/step - loss: 0.0012 - accuracy: 1.0000\n",
            "Epoch 484/500\n",
            "8/8 [==============================] - 0s 4ms/step - loss: 0.0010 - accuracy: 1.0000\n",
            "Epoch 485/500\n",
            "8/8 [==============================] - 0s 3ms/step - loss: 0.0012 - accuracy: 1.0000\n",
            "Epoch 486/500\n",
            "8/8 [==============================] - 0s 3ms/step - loss: 0.0011 - accuracy: 1.0000\n",
            "Epoch 487/500\n",
            "8/8 [==============================] - 0s 3ms/step - loss: 0.0012 - accuracy: 1.0000\n",
            "Epoch 488/500\n",
            "8/8 [==============================] - 0s 2ms/step - loss: 0.0014 - accuracy: 1.0000\n",
            "Epoch 489/500\n",
            "8/8 [==============================] - 0s 3ms/step - loss: 0.0012 - accuracy: 1.0000\n",
            "Epoch 490/500\n",
            "8/8 [==============================] - 0s 2ms/step - loss: 0.0013 - accuracy: 1.0000\n",
            "Epoch 491/500\n",
            "8/8 [==============================] - 0s 5ms/step - loss: 9.7431e-04 - accuracy: 1.0000\n",
            "Epoch 492/500\n",
            "8/8 [==============================] - 0s 3ms/step - loss: 0.0015 - accuracy: 1.0000\n",
            "Epoch 493/500\n",
            "8/8 [==============================] - 0s 3ms/step - loss: 0.0011 - accuracy: 1.0000\n",
            "Epoch 494/500\n",
            "8/8 [==============================] - 0s 4ms/step - loss: 0.0014 - accuracy: 1.0000\n",
            "Epoch 495/500\n",
            "8/8 [==============================] - 0s 3ms/step - loss: 0.0013 - accuracy: 1.0000\n",
            "Epoch 496/500\n",
            "8/8 [==============================] - 0s 3ms/step - loss: 9.3275e-04 - accuracy: 1.0000\n",
            "Epoch 497/500\n",
            "8/8 [==============================] - 0s 3ms/step - loss: 0.0012 - accuracy: 1.0000\n",
            "Epoch 498/500\n",
            "8/8 [==============================] - 0s 3ms/step - loss: 0.0011 - accuracy: 1.0000\n",
            "Epoch 499/500\n",
            "8/8 [==============================] - 0s 2ms/step - loss: 0.0012 - accuracy: 1.0000\n",
            "Epoch 500/500\n",
            "8/8 [==============================] - 0s 3ms/step - loss: 7.5868e-04 - accuracy: 1.0000\n"
          ],
          "name": "stdout"
        },
        {
          "output_type": "execute_result",
          "data": {
            "text/plain": [
              "1.0"
            ]
          },
          "metadata": {
            "tags": []
          },
          "execution_count": 15
        }
      ]
    },
    {
      "cell_type": "markdown",
      "metadata": {
        "id": "qIA62vjfYSa0"
      },
      "source": [
        "We got perfect accuracy in our model. Let's see how the accuracy improves and the loss is reduced over epochs."
      ]
    },
    {
      "cell_type": "code",
      "metadata": {
        "id": "b7s1zaQGdkB9",
        "colab": {
          "base_uri": "https://localhost:8080/",
          "height": 368
        },
        "outputId": "f7ed7027-d8c3-468f-c53d-6b2eaec71851"
      },
      "source": [
        "import matplotlib.pyplot as plt\n",
        "\n",
        "plt.figure(figsize=(16,5))\n",
        "\n",
        "plt.subplot(1,2,1)\n",
        "plt.plot(history.history['accuracy'])\n",
        "plt.title('Training Accuracy')\n",
        "plt.ylabel('accuracy')\n",
        "plt.xlabel('epoch')\n",
        "plt.legend(['train_accuracy'], loc='best')\n",
        "\n",
        "plt.subplot(1,2,2)\n",
        "plt.plot(history.history['loss'])\n",
        "plt.title('Training Loss')\n",
        "plt.ylabel('loss')\n",
        "plt.xlabel('epoch')\n",
        "plt.legend(['train_loss'], loc='best')"
      ],
      "execution_count": 16,
      "outputs": [
        {
          "output_type": "execute_result",
          "data": {
            "text/plain": [
              "<matplotlib.legend.Legend at 0x7f4d47f0b690>"
            ]
          },
          "metadata": {
            "tags": []
          },
          "execution_count": 16
        },
        {
          "output_type": "display_data",
          "data": {
            "image/png": "[encoded data removed]",
            "text/plain": [
              "<Figure size 1152x360 with 2 Axes>"
            ]
          },
          "metadata": {
            "tags": [],
            "needs_background": "light"
          }
        }
      ]
    },
    {
      "cell_type": "markdown",
      "metadata": {
        "id": "39zlRVRcZKx7"
      },
      "source": [
        "We seem to have kept training this model far too long. The accuracy reaches perfection, and the loss moves to 0.0 after a few hundred epochs.\n",
        "\n",
        "Let's see if we overfit by using our validation holdout data. In order to do that, we need to convert our predictions back into a binary representation."
      ]
    },
    {
      "cell_type": "code",
      "metadata": {
        "id": "niAa2Ht5eAv-",
        "colab": {
          "base_uri": "https://localhost:8080/"
        },
        "outputId": "ac045e6a-ba54-4f3d-f54b-3cc25c608a9c"
      },
      "source": [
        "predictions = model.predict(X_validate)\n",
        "\n",
        "predictions[:10]"
      ],
      "execution_count": 17,
      "outputs": [
        {
          "output_type": "execute_result",
          "data": {
            "text/plain": [
              "array([[9.4417506e-01],\n",
              "       [2.5808640e-05],\n",
              "       [2.5440750e-08],\n",
              "       [1.8727364e-07],\n",
              "       [1.3573307e-01],\n",
              "       [4.5623412e-05],\n",
              "       [9.9999785e-01],\n",
              "       [6.3613639e-30],\n",
              "       [9.9999905e-01],\n",
              "       [9.9999428e-01]], dtype=float32)"
            ]
          },
          "metadata": {
            "tags": []
          },
          "execution_count": 17
        }
      ]
    },
    {
      "cell_type": "markdown",
      "metadata": {
        "id": "WNTZk3TNeGVM"
      },
      "source": [
        "As you can see, our predictions are continuous numbers, not the 1 or 0 values that we expected. These values are confidences that the value is 1. Let's look at them in a histogram."
      ]
    },
    {
      "cell_type": "code",
      "metadata": {
        "id": "AmVuqYMReQcC",
        "colab": {
          "base_uri": "https://localhost:8080/",
          "height": 265
        },
        "outputId": "2218cfdd-c21e-46c2-e886-3666762b2cfa"
      },
      "source": [
        "import matplotlib.pyplot as plt\n",
        "\n",
        "_ = plt.hist(predictions)"
      ],
      "execution_count": 18,
      "outputs": [
        {
          "output_type": "display_data",
          "data": {
            "image/png": "[encoded data removed]",
            "text/plain": [
              "<Figure size 432x288 with 1 Axes>"
            ]
          },
          "metadata": {
            "tags": [],
            "needs_background": "light"
          }
        }
      ]
    },
    {
      "cell_type": "markdown",
      "metadata": {
        "id": "29C09tpneiYA"
      },
      "source": [
        "Here we can see that the model is highly confident yes or no in many cases, but there are some cases where the model was unsure.\n",
        "\n",
        "How do we convert these confidences into a yes/no decision?\n",
        "\n",
        "One way is to simply round:"
      ]
    },
    {
      "cell_type": "code",
      "metadata": {
        "id": "FWlYXJ5eZehL",
        "colab": {
          "base_uri": "https://localhost:8080/",
          "height": 265
        },
        "outputId": "0823c36e-bf6b-4407-ab09-e86cd92b80d1"
      },
      "source": [
        "predictions = [round(x[0]) for x in predictions]\n",
        "\n",
        "_ = plt.hist(predictions)"
      ],
      "execution_count": 19,
      "outputs": [
        {
          "output_type": "display_data",
          "data": {
            "image/png": "[encoded data removed]",
            "text/plain": [
              "<Figure size 432x288 with 1 Axes>"
            ]
          },
          "metadata": {
            "tags": [],
            "needs_background": "light"
          }
        }
      ]
    },
    {
      "cell_type": "markdown",
      "metadata": {
        "id": "IQAe7L4-fHGO"
      },
      "source": [
        "This puts the cut-off threshold for a yes/no decision at `0.5`. Let's think about the implications of this.\n",
        "\n",
        "Also note that the choice of a sigmoid activation function was not coincidence. We wanted to use an activation function that would keep the output values between 0.0 and 1.0 for rounding purposes. "
      ]
    },
    {
      "cell_type": "markdown",
      "metadata": {
        "id": "YSWvcpaajd3C"
      },
      "source": [
        "Now let's check our accuracy."
      ]
    },
    {
      "cell_type": "code",
      "metadata": {
        "id": "XtIiFjG8jf2E",
        "colab": {
          "base_uri": "https://localhost:8080/"
        },
        "outputId": "e953c165-7051-46ec-b01a-b4f73fafa6ac"
      },
      "source": [
        "from sklearn.metrics import accuracy_score\n",
        "\n",
        "accuracy_score(y_validate, predictions)"
      ],
      "execution_count": 20,
      "outputs": [
        {
          "output_type": "execute_result",
          "data": {
            "text/plain": [
              "0.7868852459016393"
            ]
          },
          "metadata": {
            "tags": []
          },
          "execution_count": 20
        }
      ]
    },
    {
      "cell_type": "markdown",
      "metadata": {
        "id": "bXQc1DN3j4g9"
      },
      "source": [
        "When we ran this model, our score was in the low 80s, which is not great. Yours is likely similar."
      ]
    },
    {
      "cell_type": "markdown",
      "metadata": {
        "id": "HCZ4RNimfRu3"
      },
      "source": [
        "### Exercise 2: Adjusting the Threshold"
      ]
    },
    {
      "cell_type": "markdown",
      "metadata": {
        "id": "X4BMDjAlgimq"
      },
      "source": [
        "#### Question 1"
      ]
    },
    {
      "cell_type": "markdown",
      "metadata": {
        "id": "7KxSRGj3fZOS"
      },
      "source": [
        "We decided to round for our classification, which puts the threshold for the decision at `0.5`. This decision was made somewhat arbitrarily. Let's think about our problem space a bit more. We are making a model that predicts if an individual has heart disease. Would it be better if we set the threshold for predicting heart disease higher or lower than `0.5`? Or is `0.5` okay? Explain your reasoning.\n"
      ]
    },
    {
      "cell_type": "markdown",
      "metadata": {
        "id": "CzprK-6Bglmu"
      },
      "source": [
        "##### **Student Solution**"
      ]
    },
    {
      "cell_type": "markdown",
      "metadata": {
        "id": "GYXoRF3mgrGl"
      },
      "source": [
        "> In my opinion, if we set threshold too high or too low, we will get higher false positive or false negative. That will become a bad model. But for me, the best threshold is about 0.7-0.8. Try the model between that threshold and test the threshold by getting the (TP, FP, TN, FN)\n",
        "\n",
        "* TP = True Positive\n",
        "* FP = False Positive\n",
        "* TN = True Negative\n",
        "* FN = False Negative"
      ]
    },
    {
      "cell_type": "markdown",
      "metadata": {
        "id": "3pv-ZufdV_yw"
      },
      "source": [
        "---"
      ]
    },
    {
      "cell_type": "markdown",
      "metadata": {
        "id": "Up7wa9Kvhfy1"
      },
      "source": [
        "#### Question 2"
      ]
    },
    {
      "cell_type": "markdown",
      "metadata": {
        "id": "5ae6h-pZhzNF"
      },
      "source": [
        "Write code to make yes/no predictions using a higher or lower threshold based on the argument you made in the first question of this exercise. If you chose to keep the threshold at `0.5`, then just pick higher or lower and write the code for that. Print out the accuracy for the new threshold."
      ]
    },
    {
      "cell_type": "markdown",
      "metadata": {
        "id": "037j13priQpi"
      },
      "source": [
        "##### **Student Solution**"
      ]
    },
    {
      "cell_type": "code",
      "metadata": {
        "id": "i_Qup9sHiThc",
        "colab": {
          "base_uri": "https://localhost:8080/",
          "height": 265
        },
        "outputId": "ea164c3c-0331-4fe0-e8d4-5e049c8639c1"
      },
      "source": [
        "# Your Code Goes Here\n",
        "import matplotlib.pyplot as plt\n",
        "\n",
        "predictions = model.predict(X_validate)\n",
        "_ = plt.hist(predictions)"
      ],
      "execution_count": 21,
      "outputs": [
        {
          "output_type": "display_data",
          "data": {
            "image/png": "[encoded data removed]",
            "text/plain": [
              "<Figure size 432x288 with 1 Axes>"
            ]
          },
          "metadata": {
            "tags": [],
            "needs_background": "light"
          }
        }
      ]
    },
    {
      "cell_type": "code",
      "metadata": {
        "colab": {
          "base_uri": "https://localhost:8080/",
          "height": 265
        },
        "id": "zE54NKdANrzZ",
        "outputId": "e9218e0f-ded4-4e85-821c-ad051e42dce0"
      },
      "source": [
        "import numpy as np\n",
        "\n",
        "THRESHOLD = 0.8\n",
        "\n",
        "higher_threshold = [1 if x >= THRESHOLD else 0 for x in predictions]\n",
        "higher_threshold = np.array(higher_threshold)\n",
        "\n",
        "_ = plt.hist(higher_threshold)"
      ],
      "execution_count": 22,
      "outputs": [
        {
          "output_type": "display_data",
          "data": {
            "image/png": "[encoded data removed]",
            "text/plain": [
              "<Figure size 432x288 with 1 Axes>"
            ]
          },
          "metadata": {
            "tags": [],
            "needs_background": "light"
          }
        }
      ]
    },
    {
      "cell_type": "code",
      "metadata": {
        "colab": {
          "base_uri": "https://localhost:8080/"
        },
        "id": "36nu88vwRPzL",
        "outputId": "5274ac89-8ec2-4f98-f0e4-54b52d816526"
      },
      "source": [
        "from sklearn.metrics import accuracy_score\n",
        "\n",
        "accuracy_score(y_validate, higher_threshold)"
      ],
      "execution_count": 23,
      "outputs": [
        {
          "output_type": "execute_result",
          "data": {
            "text/plain": [
              "0.7704918032786885"
            ]
          },
          "metadata": {
            "tags": []
          },
          "execution_count": 23
        }
      ]
    },
    {
      "cell_type": "markdown",
      "metadata": {
        "id": "ge8XT0nUWcRf"
      },
      "source": [
        "---"
      ]
    },
    {
      "cell_type": "markdown",
      "metadata": {
        "id": "Kltnsr4Udquq"
      },
      "source": [
        "### Exercise 2: Early Stopping"
      ]
    },
    {
      "cell_type": "markdown",
      "metadata": {
        "id": "MGImZmxAkBIz"
      },
      "source": [
        "Five hundred epochs turned out to be a bit too many. Use the [`EarlyStopping`](https://www.tensorflow.org/api_docs/python/tf/keras/callbacks/EarlyStopping) class to stop when the loss doesn't improve over the course of five epochs. Print your accuracy score so you can see if it stayed reasonably close to your earlier model. Be sure to also make model fitting verbosity 1 or 2 so you can see at which epoch your model stopped."
      ]
    },
    {
      "cell_type": "markdown",
      "metadata": {
        "id": "U_MG9C-tlMOX"
      },
      "source": [
        "##### **Student Solution**"
      ]
    },
    {
      "cell_type": "code",
      "metadata": {
        "id": "0w2rGyG4lOQY",
        "colab": {
          "base_uri": "https://localhost:8080/"
        },
        "outputId": "9454ae11-3baf-4464-c11c-edce29c5f0f8"
      },
      "source": [
        "# Your code goes here\n",
        "import tensorflow as tf\n",
        "from tensorflow import keras\n",
        "from sklearn.model_selection import train_test_split\n",
        "\n",
        "\n",
        "FEATURES = df.columns.values[:-1]\n",
        "TARGET = df.columns.values[-1]\n",
        "\n",
        "df.loc[:, FEATURES] = ((df[FEATURES] - df[FEATURES].min()) / (df[FEATURES].max() - df[FEATURES].min()))\n",
        "\n",
        "X_train, X_validate, y_train, y_validate = train_test_split(\n",
        "    df[FEATURES], df[TARGET], test_size=0.2, stratify=df['sex'])\n",
        "\n",
        "X_train.shape, X_validate.shape\n",
        "\n",
        "model = keras.Sequential([keras.layers.Dense(64, activation=tf.nn.relu,\n",
        "                                             input_shape=(FEATURES.size, )),\n",
        "                          keras.layers.Dense(32, activation=tf.nn.relu),\n",
        "                          keras.layers.Dense(16, activation=tf.nn.relu),\n",
        "                          keras.layers.Dense(1, activation=tf.nn.sigmoid)\n",
        "])\n",
        "\n",
        "model.summary()\n",
        "\n",
        "model.compile(optimizer='Adam',\n",
        "              loss='binary_crossentropy',\n",
        "              metrics=['accuracy'])\n",
        "\n",
        "callbacks = keras.callbacks.EarlyStopping(monitor='loss', min_delta=1e-3, patience=5)\n",
        "\n",
        "history = model.fit(X_train, y_train, \n",
        "                    epochs=500, callbacks=[callbacks], verbose=1)"
      ],
      "execution_count": 37,
      "outputs": [
        {
          "output_type": "stream",
          "text": [
            "Model: \"sequential_7\"\n",
            "_________________________________________________________________\n",
            "Layer (type)                 Output Shape              Param #   \n",
            "=================================================================\n",
            "dense_28 (Dense)             (None, 64)                896       \n",
            "_________________________________________________________________\n",
            "dense_29 (Dense)             (None, 32)                2080      \n",
            "_________________________________________________________________\n",
            "dense_30 (Dense)             (None, 16)                528       \n",
            "_________________________________________________________________\n",
            "dense_31 (Dense)             (None, 1)                 17        \n",
            "=================================================================\n",
            "Total params: 3,521\n",
            "Trainable params: 3,521\n",
            "Non-trainable params: 0\n",
            "_________________________________________________________________\n",
            "Epoch 1/500\n",
            "8/8 [==============================] - 0s 2ms/step - loss: 0.6987 - accuracy: 0.5616\n",
            "Epoch 2/500\n",
            "8/8 [==============================] - 0s 2ms/step - loss: 0.6697 - accuracy: 0.5577\n",
            "Epoch 3/500\n",
            "8/8 [==============================] - 0s 2ms/step - loss: 0.6547 - accuracy: 0.6535\n",
            "Epoch 4/500\n",
            "8/8 [==============================] - 0s 2ms/step - loss: 0.6298 - accuracy: 0.6863\n",
            "Epoch 5/500\n",
            "8/8 [==============================] - 0s 2ms/step - loss: 0.5981 - accuracy: 0.7103\n",
            "Epoch 6/500\n",
            "8/8 [==============================] - 0s 2ms/step - loss: 0.5580 - accuracy: 0.7502\n",
            "Epoch 7/500\n",
            "8/8 [==============================] - 0s 2ms/step - loss: 0.5527 - accuracy: 0.7532\n",
            "Epoch 8/500\n",
            "8/8 [==============================] - 0s 2ms/step - loss: 0.5014 - accuracy: 0.7959\n",
            "Epoch 9/500\n",
            "8/8 [==============================] - 0s 2ms/step - loss: 0.4607 - accuracy: 0.8079\n",
            "Epoch 10/500\n",
            "8/8 [==============================] - 0s 2ms/step - loss: 0.4653 - accuracy: 0.7794\n",
            "Epoch 11/500\n",
            "8/8 [==============================] - 0s 2ms/step - loss: 0.4305 - accuracy: 0.8045\n",
            "Epoch 12/500\n",
            "8/8 [==============================] - 0s 2ms/step - loss: 0.4293 - accuracy: 0.7938\n",
            "Epoch 13/500\n",
            "8/8 [==============================] - 0s 2ms/step - loss: 0.4069 - accuracy: 0.8025\n",
            "Epoch 14/500\n",
            "8/8 [==============================] - 0s 2ms/step - loss: 0.4090 - accuracy: 0.8298\n",
            "Epoch 15/500\n",
            "8/8 [==============================] - 0s 2ms/step - loss: 0.3490 - accuracy: 0.8186\n",
            "Epoch 16/500\n",
            "8/8 [==============================] - 0s 2ms/step - loss: 0.3897 - accuracy: 0.8273\n",
            "Epoch 17/500\n",
            "8/8 [==============================] - 0s 2ms/step - loss: 0.3814 - accuracy: 0.8149\n",
            "Epoch 18/500\n",
            "8/8 [==============================] - 0s 2ms/step - loss: 0.3820 - accuracy: 0.8387\n",
            "Epoch 19/500\n",
            "8/8 [==============================] - 0s 2ms/step - loss: 0.3995 - accuracy: 0.8381\n",
            "Epoch 20/500\n",
            "8/8 [==============================] - 0s 2ms/step - loss: 0.3702 - accuracy: 0.8549\n",
            "Epoch 21/500\n",
            "8/8 [==============================] - 0s 2ms/step - loss: 0.3504 - accuracy: 0.8654\n",
            "Epoch 22/500\n",
            "8/8 [==============================] - 0s 2ms/step - loss: 0.3169 - accuracy: 0.8785\n",
            "Epoch 23/500\n",
            "8/8 [==============================] - 0s 2ms/step - loss: 0.3012 - accuracy: 0.8721\n",
            "Epoch 24/500\n",
            "8/8 [==============================] - 0s 2ms/step - loss: 0.3885 - accuracy: 0.8439\n",
            "Epoch 25/500\n",
            "8/8 [==============================] - 0s 2ms/step - loss: 0.3262 - accuracy: 0.8889\n",
            "Epoch 26/500\n",
            "8/8 [==============================] - 0s 2ms/step - loss: 0.3413 - accuracy: 0.8827\n",
            "Epoch 27/500\n",
            "8/8 [==============================] - 0s 2ms/step - loss: 0.3596 - accuracy: 0.8658\n",
            "Epoch 28/500\n",
            "8/8 [==============================] - 0s 2ms/step - loss: 0.3262 - accuracy: 0.8733\n",
            "Epoch 29/500\n",
            "8/8 [==============================] - 0s 2ms/step - loss: 0.3065 - accuracy: 0.8870\n",
            "Epoch 30/500\n",
            "8/8 [==============================] - 0s 2ms/step - loss: 0.2942 - accuracy: 0.8745\n",
            "Epoch 31/500\n",
            "8/8 [==============================] - 0s 2ms/step - loss: 0.3313 - accuracy: 0.8589\n",
            "Epoch 32/500\n",
            "8/8 [==============================] - 0s 2ms/step - loss: 0.3338 - accuracy: 0.8825\n",
            "Epoch 33/500\n",
            "8/8 [==============================] - 0s 2ms/step - loss: 0.3237 - accuracy: 0.8995\n",
            "Epoch 34/500\n",
            "8/8 [==============================] - 0s 2ms/step - loss: 0.3115 - accuracy: 0.8853\n",
            "Epoch 35/500\n",
            "8/8 [==============================] - 0s 2ms/step - loss: 0.3180 - accuracy: 0.8505\n",
            "Epoch 36/500\n",
            "8/8 [==============================] - 0s 2ms/step - loss: 0.3477 - accuracy: 0.8564\n",
            "Epoch 37/500\n",
            "8/8 [==============================] - 0s 2ms/step - loss: 0.3567 - accuracy: 0.8760\n",
            "Epoch 38/500\n",
            "8/8 [==============================] - 0s 2ms/step - loss: 0.3262 - accuracy: 0.8837\n",
            "Epoch 39/500\n",
            "8/8 [==============================] - 0s 2ms/step - loss: 0.3250 - accuracy: 0.8721\n",
            "Epoch 40/500\n",
            "8/8 [==============================] - 0s 2ms/step - loss: 0.3069 - accuracy: 0.9147\n",
            "Epoch 41/500\n",
            "8/8 [==============================] - 0s 2ms/step - loss: 0.3189 - accuracy: 0.8602\n",
            "Epoch 42/500\n",
            "8/8 [==============================] - 0s 2ms/step - loss: 0.3579 - accuracy: 0.8519\n",
            "Epoch 43/500\n",
            "8/8 [==============================] - 0s 2ms/step - loss: 0.2371 - accuracy: 0.9187\n",
            "Epoch 44/500\n",
            "8/8 [==============================] - 0s 2ms/step - loss: 0.2905 - accuracy: 0.8804\n",
            "Epoch 45/500\n",
            "8/8 [==============================] - 0s 2ms/step - loss: 0.3088 - accuracy: 0.8985\n",
            "Epoch 46/500\n",
            "8/8 [==============================] - 0s 2ms/step - loss: 0.3104 - accuracy: 0.8908\n",
            "Epoch 47/500\n",
            "8/8 [==============================] - 0s 2ms/step - loss: 0.3027 - accuracy: 0.8907\n",
            "Epoch 48/500\n",
            "8/8 [==============================] - 0s 2ms/step - loss: 0.2999 - accuracy: 0.8918\n",
            "Epoch 49/500\n",
            "8/8 [==============================] - 0s 2ms/step - loss: 0.3113 - accuracy: 0.9086\n",
            "Epoch 50/500\n",
            "8/8 [==============================] - 0s 3ms/step - loss: 0.2936 - accuracy: 0.8979\n",
            "Epoch 51/500\n",
            "8/8 [==============================] - 0s 2ms/step - loss: 0.3056 - accuracy: 0.9036\n",
            "Epoch 52/500\n",
            "8/8 [==============================] - 0s 2ms/step - loss: 0.2658 - accuracy: 0.8900\n",
            "Epoch 53/500\n",
            "8/8 [==============================] - 0s 2ms/step - loss: 0.2947 - accuracy: 0.9074\n",
            "Epoch 54/500\n",
            "8/8 [==============================] - 0s 2ms/step - loss: 0.2545 - accuracy: 0.9216\n",
            "Epoch 55/500\n",
            "8/8 [==============================] - 0s 2ms/step - loss: 0.2536 - accuracy: 0.9242\n",
            "Epoch 56/500\n",
            "8/8 [==============================] - 0s 2ms/step - loss: 0.2819 - accuracy: 0.9112\n",
            "Epoch 57/500\n",
            "8/8 [==============================] - 0s 2ms/step - loss: 0.2659 - accuracy: 0.9145\n",
            "Epoch 58/500\n",
            "8/8 [==============================] - 0s 2ms/step - loss: 0.2852 - accuracy: 0.8825\n",
            "Epoch 59/500\n",
            "8/8 [==============================] - 0s 2ms/step - loss: 0.2484 - accuracy: 0.9224\n",
            "Epoch 60/500\n",
            "8/8 [==============================] - 0s 2ms/step - loss: 0.2531 - accuracy: 0.9274\n",
            "Epoch 61/500\n",
            "8/8 [==============================] - 0s 2ms/step - loss: 0.2568 - accuracy: 0.9151\n",
            "Epoch 62/500\n",
            "8/8 [==============================] - 0s 2ms/step - loss: 0.2694 - accuracy: 0.9027\n",
            "Epoch 63/500\n",
            "8/8 [==============================] - 0s 2ms/step - loss: 0.2639 - accuracy: 0.9209\n",
            "Epoch 64/500\n",
            "8/8 [==============================] - 0s 2ms/step - loss: 0.2776 - accuracy: 0.8829\n",
            "Epoch 65/500\n",
            "8/8 [==============================] - 0s 2ms/step - loss: 0.2556 - accuracy: 0.9242\n",
            "Epoch 66/500\n",
            "8/8 [==============================] - 0s 3ms/step - loss: 0.2571 - accuracy: 0.8992\n",
            "Epoch 67/500\n",
            "8/8 [==============================] - 0s 2ms/step - loss: 0.2575 - accuracy: 0.9107\n",
            "Epoch 68/500\n",
            "8/8 [==============================] - 0s 2ms/step - loss: 0.2467 - accuracy: 0.9152\n",
            "Epoch 69/500\n",
            "8/8 [==============================] - 0s 2ms/step - loss: 0.2523 - accuracy: 0.9122\n",
            "Epoch 70/500\n",
            "8/8 [==============================] - 0s 2ms/step - loss: 0.2502 - accuracy: 0.9156\n",
            "Epoch 71/500\n",
            "8/8 [==============================] - 0s 2ms/step - loss: 0.2352 - accuracy: 0.9035\n",
            "Epoch 72/500\n",
            "8/8 [==============================] - 0s 2ms/step - loss: 0.2448 - accuracy: 0.9206\n",
            "Epoch 73/500\n",
            "8/8 [==============================] - 0s 2ms/step - loss: 0.2346 - accuracy: 0.9321\n",
            "Epoch 74/500\n",
            "8/8 [==============================] - 0s 2ms/step - loss: 0.2823 - accuracy: 0.9081\n",
            "Epoch 75/500\n",
            "8/8 [==============================] - 0s 2ms/step - loss: 0.2324 - accuracy: 0.9233\n",
            "Epoch 76/500\n",
            "8/8 [==============================] - 0s 2ms/step - loss: 0.2118 - accuracy: 0.9345\n",
            "Epoch 77/500\n",
            "8/8 [==============================] - 0s 3ms/step - loss: 0.2332 - accuracy: 0.9155\n",
            "Epoch 78/500\n",
            "8/8 [==============================] - 0s 2ms/step - loss: 0.1955 - accuracy: 0.9514\n",
            "Epoch 79/500\n",
            "8/8 [==============================] - 0s 2ms/step - loss: 0.2277 - accuracy: 0.9217\n",
            "Epoch 80/500\n",
            "8/8 [==============================] - 0s 3ms/step - loss: 0.2252 - accuracy: 0.9421\n",
            "Epoch 81/500\n",
            "8/8 [==============================] - 0s 4ms/step - loss: 0.2206 - accuracy: 0.9227\n",
            "Epoch 82/500\n",
            "8/8 [==============================] - 0s 2ms/step - loss: 0.2157 - accuracy: 0.9312\n",
            "Epoch 83/500\n",
            "8/8 [==============================] - 0s 2ms/step - loss: 0.2078 - accuracy: 0.9180\n",
            "Epoch 84/500\n",
            "8/8 [==============================] - 0s 2ms/step - loss: 0.1893 - accuracy: 0.9601\n",
            "Epoch 85/500\n",
            "8/8 [==============================] - 0s 3ms/step - loss: 0.2080 - accuracy: 0.9438\n",
            "Epoch 86/500\n",
            "8/8 [==============================] - 0s 2ms/step - loss: 0.1950 - accuracy: 0.9452\n",
            "Epoch 87/500\n",
            "8/8 [==============================] - 0s 3ms/step - loss: 0.2147 - accuracy: 0.9410\n",
            "Epoch 88/500\n",
            "8/8 [==============================] - 0s 2ms/step - loss: 0.2327 - accuracy: 0.9242\n",
            "Epoch 89/500\n",
            "8/8 [==============================] - 0s 2ms/step - loss: 0.2027 - accuracy: 0.9389\n",
            "Epoch 90/500\n",
            "8/8 [==============================] - 0s 3ms/step - loss: 0.1702 - accuracy: 0.9554\n",
            "Epoch 91/500\n",
            "8/8 [==============================] - 0s 3ms/step - loss: 0.2049 - accuracy: 0.9291\n",
            "Epoch 92/500\n",
            "8/8 [==============================] - 0s 3ms/step - loss: 0.2342 - accuracy: 0.9301\n",
            "Epoch 93/500\n",
            "8/8 [==============================] - 0s 2ms/step - loss: 0.2298 - accuracy: 0.9242\n",
            "Epoch 94/500\n",
            "8/8 [==============================] - 0s 2ms/step - loss: 0.2234 - accuracy: 0.9294\n",
            "Epoch 95/500\n",
            "8/8 [==============================] - 0s 2ms/step - loss: 0.1917 - accuracy: 0.9469\n",
            "Epoch 96/500\n",
            "8/8 [==============================] - 0s 3ms/step - loss: 0.1816 - accuracy: 0.9403\n",
            "Epoch 97/500\n",
            "8/8 [==============================] - 0s 2ms/step - loss: 0.1805 - accuracy: 0.9473\n",
            "Epoch 98/500\n",
            "8/8 [==============================] - 0s 2ms/step - loss: 0.1699 - accuracy: 0.9463\n",
            "Epoch 99/500\n",
            "8/8 [==============================] - 0s 3ms/step - loss: 0.1861 - accuracy: 0.9440\n",
            "Epoch 100/500\n",
            "8/8 [==============================] - 0s 2ms/step - loss: 0.1728 - accuracy: 0.9469\n",
            "Epoch 101/500\n",
            "8/8 [==============================] - 0s 2ms/step - loss: 0.1742 - accuracy: 0.9485\n",
            "Epoch 102/500\n",
            "8/8 [==============================] - 0s 2ms/step - loss: 0.1952 - accuracy: 0.9368\n",
            "Epoch 103/500\n",
            "8/8 [==============================] - 0s 3ms/step - loss: 0.1685 - accuracy: 0.9551\n",
            "Epoch 104/500\n",
            "8/8 [==============================] - 0s 2ms/step - loss: 0.1854 - accuracy: 0.9398\n",
            "Epoch 105/500\n",
            "8/8 [==============================] - 0s 2ms/step - loss: 0.1535 - accuracy: 0.9391\n",
            "Epoch 106/500\n",
            "8/8 [==============================] - 0s 2ms/step - loss: 0.1378 - accuracy: 0.9635\n",
            "Epoch 107/500\n",
            "8/8 [==============================] - 0s 2ms/step - loss: 0.1418 - accuracy: 0.9623\n",
            "Epoch 108/500\n",
            "8/8 [==============================] - 0s 3ms/step - loss: 0.1986 - accuracy: 0.9419\n",
            "Epoch 109/500\n",
            "8/8 [==============================] - 0s 3ms/step - loss: 0.1582 - accuracy: 0.9576\n",
            "Epoch 110/500\n",
            "8/8 [==============================] - 0s 2ms/step - loss: 0.1514 - accuracy: 0.9699\n",
            "Epoch 111/500\n",
            "8/8 [==============================] - 0s 2ms/step - loss: 0.1318 - accuracy: 0.9630\n",
            "Epoch 112/500\n",
            "8/8 [==============================] - 0s 2ms/step - loss: 0.1362 - accuracy: 0.9687\n",
            "Epoch 113/500\n",
            "8/8 [==============================] - 0s 2ms/step - loss: 0.1203 - accuracy: 0.9644\n",
            "Epoch 114/500\n",
            "8/8 [==============================] - 0s 2ms/step - loss: 0.1640 - accuracy: 0.9600\n",
            "Epoch 115/500\n",
            "8/8 [==============================] - 0s 2ms/step - loss: 0.1236 - accuracy: 0.9736\n",
            "Epoch 116/500\n",
            "8/8 [==============================] - 0s 2ms/step - loss: 0.1549 - accuracy: 0.9566\n",
            "Epoch 117/500\n",
            "8/8 [==============================] - 0s 2ms/step - loss: 0.1238 - accuracy: 0.9577\n",
            "Epoch 118/500\n",
            "8/8 [==============================] - 0s 2ms/step - loss: 0.1159 - accuracy: 0.9717\n",
            "Epoch 119/500\n",
            "8/8 [==============================] - 0s 2ms/step - loss: 0.1298 - accuracy: 0.9697\n",
            "Epoch 120/500\n",
            "8/8 [==============================] - 0s 3ms/step - loss: 0.1402 - accuracy: 0.9676\n",
            "Epoch 121/500\n",
            "8/8 [==============================] - 0s 2ms/step - loss: 0.1226 - accuracy: 0.9833\n",
            "Epoch 122/500\n",
            "8/8 [==============================] - 0s 2ms/step - loss: 0.1342 - accuracy: 0.9526\n",
            "Epoch 123/500\n",
            "8/8 [==============================] - 0s 2ms/step - loss: 0.1210 - accuracy: 0.9663\n",
            "Epoch 124/500\n",
            "8/8 [==============================] - 0s 3ms/step - loss: 0.1119 - accuracy: 0.9826\n",
            "Epoch 125/500\n",
            "8/8 [==============================] - 0s 4ms/step - loss: 0.1129 - accuracy: 0.9735\n",
            "Epoch 126/500\n",
            "8/8 [==============================] - 0s 3ms/step - loss: 0.1057 - accuracy: 0.9674\n",
            "Epoch 127/500\n",
            "8/8 [==============================] - 0s 2ms/step - loss: 0.1089 - accuracy: 0.9804\n",
            "Epoch 128/500\n",
            "8/8 [==============================] - 0s 3ms/step - loss: 0.1138 - accuracy: 0.9625\n",
            "Epoch 129/500\n",
            "8/8 [==============================] - 0s 3ms/step - loss: 0.1070 - accuracy: 0.9718\n",
            "Epoch 130/500\n",
            "8/8 [==============================] - 0s 2ms/step - loss: 0.0861 - accuracy: 0.9774\n",
            "Epoch 131/500\n",
            "8/8 [==============================] - 0s 2ms/step - loss: 0.0947 - accuracy: 0.9747\n",
            "Epoch 132/500\n",
            "8/8 [==============================] - 0s 3ms/step - loss: 0.1059 - accuracy: 0.9530\n",
            "Epoch 133/500\n",
            "8/8 [==============================] - 0s 2ms/step - loss: 0.1213 - accuracy: 0.9683\n",
            "Epoch 134/500\n",
            "8/8 [==============================] - 0s 2ms/step - loss: 0.1340 - accuracy: 0.9421\n"
          ],
          "name": "stdout"
        }
      ]
    },
    {
      "cell_type": "code",
      "metadata": {
        "colab": {
          "base_uri": "https://localhost:8080/",
          "height": 368
        },
        "id": "Vk-dxrFtTgKg",
        "outputId": "e01b9620-d504-4e92-ea8b-90937df6273e"
      },
      "source": [
        "import matplotlib.pyplot as plt\n",
        "\n",
        "plt.figure(figsize=(16,5))\n",
        "\n",
        "plt.subplot(1,2,1)\n",
        "plt.plot(history.history['accuracy'])\n",
        "plt.title('Training Accuracy')\n",
        "plt.ylabel('accuracy')\n",
        "plt.xlabel('epoch')\n",
        "plt.legend(['train_accuracy'], loc='best')\n",
        "\n",
        "plt.subplot(1,2,2)\n",
        "plt.plot(history.history['loss'])\n",
        "plt.title('Training Loss')\n",
        "plt.ylabel('loss')\n",
        "plt.xlabel('epoch')\n",
        "plt.legend(['train_loss'], loc='best')"
      ],
      "execution_count": 38,
      "outputs": [
        {
          "output_type": "execute_result",
          "data": {
            "text/plain": [
              "<matplotlib.legend.Legend at 0x7f4d473d0e10>"
            ]
          },
          "metadata": {
            "tags": []
          },
          "execution_count": 38
        },
        {
          "output_type": "display_data",
          "data": {
            "image/png": "[encoded data removed]",
            "text/plain": [
              "<Figure size 1152x360 with 2 Axes>"
            ]
          },
          "metadata": {
            "tags": [],
            "needs_background": "light"
          }
        }
      ]
    },
    {
      "cell_type": "code",
      "metadata": {
        "colab": {
          "base_uri": "https://localhost:8080/"
        },
        "id": "DmqU48c6TwbI",
        "outputId": "7c771aaf-fc89-4c6b-ff89-b88e733b43ca"
      },
      "source": [
        "import numpy as np\n",
        "from sklearn.metrics import accuracy_score\n",
        "\n",
        "predictions = model.predict(X_validate)\n",
        "\n",
        "THRESHOLD = 0.75\n",
        "\n",
        "new_predict = [1 if x >= THRESHOLD else 0 for x in predictions]\n",
        "new_predict = np.array(new_predict)\n",
        "\n",
        "accuracy_score(y_validate, new_predict)"
      ],
      "execution_count": 40,
      "outputs": [
        {
          "output_type": "execute_result",
          "data": {
            "text/plain": [
              "0.8524590163934426"
            ]
          },
          "metadata": {
            "tags": []
          },
          "execution_count": 40
        }
      ]
    },
    {
      "cell_type": "markdown",
      "metadata": {
        "id": "_K0Glj08Wf96"
      },
      "source": [
        "---"
      ]
    }
  ]
}