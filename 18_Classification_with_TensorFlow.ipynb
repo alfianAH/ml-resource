{
  "nbformat": 4,
  "nbformat_minor": 0,
  "metadata": {
    "colab": {
      "name": "#18-Classification with TensorFlow.ipynb",
      "provenance": [],
      "collapsed_sections": [
        "copyright",
        "PcoLpQIGNn_i",
        "5du8Nf50PP_e",
        "PpuEAl0mgttU",
        "pBTMpUv0lPiY"
      ],
      "toc_visible": true,
      "include_colab_link": true
    },
    "kernelspec": {
      "display_name": "Python 3",
      "name": "python3"
    }
  },
  "cells": [
    {
      "cell_type": "markdown",
      "metadata": {
        "id": "view-in-github",
        "colab_type": "text"
      },
      "source": [
        "<a href=\"https://colab.research.google.com/github/alfianAH/ml-resource/blob/main/_18_Classification_with_TensorFlow.ipynb\" target=\"_parent\"><img src=\"https://colab.research.google.com/assets/colab-badge.svg\" alt=\"Open In Colab\"/></a>"
      ]
    },
    {
      "cell_type": "markdown",
      "metadata": {
        "id": "copyright"
      },
      "source": [
        "#### Copyright 2020 Google LLC."
      ]
    },
    {
      "cell_type": "code",
      "metadata": {
        "id": "BX4BkCSEPV26"
      },
      "source": [
        "# Licensed under the Apache License, Version 2.0 (the \"License\");\n",
        "# you may not use this file except in compliance with the License.\n",
        "# You may obtain a copy of the License at\n",
        "#\n",
        "# https://www.apache.org/licenses/LICENSE-2.0\n",
        "#\n",
        "# Unless required by applicable law or agreed to in writing, software\n",
        "# distributed under the License is distributed on an \"AS IS\" BASIS,\n",
        "# WITHOUT WARRANTIES OR CONDITIONS OF ANY KIND, either express or implied.\n",
        "# See the License for the specific language governing permissions and\n",
        "# limitations under the License."
      ],
      "execution_count": null,
      "outputs": []
    },
    {
      "cell_type": "markdown",
      "metadata": {
        "id": "eXugJRE9PcpT"
      },
      "source": [
        "# Classification with TensorFlow"
      ]
    },
    {
      "cell_type": "markdown",
      "metadata": {
        "id": "KrDw3-6MIhhJ"
      },
      "source": [
        "By now you should be familiar with classification in scikit-learn. In this Colab we will explore another commonly used tool for classification and machine learning: TensorFlow."
      ]
    },
    {
      "cell_type": "markdown",
      "metadata": {
        "id": "ryWbLSCgKGOp"
      },
      "source": [
        "## The Dataset"
      ]
    },
    {
      "cell_type": "markdown",
      "metadata": {
        "id": "owzuGnZ9KH57"
      },
      "source": [
        "The dataset that we'll be using is the [UCI Heart Disease dataset](http://archive.ics.uci.edu/ml/datasets/Heart+Disease). The dataset contains health information about patients, as well as a \"presence of heart disease\" indicator.\n",
        "\n",
        "The [original dataset](http://archive.ics.uci.edu/ml/datasets/Heart+Disease) contains over 70 different attributes and five heart disease classifications. For this lab we'll use a [simplified version of the dataset](https://www.kaggle.com/ronitf/heart-disease-uci) hosted on Kaggle.\n",
        "\n",
        "This simplified version of the dataset contains 13 attributes and a yes/no indicator for the presence or absence of heart disease.\n",
        "\n",
        "The columns are below:\n",
        "\n",
        "Feature | Description\n",
        "--------|--------------\n",
        "age     | age in years\n",
        "sex     | sex<br>0 = female<br>1 = male\n",
        "cp      | chest pain type<br>1 = typical angina<br>2 = atypical angina<br>3 = non-anginal pain<br>4 = asymptomatic\n",
        "trestbps  | resting blood pressure in Hg\n",
        "chol      | serum cholesterol in mg/dl\n",
        "fbs       | is fasting blood sugar > 120 mg/dl<br>0 = false<br>1 = true\n",
        "restecg   | results of a resting electrocardiograph<br>0 = normal<br>1 = ST-T wave abnormality<br>2 = left ventricular hypertrophy\n",
        "thalach   | max heart rate\n",
        "exang     | exercise induced angina<br>0 = no<br>1 = yes\n",
        "oldpeak   | measurement of an abnormal ST depression\n",
        "slope     | slope of peak of exercise ST segment<br>1 = upslope<br>2 = flat<br>3 = downslope\n",
        "ca        | count of major blood vessels colored by fluoroscopy<br>0, 1, 2, 3, or 4\n",
        "thal      | presence heart condition<br>0 = unknown<br>1 = normal<br>2 = fixed defect<br>3 = reversible defect\n",
        "\n",
        "The heart disease indicator is a 0 for no disease and a 1 for heart disease.\n",
        "\n",
        "Let's assume we have been given this dataset by the Cleveland Clinic and have been asked to build a model that can predict if their patients have heart disease or not. The purpose of the model is to assist doctors in making diagnostic decisions faster."
      ]
    },
    {
      "cell_type": "markdown",
      "metadata": {
        "id": "0Ci8tyuGL365"
      },
      "source": [
        "### Exercise 1: Ethical Considerations\n",
        "\n",
        "Before we dive in, let's take a moment to think about the dataset and the larger problem that we are trying to solve. We have 17 data attributes related to an individual's health, as well as an indicator that determines if the patient has heart disease."
      ]
    },
    {
      "cell_type": "markdown",
      "metadata": {
        "id": "fNn5FTmaMEux"
      },
      "source": [
        "#### Question 1\n",
        "\n",
        "Are there any attributes in the data that we should pay special attention to? Imagine a case where the data is unbalanced in some way. How might that affect the model and the doctor/patient experience?"
      ]
    },
    {
      "cell_type": "markdown",
      "metadata": {
        "id": "f7SNDV81NkHV"
      },
      "source": [
        "##### **Student Solution**"
      ]
    },
    {
      "cell_type": "markdown",
      "metadata": {
        "id": "tEfCxyNVNlk_"
      },
      "source": [
        "> We should pay attention to \n",
        "1. cp (chest pain type), \n",
        "1. trestbps (resting blood pressure)\n",
        "1. chol (serum cholestrol)\n",
        "1. restecg (resting electrocardiograph)\n",
        "1. thalach (max heart rate)\n",
        "1. thal (presence heart condition)\n",
        "\n",
        "> If the data is unbalanced, it will give false positive and false negative."
      ]
    },
    {
      "cell_type": "markdown",
      "metadata": {
        "id": "zNemvB8nTjz-"
      },
      "source": [
        "---"
      ]
    },
    {
      "cell_type": "markdown",
      "metadata": {
        "id": "xBAYBKo-Ozja"
      },
      "source": [
        "#### Question 2\n",
        "\n",
        "Assuming we can get a reasonably well-performing model deployed, is there potential for problems with how the predictions from this model are interpreted and used?"
      ]
    },
    {
      "cell_type": "markdown",
      "metadata": {
        "id": "_IriIC2DPL8d"
      },
      "source": [
        "##### **Student Solution**"
      ]
    },
    {
      "cell_type": "markdown",
      "metadata": {
        "id": "PhRc5qbjPNn2"
      },
      "source": [
        "> I don't think so"
      ]
    },
    {
      "cell_type": "markdown",
      "metadata": {
        "id": "KU1bmHjCTsKH"
      },
      "source": [
        "---"
      ]
    },
    {
      "cell_type": "markdown",
      "metadata": {
        "id": "70JOzTBLPwcf"
      },
      "source": [
        "### Exploratory Data Analysis"
      ]
    },
    {
      "cell_type": "markdown",
      "metadata": {
        "id": "t-igE14mP0X5"
      },
      "source": [
        "Let's download the data and take a look at what we are working with.\n",
        "\n",
        "Upload your `kaggle.json` file and run the code below."
      ]
    },
    {
      "cell_type": "code",
      "metadata": {
        "id": "gNulecG9as1b",
        "colab": {
          "base_uri": "https://localhost:8080/"
        },
        "outputId": "44692ed5-f29f-4b74-bb0c-eefa320b3b6e"
      },
      "source": [
        "! chmod 600 kaggle.json && (ls ~/.kaggle 2>/dev/null || mkdir ~/.kaggle) && mv kaggle.json ~/.kaggle/ && echo 'Done'"
      ],
      "execution_count": 1,
      "outputs": [
        {
          "output_type": "stream",
          "text": [
            "Done\n"
          ],
          "name": "stdout"
        }
      ]
    },
    {
      "cell_type": "markdown",
      "metadata": {
        "id": "_My-5RPAP9qC"
      },
      "source": [
        "And then download the dataset."
      ]
    },
    {
      "cell_type": "code",
      "metadata": {
        "id": "Kj7CvPiWbPP7",
        "colab": {
          "base_uri": "https://localhost:8080/"
        },
        "outputId": "f18cebcb-5176-4100-dcc6-2b7c459f8b34"
      },
      "source": [
        "!kaggle datasets download ronitf/heart-disease-uci\n",
        "!ls"
      ],
      "execution_count": 2,
      "outputs": [
        {
          "output_type": "stream",
          "text": [
            "Downloading heart-disease-uci.zip to /content\n",
            "\r  0% 0.00/3.40k [00:00<?, ?B/s]\n",
            "\r100% 3.40k/3.40k [00:00<00:00, 2.89MB/s]\n",
            "heart-disease-uci.zip  sample_data\n"
          ],
          "name": "stdout"
        }
      ]
    },
    {
      "cell_type": "markdown",
      "metadata": {
        "id": "7_An5CMFQBFJ"
      },
      "source": [
        "And load the data into a `DataFrame` and take a peek."
      ]
    },
    {
      "cell_type": "code",
      "metadata": {
        "id": "yBFg4O0TbSTX",
        "colab": {
          "base_uri": "https://localhost:8080/",
          "height": 206
        },
        "outputId": "0f4e016e-53f3-4619-a5cc-57dd1eff10ba"
      },
      "source": [
        "import pandas as pd\n",
        "\n",
        "df = pd.read_csv('heart-disease-uci.zip')\n",
        "df.sample(5)"
      ],
      "execution_count": 3,
      "outputs": [
        {
          "output_type": "execute_result",
          "data": {
            "text/html": [
              "<div>\n",
              "<style scoped>\n",
              "    .dataframe tbody tr th:only-of-type {\n",
              "        vertical-align: middle;\n",
              "    }\n",
              "\n",
              "    .dataframe tbody tr th {\n",
              "        vertical-align: top;\n",
              "    }\n",
              "\n",
              "    .dataframe thead th {\n",
              "        text-align: right;\n",
              "    }\n",
              "</style>\n",
              "<table border=\"1\" class=\"dataframe\">\n",
              "  <thead>\n",
              "    <tr style=\"text-align: right;\">\n",
              "      <th></th>\n",
              "      <th>age</th>\n",
              "      <th>sex</th>\n",
              "      <th>cp</th>\n",
              "      <th>trestbps</th>\n",
              "      <th>chol</th>\n",
              "      <th>fbs</th>\n",
              "      <th>restecg</th>\n",
              "      <th>thalach</th>\n",
              "      <th>exang</th>\n",
              "      <th>oldpeak</th>\n",
              "      <th>slope</th>\n",
              "      <th>ca</th>\n",
              "      <th>thal</th>\n",
              "      <th>target</th>\n",
              "    </tr>\n",
              "  </thead>\n",
              "  <tbody>\n",
              "    <tr>\n",
              "      <th>249</th>\n",
              "      <td>69</td>\n",
              "      <td>1</td>\n",
              "      <td>2</td>\n",
              "      <td>140</td>\n",
              "      <td>254</td>\n",
              "      <td>0</td>\n",
              "      <td>0</td>\n",
              "      <td>146</td>\n",
              "      <td>0</td>\n",
              "      <td>2.0</td>\n",
              "      <td>1</td>\n",
              "      <td>3</td>\n",
              "      <td>3</td>\n",
              "      <td>0</td>\n",
              "    </tr>\n",
              "    <tr>\n",
              "      <th>20</th>\n",
              "      <td>59</td>\n",
              "      <td>1</td>\n",
              "      <td>0</td>\n",
              "      <td>135</td>\n",
              "      <td>234</td>\n",
              "      <td>0</td>\n",
              "      <td>1</td>\n",
              "      <td>161</td>\n",
              "      <td>0</td>\n",
              "      <td>0.5</td>\n",
              "      <td>1</td>\n",
              "      <td>0</td>\n",
              "      <td>3</td>\n",
              "      <td>1</td>\n",
              "    </tr>\n",
              "    <tr>\n",
              "      <th>147</th>\n",
              "      <td>60</td>\n",
              "      <td>0</td>\n",
              "      <td>3</td>\n",
              "      <td>150</td>\n",
              "      <td>240</td>\n",
              "      <td>0</td>\n",
              "      <td>1</td>\n",
              "      <td>171</td>\n",
              "      <td>0</td>\n",
              "      <td>0.9</td>\n",
              "      <td>2</td>\n",
              "      <td>0</td>\n",
              "      <td>2</td>\n",
              "      <td>1</td>\n",
              "    </tr>\n",
              "    <tr>\n",
              "      <th>74</th>\n",
              "      <td>43</td>\n",
              "      <td>0</td>\n",
              "      <td>2</td>\n",
              "      <td>122</td>\n",
              "      <td>213</td>\n",
              "      <td>0</td>\n",
              "      <td>1</td>\n",
              "      <td>165</td>\n",
              "      <td>0</td>\n",
              "      <td>0.2</td>\n",
              "      <td>1</td>\n",
              "      <td>0</td>\n",
              "      <td>2</td>\n",
              "      <td>1</td>\n",
              "    </tr>\n",
              "    <tr>\n",
              "      <th>34</th>\n",
              "      <td>51</td>\n",
              "      <td>1</td>\n",
              "      <td>3</td>\n",
              "      <td>125</td>\n",
              "      <td>213</td>\n",
              "      <td>0</td>\n",
              "      <td>0</td>\n",
              "      <td>125</td>\n",
              "      <td>1</td>\n",
              "      <td>1.4</td>\n",
              "      <td>2</td>\n",
              "      <td>1</td>\n",
              "      <td>2</td>\n",
              "      <td>1</td>\n",
              "    </tr>\n",
              "  </tbody>\n",
              "</table>\n",
              "</div>"
            ],
            "text/plain": [
              "     age  sex  cp  trestbps  chol  fbs  ...  exang  oldpeak  slope  ca  thal  target\n",
              "249   69    1   2       140   254    0  ...      0      2.0      1   3     3       0\n",
              "20    59    1   0       135   234    0  ...      0      0.5      1   0     3       1\n",
              "147   60    0   3       150   240    0  ...      0      0.9      2   0     2       1\n",
              "74    43    0   2       122   213    0  ...      0      0.2      1   0     2       1\n",
              "34    51    1   3       125   213    0  ...      1      1.4      2   1     2       1\n",
              "\n",
              "[5 rows x 14 columns]"
            ]
          },
          "metadata": {
            "tags": []
          },
          "execution_count": 3
        }
      ]
    },
    {
      "cell_type": "markdown",
      "metadata": {
        "id": "Lg3B3HXYQOEF"
      },
      "source": [
        "We can see that all of the data is numeric, but varies a bit in scale.\n",
        "\n",
        "Let's describe the data:"
      ]
    },
    {
      "cell_type": "code",
      "metadata": {
        "id": "tFod1RMIbZar",
        "colab": {
          "base_uri": "https://localhost:8080/",
          "height": 320
        },
        "outputId": "a5a4945b-2310-4e93-de14-f05a5332bba2"
      },
      "source": [
        "df.describe()"
      ],
      "execution_count": 4,
      "outputs": [
        {
          "output_type": "execute_result",
          "data": {
            "text/html": [
              "<div>\n",
              "<style scoped>\n",
              "    .dataframe tbody tr th:only-of-type {\n",
              "        vertical-align: middle;\n",
              "    }\n",
              "\n",
              "    .dataframe tbody tr th {\n",
              "        vertical-align: top;\n",
              "    }\n",
              "\n",
              "    .dataframe thead th {\n",
              "        text-align: right;\n",
              "    }\n",
              "</style>\n",
              "<table border=\"1\" class=\"dataframe\">\n",
              "  <thead>\n",
              "    <tr style=\"text-align: right;\">\n",
              "      <th></th>\n",
              "      <th>age</th>\n",
              "      <th>sex</th>\n",
              "      <th>cp</th>\n",
              "      <th>trestbps</th>\n",
              "      <th>chol</th>\n",
              "      <th>fbs</th>\n",
              "      <th>restecg</th>\n",
              "      <th>thalach</th>\n",
              "      <th>exang</th>\n",
              "      <th>oldpeak</th>\n",
              "      <th>slope</th>\n",
              "      <th>ca</th>\n",
              "      <th>thal</th>\n",
              "      <th>target</th>\n",
              "    </tr>\n",
              "  </thead>\n",
              "  <tbody>\n",
              "    <tr>\n",
              "      <th>count</th>\n",
              "      <td>303.000000</td>\n",
              "      <td>303.000000</td>\n",
              "      <td>303.000000</td>\n",
              "      <td>303.000000</td>\n",
              "      <td>303.000000</td>\n",
              "      <td>303.000000</td>\n",
              "      <td>303.000000</td>\n",
              "      <td>303.000000</td>\n",
              "      <td>303.000000</td>\n",
              "      <td>303.000000</td>\n",
              "      <td>303.000000</td>\n",
              "      <td>303.000000</td>\n",
              "      <td>303.000000</td>\n",
              "      <td>303.000000</td>\n",
              "    </tr>\n",
              "    <tr>\n",
              "      <th>mean</th>\n",
              "      <td>54.366337</td>\n",
              "      <td>0.683168</td>\n",
              "      <td>0.966997</td>\n",
              "      <td>131.623762</td>\n",
              "      <td>246.264026</td>\n",
              "      <td>0.148515</td>\n",
              "      <td>0.528053</td>\n",
              "      <td>149.646865</td>\n",
              "      <td>0.326733</td>\n",
              "      <td>1.039604</td>\n",
              "      <td>1.399340</td>\n",
              "      <td>0.729373</td>\n",
              "      <td>2.313531</td>\n",
              "      <td>0.544554</td>\n",
              "    </tr>\n",
              "    <tr>\n",
              "      <th>std</th>\n",
              "      <td>9.082101</td>\n",
              "      <td>0.466011</td>\n",
              "      <td>1.032052</td>\n",
              "      <td>17.538143</td>\n",
              "      <td>51.830751</td>\n",
              "      <td>0.356198</td>\n",
              "      <td>0.525860</td>\n",
              "      <td>22.905161</td>\n",
              "      <td>0.469794</td>\n",
              "      <td>1.161075</td>\n",
              "      <td>0.616226</td>\n",
              "      <td>1.022606</td>\n",
              "      <td>0.612277</td>\n",
              "      <td>0.498835</td>\n",
              "    </tr>\n",
              "    <tr>\n",
              "      <th>min</th>\n",
              "      <td>29.000000</td>\n",
              "      <td>0.000000</td>\n",
              "      <td>0.000000</td>\n",
              "      <td>94.000000</td>\n",
              "      <td>126.000000</td>\n",
              "      <td>0.000000</td>\n",
              "      <td>0.000000</td>\n",
              "      <td>71.000000</td>\n",
              "      <td>0.000000</td>\n",
              "      <td>0.000000</td>\n",
              "      <td>0.000000</td>\n",
              "      <td>0.000000</td>\n",
              "      <td>0.000000</td>\n",
              "      <td>0.000000</td>\n",
              "    </tr>\n",
              "    <tr>\n",
              "      <th>25%</th>\n",
              "      <td>47.500000</td>\n",
              "      <td>0.000000</td>\n",
              "      <td>0.000000</td>\n",
              "      <td>120.000000</td>\n",
              "      <td>211.000000</td>\n",
              "      <td>0.000000</td>\n",
              "      <td>0.000000</td>\n",
              "      <td>133.500000</td>\n",
              "      <td>0.000000</td>\n",
              "      <td>0.000000</td>\n",
              "      <td>1.000000</td>\n",
              "      <td>0.000000</td>\n",
              "      <td>2.000000</td>\n",
              "      <td>0.000000</td>\n",
              "    </tr>\n",
              "    <tr>\n",
              "      <th>50%</th>\n",
              "      <td>55.000000</td>\n",
              "      <td>1.000000</td>\n",
              "      <td>1.000000</td>\n",
              "      <td>130.000000</td>\n",
              "      <td>240.000000</td>\n",
              "      <td>0.000000</td>\n",
              "      <td>1.000000</td>\n",
              "      <td>153.000000</td>\n",
              "      <td>0.000000</td>\n",
              "      <td>0.800000</td>\n",
              "      <td>1.000000</td>\n",
              "      <td>0.000000</td>\n",
              "      <td>2.000000</td>\n",
              "      <td>1.000000</td>\n",
              "    </tr>\n",
              "    <tr>\n",
              "      <th>75%</th>\n",
              "      <td>61.000000</td>\n",
              "      <td>1.000000</td>\n",
              "      <td>2.000000</td>\n",
              "      <td>140.000000</td>\n",
              "      <td>274.500000</td>\n",
              "      <td>0.000000</td>\n",
              "      <td>1.000000</td>\n",
              "      <td>166.000000</td>\n",
              "      <td>1.000000</td>\n",
              "      <td>1.600000</td>\n",
              "      <td>2.000000</td>\n",
              "      <td>1.000000</td>\n",
              "      <td>3.000000</td>\n",
              "      <td>1.000000</td>\n",
              "    </tr>\n",
              "    <tr>\n",
              "      <th>max</th>\n",
              "      <td>77.000000</td>\n",
              "      <td>1.000000</td>\n",
              "      <td>3.000000</td>\n",
              "      <td>200.000000</td>\n",
              "      <td>564.000000</td>\n",
              "      <td>1.000000</td>\n",
              "      <td>2.000000</td>\n",
              "      <td>202.000000</td>\n",
              "      <td>1.000000</td>\n",
              "      <td>6.200000</td>\n",
              "      <td>2.000000</td>\n",
              "      <td>4.000000</td>\n",
              "      <td>3.000000</td>\n",
              "      <td>1.000000</td>\n",
              "    </tr>\n",
              "  </tbody>\n",
              "</table>\n",
              "</div>"
            ],
            "text/plain": [
              "              age         sex          cp  ...          ca        thal      target\n",
              "count  303.000000  303.000000  303.000000  ...  303.000000  303.000000  303.000000\n",
              "mean    54.366337    0.683168    0.966997  ...    0.729373    2.313531    0.544554\n",
              "std      9.082101    0.466011    1.032052  ...    1.022606    0.612277    0.498835\n",
              "min     29.000000    0.000000    0.000000  ...    0.000000    0.000000    0.000000\n",
              "25%     47.500000    0.000000    0.000000  ...    0.000000    2.000000    0.000000\n",
              "50%     55.000000    1.000000    1.000000  ...    0.000000    2.000000    1.000000\n",
              "75%     61.000000    1.000000    2.000000  ...    1.000000    3.000000    1.000000\n",
              "max     77.000000    1.000000    3.000000  ...    4.000000    3.000000    1.000000\n",
              "\n",
              "[8 rows x 14 columns]"
            ]
          },
          "metadata": {
            "tags": []
          },
          "execution_count": 4
        }
      ]
    },
    {
      "cell_type": "markdown",
      "metadata": {
        "id": "HePmoUX8QZ68"
      },
      "source": [
        "No missing data. Only 303 rows of data, though, so we aren't working with a huge dataset.\n",
        "\n",
        "Now we'll dig deeper into the data in a few of the columns. If you were working with a dataset for a real-world model you would want to explore each column.\n",
        "\n",
        "We'll start by mapping out the correlations in the data."
      ]
    },
    {
      "cell_type": "code",
      "metadata": {
        "id": "2zpT6H3IQzlV",
        "colab": {
          "base_uri": "https://localhost:8080/",
          "height": 626
        },
        "outputId": "582b62bd-d162-4543-bf4d-7675c001545d"
      },
      "source": [
        "import matplotlib.pyplot as plt\n",
        "import seaborn as sns\n",
        "\n",
        "plt.figure(figsize=(10,10))\n",
        "_ = sns.heatmap(df.corr(), cmap='coolwarm', annot=True)"
      ],
      "execution_count": 5,
      "outputs": [
        {
          "output_type": "display_data",
          "data": {
            "image/png": "[encoded data removed]",
            "text/plain": [
              "<Figure size 720x720 with 2 Axes>"
            ]
          },
          "metadata": {
            "tags": [],
            "needs_background": "light"
          }
        }
      ]
    },
    {
      "cell_type": "markdown",
      "metadata": {
        "id": "YuYIA8KFRich"
      },
      "source": [
        "There are no obviously strong correlations.\n",
        "\n",
        "Let's now see how balanced our data is by sex:"
      ]
    },
    {
      "cell_type": "code",
      "metadata": {
        "id": "HhNIowgiRrV_",
        "colab": {
          "base_uri": "https://localhost:8080/",
          "height": 283
        },
        "outputId": "1b98e4cf-ad98-4cc2-b2ec-55125751484a"
      },
      "source": [
        "df['sex'].hist()"
      ],
      "execution_count": 6,
      "outputs": [
        {
          "output_type": "execute_result",
          "data": {
            "text/plain": [
              "<matplotlib.axes._subplots.AxesSubplot at 0x7fc8896e6b90>"
            ]
          },
          "metadata": {
            "tags": []
          },
          "execution_count": 6
        },
        {
          "output_type": "display_data",
          "data": {
            "image/png": "[encoded data removed]",
            "text/plain": [
              "<Figure size 432x288 with 1 Axes>"
            ]
          },
          "metadata": {
            "tags": [],
            "needs_background": "light"
          }
        }
      ]
    },
    {
      "cell_type": "markdown",
      "metadata": {
        "id": "MQAIX7B_Ry51"
      },
      "source": [
        "In this data female maps to 0 and male maps to 1, so there are over twice as many men in the dataset."
      ]
    },
    {
      "cell_type": "markdown",
      "metadata": {
        "id": "xUCv_seER_QL"
      },
      "source": [
        "Let's also check out the target."
      ]
    },
    {
      "cell_type": "code",
      "metadata": {
        "id": "Dtw_Qi1ER8fo",
        "colab": {
          "base_uri": "https://localhost:8080/",
          "height": 283
        },
        "outputId": "6a0e8e69-3c8e-4c36-92f1-c085abc8739a"
      },
      "source": [
        "df['target'].hist()"
      ],
      "execution_count": 7,
      "outputs": [
        {
          "output_type": "execute_result",
          "data": {
            "text/plain": [
              "<matplotlib.axes._subplots.AxesSubplot at 0x7fc88966b4d0>"
            ]
          },
          "metadata": {
            "tags": []
          },
          "execution_count": 7
        },
        {
          "output_type": "display_data",
          "data": {
            "image/png": "[encoded data removed]",
            "text/plain": [
              "<Figure size 432x288 with 1 Axes>"
            ]
          },
          "metadata": {
            "tags": [],
            "needs_background": "light"
          }
        }
      ]
    },
    {
      "cell_type": "markdown",
      "metadata": {
        "id": "nRJWasBGSC_j"
      },
      "source": [
        "In this case the dataset looks more balanced."
      ]
    },
    {
      "cell_type": "markdown",
      "metadata": {
        "id": "ejVlvHCqSLJK"
      },
      "source": [
        "And finally we'll look at age."
      ]
    },
    {
      "cell_type": "code",
      "metadata": {
        "id": "zWaUmlctSHZx",
        "colab": {
          "base_uri": "https://localhost:8080/",
          "height": 283
        },
        "outputId": "8f65d75c-f7a7-46fe-a62c-f1cdbd80acaa"
      },
      "source": [
        "df['age'].hist()"
      ],
      "execution_count": 8,
      "outputs": [
        {
          "output_type": "execute_result",
          "data": {
            "text/plain": [
              "<matplotlib.axes._subplots.AxesSubplot at 0x7fc88965cb90>"
            ]
          },
          "metadata": {
            "tags": []
          },
          "execution_count": 8
        },
        {
          "output_type": "display_data",
          "data": {
            "image/png": "[encoded data removed]",
            "text/plain": [
              "<Figure size 432x288 with 1 Axes>"
            ]
          },
          "metadata": {
            "tags": [],
            "needs_background": "light"
          }
        }
      ]
    },
    {
      "cell_type": "markdown",
      "metadata": {
        "id": "K105PK38SPou"
      },
      "source": [
        "The dataset seems to be pretty heavily skewed toward individuals in their 50s and 60s."
      ]
    },
    {
      "cell_type": "markdown",
      "metadata": {
        "id": "dSxDdJ1QSezo"
      },
      "source": [
        "There isn't a lot of actionable information from our analysis. We might want to stratify our data by sex when we train and test our model, but there are no data repairs that seem to need to be done.\n",
        "\n",
        "If you were building this model for a real world application, you would also want to ensure that the values in the numeric columns are realistic."
      ]
    },
    {
      "cell_type": "markdown",
      "metadata": {
        "id": "8GzJm-2mScy-"
      },
      "source": [
        "## The Model"
      ]
    },
    {
      "cell_type": "markdown",
      "metadata": {
        "id": "istg6urgS-Ke"
      },
      "source": [
        "Let's build and train our model. We'll build a deep neural network that takes our input features and returns a `0` if it predicts that the patient doesn't have heart disease and a `1` if it predicts that the patient does have heart disease."
      ]
    },
    {
      "cell_type": "markdown",
      "metadata": {
        "id": "3QM9AMMYTbQ7"
      },
      "source": [
        "First let's create a list of features to make coding easier."
      ]
    },
    {
      "cell_type": "code",
      "metadata": {
        "id": "0J_mhetHTn2s",
        "colab": {
          "base_uri": "https://localhost:8080/"
        },
        "outputId": "ea91565e-1e3f-4b3e-9bd9-8a5c744c8e50"
      },
      "source": [
        "FEATURES = df.columns.values[:-1]\n",
        "TARGET = df.columns.values[-1]\n",
        "\n",
        "FEATURES, TARGET"
      ],
      "execution_count": 9,
      "outputs": [
        {
          "output_type": "execute_result",
          "data": {
            "text/plain": [
              "(array(['age', 'sex', 'cp', 'trestbps', 'chol', 'fbs', 'restecg',\n",
              "        'thalach', 'exang', 'oldpeak', 'slope', 'ca', 'thal'], dtype=object),\n",
              " 'target')"
            ]
          },
          "metadata": {
            "tags": []
          },
          "execution_count": 9
        }
      ]
    },
    {
      "cell_type": "markdown",
      "metadata": {
        "id": "nZSZ94RVTrHv"
      },
      "source": [
        "We'll also want to normalize our feature data before feeding it into the model."
      ]
    },
    {
      "cell_type": "code",
      "metadata": {
        "id": "y3o_nvShTwKE",
        "colab": {
          "base_uri": "https://localhost:8080/",
          "height": 320
        },
        "outputId": "50207d0f-b767-4ebf-86a5-ae25faf7f844"
      },
      "source": [
        "df.loc[:, FEATURES] = ((df[FEATURES] - df[FEATURES].min()) / (df[FEATURES].max() - df[FEATURES].min()))\n",
        "\n",
        "df.describe()"
      ],
      "execution_count": 10,
      "outputs": [
        {
          "output_type": "execute_result",
          "data": {
            "text/html": [
              "<div>\n",
              "<style scoped>\n",
              "    .dataframe tbody tr th:only-of-type {\n",
              "        vertical-align: middle;\n",
              "    }\n",
              "\n",
              "    .dataframe tbody tr th {\n",
              "        vertical-align: top;\n",
              "    }\n",
              "\n",
              "    .dataframe thead th {\n",
              "        text-align: right;\n",
              "    }\n",
              "</style>\n",
              "<table border=\"1\" class=\"dataframe\">\n",
              "  <thead>\n",
              "    <tr style=\"text-align: right;\">\n",
              "      <th></th>\n",
              "      <th>age</th>\n",
              "      <th>sex</th>\n",
              "      <th>cp</th>\n",
              "      <th>trestbps</th>\n",
              "      <th>chol</th>\n",
              "      <th>fbs</th>\n",
              "      <th>restecg</th>\n",
              "      <th>thalach</th>\n",
              "      <th>exang</th>\n",
              "      <th>oldpeak</th>\n",
              "      <th>slope</th>\n",
              "      <th>ca</th>\n",
              "      <th>thal</th>\n",
              "      <th>target</th>\n",
              "    </tr>\n",
              "  </thead>\n",
              "  <tbody>\n",
              "    <tr>\n",
              "      <th>count</th>\n",
              "      <td>303.000000</td>\n",
              "      <td>303.000000</td>\n",
              "      <td>303.000000</td>\n",
              "      <td>303.000000</td>\n",
              "      <td>303.000000</td>\n",
              "      <td>303.000000</td>\n",
              "      <td>303.000000</td>\n",
              "      <td>303.000000</td>\n",
              "      <td>303.000000</td>\n",
              "      <td>303.000000</td>\n",
              "      <td>303.000000</td>\n",
              "      <td>303.000000</td>\n",
              "      <td>303.000000</td>\n",
              "      <td>303.000000</td>\n",
              "    </tr>\n",
              "    <tr>\n",
              "      <th>mean</th>\n",
              "      <td>0.528465</td>\n",
              "      <td>0.683168</td>\n",
              "      <td>0.322332</td>\n",
              "      <td>0.354941</td>\n",
              "      <td>0.274575</td>\n",
              "      <td>0.148515</td>\n",
              "      <td>0.264026</td>\n",
              "      <td>0.600358</td>\n",
              "      <td>0.326733</td>\n",
              "      <td>0.167678</td>\n",
              "      <td>0.699670</td>\n",
              "      <td>0.182343</td>\n",
              "      <td>0.771177</td>\n",
              "      <td>0.544554</td>\n",
              "    </tr>\n",
              "    <tr>\n",
              "      <th>std</th>\n",
              "      <td>0.189210</td>\n",
              "      <td>0.466011</td>\n",
              "      <td>0.344017</td>\n",
              "      <td>0.165454</td>\n",
              "      <td>0.118335</td>\n",
              "      <td>0.356198</td>\n",
              "      <td>0.262930</td>\n",
              "      <td>0.174849</td>\n",
              "      <td>0.469794</td>\n",
              "      <td>0.187270</td>\n",
              "      <td>0.308113</td>\n",
              "      <td>0.255652</td>\n",
              "      <td>0.204092</td>\n",
              "      <td>0.498835</td>\n",
              "    </tr>\n",
              "    <tr>\n",
              "      <th>min</th>\n",
              "      <td>0.000000</td>\n",
              "      <td>0.000000</td>\n",
              "      <td>0.000000</td>\n",
              "      <td>0.000000</td>\n",
              "      <td>0.000000</td>\n",
              "      <td>0.000000</td>\n",
              "      <td>0.000000</td>\n",
              "      <td>0.000000</td>\n",
              "      <td>0.000000</td>\n",
              "      <td>0.000000</td>\n",
              "      <td>0.000000</td>\n",
              "      <td>0.000000</td>\n",
              "      <td>0.000000</td>\n",
              "      <td>0.000000</td>\n",
              "    </tr>\n",
              "    <tr>\n",
              "      <th>25%</th>\n",
              "      <td>0.385417</td>\n",
              "      <td>0.000000</td>\n",
              "      <td>0.000000</td>\n",
              "      <td>0.245283</td>\n",
              "      <td>0.194064</td>\n",
              "      <td>0.000000</td>\n",
              "      <td>0.000000</td>\n",
              "      <td>0.477099</td>\n",
              "      <td>0.000000</td>\n",
              "      <td>0.000000</td>\n",
              "      <td>0.500000</td>\n",
              "      <td>0.000000</td>\n",
              "      <td>0.666667</td>\n",
              "      <td>0.000000</td>\n",
              "    </tr>\n",
              "    <tr>\n",
              "      <th>50%</th>\n",
              "      <td>0.541667</td>\n",
              "      <td>1.000000</td>\n",
              "      <td>0.333333</td>\n",
              "      <td>0.339623</td>\n",
              "      <td>0.260274</td>\n",
              "      <td>0.000000</td>\n",
              "      <td>0.500000</td>\n",
              "      <td>0.625954</td>\n",
              "      <td>0.000000</td>\n",
              "      <td>0.129032</td>\n",
              "      <td>0.500000</td>\n",
              "      <td>0.000000</td>\n",
              "      <td>0.666667</td>\n",
              "      <td>1.000000</td>\n",
              "    </tr>\n",
              "    <tr>\n",
              "      <th>75%</th>\n",
              "      <td>0.666667</td>\n",
              "      <td>1.000000</td>\n",
              "      <td>0.666667</td>\n",
              "      <td>0.433962</td>\n",
              "      <td>0.339041</td>\n",
              "      <td>0.000000</td>\n",
              "      <td>0.500000</td>\n",
              "      <td>0.725191</td>\n",
              "      <td>1.000000</td>\n",
              "      <td>0.258065</td>\n",
              "      <td>1.000000</td>\n",
              "      <td>0.250000</td>\n",
              "      <td>1.000000</td>\n",
              "      <td>1.000000</td>\n",
              "    </tr>\n",
              "    <tr>\n",
              "      <th>max</th>\n",
              "      <td>1.000000</td>\n",
              "      <td>1.000000</td>\n",
              "      <td>1.000000</td>\n",
              "      <td>1.000000</td>\n",
              "      <td>1.000000</td>\n",
              "      <td>1.000000</td>\n",
              "      <td>1.000000</td>\n",
              "      <td>1.000000</td>\n",
              "      <td>1.000000</td>\n",
              "      <td>1.000000</td>\n",
              "      <td>1.000000</td>\n",
              "      <td>1.000000</td>\n",
              "      <td>1.000000</td>\n",
              "      <td>1.000000</td>\n",
              "    </tr>\n",
              "  </tbody>\n",
              "</table>\n",
              "</div>"
            ],
            "text/plain": [
              "              age         sex          cp  ...          ca        thal      target\n",
              "count  303.000000  303.000000  303.000000  ...  303.000000  303.000000  303.000000\n",
              "mean     0.528465    0.683168    0.322332  ...    0.182343    0.771177    0.544554\n",
              "std      0.189210    0.466011    0.344017  ...    0.255652    0.204092    0.498835\n",
              "min      0.000000    0.000000    0.000000  ...    0.000000    0.000000    0.000000\n",
              "25%      0.385417    0.000000    0.000000  ...    0.000000    0.666667    0.000000\n",
              "50%      0.541667    1.000000    0.333333  ...    0.000000    0.666667    1.000000\n",
              "75%      0.666667    1.000000    0.666667  ...    0.250000    1.000000    1.000000\n",
              "max      1.000000    1.000000    1.000000  ...    1.000000    1.000000    1.000000\n",
              "\n",
              "[8 rows x 14 columns]"
            ]
          },
          "metadata": {
            "tags": []
          },
          "execution_count": 10
        }
      ]
    },
    {
      "cell_type": "markdown",
      "metadata": {
        "id": "TCtMxC49Ubev"
      },
      "source": [
        "We can also now split off a validation set from our data. Since we have so many more men than women in this dataset, we will stratify on sex."
      ]
    },
    {
      "cell_type": "code",
      "metadata": {
        "id": "putOqS6YUnu8",
        "colab": {
          "base_uri": "https://localhost:8080/"
        },
        "outputId": "7dd611b3-cfdc-484e-fb98-66a5cd8d52f6"
      },
      "source": [
        "from sklearn.model_selection import train_test_split\n",
        "\n",
        "X_train, X_validate, y_train, y_validate = train_test_split(\n",
        "    df[FEATURES], df[TARGET], test_size=0.2, stratify=df['sex'])\n",
        "\n",
        "X_train.shape, X_validate.shape"
      ],
      "execution_count": 11,
      "outputs": [
        {
          "output_type": "execute_result",
          "data": {
            "text/plain": [
              "((242, 13), (61, 13))"
            ]
          },
          "metadata": {
            "tags": []
          },
          "execution_count": 11
        }
      ]
    },
    {
      "cell_type": "markdown",
      "metadata": {
        "id": "aEFNqxYjUF5h"
      },
      "source": [
        "We'll use the TensorFlow Keras [`Sequential`](https://www.tensorflow.org/api_docs/python/tf/keras/Sequential) model. The input size needs to be equal to the number of input features that we have. The output size needs to be 1 since we are predicting a yes/no value. The number and width of layers in between are an area for experimentation, as are the activation functions.\n",
        "\n",
        "We start with an initial hidden layer 64 nodes wide and funnel down to 32, 16, and finally, to the output layer of 1 node."
      ]
    },
    {
      "cell_type": "code",
      "metadata": {
        "id": "pnxd91YdczCy",
        "colab": {
          "base_uri": "https://localhost:8080/"
        },
        "outputId": "662c72df-682d-4b67-9438-644a2547f880"
      },
      "source": [
        "import tensorflow as tf\n",
        "\n",
        "model = tf.keras.Sequential([\n",
        "    tf.keras.layers.Dense(64, activation=tf.nn.relu, \n",
        "                          input_shape=(FEATURES.size,)),\n",
        "    tf.keras.layers.Dense(32, activation=tf.nn.relu),\n",
        "    tf.keras.layers.Dense(16, activation=tf.nn.relu),\n",
        "    tf.keras.layers.Dense(1, activation=tf.nn.sigmoid)\n",
        "])\n",
        "\n",
        "model.summary()"
      ],
      "execution_count": 26,
      "outputs": [
        {
          "output_type": "stream",
          "text": [
            "Model: \"sequential_1\"\n",
            "_________________________________________________________________\n",
            "Layer (type)                 Output Shape              Param #   \n",
            "=================================================================\n",
            "dense_4 (Dense)              (None, 64)                896       \n",
            "_________________________________________________________________\n",
            "dense_5 (Dense)              (None, 32)                2080      \n",
            "_________________________________________________________________\n",
            "dense_6 (Dense)              (None, 16)                528       \n",
            "_________________________________________________________________\n",
            "dense_7 (Dense)              (None, 1)                 17        \n",
            "=================================================================\n",
            "Total params: 3,521\n",
            "Trainable params: 3,521\n",
            "Non-trainable params: 0\n",
            "_________________________________________________________________\n"
          ],
          "name": "stdout"
        }
      ]
    },
    {
      "cell_type": "markdown",
      "metadata": {
        "id": "9ZZ6VUxUVhB9"
      },
      "source": [
        "We can now compile the model. We use 'binary_crossentropy' loss since this is a binary classification model."
      ]
    },
    {
      "cell_type": "code",
      "metadata": {
        "id": "adzz7_VFdFUk"
      },
      "source": [
        "model.compile(\n",
        "    loss='binary_crossentropy',\n",
        "    optimizer='Adam',\n",
        "    metrics=['accuracy']\n",
        ")"
      ],
      "execution_count": 27,
      "outputs": []
    },
    {
      "cell_type": "markdown",
      "metadata": {
        "id": "xE88mejaWUxt"
      },
      "source": [
        "And finally, we can actually fit the model. We'll start with a run of 500 training epochs. Once we are done, we'll print out the final accuracy the model achieved."
      ]
    },
    {
      "cell_type": "code",
      "metadata": {
        "id": "vdgB9wUmdL7V",
        "colab": {
          "base_uri": "https://localhost:8080/"
        },
        "outputId": "65b1c48d-d946-4f75-ba2f-bb13ee944aa8"
      },
      "source": [
        "history = model.fit(X_train, y_train, epochs=500, verbose=1)\n",
        "\n",
        "history.history['accuracy'][-1]"
      ],
      "execution_count": 28,
      "outputs": [
        {
          "output_type": "stream",
          "text": [
            "Epoch 1/500\n",
            "8/8 [==============================] - 0s 2ms/step - loss: 0.6982 - accuracy: 0.5232\n",
            "Epoch 2/500\n",
            "8/8 [==============================] - 0s 2ms/step - loss: 0.6495 - accuracy: 0.6946\n",
            "Epoch 3/500\n",
            "8/8 [==============================] - 0s 2ms/step - loss: 0.6259 - accuracy: 0.7317\n",
            "Epoch 4/500\n",
            "8/8 [==============================] - 0s 2ms/step - loss: 0.5781 - accuracy: 0.7832\n",
            "Epoch 5/500\n",
            "8/8 [==============================] - 0s 2ms/step - loss: 0.5457 - accuracy: 0.7982\n",
            "Epoch 6/500\n",
            "8/8 [==============================] - 0s 4ms/step - loss: 0.5197 - accuracy: 0.7804\n",
            "Epoch 7/500\n",
            "8/8 [==============================] - 0s 2ms/step - loss: 0.4702 - accuracy: 0.8405\n",
            "Epoch 8/500\n",
            "8/8 [==============================] - 0s 2ms/step - loss: 0.4737 - accuracy: 0.7985\n",
            "Epoch 9/500\n",
            "8/8 [==============================] - 0s 2ms/step - loss: 0.4335 - accuracy: 0.8152\n",
            "Epoch 10/500\n",
            "8/8 [==============================] - 0s 2ms/step - loss: 0.3993 - accuracy: 0.8321\n",
            "Epoch 11/500\n",
            "8/8 [==============================] - 0s 3ms/step - loss: 0.3750 - accuracy: 0.8221\n",
            "Epoch 12/500\n",
            "8/8 [==============================] - 0s 2ms/step - loss: 0.3753 - accuracy: 0.8648\n",
            "Epoch 13/500\n",
            "8/8 [==============================] - 0s 3ms/step - loss: 0.3330 - accuracy: 0.8664\n",
            "Epoch 14/500\n",
            "8/8 [==============================] - 0s 2ms/step - loss: 0.3345 - accuracy: 0.8775\n",
            "Epoch 15/500\n",
            "8/8 [==============================] - 0s 2ms/step - loss: 0.3661 - accuracy: 0.8585\n",
            "Epoch 16/500\n",
            "8/8 [==============================] - 0s 2ms/step - loss: 0.3176 - accuracy: 0.8940\n",
            "Epoch 17/500\n",
            "8/8 [==============================] - 0s 2ms/step - loss: 0.3038 - accuracy: 0.8963\n",
            "Epoch 18/500\n",
            "8/8 [==============================] - 0s 2ms/step - loss: 0.3193 - accuracy: 0.8782\n",
            "Epoch 19/500\n",
            "8/8 [==============================] - 0s 3ms/step - loss: 0.3203 - accuracy: 0.9045\n",
            "Epoch 20/500\n",
            "8/8 [==============================] - 0s 2ms/step - loss: 0.2718 - accuracy: 0.8944\n",
            "Epoch 21/500\n",
            "8/8 [==============================] - 0s 3ms/step - loss: 0.3098 - accuracy: 0.8786\n",
            "Epoch 22/500\n",
            "8/8 [==============================] - 0s 2ms/step - loss: 0.2763 - accuracy: 0.9072\n",
            "Epoch 23/500\n",
            "8/8 [==============================] - 0s 2ms/step - loss: 0.3070 - accuracy: 0.8850\n",
            "Epoch 24/500\n",
            "8/8 [==============================] - 0s 2ms/step - loss: 0.3331 - accuracy: 0.8873\n",
            "Epoch 25/500\n",
            "8/8 [==============================] - 0s 3ms/step - loss: 0.3090 - accuracy: 0.8809\n",
            "Epoch 26/500\n",
            "8/8 [==============================] - 0s 3ms/step - loss: 0.2776 - accuracy: 0.9043\n",
            "Epoch 27/500\n",
            "8/8 [==============================] - 0s 2ms/step - loss: 0.2709 - accuracy: 0.9207\n",
            "Epoch 28/500\n",
            "8/8 [==============================] - 0s 3ms/step - loss: 0.2941 - accuracy: 0.8875\n",
            "Epoch 29/500\n",
            "8/8 [==============================] - 0s 2ms/step - loss: 0.2794 - accuracy: 0.8980\n",
            "Epoch 30/500\n",
            "8/8 [==============================] - 0s 2ms/step - loss: 0.2883 - accuracy: 0.9050\n",
            "Epoch 31/500\n",
            "8/8 [==============================] - 0s 3ms/step - loss: 0.2802 - accuracy: 0.8826\n",
            "Epoch 32/500\n",
            "8/8 [==============================] - 0s 3ms/step - loss: 0.2755 - accuracy: 0.9002\n",
            "Epoch 33/500\n",
            "8/8 [==============================] - 0s 2ms/step - loss: 0.2941 - accuracy: 0.8780\n",
            "Epoch 34/500\n",
            "8/8 [==============================] - 0s 3ms/step - loss: 0.2637 - accuracy: 0.8891\n",
            "Epoch 35/500\n",
            "8/8 [==============================] - 0s 2ms/step - loss: 0.2969 - accuracy: 0.8804\n",
            "Epoch 36/500\n",
            "8/8 [==============================] - 0s 2ms/step - loss: 0.2438 - accuracy: 0.9412\n",
            "Epoch 37/500\n",
            "8/8 [==============================] - 0s 2ms/step - loss: 0.2838 - accuracy: 0.8987\n",
            "Epoch 38/500\n",
            "8/8 [==============================] - 0s 2ms/step - loss: 0.3053 - accuracy: 0.8866\n",
            "Epoch 39/500\n",
            "8/8 [==============================] - 0s 2ms/step - loss: 0.2703 - accuracy: 0.9167\n",
            "Epoch 40/500\n",
            "8/8 [==============================] - 0s 2ms/step - loss: 0.2528 - accuracy: 0.9199\n",
            "Epoch 41/500\n",
            "8/8 [==============================] - 0s 4ms/step - loss: 0.2304 - accuracy: 0.9224\n",
            "Epoch 42/500\n",
            "8/8 [==============================] - 0s 2ms/step - loss: 0.2383 - accuracy: 0.9242\n",
            "Epoch 43/500\n",
            "8/8 [==============================] - 0s 2ms/step - loss: 0.2334 - accuracy: 0.9377\n",
            "Epoch 44/500\n",
            "8/8 [==============================] - 0s 3ms/step - loss: 0.2239 - accuracy: 0.9257\n",
            "Epoch 45/500\n",
            "8/8 [==============================] - 0s 2ms/step - loss: 0.2644 - accuracy: 0.9164\n",
            "Epoch 46/500\n",
            "8/8 [==============================] - 0s 2ms/step - loss: 0.2534 - accuracy: 0.9186\n",
            "Epoch 47/500\n",
            "8/8 [==============================] - 0s 2ms/step - loss: 0.2266 - accuracy: 0.9341\n",
            "Epoch 48/500\n",
            "8/8 [==============================] - 0s 3ms/step - loss: 0.2025 - accuracy: 0.9256\n",
            "Epoch 49/500\n",
            "8/8 [==============================] - 0s 2ms/step - loss: 0.2123 - accuracy: 0.9290\n",
            "Epoch 50/500\n",
            "8/8 [==============================] - 0s 3ms/step - loss: 0.2310 - accuracy: 0.9143\n",
            "Epoch 51/500\n",
            "8/8 [==============================] - 0s 3ms/step - loss: 0.2403 - accuracy: 0.9157\n",
            "Epoch 52/500\n",
            "8/8 [==============================] - 0s 2ms/step - loss: 0.2263 - accuracy: 0.9184\n",
            "Epoch 53/500\n",
            "8/8 [==============================] - 0s 3ms/step - loss: 0.1992 - accuracy: 0.9326\n",
            "Epoch 54/500\n",
            "8/8 [==============================] - 0s 2ms/step - loss: 0.2139 - accuracy: 0.9135\n",
            "Epoch 55/500\n",
            "8/8 [==============================] - 0s 3ms/step - loss: 0.2594 - accuracy: 0.9129\n",
            "Epoch 56/500\n",
            "8/8 [==============================] - 0s 2ms/step - loss: 0.2117 - accuracy: 0.9380\n",
            "Epoch 57/500\n",
            "8/8 [==============================] - 0s 2ms/step - loss: 0.2298 - accuracy: 0.9252\n",
            "Epoch 58/500\n",
            "8/8 [==============================] - 0s 2ms/step - loss: 0.2225 - accuracy: 0.9305\n",
            "Epoch 59/500\n",
            "8/8 [==============================] - 0s 2ms/step - loss: 0.2113 - accuracy: 0.9173\n",
            "Epoch 60/500\n",
            "8/8 [==============================] - 0s 3ms/step - loss: 0.1997 - accuracy: 0.9326\n",
            "Epoch 61/500\n",
            "8/8 [==============================] - 0s 2ms/step - loss: 0.1914 - accuracy: 0.9367\n",
            "Epoch 62/500\n",
            "8/8 [==============================] - 0s 3ms/step - loss: 0.2078 - accuracy: 0.9280\n",
            "Epoch 63/500\n",
            "8/8 [==============================] - 0s 3ms/step - loss: 0.2195 - accuracy: 0.9245\n",
            "Epoch 64/500\n",
            "8/8 [==============================] - 0s 2ms/step - loss: 0.2130 - accuracy: 0.9315\n",
            "Epoch 65/500\n",
            "8/8 [==============================] - 0s 2ms/step - loss: 0.1749 - accuracy: 0.9410\n",
            "Epoch 66/500\n",
            "8/8 [==============================] - 0s 2ms/step - loss: 0.1982 - accuracy: 0.9411\n",
            "Epoch 67/500\n",
            "8/8 [==============================] - 0s 3ms/step - loss: 0.1982 - accuracy: 0.9409\n",
            "Epoch 68/500\n",
            "8/8 [==============================] - 0s 3ms/step - loss: 0.1906 - accuracy: 0.9448\n",
            "Epoch 69/500\n",
            "8/8 [==============================] - 0s 2ms/step - loss: 0.1571 - accuracy: 0.9445\n",
            "Epoch 70/500\n",
            "8/8 [==============================] - 0s 3ms/step - loss: 0.1939 - accuracy: 0.9217\n",
            "Epoch 71/500\n",
            "8/8 [==============================] - 0s 3ms/step - loss: 0.1584 - accuracy: 0.9499\n",
            "Epoch 72/500\n",
            "8/8 [==============================] - 0s 3ms/step - loss: 0.1852 - accuracy: 0.9352\n",
            "Epoch 73/500\n",
            "8/8 [==============================] - 0s 3ms/step - loss: 0.1581 - accuracy: 0.9606\n",
            "Epoch 74/500\n",
            "8/8 [==============================] - 0s 2ms/step - loss: 0.1885 - accuracy: 0.9357\n",
            "Epoch 75/500\n",
            "8/8 [==============================] - 0s 2ms/step - loss: 0.1566 - accuracy: 0.9531\n",
            "Epoch 76/500\n",
            "8/8 [==============================] - 0s 2ms/step - loss: 0.1479 - accuracy: 0.9504\n",
            "Epoch 77/500\n",
            "8/8 [==============================] - 0s 2ms/step - loss: 0.1377 - accuracy: 0.9557\n",
            "Epoch 78/500\n",
            "8/8 [==============================] - 0s 2ms/step - loss: 0.1662 - accuracy: 0.9471\n",
            "Epoch 79/500\n",
            "8/8 [==============================] - 0s 2ms/step - loss: 0.1500 - accuracy: 0.9540\n",
            "Epoch 80/500\n",
            "8/8 [==============================] - 0s 3ms/step - loss: 0.2006 - accuracy: 0.9232\n",
            "Epoch 81/500\n",
            "8/8 [==============================] - 0s 2ms/step - loss: 0.1530 - accuracy: 0.9475\n",
            "Epoch 82/500\n",
            "8/8 [==============================] - 0s 2ms/step - loss: 0.1620 - accuracy: 0.9314\n",
            "Epoch 83/500\n",
            "8/8 [==============================] - 0s 3ms/step - loss: 0.1686 - accuracy: 0.9442\n",
            "Epoch 84/500\n",
            "8/8 [==============================] - 0s 2ms/step - loss: 0.1656 - accuracy: 0.9486\n",
            "Epoch 85/500\n",
            "8/8 [==============================] - 0s 2ms/step - loss: 0.1796 - accuracy: 0.9477\n",
            "Epoch 86/500\n",
            "8/8 [==============================] - 0s 2ms/step - loss: 0.1179 - accuracy: 0.9551\n",
            "Epoch 87/500\n",
            "8/8 [==============================] - 0s 2ms/step - loss: 0.1698 - accuracy: 0.9410\n",
            "Epoch 88/500\n",
            "8/8 [==============================] - 0s 3ms/step - loss: 0.1597 - accuracy: 0.9324\n",
            "Epoch 89/500\n",
            "8/8 [==============================] - 0s 3ms/step - loss: 0.1420 - accuracy: 0.9571\n",
            "Epoch 90/500\n",
            "8/8 [==============================] - 0s 2ms/step - loss: 0.1497 - accuracy: 0.9403\n",
            "Epoch 91/500\n",
            "8/8 [==============================] - 0s 3ms/step - loss: 0.1440 - accuracy: 0.9552\n",
            "Epoch 92/500\n",
            "8/8 [==============================] - 0s 3ms/step - loss: 0.1344 - accuracy: 0.9588\n",
            "Epoch 93/500\n",
            "8/8 [==============================] - 0s 2ms/step - loss: 0.1556 - accuracy: 0.9490\n",
            "Epoch 94/500\n",
            "8/8 [==============================] - 0s 3ms/step - loss: 0.1678 - accuracy: 0.9353\n",
            "Epoch 95/500\n",
            "8/8 [==============================] - 0s 2ms/step - loss: 0.1549 - accuracy: 0.9426\n",
            "Epoch 96/500\n",
            "8/8 [==============================] - 0s 2ms/step - loss: 0.1545 - accuracy: 0.9491\n",
            "Epoch 97/500\n",
            "8/8 [==============================] - 0s 2ms/step - loss: 0.1359 - accuracy: 0.9471\n",
            "Epoch 98/500\n",
            "8/8 [==============================] - 0s 2ms/step - loss: 0.1051 - accuracy: 0.9637\n",
            "Epoch 99/500\n",
            "8/8 [==============================] - 0s 3ms/step - loss: 0.1103 - accuracy: 0.9732\n",
            "Epoch 100/500\n",
            "8/8 [==============================] - 0s 2ms/step - loss: 0.1669 - accuracy: 0.9280\n",
            "Epoch 101/500\n",
            "8/8 [==============================] - 0s 2ms/step - loss: 0.1485 - accuracy: 0.9505\n",
            "Epoch 102/500\n",
            "8/8 [==============================] - 0s 2ms/step - loss: 0.1731 - accuracy: 0.9072\n",
            "Epoch 103/500\n",
            "8/8 [==============================] - 0s 3ms/step - loss: 0.1284 - accuracy: 0.9529\n",
            "Epoch 104/500\n",
            "8/8 [==============================] - 0s 2ms/step - loss: 0.1559 - accuracy: 0.9409\n",
            "Epoch 105/500\n",
            "8/8 [==============================] - 0s 3ms/step - loss: 0.1625 - accuracy: 0.9304\n",
            "Epoch 106/500\n",
            "8/8 [==============================] - 0s 2ms/step - loss: 0.1025 - accuracy: 0.9691\n",
            "Epoch 107/500\n",
            "8/8 [==============================] - 0s 2ms/step - loss: 0.1169 - accuracy: 0.9655\n",
            "Epoch 108/500\n",
            "8/8 [==============================] - 0s 2ms/step - loss: 0.1500 - accuracy: 0.9376\n",
            "Epoch 109/500\n",
            "8/8 [==============================] - 0s 2ms/step - loss: 0.1286 - accuracy: 0.9495\n",
            "Epoch 110/500\n",
            "8/8 [==============================] - 0s 3ms/step - loss: 0.1283 - accuracy: 0.9637\n",
            "Epoch 111/500\n",
            "8/8 [==============================] - 0s 2ms/step - loss: 0.1377 - accuracy: 0.9475\n",
            "Epoch 112/500\n",
            "8/8 [==============================] - 0s 2ms/step - loss: 0.1473 - accuracy: 0.9607\n",
            "Epoch 113/500\n",
            "8/8 [==============================] - 0s 3ms/step - loss: 0.1374 - accuracy: 0.9474\n",
            "Epoch 114/500\n",
            "8/8 [==============================] - 0s 3ms/step - loss: 0.1448 - accuracy: 0.9518\n",
            "Epoch 115/500\n",
            "8/8 [==============================] - 0s 3ms/step - loss: 0.1194 - accuracy: 0.9643\n",
            "Epoch 116/500\n",
            "8/8 [==============================] - 0s 2ms/step - loss: 0.1572 - accuracy: 0.9393\n",
            "Epoch 117/500\n",
            "8/8 [==============================] - 0s 2ms/step - loss: 0.1201 - accuracy: 0.9622\n",
            "Epoch 118/500\n",
            "8/8 [==============================] - 0s 2ms/step - loss: 0.0937 - accuracy: 0.9677\n",
            "Epoch 119/500\n",
            "8/8 [==============================] - 0s 3ms/step - loss: 0.0881 - accuracy: 0.9740\n",
            "Epoch 120/500\n",
            "8/8 [==============================] - 0s 3ms/step - loss: 0.1300 - accuracy: 0.9458\n",
            "Epoch 121/500\n",
            "8/8 [==============================] - 0s 3ms/step - loss: 0.0922 - accuracy: 0.9664\n",
            "Epoch 122/500\n",
            "8/8 [==============================] - 0s 3ms/step - loss: 0.1016 - accuracy: 0.9592\n",
            "Epoch 123/500\n",
            "8/8 [==============================] - 0s 3ms/step - loss: 0.1244 - accuracy: 0.9536\n",
            "Epoch 124/500\n",
            "8/8 [==============================] - 0s 2ms/step - loss: 0.1234 - accuracy: 0.9618\n",
            "Epoch 125/500\n",
            "8/8 [==============================] - 0s 4ms/step - loss: 0.0883 - accuracy: 0.9742\n",
            "Epoch 126/500\n",
            "8/8 [==============================] - 0s 3ms/step - loss: 0.0995 - accuracy: 0.9601\n",
            "Epoch 127/500\n",
            "8/8 [==============================] - 0s 3ms/step - loss: 0.0810 - accuracy: 0.9782\n",
            "Epoch 128/500\n",
            "8/8 [==============================] - 0s 3ms/step - loss: 0.1099 - accuracy: 0.9594\n",
            "Epoch 129/500\n",
            "8/8 [==============================] - 0s 3ms/step - loss: 0.1095 - accuracy: 0.9567\n",
            "Epoch 130/500\n",
            "8/8 [==============================] - 0s 2ms/step - loss: 0.0953 - accuracy: 0.9642\n",
            "Epoch 131/500\n",
            "8/8 [==============================] - 0s 4ms/step - loss: 0.0895 - accuracy: 0.9750\n",
            "Epoch 132/500\n",
            "8/8 [==============================] - 0s 3ms/step - loss: 0.0968 - accuracy: 0.9720\n",
            "Epoch 133/500\n",
            "8/8 [==============================] - 0s 3ms/step - loss: 0.1125 - accuracy: 0.9447\n",
            "Epoch 134/500\n",
            "8/8 [==============================] - 0s 2ms/step - loss: 0.0941 - accuracy: 0.9685\n",
            "Epoch 135/500\n",
            "8/8 [==============================] - 0s 3ms/step - loss: 0.0859 - accuracy: 0.9776\n",
            "Epoch 136/500\n",
            "8/8 [==============================] - 0s 2ms/step - loss: 0.0769 - accuracy: 0.9852\n",
            "Epoch 137/500\n",
            "8/8 [==============================] - 0s 2ms/step - loss: 0.0958 - accuracy: 0.9692\n",
            "Epoch 138/500\n",
            "8/8 [==============================] - 0s 2ms/step - loss: 0.1054 - accuracy: 0.9516\n",
            "Epoch 139/500\n",
            "8/8 [==============================] - 0s 2ms/step - loss: 0.0909 - accuracy: 0.9673\n",
            "Epoch 140/500\n",
            "8/8 [==============================] - 0s 3ms/step - loss: 0.0893 - accuracy: 0.9716\n",
            "Epoch 141/500\n",
            "8/8 [==============================] - 0s 3ms/step - loss: 0.1101 - accuracy: 0.9500\n",
            "Epoch 142/500\n",
            "8/8 [==============================] - 0s 3ms/step - loss: 0.0852 - accuracy: 0.9756\n",
            "Epoch 143/500\n",
            "8/8 [==============================] - 0s 3ms/step - loss: 0.0968 - accuracy: 0.9614\n",
            "Epoch 144/500\n",
            "8/8 [==============================] - 0s 3ms/step - loss: 0.0740 - accuracy: 0.9844\n",
            "Epoch 145/500\n",
            "8/8 [==============================] - 0s 2ms/step - loss: 0.0806 - accuracy: 0.9819\n",
            "Epoch 146/500\n",
            "8/8 [==============================] - 0s 3ms/step - loss: 0.0892 - accuracy: 0.9697\n",
            "Epoch 147/500\n",
            "8/8 [==============================] - 0s 3ms/step - loss: 0.0935 - accuracy: 0.9684\n",
            "Epoch 148/500\n",
            "8/8 [==============================] - 0s 3ms/step - loss: 0.0688 - accuracy: 0.9712\n",
            "Epoch 149/500\n",
            "8/8 [==============================] - 0s 3ms/step - loss: 0.0853 - accuracy: 0.9666\n",
            "Epoch 150/500\n",
            "8/8 [==============================] - 0s 3ms/step - loss: 0.0711 - accuracy: 0.9850\n",
            "Epoch 151/500\n",
            "8/8 [==============================] - 0s 3ms/step - loss: 0.1016 - accuracy: 0.9475\n",
            "Epoch 152/500\n",
            "8/8 [==============================] - 0s 3ms/step - loss: 0.1020 - accuracy: 0.9531\n",
            "Epoch 153/500\n",
            "8/8 [==============================] - 0s 3ms/step - loss: 0.0751 - accuracy: 0.9828\n",
            "Epoch 154/500\n",
            "8/8 [==============================] - 0s 3ms/step - loss: 0.0904 - accuracy: 0.9605\n",
            "Epoch 155/500\n",
            "8/8 [==============================] - 0s 3ms/step - loss: 0.0557 - accuracy: 0.9873\n",
            "Epoch 156/500\n",
            "8/8 [==============================] - 0s 3ms/step - loss: 0.0809 - accuracy: 0.9697\n",
            "Epoch 157/500\n",
            "8/8 [==============================] - 0s 3ms/step - loss: 0.0863 - accuracy: 0.9677\n",
            "Epoch 158/500\n",
            "8/8 [==============================] - 0s 3ms/step - loss: 0.0787 - accuracy: 0.9713\n",
            "Epoch 159/500\n",
            "8/8 [==============================] - 0s 3ms/step - loss: 0.0829 - accuracy: 0.9885\n",
            "Epoch 160/500\n",
            "8/8 [==============================] - 0s 3ms/step - loss: 0.0552 - accuracy: 0.9804\n",
            "Epoch 161/500\n",
            "8/8 [==============================] - 0s 2ms/step - loss: 0.0701 - accuracy: 0.9721\n",
            "Epoch 162/500\n",
            "8/8 [==============================] - 0s 2ms/step - loss: 0.0679 - accuracy: 0.9794\n",
            "Epoch 163/500\n",
            "8/8 [==============================] - 0s 3ms/step - loss: 0.0643 - accuracy: 0.9743\n",
            "Epoch 164/500\n",
            "8/8 [==============================] - 0s 4ms/step - loss: 0.0664 - accuracy: 0.9788\n",
            "Epoch 165/500\n",
            "8/8 [==============================] - 0s 3ms/step - loss: 0.0682 - accuracy: 0.9801\n",
            "Epoch 166/500\n",
            "8/8 [==============================] - 0s 3ms/step - loss: 0.0784 - accuracy: 0.9732\n",
            "Epoch 167/500\n",
            "8/8 [==============================] - 0s 3ms/step - loss: 0.0681 - accuracy: 0.9792\n",
            "Epoch 168/500\n",
            "8/8 [==============================] - 0s 3ms/step - loss: 0.0787 - accuracy: 0.9672\n",
            "Epoch 169/500\n",
            "8/8 [==============================] - 0s 3ms/step - loss: 0.0674 - accuracy: 0.9786\n",
            "Epoch 170/500\n",
            "8/8 [==============================] - 0s 2ms/step - loss: 0.0552 - accuracy: 0.9810\n",
            "Epoch 171/500\n",
            "8/8 [==============================] - 0s 2ms/step - loss: 0.0585 - accuracy: 0.9817\n",
            "Epoch 172/500\n",
            "8/8 [==============================] - 0s 3ms/step - loss: 0.0681 - accuracy: 0.9689\n",
            "Epoch 173/500\n",
            "8/8 [==============================] - 0s 3ms/step - loss: 0.0610 - accuracy: 0.9706\n",
            "Epoch 174/500\n",
            "8/8 [==============================] - 0s 3ms/step - loss: 0.0530 - accuracy: 0.9760\n",
            "Epoch 175/500\n",
            "8/8 [==============================] - 0s 2ms/step - loss: 0.0619 - accuracy: 0.9747\n",
            "Epoch 176/500\n",
            "8/8 [==============================] - 0s 3ms/step - loss: 0.0455 - accuracy: 0.9856\n",
            "Epoch 177/500\n",
            "8/8 [==============================] - 0s 3ms/step - loss: 0.0565 - accuracy: 0.9772\n",
            "Epoch 178/500\n",
            "8/8 [==============================] - 0s 3ms/step - loss: 0.0501 - accuracy: 0.9911\n",
            "Epoch 179/500\n",
            "8/8 [==============================] - 0s 3ms/step - loss: 0.0690 - accuracy: 0.9761\n",
            "Epoch 180/500\n",
            "8/8 [==============================] - 0s 3ms/step - loss: 0.0745 - accuracy: 0.9656\n",
            "Epoch 181/500\n",
            "8/8 [==============================] - 0s 3ms/step - loss: 0.0600 - accuracy: 0.9735\n",
            "Epoch 182/500\n",
            "8/8 [==============================] - 0s 2ms/step - loss: 0.0509 - accuracy: 0.9809\n",
            "Epoch 183/500\n",
            "8/8 [==============================] - 0s 3ms/step - loss: 0.0482 - accuracy: 0.9834\n",
            "Epoch 184/500\n",
            "8/8 [==============================] - 0s 3ms/step - loss: 0.0526 - accuracy: 0.9768\n",
            "Epoch 185/500\n",
            "8/8 [==============================] - 0s 3ms/step - loss: 0.0437 - accuracy: 0.9823\n",
            "Epoch 186/500\n",
            "8/8 [==============================] - 0s 3ms/step - loss: 0.0454 - accuracy: 0.9873\n",
            "Epoch 187/500\n",
            "8/8 [==============================] - 0s 3ms/step - loss: 0.0589 - accuracy: 0.9807\n",
            "Epoch 188/500\n",
            "8/8 [==============================] - 0s 3ms/step - loss: 0.0438 - accuracy: 0.9838\n",
            "Epoch 189/500\n",
            "8/8 [==============================] - 0s 3ms/step - loss: 0.0531 - accuracy: 0.9768\n",
            "Epoch 190/500\n",
            "8/8 [==============================] - 0s 4ms/step - loss: 0.0583 - accuracy: 0.9742\n",
            "Epoch 191/500\n",
            "8/8 [==============================] - 0s 4ms/step - loss: 0.0507 - accuracy: 0.9873\n",
            "Epoch 192/500\n",
            "8/8 [==============================] - 0s 3ms/step - loss: 0.0442 - accuracy: 0.9891\n",
            "Epoch 193/500\n",
            "8/8 [==============================] - 0s 3ms/step - loss: 0.0417 - accuracy: 0.9822\n",
            "Epoch 194/500\n",
            "8/8 [==============================] - 0s 3ms/step - loss: 0.0455 - accuracy: 0.9854\n",
            "Epoch 195/500\n",
            "8/8 [==============================] - 0s 3ms/step - loss: 0.0555 - accuracy: 0.9755\n",
            "Epoch 196/500\n",
            "8/8 [==============================] - 0s 3ms/step - loss: 0.0545 - accuracy: 0.9873\n",
            "Epoch 197/500\n",
            "8/8 [==============================] - 0s 3ms/step - loss: 0.0381 - accuracy: 0.9899\n",
            "Epoch 198/500\n",
            "8/8 [==============================] - 0s 2ms/step - loss: 0.0424 - accuracy: 0.9862\n",
            "Epoch 199/500\n",
            "8/8 [==============================] - 0s 3ms/step - loss: 0.0347 - accuracy: 0.9950\n",
            "Epoch 200/500\n",
            "8/8 [==============================] - 0s 3ms/step - loss: 0.0451 - accuracy: 0.9933\n",
            "Epoch 201/500\n",
            "8/8 [==============================] - 0s 3ms/step - loss: 0.0499 - accuracy: 0.9901\n",
            "Epoch 202/500\n",
            "8/8 [==============================] - 0s 2ms/step - loss: 0.0346 - accuracy: 0.9925\n",
            "Epoch 203/500\n",
            "8/8 [==============================] - 0s 3ms/step - loss: 0.0482 - accuracy: 0.9851\n",
            "Epoch 204/500\n",
            "8/8 [==============================] - 0s 3ms/step - loss: 0.0374 - accuracy: 0.9948\n",
            "Epoch 205/500\n",
            "8/8 [==============================] - 0s 3ms/step - loss: 0.0505 - accuracy: 0.9804\n",
            "Epoch 206/500\n",
            "8/8 [==============================] - 0s 3ms/step - loss: 0.0378 - accuracy: 0.9906\n",
            "Epoch 207/500\n",
            "8/8 [==============================] - 0s 3ms/step - loss: 0.0415 - accuracy: 0.9939\n",
            "Epoch 208/500\n",
            "8/8 [==============================] - 0s 3ms/step - loss: 0.0358 - accuracy: 0.9926\n",
            "Epoch 209/500\n",
            "8/8 [==============================] - 0s 3ms/step - loss: 0.0468 - accuracy: 0.9936\n",
            "Epoch 210/500\n",
            "8/8 [==============================] - 0s 3ms/step - loss: 0.0309 - accuracy: 0.9923\n",
            "Epoch 211/500\n",
            "8/8 [==============================] - 0s 3ms/step - loss: 0.0311 - accuracy: 0.9944\n",
            "Epoch 212/500\n",
            "8/8 [==============================] - 0s 3ms/step - loss: 0.0331 - accuracy: 0.9953\n",
            "Epoch 213/500\n",
            "8/8 [==============================] - 0s 3ms/step - loss: 0.0379 - accuracy: 0.9917\n",
            "Epoch 214/500\n",
            "8/8 [==============================] - 0s 2ms/step - loss: 0.0347 - accuracy: 0.9964\n",
            "Epoch 215/500\n",
            "8/8 [==============================] - 0s 3ms/step - loss: 0.0266 - accuracy: 0.9972\n",
            "Epoch 216/500\n",
            "8/8 [==============================] - 0s 3ms/step - loss: 0.0320 - accuracy: 0.9916\n",
            "Epoch 217/500\n",
            "8/8 [==============================] - 0s 3ms/step - loss: 0.0393 - accuracy: 0.9860\n",
            "Epoch 218/500\n",
            "8/8 [==============================] - 0s 2ms/step - loss: 0.0309 - accuracy: 0.9964\n",
            "Epoch 219/500\n",
            "8/8 [==============================] - 0s 3ms/step - loss: 0.0337 - accuracy: 0.9901\n",
            "Epoch 220/500\n",
            "8/8 [==============================] - 0s 3ms/step - loss: 0.0284 - accuracy: 0.9950\n",
            "Epoch 221/500\n",
            "8/8 [==============================] - 0s 3ms/step - loss: 0.0315 - accuracy: 0.9964\n",
            "Epoch 222/500\n",
            "8/8 [==============================] - 0s 2ms/step - loss: 0.0214 - accuracy: 0.9980\n",
            "Epoch 223/500\n",
            "8/8 [==============================] - 0s 2ms/step - loss: 0.0257 - accuracy: 0.9964\n",
            "Epoch 224/500\n",
            "8/8 [==============================] - 0s 3ms/step - loss: 0.0224 - accuracy: 0.9977\n",
            "Epoch 225/500\n",
            "8/8 [==============================] - 0s 3ms/step - loss: 0.0244 - accuracy: 0.9938\n",
            "Epoch 226/500\n",
            "8/8 [==============================] - 0s 4ms/step - loss: 0.0250 - accuracy: 0.9973\n",
            "Epoch 227/500\n",
            "8/8 [==============================] - 0s 3ms/step - loss: 0.0232 - accuracy: 0.9953\n",
            "Epoch 228/500\n",
            "8/8 [==============================] - 0s 3ms/step - loss: 0.0185 - accuracy: 0.9977\n",
            "Epoch 229/500\n",
            "8/8 [==============================] - 0s 2ms/step - loss: 0.0245 - accuracy: 0.9953\n",
            "Epoch 230/500\n",
            "8/8 [==============================] - 0s 3ms/step - loss: 0.0249 - accuracy: 0.9991\n",
            "Epoch 231/500\n",
            "8/8 [==============================] - 0s 2ms/step - loss: 0.0184 - accuracy: 1.0000\n",
            "Epoch 232/500\n",
            "8/8 [==============================] - 0s 2ms/step - loss: 0.0213 - accuracy: 1.0000\n",
            "Epoch 233/500\n",
            "8/8 [==============================] - 0s 2ms/step - loss: 0.0237 - accuracy: 0.9991\n",
            "Epoch 234/500\n",
            "8/8 [==============================] - 0s 3ms/step - loss: 0.0257 - accuracy: 0.9977\n",
            "Epoch 235/500\n",
            "8/8 [==============================] - 0s 3ms/step - loss: 0.0214 - accuracy: 0.9991\n",
            "Epoch 236/500\n",
            "8/8 [==============================] - 0s 3ms/step - loss: 0.0305 - accuracy: 0.9953\n",
            "Epoch 237/500\n",
            "8/8 [==============================] - 0s 3ms/step - loss: 0.0307 - accuracy: 0.9901\n",
            "Epoch 238/500\n",
            "8/8 [==============================] - 0s 3ms/step - loss: 0.0244 - accuracy: 1.0000\n",
            "Epoch 239/500\n",
            "8/8 [==============================] - 0s 3ms/step - loss: 0.0228 - accuracy: 0.9953\n",
            "Epoch 240/500\n",
            "8/8 [==============================] - 0s 3ms/step - loss: 0.0232 - accuracy: 0.9953\n",
            "Epoch 241/500\n",
            "8/8 [==============================] - 0s 4ms/step - loss: 0.0188 - accuracy: 0.9986\n",
            "Epoch 242/500\n",
            "8/8 [==============================] - 0s 3ms/step - loss: 0.0215 - accuracy: 1.0000\n",
            "Epoch 243/500\n",
            "8/8 [==============================] - 0s 3ms/step - loss: 0.0153 - accuracy: 1.0000\n",
            "Epoch 244/500\n",
            "8/8 [==============================] - 0s 3ms/step - loss: 0.0173 - accuracy: 0.9980\n",
            "Epoch 245/500\n",
            "8/8 [==============================] - 0s 3ms/step - loss: 0.0200 - accuracy: 0.9986\n",
            "Epoch 246/500\n",
            "8/8 [==============================] - 0s 3ms/step - loss: 0.0246 - accuracy: 0.9964\n",
            "Epoch 247/500\n",
            "8/8 [==============================] - 0s 3ms/step - loss: 0.0238 - accuracy: 1.0000\n",
            "Epoch 248/500\n",
            "8/8 [==============================] - 0s 3ms/step - loss: 0.0205 - accuracy: 0.9973\n",
            "Epoch 249/500\n",
            "8/8 [==============================] - 0s 4ms/step - loss: 0.0172 - accuracy: 0.9980\n",
            "Epoch 250/500\n",
            "8/8 [==============================] - 0s 3ms/step - loss: 0.0194 - accuracy: 0.9953\n",
            "Epoch 251/500\n",
            "8/8 [==============================] - 0s 4ms/step - loss: 0.0193 - accuracy: 1.0000\n",
            "Epoch 252/500\n",
            "8/8 [==============================] - 0s 3ms/step - loss: 0.0258 - accuracy: 1.0000\n",
            "Epoch 253/500\n",
            "8/8 [==============================] - 0s 3ms/step - loss: 0.0174 - accuracy: 0.9986\n",
            "Epoch 254/500\n",
            "8/8 [==============================] - 0s 3ms/step - loss: 0.0178 - accuracy: 0.9953\n",
            "Epoch 255/500\n",
            "8/8 [==============================] - 0s 4ms/step - loss: 0.0195 - accuracy: 0.9986\n",
            "Epoch 256/500\n",
            "8/8 [==============================] - 0s 4ms/step - loss: 0.0145 - accuracy: 1.0000\n",
            "Epoch 257/500\n",
            "8/8 [==============================] - 0s 2ms/step - loss: 0.0211 - accuracy: 1.0000\n",
            "Epoch 258/500\n",
            "8/8 [==============================] - 0s 3ms/step - loss: 0.0146 - accuracy: 0.9973\n",
            "Epoch 259/500\n",
            "8/8 [==============================] - 0s 3ms/step - loss: 0.0148 - accuracy: 1.0000\n",
            "Epoch 260/500\n",
            "8/8 [==============================] - 0s 3ms/step - loss: 0.0188 - accuracy: 1.0000\n",
            "Epoch 261/500\n",
            "8/8 [==============================] - 0s 3ms/step - loss: 0.0192 - accuracy: 0.9980\n",
            "Epoch 262/500\n",
            "8/8 [==============================] - 0s 3ms/step - loss: 0.0184 - accuracy: 0.9955\n",
            "Epoch 263/500\n",
            "8/8 [==============================] - 0s 3ms/step - loss: 0.0121 - accuracy: 1.0000\n",
            "Epoch 264/500\n",
            "8/8 [==============================] - 0s 3ms/step - loss: 0.0168 - accuracy: 1.0000\n",
            "Epoch 265/500\n",
            "8/8 [==============================] - 0s 3ms/step - loss: 0.0126 - accuracy: 1.0000\n",
            "Epoch 266/500\n",
            "8/8 [==============================] - 0s 3ms/step - loss: 0.0157 - accuracy: 1.0000\n",
            "Epoch 267/500\n",
            "8/8 [==============================] - 0s 3ms/step - loss: 0.0151 - accuracy: 0.9980\n",
            "Epoch 268/500\n",
            "8/8 [==============================] - 0s 3ms/step - loss: 0.0127 - accuracy: 0.9973\n",
            "Epoch 269/500\n",
            "8/8 [==============================] - 0s 2ms/step - loss: 0.0176 - accuracy: 1.0000\n",
            "Epoch 270/500\n",
            "8/8 [==============================] - 0s 3ms/step - loss: 0.0145 - accuracy: 0.9980\n",
            "Epoch 271/500\n",
            "8/8 [==============================] - 0s 3ms/step - loss: 0.0131 - accuracy: 1.0000\n",
            "Epoch 272/500\n",
            "8/8 [==============================] - 0s 2ms/step - loss: 0.0162 - accuracy: 1.0000\n",
            "Epoch 273/500\n",
            "8/8 [==============================] - 0s 3ms/step - loss: 0.0143 - accuracy: 1.0000\n",
            "Epoch 274/500\n",
            "8/8 [==============================] - 0s 3ms/step - loss: 0.0136 - accuracy: 1.0000\n",
            "Epoch 275/500\n",
            "8/8 [==============================] - 0s 3ms/step - loss: 0.0131 - accuracy: 0.9986\n",
            "Epoch 276/500\n",
            "8/8 [==============================] - 0s 3ms/step - loss: 0.0133 - accuracy: 1.0000\n",
            "Epoch 277/500\n",
            "8/8 [==============================] - 0s 2ms/step - loss: 0.0150 - accuracy: 1.0000\n",
            "Epoch 278/500\n",
            "8/8 [==============================] - 0s 2ms/step - loss: 0.0125 - accuracy: 1.0000\n",
            "Epoch 279/500\n",
            "8/8 [==============================] - 0s 2ms/step - loss: 0.0140 - accuracy: 1.0000\n",
            "Epoch 280/500\n",
            "8/8 [==============================] - 0s 3ms/step - loss: 0.0118 - accuracy: 0.9986\n",
            "Epoch 281/500\n",
            "8/8 [==============================] - 0s 3ms/step - loss: 0.0106 - accuracy: 1.0000\n",
            "Epoch 282/500\n",
            "8/8 [==============================] - 0s 3ms/step - loss: 0.0160 - accuracy: 0.9980\n",
            "Epoch 283/500\n",
            "8/8 [==============================] - 0s 3ms/step - loss: 0.0104 - accuracy: 1.0000\n",
            "Epoch 284/500\n",
            "8/8 [==============================] - 0s 3ms/step - loss: 0.0141 - accuracy: 1.0000\n",
            "Epoch 285/500\n",
            "8/8 [==============================] - 0s 3ms/step - loss: 0.0119 - accuracy: 1.0000\n",
            "Epoch 286/500\n",
            "8/8 [==============================] - 0s 4ms/step - loss: 0.0113 - accuracy: 1.0000\n",
            "Epoch 287/500\n",
            "8/8 [==============================] - 0s 3ms/step - loss: 0.0109 - accuracy: 1.0000\n",
            "Epoch 288/500\n",
            "8/8 [==============================] - 0s 3ms/step - loss: 0.0096 - accuracy: 0.9980\n",
            "Epoch 289/500\n",
            "8/8 [==============================] - 0s 3ms/step - loss: 0.0117 - accuracy: 1.0000\n",
            "Epoch 290/500\n",
            "8/8 [==============================] - 0s 3ms/step - loss: 0.0108 - accuracy: 1.0000\n",
            "Epoch 291/500\n",
            "8/8 [==============================] - 0s 4ms/step - loss: 0.0132 - accuracy: 0.9964\n",
            "Epoch 292/500\n",
            "8/8 [==============================] - 0s 3ms/step - loss: 0.0137 - accuracy: 0.9953\n",
            "Epoch 293/500\n",
            "8/8 [==============================] - 0s 3ms/step - loss: 0.0138 - accuracy: 1.0000\n",
            "Epoch 294/500\n",
            "8/8 [==============================] - 0s 3ms/step - loss: 0.0100 - accuracy: 0.9973\n",
            "Epoch 295/500\n",
            "8/8 [==============================] - 0s 2ms/step - loss: 0.0120 - accuracy: 1.0000\n",
            "Epoch 296/500\n",
            "8/8 [==============================] - 0s 3ms/step - loss: 0.0104 - accuracy: 1.0000\n",
            "Epoch 297/500\n",
            "8/8 [==============================] - 0s 3ms/step - loss: 0.0118 - accuracy: 1.0000\n",
            "Epoch 298/500\n",
            "8/8 [==============================] - 0s 3ms/step - loss: 0.0096 - accuracy: 1.0000\n",
            "Epoch 299/500\n",
            "8/8 [==============================] - 0s 4ms/step - loss: 0.0101 - accuracy: 1.0000\n",
            "Epoch 300/500\n",
            "8/8 [==============================] - 0s 4ms/step - loss: 0.0114 - accuracy: 1.0000\n",
            "Epoch 301/500\n",
            "8/8 [==============================] - 0s 3ms/step - loss: 0.0101 - accuracy: 1.0000\n",
            "Epoch 302/500\n",
            "8/8 [==============================] - 0s 3ms/step - loss: 0.0116 - accuracy: 1.0000\n",
            "Epoch 303/500\n",
            "8/8 [==============================] - 0s 3ms/step - loss: 0.0085 - accuracy: 1.0000\n",
            "Epoch 304/500\n",
            "8/8 [==============================] - 0s 3ms/step - loss: 0.0091 - accuracy: 1.0000\n",
            "Epoch 305/500\n",
            "8/8 [==============================] - 0s 3ms/step - loss: 0.0101 - accuracy: 1.0000\n",
            "Epoch 306/500\n",
            "8/8 [==============================] - 0s 3ms/step - loss: 0.0080 - accuracy: 1.0000\n",
            "Epoch 307/500\n",
            "8/8 [==============================] - 0s 3ms/step - loss: 0.0085 - accuracy: 1.0000\n",
            "Epoch 308/500\n",
            "8/8 [==============================] - 0s 3ms/step - loss: 0.0072 - accuracy: 1.0000\n",
            "Epoch 309/500\n",
            "8/8 [==============================] - 0s 3ms/step - loss: 0.0065 - accuracy: 1.0000\n",
            "Epoch 310/500\n",
            "8/8 [==============================] - 0s 3ms/step - loss: 0.0074 - accuracy: 0.9980\n",
            "Epoch 311/500\n",
            "8/8 [==============================] - 0s 3ms/step - loss: 0.0142 - accuracy: 1.0000\n",
            "Epoch 312/500\n",
            "8/8 [==============================] - 0s 3ms/step - loss: 0.0123 - accuracy: 1.0000\n",
            "Epoch 313/500\n",
            "8/8 [==============================] - 0s 3ms/step - loss: 0.0065 - accuracy: 1.0000\n",
            "Epoch 314/500\n",
            "8/8 [==============================] - 0s 3ms/step - loss: 0.0091 - accuracy: 0.9986\n",
            "Epoch 315/500\n",
            "8/8 [==============================] - 0s 3ms/step - loss: 0.0088 - accuracy: 1.0000\n",
            "Epoch 316/500\n",
            "8/8 [==============================] - 0s 3ms/step - loss: 0.0110 - accuracy: 0.9936\n",
            "Epoch 317/500\n",
            "8/8 [==============================] - 0s 3ms/step - loss: 0.0087 - accuracy: 1.0000\n",
            "Epoch 318/500\n",
            "8/8 [==============================] - 0s 3ms/step - loss: 0.0075 - accuracy: 1.0000\n",
            "Epoch 319/500\n",
            "8/8 [==============================] - 0s 2ms/step - loss: 0.0067 - accuracy: 1.0000\n",
            "Epoch 320/500\n",
            "8/8 [==============================] - 0s 3ms/step - loss: 0.0074 - accuracy: 1.0000\n",
            "Epoch 321/500\n",
            "8/8 [==============================] - 0s 4ms/step - loss: 0.0075 - accuracy: 1.0000\n",
            "Epoch 322/500\n",
            "8/8 [==============================] - 0s 3ms/step - loss: 0.0084 - accuracy: 1.0000\n",
            "Epoch 323/500\n",
            "8/8 [==============================] - 0s 3ms/step - loss: 0.0079 - accuracy: 1.0000\n",
            "Epoch 324/500\n",
            "8/8 [==============================] - 0s 3ms/step - loss: 0.0058 - accuracy: 1.0000\n",
            "Epoch 325/500\n",
            "8/8 [==============================] - 0s 2ms/step - loss: 0.0066 - accuracy: 1.0000\n",
            "Epoch 326/500\n",
            "8/8 [==============================] - 0s 3ms/step - loss: 0.0082 - accuracy: 1.0000\n",
            "Epoch 327/500\n",
            "8/8 [==============================] - 0s 3ms/step - loss: 0.0086 - accuracy: 1.0000\n",
            "Epoch 328/500\n",
            "8/8 [==============================] - 0s 3ms/step - loss: 0.0068 - accuracy: 1.0000\n",
            "Epoch 329/500\n",
            "8/8 [==============================] - 0s 3ms/step - loss: 0.0077 - accuracy: 1.0000\n",
            "Epoch 330/500\n",
            "8/8 [==============================] - 0s 3ms/step - loss: 0.0100 - accuracy: 1.0000\n",
            "Epoch 331/500\n",
            "8/8 [==============================] - 0s 3ms/step - loss: 0.0081 - accuracy: 1.0000\n",
            "Epoch 332/500\n",
            "8/8 [==============================] - 0s 3ms/step - loss: 0.0072 - accuracy: 1.0000\n",
            "Epoch 333/500\n",
            "8/8 [==============================] - 0s 4ms/step - loss: 0.0070 - accuracy: 1.0000\n",
            "Epoch 334/500\n",
            "8/8 [==============================] - 0s 4ms/step - loss: 0.0055 - accuracy: 1.0000\n",
            "Epoch 335/500\n",
            "8/8 [==============================] - 0s 3ms/step - loss: 0.0056 - accuracy: 1.0000\n",
            "Epoch 336/500\n",
            "8/8 [==============================] - 0s 2ms/step - loss: 0.0074 - accuracy: 1.0000\n",
            "Epoch 337/500\n",
            "8/8 [==============================] - 0s 3ms/step - loss: 0.0055 - accuracy: 1.0000\n",
            "Epoch 338/500\n",
            "8/8 [==============================] - 0s 3ms/step - loss: 0.0050 - accuracy: 1.0000\n",
            "Epoch 339/500\n",
            "8/8 [==============================] - 0s 3ms/step - loss: 0.0064 - accuracy: 1.0000\n",
            "Epoch 340/500\n",
            "8/8 [==============================] - 0s 3ms/step - loss: 0.0083 - accuracy: 1.0000\n",
            "Epoch 341/500\n",
            "8/8 [==============================] - 0s 3ms/step - loss: 0.0069 - accuracy: 1.0000\n",
            "Epoch 342/500\n",
            "8/8 [==============================] - 0s 2ms/step - loss: 0.0112 - accuracy: 1.0000\n",
            "Epoch 343/500\n",
            "8/8 [==============================] - 0s 3ms/step - loss: 0.0050 - accuracy: 1.0000\n",
            "Epoch 344/500\n",
            "8/8 [==============================] - 0s 3ms/step - loss: 0.0065 - accuracy: 1.0000\n",
            "Epoch 345/500\n",
            "8/8 [==============================] - 0s 3ms/step - loss: 0.0045 - accuracy: 1.0000\n",
            "Epoch 346/500\n",
            "8/8 [==============================] - 0s 3ms/step - loss: 0.0055 - accuracy: 1.0000\n",
            "Epoch 347/500\n",
            "8/8 [==============================] - 0s 4ms/step - loss: 0.0042 - accuracy: 1.0000\n",
            "Epoch 348/500\n",
            "8/8 [==============================] - 0s 3ms/step - loss: 0.0057 - accuracy: 1.0000\n",
            "Epoch 349/500\n",
            "8/8 [==============================] - 0s 3ms/step - loss: 0.0071 - accuracy: 1.0000\n",
            "Epoch 350/500\n",
            "8/8 [==============================] - 0s 3ms/step - loss: 0.0065 - accuracy: 1.0000\n",
            "Epoch 351/500\n",
            "8/8 [==============================] - 0s 3ms/step - loss: 0.0065 - accuracy: 1.0000\n",
            "Epoch 352/500\n",
            "8/8 [==============================] - 0s 3ms/step - loss: 0.0060 - accuracy: 1.0000\n",
            "Epoch 353/500\n",
            "8/8 [==============================] - 0s 3ms/step - loss: 0.0065 - accuracy: 1.0000\n",
            "Epoch 354/500\n",
            "8/8 [==============================] - 0s 3ms/step - loss: 0.0051 - accuracy: 1.0000\n",
            "Epoch 355/500\n",
            "8/8 [==============================] - 0s 3ms/step - loss: 0.0039 - accuracy: 1.0000\n",
            "Epoch 356/500\n",
            "8/8 [==============================] - 0s 5ms/step - loss: 0.0052 - accuracy: 1.0000\n",
            "Epoch 357/500\n",
            "8/8 [==============================] - 0s 3ms/step - loss: 0.0048 - accuracy: 1.0000\n",
            "Epoch 358/500\n",
            "8/8 [==============================] - 0s 3ms/step - loss: 0.0050 - accuracy: 1.0000\n",
            "Epoch 359/500\n",
            "8/8 [==============================] - 0s 3ms/step - loss: 0.0041 - accuracy: 1.0000\n",
            "Epoch 360/500\n",
            "8/8 [==============================] - 0s 3ms/step - loss: 0.0050 - accuracy: 1.0000\n",
            "Epoch 361/500\n",
            "8/8 [==============================] - 0s 3ms/step - loss: 0.0046 - accuracy: 1.0000\n",
            "Epoch 362/500\n",
            "8/8 [==============================] - 0s 3ms/step - loss: 0.0053 - accuracy: 1.0000\n",
            "Epoch 363/500\n",
            "8/8 [==============================] - 0s 3ms/step - loss: 0.0036 - accuracy: 1.0000\n",
            "Epoch 364/500\n",
            "8/8 [==============================] - 0s 4ms/step - loss: 0.0052 - accuracy: 1.0000\n",
            "Epoch 365/500\n",
            "8/8 [==============================] - 0s 3ms/step - loss: 0.0043 - accuracy: 1.0000\n",
            "Epoch 366/500\n",
            "8/8 [==============================] - 0s 3ms/step - loss: 0.0038 - accuracy: 1.0000\n",
            "Epoch 367/500\n",
            "8/8 [==============================] - 0s 3ms/step - loss: 0.0041 - accuracy: 1.0000\n",
            "Epoch 368/500\n",
            "8/8 [==============================] - 0s 3ms/step - loss: 0.0054 - accuracy: 1.0000\n",
            "Epoch 369/500\n",
            "8/8 [==============================] - 0s 3ms/step - loss: 0.0033 - accuracy: 1.0000\n",
            "Epoch 370/500\n",
            "8/8 [==============================] - 0s 3ms/step - loss: 0.0046 - accuracy: 1.0000\n",
            "Epoch 371/500\n",
            "8/8 [==============================] - 0s 3ms/step - loss: 0.0041 - accuracy: 1.0000\n",
            "Epoch 372/500\n",
            "8/8 [==============================] - 0s 3ms/step - loss: 0.0052 - accuracy: 0.9986\n",
            "Epoch 373/500\n",
            "8/8 [==============================] - 0s 4ms/step - loss: 0.0106 - accuracy: 1.0000\n",
            "Epoch 374/500\n",
            "8/8 [==============================] - 0s 3ms/step - loss: 0.0102 - accuracy: 1.0000\n",
            "Epoch 375/500\n",
            "8/8 [==============================] - 0s 3ms/step - loss: 0.0061 - accuracy: 1.0000\n",
            "Epoch 376/500\n",
            "8/8 [==============================] - 0s 3ms/step - loss: 0.0075 - accuracy: 0.9986\n",
            "Epoch 377/500\n",
            "8/8 [==============================] - 0s 2ms/step - loss: 0.0042 - accuracy: 1.0000\n",
            "Epoch 378/500\n",
            "8/8 [==============================] - 0s 4ms/step - loss: 0.0052 - accuracy: 1.0000\n",
            "Epoch 379/500\n",
            "8/8 [==============================] - 0s 3ms/step - loss: 0.0070 - accuracy: 0.9980\n",
            "Epoch 380/500\n",
            "8/8 [==============================] - 0s 4ms/step - loss: 0.0046 - accuracy: 1.0000\n",
            "Epoch 381/500\n",
            "8/8 [==============================] - 0s 3ms/step - loss: 0.0037 - accuracy: 1.0000\n",
            "Epoch 382/500\n",
            "8/8 [==============================] - 0s 4ms/step - loss: 0.0042 - accuracy: 1.0000\n",
            "Epoch 383/500\n",
            "8/8 [==============================] - 0s 3ms/step - loss: 0.0036 - accuracy: 1.0000\n",
            "Epoch 384/500\n",
            "8/8 [==============================] - 0s 4ms/step - loss: 0.0046 - accuracy: 1.0000\n",
            "Epoch 385/500\n",
            "8/8 [==============================] - 0s 5ms/step - loss: 0.0059 - accuracy: 1.0000\n",
            "Epoch 386/500\n",
            "8/8 [==============================] - 0s 4ms/step - loss: 0.0049 - accuracy: 1.0000\n",
            "Epoch 387/500\n",
            "8/8 [==============================] - 0s 3ms/step - loss: 0.0040 - accuracy: 1.0000\n",
            "Epoch 388/500\n",
            "8/8 [==============================] - 0s 4ms/step - loss: 0.0037 - accuracy: 1.0000\n",
            "Epoch 389/500\n",
            "8/8 [==============================] - 0s 3ms/step - loss: 0.0034 - accuracy: 1.0000\n",
            "Epoch 390/500\n",
            "8/8 [==============================] - 0s 3ms/step - loss: 0.0041 - accuracy: 1.0000\n",
            "Epoch 391/500\n",
            "8/8 [==============================] - 0s 3ms/step - loss: 0.0042 - accuracy: 1.0000\n",
            "Epoch 392/500\n",
            "8/8 [==============================] - 0s 3ms/step - loss: 0.0035 - accuracy: 1.0000\n",
            "Epoch 393/500\n",
            "8/8 [==============================] - 0s 3ms/step - loss: 0.0032 - accuracy: 1.0000\n",
            "Epoch 394/500\n",
            "8/8 [==============================] - 0s 4ms/step - loss: 0.0026 - accuracy: 1.0000\n",
            "Epoch 395/500\n",
            "8/8 [==============================] - 0s 4ms/step - loss: 0.0042 - accuracy: 1.0000\n",
            "Epoch 396/500\n",
            "8/8 [==============================] - 0s 3ms/step - loss: 0.0029 - accuracy: 1.0000\n",
            "Epoch 397/500\n",
            "8/8 [==============================] - 0s 4ms/step - loss: 0.0024 - accuracy: 1.0000\n",
            "Epoch 398/500\n",
            "8/8 [==============================] - 0s 3ms/step - loss: 0.0035 - accuracy: 1.0000\n",
            "Epoch 399/500\n",
            "8/8 [==============================] - 0s 3ms/step - loss: 0.0039 - accuracy: 1.0000\n",
            "Epoch 400/500\n",
            "8/8 [==============================] - 0s 4ms/step - loss: 0.0028 - accuracy: 1.0000\n",
            "Epoch 401/500\n",
            "8/8 [==============================] - 0s 3ms/step - loss: 0.0029 - accuracy: 1.0000\n",
            "Epoch 402/500\n",
            "8/8 [==============================] - 0s 3ms/step - loss: 0.0027 - accuracy: 1.0000\n",
            "Epoch 403/500\n",
            "8/8 [==============================] - 0s 3ms/step - loss: 0.0027 - accuracy: 1.0000\n",
            "Epoch 404/500\n",
            "8/8 [==============================] - 0s 4ms/step - loss: 0.0037 - accuracy: 1.0000\n",
            "Epoch 405/500\n",
            "8/8 [==============================] - 0s 3ms/step - loss: 0.0029 - accuracy: 1.0000\n",
            "Epoch 406/500\n",
            "8/8 [==============================] - 0s 3ms/step - loss: 0.0035 - accuracy: 1.0000\n",
            "Epoch 407/500\n",
            "8/8 [==============================] - 0s 4ms/step - loss: 0.0040 - accuracy: 1.0000\n",
            "Epoch 408/500\n",
            "8/8 [==============================] - 0s 3ms/step - loss: 0.0028 - accuracy: 1.0000\n",
            "Epoch 409/500\n",
            "8/8 [==============================] - 0s 3ms/step - loss: 0.0025 - accuracy: 1.0000\n",
            "Epoch 410/500\n",
            "8/8 [==============================] - 0s 3ms/step - loss: 0.0020 - accuracy: 1.0000\n",
            "Epoch 411/500\n",
            "8/8 [==============================] - 0s 3ms/step - loss: 0.0028 - accuracy: 1.0000\n",
            "Epoch 412/500\n",
            "8/8 [==============================] - 0s 4ms/step - loss: 0.0035 - accuracy: 1.0000\n",
            "Epoch 413/500\n",
            "8/8 [==============================] - 0s 4ms/step - loss: 0.0036 - accuracy: 1.0000\n",
            "Epoch 414/500\n",
            "8/8 [==============================] - 0s 4ms/step - loss: 0.0024 - accuracy: 1.0000\n",
            "Epoch 415/500\n",
            "8/8 [==============================] - 0s 3ms/step - loss: 0.0025 - accuracy: 1.0000\n",
            "Epoch 416/500\n",
            "8/8 [==============================] - 0s 4ms/step - loss: 0.0028 - accuracy: 1.0000\n",
            "Epoch 417/500\n",
            "8/8 [==============================] - 0s 3ms/step - loss: 0.0021 - accuracy: 1.0000\n",
            "Epoch 418/500\n",
            "8/8 [==============================] - 0s 3ms/step - loss: 0.0025 - accuracy: 1.0000\n",
            "Epoch 419/500\n",
            "8/8 [==============================] - 0s 4ms/step - loss: 0.0026 - accuracy: 1.0000\n",
            "Epoch 420/500\n",
            "8/8 [==============================] - 0s 3ms/step - loss: 0.0024 - accuracy: 1.0000\n",
            "Epoch 421/500\n",
            "8/8 [==============================] - 0s 3ms/step - loss: 0.0026 - accuracy: 1.0000\n",
            "Epoch 422/500\n",
            "8/8 [==============================] - 0s 4ms/step - loss: 0.0023 - accuracy: 1.0000\n",
            "Epoch 423/500\n",
            "8/8 [==============================] - 0s 3ms/step - loss: 0.0021 - accuracy: 1.0000\n",
            "Epoch 424/500\n",
            "8/8 [==============================] - 0s 3ms/step - loss: 0.0020 - accuracy: 1.0000\n",
            "Epoch 425/500\n",
            "8/8 [==============================] - 0s 3ms/step - loss: 0.0026 - accuracy: 1.0000\n",
            "Epoch 426/500\n",
            "8/8 [==============================] - 0s 3ms/step - loss: 0.0020 - accuracy: 1.0000\n",
            "Epoch 427/500\n",
            "8/8 [==============================] - 0s 4ms/step - loss: 0.0025 - accuracy: 1.0000\n",
            "Epoch 428/500\n",
            "8/8 [==============================] - 0s 3ms/step - loss: 0.0026 - accuracy: 1.0000\n",
            "Epoch 429/500\n",
            "8/8 [==============================] - 0s 3ms/step - loss: 0.0022 - accuracy: 1.0000\n",
            "Epoch 430/500\n",
            "8/8 [==============================] - 0s 3ms/step - loss: 0.0030 - accuracy: 1.0000\n",
            "Epoch 431/500\n",
            "8/8 [==============================] - 0s 3ms/step - loss: 0.0016 - accuracy: 1.0000\n",
            "Epoch 432/500\n",
            "8/8 [==============================] - 0s 3ms/step - loss: 0.0022 - accuracy: 1.0000\n",
            "Epoch 433/500\n",
            "8/8 [==============================] - 0s 3ms/step - loss: 0.0052 - accuracy: 1.0000\n",
            "Epoch 434/500\n",
            "8/8 [==============================] - 0s 3ms/step - loss: 0.0036 - accuracy: 1.0000\n",
            "Epoch 435/500\n",
            "8/8 [==============================] - 0s 3ms/step - loss: 0.0019 - accuracy: 1.0000\n",
            "Epoch 436/500\n",
            "8/8 [==============================] - 0s 4ms/step - loss: 0.0028 - accuracy: 1.0000\n",
            "Epoch 437/500\n",
            "8/8 [==============================] - 0s 4ms/step - loss: 0.0018 - accuracy: 1.0000\n",
            "Epoch 438/500\n",
            "8/8 [==============================] - 0s 3ms/step - loss: 0.0023 - accuracy: 1.0000\n",
            "Epoch 439/500\n",
            "8/8 [==============================] - 0s 4ms/step - loss: 0.0019 - accuracy: 1.0000\n",
            "Epoch 440/500\n",
            "8/8 [==============================] - 0s 4ms/step - loss: 0.0029 - accuracy: 1.0000\n",
            "Epoch 441/500\n",
            "8/8 [==============================] - 0s 3ms/step - loss: 0.0026 - accuracy: 1.0000\n",
            "Epoch 442/500\n",
            "8/8 [==============================] - 0s 3ms/step - loss: 0.0033 - accuracy: 1.0000\n",
            "Epoch 443/500\n",
            "8/8 [==============================] - 0s 3ms/step - loss: 0.0023 - accuracy: 1.0000\n",
            "Epoch 444/500\n",
            "8/8 [==============================] - 0s 4ms/step - loss: 0.0021 - accuracy: 1.0000\n",
            "Epoch 445/500\n",
            "8/8 [==============================] - 0s 3ms/step - loss: 0.0022 - accuracy: 1.0000\n",
            "Epoch 446/500\n",
            "8/8 [==============================] - 0s 3ms/step - loss: 0.0018 - accuracy: 1.0000\n",
            "Epoch 447/500\n",
            "8/8 [==============================] - 0s 3ms/step - loss: 0.0022 - accuracy: 1.0000\n",
            "Epoch 448/500\n",
            "8/8 [==============================] - 0s 3ms/step - loss: 0.0018 - accuracy: 1.0000\n",
            "Epoch 449/500\n",
            "8/8 [==============================] - 0s 3ms/step - loss: 0.0014 - accuracy: 1.0000\n",
            "Epoch 450/500\n",
            "8/8 [==============================] - 0s 4ms/step - loss: 0.0020 - accuracy: 1.0000\n",
            "Epoch 451/500\n",
            "8/8 [==============================] - 0s 3ms/step - loss: 0.0017 - accuracy: 1.0000\n",
            "Epoch 452/500\n",
            "8/8 [==============================] - 0s 3ms/step - loss: 0.0016 - accuracy: 1.0000\n",
            "Epoch 453/500\n",
            "8/8 [==============================] - 0s 3ms/step - loss: 0.0017 - accuracy: 1.0000\n",
            "Epoch 454/500\n",
            "8/8 [==============================] - 0s 3ms/step - loss: 0.0023 - accuracy: 1.0000\n",
            "Epoch 455/500\n",
            "8/8 [==============================] - 0s 4ms/step - loss: 0.0019 - accuracy: 1.0000\n",
            "Epoch 456/500\n",
            "8/8 [==============================] - 0s 3ms/step - loss: 0.0018 - accuracy: 1.0000\n",
            "Epoch 457/500\n",
            "8/8 [==============================] - 0s 3ms/step - loss: 0.0019 - accuracy: 1.0000\n",
            "Epoch 458/500\n",
            "8/8 [==============================] - 0s 3ms/step - loss: 0.0014 - accuracy: 1.0000\n",
            "Epoch 459/500\n",
            "8/8 [==============================] - 0s 3ms/step - loss: 0.0018 - accuracy: 1.0000\n",
            "Epoch 460/500\n",
            "8/8 [==============================] - 0s 3ms/step - loss: 0.0016 - accuracy: 1.0000\n",
            "Epoch 461/500\n",
            "8/8 [==============================] - 0s 4ms/step - loss: 0.0031 - accuracy: 1.0000\n",
            "Epoch 462/500\n",
            "8/8 [==============================] - 0s 2ms/step - loss: 0.0018 - accuracy: 1.0000\n",
            "Epoch 463/500\n",
            "8/8 [==============================] - 0s 3ms/step - loss: 0.0016 - accuracy: 1.0000\n",
            "Epoch 464/500\n",
            "8/8 [==============================] - 0s 4ms/step - loss: 0.0014 - accuracy: 1.0000\n",
            "Epoch 465/500\n",
            "8/8 [==============================] - 0s 3ms/step - loss: 0.0020 - accuracy: 1.0000\n",
            "Epoch 466/500\n",
            "8/8 [==============================] - 0s 3ms/step - loss: 0.0016 - accuracy: 1.0000\n",
            "Epoch 467/500\n",
            "8/8 [==============================] - 0s 2ms/step - loss: 0.0020 - accuracy: 1.0000\n",
            "Epoch 468/500\n",
            "8/8 [==============================] - 0s 4ms/step - loss: 0.0016 - accuracy: 1.0000\n",
            "Epoch 469/500\n",
            "8/8 [==============================] - 0s 3ms/step - loss: 0.0019 - accuracy: 1.0000\n",
            "Epoch 470/500\n",
            "8/8 [==============================] - 0s 3ms/step - loss: 0.0015 - accuracy: 1.0000\n",
            "Epoch 471/500\n",
            "8/8 [==============================] - 0s 4ms/step - loss: 0.0018 - accuracy: 1.0000\n",
            "Epoch 472/500\n",
            "8/8 [==============================] - 0s 3ms/step - loss: 0.0012 - accuracy: 1.0000\n",
            "Epoch 473/500\n",
            "8/8 [==============================] - 0s 3ms/step - loss: 0.0020 - accuracy: 1.0000\n",
            "Epoch 474/500\n",
            "8/8 [==============================] - 0s 6ms/step - loss: 0.0013 - accuracy: 1.0000\n",
            "Epoch 475/500\n",
            "8/8 [==============================] - 0s 3ms/step - loss: 0.0019 - accuracy: 1.0000\n",
            "Epoch 476/500\n",
            "8/8 [==============================] - 0s 3ms/step - loss: 0.0015 - accuracy: 1.0000\n",
            "Epoch 477/500\n",
            "8/8 [==============================] - 0s 3ms/step - loss: 0.0012 - accuracy: 1.0000\n",
            "Epoch 478/500\n",
            "8/8 [==============================] - 0s 3ms/step - loss: 0.0013 - accuracy: 1.0000\n",
            "Epoch 479/500\n",
            "8/8 [==============================] - 0s 3ms/step - loss: 0.0015 - accuracy: 1.0000\n",
            "Epoch 480/500\n",
            "8/8 [==============================] - 0s 3ms/step - loss: 0.0013 - accuracy: 1.0000\n",
            "Epoch 481/500\n",
            "8/8 [==============================] - 0s 3ms/step - loss: 0.0016 - accuracy: 1.0000\n",
            "Epoch 482/500\n",
            "8/8 [==============================] - 0s 4ms/step - loss: 0.0017 - accuracy: 1.0000\n",
            "Epoch 483/500\n",
            "8/8 [==============================] - 0s 3ms/step - loss: 0.0013 - accuracy: 1.0000\n",
            "Epoch 484/500\n",
            "8/8 [==============================] - 0s 3ms/step - loss: 0.0020 - accuracy: 1.0000\n",
            "Epoch 485/500\n",
            "8/8 [==============================] - 0s 3ms/step - loss: 0.0016 - accuracy: 1.0000\n",
            "Epoch 486/500\n",
            "8/8 [==============================] - 0s 3ms/step - loss: 9.8266e-04 - accuracy: 1.0000\n",
            "Epoch 487/500\n",
            "8/8 [==============================] - 0s 3ms/step - loss: 0.0013 - accuracy: 1.0000\n",
            "Epoch 488/500\n",
            "8/8 [==============================] - 0s 3ms/step - loss: 0.0022 - accuracy: 1.0000\n",
            "Epoch 489/500\n",
            "8/8 [==============================] - 0s 3ms/step - loss: 0.0013 - accuracy: 1.0000\n",
            "Epoch 490/500\n",
            "8/8 [==============================] - 0s 3ms/step - loss: 0.0014 - accuracy: 1.0000\n",
            "Epoch 491/500\n",
            "8/8 [==============================] - 0s 4ms/step - loss: 9.5251e-04 - accuracy: 1.0000\n",
            "Epoch 492/500\n",
            "8/8 [==============================] - 0s 3ms/step - loss: 0.0016 - accuracy: 1.0000\n",
            "Epoch 493/500\n",
            "8/8 [==============================] - 0s 4ms/step - loss: 0.0012 - accuracy: 1.0000\n",
            "Epoch 494/500\n",
            "8/8 [==============================] - 0s 3ms/step - loss: 9.8664e-04 - accuracy: 1.0000\n",
            "Epoch 495/500\n",
            "8/8 [==============================] - 0s 3ms/step - loss: 0.0016 - accuracy: 1.0000\n",
            "Epoch 496/500\n",
            "8/8 [==============================] - 0s 3ms/step - loss: 0.0014 - accuracy: 1.0000\n",
            "Epoch 497/500\n",
            "8/8 [==============================] - 0s 3ms/step - loss: 0.0013 - accuracy: 1.0000\n",
            "Epoch 498/500\n",
            "8/8 [==============================] - 0s 4ms/step - loss: 0.0015 - accuracy: 1.0000\n",
            "Epoch 499/500\n",
            "8/8 [==============================] - 0s 3ms/step - loss: 0.0010 - accuracy: 1.0000\n",
            "Epoch 500/500\n",
            "8/8 [==============================] - 0s 4ms/step - loss: 0.0013 - accuracy: 1.0000\n"
          ],
          "name": "stdout"
        },
        {
          "output_type": "execute_result",
          "data": {
            "text/plain": [
              "1.0"
            ]
          },
          "metadata": {
            "tags": []
          },
          "execution_count": 28
        }
      ]
    },
    {
      "cell_type": "markdown",
      "metadata": {
        "id": "qIA62vjfYSa0"
      },
      "source": [
        "We got perfect accuracy in our model. Let's see how the accuracy improves and the loss is reduced over epochs."
      ]
    },
    {
      "cell_type": "code",
      "metadata": {
        "id": "b7s1zaQGdkB9",
        "colab": {
          "base_uri": "https://localhost:8080/",
          "height": 368
        },
        "outputId": "b190c048-3596-49c1-b2df-2027beaf5ea1"
      },
      "source": [
        "import matplotlib.pyplot as plt\n",
        "\n",
        "plt.figure(figsize=(16,5))\n",
        "\n",
        "plt.subplot(1,2,1)\n",
        "plt.plot(history.history['accuracy'])\n",
        "plt.title('Training Accuracy')\n",
        "plt.ylabel('accuracy')\n",
        "plt.xlabel('epoch')\n",
        "plt.legend(['train_accuracy'], loc='best')\n",
        "\n",
        "plt.subplot(1,2,2)\n",
        "plt.plot(history.history['loss'])\n",
        "plt.title('Training Loss')\n",
        "plt.ylabel('loss')\n",
        "plt.xlabel('epoch')\n",
        "plt.legend(['train_loss'], loc='best')"
      ],
      "execution_count": 29,
      "outputs": [
        {
          "output_type": "execute_result",
          "data": {
            "text/plain": [
              "<matplotlib.legend.Legend at 0x7fc8476b0a90>"
            ]
          },
          "metadata": {
            "tags": []
          },
          "execution_count": 29
        },
        {
          "output_type": "display_data",
          "data": {
            "image/png": "[encoded data removed]",
            "text/plain": [
              "<Figure size 1152x360 with 2 Axes>"
            ]
          },
          "metadata": {
            "tags": [],
            "needs_background": "light"
          }
        }
      ]
    },
    {
      "cell_type": "markdown",
      "metadata": {
        "id": "39zlRVRcZKx7"
      },
      "source": [
        "We seem to have kept training this model far too long. The accuracy reaches perfection, and the loss moves to 0.0 after a few hundred epochs.\n",
        "\n",
        "Let's see if we overfit by using our validation holdout data. In order to do that, we need to convert our predictions back into a binary representation."
      ]
    },
    {
      "cell_type": "code",
      "metadata": {
        "id": "niAa2Ht5eAv-",
        "colab": {
          "base_uri": "https://localhost:8080/"
        },
        "outputId": "7af74855-664f-40f0-a03f-852f34e43dd0"
      },
      "source": [
        "predictions = model.predict(X_validate)\n",
        "\n",
        "predictions[:10]"
      ],
      "execution_count": 30,
      "outputs": [
        {
          "output_type": "execute_result",
          "data": {
            "text/plain": [
              "array([[2.0090370e-06],\n",
              "       [1.3709930e-10],\n",
              "       [1.0000000e+00],\n",
              "       [6.2937975e-02],\n",
              "       [7.8056896e-01],\n",
              "       [1.0000000e+00],\n",
              "       [9.9985868e-01],\n",
              "       [9.9861419e-01],\n",
              "       [9.4159061e-01],\n",
              "       [1.0000000e+00]], dtype=float32)"
            ]
          },
          "metadata": {
            "tags": []
          },
          "execution_count": 30
        }
      ]
    },
    {
      "cell_type": "markdown",
      "metadata": {
        "id": "WNTZk3TNeGVM"
      },
      "source": [
        "As you can see, our predictions are continuous numbers, not the 1 or 0 values that we expected. These values are confidences that the value is 1. Let's look at them in a histogram."
      ]
    },
    {
      "cell_type": "code",
      "metadata": {
        "id": "AmVuqYMReQcC",
        "colab": {
          "base_uri": "https://localhost:8080/",
          "height": 266
        },
        "outputId": "5b142298-e07a-4b30-95b7-19da769e9daf"
      },
      "source": [
        "import matplotlib.pyplot as plt\n",
        "\n",
        "_ = plt.hist(predictions)"
      ],
      "execution_count": 31,
      "outputs": [
        {
          "output_type": "display_data",
          "data": {
            "image/png": "[encoded data removed]",
            "text/plain": [
              "<Figure size 432x288 with 1 Axes>"
            ]
          },
          "metadata": {
            "tags": [],
            "needs_background": "light"
          }
        }
      ]
    },
    {
      "cell_type": "markdown",
      "metadata": {
        "id": "29C09tpneiYA"
      },
      "source": [
        "Here we can see that the model is highly confident yes or no in many cases, but there are some cases where the model was unsure.\n",
        "\n",
        "How do we convert these confidences into a yes/no decision?\n",
        "\n",
        "One way is to simply round:"
      ]
    },
    {
      "cell_type": "code",
      "metadata": {
        "id": "FWlYXJ5eZehL",
        "colab": {
          "base_uri": "https://localhost:8080/",
          "height": 265
        },
        "outputId": "02836a88-51a2-414e-a6ac-949550a06898"
      },
      "source": [
        "predictions = [round(x[0]) for x in predictions]\n",
        "\n",
        "_ = plt.hist(predictions)"
      ],
      "execution_count": 32,
      "outputs": [
        {
          "output_type": "display_data",
          "data": {
            "image/png": "[encoded data removed]",
            "text/plain": [
              "<Figure size 432x288 with 1 Axes>"
            ]
          },
          "metadata": {
            "tags": [],
            "needs_background": "light"
          }
        }
      ]
    },
    {
      "cell_type": "markdown",
      "metadata": {
        "id": "IQAe7L4-fHGO"
      },
      "source": [
        "This puts the cut-off threshold for a yes/no decision at `0.5`. Let's think about the implications of this.\n",
        "\n",
        "Also note that the choice of a sigmoid activation function was not coincidence. We wanted to use an activation function that would keep the output values between 0.0 and 1.0 for rounding purposes. "
      ]
    },
    {
      "cell_type": "markdown",
      "metadata": {
        "id": "YSWvcpaajd3C"
      },
      "source": [
        "Now let's check our accuracy."
      ]
    },
    {
      "cell_type": "code",
      "metadata": {
        "id": "XtIiFjG8jf2E",
        "colab": {
          "base_uri": "https://localhost:8080/"
        },
        "outputId": "c00d1749-ac87-48b0-8a42-1adf5d0f319d"
      },
      "source": [
        "from sklearn.metrics import accuracy_score\n",
        "\n",
        "accuracy_score(y_validate, predictions)"
      ],
      "execution_count": 33,
      "outputs": [
        {
          "output_type": "execute_result",
          "data": {
            "text/plain": [
              "0.7868852459016393"
            ]
          },
          "metadata": {
            "tags": []
          },
          "execution_count": 33
        }
      ]
    },
    {
      "cell_type": "markdown",
      "metadata": {
        "id": "bXQc1DN3j4g9"
      },
      "source": [
        "When we ran this model, our score was in the low 80s, which is not great. Yours is likely similar."
      ]
    },
    {
      "cell_type": "markdown",
      "metadata": {
        "id": "HCZ4RNimfRu3"
      },
      "source": [
        "### Exercise 2: Adjusting the Threshold"
      ]
    },
    {
      "cell_type": "markdown",
      "metadata": {
        "id": "X4BMDjAlgimq"
      },
      "source": [
        "#### Question 1"
      ]
    },
    {
      "cell_type": "markdown",
      "metadata": {
        "id": "7KxSRGj3fZOS"
      },
      "source": [
        "We decided to round for our classification, which puts the threshold for the decision at `0.5`. This decision was made somewhat arbitrarily. Let's think about our problem space a bit more. We are making a model that predicts if an individual has heart disease. Would it be better if we set the threshold for predicting heart disease higher or lower than `0.5`? Or is `0.5` okay? Explain your reasoning.\n"
      ]
    },
    {
      "cell_type": "markdown",
      "metadata": {
        "id": "CzprK-6Bglmu"
      },
      "source": [
        "##### **Student Solution**"
      ]
    },
    {
      "cell_type": "markdown",
      "metadata": {
        "id": "GYXoRF3mgrGl"
      },
      "source": [
        "> In my opinion, if we set threshold too hugh or too low, we will get higher false positive or false negative. That will become a bad model. But for me, the best threshold is about 0.7-0.8. Try the model between that threshold and test the threshold by getting the (TP, FP, TN, FN)\n",
        "\n",
        "* TP = True Positive\n",
        "* FP = False Positive\n",
        "* TN = True Negative\n",
        "* FN = False Negative"
      ]
    },
    {
      "cell_type": "markdown",
      "metadata": {
        "id": "3pv-ZufdV_yw"
      },
      "source": [
        "---"
      ]
    },
    {
      "cell_type": "markdown",
      "metadata": {
        "id": "Up7wa9Kvhfy1"
      },
      "source": [
        "#### Question 2"
      ]
    },
    {
      "cell_type": "markdown",
      "metadata": {
        "id": "5ae6h-pZhzNF"
      },
      "source": [
        "Write code to make yes/no predictions using a higher or lower threshold based on the argument you made in the first question of this exercise. If you chose to keep the threshold at `0.5`, then just pick higher or lower and write the code for that. Print out the accuracy for the new threshold."
      ]
    },
    {
      "cell_type": "markdown",
      "metadata": {
        "id": "037j13priQpi"
      },
      "source": [
        "##### **Student Solution**"
      ]
    },
    {
      "cell_type": "code",
      "metadata": {
        "id": "i_Qup9sHiThc",
        "colab": {
          "base_uri": "https://localhost:8080/",
          "height": 266
        },
        "outputId": "3a0ada01-becf-41d2-e970-a57c4de13a8e"
      },
      "source": [
        "# Your Code Goes Here\n",
        "import matplotlib.pyplot as plt\n",
        "\n",
        "predictions = model.predict(X_validate)\n",
        "_ = plt.hist(predictions)"
      ],
      "execution_count": 34,
      "outputs": [
        {
          "output_type": "display_data",
          "data": {
            "image/png": "[encoded data removed]",
            "text/plain": [
              "<Figure size 432x288 with 1 Axes>"
            ]
          },
          "metadata": {
            "tags": [],
            "needs_background": "light"
          }
        }
      ]
    },
    {
      "cell_type": "code",
      "metadata": {
        "colab": {
          "base_uri": "https://localhost:8080/",
          "height": 265
        },
        "id": "zE54NKdANrzZ",
        "outputId": "e131ee7c-af4e-4a38-dc43-d08bdf595dbc"
      },
      "source": [
        "import numpy as np\n",
        "\n",
        "THRESHOLD = 0.8\n",
        "\n",
        "higher_threshold = [1 if x >= THRESHOLD else 0 for x in predictions]\n",
        "higher_threshold = np.array(higher_threshold)\n",
        "\n",
        "_ = plt.hist(higher_threshold)"
      ],
      "execution_count": 62,
      "outputs": [
        {
          "output_type": "display_data",
          "data": {
            "image/png": "[encoded data removed]",
            "text/plain": [
              "<Figure size 432x288 with 1 Axes>"
            ]
          },
          "metadata": {
            "tags": [],
            "needs_background": "light"
          }
        }
      ]
    },
    {
      "cell_type": "code",
      "metadata": {
        "colab": {
          "base_uri": "https://localhost:8080/"
        },
        "id": "36nu88vwRPzL",
        "outputId": "289b53ae-bd81-4ae6-e2c4-8a597705806d"
      },
      "source": [
        "from sklearn.metrics import accuracy_score\n",
        "\n",
        "accuracy_score(y_validate, higher_threshold)"
      ],
      "execution_count": 63,
      "outputs": [
        {
          "output_type": "execute_result",
          "data": {
            "text/plain": [
              "0.8032786885245902"
            ]
          },
          "metadata": {
            "tags": []
          },
          "execution_count": 63
        }
      ]
    },
    {
      "cell_type": "markdown",
      "metadata": {
        "id": "ge8XT0nUWcRf"
      },
      "source": [
        "---"
      ]
    },
    {
      "cell_type": "markdown",
      "metadata": {
        "id": "Kltnsr4Udquq"
      },
      "source": [
        "### Exercise 2: Early Stopping"
      ]
    },
    {
      "cell_type": "markdown",
      "metadata": {
        "id": "MGImZmxAkBIz"
      },
      "source": [
        "Five hundred epochs turned out to be a bit too many. Use the [`EarlyStopping`](https://www.tensorflow.org/api_docs/python/tf/keras/callbacks/EarlyStopping) class to stop when the loss doesn't improve over the course of five epochs. Print your accuracy score so you can see if it stayed reasonably close to your earlier model. Be sure to also make model fitting verbosity 1 or 2 so you can see at which epoch your model stopped."
      ]
    },
    {
      "cell_type": "markdown",
      "metadata": {
        "id": "U_MG9C-tlMOX"
      },
      "source": [
        "##### **Student Solution**"
      ]
    },
    {
      "cell_type": "code",
      "metadata": {
        "id": "0w2rGyG4lOQY",
        "colab": {
          "base_uri": "https://localhost:8080/"
        },
        "outputId": "3874beb3-59fe-4f0e-855c-e2aa91261f47"
      },
      "source": [
        "# Your code goes here\n",
        "import tensorflow as tf\n",
        "from tensorflow import keras\n",
        "from sklearn.model_selection import train_test_split\n",
        "\n",
        "class MyCallback(tf.keras.callbacks.Callback):\n",
        "    def on_epoch_end(self, epoch, logs):\n",
        "        if logs.get('accuracy') > 0.99:\n",
        "            print(\"\\nAccuracy has reached 99%\\n\")\n",
        "            self.model.stop_training = True\n",
        "\n",
        "\n",
        "FEATURES = df.columns.values[:-1]\n",
        "TARGET = df.columns.values[-1]\n",
        "\n",
        "df.loc[:, FEATURES] = ((df[FEATURES] - df[FEATURES].min()) / (df[FEATURES].max() - df[FEATURES].min()))\n",
        "\n",
        "X_train, X_validate, y_train, y_validate = train_test_split(\n",
        "    df[FEATURES], df[TARGET], test_size=0.2, stratify=df['sex'])\n",
        "\n",
        "X_train.shape, X_validate.shape\n",
        "\n",
        "model = keras.Sequential([keras.layers.Dense(64, activation=tf.nn.relu,\n",
        "                                             input_shape=(FEATURES.size, )),\n",
        "                          keras.layers.Dense(32, activation=tf.nn.relu),\n",
        "                          keras.layers.Dense(16, activation=tf.nn.relu),\n",
        "                          keras.layers.Dense(1, activation=tf.nn.sigmoid)\n",
        "])\n",
        "\n",
        "model.summary()\n",
        "\n",
        "model.compile(optimizer='Adam',\n",
        "              loss='binary_crossentropy',\n",
        "              metrics=['accuracy'])\n",
        "\n",
        "callbacks = MyCallback()\n",
        "\n",
        "history = model.fit(X_train, y_train, \n",
        "                    epochs=500, callbacks=[callbacks], verbose=1)"
      ],
      "execution_count": 74,
      "outputs": [
        {
          "output_type": "stream",
          "text": [
            "Model: \"sequential_3\"\n",
            "_________________________________________________________________\n",
            "Layer (type)                 Output Shape              Param #   \n",
            "=================================================================\n",
            "dense_19 (Dense)             (None, 64)                896       \n",
            "_________________________________________________________________\n",
            "dense_20 (Dense)             (None, 32)                2080      \n",
            "_________________________________________________________________\n",
            "dense_21 (Dense)             (None, 16)                528       \n",
            "_________________________________________________________________\n",
            "dense_22 (Dense)             (None, 1)                 17        \n",
            "=================================================================\n",
            "Total params: 3,521\n",
            "Trainable params: 3,521\n",
            "Non-trainable params: 0\n",
            "_________________________________________________________________\n",
            "Epoch 1/500\n",
            "8/8 [==============================] - 0s 2ms/step - loss: 0.6859 - accuracy: 0.6330\n",
            "Epoch 2/500\n",
            "8/8 [==============================] - 0s 2ms/step - loss: 0.6569 - accuracy: 0.7555\n",
            "Epoch 3/500\n",
            "8/8 [==============================] - 0s 2ms/step - loss: 0.6290 - accuracy: 0.7770\n",
            "Epoch 4/500\n",
            "8/8 [==============================] - 0s 2ms/step - loss: 0.5925 - accuracy: 0.8043\n",
            "Epoch 5/500\n",
            "8/8 [==============================] - 0s 2ms/step - loss: 0.5545 - accuracy: 0.8152\n",
            "Epoch 6/500\n",
            "8/8 [==============================] - 0s 2ms/step - loss: 0.5215 - accuracy: 0.8107\n",
            "Epoch 7/500\n",
            "8/8 [==============================] - 0s 3ms/step - loss: 0.4920 - accuracy: 0.7977\n",
            "Epoch 8/500\n",
            "8/8 [==============================] - 0s 3ms/step - loss: 0.4822 - accuracy: 0.7982\n",
            "Epoch 9/500\n",
            "8/8 [==============================] - 0s 2ms/step - loss: 0.4390 - accuracy: 0.8166\n",
            "Epoch 10/500\n",
            "8/8 [==============================] - 0s 3ms/step - loss: 0.4039 - accuracy: 0.8032\n",
            "Epoch 11/500\n",
            "8/8 [==============================] - 0s 3ms/step - loss: 0.3603 - accuracy: 0.8801\n",
            "Epoch 12/500\n",
            "8/8 [==============================] - 0s 3ms/step - loss: 0.3821 - accuracy: 0.8440\n",
            "Epoch 13/500\n",
            "8/8 [==============================] - 0s 2ms/step - loss: 0.3566 - accuracy: 0.8666\n",
            "Epoch 14/500\n",
            "8/8 [==============================] - 0s 3ms/step - loss: 0.3693 - accuracy: 0.8522\n",
            "Epoch 15/500\n",
            "8/8 [==============================] - 0s 3ms/step - loss: 0.3802 - accuracy: 0.8568\n",
            "Epoch 16/500\n",
            "8/8 [==============================] - 0s 2ms/step - loss: 0.3629 - accuracy: 0.8528\n",
            "Epoch 17/500\n",
            "8/8 [==============================] - 0s 2ms/step - loss: 0.3429 - accuracy: 0.8669\n",
            "Epoch 18/500\n",
            "8/8 [==============================] - 0s 2ms/step - loss: 0.3728 - accuracy: 0.8381\n",
            "Epoch 19/500\n",
            "8/8 [==============================] - 0s 2ms/step - loss: 0.3739 - accuracy: 0.8505\n",
            "Epoch 20/500\n",
            "8/8 [==============================] - 0s 2ms/step - loss: 0.3758 - accuracy: 0.8575\n",
            "Epoch 21/500\n",
            "8/8 [==============================] - 0s 2ms/step - loss: 0.3152 - accuracy: 0.8778\n",
            "Epoch 22/500\n",
            "8/8 [==============================] - 0s 3ms/step - loss: 0.3136 - accuracy: 0.8625\n",
            "Epoch 23/500\n",
            "8/8 [==============================] - 0s 3ms/step - loss: 0.3537 - accuracy: 0.8694\n",
            "Epoch 24/500\n",
            "8/8 [==============================] - 0s 2ms/step - loss: 0.3722 - accuracy: 0.8442\n",
            "Epoch 25/500\n",
            "8/8 [==============================] - 0s 2ms/step - loss: 0.3302 - accuracy: 0.8787\n",
            "Epoch 26/500\n",
            "8/8 [==============================] - 0s 2ms/step - loss: 0.3244 - accuracy: 0.8796\n",
            "Epoch 27/500\n",
            "8/8 [==============================] - 0s 2ms/step - loss: 0.3189 - accuracy: 0.8683\n",
            "Epoch 28/500\n",
            "8/8 [==============================] - 0s 2ms/step - loss: 0.3140 - accuracy: 0.8661\n",
            "Epoch 29/500\n",
            "8/8 [==============================] - 0s 2ms/step - loss: 0.2996 - accuracy: 0.8878\n",
            "Epoch 30/500\n",
            "8/8 [==============================] - 0s 2ms/step - loss: 0.3361 - accuracy: 0.8446\n",
            "Epoch 31/500\n",
            "8/8 [==============================] - 0s 2ms/step - loss: 0.3024 - accuracy: 0.8876\n",
            "Epoch 32/500\n",
            "8/8 [==============================] - 0s 3ms/step - loss: 0.3223 - accuracy: 0.8639\n",
            "Epoch 33/500\n",
            "8/8 [==============================] - 0s 3ms/step - loss: 0.2859 - accuracy: 0.8713\n",
            "Epoch 34/500\n",
            "8/8 [==============================] - 0s 2ms/step - loss: 0.2480 - accuracy: 0.9112\n",
            "Epoch 35/500\n",
            "8/8 [==============================] - 0s 3ms/step - loss: 0.2762 - accuracy: 0.8956\n",
            "Epoch 36/500\n",
            "8/8 [==============================] - 0s 3ms/step - loss: 0.2898 - accuracy: 0.8869\n",
            "Epoch 37/500\n",
            "8/8 [==============================] - 0s 2ms/step - loss: 0.2928 - accuracy: 0.8907\n",
            "Epoch 38/500\n",
            "8/8 [==============================] - 0s 2ms/step - loss: 0.3554 - accuracy: 0.8539\n",
            "Epoch 39/500\n",
            "8/8 [==============================] - 0s 2ms/step - loss: 0.2888 - accuracy: 0.8862\n",
            "Epoch 40/500\n",
            "8/8 [==============================] - 0s 2ms/step - loss: 0.2595 - accuracy: 0.8934\n",
            "Epoch 41/500\n",
            "8/8 [==============================] - 0s 2ms/step - loss: 0.2675 - accuracy: 0.8731\n",
            "Epoch 42/500\n",
            "8/8 [==============================] - 0s 3ms/step - loss: 0.3046 - accuracy: 0.8654\n",
            "Epoch 43/500\n",
            "8/8 [==============================] - 0s 3ms/step - loss: 0.2620 - accuracy: 0.8846\n",
            "Epoch 44/500\n",
            "8/8 [==============================] - 0s 2ms/step - loss: 0.2708 - accuracy: 0.8928\n",
            "Epoch 45/500\n",
            "8/8 [==============================] - 0s 2ms/step - loss: 0.2636 - accuracy: 0.8909\n",
            "Epoch 46/500\n",
            "8/8 [==============================] - 0s 3ms/step - loss: 0.2810 - accuracy: 0.8755\n",
            "Epoch 47/500\n",
            "8/8 [==============================] - 0s 3ms/step - loss: 0.2695 - accuracy: 0.8930\n",
            "Epoch 48/500\n",
            "8/8 [==============================] - 0s 2ms/step - loss: 0.2318 - accuracy: 0.9170\n",
            "Epoch 49/500\n",
            "8/8 [==============================] - 0s 3ms/step - loss: 0.2684 - accuracy: 0.8985\n",
            "Epoch 50/500\n",
            "8/8 [==============================] - 0s 3ms/step - loss: 0.2851 - accuracy: 0.8778\n",
            "Epoch 51/500\n",
            "8/8 [==============================] - 0s 3ms/step - loss: 0.2564 - accuracy: 0.8954\n",
            "Epoch 52/500\n",
            "8/8 [==============================] - 0s 4ms/step - loss: 0.2254 - accuracy: 0.9086\n",
            "Epoch 53/500\n",
            "8/8 [==============================] - 0s 3ms/step - loss: 0.2688 - accuracy: 0.8893\n",
            "Epoch 54/500\n",
            "8/8 [==============================] - 0s 3ms/step - loss: 0.2694 - accuracy: 0.8820\n",
            "Epoch 55/500\n",
            "8/8 [==============================] - 0s 3ms/step - loss: 0.2493 - accuracy: 0.8975\n",
            "Epoch 56/500\n",
            "8/8 [==============================] - 0s 3ms/step - loss: 0.2528 - accuracy: 0.8900\n",
            "Epoch 57/500\n",
            "8/8 [==============================] - 0s 2ms/step - loss: 0.2477 - accuracy: 0.8900\n",
            "Epoch 58/500\n",
            "8/8 [==============================] - 0s 3ms/step - loss: 0.2538 - accuracy: 0.9047\n",
            "Epoch 59/500\n",
            "8/8 [==============================] - 0s 3ms/step - loss: 0.2395 - accuracy: 0.9199\n",
            "Epoch 60/500\n",
            "8/8 [==============================] - 0s 2ms/step - loss: 0.2387 - accuracy: 0.9061\n",
            "Epoch 61/500\n",
            "8/8 [==============================] - 0s 3ms/step - loss: 0.2338 - accuracy: 0.8984\n",
            "Epoch 62/500\n",
            "8/8 [==============================] - 0s 2ms/step - loss: 0.2298 - accuracy: 0.9088\n",
            "Epoch 63/500\n",
            "8/8 [==============================] - 0s 2ms/step - loss: 0.2292 - accuracy: 0.9105\n",
            "Epoch 64/500\n",
            "8/8 [==============================] - 0s 2ms/step - loss: 0.2295 - accuracy: 0.9153\n",
            "Epoch 65/500\n",
            "8/8 [==============================] - 0s 2ms/step - loss: 0.1927 - accuracy: 0.9360\n",
            "Epoch 66/500\n",
            "8/8 [==============================] - 0s 2ms/step - loss: 0.2117 - accuracy: 0.9339\n",
            "Epoch 67/500\n",
            "8/8 [==============================] - 0s 3ms/step - loss: 0.1977 - accuracy: 0.9315\n",
            "Epoch 68/500\n",
            "8/8 [==============================] - 0s 2ms/step - loss: 0.2039 - accuracy: 0.9305\n",
            "Epoch 69/500\n",
            "8/8 [==============================] - 0s 3ms/step - loss: 0.2080 - accuracy: 0.9373\n",
            "Epoch 70/500\n",
            "8/8 [==============================] - 0s 2ms/step - loss: 0.2370 - accuracy: 0.9107\n",
            "Epoch 71/500\n",
            "8/8 [==============================] - 0s 2ms/step - loss: 0.1911 - accuracy: 0.9316\n",
            "Epoch 72/500\n",
            "8/8 [==============================] - 0s 2ms/step - loss: 0.1858 - accuracy: 0.9360\n",
            "Epoch 73/500\n",
            "8/8 [==============================] - 0s 2ms/step - loss: 0.1737 - accuracy: 0.9320\n",
            "Epoch 74/500\n",
            "8/8 [==============================] - 0s 2ms/step - loss: 0.1909 - accuracy: 0.9306\n",
            "Epoch 75/500\n",
            "8/8 [==============================] - 0s 3ms/step - loss: 0.2205 - accuracy: 0.9139\n",
            "Epoch 76/500\n",
            "8/8 [==============================] - 0s 3ms/step - loss: 0.1830 - accuracy: 0.9414\n",
            "Epoch 77/500\n",
            "8/8 [==============================] - 0s 3ms/step - loss: 0.1878 - accuracy: 0.9439\n",
            "Epoch 78/500\n",
            "8/8 [==============================] - 0s 3ms/step - loss: 0.2033 - accuracy: 0.9289\n",
            "Epoch 79/500\n",
            "8/8 [==============================] - 0s 3ms/step - loss: 0.2104 - accuracy: 0.9155\n",
            "Epoch 80/500\n",
            "8/8 [==============================] - 0s 2ms/step - loss: 0.1889 - accuracy: 0.9176\n",
            "Epoch 81/500\n",
            "8/8 [==============================] - 0s 4ms/step - loss: 0.1509 - accuracy: 0.9549\n",
            "Epoch 82/500\n",
            "8/8 [==============================] - 0s 3ms/step - loss: 0.1899 - accuracy: 0.9210\n",
            "Epoch 83/500\n",
            "8/8 [==============================] - 0s 3ms/step - loss: 0.2195 - accuracy: 0.9087\n",
            "Epoch 84/500\n",
            "8/8 [==============================] - 0s 3ms/step - loss: 0.1949 - accuracy: 0.9224\n",
            "Epoch 85/500\n",
            "8/8 [==============================] - 0s 3ms/step - loss: 0.1946 - accuracy: 0.9105\n",
            "Epoch 86/500\n",
            "8/8 [==============================] - 0s 2ms/step - loss: 0.1715 - accuracy: 0.9396\n",
            "Epoch 87/500\n",
            "8/8 [==============================] - 0s 3ms/step - loss: 0.2056 - accuracy: 0.9039\n",
            "Epoch 88/500\n",
            "8/8 [==============================] - 0s 3ms/step - loss: 0.1718 - accuracy: 0.9226\n",
            "Epoch 89/500\n",
            "8/8 [==============================] - 0s 2ms/step - loss: 0.1647 - accuracy: 0.9440\n",
            "Epoch 90/500\n",
            "8/8 [==============================] - 0s 2ms/step - loss: 0.1787 - accuracy: 0.9062\n",
            "Epoch 91/500\n",
            "8/8 [==============================] - 0s 3ms/step - loss: 0.1866 - accuracy: 0.9235\n",
            "Epoch 92/500\n",
            "8/8 [==============================] - 0s 4ms/step - loss: 0.1617 - accuracy: 0.9242\n",
            "Epoch 93/500\n",
            "8/8 [==============================] - 0s 3ms/step - loss: 0.1490 - accuracy: 0.9471\n",
            "Epoch 94/500\n",
            "8/8 [==============================] - 0s 2ms/step - loss: 0.1728 - accuracy: 0.9297\n",
            "Epoch 95/500\n",
            "8/8 [==============================] - 0s 2ms/step - loss: 0.1628 - accuracy: 0.9462\n",
            "Epoch 96/500\n",
            "8/8 [==============================] - 0s 2ms/step - loss: 0.1401 - accuracy: 0.9405\n",
            "Epoch 97/500\n",
            "8/8 [==============================] - 0s 3ms/step - loss: 0.1572 - accuracy: 0.9429\n",
            "Epoch 98/500\n",
            "8/8 [==============================] - 0s 3ms/step - loss: 0.1368 - accuracy: 0.9404\n",
            "Epoch 99/500\n",
            "8/8 [==============================] - 0s 2ms/step - loss: 0.1440 - accuracy: 0.9411\n",
            "Epoch 100/500\n",
            "8/8 [==============================] - 0s 3ms/step - loss: 0.1358 - accuracy: 0.9515\n",
            "Epoch 101/500\n",
            "8/8 [==============================] - 0s 2ms/step - loss: 0.1258 - accuracy: 0.9537\n",
            "Epoch 102/500\n",
            "8/8 [==============================] - 0s 3ms/step - loss: 0.1424 - accuracy: 0.9382\n",
            "Epoch 103/500\n",
            "8/8 [==============================] - 0s 3ms/step - loss: 0.1363 - accuracy: 0.9399\n",
            "Epoch 104/500\n",
            "8/8 [==============================] - 0s 4ms/step - loss: 0.1260 - accuracy: 0.9610\n",
            "Epoch 105/500\n",
            "8/8 [==============================] - 0s 2ms/step - loss: 0.1371 - accuracy: 0.9457\n",
            "Epoch 106/500\n",
            "8/8 [==============================] - 0s 2ms/step - loss: 0.1478 - accuracy: 0.9355\n",
            "Epoch 107/500\n",
            "8/8 [==============================] - 0s 2ms/step - loss: 0.1323 - accuracy: 0.9442\n",
            "Epoch 108/500\n",
            "8/8 [==============================] - 0s 3ms/step - loss: 0.1272 - accuracy: 0.9624\n",
            "Epoch 109/500\n",
            "8/8 [==============================] - 0s 3ms/step - loss: 0.1169 - accuracy: 0.9638\n",
            "Epoch 110/500\n",
            "8/8 [==============================] - 0s 3ms/step - loss: 0.0994 - accuracy: 0.9783\n",
            "Epoch 111/500\n",
            "8/8 [==============================] - 0s 3ms/step - loss: 0.1030 - accuracy: 0.9672\n",
            "Epoch 112/500\n",
            "8/8 [==============================] - 0s 3ms/step - loss: 0.1061 - accuracy: 0.9682\n",
            "Epoch 113/500\n",
            "8/8 [==============================] - 0s 3ms/step - loss: 0.1242 - accuracy: 0.9586\n",
            "Epoch 114/500\n",
            "8/8 [==============================] - 0s 2ms/step - loss: 0.0896 - accuracy: 0.9780\n",
            "Epoch 115/500\n",
            "8/8 [==============================] - 0s 2ms/step - loss: 0.1074 - accuracy: 0.9766\n",
            "Epoch 116/500\n",
            "8/8 [==============================] - 0s 3ms/step - loss: 0.1173 - accuracy: 0.9599\n",
            "Epoch 117/500\n",
            "8/8 [==============================] - 0s 2ms/step - loss: 0.1042 - accuracy: 0.9663\n",
            "Epoch 118/500\n",
            "8/8 [==============================] - 0s 2ms/step - loss: 0.0949 - accuracy: 0.9671\n",
            "Epoch 119/500\n",
            "8/8 [==============================] - 0s 3ms/step - loss: 0.0933 - accuracy: 0.9737\n",
            "Epoch 120/500\n",
            "8/8 [==============================] - 0s 2ms/step - loss: 0.0835 - accuracy: 0.9792\n",
            "Epoch 121/500\n",
            "8/8 [==============================] - 0s 2ms/step - loss: 0.0925 - accuracy: 0.9700\n",
            "Epoch 122/500\n",
            "8/8 [==============================] - 0s 3ms/step - loss: 0.1042 - accuracy: 0.9571\n",
            "Epoch 123/500\n",
            "8/8 [==============================] - 0s 3ms/step - loss: 0.0945 - accuracy: 0.9714\n",
            "Epoch 124/500\n",
            "8/8 [==============================] - 0s 3ms/step - loss: 0.0911 - accuracy: 0.9673\n",
            "Epoch 125/500\n",
            "8/8 [==============================] - 0s 2ms/step - loss: 0.1019 - accuracy: 0.9685\n",
            "Epoch 126/500\n",
            "8/8 [==============================] - 0s 3ms/step - loss: 0.0875 - accuracy: 0.9774\n",
            "Epoch 127/500\n",
            "8/8 [==============================] - 0s 3ms/step - loss: 0.0829 - accuracy: 0.9754\n",
            "Epoch 128/500\n",
            "8/8 [==============================] - 0s 3ms/step - loss: 0.0988 - accuracy: 0.9824\n",
            "Epoch 129/500\n",
            "8/8 [==============================] - 0s 3ms/step - loss: 0.0961 - accuracy: 0.9573\n",
            "Epoch 130/500\n",
            "8/8 [==============================] - 0s 2ms/step - loss: 0.0754 - accuracy: 0.9740\n",
            "Epoch 131/500\n",
            "8/8 [==============================] - 0s 2ms/step - loss: 0.0817 - accuracy: 0.9806\n",
            "Epoch 132/500\n",
            "8/8 [==============================] - 0s 3ms/step - loss: 0.0849 - accuracy: 0.9735\n",
            "Epoch 133/500\n",
            "8/8 [==============================] - 0s 2ms/step - loss: 0.0641 - accuracy: 0.9926\n",
            "Epoch 134/500\n",
            "8/8 [==============================] - 0s 3ms/step - loss: 0.0725 - accuracy: 0.9773\n",
            "Epoch 135/500\n",
            "8/8 [==============================] - 0s 3ms/step - loss: 0.0757 - accuracy: 0.9598\n",
            "Epoch 136/500\n",
            "8/8 [==============================] - 0s 3ms/step - loss: 0.0774 - accuracy: 0.9886\n",
            "Epoch 137/500\n",
            "8/8 [==============================] - 0s 3ms/step - loss: 0.0555 - accuracy: 0.9827\n",
            "Epoch 138/500\n",
            "8/8 [==============================] - 0s 3ms/step - loss: 0.0663 - accuracy: 0.9790\n",
            "Epoch 139/500\n",
            "8/8 [==============================] - 0s 3ms/step - loss: 0.0777 - accuracy: 0.9707\n",
            "Epoch 140/500\n",
            "8/8 [==============================] - 0s 2ms/step - loss: 0.0623 - accuracy: 0.9805\n",
            "Epoch 141/500\n",
            "8/8 [==============================] - 0s 2ms/step - loss: 0.0554 - accuracy: 0.9860\n",
            "Epoch 142/500\n",
            "8/8 [==============================] - 0s 3ms/step - loss: 0.0566 - accuracy: 0.9809\n",
            "Epoch 143/500\n",
            "8/8 [==============================] - 0s 3ms/step - loss: 0.0679 - accuracy: 0.9873\n",
            "Epoch 144/500\n",
            "8/8 [==============================] - 0s 3ms/step - loss: 0.0624 - accuracy: 0.9871\n",
            "Epoch 145/500\n",
            "8/8 [==============================] - 0s 3ms/step - loss: 0.0620 - accuracy: 0.9793\n",
            "Epoch 146/500\n",
            "8/8 [==============================] - 0s 3ms/step - loss: 0.0733 - accuracy: 0.9802\n",
            "\n",
            "Accuracy has reached 99%\n",
            "\n"
          ],
          "name": "stdout"
        }
      ]
    },
    {
      "cell_type": "code",
      "metadata": {
        "colab": {
          "base_uri": "https://localhost:8080/",
          "height": 368
        },
        "id": "Vk-dxrFtTgKg",
        "outputId": "4405f7f0-6f02-4f4a-b0ce-8611a89cc1c6"
      },
      "source": [
        "import matplotlib.pyplot as plt\n",
        "\n",
        "plt.figure(figsize=(16,5))\n",
        "\n",
        "plt.subplot(1,2,1)\n",
        "plt.plot(history.history['accuracy'])\n",
        "plt.title('Training Accuracy')\n",
        "plt.ylabel('accuracy')\n",
        "plt.xlabel('epoch')\n",
        "plt.legend(['train_accuracy'], loc='best')\n",
        "\n",
        "plt.subplot(1,2,2)\n",
        "plt.plot(history.history['loss'])\n",
        "plt.title('Training Loss')\n",
        "plt.ylabel('loss')\n",
        "plt.xlabel('epoch')\n",
        "plt.legend(['train_loss'], loc='best')"
      ],
      "execution_count": 75,
      "outputs": [
        {
          "output_type": "execute_result",
          "data": {
            "text/plain": [
              "<matplotlib.legend.Legend at 0x7fc844b9f650>"
            ]
          },
          "metadata": {
            "tags": []
          },
          "execution_count": 75
        },
        {
          "output_type": "display_data",
          "data": {
            "image/png": "[encoded data removed]",
            "text/plain": [
              "<Figure size 1152x360 with 2 Axes>"
            ]
          },
          "metadata": {
            "tags": [],
            "needs_background": "light"
          }
        }
      ]
    },
    {
      "cell_type": "code",
      "metadata": {
        "colab": {
          "base_uri": "https://localhost:8080/"
        },
        "id": "DmqU48c6TwbI",
        "outputId": "6c52d633-878e-444d-91fc-9fb6e8adfa15"
      },
      "source": [
        "import numpy as np\n",
        "from sklearn.metrics import accuracy_score\n",
        "\n",
        "predictions = model.predict(X_validate)\n",
        "\n",
        "THRESHOLD = 0.75\n",
        "\n",
        "new_predict = [1 if x >= THRESHOLD else 0 for x in predictions]\n",
        "new_predict = np.array(new_predict)\n",
        "\n",
        "accuracy_score(y_validate, new_predict)"
      ],
      "execution_count": 88,
      "outputs": [
        {
          "output_type": "execute_result",
          "data": {
            "text/plain": [
              "0.819672131147541"
            ]
          },
          "metadata": {
            "tags": []
          },
          "execution_count": 88
        }
      ]
    },
    {
      "cell_type": "markdown",
      "metadata": {
        "id": "_K0Glj08Wf96"
      },
      "source": [
        "---"
      ]
    }
  ]
}