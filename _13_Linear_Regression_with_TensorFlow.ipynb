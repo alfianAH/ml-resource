{
  "nbformat": 4,
  "nbformat_minor": 0,
  "metadata": {
    "colab": {
      "name": "#13-Linear Regression with TensorFlow.ipynb",
      "provenance": [],
      "collapsed_sections": [
        "copyright",
        "bI4aY3FWp-xh",
        "DkrSkr1kxPU0",
        "EBDrp9lVP6VL",
        "exercise-1-key-1",
        "exercise-2-key-1"
      ],
      "toc_visible": true
    },
    "kernelspec": {
      "display_name": "Python 3",
      "name": "python3"
    }
  },
  "cells": [
    {
      "cell_type": "markdown",
      "metadata": {
        "id": "copyright"
      },
      "source": [
        "#### Copyright 2020 Google LLC."
      ]
    },
    {
      "cell_type": "code",
      "metadata": {
        "cellView": "both",
        "id": "hMqWDc_m6rUC"
      },
      "source": [
        "# Licensed under the Apache License, Version 2.0 (the \"License\");\n",
        "# you may not use this file except in compliance with the License.\n",
        "# You may obtain a copy of the License at\n",
        "#\n",
        "# https://www.apache.org/licenses/LICENSE-2.0\n",
        "#\n",
        "# Unless required by applicable law or agreed to in writing, software\n",
        "# distributed under the License is distributed on an \"AS IS\" BASIS,\n",
        "# WITHOUT WARRANTIES OR CONDITIONS OF ANY KIND, either express or implied.\n",
        "# See the License for the specific language governing permissions and\n",
        "# limitations under the License."
      ],
      "execution_count": 19,
      "outputs": []
    },
    {
      "cell_type": "markdown",
      "metadata": {
        "id": "c2hPzRb6j_CA"
      },
      "source": [
        "# Linear Regression with TensorFlow"
      ]
    },
    {
      "cell_type": "markdown",
      "metadata": {
        "id": "9x88D_U-4oTH"
      },
      "source": [
        "In previous units we learned about regression and about how to build and apply a regression model using [scikit-learn](https://scikit-learn.org/stable/). For many regression cases, `scikit-learn` is more than adequate. However, there are times when more powerful tools are needed. [TensorFlow](https://www.tensorflow.org/) is one of those tools. It is a computational toolkit built to perform machine learning and data science tasks at scale."
      ]
    },
    {
      "cell_type": "markdown",
      "metadata": {
        "id": "0l6Kb0efckmq"
      },
      "source": [
        "## Problem Framing"
      ]
    },
    {
      "cell_type": "markdown",
      "metadata": {
        "id": "hknYP8ou1cPK"
      },
      "source": [
        "Machine learning is one of a variety of solutions that might work for solving a problem. It is always important to understand the problem space before diving in and starting to clean data and code.\n",
        "\n",
        "In this lab we would like to be able to **predict the price of a house**.\n",
        "\n",
        "Questions we should ask ourselves might include the following:\n",
        "\n",
        "* Predict the price when? Now? In the past? In the future? For what range?\n",
        "* Where are we predicting prices for? One market? One state? One country?\n",
        "* What is our tolerance for being wrong?\n",
        "* Are we okay with a few huge outliers if the overall model is better?\n",
        "* What metrics are we using to define success and what are the acceptable values?\n",
        "* Is there an non-ML way to solve this problem?\n",
        "* What data is available to solve the problem?\n",
        "\n",
        "The list of questions is boundless. Eventually you'll need to move on, but understanding the problem and the solution space is vital.\n",
        "\n",
        "---\n",
        "\n",
        "For this problem we'll further define the problem by saying:\n",
        "\n",
        ">  We want to create a system that predicts the prices of houses in California in 1990. We have census data from 1990 available to build and test the system. We will accept a system with a root mean squared error of 200,000 or better.\n",
        "\n",
        "Since this is a contrived example, we'll shortcut around the question of choosing a technique and say that our analysis has led us to believe that we want to use a linear regression model to serve as our prediction system."
      ]
    },
    {
      "cell_type": "markdown",
      "metadata": {
        "id": "6AaBjI9hmqnT"
      },
      "source": [
        "## Exploratory Data Analysis"
      ]
    },
    {
      "cell_type": "markdown",
      "metadata": {
        "id": "4f3CKqFUqL2-"
      },
      "source": [
        "The dataset we'll use for this Colab contains California housing data taken from the 1990 census data. This is a popular dataset for experimenting with machine learning models.\n",
        "\n",
        "As with any data science project, it is a good idea to take some time and review the [data schema and description](https://www.kaggle.com/camnugent/california-housing-prices). Ask yourself the following:\n",
        "\n",
        "* What data is available? What are the columns?\n",
        "* What do those columns mean?\n",
        "* What data types are those columns?\n",
        "* What is the granularity of the data? In this particular case, what is a \"block\"?\n",
        "* How many rows of data are there?\n",
        "* Roughly how big is the data? Kilobytes? Megabytes? Gigabytes? Terabytes? More?\n",
        "* Are any of the columns highly correlated?\n",
        "* What bias is contained in the data?"
      ]
    },
    {
      "cell_type": "markdown",
      "metadata": {
        "id": "IV1IN4SEmvSV"
      },
      "source": [
        "### Load the Data"
      ]
    },
    {
      "cell_type": "markdown",
      "metadata": {
        "id": "MxiIKhP4E2Zr"
      },
      "source": [
        "Now that we have an understanding of the data that we are going to use in our model, let's load it into this Colab and examine it more closely.\n",
        "\n",
        "Since the data is [hosted on Kaggle](https://www.kaggle.com/camnugent/california-housing-prices), you'll need to upload your `kaggle.json` file to this lab and then run the code block below."
      ]
    },
    {
      "cell_type": "code",
      "metadata": {
        "id": "9UanNeZU_gKv",
        "colab": {
          "base_uri": "https://localhost:8080/"
        },
        "outputId": "cce9d578-70e2-4c8f-d8eb-bbdb2aa69851"
      },
      "source": [
        "! chmod 600 kaggle.json && (ls ~/.kaggle 2>/dev/null || mkdir ~/.kaggle) && mv kaggle.json ~/.kaggle/ && echo 'Done'"
      ],
      "execution_count": 20,
      "outputs": [
        {
          "output_type": "stream",
          "text": [
            "chmod: cannot access 'kaggle.json': No such file or directory\n"
          ],
          "name": "stdout"
        }
      ]
    },
    {
      "cell_type": "markdown",
      "metadata": {
        "id": "iFE4pHPUk4lU"
      },
      "source": [
        "Once you are done, use the `kaggle` command to download the file into the lab."
      ]
    },
    {
      "cell_type": "code",
      "metadata": {
        "id": "cMEPBu88_qfu",
        "colab": {
          "base_uri": "https://localhost:8080/"
        },
        "outputId": "18dbce4b-a6ad-4a99-e78b-4576367f178a"
      },
      "source": [
        "!kaggle datasets download camnugent/california-housing-prices\n",
        "!ls"
      ],
      "execution_count": 21,
      "outputs": [
        {
          "output_type": "stream",
          "text": [
            "california-housing-prices.zip: Skipping, found more recently modified local copy (use --force to force download)\n",
            "california-housing-prices.zip  sample_data\n"
          ],
          "name": "stdout"
        }
      ]
    },
    {
      "cell_type": "markdown",
      "metadata": {
        "id": "j6INEmrdk-B3"
      },
      "source": [
        "We now have a file called `california-housing-prices.zip` that we can load into a `DataFrame`."
      ]
    },
    {
      "cell_type": "code",
      "metadata": {
        "id": "9ivCDWnwE2Zx",
        "colab": {
          "base_uri": "https://localhost:8080/",
          "height": 444
        },
        "outputId": "675fa655-53ef-4aa4-a6a3-802ea9583bf3"
      },
      "source": [
        "import pandas as pd\n",
        "\n",
        "housing_df = pd.read_csv('california-housing-prices.zip')\n",
        "\n",
        "housing_df"
      ],
      "execution_count": 22,
      "outputs": [
        {
          "output_type": "execute_result",
          "data": {
            "text/html": [
              "<div>\n",
              "<style scoped>\n",
              "    .dataframe tbody tr th:only-of-type {\n",
              "        vertical-align: middle;\n",
              "    }\n",
              "\n",
              "    .dataframe tbody tr th {\n",
              "        vertical-align: top;\n",
              "    }\n",
              "\n",
              "    .dataframe thead th {\n",
              "        text-align: right;\n",
              "    }\n",
              "</style>\n",
              "<table border=\"1\" class=\"dataframe\">\n",
              "  <thead>\n",
              "    <tr style=\"text-align: right;\">\n",
              "      <th></th>\n",
              "      <th>longitude</th>\n",
              "      <th>latitude</th>\n",
              "      <th>housing_median_age</th>\n",
              "      <th>total_rooms</th>\n",
              "      <th>total_bedrooms</th>\n",
              "      <th>population</th>\n",
              "      <th>households</th>\n",
              "      <th>median_income</th>\n",
              "      <th>median_house_value</th>\n",
              "      <th>ocean_proximity</th>\n",
              "    </tr>\n",
              "  </thead>\n",
              "  <tbody>\n",
              "    <tr>\n",
              "      <th>0</th>\n",
              "      <td>-122.23</td>\n",
              "      <td>37.88</td>\n",
              "      <td>41.0</td>\n",
              "      <td>880.0</td>\n",
              "      <td>129.0</td>\n",
              "      <td>322.0</td>\n",
              "      <td>126.0</td>\n",
              "      <td>8.3252</td>\n",
              "      <td>452600.0</td>\n",
              "      <td>NEAR BAY</td>\n",
              "    </tr>\n",
              "    <tr>\n",
              "      <th>1</th>\n",
              "      <td>-122.22</td>\n",
              "      <td>37.86</td>\n",
              "      <td>21.0</td>\n",
              "      <td>7099.0</td>\n",
              "      <td>1106.0</td>\n",
              "      <td>2401.0</td>\n",
              "      <td>1138.0</td>\n",
              "      <td>8.3014</td>\n",
              "      <td>358500.0</td>\n",
              "      <td>NEAR BAY</td>\n",
              "    </tr>\n",
              "    <tr>\n",
              "      <th>2</th>\n",
              "      <td>-122.24</td>\n",
              "      <td>37.85</td>\n",
              "      <td>52.0</td>\n",
              "      <td>1467.0</td>\n",
              "      <td>190.0</td>\n",
              "      <td>496.0</td>\n",
              "      <td>177.0</td>\n",
              "      <td>7.2574</td>\n",
              "      <td>352100.0</td>\n",
              "      <td>NEAR BAY</td>\n",
              "    </tr>\n",
              "    <tr>\n",
              "      <th>3</th>\n",
              "      <td>-122.25</td>\n",
              "      <td>37.85</td>\n",
              "      <td>52.0</td>\n",
              "      <td>1274.0</td>\n",
              "      <td>235.0</td>\n",
              "      <td>558.0</td>\n",
              "      <td>219.0</td>\n",
              "      <td>5.6431</td>\n",
              "      <td>341300.0</td>\n",
              "      <td>NEAR BAY</td>\n",
              "    </tr>\n",
              "    <tr>\n",
              "      <th>4</th>\n",
              "      <td>-122.25</td>\n",
              "      <td>37.85</td>\n",
              "      <td>52.0</td>\n",
              "      <td>1627.0</td>\n",
              "      <td>280.0</td>\n",
              "      <td>565.0</td>\n",
              "      <td>259.0</td>\n",
              "      <td>3.8462</td>\n",
              "      <td>342200.0</td>\n",
              "      <td>NEAR BAY</td>\n",
              "    </tr>\n",
              "    <tr>\n",
              "      <th>...</th>\n",
              "      <td>...</td>\n",
              "      <td>...</td>\n",
              "      <td>...</td>\n",
              "      <td>...</td>\n",
              "      <td>...</td>\n",
              "      <td>...</td>\n",
              "      <td>...</td>\n",
              "      <td>...</td>\n",
              "      <td>...</td>\n",
              "      <td>...</td>\n",
              "    </tr>\n",
              "    <tr>\n",
              "      <th>20635</th>\n",
              "      <td>-121.09</td>\n",
              "      <td>39.48</td>\n",
              "      <td>25.0</td>\n",
              "      <td>1665.0</td>\n",
              "      <td>374.0</td>\n",
              "      <td>845.0</td>\n",
              "      <td>330.0</td>\n",
              "      <td>1.5603</td>\n",
              "      <td>78100.0</td>\n",
              "      <td>INLAND</td>\n",
              "    </tr>\n",
              "    <tr>\n",
              "      <th>20636</th>\n",
              "      <td>-121.21</td>\n",
              "      <td>39.49</td>\n",
              "      <td>18.0</td>\n",
              "      <td>697.0</td>\n",
              "      <td>150.0</td>\n",
              "      <td>356.0</td>\n",
              "      <td>114.0</td>\n",
              "      <td>2.5568</td>\n",
              "      <td>77100.0</td>\n",
              "      <td>INLAND</td>\n",
              "    </tr>\n",
              "    <tr>\n",
              "      <th>20637</th>\n",
              "      <td>-121.22</td>\n",
              "      <td>39.43</td>\n",
              "      <td>17.0</td>\n",
              "      <td>2254.0</td>\n",
              "      <td>485.0</td>\n",
              "      <td>1007.0</td>\n",
              "      <td>433.0</td>\n",
              "      <td>1.7000</td>\n",
              "      <td>92300.0</td>\n",
              "      <td>INLAND</td>\n",
              "    </tr>\n",
              "    <tr>\n",
              "      <th>20638</th>\n",
              "      <td>-121.32</td>\n",
              "      <td>39.43</td>\n",
              "      <td>18.0</td>\n",
              "      <td>1860.0</td>\n",
              "      <td>409.0</td>\n",
              "      <td>741.0</td>\n",
              "      <td>349.0</td>\n",
              "      <td>1.8672</td>\n",
              "      <td>84700.0</td>\n",
              "      <td>INLAND</td>\n",
              "    </tr>\n",
              "    <tr>\n",
              "      <th>20639</th>\n",
              "      <td>-121.24</td>\n",
              "      <td>39.37</td>\n",
              "      <td>16.0</td>\n",
              "      <td>2785.0</td>\n",
              "      <td>616.0</td>\n",
              "      <td>1387.0</td>\n",
              "      <td>530.0</td>\n",
              "      <td>2.3886</td>\n",
              "      <td>89400.0</td>\n",
              "      <td>INLAND</td>\n",
              "    </tr>\n",
              "  </tbody>\n",
              "</table>\n",
              "<p>20640 rows × 10 columns</p>\n",
              "</div>"
            ],
            "text/plain": [
              "       longitude  latitude  ...  median_house_value  ocean_proximity\n",
              "0        -122.23     37.88  ...            452600.0         NEAR BAY\n",
              "1        -122.22     37.86  ...            358500.0         NEAR BAY\n",
              "2        -122.24     37.85  ...            352100.0         NEAR BAY\n",
              "3        -122.25     37.85  ...            341300.0         NEAR BAY\n",
              "4        -122.25     37.85  ...            342200.0         NEAR BAY\n",
              "...          ...       ...  ...                 ...              ...\n",
              "20635    -121.09     39.48  ...             78100.0           INLAND\n",
              "20636    -121.21     39.49  ...             77100.0           INLAND\n",
              "20637    -121.22     39.43  ...             92300.0           INLAND\n",
              "20638    -121.32     39.43  ...             84700.0           INLAND\n",
              "20639    -121.24     39.37  ...             89400.0           INLAND\n",
              "\n",
              "[20640 rows x 10 columns]"
            ]
          },
          "metadata": {
            "tags": []
          },
          "execution_count": 22
        }
      ]
    },
    {
      "cell_type": "markdown",
      "metadata": {
        "id": "AkAz5fKTmyIu"
      },
      "source": [
        "### Exploration"
      ]
    },
    {
      "cell_type": "markdown",
      "metadata": {
        "id": "6mYFU9r0Vfcx"
      },
      "source": [
        "You should always look at your data and statistics about that data before you begin modelling it. First, let's see the columns and data types that we have available."
      ]
    },
    {
      "cell_type": "code",
      "metadata": {
        "id": "DgRbsFWWm-bW",
        "colab": {
          "base_uri": "https://localhost:8080/"
        },
        "outputId": "92cf7c3e-4279-47fb-89ac-7adc6597531f"
      },
      "source": [
        "housing_df.dtypes"
      ],
      "execution_count": 23,
      "outputs": [
        {
          "output_type": "execute_result",
          "data": {
            "text/plain": [
              "longitude             float64\n",
              "latitude              float64\n",
              "housing_median_age    float64\n",
              "total_rooms           float64\n",
              "total_bedrooms        float64\n",
              "population            float64\n",
              "households            float64\n",
              "median_income         float64\n",
              "median_house_value    float64\n",
              "ocean_proximity        object\n",
              "dtype: object"
            ]
          },
          "metadata": {
            "tags": []
          },
          "execution_count": 23
        }
      ]
    },
    {
      "cell_type": "markdown",
      "metadata": {
        "id": "WWqdbWXAnSI8"
      },
      "source": [
        "Eight floating point features, one object features, and a floating point target, `median_house_value`. This is what we expect based on the [data documentation](https://www.kaggle.com/camnugent/california-housing-prices)."
      ]
    },
    {
      "cell_type": "markdown",
      "metadata": {
        "id": "2_uC_781pU-K"
      },
      "source": [
        "#### Statistics"
      ]
    },
    {
      "cell_type": "markdown",
      "metadata": {
        "id": "HbAA98gBnhcG"
      },
      "source": [
        "It is a good idea to also describe the dataset. We use the `include='all'` argument to ensure our object column is also described."
      ]
    },
    {
      "cell_type": "code",
      "metadata": {
        "cellView": "both",
        "id": "gzb10yoVrydW",
        "colab": {
          "base_uri": "https://localhost:8080/",
          "height": 414
        },
        "outputId": "6a33100a-ddfb-456b-988e-1fb8a39373c1"
      },
      "source": [
        "housing_df.describe(include='all')"
      ],
      "execution_count": 24,
      "outputs": [
        {
          "output_type": "execute_result",
          "data": {
            "text/html": [
              "<div>\n",
              "<style scoped>\n",
              "    .dataframe tbody tr th:only-of-type {\n",
              "        vertical-align: middle;\n",
              "    }\n",
              "\n",
              "    .dataframe tbody tr th {\n",
              "        vertical-align: top;\n",
              "    }\n",
              "\n",
              "    .dataframe thead th {\n",
              "        text-align: right;\n",
              "    }\n",
              "</style>\n",
              "<table border=\"1\" class=\"dataframe\">\n",
              "  <thead>\n",
              "    <tr style=\"text-align: right;\">\n",
              "      <th></th>\n",
              "      <th>longitude</th>\n",
              "      <th>latitude</th>\n",
              "      <th>housing_median_age</th>\n",
              "      <th>total_rooms</th>\n",
              "      <th>total_bedrooms</th>\n",
              "      <th>population</th>\n",
              "      <th>households</th>\n",
              "      <th>median_income</th>\n",
              "      <th>median_house_value</th>\n",
              "      <th>ocean_proximity</th>\n",
              "    </tr>\n",
              "  </thead>\n",
              "  <tbody>\n",
              "    <tr>\n",
              "      <th>count</th>\n",
              "      <td>20640.000000</td>\n",
              "      <td>20640.000000</td>\n",
              "      <td>20640.000000</td>\n",
              "      <td>20640.000000</td>\n",
              "      <td>20433.000000</td>\n",
              "      <td>20640.000000</td>\n",
              "      <td>20640.000000</td>\n",
              "      <td>20640.000000</td>\n",
              "      <td>20640.000000</td>\n",
              "      <td>20640</td>\n",
              "    </tr>\n",
              "    <tr>\n",
              "      <th>unique</th>\n",
              "      <td>NaN</td>\n",
              "      <td>NaN</td>\n",
              "      <td>NaN</td>\n",
              "      <td>NaN</td>\n",
              "      <td>NaN</td>\n",
              "      <td>NaN</td>\n",
              "      <td>NaN</td>\n",
              "      <td>NaN</td>\n",
              "      <td>NaN</td>\n",
              "      <td>5</td>\n",
              "    </tr>\n",
              "    <tr>\n",
              "      <th>top</th>\n",
              "      <td>NaN</td>\n",
              "      <td>NaN</td>\n",
              "      <td>NaN</td>\n",
              "      <td>NaN</td>\n",
              "      <td>NaN</td>\n",
              "      <td>NaN</td>\n",
              "      <td>NaN</td>\n",
              "      <td>NaN</td>\n",
              "      <td>NaN</td>\n",
              "      <td>&lt;1H OCEAN</td>\n",
              "    </tr>\n",
              "    <tr>\n",
              "      <th>freq</th>\n",
              "      <td>NaN</td>\n",
              "      <td>NaN</td>\n",
              "      <td>NaN</td>\n",
              "      <td>NaN</td>\n",
              "      <td>NaN</td>\n",
              "      <td>NaN</td>\n",
              "      <td>NaN</td>\n",
              "      <td>NaN</td>\n",
              "      <td>NaN</td>\n",
              "      <td>9136</td>\n",
              "    </tr>\n",
              "    <tr>\n",
              "      <th>mean</th>\n",
              "      <td>-119.569704</td>\n",
              "      <td>35.631861</td>\n",
              "      <td>28.639486</td>\n",
              "      <td>2635.763081</td>\n",
              "      <td>537.870553</td>\n",
              "      <td>1425.476744</td>\n",
              "      <td>499.539680</td>\n",
              "      <td>3.870671</td>\n",
              "      <td>206855.816909</td>\n",
              "      <td>NaN</td>\n",
              "    </tr>\n",
              "    <tr>\n",
              "      <th>std</th>\n",
              "      <td>2.003532</td>\n",
              "      <td>2.135952</td>\n",
              "      <td>12.585558</td>\n",
              "      <td>2181.615252</td>\n",
              "      <td>421.385070</td>\n",
              "      <td>1132.462122</td>\n",
              "      <td>382.329753</td>\n",
              "      <td>1.899822</td>\n",
              "      <td>115395.615874</td>\n",
              "      <td>NaN</td>\n",
              "    </tr>\n",
              "    <tr>\n",
              "      <th>min</th>\n",
              "      <td>-124.350000</td>\n",
              "      <td>32.540000</td>\n",
              "      <td>1.000000</td>\n",
              "      <td>2.000000</td>\n",
              "      <td>1.000000</td>\n",
              "      <td>3.000000</td>\n",
              "      <td>1.000000</td>\n",
              "      <td>0.499900</td>\n",
              "      <td>14999.000000</td>\n",
              "      <td>NaN</td>\n",
              "    </tr>\n",
              "    <tr>\n",
              "      <th>25%</th>\n",
              "      <td>-121.800000</td>\n",
              "      <td>33.930000</td>\n",
              "      <td>18.000000</td>\n",
              "      <td>1447.750000</td>\n",
              "      <td>296.000000</td>\n",
              "      <td>787.000000</td>\n",
              "      <td>280.000000</td>\n",
              "      <td>2.563400</td>\n",
              "      <td>119600.000000</td>\n",
              "      <td>NaN</td>\n",
              "    </tr>\n",
              "    <tr>\n",
              "      <th>50%</th>\n",
              "      <td>-118.490000</td>\n",
              "      <td>34.260000</td>\n",
              "      <td>29.000000</td>\n",
              "      <td>2127.000000</td>\n",
              "      <td>435.000000</td>\n",
              "      <td>1166.000000</td>\n",
              "      <td>409.000000</td>\n",
              "      <td>3.534800</td>\n",
              "      <td>179700.000000</td>\n",
              "      <td>NaN</td>\n",
              "    </tr>\n",
              "    <tr>\n",
              "      <th>75%</th>\n",
              "      <td>-118.010000</td>\n",
              "      <td>37.710000</td>\n",
              "      <td>37.000000</td>\n",
              "      <td>3148.000000</td>\n",
              "      <td>647.000000</td>\n",
              "      <td>1725.000000</td>\n",
              "      <td>605.000000</td>\n",
              "      <td>4.743250</td>\n",
              "      <td>264725.000000</td>\n",
              "      <td>NaN</td>\n",
              "    </tr>\n",
              "    <tr>\n",
              "      <th>max</th>\n",
              "      <td>-114.310000</td>\n",
              "      <td>41.950000</td>\n",
              "      <td>52.000000</td>\n",
              "      <td>39320.000000</td>\n",
              "      <td>6445.000000</td>\n",
              "      <td>35682.000000</td>\n",
              "      <td>6082.000000</td>\n",
              "      <td>15.000100</td>\n",
              "      <td>500001.000000</td>\n",
              "      <td>NaN</td>\n",
              "    </tr>\n",
              "  </tbody>\n",
              "</table>\n",
              "</div>"
            ],
            "text/plain": [
              "           longitude      latitude  ...  median_house_value  ocean_proximity\n",
              "count   20640.000000  20640.000000  ...        20640.000000            20640\n",
              "unique           NaN           NaN  ...                 NaN                5\n",
              "top              NaN           NaN  ...                 NaN        <1H OCEAN\n",
              "freq             NaN           NaN  ...                 NaN             9136\n",
              "mean     -119.569704     35.631861  ...       206855.816909              NaN\n",
              "std         2.003532      2.135952  ...       115395.615874              NaN\n",
              "min      -124.350000     32.540000  ...        14999.000000              NaN\n",
              "25%      -121.800000     33.930000  ...       119600.000000              NaN\n",
              "50%      -118.490000     34.260000  ...       179700.000000              NaN\n",
              "75%      -118.010000     37.710000  ...       264725.000000              NaN\n",
              "max      -114.310000     41.950000  ...       500001.000000              NaN\n",
              "\n",
              "[11 rows x 10 columns]"
            ]
          },
          "metadata": {
            "tags": []
          },
          "execution_count": 24
        }
      ]
    },
    {
      "cell_type": "markdown",
      "metadata": {
        "id": "Tcms-0dziNlO"
      },
      "source": [
        "In this case we can see that all of the column counts are the same except for `total_bedrooms`, which seems to be missing some data.\n",
        "\n",
        "Looking at the min and max can be helpful, too. Does a 2.0 value for a minimum number of rooms for a block match your mental model of what a block is? What about that max of 39,320 rooms? In cases like this, it can be useful to [research your topic area](https://www2.census.gov/geo/pdfs/reference/GARM/Ch11GARM.pdf).\n",
        "\n",
        "In this particular case, those numbers might be okay as long as the dense block is in an urban area with very dense and tall buildings on the block. As you probe a dataset, you should ask yourself questions like this. When something doesn't look right, investigate it.\n",
        "\n",
        "Also notice the ocean proximity column. It has five unique values. Let's see what they are."
      ]
    },
    {
      "cell_type": "code",
      "metadata": {
        "id": "SuiVR4SJFyHL",
        "colab": {
          "base_uri": "https://localhost:8080/",
          "height": 283
        },
        "outputId": "1843f6ae-f9dd-42d6-dd86-bbc16d74bd74"
      },
      "source": [
        "housing_df['ocean_proximity'].hist()"
      ],
      "execution_count": 25,
      "outputs": [
        {
          "output_type": "execute_result",
          "data": {
            "text/plain": [
              "<matplotlib.axes._subplots.AxesSubplot at 0x7f51514a9410>"
            ]
          },
          "metadata": {
            "tags": []
          },
          "execution_count": 25
        },
        {
          "output_type": "display_data",
          "data": {
            "image/png": "[encoded data removed]",
            "text/plain": [
              "<Figure size 432x288 with 1 Axes>"
            ]
          },
          "metadata": {
            "tags": [],
            "needs_background": "light"
          }
        }
      ]
    },
    {
      "cell_type": "markdown",
      "metadata": {
        "id": "Nxpwc34QF46r"
      },
      "source": [
        "We used `.hist()` so that we can also see the distribution. We can see the five values and can see that the largest group is `<1H OCEAN`. We don't seem to have any values missing."
      ]
    },
    {
      "cell_type": "markdown",
      "metadata": {
        "id": "NOORlGOFpghq"
      },
      "source": [
        "##### Exercise 1: Sanity Check\n",
        "\n",
        "Use Pandas to find the row of data that contains the census block with the largest number of rooms. Search for the latitude and longitude for that location and answer the questions below."
      ]
    },
    {
      "cell_type": "markdown",
      "metadata": {
        "id": "2YoH2f9npzJM"
      },
      "source": [
        "**Student Solution**"
      ]
    },
    {
      "cell_type": "code",
      "metadata": {
        "id": "xkowOrlup0zW",
        "colab": {
          "base_uri": "https://localhost:8080/",
          "height": 100
        },
        "outputId": "4680e925-8618-48fc-c2be-f9876e10d09b"
      },
      "source": [
        "# Your Code Goes Here\n",
        "max_room = housing_df['total_rooms'].max()\n",
        "housing_df[housing_df['total_rooms'] == max_room]"
      ],
      "execution_count": 26,
      "outputs": [
        {
          "output_type": "execute_result",
          "data": {
            "text/html": [
              "<div>\n",
              "<style scoped>\n",
              "    .dataframe tbody tr th:only-of-type {\n",
              "        vertical-align: middle;\n",
              "    }\n",
              "\n",
              "    .dataframe tbody tr th {\n",
              "        vertical-align: top;\n",
              "    }\n",
              "\n",
              "    .dataframe thead th {\n",
              "        text-align: right;\n",
              "    }\n",
              "</style>\n",
              "<table border=\"1\" class=\"dataframe\">\n",
              "  <thead>\n",
              "    <tr style=\"text-align: right;\">\n",
              "      <th></th>\n",
              "      <th>longitude</th>\n",
              "      <th>latitude</th>\n",
              "      <th>housing_median_age</th>\n",
              "      <th>total_rooms</th>\n",
              "      <th>total_bedrooms</th>\n",
              "      <th>population</th>\n",
              "      <th>households</th>\n",
              "      <th>median_income</th>\n",
              "      <th>median_house_value</th>\n",
              "      <th>ocean_proximity</th>\n",
              "    </tr>\n",
              "  </thead>\n",
              "  <tbody>\n",
              "    <tr>\n",
              "      <th>13139</th>\n",
              "      <td>-121.44</td>\n",
              "      <td>38.43</td>\n",
              "      <td>3.0</td>\n",
              "      <td>39320.0</td>\n",
              "      <td>6210.0</td>\n",
              "      <td>16305.0</td>\n",
              "      <td>5358.0</td>\n",
              "      <td>4.9516</td>\n",
              "      <td>153700.0</td>\n",
              "      <td>INLAND</td>\n",
              "    </tr>\n",
              "  </tbody>\n",
              "</table>\n",
              "</div>"
            ],
            "text/plain": [
              "       longitude  latitude  ...  median_house_value  ocean_proximity\n",
              "13139    -121.44     38.43  ...            153700.0           INLAND\n",
              "\n",
              "[1 rows x 10 columns]"
            ]
          },
          "metadata": {
            "tags": []
          },
          "execution_count": 26
        }
      ]
    },
    {
      "cell_type": "markdown",
      "metadata": {
        "id": "gpvOIDvtp2Q9"
      },
      "source": [
        "1. What city is the block located in?\n",
        "> *Your solution goes here*\n",
        "1. Are 39320.0 total rooms reasonable? Why?\n",
        "> *Your solution goes here*\n"
      ]
    },
    {
      "cell_type": "markdown",
      "metadata": {
        "id": "60nqtytFqAq2"
      },
      "source": [
        "---"
      ]
    },
    {
      "cell_type": "markdown",
      "metadata": {
        "id": "xNzV5-mrtgMq"
      },
      "source": [
        "#### Sampling"
      ]
    },
    {
      "cell_type": "markdown",
      "metadata": {
        "id": "iFY9F9PPjKcC"
      },
      "source": [
        "It is also a good idea to take a look at the actual data. We can use Panda's `head()`, `tail()`, and/or `sample()` methods to do this."
      ]
    },
    {
      "cell_type": "code",
      "metadata": {
        "id": "DyJQrnogjSNc",
        "colab": {
          "base_uri": "https://localhost:8080/",
          "height": 383
        },
        "outputId": "e49a1762-ff72-458b-847c-be6acfcdd30d"
      },
      "source": [
        "housing_df.head(10)"
      ],
      "execution_count": 27,
      "outputs": [
        {
          "output_type": "execute_result",
          "data": {
            "text/html": [
              "<div>\n",
              "<style scoped>\n",
              "    .dataframe tbody tr th:only-of-type {\n",
              "        vertical-align: middle;\n",
              "    }\n",
              "\n",
              "    .dataframe tbody tr th {\n",
              "        vertical-align: top;\n",
              "    }\n",
              "\n",
              "    .dataframe thead th {\n",
              "        text-align: right;\n",
              "    }\n",
              "</style>\n",
              "<table border=\"1\" class=\"dataframe\">\n",
              "  <thead>\n",
              "    <tr style=\"text-align: right;\">\n",
              "      <th></th>\n",
              "      <th>longitude</th>\n",
              "      <th>latitude</th>\n",
              "      <th>housing_median_age</th>\n",
              "      <th>total_rooms</th>\n",
              "      <th>total_bedrooms</th>\n",
              "      <th>population</th>\n",
              "      <th>households</th>\n",
              "      <th>median_income</th>\n",
              "      <th>median_house_value</th>\n",
              "      <th>ocean_proximity</th>\n",
              "    </tr>\n",
              "  </thead>\n",
              "  <tbody>\n",
              "    <tr>\n",
              "      <th>0</th>\n",
              "      <td>-122.23</td>\n",
              "      <td>37.88</td>\n",
              "      <td>41.0</td>\n",
              "      <td>880.0</td>\n",
              "      <td>129.0</td>\n",
              "      <td>322.0</td>\n",
              "      <td>126.0</td>\n",
              "      <td>8.3252</td>\n",
              "      <td>452600.0</td>\n",
              "      <td>NEAR BAY</td>\n",
              "    </tr>\n",
              "    <tr>\n",
              "      <th>1</th>\n",
              "      <td>-122.22</td>\n",
              "      <td>37.86</td>\n",
              "      <td>21.0</td>\n",
              "      <td>7099.0</td>\n",
              "      <td>1106.0</td>\n",
              "      <td>2401.0</td>\n",
              "      <td>1138.0</td>\n",
              "      <td>8.3014</td>\n",
              "      <td>358500.0</td>\n",
              "      <td>NEAR BAY</td>\n",
              "    </tr>\n",
              "    <tr>\n",
              "      <th>2</th>\n",
              "      <td>-122.24</td>\n",
              "      <td>37.85</td>\n",
              "      <td>52.0</td>\n",
              "      <td>1467.0</td>\n",
              "      <td>190.0</td>\n",
              "      <td>496.0</td>\n",
              "      <td>177.0</td>\n",
              "      <td>7.2574</td>\n",
              "      <td>352100.0</td>\n",
              "      <td>NEAR BAY</td>\n",
              "    </tr>\n",
              "    <tr>\n",
              "      <th>3</th>\n",
              "      <td>-122.25</td>\n",
              "      <td>37.85</td>\n",
              "      <td>52.0</td>\n",
              "      <td>1274.0</td>\n",
              "      <td>235.0</td>\n",
              "      <td>558.0</td>\n",
              "      <td>219.0</td>\n",
              "      <td>5.6431</td>\n",
              "      <td>341300.0</td>\n",
              "      <td>NEAR BAY</td>\n",
              "    </tr>\n",
              "    <tr>\n",
              "      <th>4</th>\n",
              "      <td>-122.25</td>\n",
              "      <td>37.85</td>\n",
              "      <td>52.0</td>\n",
              "      <td>1627.0</td>\n",
              "      <td>280.0</td>\n",
              "      <td>565.0</td>\n",
              "      <td>259.0</td>\n",
              "      <td>3.8462</td>\n",
              "      <td>342200.0</td>\n",
              "      <td>NEAR BAY</td>\n",
              "    </tr>\n",
              "    <tr>\n",
              "      <th>5</th>\n",
              "      <td>-122.25</td>\n",
              "      <td>37.85</td>\n",
              "      <td>52.0</td>\n",
              "      <td>919.0</td>\n",
              "      <td>213.0</td>\n",
              "      <td>413.0</td>\n",
              "      <td>193.0</td>\n",
              "      <td>4.0368</td>\n",
              "      <td>269700.0</td>\n",
              "      <td>NEAR BAY</td>\n",
              "    </tr>\n",
              "    <tr>\n",
              "      <th>6</th>\n",
              "      <td>-122.25</td>\n",
              "      <td>37.84</td>\n",
              "      <td>52.0</td>\n",
              "      <td>2535.0</td>\n",
              "      <td>489.0</td>\n",
              "      <td>1094.0</td>\n",
              "      <td>514.0</td>\n",
              "      <td>3.6591</td>\n",
              "      <td>299200.0</td>\n",
              "      <td>NEAR BAY</td>\n",
              "    </tr>\n",
              "    <tr>\n",
              "      <th>7</th>\n",
              "      <td>-122.25</td>\n",
              "      <td>37.84</td>\n",
              "      <td>52.0</td>\n",
              "      <td>3104.0</td>\n",
              "      <td>687.0</td>\n",
              "      <td>1157.0</td>\n",
              "      <td>647.0</td>\n",
              "      <td>3.1200</td>\n",
              "      <td>241400.0</td>\n",
              "      <td>NEAR BAY</td>\n",
              "    </tr>\n",
              "    <tr>\n",
              "      <th>8</th>\n",
              "      <td>-122.26</td>\n",
              "      <td>37.84</td>\n",
              "      <td>42.0</td>\n",
              "      <td>2555.0</td>\n",
              "      <td>665.0</td>\n",
              "      <td>1206.0</td>\n",
              "      <td>595.0</td>\n",
              "      <td>2.0804</td>\n",
              "      <td>226700.0</td>\n",
              "      <td>NEAR BAY</td>\n",
              "    </tr>\n",
              "    <tr>\n",
              "      <th>9</th>\n",
              "      <td>-122.25</td>\n",
              "      <td>37.84</td>\n",
              "      <td>52.0</td>\n",
              "      <td>3549.0</td>\n",
              "      <td>707.0</td>\n",
              "      <td>1551.0</td>\n",
              "      <td>714.0</td>\n",
              "      <td>3.6912</td>\n",
              "      <td>261100.0</td>\n",
              "      <td>NEAR BAY</td>\n",
              "    </tr>\n",
              "  </tbody>\n",
              "</table>\n",
              "</div>"
            ],
            "text/plain": [
              "   longitude  latitude  ...  median_house_value  ocean_proximity\n",
              "0    -122.23     37.88  ...            452600.0         NEAR BAY\n",
              "1    -122.22     37.86  ...            358500.0         NEAR BAY\n",
              "2    -122.24     37.85  ...            352100.0         NEAR BAY\n",
              "3    -122.25     37.85  ...            341300.0         NEAR BAY\n",
              "4    -122.25     37.85  ...            342200.0         NEAR BAY\n",
              "5    -122.25     37.85  ...            269700.0         NEAR BAY\n",
              "6    -122.25     37.84  ...            299200.0         NEAR BAY\n",
              "7    -122.25     37.84  ...            241400.0         NEAR BAY\n",
              "8    -122.26     37.84  ...            226700.0         NEAR BAY\n",
              "9    -122.25     37.84  ...            261100.0         NEAR BAY\n",
              "\n",
              "[10 rows x 10 columns]"
            ]
          },
          "metadata": {
            "tags": []
          },
          "execution_count": 27
        }
      ]
    },
    {
      "cell_type": "markdown",
      "metadata": {
        "id": "JmHCrw9cjbpr"
      },
      "source": [
        "Did you gain any insight from peeking at the actual data? Is the data sorted in a manner that might lead to a bad model?\n",
        "\n",
        "In this case the data seems to be sorted ascending by longitude and possibly secondarily descending by latitude. We need to consider this when sampling or splitting the data.\n",
        "\n",
        "Also, there are some duplicate latitude and longitude values. This seems odd, but will be difficult to troubleshoot. For now, we'll just accept that the values are okay."
      ]
    },
    {
      "cell_type": "markdown",
      "metadata": {
        "id": "wlLhD4Bqundm"
      },
      "source": [
        "#### Correlation"
      ]
    },
    {
      "cell_type": "markdown",
      "metadata": {
        "id": "OBSYWGXDwAC0"
      },
      "source": [
        "It is important to understand how columns relate to one another. Every feature that you add to your training set increases the amount of work that must be done to train your model. If you can find columns with a high degree of correlation, you can potentially not use one of the columns in your training and still get a model that performs well.\n",
        "\n",
        "Let's create a correlation matrix heatmap for our data set."
      ]
    },
    {
      "cell_type": "code",
      "metadata": {
        "id": "3javxCbhusYD",
        "colab": {
          "base_uri": "https://localhost:8080/",
          "height": 691
        },
        "outputId": "a1388efb-3a68-42a9-c0a6-f0b76aea5caa"
      },
      "source": [
        "import matplotlib.pyplot as plt\n",
        "import seaborn as sns\n",
        "\n",
        "plt.figure(figsize=(12,10))\n",
        "_ = sns.heatmap(housing_df.corr(), cmap='coolwarm', annot=True)"
      ],
      "execution_count": 28,
      "outputs": [
        {
          "output_type": "display_data",
          "data": {
            "image/png": "[encoded data removed]",
            "text/plain": [
              "<Figure size 864x720 with 2 Axes>"
            ]
          },
          "metadata": {
            "tags": [],
            "needs_background": "light"
          }
        }
      ]
    },
    {
      "cell_type": "markdown",
      "metadata": {
        "id": "nQ_kyCHQwg3c"
      },
      "source": [
        "##### Exercise 2: Correlated Columns\n",
        "\n",
        "Answer the following questions about the correlation between columns in our dataset."
      ]
    },
    {
      "cell_type": "markdown",
      "metadata": {
        "id": "rHFuBiX1wypg"
      },
      "source": [
        "**Student Solution**"
      ]
    },
    {
      "cell_type": "markdown",
      "metadata": {
        "id": "FsHfpMg-w5CJ"
      },
      "source": [
        "1. Which columns are the most highly correlated?\n",
        "> households and total_bedrooms\n",
        "1. Which column is most strongly correlated with `median_house_value`?\n",
        "> median_income\n",
        "1. Which columns have the strongest negative correlation?\n",
        "> latitude and longitude\n"
      ]
    },
    {
      "cell_type": "markdown",
      "metadata": {
        "id": "oSmvBtqhxOgk"
      },
      "source": [
        "---"
      ]
    },
    {
      "cell_type": "markdown",
      "metadata": {
        "id": "f_jewMyK0del"
      },
      "source": [
        "### Data Preprocessing"
      ]
    },
    {
      "cell_type": "markdown",
      "metadata": {
        "id": "XApHK9X10kJs"
      },
      "source": [
        "Now is the stage where we would perform model-independent preprocessing to the data to repair any missing data. Since there isn't very much missing data, we don't have much pre-processing to do.\n",
        "\n",
        "Let's look at those room counts again, though. The values seem a little odd.\n",
        "\n",
        "First we'll plot the room counts in ascending order."
      ]
    },
    {
      "cell_type": "code",
      "metadata": {
        "id": "KrX1gOWP0cZ4",
        "colab": {
          "base_uri": "https://localhost:8080/",
          "height": 592
        },
        "outputId": "604e6f10-a551-4621-a70b-9ae7d749f3b0"
      },
      "source": [
        "rooms = housing_df['total_rooms'].sort_values().reset_index(drop=True)\n",
        "\n",
        "plt.figure(figsize=(12,10))\n",
        "_ = sns.lineplot(x=rooms.index.values, y=rooms)"
      ],
      "execution_count": 29,
      "outputs": [
        {
          "output_type": "display_data",
          "data": {
            "image/png": "[encoded data removed]",
            "text/plain": [
              "<Figure size 864x720 with 1 Axes>"
            ]
          },
          "metadata": {
            "tags": [],
            "needs_background": "light"
          }
        }
      ]
    },
    {
      "cell_type": "markdown",
      "metadata": {
        "id": "UZWeBpvt2WtI"
      },
      "source": [
        "That's quite a spike there at the end!\n",
        "\n",
        "Looking at the chart, let's pick a point where the number of rooms really starts to extremely slope upward, say 10,000. If we chose to drop the rows with really large values, what would that do to our data?"
      ]
    },
    {
      "cell_type": "code",
      "metadata": {
        "id": "3OT5hQgj1154",
        "colab": {
          "base_uri": "https://localhost:8080/"
        },
        "outputId": "e4559857-5151-45f6-90da-abe119cf9616"
      },
      "source": [
        "many_rooms = rooms[rooms > 10000].size\n",
        "\n",
        "percent = (many_rooms / rooms.size) * 100\n",
        "\n",
        "print(f'{many_rooms} blocks have more than 10000 rooms ' +\n",
        "      f'which is {percent:0.2f}% of our data')"
      ],
      "execution_count": 30,
      "outputs": [
        {
          "output_type": "stream",
          "text": [
            "287 blocks have more than 10000 rooms which is 1.39% of our data\n"
          ],
          "name": "stdout"
        }
      ]
    },
    {
      "cell_type": "markdown",
      "metadata": {
        "id": "HRXdRK6O3Lih"
      },
      "source": [
        "So we'd knock out over 1% of our data by trying to remove what we think are outliers. That's not horrible, but it's probably not something we would want to do on a hunch.\n"
      ]
    },
    {
      "cell_type": "markdown",
      "metadata": {
        "id": "LXF48meDwTU-"
      },
      "source": [
        "We do need to fix our missing total bedrooms data. There are a few strategies that we could use:\n",
        "\n",
        "* Fill in the values with the mean of the `total_bedrooms` data in the dataset.\n",
        "* Fill in the values with zero.\n",
        "* Find the closest lat/long values and use the mean of them.\n",
        "* Find the ratio of `total_bedrooms` to `total_rooms` and multiply it against the `total_rooms` values that correspond with the missing `total_bedrooms` values.\n",
        "\n",
        "Which is best?\n",
        "\n",
        "Each method has pros and cons. For instance, using the dataset-wide mean values might lead to some unrealistic values if the blocks happen to be in extremely dense or extremely rural areas.\n",
        "\n",
        "Filling in with zeros in this case works, but seems like a lazy approach that we can be pretty sure is not accurate.\n",
        "\n",
        "Finding the closest lat/long that has a value and using its value - or the mean of a few of the closest lat/longs - is tempting since density probably changes slowly. However, this might be difficult to do, even with the data being sorted by latitude and longitude.\n",
        "\n",
        "Finding the ratio of total rooms to bedrooms seems like a reasonable compromise since we have `total_rooms` data for every row, and the two columns are highly correlated. Using these values, we can derive a reasonable guess for the number of bedrooms.\n",
        "\n",
        "The code to find the ratio sums the values for total bedrooms and total rooms across all fully-populated rows in the dataset."
      ]
    },
    {
      "cell_type": "code",
      "metadata": {
        "id": "Vs6mxYoswjY6",
        "colab": {
          "base_uri": "https://localhost:8080/"
        },
        "outputId": "a3383380-b307-44a7-a680-315a09e48952"
      },
      "source": [
        "has_all_data = housing_df[~housing_df['total_bedrooms'].isna()]\n",
        "\n",
        "sums = has_all_data[['total_bedrooms', 'total_rooms']].sum().tolist()\n",
        "\n",
        "bedrooms_to_total_rooms_ratio = sums[0] / sums[1]\n",
        "\n",
        "bedrooms_to_total_rooms_ratio"
      ],
      "execution_count": 31,
      "outputs": [
        {
          "output_type": "execute_result",
          "data": {
            "text/plain": [
              "0.20400898497877112"
            ]
          },
          "metadata": {
            "tags": []
          },
          "execution_count": 31
        }
      ]
    },
    {
      "cell_type": "markdown",
      "metadata": {
        "id": "XYwDV_tKwyoS"
      },
      "source": [
        "If we think that the outliers might throw off the ratio, we can check the median."
      ]
    },
    {
      "cell_type": "code",
      "metadata": {
        "id": "-fLN2Pg_wvmQ",
        "colab": {
          "base_uri": "https://localhost:8080/"
        },
        "outputId": "c50355f9-9689-42d1-88ca-f9dbe50144d7"
      },
      "source": [
        "has_all_data = housing_df[~housing_df['total_bedrooms'].isna()]\n",
        "\n",
        "sums = has_all_data[['total_bedrooms', 'total_rooms']].median().tolist()\n",
        "\n",
        "bedrooms_to_total_rooms_ratio = sums[0] / sums[1]\n",
        "\n",
        "bedrooms_to_total_rooms_ratio"
      ],
      "execution_count": 32,
      "outputs": [
        {
          "output_type": "execute_result",
          "data": {
            "text/plain": [
              "0.20451339915373765"
            ]
          },
          "metadata": {
            "tags": []
          },
          "execution_count": 32
        }
      ]
    },
    {
      "cell_type": "markdown",
      "metadata": {
        "id": "NPKi5hwxw6bX"
      },
      "source": [
        "It seems to match the mean pretty closely.\n",
        "\n",
        "Now we just need to patch the data."
      ]
    },
    {
      "cell_type": "code",
      "metadata": {
        "id": "Tje5yzOFwn2O",
        "colab": {
          "base_uri": "https://localhost:8080/",
          "height": 320
        },
        "outputId": "dadf093e-30df-408d-e6db-d3cd84ecea11"
      },
      "source": [
        "missing_total_bedrooms_idx = housing_df['total_bedrooms'].isna()\n",
        "\n",
        "housing_df.loc[missing_total_bedrooms_idx, 'total_bedrooms'] = housing_df[\n",
        "    missing_total_bedrooms_idx]['total_rooms'] * bedrooms_to_total_rooms_ratio\n",
        "\n",
        "housing_df.describe()"
      ],
      "execution_count": 33,
      "outputs": [
        {
          "output_type": "execute_result",
          "data": {
            "text/html": [
              "<div>\n",
              "<style scoped>\n",
              "    .dataframe tbody tr th:only-of-type {\n",
              "        vertical-align: middle;\n",
              "    }\n",
              "\n",
              "    .dataframe tbody tr th {\n",
              "        vertical-align: top;\n",
              "    }\n",
              "\n",
              "    .dataframe thead th {\n",
              "        text-align: right;\n",
              "    }\n",
              "</style>\n",
              "<table border=\"1\" class=\"dataframe\">\n",
              "  <thead>\n",
              "    <tr style=\"text-align: right;\">\n",
              "      <th></th>\n",
              "      <th>longitude</th>\n",
              "      <th>latitude</th>\n",
              "      <th>housing_median_age</th>\n",
              "      <th>total_rooms</th>\n",
              "      <th>total_bedrooms</th>\n",
              "      <th>population</th>\n",
              "      <th>households</th>\n",
              "      <th>median_income</th>\n",
              "      <th>median_house_value</th>\n",
              "    </tr>\n",
              "  </thead>\n",
              "  <tbody>\n",
              "    <tr>\n",
              "      <th>count</th>\n",
              "      <td>20640.000000</td>\n",
              "      <td>20640.000000</td>\n",
              "      <td>20640.000000</td>\n",
              "      <td>20640.000000</td>\n",
              "      <td>20640.000000</td>\n",
              "      <td>20640.000000</td>\n",
              "      <td>20640.000000</td>\n",
              "      <td>20640.000000</td>\n",
              "      <td>20640.000000</td>\n",
              "    </tr>\n",
              "    <tr>\n",
              "      <th>mean</th>\n",
              "      <td>-119.569704</td>\n",
              "      <td>35.631861</td>\n",
              "      <td>28.639486</td>\n",
              "      <td>2635.763081</td>\n",
              "      <td>537.732315</td>\n",
              "      <td>1425.476744</td>\n",
              "      <td>499.539680</td>\n",
              "      <td>3.870671</td>\n",
              "      <td>206855.816909</td>\n",
              "    </tr>\n",
              "    <tr>\n",
              "      <th>std</th>\n",
              "      <td>2.003532</td>\n",
              "      <td>2.135952</td>\n",
              "      <td>12.585558</td>\n",
              "      <td>2181.615252</td>\n",
              "      <td>420.856140</td>\n",
              "      <td>1132.462122</td>\n",
              "      <td>382.329753</td>\n",
              "      <td>1.899822</td>\n",
              "      <td>115395.615874</td>\n",
              "    </tr>\n",
              "    <tr>\n",
              "      <th>min</th>\n",
              "      <td>-124.350000</td>\n",
              "      <td>32.540000</td>\n",
              "      <td>1.000000</td>\n",
              "      <td>2.000000</td>\n",
              "      <td>1.000000</td>\n",
              "      <td>3.000000</td>\n",
              "      <td>1.000000</td>\n",
              "      <td>0.499900</td>\n",
              "      <td>14999.000000</td>\n",
              "    </tr>\n",
              "    <tr>\n",
              "      <th>25%</th>\n",
              "      <td>-121.800000</td>\n",
              "      <td>33.930000</td>\n",
              "      <td>18.000000</td>\n",
              "      <td>1447.750000</td>\n",
              "      <td>295.000000</td>\n",
              "      <td>787.000000</td>\n",
              "      <td>280.000000</td>\n",
              "      <td>2.563400</td>\n",
              "      <td>119600.000000</td>\n",
              "    </tr>\n",
              "    <tr>\n",
              "      <th>50%</th>\n",
              "      <td>-118.490000</td>\n",
              "      <td>34.260000</td>\n",
              "      <td>29.000000</td>\n",
              "      <td>2127.000000</td>\n",
              "      <td>435.000000</td>\n",
              "      <td>1166.000000</td>\n",
              "      <td>409.000000</td>\n",
              "      <td>3.534800</td>\n",
              "      <td>179700.000000</td>\n",
              "    </tr>\n",
              "    <tr>\n",
              "      <th>75%</th>\n",
              "      <td>-118.010000</td>\n",
              "      <td>37.710000</td>\n",
              "      <td>37.000000</td>\n",
              "      <td>3148.000000</td>\n",
              "      <td>647.000000</td>\n",
              "      <td>1725.000000</td>\n",
              "      <td>605.000000</td>\n",
              "      <td>4.743250</td>\n",
              "      <td>264725.000000</td>\n",
              "    </tr>\n",
              "    <tr>\n",
              "      <th>max</th>\n",
              "      <td>-114.310000</td>\n",
              "      <td>41.950000</td>\n",
              "      <td>52.000000</td>\n",
              "      <td>39320.000000</td>\n",
              "      <td>6445.000000</td>\n",
              "      <td>35682.000000</td>\n",
              "      <td>6082.000000</td>\n",
              "      <td>15.000100</td>\n",
              "      <td>500001.000000</td>\n",
              "    </tr>\n",
              "  </tbody>\n",
              "</table>\n",
              "</div>"
            ],
            "text/plain": [
              "          longitude      latitude  ...  median_income  median_house_value\n",
              "count  20640.000000  20640.000000  ...   20640.000000        20640.000000\n",
              "mean    -119.569704     35.631861  ...       3.870671       206855.816909\n",
              "std        2.003532      2.135952  ...       1.899822       115395.615874\n",
              "min     -124.350000     32.540000  ...       0.499900        14999.000000\n",
              "25%     -121.800000     33.930000  ...       2.563400       119600.000000\n",
              "50%     -118.490000     34.260000  ...       3.534800       179700.000000\n",
              "75%     -118.010000     37.710000  ...       4.743250       264725.000000\n",
              "max     -114.310000     41.950000  ...      15.000100       500001.000000\n",
              "\n",
              "[8 rows x 9 columns]"
            ]
          },
          "metadata": {
            "tags": []
          },
          "execution_count": 33
        }
      ]
    },
    {
      "cell_type": "markdown",
      "metadata": {
        "id": "HrGexe8F3qux"
      },
      "source": [
        "## Modeling"
      ]
    },
    {
      "cell_type": "markdown",
      "metadata": {
        "id": "5pAZcUet3tPG"
      },
      "source": [
        "It is time to actually build our model. In this case, we know we are going to build a linear regression model using TensorFlow. We could build the model by hand, but luckily we don't have too. TensorFlow provides many pre-built models in [its estimator library](https://www.tensorflow.org/api_docs/python/tf/estimator). We are going to use the [`tensorflow.estimator.LinearRegressor`](https://www.tensorflow.org/api_docs/python/tf/estimator/LinearRegressor) model.\n",
        "\n",
        "The [`Estimator`](https://www.tensorflow.org/api_docs/python/tf/estimator/Estimator) class is the base class for TensorFlow estimators. Its methods define the API for estimators. In the remainder of this lab, we will create an instance of `LinearRegressor` and use the `Estimator` API to train the model and make test predictions."
      ]
    },
    {
      "cell_type": "markdown",
      "metadata": {
        "id": "vVk_qlG6U80j"
      },
      "source": [
        "### Prepare the Data"
      ]
    },
    {
      "cell_type": "markdown",
      "metadata": {
        "id": "r1ugcRBM6iDL"
      },
      "source": [
        "Earlier we considered preprocessing the data. That preprocessing was intended to be more generic preprocessing that needed to be done to correct errors with the data set.\n",
        "\n",
        "Now that we have chosen a model, we need to do specific preprocessing related to the type of model that we'll be building and how we are going to test and train the model.\n",
        "\n",
        "Initially we'll be using the `LinearRegressor` with default options. For measuring model quality, we will perform hold-out testing with 20% of the data being held out for test."
      ]
    },
    {
      "cell_type": "markdown",
      "metadata": {
        "id": "-p1--v928V01"
      },
      "source": [
        "#### Normalization"
      ]
    },
    {
      "cell_type": "markdown",
      "metadata": {
        "id": "mAURgg8H9Rwi"
      },
      "source": [
        "The scale and range of data in each column of our dataset varies widely. In many models larger values will be over-considered in training. In order to combat this we can *normalize* our data.\n",
        "\n",
        "Note that we only want to normalize the feature data so let's first create variables to hold our feature and target column names."
      ]
    },
    {
      "cell_type": "code",
      "metadata": {
        "id": "wTjb8Gn-92v2",
        "colab": {
          "base_uri": "https://localhost:8080/"
        },
        "outputId": "0837b9c8-3e88-4266-b753-5df725675807"
      },
      "source": [
        "target_column = 'median_house_value'\n",
        "feature_columns = [c for c in housing_df.columns if c != target_column]\n",
        "\n",
        "target_column, feature_columns"
      ],
      "execution_count": 34,
      "outputs": [
        {
          "output_type": "execute_result",
          "data": {
            "text/plain": [
              "('median_house_value',\n",
              " ['longitude',\n",
              "  'latitude',\n",
              "  'housing_median_age',\n",
              "  'total_rooms',\n",
              "  'total_bedrooms',\n",
              "  'population',\n",
              "  'households',\n",
              "  'median_income',\n",
              "  'ocean_proximity'])"
            ]
          },
          "metadata": {
            "tags": []
          },
          "execution_count": 34
        }
      ]
    },
    {
      "cell_type": "markdown",
      "metadata": {
        "id": "cDMCeDk0nbqT"
      },
      "source": [
        "Also remember that `ocean_proximity` contains string values, so let's separate our features even more."
      ]
    },
    {
      "cell_type": "code",
      "metadata": {
        "id": "PrHMcEC0ngpQ",
        "colab": {
          "base_uri": "https://localhost:8080/"
        },
        "outputId": "5ed46994-ca28-4663-b025-d892892d005c"
      },
      "source": [
        "numeric_feature_columns = [c for c in feature_columns if c != 'ocean_proximity']\n",
        "\n",
        "numeric_feature_columns"
      ],
      "execution_count": 35,
      "outputs": [
        {
          "output_type": "execute_result",
          "data": {
            "text/plain": [
              "['longitude',\n",
              " 'latitude',\n",
              " 'housing_median_age',\n",
              " 'total_rooms',\n",
              " 'total_bedrooms',\n",
              " 'population',\n",
              " 'households',\n",
              " 'median_income']"
            ]
          },
          "metadata": {
            "tags": []
          },
          "execution_count": 35
        }
      ]
    },
    {
      "cell_type": "markdown",
      "metadata": {
        "id": "g8nypshl_CIt"
      },
      "source": [
        "To normalize, we subtract the minimum value from each column and then divide by the delta between the min and max. This should make all of our feature values fall into the range of 0.0 to 1.0. You can see in the `describe()` output that we now have a min values of 0.0 and max values of 1.0."
      ]
    },
    {
      "cell_type": "code",
      "metadata": {
        "id": "RGiqSei4-N6R",
        "colab": {
          "base_uri": "https://localhost:8080/",
          "height": 320
        },
        "outputId": "aa35bb55-53c4-45d6-8b41-9631dcdc95d0"
      },
      "source": [
        "housing_df.loc[:, numeric_feature_columns] = (\n",
        "    housing_df[numeric_feature_columns] - \n",
        "      housing_df[numeric_feature_columns].min()) / (\n",
        "          housing_df[numeric_feature_columns].max() -\n",
        "            housing_df[numeric_feature_columns].min())\n",
        "\n",
        "housing_df[numeric_feature_columns].describe()"
      ],
      "execution_count": 36,
      "outputs": [
        {
          "output_type": "execute_result",
          "data": {
            "text/html": [
              "<div>\n",
              "<style scoped>\n",
              "    .dataframe tbody tr th:only-of-type {\n",
              "        vertical-align: middle;\n",
              "    }\n",
              "\n",
              "    .dataframe tbody tr th {\n",
              "        vertical-align: top;\n",
              "    }\n",
              "\n",
              "    .dataframe thead th {\n",
              "        text-align: right;\n",
              "    }\n",
              "</style>\n",
              "<table border=\"1\" class=\"dataframe\">\n",
              "  <thead>\n",
              "    <tr style=\"text-align: right;\">\n",
              "      <th></th>\n",
              "      <th>longitude</th>\n",
              "      <th>latitude</th>\n",
              "      <th>housing_median_age</th>\n",
              "      <th>total_rooms</th>\n",
              "      <th>total_bedrooms</th>\n",
              "      <th>population</th>\n",
              "      <th>households</th>\n",
              "      <th>median_income</th>\n",
              "    </tr>\n",
              "  </thead>\n",
              "  <tbody>\n",
              "    <tr>\n",
              "      <th>count</th>\n",
              "      <td>20640.000000</td>\n",
              "      <td>20640.000000</td>\n",
              "      <td>20640.000000</td>\n",
              "      <td>20640.000000</td>\n",
              "      <td>20640.000000</td>\n",
              "      <td>20640.000000</td>\n",
              "      <td>20640.000000</td>\n",
              "      <td>20640.000000</td>\n",
              "    </tr>\n",
              "    <tr>\n",
              "      <th>mean</th>\n",
              "      <td>0.476125</td>\n",
              "      <td>0.328572</td>\n",
              "      <td>0.541951</td>\n",
              "      <td>0.066986</td>\n",
              "      <td>0.083292</td>\n",
              "      <td>0.039869</td>\n",
              "      <td>0.081983</td>\n",
              "      <td>0.232464</td>\n",
              "    </tr>\n",
              "    <tr>\n",
              "      <th>std</th>\n",
              "      <td>0.199555</td>\n",
              "      <td>0.226988</td>\n",
              "      <td>0.246776</td>\n",
              "      <td>0.055486</td>\n",
              "      <td>0.065310</td>\n",
              "      <td>0.031740</td>\n",
              "      <td>0.062873</td>\n",
              "      <td>0.131020</td>\n",
              "    </tr>\n",
              "    <tr>\n",
              "      <th>min</th>\n",
              "      <td>0.000000</td>\n",
              "      <td>0.000000</td>\n",
              "      <td>0.000000</td>\n",
              "      <td>0.000000</td>\n",
              "      <td>0.000000</td>\n",
              "      <td>0.000000</td>\n",
              "      <td>0.000000</td>\n",
              "      <td>0.000000</td>\n",
              "    </tr>\n",
              "    <tr>\n",
              "      <th>25%</th>\n",
              "      <td>0.253984</td>\n",
              "      <td>0.147715</td>\n",
              "      <td>0.333333</td>\n",
              "      <td>0.036771</td>\n",
              "      <td>0.045624</td>\n",
              "      <td>0.021974</td>\n",
              "      <td>0.045881</td>\n",
              "      <td>0.142308</td>\n",
              "    </tr>\n",
              "    <tr>\n",
              "      <th>50%</th>\n",
              "      <td>0.583665</td>\n",
              "      <td>0.182784</td>\n",
              "      <td>0.549020</td>\n",
              "      <td>0.054046</td>\n",
              "      <td>0.067349</td>\n",
              "      <td>0.032596</td>\n",
              "      <td>0.067094</td>\n",
              "      <td>0.209301</td>\n",
              "    </tr>\n",
              "    <tr>\n",
              "      <th>75%</th>\n",
              "      <td>0.631474</td>\n",
              "      <td>0.549416</td>\n",
              "      <td>0.705882</td>\n",
              "      <td>0.080014</td>\n",
              "      <td>0.100248</td>\n",
              "      <td>0.048264</td>\n",
              "      <td>0.099326</td>\n",
              "      <td>0.292641</td>\n",
              "    </tr>\n",
              "    <tr>\n",
              "      <th>max</th>\n",
              "      <td>1.000000</td>\n",
              "      <td>1.000000</td>\n",
              "      <td>1.000000</td>\n",
              "      <td>1.000000</td>\n",
              "      <td>1.000000</td>\n",
              "      <td>1.000000</td>\n",
              "      <td>1.000000</td>\n",
              "      <td>1.000000</td>\n",
              "    </tr>\n",
              "  </tbody>\n",
              "</table>\n",
              "</div>"
            ],
            "text/plain": [
              "          longitude      latitude  ...    households  median_income\n",
              "count  20640.000000  20640.000000  ...  20640.000000   20640.000000\n",
              "mean       0.476125      0.328572  ...      0.081983       0.232464\n",
              "std        0.199555      0.226988  ...      0.062873       0.131020\n",
              "min        0.000000      0.000000  ...      0.000000       0.000000\n",
              "25%        0.253984      0.147715  ...      0.045881       0.142308\n",
              "50%        0.583665      0.182784  ...      0.067094       0.209301\n",
              "75%        0.631474      0.549416  ...      0.099326       0.292641\n",
              "max        1.000000      1.000000  ...      1.000000       1.000000\n",
              "\n",
              "[8 rows x 8 columns]"
            ]
          },
          "metadata": {
            "tags": []
          },
          "execution_count": 36
        }
      ]
    },
    {
      "cell_type": "markdown",
      "metadata": {
        "id": "DNrZW7VfcSJh"
      },
      "source": [
        "Another option would be to *standardize* the data. Standardization is the process of subtracting the mean from each column and then dividing by the standard deviation. We chose not to do that in this case because that creates negative values, which don't work well with this model."
      ]
    },
    {
      "cell_type": "markdown",
      "metadata": {
        "id": "veSSyPI5ctrK"
      },
      "source": [
        "Should we modify the target in any way?\n",
        "\n",
        "Let's take a look at the values again."
      ]
    },
    {
      "cell_type": "code",
      "metadata": {
        "id": "jJhhKY6_d2lw",
        "colab": {
          "base_uri": "https://localhost:8080/"
        },
        "outputId": "170bf877-e4f5-4b35-c6b2-4373a26ca10f"
      },
      "source": [
        "housing_df[target_column].describe()"
      ],
      "execution_count": 37,
      "outputs": [
        {
          "output_type": "execute_result",
          "data": {
            "text/plain": [
              "count     20640.000000\n",
              "mean     206855.816909\n",
              "std      115395.615874\n",
              "min       14999.000000\n",
              "25%      119600.000000\n",
              "50%      179700.000000\n",
              "75%      264725.000000\n",
              "max      500001.000000\n",
              "Name: median_house_value, dtype: float64"
            ]
          },
          "metadata": {
            "tags": []
          },
          "execution_count": 37
        }
      ]
    },
    {
      "cell_type": "markdown",
      "metadata": {
        "id": "4iOvgkdMd9-v"
      },
      "source": [
        "Those are some pretty big values. It does look like there is a ceiling of 500,001 applied to the data and a minimum value of 14,999.\n",
        "\n",
        "Given enough time, our model could train to predict values this large. However, we are going to be using a pretty small learning rate by default with the [`Ftrl` optimizer](https://www.tensorflow.org/api_docs/python/tf/keras/optimizers/Ftrl): 0.0001. In order to speed things up, we can shrink the values in the target column by some constant."
      ]
    },
    {
      "cell_type": "code",
      "metadata": {
        "id": "n1AeytQWbNXb",
        "colab": {
          "base_uri": "https://localhost:8080/"
        },
        "outputId": "b71495ec-14ed-4f75-b9d5-092441a6dda5"
      },
      "source": [
        "TARGET_FACTOR = 100000\n",
        "\n",
        "housing_df[target_column] = housing_df[target_column] / TARGET_FACTOR\n",
        "\n",
        "housing_df[target_column].describe()"
      ],
      "execution_count": 38,
      "outputs": [
        {
          "output_type": "execute_result",
          "data": {
            "text/plain": [
              "count    20640.000000\n",
              "mean         2.068558\n",
              "std          1.153956\n",
              "min          0.149990\n",
              "25%          1.196000\n",
              "50%          1.797000\n",
              "75%          2.647250\n",
              "max          5.000010\n",
              "Name: median_house_value, dtype: float64"
            ]
          },
          "metadata": {
            "tags": []
          },
          "execution_count": 38
        }
      ]
    },
    {
      "cell_type": "markdown",
      "metadata": {
        "id": "Gbc5GXvxfQoI"
      },
      "source": [
        "We've reduced the values from the range of 14,999-500,001 to 0.14999-5.0. This should allow the model to converge faster. Of course, now our predictions will need to be multiplied by 100,000 in order to reflect real dollar values."
      ]
    },
    {
      "cell_type": "markdown",
      "metadata": {
        "id": "Xuz9tZs5irjC"
      },
      "source": [
        "#### Train/Test Split"
      ]
    },
    {
      "cell_type": "markdown",
      "metadata": {
        "id": "ctYZoXqt_aMi"
      },
      "source": [
        "We want to go ahead and divide our data into testing and training splits. For this example we'll hold out 20% of the data for testing.\n",
        "\n",
        "One easy way to do that is just to slice the data. Our data is sorted by latitude and longitude, however, so we need to shuffle it first so that we aren't testing with data from just one location in California."
      ]
    },
    {
      "cell_type": "code",
      "metadata": {
        "id": "6Bz5_x-FjJX9",
        "colab": {
          "base_uri": "https://localhost:8080/"
        },
        "outputId": "898f2434-3fce-4656-a032-6752dbd4f31a"
      },
      "source": [
        "# Shuffle\n",
        "housing_df = housing_df.sample(frac=1)\n",
        "\n",
        "# Calculate test set size\n",
        "test_set_size = int(len(housing_df) * 0.2)\n",
        "\n",
        "# Split the data\n",
        "testing_df = housing_df[:test_set_size]\n",
        "training_df = housing_df[test_set_size:]\n",
        "\n",
        "print(f'Holding out {len(testing_df)} records for testing. ')\n",
        "print(f'Using {len(training_df)} records for training.')"
      ],
      "execution_count": 39,
      "outputs": [
        {
          "output_type": "stream",
          "text": [
            "Holding out 4128 records for testing. \n",
            "Using 16512 records for training.\n"
          ],
          "name": "stdout"
        }
      ]
    },
    {
      "cell_type": "markdown",
      "metadata": {
        "id": "aiMaAnXwACKa"
      },
      "source": [
        "### Load TensorFlow"
      ]
    },
    {
      "cell_type": "markdown",
      "metadata": {
        "id": "GEqvGadvAEPP"
      },
      "source": [
        "Next, we'll load the [TensorFlow](http://www.tensorflow.org) library.\n",
        "\n",
        "TensorFlow released version 2.0 in late 2019. As of the writing of the lab, Colab supports both versions 1 and 2, but it defaults to version 1. In order to tell Colab to use TensorFlow 2, you need to run the magic in the cell below."
      ]
    },
    {
      "cell_type": "code",
      "metadata": {
        "id": "_Px986j_Vklo"
      },
      "source": [
        "%tensorflow_version 2.x"
      ],
      "execution_count": 40,
      "outputs": []
    },
    {
      "cell_type": "markdown",
      "metadata": {
        "id": "QgYChzI1A6Ec"
      },
      "source": [
        "Next, we'll load TensorFlow and check to make sure that we are running version 2."
      ]
    },
    {
      "cell_type": "code",
      "metadata": {
        "id": "q8GO4OPNWAE8",
        "colab": {
          "base_uri": "https://localhost:8080/",
          "height": 36
        },
        "outputId": "2db91dee-f628-4159-a6a2-a99496f5e8ce"
      },
      "source": [
        "import tensorflow as tf\n",
        "tf.__version__"
      ],
      "execution_count": 41,
      "outputs": [
        {
          "output_type": "execute_result",
          "data": {
            "application/vnd.google.colaboratory.intrinsic+json": {
              "type": "string"
            },
            "text/plain": [
              "'2.4.1'"
            ]
          },
          "metadata": {
            "tags": []
          },
          "execution_count": 41
        }
      ]
    },
    {
      "cell_type": "markdown",
      "metadata": {
        "id": "b12uHZlKOZvf"
      },
      "source": [
        "Finally, we can set some global settings for TensorFlow. In this case we want to ensure that any time there is a question about the size of a floating point value that it is processed as a 64-bit number."
      ]
    },
    {
      "cell_type": "code",
      "metadata": {
        "id": "UrjXtlV6OhvX"
      },
      "source": [
        "tf.keras.backend.set_floatx('float64')"
      ],
      "execution_count": 42,
      "outputs": []
    },
    {
      "cell_type": "markdown",
      "metadata": {
        "id": "odbXASMkjn2d"
      },
      "source": [
        "### TensorFlow Data Set"
      ]
    },
    {
      "cell_type": "markdown",
      "metadata": {
        "id": "-U9TuQquBq4J"
      },
      "source": [
        "`DataFrame` is a container for a dataset in Pandas. To process the data with TensorFlow we need to get the data in the `DataFrame` into a TensorFlow [Dataset](https://www.tensorflow.org/api_docs/python/tf/data/Dataset).\n",
        "\n",
        "Since our housing data fits in memory, we can use the `from_tensor_slices` class method to create our `Dataset`. There are a few different data formats that we could pass the method, but our model expects a feature map and a list of labels.\n",
        "\n",
        "A feature map is a Python dictionary with feature names for keys and an iterable of column values as the value. Labels are just an iterable of our target values.\n",
        "\n",
        "Below, we create the test and training `DataSet` objects."
      ]
    },
    {
      "cell_type": "code",
      "metadata": {
        "id": "SDiQDV-yGUru",
        "colab": {
          "base_uri": "https://localhost:8080/"
        },
        "outputId": "073f5407-8583-4e4b-d06e-2d4a1d7c277e"
      },
      "source": [
        "testing_ds = tf.data.Dataset.from_tensor_slices((\n",
        "    {c: testing_df[c] for c in feature_columns},  # feature map\n",
        "    testing_df[target_column]                     # labels\n",
        "))\n",
        "\n",
        "training_ds = tf.data.Dataset.from_tensor_slices((\n",
        "    {c: training_df[c] for c in feature_columns},  # feature map\n",
        "    training_df[target_column]                     # labels\n",
        "))\n",
        "\n",
        "testing_ds, training_ds"
      ],
      "execution_count": 43,
      "outputs": [
        {
          "output_type": "execute_result",
          "data": {
            "text/plain": [
              "(<TensorSliceDataset shapes: ({longitude: (), latitude: (), housing_median_age: (), total_rooms: (), total_bedrooms: (), population: (), households: (), median_income: (), ocean_proximity: ()}, ()), types: ({longitude: tf.float64, latitude: tf.float64, housing_median_age: tf.float64, total_rooms: tf.float64, total_bedrooms: tf.float64, population: tf.float64, households: tf.float64, median_income: tf.float64, ocean_proximity: tf.string}, tf.float64)>,\n",
              " <TensorSliceDataset shapes: ({longitude: (), latitude: (), housing_median_age: (), total_rooms: (), total_bedrooms: (), population: (), households: (), median_income: (), ocean_proximity: ()}, ()), types: ({longitude: tf.float64, latitude: tf.float64, housing_median_age: tf.float64, total_rooms: tf.float64, total_bedrooms: tf.float64, population: tf.float64, households: tf.float64, median_income: tf.float64, ocean_proximity: tf.string}, tf.float64)>)"
            ]
          },
          "metadata": {
            "tags": []
          },
          "execution_count": 43
        }
      ]
    },
    {
      "cell_type": "markdown",
      "metadata": {
        "id": "ZLd86oNWmfJp"
      },
      "source": [
        "The code above runs and displays two `TensorSliceDataset` objects that seem to have the correct columns. However, we can't tell how many rows of data each contains.\n",
        "\n",
        "Intuitively you'd think this would be as simple as asking for the length of the data sets from Python:\n",
        "\n",
        "```\n",
        " len(testing_ds)\n",
        " len(training_ds)\n",
        "```\n",
        "\n",
        "This won't work, though. TensorFlow Dataset objects can represent in-memory data, like what we have now. They can also represent data in multiple sources stored in different locations. They can even represent a stream of data that is never-ending. For this reason having a standard `len` is impossible.\n",
        "\n",
        "Because of this ], we'll need to do a little more work to get a count of the data in a TensorFlow dataset. To get a count, we'll use the `reduce` operation. This operation takes an initial value, in our case 0, and then performs some function over and over for each row in the dataset. In this case we just add one for each value. The reduction returns values for each row and feeds it to the next. The final row simply returns the value to the runtime.\n",
        "\n",
        "We can see below that the `reduce` operation counts the number of rows for the testing and training dataset and they both match the values we saw above in the Colab."
      ]
    },
    {
      "cell_type": "code",
      "metadata": {
        "id": "qiNjkMGrm1B0",
        "colab": {
          "base_uri": "https://localhost:8080/"
        },
        "outputId": "51a90848-55df-456b-ff3a-5e2867ffed63"
      },
      "source": [
        "import numpy as np\n",
        "\n",
        "testing_ds_count = testing_ds.reduce(np.int64(0), lambda x, _: x + 1)\n",
        "training_ds_count = training_ds.reduce(np.int64(0), lambda x, _: x + 1)\n",
        "\n",
        "print(testing_ds_count.numpy())\n",
        "print(training_ds_count.numpy())"
      ],
      "execution_count": 44,
      "outputs": [
        {
          "output_type": "stream",
          "text": [
            "4128\n",
            "16512\n"
          ],
          "name": "stdout"
        }
      ]
    },
    {
      "cell_type": "markdown",
      "metadata": {
        "id": "v7Plfl3K6xEj"
      },
      "source": [
        "### LinearRegressor"
      ]
    },
    {
      "cell_type": "markdown",
      "metadata": {
        "id": "MIpAcoJ2KNOY"
      },
      "source": [
        "The model that we'll use is the [LinearRegressor](https://www.tensorflow.org/api_docs/python/tf/estimator/LinearRegressor). This class complies with the  TensorFlow [Estimator](https://www.tensorflow.org/get_started/estimator) API. This API takes care of a lot of the low-level model plumbing, and exposes convenient methods for performing model training, evaluation, and inference.\n",
        "\n",
        "Though the `LinearRegressor` has many configuration options, [only feature columns have to be specified when the regressor is created](https://www.tensorflow.org/api_docs/python/tf/estimator/LinearRegressor#__init__).\n",
        "\n",
        "We provide the regressor [feature columns](https://www.tensorflow.org/guide/feature_columns) as a list of columns that we'd like the model to use for training and prediction. For now that will be every one of our features. Most of these columns are all floating point numbers so we use a list expansion to create a list of `float64` `numeric_column` objects.\n",
        "\n",
        "For the `ocean_proximity` column we create a categorical column. This converts the values in the column into numbers matching their index in the vocabulary list.\n",
        "\n",
        "A warning will be issued if you don't specify a `model_dir`. For now that's fine since we don't plan on saving our model and plan to train it completely now. If we do specify a model directory, state will be saved, which can cause issues as you iterate on the design of the model."
      ]
    },
    {
      "cell_type": "code",
      "metadata": {
        "id": "2XBeRgQh7cZ9",
        "colab": {
          "base_uri": "https://localhost:8080/"
        },
        "outputId": "4af17c83-8874-4092-9a9a-eca3db4b7044"
      },
      "source": [
        "housing_features = [\n",
        "    tf.feature_column.numeric_column(c, dtype=tf.dtypes.float64) \n",
        "      for c in numeric_feature_columns\n",
        "]\n",
        "\n",
        "housing_features.append(\n",
        "    tf.feature_column.categorical_column_with_vocabulary_list(\n",
        "        key='ocean_proximity',\n",
        "        vocabulary_list=sorted(housing_df['ocean_proximity'].unique()))\n",
        ")\n",
        "\n",
        "linear_regressor = tf.estimator.LinearRegressor(\n",
        "    feature_columns=housing_features,\n",
        ")\n",
        "\n",
        "linear_regressor"
      ],
      "execution_count": 45,
      "outputs": [
        {
          "output_type": "stream",
          "text": [
            "INFO:tensorflow:Using default config.\n",
            "WARNING:tensorflow:Using temporary folder as model directory: /tmp/tmpdk1j50h4\n",
            "INFO:tensorflow:Using config: {'_model_dir': '/tmp/tmpdk1j50h4', '_tf_random_seed': None, '_save_summary_steps': 100, '_save_checkpoints_steps': None, '_save_checkpoints_secs': 600, '_session_config': allow_soft_placement: true\n",
            "graph_options {\n",
            "  rewrite_options {\n",
            "    meta_optimizer_iterations: ONE\n",
            "  }\n",
            "}\n",
            ", '_keep_checkpoint_max': 5, '_keep_checkpoint_every_n_hours': 10000, '_log_step_count_steps': 100, '_train_distribute': None, '_device_fn': None, '_protocol': None, '_eval_distribute': None, '_experimental_distribute': None, '_experimental_max_worker_delay_secs': None, '_session_creation_timeout_secs': 7200, '_checkpoint_save_graph_def': True, '_service': None, '_cluster_spec': ClusterSpec({}), '_task_type': 'worker', '_task_id': 0, '_global_id_in_cluster': 0, '_master': '', '_evaluation_master': '', '_is_chief': True, '_num_ps_replicas': 0, '_num_worker_replicas': 1}\n"
          ],
          "name": "stdout"
        },
        {
          "output_type": "execute_result",
          "data": {
            "text/plain": [
              "<tensorflow_estimator.python.estimator.canned.linear.LinearRegressorV2 at 0x7f51485c18d0>"
            ]
          },
          "metadata": {
            "tags": []
          },
          "execution_count": 45
        }
      ]
    },
    {
      "cell_type": "markdown",
      "metadata": {
        "id": "eOrG0PM_RR3e"
      },
      "source": [
        "If we had multiple workers, we could distribute the training and evaluation of the model by using a distribution strategy. In the example below, you can see that we are using a [`MirroredStrategy`](https://www.tensorflow.org/api_docs/python/tf/distribute/MirroredStrategy) to spread out the work.\n",
        "\n",
        "More information on distributing `Estimator` work can be found [in the TensorFlow documentation](https://www.tensorflow.org/guide/distributed_training#using_tfdistributestrategy_with_estimator_limited_support)."
      ]
    },
    {
      "cell_type": "code",
      "metadata": {
        "id": "HjuPqN0oRDkX",
        "colab": {
          "base_uri": "https://localhost:8080/"
        },
        "outputId": "0dc7f41d-6d57-4f4f-d3f1-7965a8ef7add"
      },
      "source": [
        "housing_features = [\n",
        "    tf.feature_column.numeric_column(c, dtype=tf.dtypes.float64) \n",
        "      for c in numeric_feature_columns\n",
        "]\n",
        "\n",
        "housing_features.append(\n",
        "    tf.feature_column.categorical_column_with_vocabulary_list(\n",
        "        key='ocean_proximity',\n",
        "        vocabulary_list=sorted(housing_df['ocean_proximity'].unique()))\n",
        ")\n",
        "\n",
        "mirrored_strategy = tf.distribute.MirroredStrategy()\n",
        "config = tf.estimator.RunConfig(\n",
        "    train_distribute=mirrored_strategy,\n",
        "    eval_distribute=mirrored_strategy,\n",
        ")\n",
        "\n",
        "linear_regressor = tf.estimator.LinearRegressor(\n",
        "    feature_columns=housing_features,\n",
        "    config=config,\n",
        ")\n",
        "\n",
        "linear_regressor"
      ],
      "execution_count": 46,
      "outputs": [
        {
          "output_type": "stream",
          "text": [
            "WARNING:tensorflow:There are non-GPU devices in `tf.distribute.Strategy`, not using nccl allreduce.\n",
            "INFO:tensorflow:Using MirroredStrategy with devices ('/job:localhost/replica:0/task:0/device:CPU:0',)\n",
            "INFO:tensorflow:Initializing RunConfig with distribution strategies.\n",
            "INFO:tensorflow:Not using Distribute Coordinator.\n",
            "WARNING:tensorflow:Using temporary folder as model directory: /tmp/tmpm91etcbs\n",
            "INFO:tensorflow:Using config: {'_model_dir': '/tmp/tmpm91etcbs', '_tf_random_seed': None, '_save_summary_steps': 100, '_save_checkpoints_steps': None, '_save_checkpoints_secs': 600, '_session_config': allow_soft_placement: true\n",
            "graph_options {\n",
            "  rewrite_options {\n",
            "    meta_optimizer_iterations: ONE\n",
            "  }\n",
            "}\n",
            ", '_keep_checkpoint_max': 5, '_keep_checkpoint_every_n_hours': 10000, '_log_step_count_steps': 100, '_train_distribute': <tensorflow.python.distribute.mirrored_strategy.MirroredStrategy object at 0x7f5147cf0410>, '_device_fn': None, '_protocol': None, '_eval_distribute': <tensorflow.python.distribute.mirrored_strategy.MirroredStrategy object at 0x7f5147cf0410>, '_experimental_distribute': None, '_experimental_max_worker_delay_secs': None, '_session_creation_timeout_secs': 7200, '_checkpoint_save_graph_def': True, '_service': None, '_cluster_spec': ClusterSpec({}), '_task_type': 'worker', '_task_id': 0, '_global_id_in_cluster': 0, '_master': '', '_evaluation_master': '', '_is_chief': True, '_num_ps_replicas': 0, '_num_worker_replicas': 1, '_distribute_coordinator_mode': None}\n"
          ],
          "name": "stdout"
        },
        {
          "output_type": "execute_result",
          "data": {
            "text/plain": [
              "<tensorflow_estimator.python.estimator.canned.linear.LinearRegressorV2 at 0x7f5147c53710>"
            ]
          },
          "metadata": {
            "tags": []
          },
          "execution_count": 46
        }
      ]
    },
    {
      "cell_type": "markdown",
      "metadata": {
        "id": "2IY422qVBPhy"
      },
      "source": [
        "### Training Input Function\n",
        "\n",
        "The LinearRegressor that we just created is still not trained. To train the model we need to call [the train method](https://www.tensorflow.org/api_docs/python/tf/estimator/LinearRegressor#train) and pass it an input function that provides a `Dataset` to extract data from.\n",
        "\n",
        "We saw how to create a `Dataset` earlier. It would be nice if we could reuse that `Dataset`, but TensorFlow requires that you create the `Dataset` in your function, so we'll use the same `Dataset` creation code from above.\n",
        "\n",
        "We also need to change a few attributes of the dataset. Our training data only has 13600 records, which isn't a lot of data. We can choose to repeat the data so that it is fed to the model multiple times. In this case we chose to repeat it 10 times. Hopefully this will give the optimizer enough data to find a good solution.\n",
        "\n",
        "Since we are repeating the same data over and over, we also are going to shuffle it in between repeats. This will add some variability to the training data.\n",
        "\n",
        "Finally, we choose to process the data in batches of 100. These mini batches of 100 are used for a single optimization step."
      ]
    },
    {
      "cell_type": "code",
      "metadata": {
        "id": "05R0-6Da3axE"
      },
      "source": [
        "def training_input():\n",
        "  ds = tf.data.Dataset.from_tensor_slices((\n",
        "    {c: training_df[c] for c in feature_columns},  # feature map\n",
        "    training_df[target_column]                     # labels\n",
        "  ))\n",
        "  ds = ds.repeat(100)\n",
        "  ds = ds.shuffle(buffer_size=10000)\n",
        "  ds = ds.batch(100)\n",
        "  return ds"
      ],
      "execution_count": 47,
      "outputs": []
    },
    {
      "cell_type": "markdown",
      "metadata": {
        "id": "3WczWK_rFnHV"
      },
      "source": [
        "### Training\n",
        "\n",
        "We can now call the `train` method on the regressor, passing it the input function that we defined."
      ]
    },
    {
      "cell_type": "code",
      "metadata": {
        "id": "m32hOayrFuYQ",
        "colab": {
          "base_uri": "https://localhost:8080/"
        },
        "outputId": "33e84d94-5dfe-48de-dfd6-639181daf84c"
      },
      "source": [
        "linear_regressor.train(input_fn=training_input)"
      ],
      "execution_count": 48,
      "outputs": [
        {
          "output_type": "stream",
          "text": [
            "INFO:tensorflow:Calling model_fn.\n"
          ],
          "name": "stdout"
        },
        {
          "output_type": "stream",
          "text": [
            "/usr/local/lib/python3.7/dist-packages/tensorflow/python/keras/engine/base_layer_v1.py:1727: UserWarning: `layer.add_variable` is deprecated and will be removed in a future version. Please use `layer.add_weight` method instead.\n",
            "  warnings.warn('`layer.add_variable` is deprecated and '\n"
          ],
          "name": "stderr"
        },
        {
          "output_type": "stream",
          "text": [
            "WARNING:tensorflow:From /usr/local/lib/python3.7/dist-packages/tensorflow/python/keras/optimizer_v2/ftrl.py:134: calling Constant.__init__ (from tensorflow.python.ops.init_ops) with dtype is deprecated and will be removed in a future version.\n",
            "Instructions for updating:\n",
            "Call initializer instance with the dtype argument instead of passing it to the constructor\n",
            "INFO:tensorflow:Done calling model_fn.\n",
            "INFO:tensorflow:Create CheckpointSaverHook.\n",
            "WARNING:tensorflow:From /usr/local/lib/python3.7/dist-packages/tensorflow_estimator/python/estimator/util.py:96: DistributedIteratorV1.initialize (from tensorflow.python.distribute.input_lib) is deprecated and will be removed in a future version.\n",
            "Instructions for updating:\n",
            "Use the iterator's `initializer` property instead.\n",
            "INFO:tensorflow:Graph was finalized.\n",
            "INFO:tensorflow:Running local_init_op.\n",
            "INFO:tensorflow:Done running local_init_op.\n",
            "INFO:tensorflow:Calling checkpoint listeners before saving checkpoint 0...\n",
            "INFO:tensorflow:Saving checkpoints for 0 into /tmp/tmpm91etcbs/model.ckpt.\n",
            "INFO:tensorflow:Calling checkpoint listeners after saving checkpoint 0...\n",
            "INFO:tensorflow:loss = 7.0306273, step = 0\n",
            "INFO:tensorflow:global_step/sec: 413.844\n",
            "INFO:tensorflow:loss = 0.7745256, step = 100 (0.245 sec)\n",
            "INFO:tensorflow:global_step/sec: 608.581\n",
            "INFO:tensorflow:loss = 0.5082611, step = 200 (0.167 sec)\n",
            "INFO:tensorflow:global_step/sec: 591.398\n",
            "INFO:tensorflow:loss = 0.6840614, step = 300 (0.166 sec)\n",
            "INFO:tensorflow:global_step/sec: 656.95\n",
            "INFO:tensorflow:loss = 0.65938467, step = 400 (0.155 sec)\n",
            "INFO:tensorflow:global_step/sec: 588.64\n",
            "INFO:tensorflow:loss = 0.62559724, step = 500 (0.169 sec)\n",
            "INFO:tensorflow:global_step/sec: 626.244\n",
            "INFO:tensorflow:loss = 0.33567056, step = 600 (0.160 sec)\n",
            "INFO:tensorflow:global_step/sec: 654.36\n",
            "INFO:tensorflow:loss = 0.6712069, step = 700 (0.150 sec)\n",
            "INFO:tensorflow:global_step/sec: 616.564\n",
            "INFO:tensorflow:loss = 0.5184562, step = 800 (0.163 sec)\n",
            "INFO:tensorflow:global_step/sec: 629.74\n",
            "INFO:tensorflow:loss = 0.34529456, step = 900 (0.162 sec)\n",
            "INFO:tensorflow:global_step/sec: 633.003\n",
            "INFO:tensorflow:loss = 0.3530656, step = 1000 (0.154 sec)\n",
            "INFO:tensorflow:global_step/sec: 580.033\n",
            "INFO:tensorflow:loss = 0.42969382, step = 1100 (0.176 sec)\n",
            "INFO:tensorflow:global_step/sec: 602.799\n",
            "INFO:tensorflow:loss = 0.36925933, step = 1200 (0.165 sec)\n",
            "INFO:tensorflow:global_step/sec: 610.403\n",
            "INFO:tensorflow:loss = 0.44767013, step = 1300 (0.162 sec)\n",
            "INFO:tensorflow:global_step/sec: 626.767\n",
            "INFO:tensorflow:loss = 0.61038506, step = 1400 (0.162 sec)\n",
            "INFO:tensorflow:global_step/sec: 641.561\n",
            "INFO:tensorflow:loss = 0.47622314, step = 1500 (0.153 sec)\n",
            "INFO:tensorflow:global_step/sec: 680.549\n",
            "INFO:tensorflow:loss = 0.57571757, step = 1600 (0.150 sec)\n",
            "INFO:tensorflow:global_step/sec: 603.001\n",
            "INFO:tensorflow:loss = 0.5923185, step = 1700 (0.166 sec)\n",
            "INFO:tensorflow:global_step/sec: 595.303\n",
            "INFO:tensorflow:loss = 0.6544539, step = 1800 (0.167 sec)\n",
            "INFO:tensorflow:global_step/sec: 609.188\n",
            "INFO:tensorflow:loss = 0.584768, step = 1900 (0.161 sec)\n",
            "INFO:tensorflow:global_step/sec: 553.134\n",
            "INFO:tensorflow:loss = 0.3054276, step = 2000 (0.185 sec)\n",
            "INFO:tensorflow:global_step/sec: 597.013\n",
            "INFO:tensorflow:loss = 0.6239592, step = 2100 (0.164 sec)\n",
            "INFO:tensorflow:global_step/sec: 580.312\n",
            "INFO:tensorflow:loss = 0.5258033, step = 2200 (0.172 sec)\n",
            "INFO:tensorflow:global_step/sec: 563.416\n",
            "INFO:tensorflow:loss = 0.45010638, step = 2300 (0.177 sec)\n",
            "INFO:tensorflow:global_step/sec: 633.703\n",
            "INFO:tensorflow:loss = 0.50218505, step = 2400 (0.158 sec)\n",
            "INFO:tensorflow:global_step/sec: 612.549\n",
            "INFO:tensorflow:loss = 0.46793664, step = 2500 (0.166 sec)\n",
            "INFO:tensorflow:global_step/sec: 621.117\n",
            "INFO:tensorflow:loss = 0.41794547, step = 2600 (0.159 sec)\n",
            "INFO:tensorflow:global_step/sec: 681.578\n",
            "INFO:tensorflow:loss = 0.44024867, step = 2700 (0.149 sec)\n",
            "INFO:tensorflow:global_step/sec: 641.678\n",
            "INFO:tensorflow:loss = 0.499153, step = 2800 (0.155 sec)\n",
            "INFO:tensorflow:global_step/sec: 572.904\n",
            "INFO:tensorflow:loss = 0.3139557, step = 2900 (0.172 sec)\n",
            "INFO:tensorflow:global_step/sec: 601.333\n",
            "INFO:tensorflow:loss = 0.39653683, step = 3000 (0.168 sec)\n",
            "INFO:tensorflow:global_step/sec: 625.044\n",
            "INFO:tensorflow:loss = 0.66456544, step = 3100 (0.161 sec)\n",
            "INFO:tensorflow:global_step/sec: 643.302\n",
            "INFO:tensorflow:loss = 0.5537271, step = 3200 (0.155 sec)\n",
            "INFO:tensorflow:global_step/sec: 539.137\n",
            "INFO:tensorflow:loss = 0.57476735, step = 3300 (0.184 sec)\n",
            "INFO:tensorflow:global_step/sec: 602.335\n",
            "INFO:tensorflow:loss = 0.6991822, step = 3400 (0.167 sec)\n",
            "INFO:tensorflow:global_step/sec: 583.069\n",
            "INFO:tensorflow:loss = 0.547409, step = 3500 (0.171 sec)\n",
            "INFO:tensorflow:global_step/sec: 610.023\n",
            "INFO:tensorflow:loss = 0.6806351, step = 3600 (0.165 sec)\n",
            "INFO:tensorflow:global_step/sec: 622.581\n",
            "INFO:tensorflow:loss = 0.4772812, step = 3700 (0.161 sec)\n",
            "INFO:tensorflow:global_step/sec: 646.393\n",
            "INFO:tensorflow:loss = 0.48217255, step = 3800 (0.155 sec)\n",
            "INFO:tensorflow:global_step/sec: 655.843\n",
            "INFO:tensorflow:loss = 0.5056923, step = 3900 (0.153 sec)\n",
            "INFO:tensorflow:global_step/sec: 546.953\n",
            "INFO:tensorflow:loss = 0.43387994, step = 4000 (0.185 sec)\n",
            "INFO:tensorflow:global_step/sec: 638.333\n",
            "INFO:tensorflow:loss = 0.50629884, step = 4100 (0.152 sec)\n",
            "INFO:tensorflow:global_step/sec: 602.074\n",
            "INFO:tensorflow:loss = 0.47659776, step = 4200 (0.166 sec)\n",
            "INFO:tensorflow:global_step/sec: 631.074\n",
            "INFO:tensorflow:loss = 0.4673399, step = 4300 (0.161 sec)\n",
            "INFO:tensorflow:global_step/sec: 643.388\n",
            "INFO:tensorflow:loss = 0.47751042, step = 4400 (0.156 sec)\n",
            "INFO:tensorflow:global_step/sec: 650.325\n",
            "INFO:tensorflow:loss = 0.45673284, step = 4500 (0.153 sec)\n",
            "INFO:tensorflow:global_step/sec: 610.554\n",
            "INFO:tensorflow:loss = 0.47633672, step = 4600 (0.163 sec)\n",
            "INFO:tensorflow:global_step/sec: 674.578\n",
            "INFO:tensorflow:loss = 0.40108, step = 4700 (0.149 sec)\n",
            "INFO:tensorflow:global_step/sec: 634.725\n",
            "INFO:tensorflow:loss = 0.44186035, step = 4800 (0.156 sec)\n",
            "INFO:tensorflow:global_step/sec: 565.662\n",
            "INFO:tensorflow:loss = 0.560834, step = 4900 (0.178 sec)\n",
            "INFO:tensorflow:global_step/sec: 598.378\n",
            "INFO:tensorflow:loss = 0.3498697, step = 5000 (0.170 sec)\n",
            "INFO:tensorflow:global_step/sec: 591.008\n",
            "INFO:tensorflow:loss = 0.5031801, step = 5100 (0.168 sec)\n",
            "INFO:tensorflow:global_step/sec: 637.895\n",
            "INFO:tensorflow:loss = 0.34297806, step = 5200 (0.155 sec)\n",
            "INFO:tensorflow:global_step/sec: 640.888\n",
            "INFO:tensorflow:loss = 0.47625792, step = 5300 (0.154 sec)\n",
            "INFO:tensorflow:global_step/sec: 634.522\n",
            "INFO:tensorflow:loss = 0.36103532, step = 5400 (0.159 sec)\n",
            "INFO:tensorflow:global_step/sec: 586.997\n",
            "INFO:tensorflow:loss = 0.528548, step = 5500 (0.171 sec)\n",
            "INFO:tensorflow:global_step/sec: 611.321\n",
            "INFO:tensorflow:loss = 0.65793234, step = 5600 (0.166 sec)\n",
            "INFO:tensorflow:global_step/sec: 556.238\n",
            "INFO:tensorflow:loss = 0.4548828, step = 5700 (0.176 sec)\n",
            "INFO:tensorflow:global_step/sec: 665.004\n",
            "INFO:tensorflow:loss = 0.6093578, step = 5800 (0.155 sec)\n",
            "INFO:tensorflow:global_step/sec: 594.694\n",
            "INFO:tensorflow:loss = 0.445163, step = 5900 (0.168 sec)\n",
            "INFO:tensorflow:global_step/sec: 575.825\n",
            "INFO:tensorflow:loss = 0.60112655, step = 6000 (0.173 sec)\n",
            "INFO:tensorflow:global_step/sec: 578.079\n",
            "INFO:tensorflow:loss = 0.39385495, step = 6100 (0.174 sec)\n",
            "INFO:tensorflow:global_step/sec: 620.897\n",
            "INFO:tensorflow:loss = 0.6781557, step = 6200 (0.157 sec)\n",
            "INFO:tensorflow:global_step/sec: 619.947\n",
            "INFO:tensorflow:loss = 0.66646594, step = 6300 (0.162 sec)\n",
            "WARNING:tensorflow:It seems that global step (tf.train.get_global_step) has not been increased. Current value (could be stable): 6303 vs previous value: 6303. You could increase the global step by passing tf.train.get_global_step() to Optimizer.apply_gradients or Optimizer.minimize.\n",
            "INFO:tensorflow:global_step/sec: 553.465\n",
            "INFO:tensorflow:loss = 0.4777647, step = 6400 (0.184 sec)\n",
            "INFO:tensorflow:global_step/sec: 558.799\n",
            "INFO:tensorflow:loss = 0.6235569, step = 6500 (0.179 sec)\n",
            "INFO:tensorflow:global_step/sec: 588.091\n",
            "INFO:tensorflow:loss = 0.55411315, step = 6600 (0.167 sec)\n",
            "INFO:tensorflow:global_step/sec: 529.466\n",
            "INFO:tensorflow:loss = 0.43908033, step = 6700 (0.192 sec)\n",
            "INFO:tensorflow:global_step/sec: 649.488\n",
            "INFO:tensorflow:loss = 0.46799988, step = 6800 (0.152 sec)\n",
            "INFO:tensorflow:global_step/sec: 599.136\n",
            "INFO:tensorflow:loss = 0.6009329, step = 6900 (0.164 sec)\n",
            "INFO:tensorflow:global_step/sec: 671.527\n",
            "INFO:tensorflow:loss = 0.6513013, step = 7000 (0.155 sec)\n",
            "INFO:tensorflow:global_step/sec: 599.819\n",
            "INFO:tensorflow:loss = 0.38373578, step = 7100 (0.162 sec)\n",
            "INFO:tensorflow:global_step/sec: 609.942\n",
            "INFO:tensorflow:loss = 0.32667378, step = 7200 (0.164 sec)\n",
            "INFO:tensorflow:global_step/sec: 629.433\n",
            "INFO:tensorflow:loss = 0.5305033, step = 7300 (0.159 sec)\n",
            "INFO:tensorflow:global_step/sec: 688.567\n",
            "INFO:tensorflow:loss = 0.46566367, step = 7400 (0.148 sec)\n",
            "INFO:tensorflow:global_step/sec: 599.656\n",
            "INFO:tensorflow:loss = 0.47249824, step = 7500 (0.170 sec)\n",
            "INFO:tensorflow:global_step/sec: 647.463\n",
            "INFO:tensorflow:loss = 0.72539824, step = 7600 (0.149 sec)\n",
            "INFO:tensorflow:global_step/sec: 626.427\n",
            "INFO:tensorflow:loss = 0.46830857, step = 7700 (0.160 sec)\n",
            "INFO:tensorflow:global_step/sec: 636.3\n",
            "INFO:tensorflow:loss = 0.48489258, step = 7800 (0.159 sec)\n",
            "INFO:tensorflow:global_step/sec: 606.213\n",
            "INFO:tensorflow:loss = 0.41363746, step = 7900 (0.165 sec)\n",
            "INFO:tensorflow:global_step/sec: 592.147\n",
            "INFO:tensorflow:loss = 0.4334353, step = 8000 (0.167 sec)\n",
            "INFO:tensorflow:global_step/sec: 638.164\n",
            "INFO:tensorflow:loss = 0.5785056, step = 8100 (0.159 sec)\n",
            "INFO:tensorflow:global_step/sec: 654.168\n",
            "INFO:tensorflow:loss = 0.35166237, step = 8200 (0.154 sec)\n",
            "INFO:tensorflow:global_step/sec: 629.869\n",
            "INFO:tensorflow:loss = 0.4458, step = 8300 (0.157 sec)\n",
            "INFO:tensorflow:global_step/sec: 565.292\n",
            "INFO:tensorflow:loss = 0.49269563, step = 8400 (0.174 sec)\n",
            "INFO:tensorflow:global_step/sec: 688.406\n",
            "INFO:tensorflow:loss = 0.4487837, step = 8500 (0.149 sec)\n",
            "INFO:tensorflow:global_step/sec: 547.256\n",
            "INFO:tensorflow:loss = 0.56789035, step = 8600 (0.183 sec)\n",
            "INFO:tensorflow:global_step/sec: 650.933\n",
            "INFO:tensorflow:loss = 0.3515718, step = 8700 (0.152 sec)\n",
            "INFO:tensorflow:global_step/sec: 644.01\n",
            "INFO:tensorflow:loss = 0.556856, step = 8800 (0.153 sec)\n",
            "INFO:tensorflow:global_step/sec: 573.829\n",
            "INFO:tensorflow:loss = 0.4877277, step = 8900 (0.177 sec)\n",
            "INFO:tensorflow:global_step/sec: 605.135\n",
            "INFO:tensorflow:loss = 0.33073968, step = 9000 (0.163 sec)\n",
            "INFO:tensorflow:global_step/sec: 626.684\n",
            "INFO:tensorflow:loss = 0.74932647, step = 9100 (0.162 sec)\n",
            "INFO:tensorflow:global_step/sec: 628.549\n",
            "INFO:tensorflow:loss = 0.6888179, step = 9200 (0.155 sec)\n",
            "INFO:tensorflow:global_step/sec: 665.432\n",
            "INFO:tensorflow:loss = 0.75895137, step = 9300 (0.151 sec)\n",
            "INFO:tensorflow:global_step/sec: 574.12\n",
            "INFO:tensorflow:loss = 0.76145965, step = 9400 (0.178 sec)\n",
            "INFO:tensorflow:global_step/sec: 635.571\n",
            "INFO:tensorflow:loss = 0.4050552, step = 9500 (0.153 sec)\n",
            "INFO:tensorflow:global_step/sec: 656.143\n",
            "INFO:tensorflow:loss = 0.36756068, step = 9600 (0.155 sec)\n",
            "INFO:tensorflow:global_step/sec: 596.87\n",
            "INFO:tensorflow:loss = 0.5351416, step = 9700 (0.167 sec)\n",
            "INFO:tensorflow:global_step/sec: 593.328\n",
            "INFO:tensorflow:loss = 0.5239607, step = 9800 (0.166 sec)\n",
            "INFO:tensorflow:global_step/sec: 627.044\n",
            "INFO:tensorflow:loss = 0.41905978, step = 9900 (0.161 sec)\n",
            "INFO:tensorflow:global_step/sec: 641.82\n",
            "INFO:tensorflow:loss = 0.46809468, step = 10000 (0.153 sec)\n",
            "INFO:tensorflow:global_step/sec: 634.538\n",
            "INFO:tensorflow:loss = 0.51919943, step = 10100 (0.161 sec)\n",
            "INFO:tensorflow:global_step/sec: 628.846\n",
            "INFO:tensorflow:loss = 0.35028207, step = 10200 (0.159 sec)\n",
            "INFO:tensorflow:global_step/sec: 629.681\n",
            "INFO:tensorflow:loss = 0.38286453, step = 10300 (0.156 sec)\n",
            "INFO:tensorflow:global_step/sec: 549.2\n",
            "INFO:tensorflow:loss = 0.4890961, step = 10400 (0.183 sec)\n",
            "INFO:tensorflow:global_step/sec: 659.153\n",
            "INFO:tensorflow:loss = 0.573889, step = 10500 (0.153 sec)\n",
            "INFO:tensorflow:global_step/sec: 640.891\n",
            "INFO:tensorflow:loss = 0.34818232, step = 10600 (0.155 sec)\n",
            "WARNING:tensorflow:It seems that global step (tf.train.get_global_step) has not been increased. Current value (could be stable): 10630 vs previous value: 10630. You could increase the global step by passing tf.train.get_global_step() to Optimizer.apply_gradients or Optimizer.minimize.\n",
            "INFO:tensorflow:global_step/sec: 586.068\n",
            "INFO:tensorflow:loss = 0.53138983, step = 10700 (0.173 sec)\n",
            "INFO:tensorflow:global_step/sec: 626.369\n",
            "INFO:tensorflow:loss = 0.4993522, step = 10800 (0.156 sec)\n",
            "INFO:tensorflow:global_step/sec: 616.716\n",
            "INFO:tensorflow:loss = 0.38535252, step = 10900 (0.163 sec)\n",
            "INFO:tensorflow:global_step/sec: 664.502\n",
            "INFO:tensorflow:loss = 0.53014034, step = 11000 (0.151 sec)\n",
            "INFO:tensorflow:global_step/sec: 608.688\n",
            "INFO:tensorflow:loss = 0.3639736, step = 11100 (0.167 sec)\n",
            "INFO:tensorflow:global_step/sec: 661.02\n",
            "INFO:tensorflow:loss = 0.35417962, step = 11200 (0.151 sec)\n",
            "INFO:tensorflow:global_step/sec: 658.319\n",
            "INFO:tensorflow:loss = 0.49448493, step = 11300 (0.149 sec)\n",
            "INFO:tensorflow:global_step/sec: 635.601\n",
            "INFO:tensorflow:loss = 0.54757375, step = 11400 (0.156 sec)\n",
            "INFO:tensorflow:global_step/sec: 645.488\n",
            "INFO:tensorflow:loss = 0.43870464, step = 11500 (0.159 sec)\n",
            "INFO:tensorflow:global_step/sec: 618.979\n",
            "INFO:tensorflow:loss = 0.45546004, step = 11600 (0.164 sec)\n",
            "INFO:tensorflow:global_step/sec: 556.017\n",
            "INFO:tensorflow:loss = 0.6883899, step = 11700 (0.177 sec)\n",
            "INFO:tensorflow:global_step/sec: 630.893\n",
            "INFO:tensorflow:loss = 0.49114373, step = 11800 (0.156 sec)\n",
            "INFO:tensorflow:global_step/sec: 600.632\n",
            "INFO:tensorflow:loss = 0.49143857, step = 11900 (0.167 sec)\n",
            "INFO:tensorflow:global_step/sec: 648.308\n",
            "INFO:tensorflow:loss = 0.5988586, step = 12000 (0.153 sec)\n",
            "INFO:tensorflow:global_step/sec: 619.902\n",
            "INFO:tensorflow:loss = 0.6332425, step = 12100 (0.164 sec)\n",
            "INFO:tensorflow:global_step/sec: 605.034\n",
            "INFO:tensorflow:loss = 0.32373506, step = 12200 (0.167 sec)\n",
            "INFO:tensorflow:global_step/sec: 535.627\n",
            "INFO:tensorflow:loss = 0.598543, step = 12300 (0.183 sec)\n",
            "INFO:tensorflow:global_step/sec: 627.433\n",
            "INFO:tensorflow:loss = 0.30197132, step = 12400 (0.162 sec)\n",
            "INFO:tensorflow:global_step/sec: 557.237\n",
            "INFO:tensorflow:loss = 0.60129315, step = 12500 (0.180 sec)\n",
            "INFO:tensorflow:global_step/sec: 528.661\n",
            "INFO:tensorflow:loss = 0.8003993, step = 12600 (0.186 sec)\n",
            "INFO:tensorflow:global_step/sec: 601.557\n",
            "INFO:tensorflow:loss = 0.4374113, step = 12700 (0.172 sec)\n",
            "INFO:tensorflow:global_step/sec: 647.825\n",
            "INFO:tensorflow:loss = 0.41568935, step = 12800 (0.148 sec)\n",
            "INFO:tensorflow:global_step/sec: 614.294\n",
            "INFO:tensorflow:loss = 0.45965275, step = 12900 (0.164 sec)\n",
            "INFO:tensorflow:global_step/sec: 655.885\n",
            "INFO:tensorflow:loss = 0.42600602, step = 13000 (0.154 sec)\n",
            "INFO:tensorflow:global_step/sec: 620.31\n",
            "INFO:tensorflow:loss = 0.33999187, step = 13100 (0.160 sec)\n",
            "INFO:tensorflow:global_step/sec: 634.148\n",
            "INFO:tensorflow:loss = 0.28338552, step = 13200 (0.159 sec)\n",
            "INFO:tensorflow:global_step/sec: 615.83\n",
            "INFO:tensorflow:loss = 0.46182826, step = 13300 (0.164 sec)\n",
            "INFO:tensorflow:global_step/sec: 611.762\n",
            "INFO:tensorflow:loss = 0.52020496, step = 13400 (0.158 sec)\n",
            "INFO:tensorflow:global_step/sec: 650.641\n",
            "INFO:tensorflow:loss = 0.32832935, step = 13500 (0.157 sec)\n",
            "INFO:tensorflow:global_step/sec: 627.839\n",
            "INFO:tensorflow:loss = 0.5160272, step = 13600 (0.157 sec)\n",
            "INFO:tensorflow:global_step/sec: 586.762\n",
            "INFO:tensorflow:loss = 0.660256, step = 13700 (0.170 sec)\n",
            "INFO:tensorflow:global_step/sec: 625.436\n",
            "INFO:tensorflow:loss = 0.39364108, step = 13800 (0.164 sec)\n",
            "INFO:tensorflow:global_step/sec: 597.071\n",
            "INFO:tensorflow:loss = 0.4344616, step = 13900 (0.163 sec)\n",
            "INFO:tensorflow:global_step/sec: 597.847\n",
            "INFO:tensorflow:loss = 0.58436996, step = 14000 (0.171 sec)\n",
            "INFO:tensorflow:global_step/sec: 583.538\n",
            "INFO:tensorflow:loss = 0.40960655, step = 14100 (0.173 sec)\n",
            "INFO:tensorflow:global_step/sec: 590.837\n",
            "INFO:tensorflow:loss = 0.42229295, step = 14200 (0.167 sec)\n",
            "INFO:tensorflow:global_step/sec: 627.928\n",
            "INFO:tensorflow:loss = 0.5232312, step = 14300 (0.161 sec)\n",
            "INFO:tensorflow:global_step/sec: 611.044\n",
            "INFO:tensorflow:loss = 0.51365554, step = 14400 (0.162 sec)\n",
            "INFO:tensorflow:global_step/sec: 671.147\n",
            "INFO:tensorflow:loss = 0.5814685, step = 14500 (0.149 sec)\n",
            "INFO:tensorflow:global_step/sec: 614.424\n",
            "INFO:tensorflow:loss = 0.4594105, step = 14600 (0.159 sec)\n",
            "INFO:tensorflow:global_step/sec: 615.76\n",
            "INFO:tensorflow:loss = 0.48228332, step = 14700 (0.168 sec)\n",
            "INFO:tensorflow:global_step/sec: 460.773\n",
            "INFO:tensorflow:loss = 0.2729957, step = 14800 (0.213 sec)\n",
            "INFO:tensorflow:global_step/sec: 600.858\n",
            "INFO:tensorflow:loss = 0.5801194, step = 14900 (0.167 sec)\n",
            "INFO:tensorflow:global_step/sec: 577.532\n",
            "INFO:tensorflow:loss = 0.47676086, step = 15000 (0.175 sec)\n",
            "INFO:tensorflow:global_step/sec: 583.714\n",
            "INFO:tensorflow:loss = 0.5763524, step = 15100 (0.171 sec)\n",
            "INFO:tensorflow:global_step/sec: 616.208\n",
            "INFO:tensorflow:loss = 0.51331604, step = 15200 (0.164 sec)\n",
            "INFO:tensorflow:global_step/sec: 606.284\n",
            "INFO:tensorflow:loss = 0.55204755, step = 15300 (0.162 sec)\n",
            "INFO:tensorflow:global_step/sec: 618.302\n",
            "INFO:tensorflow:loss = 0.36262837, step = 15400 (0.161 sec)\n",
            "INFO:tensorflow:global_step/sec: 645.763\n",
            "INFO:tensorflow:loss = 0.4040313, step = 15500 (0.155 sec)\n",
            "INFO:tensorflow:global_step/sec: 664.204\n",
            "INFO:tensorflow:loss = 0.8423401, step = 15600 (0.152 sec)\n",
            "INFO:tensorflow:global_step/sec: 619.738\n",
            "INFO:tensorflow:loss = 0.341809, step = 15700 (0.157 sec)\n",
            "INFO:tensorflow:global_step/sec: 605.743\n",
            "INFO:tensorflow:loss = 0.2987742, step = 15800 (0.165 sec)\n",
            "INFO:tensorflow:global_step/sec: 635.501\n",
            "INFO:tensorflow:loss = 0.49133748, step = 15900 (0.160 sec)\n",
            "WARNING:tensorflow:It seems that global step (tf.train.get_global_step) has not been increased. Current value (could be stable): 15903 vs previous value: 15903. You could increase the global step by passing tf.train.get_global_step() to Optimizer.apply_gradients or Optimizer.minimize.\n",
            "INFO:tensorflow:global_step/sec: 589.755\n",
            "INFO:tensorflow:loss = 0.50106716, step = 16000 (0.169 sec)\n",
            "INFO:tensorflow:global_step/sec: 636.523\n",
            "INFO:tensorflow:loss = 0.3934413, step = 16100 (0.157 sec)\n",
            "INFO:tensorflow:global_step/sec: 642.284\n",
            "INFO:tensorflow:loss = 0.3955273, step = 16200 (0.155 sec)\n",
            "INFO:tensorflow:global_step/sec: 611.089\n",
            "INFO:tensorflow:loss = 0.5648265, step = 16300 (0.165 sec)\n",
            "INFO:tensorflow:global_step/sec: 643.601\n",
            "INFO:tensorflow:loss = 0.46834695, step = 16400 (0.155 sec)\n",
            "INFO:tensorflow:global_step/sec: 669.336\n",
            "INFO:tensorflow:loss = 0.2935343, step = 16500 (0.152 sec)\n",
            "INFO:tensorflow:Calling checkpoint listeners before saving checkpoint 16512...\n",
            "INFO:tensorflow:Saving checkpoints for 16512 into /tmp/tmpm91etcbs/model.ckpt.\n",
            "INFO:tensorflow:Calling checkpoint listeners after saving checkpoint 16512...\n",
            "INFO:tensorflow:Loss for final step: 0.52189857.\n"
          ],
          "name": "stdout"
        },
        {
          "output_type": "execute_result",
          "data": {
            "text/plain": [
              "<tensorflow_estimator.python.estimator.canned.linear.LinearRegressorV2 at 0x7f5147c53710>"
            ]
          },
          "metadata": {
            "tags": []
          },
          "execution_count": 48
        }
      ]
    },
    {
      "cell_type": "markdown",
      "metadata": {
        "id": "89rdMHaJ_zC3"
      },
      "source": [
        "We can see in the above output how TensorFlow's LinearRegressor will tell us, while it's training, what the loss is as the model improves. This output can be useful when, later on, we'll tweak the learning rate."
      ]
    },
    {
      "cell_type": "markdown",
      "metadata": {
        "id": "Ot197scbO3kG"
      },
      "source": [
        "### Testing Input Function"
      ]
    },
    {
      "cell_type": "markdown",
      "metadata": {
        "id": "RzhWiGIzHQAw"
      },
      "source": [
        "In order to evaluate the quality of our model, we need to make predictions and see how close they are to reality. To do this we rely on the [`predict()`](https://www.tensorflow.org/api_docs/python/tf/estimator/LinearRegressor#predict) method.\n",
        "\n",
        "Similar to `train`, this method expects an input function. We'll create one similar to the one we created for train, only we won't repeat or shuffle the data and will process the data in batches of 1."
      ]
    },
    {
      "cell_type": "markdown",
      "metadata": {
        "id": "W5bfSUNuPxw0"
      },
      "source": [
        "#### Exercise 3: Create a Testing Input Function\n",
        "\n",
        "Create a testing input function called `testing_input`. The function should accept no arguments and should return a `Dataset`. The `Dataset` should not repeat, nor shuffle, and should have batches of size 1. Also, target/label values aren't needed for testing input."
      ]
    },
    {
      "cell_type": "code",
      "metadata": {
        "id": "ZphAewXsHgKp"
      },
      "source": [
        "# Your code goes here\n",
        "def testing_input():\n",
        "    ds = tf.data.Dataset.from_tensor_slices((\n",
        "        {c: testing_df[c] for c in feature_columns},\n",
        "        testing_df[target_column]\n",
        "    ))\n",
        "    ds = ds.batch(1)\n",
        "    return ds"
      ],
      "execution_count": 49,
      "outputs": []
    },
    {
      "cell_type": "markdown",
      "metadata": {
        "id": "pesEo_YNQADB"
      },
      "source": [
        "---"
      ]
    },
    {
      "cell_type": "markdown",
      "metadata": {
        "id": "7qke3gvShNkX"
      },
      "source": [
        "### Make Predictions\n",
        "\n",
        "Now we need to make predictions using our test features. To do that we pass our testing input function to the `predict` method on our trained linear regressor."
      ]
    },
    {
      "cell_type": "code",
      "metadata": {
        "id": "EGds4R4fhSZL"
      },
      "source": [
        "predictions = linear_regressor.predict(input_fn=testing_input)"
      ],
      "execution_count": 50,
      "outputs": []
    },
    {
      "cell_type": "markdown",
      "metadata": {
        "id": "oi6Hv0mhhcsx"
      },
      "source": [
        "That runs pretty fast... almost suspiciously fast. The reason is that the model isn't actually making predictions at this point. We have just built the graph to make predictions. TensorFlow is using lazy execution. The predictions won't be made until we ask for them.\n",
        "\n",
        "Let's go ahead and get the predictions and put them in a NumPy array so that we can calculate our error."
      ]
    },
    {
      "cell_type": "code",
      "metadata": {
        "id": "twhy8Q7hhv9T",
        "colab": {
          "base_uri": "https://localhost:8080/"
        },
        "outputId": "111d8f77-0d48-4482-cc0e-46d19bbbb748"
      },
      "source": [
        "predicted_median_values = [item['predictions'][0] for item in predictions]\n",
        "print(\"Our predictions: \", predicted_median_values)"
      ],
      "execution_count": 51,
      "outputs": [
        {
          "output_type": "stream",
          "text": [
            "INFO:tensorflow:Calling model_fn.\n"
          ],
          "name": "stdout"
        },
        {
          "output_type": "stream",
          "text": [
            "/usr/local/lib/python3.7/dist-packages/tensorflow/python/keras/engine/base_layer_v1.py:1727: UserWarning: `layer.add_variable` is deprecated and will be removed in a future version. Please use `layer.add_weight` method instead.\n",
            "  warnings.warn('`layer.add_variable` is deprecated and '\n"
          ],
          "name": "stderr"
        },
        {
          "output_type": "stream",
          "text": [
            "INFO:tensorflow:Done calling model_fn.\n",
            "INFO:tensorflow:Graph was finalized.\n",
            "INFO:tensorflow:Restoring parameters from /tmp/tmpm91etcbs/model.ckpt-16512\n",
            "INFO:tensorflow:Running local_init_op.\n",
            "INFO:tensorflow:Done running local_init_op.\n",
            "Our predictions:  [2.503636, 0.738322, 0.9927459, 3.0783143, 2.4534214, 2.7107143, 2.4374573, 2.998811, 1.9523363, 2.9534352, 2.5948658, 1.4786315, 2.3372715, 2.2928474, 3.6308684, 1.4032421, 1.988632, 2.0926313, 3.0314064, 1.8903632, 1.1368192, 0.71871185, 3.2237327, 2.2770317, 0.4233436, 2.340405, 2.243138, 1.4417169, 0.3408655, 2.002536, 1.1244931, 0.6789402, 1.3671337, 1.8514826, 2.2885833, 2.2331991, 0.86562335, 2.8004863, 3.5223129, 0.7307172, 1.2970248, 2.231195, 1.9037473, 2.0126693, 1.0106496, 4.5499244, 3.7184834, 2.030241, 0.26994258, 1.4266994, 2.7577047, 2.2080524, 1.8799809, 0.428671, 2.6686962, 0.6666594, 2.3919806, 2.421933, 0.14301729, 1.658175, 2.257405, 2.6631217, 2.0679898, 1.3723481, 4.7773585, 3.9311366, 1.0408702, 0.64511204, 3.364616, 1.7370417, 1.3831038, 1.8191059, 3.045324, 2.0110893, 3.003201, 2.2236478, 2.0479574, 3.261901, 1.5585122, 0.912896, 0.95901704, 2.5361362, 2.70823, 1.6596775, 2.684834, 1.8437772, 1.7317871, 3.514677, 1.0212303, 1.3045331, 2.1411512, 1.7697799, 0.934811, 2.9345765, 2.7300687, 1.5349526, 1.6143665, 1.4969752, 3.2467995, 2.3313735, 2.1629825, 2.0893998, 2.736509, 0.86146843, 1.2314388, 1.6401167, 1.8597488, 2.5106227, 1.146325, 2.7227638, 2.5424852, 1.1565099, 2.9476697, 2.3044195, 1.6637244, 2.351004, 1.8130519, 1.9343987, 2.9128814, 3.4665313, 1.1659062, 1.3148797, 1.6939119, 2.5152464, 2.0895565, 1.0357298, 1.3820355, 1.6685526, 2.028648, 2.0143104, 1.7488754, 2.1875923, 2.11567, 1.8305593, 2.8484704, 0.63095975, 1.8504461, 2.4851289, 1.5157212, 2.7931402, 2.134641, 1.0351616, 2.948833, 1.6037061, 3.84941, 1.943783, 2.1295447, 1.9201515, 1.3963356, 3.309408, 2.3053958, 1.8724337, 2.1667974, 3.1745281, 0.85606205, 2.9708788, 2.7347188, 2.169445, 1.920938, 2.8427203, 1.9648325, 1.3652232, 3.1176038, 0.7861358, 2.037459, 4.644769, 1.6688087, 2.258863, 3.213478, 2.565438, 1.8673445, 0.71488965, 2.4878538, 2.135661, 0.96993136, 2.3564765, 0.8043846, 3.0053623, 0.97171545, 2.2299485, 1.9691912, 0.8028468, 1.3385618, 3.0121326, 2.6610515, 1.386568, 1.1023748, 1.6660043, 2.0817285, 1.8568101, 2.253676, 1.592837, 2.6539447, 1.7812161, 0.62093365, 2.7290416, 1.0869142, 1.4709002, 2.9086583, 1.8813615, 2.7448382, 1.4131694, 2.0566103, 0.90696865, 2.1783955, 2.6050577, 1.4307227, 1.2181443, 1.6376909, 1.4496676, 1.5813966, 1.1960448, 1.5004414, 2.947482, 1.9960771, 3.2926261, 2.1195278, 1.3559111, 2.228572, 0.43385416, 4.9454355, 2.681407, 1.7469726, 2.5725071, 3.7319548, 1.4919698, 1.4599972, 2.1827276, 1.981905, 3.0683334, 1.6964809, 1.8924624, 3.6108894, 2.67173, 1.1094854, 3.248875, 0.5560236, 1.2713877, 1.6523404, 2.466801, 1.4931126, 2.375826, 1.7442112, 2.650032, 2.5526133, 1.4400115, 4.0560412, 1.348438, 2.5571842, 1.8032308, 1.8310816, 1.7768204, 1.9330449, 2.297862, 1.600403, 1.4047542, 2.4297922, 1.2493452, 1.7992848, 2.2185133, 1.9464444, 2.2899609, 2.51597, 1.9725473, 2.33707, 2.7799957, 0.7560934, 1.7143126, 0.8487524, 1.0917115, 1.3681127, 1.9263177, 4.8036175, 1.8258549, 1.7576585, 0.83325976, 2.6520693, 3.1849678, 1.6330996, 2.7225647, 2.3495207, 2.3116558, 1.1770481, 2.651, 2.035745, 0.85976565, 0.584713, 2.166849, 2.9854145, 1.5104693, 1.9369824, 2.5719273, 1.3339759, 0.39096808, 2.5447013, 3.1252306, 3.1560361, 1.711646, 1.8433843, 2.5486672, 2.4367363, 5.08777, 3.0245638, 0.55984145, 2.0460372, 1.2446688, 2.065577, 1.811332, 2.0536547, 2.7336702, 0.84986025, 1.6981735, 2.5037718, 1.3017048, 1.0788833, 2.1250055, 3.6898575, 1.8165778, 0.38282168, 1.26375, 0.99886954, 1.6237206, 0.6567954, 1.5472317, 1.2376689, 1.1145207, 0.765507, 3.8294926, 1.5013245, 1.9591004, 1.8179511, 2.0172434, 0.8734755, 2.1458454, 2.6570113, 1.7403479, 1.2689081, 2.2073925, 2.341129, 1.1788704, 2.1844616, 3.3442788, 2.5413, 2.1631806, 1.2167885, 2.9253066, 0.7877939, 2.9101214, 1.5157005, 1.335767, 3.1847234, 1.7891026, 2.613007, 2.4961073, 0.18029273, 2.0629268, 1.1768836, 3.0475817, 4.0645185, 1.8689165, 2.0826128, 4.394586, 1.0642959, 1.4993994, 0.6288016, 1.4019067, 1.5851121, 1.9945538, 2.4987721, 2.71974, 1.8198354, 3.2913148, 1.7557758, 2.2089226, 2.5825815, 1.9462698, 1.6896861, 1.8735814, 3.7354326, 2.9413717, 2.689552, 1.5062767, 1.6631021, 0.77475905, 2.1638126, 2.1997786, 2.9319227, 1.253781, 6.633214, 2.0708938, 1.011328, 0.7871015, 1.3400527, 2.9580975, 1.899654, 3.879609, 1.7056541, 1.7868235, 2.6637406, 1.1291476, 0.7767301, 1.006866, 2.2956405, 0.6524538, 0.89043474, 1.1429443, 2.8634083, 2.5943472, 1.8539689, 3.1796093, 2.538226, 2.0358036, 1.680126, 0.86437124, 2.4514499, 2.728231, 1.9119985, 2.0037608, 2.0095863, 4.7237225, 1.6408802, 0.80227363, 1.7966316, 0.8607189, 1.7253528, 2.4909909, 1.1457384, 1.0792831, 2.708631, 2.348356, 3.1062202, 1.8931087, 2.2562125, 2.6014254, 1.4007958, 1.3705922, 0.989196, 1.4041572, 5.4650545, 2.776441, 5.0355268, 2.9479208, 1.3763235, 2.060154, 2.5888102, 0.9755509, 0.82385874, 1.116327, 2.5959876, 1.3963966, 0.8689394, 2.3581865, 1.8258591, 3.2248828, 6.7325416, 3.1113768, 0.24611664, 1.6867893, 3.1681726, 2.9219925, 1.6568332, 3.5712912, 1.589255, 2.8810446, 1.3807406, 0.75877005, 3.0927527, 1.7944984, 2.1608994, 2.6226907, 1.4882122, 3.0697174, 1.4427395, 1.1605735, 2.005089, 2.1183767, 1.9333756, 2.33891, 1.1565843, 2.8625238, 2.8303525, 1.1228738, 3.0374272, 4.2591963, 2.3603063, 3.2905354, 2.0914185, 2.3097925, 2.4592423, 1.2441213, 2.0092301, 1.9110953, 3.9651499, 3.623457, 1.273684, 1.1315063, 3.2388644, 0.9123961, 1.2668924, 3.2358937, 2.1529198, 1.9914873, 1.0358684, 2.316876, 2.3760164, 2.6204436, 1.8307985, 1.3112173, 1.39032, 3.2205622, 2.047653, 2.3254988, 1.743191, 0.71935976, 2.4471307, 1.0892524, 1.7205749, 1.9364202, 3.4786162, 1.9507864, 1.758712, 2.1788757, 1.6996396, 1.3685466, 1.1387916, 2.6442893, 2.597746, 4.8701377, 2.581057, 2.1080863, 2.1452246, 1.5239083, 1.0337397, 1.4502621, 1.4709432, 2.854038, 5.2014194, 1.2714179, 3.456559, 2.8737817, 2.179355, 2.0216553, 2.7802444, 0.7308099, 1.4708188, 2.296639, 3.1431398, 2.4017699, 1.4520221, 2.3399467, 1.3532999, 2.9336069, 2.591187, 1.2011976, 1.6467557, 1.5628953, 2.1503859, 1.0229485, 0.97625154, 1.9448805, 1.593687, 2.1347668, 1.1867886, 2.4835908, 0.9354726, 1.123519, 2.749347, 2.1586819, 1.1632603, 2.7619395, 2.0831392, 2.9712048, 3.6931622, 1.3103058, 1.1709008, 5.090491, 2.2848752, 1.8456131, 2.7310948, 1.6607461, 1.3021986, 2.3568118, 2.568158, 1.1359743, 2.2844186, 2.5517302, 2.813124, 2.4230304, 1.5397949, 0.97556406, 4.8144584, 2.1082947, 2.9072773, 2.5147119, 3.8988094, 2.468434, 1.3513621, 1.619279, 3.8486187, 3.0096183, 2.3645504, 3.1447926, 2.273033, 1.430966, 2.0278294, 2.6785245, 2.8044086, 1.7520965, 1.5450652, 1.3147166, 1.0136057, 0.8992625, 2.7299461, 2.4611838, 3.3193014, 2.0895169, 2.117315, 1.8903377, 1.2120323, 1.7793925, 2.3386009, 1.9699178, 2.9966853, 2.1145957, 2.1745057, 3.3197653, 2.4120681, 2.7823803, 1.4624857, 1.5207291, 2.8115852, 2.901813, 2.3067088, 0.8731111, 3.4227817, 2.525865, 1.5853242, 3.0015898, 1.2010673, 2.2584577, 2.2230318, 2.4193225, 2.0893466, 1.3720046, 1.4544482, 3.1960506, 2.9470313, 1.2280942, 4.0655494, 2.617616, 2.8138213, 3.183476, 2.0600653, 2.3602068, 2.3821404, 2.9218855, 2.9005651, 1.8104041, 2.1044679, 1.3349278, 1.6161397, 0.7205716, 4.6098585, 2.5463796, 2.861227, 1.6622896, 1.9880047, 2.3857117, 2.2978768, 1.8345406, 1.9913049, 2.5802162, 1.1020448, 2.3232455, 2.1456678, 2.2489483, 0.86281, 0.9637785, 2.8880405, 1.9199774, 1.6339345, 2.4332871, 4.8860016, 0.82356465, 2.3231235, 2.1654305, 2.1725278, 1.1685839, 1.8435397, 0.7520727, 2.9309745, 2.6195946, 1.9976189, 2.0844495, 2.946331, 3.1861475, 2.1945467, 1.969188, 2.2773561, 1.5482872, 1.7248054, 1.9063532, 2.6157472, 2.5088441, 1.5087614, 2.353263, 2.2522552, 1.8725717, 1.4132634, 3.260134, 1.5524983, 2.0999024, 2.3835673, 1.8265381, 2.2250245, 1.1161494, 2.2614012, 3.0961058, 2.8191607, 2.2191415, 1.7672155, 1.4194264, 0.99982935, 2.754714, 0.95344675, 1.6541386, 2.7495673, 3.4508, 1.96631, 1.0790639, 2.2090821, 1.485539, 2.7763553, 2.3417623, 0.7174617, 1.1256835, 3.5124712, 1.8836936, 2.7998128, 0.7265923, 2.1993546, 1.6466231, 2.2924898, 2.8868783, 1.0823212, 2.2455285, 3.806468, 0.74382704, 0.22021657, 1.936206, 4.8959723, 1.1230116, 1.6838808, 2.070241, 0.8389102, 2.7508404, 1.8186682, 1.3183155, 2.1224244, 0.99087185, 2.3543034, 1.6532407, 3.4984555, 3.4728658, 2.4184182, 1.0138513, 2.6901753, 3.012511, 3.43077, 2.2703018, 0.8307727, 1.4368031, 2.3181348, 3.449647, 2.5268052, 0.41511554, 1.7744851, 1.3510947, 1.7805421, 3.7588034, 1.5439545, 3.4296498, 2.318362, 2.5516846, 1.1204963, 1.4510707, 2.8456848, 2.0251842, 1.1686025, 2.2755656, 2.4712539, 1.8674848, 0.7370336, 1.563508, 2.1918797, 1.0319268, 1.1451726, 1.9980421, 3.150825, 2.7584074, 2.1167133, 1.5046048, 1.0863532, 3.2398262, 1.8943458, 2.303992, 2.05764, 2.3236554, 1.8840587, 2.2553592, 1.7218244, 2.2216513, 1.3994101, 2.8496933, 1.510001, 1.9687941, 3.0831165, 1.4286205, 0.7415098, 2.25114, 0.56114537, 1.5524509, 2.3826177, 3.4337308, 1.7997599, 2.4185188, 3.1226735, 1.2888304, 2.9533556, 1.9574668, 3.0803258, 2.815936, 2.2747874, 0.9148962, 5.988781, 1.1057556, 4.2893543, 1.0903212, 2.036383, 2.2252102, 3.4656837, 2.1436086, 0.72768354, 2.0584066, 2.1680527, 1.6016676, 1.4676056, 2.1900597, 2.0403597, 1.4454694, 2.5410774, 2.883833, 0.6497408, 5.504588, 2.1677582, 4.0919433, 1.2304922, 2.507334, 0.7889917, 2.5665326, 2.9015198, 3.121313, 1.1682442, 2.4640772, 1.612477, 1.4310315, 1.8167295, 3.0257418, 1.7399584, 1.6132343, 1.7224929, 0.809559, 3.976631, 2.1580007, 1.778171, 3.3397903, 1.9656677, 3.1507697, 1.2343634, 1.5262934, 1.553073, 1.7416025, 2.2354796, 3.0028374, 2.5892308, 2.837017, 2.7087536, 1.9016111, 1.583254, 3.1074994, 1.9917274, 0.6699801, 1.9223664, 0.5564009, 1.9751046, 1.6736526, 2.2518744, 1.8616064, 2.8180895, 3.0700183, 1.2442045, 0.19103634, 1.3691411, 2.027689, 2.0453188, 2.1702547, 1.5897386, 2.1365888, 2.2504504, 1.2934954, 3.345241, 0.8744537, 2.8731368, 1.8885262, 1.668107, 4.3245177, 2.8932314, 4.0663314, 2.2473755, 1.7420661, 0.8527443, 2.7782495, 1.8499341, 1.7898555, 2.577945, 2.813795, 2.4333823, 2.7306368, 2.225611, 2.3128512, 1.9974384, 1.1141984, 3.2431204, 0.8664947, 5.209967, 1.5618923, 1.3962166, 2.3116987, 2.381711, 2.7360437, 1.8680716, 2.1367667, 1.2557044, 2.4480035, 0.9046396, 2.0878527, 3.4520557, 2.8276894, 1.0919552, 0.3696381, 2.5315971, 1.7286217, 2.2199538, 1.60302, 2.3785682, 2.873261, 2.5709462, 1.761971, 2.050029, 3.0750666, 3.8005912, 1.0017498, 0.8910031, 1.1445762, 0.95593345, 2.461511, 2.683945, 2.6322405, 2.9143581, 0.8897946, 2.19268, 2.4054427, 2.0570726, 2.4685678, 0.725205, 2.0862632, 1.7311623, 1.4162568, 2.3053591, 1.3750911, 0.97579634, 3.1981187, 1.2500155, 2.7109628, 2.8027017, 1.4718027, 2.5902472, 0.46427667, 1.0390863, 2.3192363, 1.8212745, 1.6321824, 1.9737461, 6.8466854, 1.7715192, 1.6215051, 1.9684069, 1.1883022, 4.706995, 2.1288009, 0.65216374, 2.8743503, 1.4747353, 1.7265663, 3.0412757, 3.1744242, 2.389769, 1.1903486, 3.7534995, 1.963405, 2.5157728, 2.6062987, 2.602096, 0.70581686, 1.913, 1.0022322, 1.5216868, 2.0466864, 2.4757838, 2.8880484, 2.257081, 1.7122171, 2.1483178, 2.3074262, 2.0547116, 1.1974658, 1.7643385, 1.9085534, 0.7997595, 1.7491677, 2.6824322, 0.93350095, 2.633308, 1.0619509, 2.2036223, 3.4764934, 2.4110658, 1.8239827, 0.85343343, 1.9966884, 1.2441554, 3.5230432, 2.4256463, 2.6371136, 0.68377954, 1.1182654, 1.8710127, 2.809858, 2.2611587, 2.7570872, 1.6382735, 1.9290879, 2.4973106, 0.9358331, 2.6848435, 1.9414887, 2.0093322, 1.6741936, 2.188006, 2.342014, 1.5253378, 1.4842265, 1.3095651, 2.2275157, 1.6869345, 2.3007782, 3.1121848, 0.46167016, 2.7730935, 2.2084928, 2.7073822, 1.3116287, 2.5381804, 1.289568, 1.39786, 1.6112672, 2.7124867, 0.68863094, 2.3385456, 5.4106517, 1.4621093, 2.7491858, 2.797473, 1.5168905, 3.0713508, 1.4717149, 0.9977547, 1.5096848, 1.9477193, 2.412691, 1.0003532, 1.7815444, 1.2720382, 2.0143738, 1.031585, 1.4968503, 3.2020082, 1.2878474, 2.069298, 1.5664332, 3.040449, 1.9392178, 1.5325855, 4.6230526, 1.9004018, 1.6894641, 2.0959036, 2.010475, 3.327144, 1.9057199, 2.1365974, 2.2860425, 2.0136049, 0.50196695, 2.0619354, 0.92212903, 1.5312965, 2.3227978, 1.9923787, 2.1114655, 2.1112375, 2.789843, 2.121273, 2.9120748, 2.094207, 1.6596155, 0.804543, 2.5246637, 2.2342355, 1.3650273, 2.9820354, 1.30641, 2.0796242, 2.2215984, 3.4614503, 1.6419675, 3.215127, 1.9494499, 2.5197828, 2.4063385, 2.8235116, 2.43878, 2.905188, 2.6571293, 0.45852065, 2.4090064, 1.6204252, 2.0630057, 2.0951595, 2.0835514, 2.2405183, 1.4925686, 0.8195857, 2.3529794, 3.3079898, 2.0700397, 2.786088, 1.2003906, 3.4638522, 2.8791924, 1.5277662, 1.074899, 1.8394371, 3.1638787, 1.8713183, 2.066405, 1.7465062, 1.678297, 0.103762686, 2.6607556, 1.0110915, 1.8584816, 1.6774111, 1.4023343, 2.3162901, 1.610867, 0.26456648, 1.0153198, 3.3329387, 1.7907482, 0.5553546, 3.3182263, 1.4057761, 1.8987495, 2.277204, 1.071313, 2.446941, 1.4250277, 1.4071449, 1.5730174, 1.9022129, 1.9782299, 4.3003244, 1.4955955, 1.9762561, 2.1376777, 1.7010865, 1.3086953, 2.7628849, 1.6022117, 3.6654446, 1.0063978, 1.4931868, 2.8112888, 1.3961937, 2.6559398, 1.689534, 2.3955963, 3.8959863, 1.7111275, 1.0172786, 2.3152127, 2.4420514, 1.279109, 0.8447238, 1.8333704, 1.5290458, 2.390319, 2.4413965, 2.5322728, 2.9060113, 1.5748851, 0.89690566, 2.0274844, 0.7875669, 0.93615717, 2.4635487, 0.6239729, 2.7688773, 1.0358155, 2.086289, 2.196442, 1.2845707, 1.1775496, 0.7150652, 2.2102213, 2.233202, 1.7731247, 2.4569826, 3.8059926, 1.677226, 2.094386, 2.9674497, 1.5734601, 3.3542802, 0.86913645, 2.8448682, 1.8509648, 0.912859, 1.863514, 2.2312155, 1.629552, 0.5816411, 2.0688462, 2.7851024, 2.7471905, 1.5785687, 1.71882, 0.27555287, 1.8706119, 1.0053788, 2.0528421, 1.988814, 1.8811398, 1.8385667, 1.3080465, 2.2327905, 2.6808813, 2.2509909, 2.9008012, 1.8037157, 2.5243485, 2.9470415, 1.8380158, 1.9104257, 1.1964284, 0.7149175, 3.9398584, 1.7549766, 1.5762665, 2.3646374, 2.1699946, 2.29598, 2.648687, 4.6411495, 1.3715999, 1.5117302, 1.3363796, 1.7710338, 3.168532, 1.3247082, 0.6809905, 1.2331846, 1.7444737, 0.5059085, 2.2319171, 1.2225358, 2.3464413, 2.46232, 0.8588431, 1.9823004, 1.5952766, 2.7678347, 1.1971205, 2.2357776, 1.5275259, 2.5295687, 3.4185708, 1.2856643, 0.9443596, 2.688421, 0.41835147, 0.9758956, 2.684776, 2.3849347, 1.4928045, 1.825399, 3.4115934, 1.0917408, 6.1922207, 2.2167, 1.461767, 1.8740005, 2.6077116, 1.4894843, 2.5661693, 2.006233, 2.323108, 1.5484989, 2.4423873, 3.7486715, 3.5953927, 1.5215565, 2.632025, 1.4417937, 1.355044, 2.1760685, 1.2686461, 1.2289981, 1.0870152, 2.034367, 2.0587695, 3.3970075, 2.6885169, 2.234738, 1.159303, 2.800924, 5.4201965, 2.928794, 1.1741148, 1.4456655, 2.242666, 3.1389885, 3.2218227, 2.5614464, 2.8451807, 3.0905476, 1.8479722, 3.2960658, -0.14985949, 1.5442982, 2.8419793, 1.0731258, 2.9246452, 1.6304362, 3.3981838, 2.489814, 2.091585, 2.0166075, 3.1308863, 2.9593751, 2.2251418, 2.2759783, 0.45139796, 2.557466, 3.6557949, 1.8719084, 0.45754892, 1.3675262, 2.53589, 1.9235282, 2.058418, 1.5037081, 2.7764204, 2.1528823, 2.2868447, 2.355474, 3.538498, 1.7744823, 1.6772733, 1.7587279, 0.6234347, 0.8393022, 2.1589, 1.979769, 4.07655, 2.122638, 2.8979855, 1.1403438, 2.66752, 1.6636406, 2.002432, 2.7894373, 0.40987223, 2.14448, 2.6505508, 1.0335028, 2.4709718, 1.9181354, 2.5561152, 2.5964108, 1.6324532, 2.4687128, 2.623016, 2.4010673, 1.8264854, 0.8267582, 2.1089523, 2.2203593, 2.5925329, 2.2281144, 2.0268943, 0.3292722, 2.6265595, 3.3024335, 1.4512706, 1.4071333, 1.8458873, 4.8732038, 2.8628519, 1.0522196, 0.73727864, 1.811104, 1.9703734, 2.6480987, 1.44374, 2.042467, 1.1788064, 2.4833307, 3.6172488, 1.198471, 1.5620728, 1.9931245, 3.087075, 0.9694276, 1.8227403, 2.5680132, 1.3889849, 1.7972343, 1.6608622, 1.9748025, 1.2434449, 2.693844, 2.5508013, 4.2022996, 2.4100125, 1.5893663, 2.3187625, 2.3227124, 0.42645282, 3.1313179, 0.9708897, 1.4703279, 2.7407913, 2.1139371, 0.6418232, 3.0288374, 2.1721544, 1.725465, 2.0173135, 2.0554383, 1.3471301, 3.0827358, 2.742458, 0.97274554, 1.9699438, 3.4831553, 2.3707767, 1.478317, 2.049979, 1.5644577, 2.2113578, 2.9825835, 0.8408061, 0.73320854, 4.0810833, 2.0926929, 1.8486369, 2.7169838, 1.4134808, 1.5099499, 1.8468885, 1.4544455, 2.5124, 0.8556662, 2.7377346, 2.1529186, 1.9709351, 3.1024604, 2.5394914, 1.39165, 2.8250537, 0.18476439, 2.5843961, 0.7576489, 1.5749257, 2.4158556, 1.212138, 0.8802036, 0.65715563, 1.6063627, 2.9739692, 2.2482886, 1.6361322, 2.1014733, 3.0256875, 2.9954839, 0.70213646, 1.8900017, 2.2206073, 2.7789936, 1.339352, 1.9787221, 1.9171723, 1.249255, 2.923076, 1.7819371, 1.340528, 2.7828808, 4.418998, 2.1224916, 2.7358232, 3.829039, 3.0016277, 1.3000642, 1.1773423, 1.4747107, 3.968805, 2.8115196, 2.5041492, 1.4756856, 2.5726655, 2.3531148, 2.236327, 6.5823193, 1.5696764, 2.1074255, 1.1130794, 3.3852975, 3.6192436, 1.1879915, 1.7739824, 1.5628309, 3.4785395, 2.3529258, 1.2017312, 1.7667656, 0.4576401, 5.5154667, 3.363367, 0.5942054, 1.2894897, 2.9194288, 0.6796669, 1.4610436, 0.927423, 2.5706272, 2.8841493, 1.7088573, 1.6350298, 1.3029255, 0.9554872, 1.0269724, 1.7628981, 0.6406714, 1.3426533, 2.800434, 1.6740736, 1.6481707, 1.6910961, 2.5993521, 2.381567, 1.9117748, 1.6132386, 2.0239687, 2.250737, 2.0821068, 2.0799773, 1.837287, 0.9112036, 1.4127413, 2.0305417, 2.1124985, 2.0081413, 1.0115166, 0.07121116, 2.149957, 2.0430396, 1.501565, 1.860786, 2.9082525, 1.198004, 2.6905248, 0.9339061, 2.4977348, 2.1356425, 2.8265836, 0.7620571, 1.2275398, 2.2080097, 1.8872339, 1.8134054, 1.8456211, 3.2490058, 1.0229731, 1.2794793, 0.8521426, 1.7608838, 1.015823, 1.447901, 3.0269175, 2.1679828, 0.5819942, 2.9561937, 1.3994046, 2.6433153, 5.4935036, 1.6914732, 1.9290303, 2.0603554, 1.8115549, 2.6064258, 2.4733922, 2.4556136, 2.738502, 3.0099313, 2.3878896, 1.550942, 1.830004, 0.9768897, 0.8301505, 2.2792444, 1.6846611, 1.5597034, 2.499595, 4.5451818, 4.2440686, 2.4844096, 1.6571854, 3.5606, 1.9040389, 2.4902802, 1.8614342, 2.1122367, 1.5343726, 3.3653655, 1.5604095, 2.4034271, 3.9757564, 2.7384422, 1.5624552, 1.9586881, 2.3794985, 1.0765002, 2.3422523, 4.469915, 3.4015257, 2.708441, 4.805846, 1.9117965, 2.2904675, 0.9162434, 3.1629405, 2.451994, 2.4042575, 2.5168867, 1.5164046, 2.8384655, 1.3790439, 2.9843538, 2.3533413, 2.3201158, 6.6919413, 3.1325977, 2.9071262, 0.8758156, 1.8649683, 5.838137, 1.3654454, 2.7045176, 1.5281453, 1.2044729, 3.20947, 1.3546267, 2.6573033, 1.3498384, 2.9481685, 3.31953, 0.5476592, 2.399185, 2.3873572, 0.91040564, 1.8370543, 1.6585776, 4.75715, 1.6603086, 3.6896636, 2.2178903, 3.8566935, 2.6793516, 1.4811755, 1.1971645, 2.702177, 0.7097285, 0.6419631, 2.116129, 2.3253796, 3.0455143, 1.4270526, 1.9412937, 2.20624, 1.7373459, 2.8673608, 2.177268, 2.9501383, 1.2802521, 3.7596157, 2.8420293, 1.6967704, 2.0271657, 2.6256075, 0.9339127, 1.6102483, 2.6382453, 2.3853228, 3.6971424, 3.3130255, 3.1301494, 2.6098003, 2.9483383, 2.8848395, 2.0023751, 1.6923012, 6.7636914, 2.3343015, 3.6108186, 2.4913354, 1.0561148, 2.3141415, 1.3582506, 0.9291427, 1.6679711, 2.421639, 2.1374786, 1.6757739, 2.6851423, 0.7180587, 2.1421247, 2.4089675, 3.9525192, 2.789896, 2.188347, 2.5363097, 2.298438, 3.077956, 2.670436, 2.8815088, 0.5898658, 1.3622043, 2.684367, 0.9617991, 2.0069065, 1.7149066, 1.434375, 2.7149053, 2.2401083, 0.8269925, 1.337402, 4.05328, 3.904215, 1.4726921, 1.6790323, 0.96729064, 2.7434897, 2.5585494, 1.2300451, 2.3244948, 2.5047421, 2.2136073, 2.560587, 2.0365887, 1.9209185, 1.6287189, 1.037196, 2.9725015, 1.0095466, 0.56981623, 0.77585953, 0.8551382, 2.4274578, 2.8142552, 1.3211303, 1.4955361, 1.247817, 2.8279784, 1.938029, 2.6952245, 3.3294072, 1.1682216, 3.7575903, 1.1479318, 2.74381, 1.8598819, 3.095364, 2.4072056, 0.38749313, 1.6512401, 2.6273823, 4.4272685, 0.99757177, 2.8042068, 2.2104952, 2.7009618, 2.7822008, 2.7126744, 1.5622022, 2.3928914, 0.88263166, 1.3057299, 1.0684993, 2.27294, 3.1670814, 2.792422, 2.457967, 1.6171896, 2.029444, 0.9566245, 1.6169298, 5.4031878, 1.2586302, 1.6895843, 0.98453844, 2.8671863, 3.2995355, 2.1589017, 0.98656154, 1.0829252, 1.1915494, 2.9737446, 2.4865773, 2.8137777, 3.132303, 1.7344394, 1.8409576, 2.3559897, 6.470751, 0.80190754, 2.454066, 2.1832385, 2.4793398, 2.6211078, 2.0108001, 0.67931336, 0.94190705, 1.759064, 1.1868638, 4.846153, 3.1565998, 0.71551836, 3.9835792, 2.1317723, 0.5073982, 1.4568032, 0.92988825, 2.3389056, 2.440424, 1.7022705, 2.1175244, 1.9050659, 2.1726747, 1.1406212, 3.2347295, 1.7500396, 0.97856843, 2.4431732, 1.7152982, 1.1621907, 1.894872, 1.8913085, 2.2536395, 2.1476696, 2.2265148, 1.2300227, 1.8929379, 2.3262467, 6.6675773, 1.9335427, 2.111643, 2.3607225, 2.2819307, 1.4328461, 1.9717312, 2.1845677, 3.9568963, 2.2089257, 3.294782, 3.286944, 2.237512, 0.76293653, 0.48353094, 2.3367958, 0.95538944, 1.2027597, 2.2200532, 0.20269734, 1.0481657, 2.8903966, 0.61678267, 4.415342, 2.0354095, 4.4292727, 1.3904328, 2.6016757, 1.3163687, 1.8907561, 2.546746, 2.524226, 2.5682557, 2.5022976, 0.8402916, 4.7062984, 2.2517295, 1.8783858, 0.82520306, 0.49395716, 2.2609203, 0.97012717, 1.7720311, 2.6461735, 0.7643446, 1.1383848, 1.0718355, 2.180253, 1.4919188, 1.3837165, 0.70097554, 1.9689865, 2.172362, 2.5158556, 1.128079, 0.61801493, 0.9414733, 2.691008, 2.5007713, 1.8230776, 2.6260548, 2.329088, 2.0693364, 1.8669944, 1.5730906, 2.2955549, 0.6373013, 2.7989647, 2.5925958, 1.6786008, 2.5209956, 1.729136, 2.9186368, 2.6347563, 1.554807, 1.3694612, 1.2861446, 1.5493803, 1.9315484, 3.0233107, 2.1093462, 2.91265, 3.0548272, 3.0087447, 2.2132194, 1.1417366, 2.8112154, 2.9425192, 1.4407914, 0.21799266, 3.792293, 1.3068748, 3.0321288, 3.2770736, 1.5602508, 2.40043, 2.353717, 1.0801827, -0.22074097, 2.3650525, 2.847788, 1.896736, 2.9766705, 1.6372361, 2.6165628, 3.3320181, 1.3577551, 2.4817343, 1.1864932, 2.1603022, 3.1072662, 2.0334904, 2.8292897, 2.9390497, 2.943902, 0.7111565, 1.1887097, 1.5106993, 2.9555283, 3.123003, 2.2511318, 1.6480255, 2.5423439, 1.2201437, 1.3623071, 1.5958116, 0.496413, 2.6570995, 1.7677522, 1.5166528, 2.6546376, 2.6347804, 2.3184357, 0.6318539, 3.68656, 1.6434239, 1.8967361, 2.7608693, 0.8478495, 0.8543019, 2.0213373, 1.8414721, 1.0928162, 2.897634, 2.0197058, 2.0789711, 2.2519448, 2.1395617, 2.6797059, 1.536861, 1.4475274, 1.0042634, 1.8681879, 4.8451257, 1.4712139, 1.5590508, 2.5295289, 2.7715886, 2.698055, 2.0074108, 0.93871534, 1.0954958, 0.9284053, 3.3160183, 4.0913234, 4.267533, 1.3299315, 2.1403434, 3.1743712, 1.3406641, 1.1599598, 1.5394659, 1.9646449, 2.7314556, 1.4330679, 1.8808335, 1.7770333, 1.8138045, 1.4846401, 3.0191307, 2.637601, 1.485744, 2.5925596, 2.0865927, 3.2777686, 1.8320739, 2.000629, 0.5966214, 1.6056085, 1.7176627, 1.4269305, 3.1706874, 0.37947094, 1.3792063, 2.3092937, 2.3746502, 0.84459186, 1.6815779, 2.5725179, 0.65198267, 2.0704165, 2.5365143, 2.1034503, 1.4242979, 2.3894615, 2.8094895, 2.3106759, 5.807767, 2.65778, 1.5062537, 3.020621, 2.471359, 1.2486486, 0.99286616, 0.62811863, 0.658735, 1.9878192, 2.8458521, 1.510661, 1.6839356, 1.0630945, 1.071225, 1.5041056, 2.1483624, 0.99127746, 2.200629, 1.5735524, 0.8717365, 0.9265903, -1.0812631, 6.682429, 1.7703433, 2.9372246, 2.1872869, 2.6701703, 2.352888, 1.7765539, 1.73124, 2.9526002, 2.2148876, 2.6800776, 2.1841013, 1.8155301, 2.0654242, 0.5063158, 1.4053345, 2.8533418, 3.1781323, 3.1529891, 2.6184974, 1.626955, 1.2442449, 2.0955148, 0.62376386, 2.4012208, 2.0273228, 2.3633945, 1.6670111, 2.3649073, 2.4407833, 3.0242229, 0.8975579, 1.5734408, 1.9028106, 4.1605525, 2.1333766, 1.6336997, 0.969137, 1.0248196, 1.7632217, 2.2284775, 1.761168, 3.4483275, 1.7483902, 3.0794053, 3.707614, 1.6910534, 0.84143937, 2.2701693, 1.8879356, 2.6927767, 0.7837218, 3.0215285, 1.8247261, 3.4048789, 1.1524787, 1.5448856, 1.9966266, 0.97879815, 2.6377065, 1.8783939, 3.2617695, 0.69669724, 1.9701512, 1.8882046, 2.0884006, 0.76684725, 1.9001846, 2.1240447, 2.0818899, 2.8511198, 1.79157, 0.6527002, 1.9929752, 1.7173252, 1.2983655, 0.97774416, 0.5794528, 2.3449774, 1.4773643, 2.8322434, 1.1854024, 0.39601427, 2.8398592, 1.5988576, 1.5639626, 2.678246, 2.9951286, 0.6690062, 2.5999253, 3.4738095, 1.4261454, 2.4161959, 2.4593077, 1.7600304, 2.0452902, 2.405257, 2.353015, 2.4197674, 2.5764015, 2.8168702, 1.4596617, 2.3403153, 2.604208, 2.5506754, 2.8908107, 2.8251433, 2.3930428, 2.876578, 2.036901, 0.43882102, 2.5880864, 2.9364336, 3.2803771, 2.1485212, 0.74473304, 2.8726127, 3.1512938, 2.1345773, 3.124709, 1.5777441, 2.7456264, 1.9977727, 2.4808733, 2.4999514, 2.194965, 2.047761, 3.2474294, 1.8616744, 1.8788229, 1.0880516, 2.0073712, 1.765657, 1.5843253, 2.1998951, 2.1244953, 2.8690531, 1.3370445, 1.4196527, 1.4221338, 2.8321743, 0.79517716, 1.3291854, 2.885438, 1.4612286, 0.83481884, 2.134404, 2.1990545, 1.9671081, 2.189942, 1.3262415, 0.8457534, 2.1865802, 1.8167589, 1.656947, 2.853515, 2.6056354, 1.7547319, 1.226779, 0.45265144, 3.5909336, 1.0430893, 4.3123293, 0.9678934, 2.5171742, 2.9859743, 0.9552724, 2.4411538, 2.7384593, 5.089039, 1.9916749, 2.1917074, 2.969966, 4.4338193, 2.432711, 1.3610543, 0.5216717, 2.235753, 2.3435097, 1.0617765, 1.0088769, 1.9359667, 2.2794151, 2.7648025, 0.50852597, 2.3328936, 2.6213703, 1.1988161, 0.60902977, 2.271398, 1.4427307, 2.2623072, 1.4037912, 2.6705387, 2.414279, 0.8232798, 0.5032941, 1.452616, 2.1370897, 2.8494434, 1.5905266, 1.4115999, 2.4459627, 1.7812629, 2.3734245, 1.5123323, 1.0425967, 1.2208443, 2.5032892, 2.738351, 1.5307157, 1.4715931, 0.7871481, 2.3169963, 2.7324185, 2.2705941, 2.2853208, 1.3453921, 1.1409342, 2.7386534, 0.9462567, 1.8502684, 2.7664928, 1.5307964, 2.3001695, 5.742904, 3.2299075, 3.9526992, 0.7971859, 2.0916348, 1.7995298, 0.77817893, 1.7449653, 0.93228596, 0.68081146, 2.22241, 2.5555766, 1.815796, 1.4050121, 1.2951859, 0.81114936, 1.1121539, 2.63445, 1.3311942, 4.6436744, 3.5189028, 1.5770617, 0.9951387, 2.102624, 1.6569335, 1.1646212, 1.5995734, 2.226178, 2.5088289, 1.6928475, 3.4609985, 0.7650487, 2.4891782, 1.5369875, 1.675138, 1.631679, 1.3680431, 1.0729148, 2.971573, 0.636941, 0.92419934, 2.6249328, 2.4758592, 2.736041, 2.072411, 1.5555283, 1.6730161, 1.4056047, 0.55499035, 1.9321759, 1.7857208, 1.082155, 3.2691708, 3.0698218, 2.6085584, 1.814136, 1.7758472, 2.5007691, 1.6142683, 1.6400555, 1.3398328, 1.2108088, 1.6682197, 2.0620418, 1.107375, 2.388699, 1.0270826, 2.2095783, 2.8407807, 2.614809, 1.7813351, 1.938337, 2.2573144, 2.5511928, 2.2332237, 3.881522, 1.9187496, 2.0421612, 1.4311447, 1.8290446, 1.7668898, 2.952324, 1.0640936, 3.9441938, 2.788273, 3.167984, 1.1893075, 0.8693883, 2.2996309, 2.0549011, 1.5278366, 3.5894089, 3.5717385, 1.304024, 0.7172711, 1.8365332, 1.1316758, 2.4465075, 2.774381, 1.8917143, 2.4698625, 2.7905593, 2.3976758, 0.88845444, 1.9167484, 0.8442894, 1.1808927, 1.4282123, 0.9998054, 2.0792987, 0.6170286, 0.830274, 1.4193022, 1.9788085, 0.9226099, 2.4445355, 2.4186728, 1.8586049, 2.3848548, 2.4726865, 2.5329213, 0.8824181, 1.358432, 1.0710049, 1.5437262, 3.0725682, 2.6329534, 3.8769238, 1.0959527, 3.2837255, 1.1386535, 2.412957, 2.4666286, 1.7134869, 2.3379228, 2.7065492, 1.4337717, 1.3809412, 3.1248655, 2.4361932, 1.6517942, 1.4730182, 0.6626637, 1.5190966, 1.7010868, 1.4853097, 2.7428124, 2.7607522, 2.8725305, 2.8777423, 3.2250721, 1.3035038, 2.2936473, 2.2627535, 1.8924239, 2.9744391, 1.7837446, 3.2435231, 2.7115595, 1.7639768, 1.1191578, 2.018993, 1.8772955, 1.3522558, 2.668928, 1.7165372, 5.8614855, 2.135988, 1.3173664, 2.8843682, 0.9049691, 3.2574623, 1.420083, 2.4806955, 2.1449065, 2.1675568, 2.0960345, 2.4437704, 1.7848101, 1.3578265, 1.0367279, 1.2067671, 2.3560116, 1.3633103, 1.9970949, 1.3080828, 1.7491138, 3.1081262, 1.5460603, 0.9075558, 1.2466133, 2.8348882, 0.8792649, 0.47712845, 0.6761617, 1.0302098, 2.7667503, 2.9581532, 0.7873281, 0.89314634, 1.1544114, 1.4758037, 0.6500163, 2.2337234, 1.4593091, 2.3056314, 3.1143594, 0.7072433, 1.9549136, 2.2113469, 1.4908162, 3.4287562, 0.5392606, 1.6119128, 1.4565203, 2.7224631, 1.9589024, 1.1435254, 1.6082491, 1.5410863, 1.1516069, 1.8894293, 1.5192194, 0.79786175, 1.8403091, 1.8961542, 2.1206157, 2.1462336, 1.5107763, 0.8645345, 0.9915234, 2.3350687, 2.5731463, 1.4270631, 1.5574, 0.99320555, 1.8214183, 2.6974497, 1.7419155, 3.083153, 2.0353584, 1.8077159, 2.823921, 2.880694, 1.8136213, 1.8505442, 2.8168678, 2.5276673, 1.3887691, 3.841199, 1.8593659, 1.5240637, 1.0642363, 1.243958, 2.1300395, 2.5954657, 1.7604852, 1.7417533, 1.3074808, 2.3577178, 2.1430113, 1.656882, 2.6371255, 1.5763671, 0.63791275, 2.391061, 1.3380429, 0.9108731, 3.6167433, 2.585476, 2.3840663, 1.0418822, 2.2742345, 2.5003057, 2.4130442, 3.0518079, 2.8196554, 2.3599, 3.3067703, 2.6033456, 1.0205127, 3.0351536, 2.3838806, 1.3978896, 1.9651644, 2.6711388, 3.0599012, 2.716155, 2.3713987, 2.1041608, 0.9283133, 1.9346862, 1.5187685, 3.5271888, 2.3699303, 1.2722427, 0.809603, 2.5027912, 2.1465175, 0.5794021, 1.5025647, 2.691316, 0.86524135, 3.143431, 3.8293047, 1.7091932, 2.8608856, 2.5026333, 1.1523069, 0.7966714, 2.9643903, 3.2898247, 1.8990767, 1.0924969, 2.1024354, 2.9412377, 2.4452834, 1.7640874, 3.8706138, 3.2947545, 1.3159074, 2.243283, 0.96679926, 1.6002727, 2.4909875, 0.93977463, 3.0869083, 2.3232088, 1.091106, 4.9800987, 3.0630367, 5.304394, 1.3422126, 2.2592294, 0.7099314, 2.2401018, 2.6735935, 1.0439622, 1.1305918, 4.3138947, 1.8137794, 1.6992459, 2.93681, 1.8934624, 4.7635717, 5.312775, 1.6513436, 1.9499445, 2.1262136, 2.0343997, 2.2405279, 3.310778, 3.9444911, 3.3464444, 2.0901227, 2.3829875, 1.5887333, 0.86303353, 2.6642535, 3.1421204, 1.178564, 3.0256298, 0.22583765, 0.7025839, 2.3532062, 3.1342366, 1.4297074, 1.2723867, 1.8538305, 3.9252036, 1.8289564, 0.79801863, 1.9578212, 1.2456641, 2.3760655, 0.8977995, 1.7482325, 1.7061925, 1.4527354, 3.157821, 1.9281644, 2.4663022, 2.0043082, 2.924, 1.0569774, 0.42675322, 2.7220275, 2.0074713, 0.51557004, 3.8478475, 0.4078645, 0.9500051, 0.7370992, 1.8792452, 1.4027326, 2.585611, 0.809554, 2.6719177, 2.326604, 2.7899923, 2.5463474, 2.043432, 2.9620192, 0.8753104, 2.6920907, 1.8486061, 2.4604053, 1.3795153, 1.5311162, 1.5787251, 2.3462422, 3.0793958, 1.5675824, 3.3614366, 2.8943467, 1.7852616, 1.9654958, 1.6978338, 1.9473858, 2.944114, 2.0825942, 1.4043276, 1.4066329, 2.1626806, 1.744728, 2.1232562, 4.745481, 2.8380177, 1.1069812, 1.8646038, 1.6129136, 2.2906532, 2.6293633, 2.7819238, 2.9905388, 1.0834109, 0.89032066, 3.5543683, 1.4315706, 1.9262325, 2.450037, 2.6205847, 1.9821241, 1.3391405, 2.8967524, 3.8185122, 1.8930054, 1.9060233, 2.8740354, 2.5143533, 2.5297153, 1.0136342, 2.8388534, 1.6528822, 3.0165677, 1.8896651, 0.4185788, 2.8202596, 2.2047079, 2.1266177, 2.9789932, 1.379179, 2.7094445, 1.6344304, 4.651741, 1.8487699, 3.3057165, 0.91429603, 2.047465, 0.7654479, 0.65997976, 1.5820506, 2.2799993, 2.3296921, 1.9835954, 2.5625827, 0.6664376, 2.5906882, 1.8384182, 1.1229111, 1.8660116, 2.7815015, 1.2638799, 2.7911005, 2.4062464, 1.40433, 0.8186731, 1.4942975, 2.224483, 2.7909338, 2.077252, 1.6680616, 2.252473, 1.7947171, 3.3003876, 2.8021388, 2.9242327, 2.5834477, 2.3739748, 1.6040108, 0.92115796, 1.0164543, 3.0435653, 1.2284818, 2.5010219, 3.1482944, 2.0285087, 2.2386124, 2.0254548, 4.7882743, 2.0001292, 1.4928524, 1.558495, 2.4449117, 2.0962884, 3.2337291, 0.8618833, 2.9001293, 1.7568014, 2.3310544, 1.1711519, 0.9726391, 1.6673062, 2.3102813, 2.2924356, 1.2277641, 0.9046013, 1.2062604, 1.9216311, 1.5054173, 1.3812504, 2.5950859, 2.2426927, 2.786376, 2.3466403, 1.9769918, 2.1575136, 1.5547483, 2.278572, 2.240592, 3.3468697, 1.0624311, 1.944271, 2.2459352, 2.0473478, 2.2977197, 0.7107556, 1.2240765, 1.1718669, 0.62830067, 1.4577289, 2.379386, 3.211076, 1.6517975, 2.565347, 1.2965493, 1.5127815, 2.9498725, 1.842755, 2.9551525, 3.8512788, 1.4717993, 1.6109312, 1.015338, 1.8799005, 1.5790143, 2.6024418, 1.6449187, 2.3140278, 1.3580295, 2.472189, 2.5692005, 1.8937105, 1.0940764, 1.313082, 2.1497173, 1.8296349, 2.771876, 2.2285395, 6.587077, 2.2172105, 0.6576612, 3.35398, 1.7714462, 0.709971, 2.4331057, 2.0592847, 2.5532298, 1.6138539, 2.4049969, 1.9212031, 2.6023738, 0.9390252, 2.2988808, 2.7675567, 1.5354893, 2.3833241, 2.6071403, 2.618073, 2.1877878, 0.7193747, 1.1592164, 1.9282315, 2.0462966, 1.6234198, 1.1880555, 2.4100144, 1.9196197, 2.302517, 1.7965766, 2.0009577, 6.772135, 4.387777, 0.3698281, 2.3302639, 1.8467162, 2.8343704, 1.2254589, 1.2724283, 1.5586414, 2.6433945, 1.6104126, 0.48882747, 0.84530383, 1.1392819, 1.5876014, 3.8396883, 1.6496358, 0.7428248, 1.4381521, 2.6300097, 2.430232, 2.5044994, 0.4884777, 0.86527234, 2.6595056, 1.1020923, 2.523129, 0.919529, 1.8267803, 2.9041212, 1.1274307, 2.9482632, 2.1623893, 1.0950824, 1.5349791, 2.6486342, 1.8427293, 2.9889705, 1.8804603, 4.2046757, 2.7749891, 3.40766, 2.4269798, 0.92313236, 2.3677933, 0.44560242, 2.4088144, 2.3451917, 2.0503163, 1.3255816, 3.2060027, 3.1403985, 0.6644472, 1.4679965, 1.2564859, 0.83769125, 2.7863503, 0.75294816, 1.6964116, 1.7096157, 3.2002993, 4.0403504, 1.9230616, 1.3837824, 1.0851583, 0.61617905, 0.887364, 1.3329176, 1.7190728, 2.2472787, 2.4686794, 1.7516544, 0.59611344, 2.231006, 2.497213, 0.89318776, 1.9654596, 1.0280863, 1.4848714, 2.0641932, 1.5597851, 1.3540579, 3.1747327, 2.0861626, 2.2383902, 1.1082174, 2.2898064, 3.5307922, 2.518042, 1.1198016, 2.206701, 0.9768311, 1.8397641, 3.4560611, 2.0861855, 1.6450064, 1.4156779, 2.168559, 2.3848941, 2.626031, 1.4769078, 1.5621114, 2.570999, 2.0246336, 1.0879221, 2.758918, 2.594043, 2.7765384, 2.8253417, 2.600636, 3.0082734, 1.5556058, 3.5899148, 1.7236669, 2.5684319, 0.7495472, 1.7938614, 2.4327614, 1.8255669, 4.407604, 2.3493633, 1.7040775, 1.9060476, 1.2862849, 2.519617, 2.0051818, 2.87773, 1.8647375, 0.91552025, 1.1037196, 1.8526075, 3.4035714, 1.8094867, 1.2462528, 2.7057369, 0.88881475, 5.87544, 1.7784886, 1.2883632, 2.001573, 0.6169307, 1.923871, 5.612299, 3.3307846, 1.9541259, 2.143602, 1.9893279, 1.3205342, 0.39929765, 0.55085444, 4.1845894, 3.759503, 2.8216205, 2.1790874, 1.8090321, 0.9572301, 0.48163915, 3.423475, 0.9814923, 1.5966637, 1.5580559, 1.7495635, 4.1027427, 1.435306, 1.7927768, 4.206715, 3.3718514, 1.8264416, 1.50984, 2.435617, 1.4855502, 3.321038, 2.4938147, 0.8317388, 0.59215665, 1.4161618, 0.6084751, 2.858128, 1.5846896, 1.5425456, 1.7962139, 2.7500935, 1.7621177, 1.8749712, 0.76013285, 0.7677053, 2.1397252, 2.1616426, 3.323245, 3.0127609, 2.3965297, 3.0374088, 3.366666, 1.8376303, 0.94123656, 1.7964667, 2.622681, 0.48541826, 1.1525655, 1.4001535, 2.6436734, 1.8770785, 3.3707435, 2.9194274, 2.4792051, 2.121802, 0.81020284, 2.8478937, 2.03159, 1.2005297, 1.648896, 2.185249, 2.3532643, 1.8118278, 2.3570666, 2.9614966, 2.340212, 2.2376614, 1.8949876, 2.0045366, 3.0885918, 2.0145016, 3.1257827, 1.108979, 1.4632744, 2.3087556, 2.7974453, 2.1087787, 1.8743265, 2.2762063, 1.2728008, 0.8207977, 1.4131418, 2.3242357, 3.735577, 2.3699214, 2.6771762, 1.5616786, 1.6157134, 2.0452447, 2.7948158, 1.0203053, 1.7649968, 2.6905859, 1.5079143, 1.1091938, 1.9158452, 1.0690198, 2.7657158, 0.61072075, 2.104616, 3.701445, 2.515381, 1.3618919, 0.82229626, 1.9512937, 3.2758577, 3.0719535, 1.5460932, 2.2011318, 1.4953679, 1.9811511, 1.5201609, 2.9896445, 3.9790077, 1.9730964, 2.6405118, 2.9122384, 2.6735983, 1.0756458, 1.4123884, 0.7943689, 2.0672884, 3.7998462, 1.0922511, 2.7142565, 3.8076513, 2.5805705, 1.4727464, 0.6632049, 1.0556803, 1.6347395, 0.9564169, 1.441591, 1.8428571, 0.8970088, 3.3866835, 1.249592, 2.1014507, 0.9012819, 3.4151356, 2.4746323, 3.3904805, 3.256786, 3.3099172, 2.2968335, 5.755163, 1.1305147, 1.7728717, 0.8450902, 1.8338945, 2.5060039, 1.4215931, 1.3258883, 1.3636206, 3.248861, 2.3647463, 1.6557082, 1.5147729, 3.4720676, 1.1139127, 2.4493718, 2.3235993, 2.7367146, 1.7170784, 2.7109017, 3.0579407, 2.023216, 2.726253, 2.6881807, 1.135336, 1.6579984, 1.4232843, 0.59263515, 1.4969645, 2.0075803, 2.1557798, 2.041924, 1.9783657, 2.1458778, 2.7488241, 1.2275348, 1.6611091, 2.8986325, 2.3205862, 1.9323382, 1.1423669, 1.8470688, 1.6054821, 2.2803507, 2.1328795, 1.1957695, 0.9015772, 1.9890454, 1.9768068, 1.8738399, 2.2906919, 1.3364506, 1.7827748, 2.0085285, 1.2418237, 1.6795447, 2.8614397, 0.93233573, 0.87857574, 1.0643946, 3.652422, 1.3290173, 3.18988, 2.8747816, 2.1199424, 1.3293555, 3.393877, 2.2337, 1.2041947, 1.3496892, 0.9520265, 2.178941, 3.1393187, 1.6056557, 0.7961627, 2.1265204, 0.9764469, 2.7125762, 1.2087266, 2.1156025, 2.2273726, 2.5784385, 1.1034294, 2.1097744, 2.0891647, 1.5970322, 0.60988045, 0.7149669, 1.7485307, 1.0990454, 3.2687185, 0.80598253, 0.55687153, 0.5174153, 2.3120942, 2.413261, 2.7951796, 1.918299, 2.1004105, 2.5310578, 3.414168, 3.3690674, 1.2789874, 1.3065418, 1.556207, 1.7200922, 2.7749426, 0.5786338, 1.3663648, 2.059931, 3.278719, 2.2599535, 2.636349, 3.8650842, 2.5819926, 1.5041234, 3.5745342, 1.2947004, 5.524173, 1.5143691, 2.762225, 1.5638516, 2.178972, 2.1216056, 3.180865, 1.7314459, 1.9656305, 1.4796677, 3.31713, 0.77958655, 1.5491183, 2.7790313, 1.2074386, 1.3898594, 3.8763728, 1.3834963, 1.3535472, 1.9513698, 1.9199934, 3.207904, 1.6968706, 2.1185064, 2.6538699, 1.8720856, 2.5548952, 1.4859598, 1.5198376, 3.471372, 1.5237026, 2.1925492, 2.6070576, 2.6086197, 3.057631, 1.6004488, 1.9095063, 1.5087187, 3.1544738, 0.6282641, 1.5605404, 1.9398754, 0.7200508, 2.1094987, 0.8337665, 2.344121, 1.9218625, 2.8745723, 1.2739474, 2.154924, 2.5339825, 1.3727057, 1.988882, 1.4509351, 1.4769139, 2.7003486, 0.57697904, 1.7377362, 2.4460855, 1.5780253, 1.3023252, 1.3496323, 5.0956697, 1.7855365, 0.85195035, 0.8510282, 2.31324, 2.385198, 1.2150908, 0.30470842, 2.6509302, 3.012471, 0.9424428, 2.3005443, -0.037529886, 0.59138227, 2.6626549, 1.4610945, 2.348037, 0.9010921, 2.1203582, 1.9090848, 0.7883276, 2.3641896, 2.5501597, 3.0248322, 2.0906663, 1.7351487, 2.0865712, 1.0463457, 2.7587893, 1.8329065, 2.6390662, 1.4365883, 1.1765292, 1.9574769, 3.7323809, 2.528597, 2.635953, 2.2526016, 2.435431, 1.6275055, 3.0028973, 0.7660128, 2.109908, 2.132716, 2.5109897, 1.4258254, 1.9117506, 0.42593747, 2.775544, 1.6336464, 0.8244529, 1.2557966, 1.0568773, 2.8488722, 1.4464289, 2.4302793, 1.3849266, 2.8158839, 2.7777987, 2.251939, 2.4302156, 0.4107467, 2.0008729, 2.09888, 1.8614444, 1.9515481, 1.4289815, 1.4578795, 2.050037, 2.3601458, 1.5381861, 2.0145953, 1.7181876, 0.65018594, 2.7980583, 1.7234826, 2.4547102, 1.9106014, 1.763432, 2.661604, 2.451336, 1.8879356, 2.1822908, 2.2307372, 2.2232025, 2.316054, 2.217845, 2.2839718, 2.06631, 1.6287842, 2.658902, 2.800838, 2.2051342, 2.285245, 2.1480334, 2.065347, 2.1460326, 2.009655, 1.1374489, 2.0193522, 1.3136594, 3.3163462, 2.836505, 3.3200138, 2.006426, 2.5001004, 4.2621818, 1.9707377, 1.0881344, 2.5189166, 1.4538014, 2.0148306, 2.3438895, 2.6937926, 2.28385, 1.7183616, 2.5517612, 2.1602886, 1.9973254, 2.4051325, 0.7575495, 0.87264717, 0.9252867, 2.3705192, 1.672411, 1.3105597, 1.6696329, 2.210322, 0.8652603, 0.8694134, 1.7312063, 2.6894717, 1.9278474, 1.0231755, 0.8464993, 2.1216116, 2.256348, 4.199127, 3.7360923, 2.223934, 0.36139977, 1.149768, 0.87832236, 1.6653657, 1.909757, 1.244858, 2.3015556, 2.9874845, 1.2922282, 1.2669065, 2.070387, 1.6268036, 0.77855957, 0.6604819, 0.9749821, 1.048866, 1.7307217, 2.161426, 1.7422228, 2.100949, 1.4371128, 1.787874, 3.5377786, 2.423217, 2.66033, 2.7158747, 2.2038963, 1.2301958, 1.3480895, 3.0525136, 2.8937163, 1.076802, 2.0785658, 0.8798318, 2.4735951, 2.3799314, 0.96119404, 2.7330952, 0.849254, 2.9858115, 0.82478476, 3.1795926, 1.7642515, 2.1739237, 2.0116918, 2.4916844, 1.9580176, 2.3216145, 1.9902773, 2.2509015, 1.8459005, 3.1822612, 2.2401953, 2.7413979, 2.074527, 1.6754284, 1.9840102, 2.0603962, 1.5567555, 1.7932838, 1.9140079, 1.4490352, 4.405897, 1.417278, 0.46326947, 3.09715, 0.75664395, 3.9080977, 1.0175878, 1.674948, 1.9958963, 1.4846992, 2.0433779, 1.9243026, 0.5081941, 1.3870736, 0.13682622, 2.231132, 2.4556708, 1.9439249, 1.3846691, 1.2716621, 1.3970039, 2.8802798, 2.408407, 2.6645498, 2.392271, 1.1976227, 1.2822609, 2.6962001, 3.2389815, 1.8155727, 0.664461, 1.3283705, 2.1996121, 0.446486, 1.6482041, 3.1519113, 2.570817, 1.8115952, 1.1817427, 2.142951, 2.7271512, 1.9248729, 5.912425, 2.06578, 2.118107, 1.5042477, 1.6048639, 0.79065573, 1.2184875, 2.4516215, 1.5539442, 2.721271, 1.707695, 1.695369, 2.98061, 1.7507547, 2.4274216, 1.7792363, 1.8063719, 0.82008797, 0.9661049, 4.8089013, 1.4391074, 2.0135162, 2.6171072, 4.7627606, 2.5529635, 2.418359, 2.7570093, 1.7660078, 2.3011575, 2.1596582, 1.096451, 2.1041753, 2.2900205, 1.7169733, 1.8540134, 0.287849, 1.3342232, 2.2688787, 1.2144713, 2.0864358, 0.8785084, 2.4488468, 2.6455917, 2.6616137, 1.0572509, 2.7215054, 0.85295904, 3.0475097, 1.9783697, 1.6257114, 1.3009412, 2.2199004, 2.334946, 0.74532545, 0.8612183, 1.1237495, 1.3231574, 2.3158286, 1.0598841, 2.0862064, 2.090411, 0.88397646, 1.7949824, 1.4188527, 2.6237469, 2.5647063, 2.1452355, 2.2936485, 1.3821944, 3.0545537, 2.6933644, 2.36134, 0.9616179, 1.1817181, 2.2505298, 0.555379, 3.2032006, 1.70597, 2.23007, 3.0321038, 2.255422, 3.672735, 1.339711, 1.056157, 2.1127453, 1.4228486, 2.6124, 1.8588545, 0.41846007, 2.4588485, 1.8086991, 2.461996, 1.7704625, 2.4610379, 0.9539812, 2.1545074, 2.022239, 2.0588548, 0.6476778, 2.7769158, 3.0858495, 2.791055, 2.1406877, 2.37341, 2.7691453, 1.3547289, 3.2781048, 1.5515776, 2.2410665, 3.7130187, 3.5538313, 0.7231995, 1.1891412, 1.9767659, 3.4917574, 2.2190883, 3.4069467, 0.7003446, 2.2333806, 2.7405868, 1.6097866, 6.317541, 1.3983959, 0.7221495, 2.330779, 2.7567403, 3.6096382, 0.6267693, 1.4782168, 2.4980652, 2.2662547, 2.0297163, 1.6409724, 2.780564, 2.8919048, 3.1001623, 0.8861752, 0.34838432, 1.4483583, 1.8463845, 2.5750217, 0.90008503, 1.3464272, 2.2460997, 0.5218121, 1.6126746, 1.9521765, 0.83699894, 2.6204178, 1.9379287, 2.358871, 2.1563993, 0.8900891, 2.5859804, 2.8670056, 0.58030367, 0.76544285, 1.4038826, 2.6012611, 2.3041172, 1.6711688, 2.3875473, 1.7449158, 1.0232553, 1.9017279, 1.8753438, 2.271966, 3.0050373, 2.6316442, 1.8020759, 2.301866, 0.6172278, 2.206712, 1.8308625, 2.5463045, 1.7966706, 0.937304, 1.0552719, 2.612621, 1.9800923, 2.4824157, 2.4814827, 2.904612, 1.9475908, 2.2610416, 1.104526, 2.256163, 2.361319, 2.0144672, 2.224812, 2.458085, 2.3609173, 2.7313566, 2.2245905, 2.0810413, 0.78571403, 2.6948605, 0.72584414, 2.0374095, 2.8643568, 2.6384783, 2.1136203, 1.5686216, 2.217999, 0.97819114, 3.129241, 1.6537324, 3.0700624, 2.6687982, 1.8008678, 2.849356, 6.154955, 2.1749718, 2.4298747, 3.51282, 1.9479176, 2.2265053, 1.6354675, 1.2471061, 2.1278732, 1.3470374, -0.019272506, 1.6063432, 1.3396026, 1.4549766, 2.7949855, 2.5423012, 0.4624256, 0.65609056, 2.639022, 2.8691907, 2.6390634, 2.4687934, 2.3733044, 1.8695712, 0.369062, 2.629523, 2.4461331, 3.46453, 0.52238464, 1.6747491, 1.9926724, 0.8817853, 1.4934816, 1.7549758, 3.669754, 1.8504486, 3.6256354, 1.685646, 0.7489119, 0.88804436, 2.7784085, 2.5826924, 2.0355086, 2.3200936, 1.8112512, 2.8678868, 1.598418, 2.587747, 4.7374015, 1.5879713, 1.3568969, 2.1104228, 2.3229017, 2.4562585, 3.4013689, 0.6741887, 3.51539, 2.4771662, 1.424674, 3.4500425, 1.8807652, 1.7112277, 2.1925113, 1.4757149, 3.9160626, 2.2673187, 2.479371, 2.2255406, 1.7080657, 1.6785867, 2.0275943, 2.935258, 3.1263366, 0.95911056, 1.856678, 1.4659688, 0.76403, 0.095445156, 1.6414804, 0.60183716, 1.7555449, 1.4653003, 0.948179, 2.3368123, 2.6055415, 1.4340674, 0.99353033, 0.64698046, 2.0298028, 2.2030087, 2.108078, 2.054077, 2.5133724, 1.3226764, 3.5326815, 0.5161271, 2.0633986, 2.487847, 1.65015, 2.3271973, 2.147483, 3.136513, 5.211337, 1.3974453, 1.3236125, 3.4309137, 3.1884556, 4.100311, 2.0822515, 2.0278866, 2.0374136, 2.117788, 1.6033577, 0.52229035, 1.1097976, 1.2872384, 1.0751657, 0.9659563, 1.7154001, 1.2337167, 2.4913764, 0.99175537, 0.35271668, 2.0059152, 1.67766, 1.3728354, 2.8001485, 3.287524, 2.0035806, 2.045969, 2.8046377, 1.3275518, 2.9517677, 1.3258059, 0.566633, 1.0272152, 1.302685, 0.42398614, 2.1242332, 1.6320431, 1.6055408, 0.5910618, 2.921546, 2.3563454, 1.6224644, 1.134489, 4.8093777, 2.6512864, 1.1779305, 1.5297283, 2.711792, 1.7069569, 3.2582223, 1.9271946, 1.3533683, 1.4248079, 3.5017796, 2.7152665, 1.7791841, 2.3140936, 1.6191323, 2.7845378, 4.694803, 0.35500246, 1.9481367, 1.9961271, 1.7893786, 1.7011108, 1.0503457, 2.6979783, 2.6483903, 1.904769, 1.0878015, 2.090604, 1.7574501, 1.1430571, 1.9799564, 2.2926185, 2.587738, 1.1868504, 2.494991, 0.9070247, 1.4756415, 0.9580228, 1.3615049, 0.8233502, 2.1489384, 3.1561754, 1.9084289, 2.227191, 0.99301445, 2.9936373, 3.145507, 2.4936426, 2.1264045, 1.3347944, 2.3481376, 2.8330421, 1.6278731, 1.5774485, 1.7259169, 2.3511164, 2.1514907, 1.1300516, 2.6456778, 1.4597805, 0.4758116, 2.346386, 0.4208684, 1.9572117, 2.8625917, 1.0492455, 0.8423507, 1.3810809, 1.6328845, 1.301959, 1.4599316, 1.0006999, 2.4185352, 2.9599729, 2.6711838, 2.7760894, 2.0855892, 0.9816356, 1.2734634, 2.6399825, 0.8696081, 4.655803, 2.2786357, 1.8062425, 1.6463714, 2.093159, 0.8365969, 1.9616795, 2.3956242, 1.564437]\n"
          ],
          "name": "stdout"
        }
      ]
    },
    {
      "cell_type": "markdown",
      "metadata": {
        "id": "PMlmcvIdh1iE"
      },
      "source": [
        "### Evaluate Model\n",
        "\n",
        "Now that we have predictions, we can compare them to our actual values and evaluate the quality of our model."
      ]
    },
    {
      "cell_type": "code",
      "metadata": {
        "id": "jKUugsQTiBeH",
        "colab": {
          "base_uri": "https://localhost:8080/"
        },
        "outputId": "b8339feb-37ae-4778-c755-7ca25c096695"
      },
      "source": [
        "import math\n",
        "\n",
        "from sklearn import metrics\n",
        "\n",
        "mean_squared_error = metrics.mean_squared_error(\n",
        "    np.array(predicted_median_values) * TARGET_FACTOR,\n",
        "    testing_df[target_column] * TARGET_FACTOR\n",
        ")\n",
        "print(\"Mean Squared Error (on training data): %0.3f\" % mean_squared_error)\n",
        "\n",
        "root_mean_squared_error = math.sqrt(mean_squared_error)\n",
        "print(\"Root Mean Squared Error (on training data): %0.3f\" % root_mean_squared_error)"
      ],
      "execution_count": 52,
      "outputs": [
        {
          "output_type": "stream",
          "text": [
            "Mean Squared Error (on training data): 4666638932.442\n",
            "Root Mean Squared Error (on training data): 68312.802\n"
          ],
          "name": "stdout"
        }
      ]
    },
    {
      "cell_type": "markdown",
      "metadata": {
        "id": "tDg7cEjwgpoF"
      },
      "source": [
        "What is this telling us? The mean square error is somewhat hard to think about. However, whenever you take the root you get the units of the target column. In our test run, we were `68700.557` dollars off on our predictions. (Your numbers might be slightly different because we randomly shuffled the data before splitting it into training and testing datasets.)\n",
        "\n",
        "Is that good?\n",
        "\n",
        "Let's see what the mean price is in our test data."
      ]
    },
    {
      "cell_type": "code",
      "metadata": {
        "id": "oOFO6tqhhENB",
        "colab": {
          "base_uri": "https://localhost:8080/"
        },
        "outputId": "0e26e9ef-f6e7-4cb3-b49c-8751d01eb33c"
      },
      "source": [
        "testing_df[target_column].mean() * TARGET_FACTOR"
      ],
      "execution_count": 53,
      "outputs": [
        {
          "output_type": "execute_result",
          "data": {
            "text/plain": [
              "206652.34907945714"
            ]
          },
          "metadata": {
            "tags": []
          },
          "execution_count": 53
        }
      ]
    },
    {
      "cell_type": "markdown",
      "metadata": {
        "id": "7CkwSgWUhP4r"
      },
      "source": [
        "About 206,700 dollars. 68,700 is about 33% of 206,700 so our model is off by a mean of 33% of the actual price. I probably wouldn't make many bets using this model."
      ]
    },
    {
      "cell_type": "markdown",
      "metadata": {
        "id": "1tRI52Vxihh0"
      },
      "source": [
        "## Exercise 4: Hyperparameters"
      ]
    },
    {
      "cell_type": "markdown",
      "metadata": {
        "id": "5PpoW4JOm3Xa"
      },
      "source": [
        "There are a few hyperparameters that we can adjust in order to try to improve our model. In the code cell below, you'll find most of the code that we've used so far in this lab. There are three `TODO` markers in the code. Find them and:\n",
        "\n",
        "1. Have the model use the [Adam Optimizer](https://www.tensorflow.org/api_docs/python/tf/keras/optimizers/Adam)\n",
        "1. Configure the training `Dataset`. Experiment with different batch sizes. Leave the batch size that performs the best in the code.\n",
        "1. Configure the testing `Dataset`."
      ]
    },
    {
      "cell_type": "markdown",
      "metadata": {
        "id": "4T1w-bNP9av2"
      },
      "source": [
        "**Student Solution**"
      ]
    },
    {
      "cell_type": "code",
      "metadata": {
        "id": "3XxK53QSjE_V",
        "colab": {
          "base_uri": "https://localhost:8080/"
        },
        "outputId": "a1c67bbd-874d-43e9-f8f0-95f536f3815a"
      },
      "source": [
        "%tensorflow_version 2.x\n",
        "\n",
        "import math\n",
        "import numpy as np\n",
        "import pandas as pd\n",
        "import tensorflow as tf\n",
        "\n",
        "from sklearn import metrics\n",
        "\n",
        "tf.keras.backend.set_floatx('float64')\n",
        "\n",
        "# Load the data\n",
        "# url = ('https://download.mlcc.google.com/mledu-datasets/' + \n",
        "#        'california_housing_train.csv')\n",
        "\n",
        "# housing_df = pd.read_csv(url)\n",
        "housing_df = pd.read_csv('california-housing-prices.zip')\n",
        "\n",
        "# Repair data\n",
        "has_all_data = housing_df[~housing_df['total_bedrooms'].isna()]\n",
        "sums = has_all_data[['total_bedrooms', 'total_rooms']].median().tolist()\n",
        "bedrooms_to_total_rooms_ratio = sums[0] / sums[1]\n",
        "missing_total_bedrooms_idx = housing_df['total_bedrooms'].isna()\n",
        "housing_df.loc[missing_total_bedrooms_idx, 'total_bedrooms'] = housing_df[\n",
        "    missing_total_bedrooms_idx]['total_rooms'] * bedrooms_to_total_rooms_ratio\n",
        "\n",
        "# Create lists of column names\n",
        "target_column = 'median_house_value'\n",
        "feature_columns = [c for c in housing_df.columns if c != target_column]\n",
        "numeric_feature_columns = [c for c in feature_columns if c != 'ocean_proximity']\n",
        "\n",
        "# Normalize the feature columns\n",
        "housing_df.loc[:, numeric_feature_columns] = (\n",
        "    housing_df[numeric_feature_columns] - \n",
        "      housing_df[numeric_feature_columns].min()) / (\n",
        "          housing_df[numeric_feature_columns].max() -\n",
        "            housing_df[numeric_feature_columns].min())\n",
        "\n",
        "# Scale the target column\n",
        "TARGET_FACTOR = 100000\n",
        "housing_df[target_column] = housing_df[target_column] / TARGET_FACTOR\n",
        "\n",
        "# Test/Train split\n",
        "housing_df = housing_df.sample(frac=1)\n",
        "test_set_size = int(len(housing_df) * 0.2)\n",
        "testing_df = housing_df[:test_set_size]\n",
        "training_df = housing_df[test_set_size:]\n",
        "\n",
        "# Create TensorFlow features\n",
        "housing_features = [\n",
        "    tf.feature_column.numeric_column(c, dtype=tf.dtypes.float64) \n",
        "      for c in numeric_feature_columns\n",
        "]\n",
        "housing_features.append(\n",
        "    tf.feature_column.categorical_column_with_vocabulary_list(\n",
        "        key='ocean_proximity',\n",
        "        vocabulary_list=sorted(housing_df['ocean_proximity'].unique()))\n",
        ")\n",
        "\n",
        "# Create model\n",
        "linear_regressor = tf.estimator.LinearRegressor(\n",
        "    feature_columns=housing_features,\n",
        "    # TODO: Set Optimizer\n",
        "    optimizer=\"Adam\"\n",
        ")\n",
        "\n",
        "# Train the model\n",
        "def training_input():\n",
        "  ds = tf.data.Dataset.from_tensor_slices((\n",
        "    {c: training_df[c] for c in feature_columns},  # feature map\n",
        "    training_df[target_column]                     # labels\n",
        "  ))\n",
        "  # TODO: Configure Dataset\n",
        "  ds = ds.repeat(100)\n",
        "  ds = ds.shuffle(buffer_size=10000)\n",
        "  ds = ds.batch(128)\n",
        "  return ds\n",
        "\n",
        "linear_regressor.train(\n",
        "    input_fn=training_input\n",
        ")\n",
        "\n",
        "# Make predictions\n",
        "def testing_input():\n",
        "  ds = tf.data.Dataset.from_tensor_slices((\n",
        "    {c: testing_df[c] for c in feature_columns},  # feature map\n",
        "    testing_df[target_column]                     # labels\n",
        "  ))\n",
        "  # TODO: Configure Dataset\n",
        "  ds = ds.batch(1)\n",
        "  return ds\n",
        "\n",
        "predictions_node = linear_regressor.predict(\n",
        "  input_fn=testing_input,\n",
        ")\n",
        "\n",
        "# Convert the predictions to a NumPy array\n",
        "predicted_median_values = np.array(\n",
        "    [item['predictions'][0] for item in predictions_node])\n",
        "\n",
        "# Find the RMSE\n",
        "root_mean_squared_error = math.sqrt(\n",
        "    metrics.mean_squared_error(\n",
        "      predicted_median_values * TARGET_FACTOR,\n",
        "      testing_df[target_column] * TARGET_FACTOR\n",
        "))\n",
        "\n",
        "print(\"Root Mean Squared Error (on training data): %0.3f\" % \n",
        "root_mean_squared_error)"
      ],
      "execution_count": 101,
      "outputs": [
        {
          "output_type": "stream",
          "text": [
            "INFO:tensorflow:Using default config.\n",
            "WARNING:tensorflow:Using temporary folder as model directory: /tmp/tmp6kmokwat\n",
            "INFO:tensorflow:Using config: {'_model_dir': '/tmp/tmp6kmokwat', '_tf_random_seed': None, '_save_summary_steps': 100, '_save_checkpoints_steps': None, '_save_checkpoints_secs': 600, '_session_config': allow_soft_placement: true\n",
            "graph_options {\n",
            "  rewrite_options {\n",
            "    meta_optimizer_iterations: ONE\n",
            "  }\n",
            "}\n",
            ", '_keep_checkpoint_max': 5, '_keep_checkpoint_every_n_hours': 10000, '_log_step_count_steps': 100, '_train_distribute': None, '_device_fn': None, '_protocol': None, '_eval_distribute': None, '_experimental_distribute': None, '_experimental_max_worker_delay_secs': None, '_session_creation_timeout_secs': 7200, '_checkpoint_save_graph_def': True, '_service': None, '_cluster_spec': ClusterSpec({}), '_task_type': 'worker', '_task_id': 0, '_global_id_in_cluster': 0, '_master': '', '_evaluation_master': '', '_is_chief': True, '_num_ps_replicas': 0, '_num_worker_replicas': 1}\n",
            "INFO:tensorflow:Calling model_fn.\n"
          ],
          "name": "stdout"
        },
        {
          "output_type": "stream",
          "text": [
            "/usr/local/lib/python3.7/dist-packages/tensorflow/python/keras/engine/base_layer_v1.py:1727: UserWarning: `layer.add_variable` is deprecated and will be removed in a future version. Please use `layer.add_weight` method instead.\n",
            "  warnings.warn('`layer.add_variable` is deprecated and '\n"
          ],
          "name": "stderr"
        },
        {
          "output_type": "stream",
          "text": [
            "INFO:tensorflow:Done calling model_fn.\n",
            "INFO:tensorflow:Create CheckpointSaverHook.\n",
            "INFO:tensorflow:Graph was finalized.\n",
            "INFO:tensorflow:Running local_init_op.\n",
            "INFO:tensorflow:Done running local_init_op.\n",
            "INFO:tensorflow:Calling checkpoint listeners before saving checkpoint 0...\n",
            "INFO:tensorflow:Saving checkpoints for 0 into /tmp/tmp6kmokwat/model.ckpt.\n",
            "INFO:tensorflow:Calling checkpoint listeners after saving checkpoint 0...\n",
            "INFO:tensorflow:loss = 4.457054, step = 0\n",
            "INFO:tensorflow:global_step/sec: 295.108\n",
            "INFO:tensorflow:loss = 0.62275404, step = 100 (0.341 sec)\n",
            "INFO:tensorflow:global_step/sec: 410.799\n",
            "INFO:tensorflow:loss = 0.6991946, step = 200 (0.247 sec)\n",
            "INFO:tensorflow:global_step/sec: 340.214\n",
            "INFO:tensorflow:loss = 0.37185696, step = 300 (0.291 sec)\n",
            "INFO:tensorflow:global_step/sec: 391.209\n",
            "INFO:tensorflow:loss = 0.54909533, step = 400 (0.257 sec)\n",
            "INFO:tensorflow:global_step/sec: 385.265\n",
            "INFO:tensorflow:loss = 0.5976912, step = 500 (0.260 sec)\n",
            "INFO:tensorflow:global_step/sec: 387.405\n",
            "INFO:tensorflow:loss = 0.4035595, step = 600 (0.261 sec)\n",
            "INFO:tensorflow:global_step/sec: 338.499\n",
            "INFO:tensorflow:loss = 0.4378587, step = 700 (0.294 sec)\n",
            "INFO:tensorflow:global_step/sec: 350.684\n",
            "INFO:tensorflow:loss = 0.4783801, step = 800 (0.284 sec)\n",
            "INFO:tensorflow:global_step/sec: 400.48\n",
            "INFO:tensorflow:loss = 0.4071996, step = 900 (0.250 sec)\n",
            "INFO:tensorflow:global_step/sec: 400.341\n",
            "INFO:tensorflow:loss = 0.5180413, step = 1000 (0.250 sec)\n",
            "INFO:tensorflow:global_step/sec: 398.836\n",
            "INFO:tensorflow:loss = 0.48539498, step = 1100 (0.252 sec)\n",
            "INFO:tensorflow:global_step/sec: 398.569\n",
            "INFO:tensorflow:loss = 0.6774374, step = 1200 (0.250 sec)\n",
            "INFO:tensorflow:global_step/sec: 414.679\n",
            "INFO:tensorflow:loss = 0.43649396, step = 1300 (0.240 sec)\n",
            "INFO:tensorflow:global_step/sec: 400.942\n",
            "INFO:tensorflow:loss = 0.4387094, step = 1400 (0.250 sec)\n",
            "INFO:tensorflow:global_step/sec: 445.577\n",
            "INFO:tensorflow:loss = 0.43304685, step = 1500 (0.224 sec)\n",
            "INFO:tensorflow:global_step/sec: 397.546\n",
            "INFO:tensorflow:loss = 0.7292904, step = 1600 (0.250 sec)\n",
            "INFO:tensorflow:global_step/sec: 383.711\n",
            "INFO:tensorflow:loss = 0.54933715, step = 1700 (0.261 sec)\n",
            "INFO:tensorflow:global_step/sec: 359.459\n",
            "INFO:tensorflow:loss = 0.65409136, step = 1800 (0.281 sec)\n",
            "INFO:tensorflow:global_step/sec: 438.835\n",
            "INFO:tensorflow:loss = 0.5779291, step = 1900 (0.228 sec)\n",
            "INFO:tensorflow:global_step/sec: 415.861\n",
            "INFO:tensorflow:loss = 0.3880763, step = 2000 (0.238 sec)\n",
            "INFO:tensorflow:global_step/sec: 379.399\n",
            "INFO:tensorflow:loss = 0.47874075, step = 2100 (0.267 sec)\n",
            "INFO:tensorflow:global_step/sec: 382.413\n",
            "INFO:tensorflow:loss = 0.5228685, step = 2200 (0.258 sec)\n",
            "INFO:tensorflow:global_step/sec: 387.585\n",
            "INFO:tensorflow:loss = 0.4915885, step = 2300 (0.261 sec)\n",
            "INFO:tensorflow:global_step/sec: 412.445\n",
            "INFO:tensorflow:loss = 0.46528038, step = 2400 (0.242 sec)\n",
            "INFO:tensorflow:global_step/sec: 410.621\n",
            "INFO:tensorflow:loss = 0.6143136, step = 2500 (0.241 sec)\n",
            "INFO:tensorflow:global_step/sec: 353.075\n",
            "INFO:tensorflow:loss = 0.5776582, step = 2600 (0.284 sec)\n",
            "INFO:tensorflow:global_step/sec: 408.336\n",
            "INFO:tensorflow:loss = 0.4412348, step = 2700 (0.245 sec)\n",
            "INFO:tensorflow:global_step/sec: 404.897\n",
            "INFO:tensorflow:loss = 0.5772822, step = 2800 (0.249 sec)\n",
            "INFO:tensorflow:global_step/sec: 427.758\n",
            "INFO:tensorflow:loss = 0.6717931, step = 2900 (0.234 sec)\n",
            "INFO:tensorflow:global_step/sec: 405.116\n",
            "INFO:tensorflow:loss = 0.56693685, step = 3000 (0.244 sec)\n",
            "INFO:tensorflow:global_step/sec: 407.86\n",
            "INFO:tensorflow:loss = 0.51502234, step = 3100 (0.245 sec)\n",
            "INFO:tensorflow:global_step/sec: 410.172\n",
            "INFO:tensorflow:loss = 0.4528764, step = 3200 (0.244 sec)\n",
            "INFO:tensorflow:global_step/sec: 413.511\n",
            "INFO:tensorflow:loss = 0.5188937, step = 3300 (0.242 sec)\n",
            "INFO:tensorflow:global_step/sec: 415.661\n",
            "INFO:tensorflow:loss = 0.3155424, step = 3400 (0.242 sec)\n",
            "INFO:tensorflow:global_step/sec: 411.862\n",
            "INFO:tensorflow:loss = 0.6416445, step = 3500 (0.243 sec)\n",
            "INFO:tensorflow:global_step/sec: 415.961\n",
            "INFO:tensorflow:loss = 0.5377301, step = 3600 (0.244 sec)\n",
            "INFO:tensorflow:global_step/sec: 414.576\n",
            "INFO:tensorflow:loss = 0.5274683, step = 3700 (0.242 sec)\n",
            "INFO:tensorflow:global_step/sec: 369.194\n",
            "INFO:tensorflow:loss = 0.55542684, step = 3800 (0.267 sec)\n",
            "INFO:tensorflow:global_step/sec: 409.305\n",
            "INFO:tensorflow:loss = 0.39864683, step = 3900 (0.243 sec)\n",
            "INFO:tensorflow:global_step/sec: 419.994\n",
            "INFO:tensorflow:loss = 0.51526105, step = 4000 (0.238 sec)\n",
            "INFO:tensorflow:global_step/sec: 425.017\n",
            "INFO:tensorflow:loss = 0.5112371, step = 4100 (0.237 sec)\n",
            "INFO:tensorflow:global_step/sec: 393.345\n",
            "INFO:tensorflow:loss = 0.4135211, step = 4200 (0.252 sec)\n",
            "INFO:tensorflow:global_step/sec: 388.14\n",
            "INFO:tensorflow:loss = 0.45984858, step = 4300 (0.259 sec)\n",
            "INFO:tensorflow:global_step/sec: 419.318\n",
            "INFO:tensorflow:loss = 0.4831552, step = 4400 (0.239 sec)\n",
            "INFO:tensorflow:global_step/sec: 429.356\n",
            "INFO:tensorflow:loss = 0.705811, step = 4500 (0.230 sec)\n",
            "INFO:tensorflow:global_step/sec: 413.75\n",
            "INFO:tensorflow:loss = 0.37032545, step = 4600 (0.242 sec)\n",
            "INFO:tensorflow:global_step/sec: 395.694\n",
            "INFO:tensorflow:loss = 0.35757023, step = 4700 (0.256 sec)\n",
            "INFO:tensorflow:global_step/sec: 393.604\n",
            "INFO:tensorflow:loss = 0.5147796, step = 4800 (0.255 sec)\n",
            "INFO:tensorflow:global_step/sec: 392.672\n",
            "INFO:tensorflow:loss = 0.45961893, step = 4900 (0.253 sec)\n",
            "INFO:tensorflow:global_step/sec: 444.036\n",
            "INFO:tensorflow:loss = 0.5782614, step = 5000 (0.232 sec)\n",
            "INFO:tensorflow:global_step/sec: 382.845\n",
            "INFO:tensorflow:loss = 0.54668117, step = 5100 (0.252 sec)\n",
            "INFO:tensorflow:global_step/sec: 440.425\n",
            "INFO:tensorflow:loss = 0.4464088, step = 5200 (0.227 sec)\n",
            "INFO:tensorflow:global_step/sec: 381.618\n",
            "INFO:tensorflow:loss = 0.5264841, step = 5300 (0.263 sec)\n",
            "INFO:tensorflow:global_step/sec: 414.063\n",
            "INFO:tensorflow:loss = 0.4113384, step = 5400 (0.243 sec)\n",
            "INFO:tensorflow:global_step/sec: 407.8\n",
            "INFO:tensorflow:loss = 0.36296672, step = 5500 (0.245 sec)\n",
            "INFO:tensorflow:global_step/sec: 449.428\n",
            "INFO:tensorflow:loss = 0.49029806, step = 5600 (0.223 sec)\n",
            "INFO:tensorflow:global_step/sec: 439.634\n",
            "INFO:tensorflow:loss = 0.50255144, step = 5700 (0.229 sec)\n",
            "INFO:tensorflow:global_step/sec: 401.132\n",
            "INFO:tensorflow:loss = 0.59801793, step = 5800 (0.247 sec)\n",
            "INFO:tensorflow:global_step/sec: 398.493\n",
            "INFO:tensorflow:loss = 0.3618131, step = 5900 (0.248 sec)\n",
            "INFO:tensorflow:global_step/sec: 435.09\n",
            "INFO:tensorflow:loss = 0.4739771, step = 6000 (0.233 sec)\n",
            "INFO:tensorflow:global_step/sec: 380.833\n",
            "INFO:tensorflow:loss = 0.4717005, step = 6100 (0.261 sec)\n",
            "INFO:tensorflow:global_step/sec: 402.859\n",
            "INFO:tensorflow:loss = 0.713027, step = 6200 (0.247 sec)\n",
            "INFO:tensorflow:global_step/sec: 330.115\n",
            "INFO:tensorflow:loss = 0.56661415, step = 6300 (0.304 sec)\n",
            "INFO:tensorflow:global_step/sec: 371.734\n",
            "INFO:tensorflow:loss = 0.56730753, step = 6400 (0.272 sec)\n",
            "INFO:tensorflow:global_step/sec: 358.062\n",
            "INFO:tensorflow:loss = 0.4865459, step = 6500 (0.276 sec)\n",
            "INFO:tensorflow:global_step/sec: 396.099\n",
            "INFO:tensorflow:loss = 0.49828547, step = 6600 (0.254 sec)\n",
            "INFO:tensorflow:global_step/sec: 342.124\n",
            "INFO:tensorflow:loss = 0.5531131, step = 6700 (0.289 sec)\n",
            "INFO:tensorflow:global_step/sec: 356.187\n",
            "INFO:tensorflow:loss = 0.36230272, step = 6800 (0.285 sec)\n",
            "INFO:tensorflow:global_step/sec: 338.638\n",
            "INFO:tensorflow:loss = 0.73267454, step = 6900 (0.289 sec)\n",
            "INFO:tensorflow:global_step/sec: 311.469\n",
            "INFO:tensorflow:loss = 0.5041016, step = 7000 (0.325 sec)\n",
            "INFO:tensorflow:global_step/sec: 424.073\n",
            "INFO:tensorflow:loss = 0.3710424, step = 7100 (0.233 sec)\n",
            "INFO:tensorflow:global_step/sec: 418.128\n",
            "INFO:tensorflow:loss = 0.551867, step = 7200 (0.242 sec)\n",
            "INFO:tensorflow:global_step/sec: 378.245\n",
            "INFO:tensorflow:loss = 0.56669873, step = 7300 (0.262 sec)\n",
            "INFO:tensorflow:global_step/sec: 394.523\n",
            "INFO:tensorflow:loss = 0.51560324, step = 7400 (0.253 sec)\n",
            "INFO:tensorflow:global_step/sec: 420.546\n",
            "INFO:tensorflow:loss = 0.2923881, step = 7500 (0.238 sec)\n",
            "INFO:tensorflow:global_step/sec: 429.013\n",
            "INFO:tensorflow:loss = 0.7780843, step = 7600 (0.235 sec)\n",
            "INFO:tensorflow:global_step/sec: 398.346\n",
            "INFO:tensorflow:loss = 0.4030143, step = 7700 (0.249 sec)\n",
            "INFO:tensorflow:global_step/sec: 409.097\n",
            "INFO:tensorflow:loss = 0.5179038, step = 7800 (0.249 sec)\n",
            "INFO:tensorflow:global_step/sec: 382.749\n",
            "INFO:tensorflow:loss = 0.75816596, step = 7900 (0.259 sec)\n",
            "INFO:tensorflow:global_step/sec: 402.926\n",
            "INFO:tensorflow:loss = 0.41742113, step = 8000 (0.248 sec)\n",
            "INFO:tensorflow:global_step/sec: 428.67\n",
            "INFO:tensorflow:loss = 0.6588627, step = 8100 (0.234 sec)\n",
            "INFO:tensorflow:global_step/sec: 418.855\n",
            "INFO:tensorflow:loss = 0.4946853, step = 8200 (0.235 sec)\n",
            "INFO:tensorflow:global_step/sec: 420.661\n",
            "INFO:tensorflow:loss = 0.530883, step = 8300 (0.239 sec)\n",
            "INFO:tensorflow:global_step/sec: 436.854\n",
            "INFO:tensorflow:loss = 0.39855576, step = 8400 (0.229 sec)\n",
            "INFO:tensorflow:global_step/sec: 371.014\n",
            "INFO:tensorflow:loss = 0.564852, step = 8500 (0.271 sec)\n",
            "INFO:tensorflow:global_step/sec: 415.079\n",
            "INFO:tensorflow:loss = 0.4799044, step = 8600 (0.241 sec)\n",
            "INFO:tensorflow:global_step/sec: 392.726\n",
            "INFO:tensorflow:loss = 0.45956933, step = 8700 (0.253 sec)\n",
            "INFO:tensorflow:global_step/sec: 381.174\n",
            "INFO:tensorflow:loss = 0.32522455, step = 8800 (0.266 sec)\n",
            "INFO:tensorflow:global_step/sec: 410.988\n",
            "INFO:tensorflow:loss = 0.33765876, step = 8900 (0.240 sec)\n",
            "INFO:tensorflow:global_step/sec: 405.238\n",
            "INFO:tensorflow:loss = 0.7039293, step = 9000 (0.249 sec)\n",
            "INFO:tensorflow:global_step/sec: 395.746\n",
            "INFO:tensorflow:loss = 0.604162, step = 9100 (0.250 sec)\n",
            "INFO:tensorflow:global_step/sec: 398.902\n",
            "INFO:tensorflow:loss = 0.3781306, step = 9200 (0.250 sec)\n",
            "INFO:tensorflow:global_step/sec: 368.952\n",
            "INFO:tensorflow:loss = 0.54727453, step = 9300 (0.275 sec)\n",
            "INFO:tensorflow:global_step/sec: 414.895\n",
            "INFO:tensorflow:loss = 0.4285242, step = 9400 (0.241 sec)\n",
            "INFO:tensorflow:global_step/sec: 407.171\n",
            "INFO:tensorflow:loss = 0.50838876, step = 9500 (0.242 sec)\n",
            "INFO:tensorflow:global_step/sec: 404.132\n",
            "INFO:tensorflow:loss = 0.59255767, step = 9600 (0.248 sec)\n",
            "INFO:tensorflow:global_step/sec: 386.278\n",
            "INFO:tensorflow:loss = 0.47220314, step = 9700 (0.262 sec)\n",
            "INFO:tensorflow:global_step/sec: 410.588\n",
            "INFO:tensorflow:loss = 0.45973045, step = 9800 (0.244 sec)\n",
            "INFO:tensorflow:global_step/sec: 374.432\n",
            "INFO:tensorflow:loss = 0.37112558, step = 9900 (0.267 sec)\n",
            "INFO:tensorflow:global_step/sec: 407.593\n",
            "INFO:tensorflow:loss = 0.44865704, step = 10000 (0.247 sec)\n",
            "INFO:tensorflow:global_step/sec: 371.218\n",
            "INFO:tensorflow:loss = 0.5190449, step = 10100 (0.267 sec)\n",
            "INFO:tensorflow:global_step/sec: 336.386\n",
            "INFO:tensorflow:loss = 0.3603416, step = 10200 (0.299 sec)\n",
            "INFO:tensorflow:global_step/sec: 379.684\n",
            "INFO:tensorflow:loss = 0.37001905, step = 10300 (0.263 sec)\n",
            "INFO:tensorflow:global_step/sec: 422.95\n",
            "INFO:tensorflow:loss = 0.44990653, step = 10400 (0.236 sec)\n",
            "INFO:tensorflow:global_step/sec: 403.178\n",
            "INFO:tensorflow:loss = 0.52512705, step = 10500 (0.249 sec)\n",
            "INFO:tensorflow:global_step/sec: 385.466\n",
            "INFO:tensorflow:loss = 0.5980016, step = 10600 (0.259 sec)\n",
            "INFO:tensorflow:global_step/sec: 426.838\n",
            "INFO:tensorflow:loss = 0.5243798, step = 10700 (0.230 sec)\n",
            "INFO:tensorflow:global_step/sec: 380.469\n",
            "INFO:tensorflow:loss = 0.36819392, step = 10800 (0.264 sec)\n",
            "INFO:tensorflow:global_step/sec: 358.077\n",
            "INFO:tensorflow:loss = 0.4962213, step = 10900 (0.281 sec)\n",
            "INFO:tensorflow:global_step/sec: 374.863\n",
            "INFO:tensorflow:loss = 0.5857893, step = 11000 (0.265 sec)\n",
            "INFO:tensorflow:global_step/sec: 418.306\n",
            "INFO:tensorflow:loss = 0.43190455, step = 11100 (0.240 sec)\n",
            "INFO:tensorflow:global_step/sec: 422.774\n",
            "INFO:tensorflow:loss = 0.39041802, step = 11200 (0.234 sec)\n",
            "INFO:tensorflow:global_step/sec: 413.907\n",
            "INFO:tensorflow:loss = 0.6825375, step = 11300 (0.245 sec)\n",
            "INFO:tensorflow:global_step/sec: 423.478\n",
            "INFO:tensorflow:loss = 0.6606665, step = 11400 (0.237 sec)\n",
            "INFO:tensorflow:global_step/sec: 398.733\n",
            "INFO:tensorflow:loss = 0.2960096, step = 11500 (0.251 sec)\n",
            "INFO:tensorflow:global_step/sec: 394.907\n",
            "INFO:tensorflow:loss = 0.5730567, step = 11600 (0.250 sec)\n",
            "INFO:tensorflow:global_step/sec: 376.853\n",
            "INFO:tensorflow:loss = 0.49757296, step = 11700 (0.265 sec)\n",
            "INFO:tensorflow:global_step/sec: 411.956\n",
            "INFO:tensorflow:loss = 0.5525319, step = 11800 (0.247 sec)\n",
            "INFO:tensorflow:global_step/sec: 400.076\n",
            "INFO:tensorflow:loss = 0.6147779, step = 11900 (0.246 sec)\n",
            "INFO:tensorflow:global_step/sec: 394.372\n",
            "INFO:tensorflow:loss = 0.45654136, step = 12000 (0.255 sec)\n",
            "INFO:tensorflow:global_step/sec: 430.592\n",
            "INFO:tensorflow:loss = 0.4779356, step = 12100 (0.235 sec)\n",
            "INFO:tensorflow:global_step/sec: 320.171\n",
            "INFO:tensorflow:loss = 0.72626144, step = 12200 (0.314 sec)\n",
            "INFO:tensorflow:global_step/sec: 398.76\n",
            "INFO:tensorflow:loss = 0.48168373, step = 12300 (0.248 sec)\n",
            "INFO:tensorflow:global_step/sec: 445.815\n",
            "INFO:tensorflow:loss = 0.6346804, step = 12400 (0.222 sec)\n",
            "INFO:tensorflow:global_step/sec: 367.531\n",
            "INFO:tensorflow:loss = 0.4800843, step = 12500 (0.276 sec)\n",
            "INFO:tensorflow:global_step/sec: 359.052\n",
            "INFO:tensorflow:loss = 0.26849753, step = 12600 (0.274 sec)\n",
            "INFO:tensorflow:global_step/sec: 368.651\n",
            "INFO:tensorflow:loss = 0.5484379, step = 12700 (0.273 sec)\n",
            "INFO:tensorflow:global_step/sec: 367.575\n",
            "INFO:tensorflow:loss = 0.36174792, step = 12800 (0.274 sec)\n",
            "INFO:tensorflow:Calling checkpoint listeners before saving checkpoint 12900...\n",
            "INFO:tensorflow:Saving checkpoints for 12900 into /tmp/tmp6kmokwat/model.ckpt.\n",
            "INFO:tensorflow:Calling checkpoint listeners after saving checkpoint 12900...\n",
            "INFO:tensorflow:Loss for final step: 0.5416414.\n",
            "INFO:tensorflow:Calling model_fn.\n",
            "INFO:tensorflow:Done calling model_fn.\n",
            "INFO:tensorflow:Graph was finalized.\n",
            "INFO:tensorflow:Restoring parameters from /tmp/tmp6kmokwat/model.ckpt-12900\n",
            "INFO:tensorflow:Running local_init_op.\n",
            "INFO:tensorflow:Done running local_init_op.\n",
            "Root Mean Squared Error (on training data): 70415.002\n"
          ],
          "name": "stdout"
        }
      ]
    },
    {
      "cell_type": "markdown",
      "metadata": {
        "id": "h_Y_c__4i9jk"
      },
      "source": [
        "---"
      ]
    },
    {
      "cell_type": "markdown",
      "metadata": {
        "id": "wSaybPnhlnSx"
      },
      "source": [
        "## Exercise 5: Weights"
      ]
    },
    {
      "cell_type": "markdown",
      "metadata": {
        "id": "gpVHdK9Qm-SQ"
      },
      "source": [
        "The `LinearRegressor` builds a linear model with weights for each feature. Use the `get_variable_names` and `get_variable_value` methods to find the weights. Print the weights in a format similar to that shown below:\n",
        "\n",
        "```\n",
        "bias_weights 3.170546\n",
        "population -12.792054\n",
        "median_income 5.906482\n",
        "total_bedrooms 5.3723865\n",
        "households 4.3297663\n",
        "longitude -3.7551448\n",
        "latitude -3.533678\n",
        "total_rooms -2.850763\n",
        "housing_median_age 0.66154426\n",
        "```\n",
        "\n",
        "The columns are sorted by the relative impact to the formula (absolute value). Notice the `bias_weights` in the list. This is the constant bias and should go first in the list."
      ]
    },
    {
      "cell_type": "markdown",
      "metadata": {
        "id": "bLmealg79jUx"
      },
      "source": [
        "**Student Solution**"
      ]
    },
    {
      "cell_type": "code",
      "metadata": {
        "id": "ZvBCdvNDovB3",
        "colab": {
          "base_uri": "https://localhost:8080/"
        },
        "outputId": "dd76c92a-9eec-4d76-f8c3-91eaf8797235"
      },
      "source": [
        "# Your Code Goes Here\n",
        "import re\n",
        "\n",
        "pattern = r\"^linear\\/linear_model\\/([a-z_]+)\"\n",
        "\n",
        "for name in linear_regressor.get_variable_names():\n",
        "    result = re.search(pattern, name)\n",
        "    if result is None: continue\n",
        "    print(\"{}: {}\".format(result.group(1), linear_regressor.get_variable_value(name)))"
      ],
      "execution_count": 102,
      "outputs": [
        {
          "output_type": "stream",
          "text": [
            "bias_weights: [1.345691]\n",
            "households: [[3.8440478]]\n",
            "housing_median_age: [[0.56090194]]\n",
            "latitude: [[-2.4159265]]\n",
            "longitude: [[-2.7148063]]\n",
            "median_income: [[5.772712]]\n",
            "ocean_proximity: [[1.3340185 ]\n",
            " [0.93800086]\n",
            " [2.5701585 ]\n",
            " [1.065063  ]\n",
            " [1.1504749 ]]\n",
            "population: [[-15.337685]]\n",
            "total_bedrooms: [[6.227718]]\n",
            "total_rooms: [[-1.8906599]]\n"
          ],
          "name": "stdout"
        }
      ]
    },
    {
      "cell_type": "markdown",
      "metadata": {
        "id": "dDwJQyTtI-f-"
      },
      "source": [
        "---"
      ]
    }
  ]
}