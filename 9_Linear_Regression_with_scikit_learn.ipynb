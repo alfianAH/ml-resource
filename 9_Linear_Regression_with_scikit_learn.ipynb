{
  "nbformat": 4,
  "nbformat_minor": 0,
  "metadata": {
    "colab": {
      "name": "#9-Linear Regression with scikit-learn.ipynb",
      "provenance": [],
      "collapsed_sections": [
        "copyright",
        "lY0RT_8fGgD1",
        "Nwo_ivq3IuZB",
        "K-aV3H3vJcjm",
        "exercise-1-key-1",
        "exercise-2-key-1",
        "exercise-3-key-1",
        "exercise-4-key-1",
        "exercise-5-key-1",
        "exercise-6-key-1",
        "exercise-7-key-1",
        "exercise-8-key-1",
        "exercise-9-key-1",
        "exercise-10-key-1"
      ],
      "toc_visible": true,
      "include_colab_link": true
    },
    "kernelspec": {
      "display_name": "Python 3",
      "name": "python3"
    }
  },
  "cells": [
    {
      "cell_type": "markdown",
      "metadata": {
        "id": "view-in-github",
        "colab_type": "text"
      },
      "source": [
        "<a href=\"https://colab.research.google.com/github/alfianAH/ml-resource/blob/main/9_Linear_Regression_with_scikit_learn.ipynb\" target=\"_parent\"><img src=\"https://colab.research.google.com/assets/colab-badge.svg\" alt=\"Open In Colab\"/></a>"
      ]
    },
    {
      "cell_type": "markdown",
      "metadata": {
        "id": "copyright"
      },
      "source": [
        "#### Copyright 2020 Google LLC."
      ]
    },
    {
      "cell_type": "code",
      "metadata": {
        "id": "GTcSKOCAomf-"
      },
      "source": [
        "# Licensed under the Apache License, Version 2.0 (the \"License\");\n",
        "# you may not use this file except in compliance with the License.\n",
        "# You may obtain a copy of the License at\n",
        "#\n",
        "# https://www.apache.org/licenses/LICENSE-2.0\n",
        "#\n",
        "# Unless required by applicable law or agreed to in writing, software\n",
        "# distributed under the License is distributed on an \"AS IS\" BASIS,\n",
        "# WITHOUT WARRANTIES OR CONDITIONS OF ANY KIND, either express or implied.\n",
        "# See the License for the specific language governing permissions and\n",
        "# limitations under the License."
      ],
      "execution_count": null,
      "outputs": []
    },
    {
      "cell_type": "markdown",
      "metadata": {
        "id": "Lsn0Av7YmMza"
      },
      "source": [
        "# Linear Regression With `scikit-learn`"
      ]
    },
    {
      "cell_type": "markdown",
      "metadata": {
        "id": "Lsn0Ag7YmMza"
      },
      "source": [
        "We have learned about linear regression in theory. Now let's put our newly-acquired skills into practice! In this Colab we will create multiple linear regression models using the scikit-learn toolkit."
      ]
    },
    {
      "cell_type": "markdown",
      "metadata": {
        "id": "VWTTVoS4OoQ2"
      },
      "source": [
        "# Creating a Dataset\n",
        "\n",
        "In this Colab we will explore different methods of applying linear regression to a dataset. If the dataset is small enough, the coefficients of a linear regression can be calculated via a simple equation. If the dataset is large, we need to use computing algorithms such as sampling and batching to calculate the coefficients.\n",
        "\n",
        "But before we get started, let's create some sample data to perform our regression on. The code below creates 1000 data points. The x-coordinates are called `coffee`, and the y-coordinates are called `energy`. So this regression is trying to predict a person's energy based on coffee intake."
      ]
    },
    {
      "cell_type": "code",
      "metadata": {
        "id": "6_TyEuBi_qul"
      },
      "source": [
        "import numpy as np\n",
        "\n",
        "np.random.seed(213)\n",
        "\n",
        "# The size of the dataset that we'll be using to perform our linear regression.\n",
        "DATA_SET_SIZE = 1000\n",
        "\n",
        "# The maximum value of the x coordinate. The range of values of X will be\n",
        "# (0, X_MAX).\n",
        "X_MAX = 5\n",
        "\n",
        "# The y-intercept and slope are values that we'll be trying to predict via\n",
        "# linear regression.\n",
        "INTERCEPT = 4\n",
        "SLOPE = 3\n",
        "\n",
        "# Generate the x-coordinates (coffee intake) for our dataset.\n",
        "coffee = X_MAX * np.random.rand(DATA_SET_SIZE, 1)\n",
        "\n",
        "# Generate the y-coordinates (energy level) for our dataset using the linear\n",
        "# equation y = mx + b.\n",
        "energy = SLOPE * coffee + INTERCEPT"
      ],
      "execution_count": null,
      "outputs": []
    },
    {
      "cell_type": "markdown",
      "metadata": {
        "id": "cAsf4qWOSQfP"
      },
      "source": [
        "Let's take a look at the dataset that was just generated."
      ]
    },
    {
      "cell_type": "code",
      "metadata": {
        "id": "QcnLIrlBRWS5",
        "colab": {
          "base_uri": "https://localhost:8080/",
          "height": 265
        },
        "outputId": "ba432e25-fc9e-49ba-956a-eadde6f4ee01"
      },
      "source": [
        "import matplotlib\n",
        "import matplotlib.pyplot as plt\n",
        "\n",
        "plt.plot(coffee, energy, 'b.')\n",
        "plt.show()"
      ],
      "execution_count": null,
      "outputs": [
        {
          "output_type": "display_data",
          "data": {
            "image/png": "[encoded data removed]",
            "text/plain": [
              "<Figure size 432x288 with 1 Axes>"
            ]
          },
          "metadata": {
            "tags": [],
            "needs_background": "light"
          }
        }
      ]
    },
    {
      "cell_type": "markdown",
      "metadata": {
        "id": "o9_bV-puRYsM"
      },
      "source": [
        "The dataset does indeed have an $x$ range from 0 to the max $x$-value of 5. Notice that the $y$-intercept and slope match our seeded values.\n",
        "\n",
        "This dataset looks nothing like what we'd see in the real world, though. It would be trivial to fit a line to the data as is; the data is already a straight line. Let's add a little randomness to the data to make it more realistic."
      ]
    },
    {
      "cell_type": "code",
      "metadata": {
        "id": "hIidIGmLR2QG",
        "colab": {
          "base_uri": "https://localhost:8080/",
          "height": 265
        },
        "outputId": "72de1a4c-742a-4ebb-b758-a59eb4dc9e61"
      },
      "source": [
        "energy = energy + 2 * np.random.randn(DATA_SET_SIZE, 1)\n",
        "\n",
        "plt.plot(coffee, energy, 'b.')\n",
        "plt.show()"
      ],
      "execution_count": null,
      "outputs": [
        {
          "output_type": "display_data",
          "data": {
            "image/png": "[encoded data removed]",
            "text/plain": [
              "<Figure size 432x288 with 1 Axes>"
            ]
          },
          "metadata": {
            "tags": [],
            "needs_background": "light"
          }
        }
      ]
    },
    {
      "cell_type": "markdown",
      "metadata": {
        "id": "_teA7dekSCbu"
      },
      "source": [
        "That's much better! There is still a linear trend to the data, but there is much more noise."
      ]
    },
    {
      "cell_type": "markdown",
      "metadata": {
        "id": "pH3KFfPAdROS"
      },
      "source": [
        "# Running the Regression\n",
        "\n",
        "scikit-learn performs linear regression in its `LinearRegression` module."
      ]
    },
    {
      "cell_type": "code",
      "metadata": {
        "id": "372l9BTOFD09",
        "colab": {
          "base_uri": "https://localhost:8080/"
        },
        "outputId": "5d2b84a3-c263-460e-b7e8-c0ff887fcb81"
      },
      "source": [
        "from sklearn.linear_model import LinearRegression\n",
        "\n",
        "lin_reg = LinearRegression()\n",
        "lin_reg.fit(coffee, energy)\n",
        "lin_reg.coef_, lin_reg.intercept_"
      ],
      "execution_count": null,
      "outputs": [
        {
          "output_type": "execute_result",
          "data": {
            "text/plain": [
              "(array([[3.0263932]]), array([3.90939913]))"
            ]
          },
          "metadata": {
            "tags": []
          },
          "execution_count": 190
        }
      ]
    },
    {
      "cell_type": "markdown",
      "metadata": {
        "id": "ZDO1af98ehT2"
      },
      "source": [
        "Not bad! The random noise we added to the data prevented us from exactly predicting the slope and intercept, but our calculations were pretty close.\n",
        "\n",
        "We can use this slope and intercept to predict new $y$-values given some $x$-values."
      ]
    },
    {
      "cell_type": "code",
      "metadata": {
        "id": "cCBGwUFlFQf8",
        "colab": {
          "base_uri": "https://localhost:8080/"
        },
        "outputId": "2bd6e0c1-6c43-49f4-c96f-3591479cbaaa"
      },
      "source": [
        "coffee_ = np.array([[0.34], [1.65], [2.45], [3.78], [4.56]])\n",
        "\n",
        "energy_predict = lin_reg.predict(coffee_)\n",
        "energy_predict"
      ],
      "execution_count": null,
      "outputs": [
        {
          "output_type": "execute_result",
          "data": {
            "text/plain": [
              "array([[ 4.93837282],\n",
              "       [ 8.90294791],\n",
              "       [11.32406248],\n",
              "       [15.34916544],\n",
              "       [17.70975213]])"
            ]
          },
          "metadata": {
            "tags": []
          },
          "execution_count": 191
        }
      ]
    },
    {
      "cell_type": "code",
      "metadata": {
        "id": "79D5EP8CfEZ6",
        "colab": {
          "base_uri": "https://localhost:8080/",
          "height": 265
        },
        "outputId": "ab5b27bb-6a55-435d-b9a9-136360d3d082"
      },
      "source": [
        "plt.plot(coffee, energy, 'b.')\n",
        "plt.plot(coffee_, energy_predict, 'r.')\n",
        "plt.show()"
      ],
      "execution_count": null,
      "outputs": [
        {
          "output_type": "display_data",
          "data": {
            "image/png": "[encoded data removed]",
            "text/plain": [
              "<Figure size 432x288 with 1 Axes>"
            ]
          },
          "metadata": {
            "tags": [],
            "needs_background": "light"
          }
        }
      ]
    },
    {
      "cell_type": "markdown",
      "metadata": {
        "id": "2k_FnFl9fTVR"
      },
      "source": [
        "And we can use two extreme $x$-values 0 and `X_MAX` to draw the regression line."
      ]
    },
    {
      "cell_type": "code",
      "metadata": {
        "id": "N1IdQ92Yfa64",
        "colab": {
          "base_uri": "https://localhost:8080/",
          "height": 265
        },
        "outputId": "47a1f0e7-1bac-43b4-a226-6f6185f9b140"
      },
      "source": [
        "coffee_ = np.array([[0.0], [X_MAX]])\n",
        "energy_predict = lin_reg.predict(coffee_)\n",
        "\n",
        "plt.plot(coffee, energy, 'b.')\n",
        "plt.plot(coffee_, energy_predict, 'r-')\n",
        "plt.show()"
      ],
      "execution_count": null,
      "outputs": [
        {
          "output_type": "display_data",
          "data": {
            "image/png": "[encoded data removed]",
            "text/plain": [
              "<Figure size 432x288 with 1 Axes>"
            ]
          },
          "metadata": {
            "tags": [],
            "needs_background": "light"
          }
        }
      ]
    },
    {
      "cell_type": "markdown",
      "metadata": {
        "id": "-IbhNb9sfoXc"
      },
      "source": [
        "# Stochastic Gradient Descent\n",
        "\n",
        "It is not always practical to run a linear regression using the entire training data set. For cases where training using the entire set is impractical, the stochastic gradient descent method can be used. In scikit-learn this is implemented via the `SGDRegressor`."
      ]
    },
    {
      "cell_type": "code",
      "metadata": {
        "id": "_1ad3bCyHFHY",
        "colab": {
          "base_uri": "https://localhost:8080/"
        },
        "outputId": "17c581c9-c557-45e8-f2a7-cde98894a167"
      },
      "source": [
        "from sklearn.linear_model import SGDRegressor\n",
        "\n",
        "# Create a new Stochastic Gradient Descent regressor.\n",
        "sgd_reg = SGDRegressor()\n",
        "\n",
        "# Fit the model.\n",
        "sgd_reg.fit(coffee, energy.ravel())\n",
        "\n",
        "# Display the slope and intercept.\n",
        "sgd_reg.coef_, sgd_reg.intercept_"
      ],
      "execution_count": null,
      "outputs": [
        {
          "output_type": "execute_result",
          "data": {
            "text/plain": [
              "(array([3.09924724]), array([3.88926376]))"
            ]
          },
          "metadata": {
            "tags": []
          },
          "execution_count": 194
        }
      ]
    },
    {
      "cell_type": "markdown",
      "metadata": {
        "id": "HiPCUcIog3Tv"
      },
      "source": [
        "You might notice that the slope and intercept aren't as accurate as what we were getting when processing the entire dataset. This is because the SGDRegressor is only using a subset of the training data."
      ]
    },
    {
      "cell_type": "markdown",
      "metadata": {
        "id": "6070sBV2hGwZ"
      },
      "source": [
        "Let's compare the regression lines calculated by the full linear regressor and the SGD one."
      ]
    },
    {
      "cell_type": "code",
      "metadata": {
        "id": "v0tqrFIlhO4f",
        "colab": {
          "base_uri": "https://localhost:8080/",
          "height": 265
        },
        "outputId": "f5f139a8-5c99-4323-9962-3a1abde450a7"
      },
      "source": [
        "coffee_ = np.array([[0.0], [5.0]])\n",
        "\n",
        "lin_predict = lin_reg.predict(coffee_)\n",
        "sgd_predict = sgd_reg.predict(coffee_)\n",
        "\n",
        "plt.plot(coffee, energy, 'b.')\n",
        "plt.plot(coffee_, lin_predict, 'r-')\n",
        "plt.plot(coffee_, sgd_predict, 'g-')\n",
        "plt.show()"
      ],
      "execution_count": null,
      "outputs": [
        {
          "output_type": "display_data",
          "data": {
            "image/png": "[encoded data removed]",
            "text/plain": [
              "<Figure size 432x288 with 1 Axes>"
            ]
          },
          "metadata": {
            "tags": [],
            "needs_background": "light"
          }
        }
      ]
    },
    {
      "cell_type": "markdown",
      "metadata": {
        "id": "BM6d6zJdtS0F"
      },
      "source": [
        "It might be hard to see, but the red and green lines are *almost* the same but not quite."
      ]
    },
    {
      "cell_type": "markdown",
      "metadata": {
        "id": "IYeviiuNi_Ut"
      },
      "source": [
        "### Challenge: Regressor Parameters\n",
        "\n",
        "The SGDRegressor has many parameters that can be tuned. Out of the box, our regressor didn't do that well. Let's see if we can tune some of the parameters of the regressor to get its predicted values for the slope and intercept closer to those we predicted using the entire dataset.\n",
        "\n",
        "Check out the [SGDRegressor documentation](https://scikit-learn.org/stable/modules/generated/sklearn.linear_model.SGDRegressor.html) and look over the parameters available. Pay special attention to parameters related to learning rate and iterations over the data. See if you can tweak the parameters to get within some threshold `EPISLON` of the calculated values below."
      ]
    },
    {
      "cell_type": "code",
      "metadata": {
        "id": "Cszel2xOhsXm",
        "colab": {
          "base_uri": "https://localhost:8080/"
        },
        "outputId": "d6e34333-1314-428a-feaa-9b1907c1ce35"
      },
      "source": [
        "import numpy as np\n",
        "from sklearn.linear_model import SGDRegressor\n",
        "\n",
        "np.random.seed(21)\n",
        "\n",
        "# Initialize the dataset attributes.\n",
        "DATA_SET_SIZE = 1000\n",
        "X_MAX = 5\n",
        "INTERCEPT = 4\n",
        "SLOPE = 3\n",
        "\n",
        "# Generate the randomized dataset.\n",
        "coffee = X_MAX * np.random.rand(DATA_SET_SIZE, 1)\n",
        "energy = SLOPE * coffee + INTERCEPT + 2 * np.random.randn(DATA_SET_SIZE, 1)\n",
        "\n",
        "sgd_reg = SGDRegressor(\n",
        "    # TODO(you): Update the parameters to SGDRegressor.\n",
        "    learning_rate='adaptive',\n",
        "    n_iter_no_change=100\n",
        ")\n",
        "\n",
        "# Fit the model.\n",
        "sgd_reg.fit(coffee, energy.ravel())\n",
        "\n",
        "EPSILON = 0.05\n",
        "\n",
        "print(sgd_reg.coef_, sgd_reg.intercept_)\n",
        "if abs(SLOPE - sgd_reg.coef_) < EPSILON and abs(INTERCEPT - sgd_reg.intercept_) < EPSILON:\n",
        "  print(\"You win!\")\n",
        "else:\n",
        "  print(\"Try again :(\")"
      ],
      "execution_count": null,
      "outputs": [
        {
          "output_type": "stream",
          "text": [
            "[2.99098809] [3.98781232]\n",
            "You win!\n"
          ],
          "name": "stdout"
        }
      ]
    },
    {
      "cell_type": "markdown",
      "metadata": {
        "id": "0KM7txB7CZXL"
      },
      "source": [
        "---"
      ]
    },
    {
      "cell_type": "markdown",
      "metadata": {
        "id": "TftzlfnrS9jp"
      },
      "source": [
        "# Optional: The Normal Equation\n",
        "\n",
        "If the dataset being processed is small enough, then the slope and $y$-intercept of the regression line can be calculated in-memory exactly. The matrix normal equation can easily be written in NumPy, as seen below."
      ]
    },
    {
      "cell_type": "code",
      "metadata": {
        "id": "6dHn3z3dC0R3",
        "colab": {
          "base_uri": "https://localhost:8080/"
        },
        "outputId": "ab023c61-c3c4-4269-9fd4-a09e39df5742"
      },
      "source": [
        "# x is an Nx1 matrix containing our x-values. The first step in calculating the\n",
        "# normal equation is to create an Nx2 matrix where each \"row\" has the value 1\n",
        "# and the x value.\n",
        "coffee_ = np.c_[np.ones((DATA_SET_SIZE, 1)), coffee]\n",
        "\n",
        "norm = np.linalg.inv(coffee_.T.dot(coffee_)).dot(coffee_.T).dot(energy)\n",
        "print(\"Norm: \\n{}\".format(norm))\n",
        "\n",
        "calculated_intercept = norm[0][0]\n",
        "calculated_slope = norm[1][0]\n",
        "\n",
        "print(\"Calculated slope {} vs actual {}\".format(calculated_slope, SLOPE))\n",
        "print(\"Calculated intercept {} vs actual {}\".format(calculated_intercept,\n",
        "                                                    INTERCEPT))"
      ],
      "execution_count": null,
      "outputs": [
        {
          "output_type": "stream",
          "text": [
            "Norm: \n",
            "[[3.98715409]\n",
            " [2.9912319 ]]\n",
            "Calculated slope 2.9912319026307017 vs actual 3\n",
            "Calculated intercept 3.9871540868029376 vs actual 4\n"
          ],
          "name": "stdout"
        }
      ]
    },
    {
      "cell_type": "markdown",
      "metadata": {
        "id": "H0pdPAEisg0D"
      },
      "source": [
        "Notice that these values are the same as scikit-learn calculated above.\n",
        "\n",
        "We can now use these values to make predictions."
      ]
    },
    {
      "cell_type": "code",
      "metadata": {
        "id": "8w9L1n4tD3Ol",
        "colab": {
          "base_uri": "https://localhost:8080/",
          "height": 265
        },
        "outputId": "6d4b954d-f164-4d19-b6c4-4cd8bd596cf8"
      },
      "source": [
        "# Create a (5,1) matrix containing values to make predictions on.\n",
        "coffee_ = np.array([[0.34], [1.65], [2.45], [3.78], [4.56]])\n",
        "\n",
        "# Convert the matrix to a (5, 2) matrix with ones in the first column\n",
        "# in order to perform a dot-product against the calculated slope and\n",
        "# intercept.\n",
        "coffee_predict = np.c_[np.ones((5, 1)), coffee_]\n",
        "\n",
        "# Make the predictions.\n",
        "energy_predict = coffee_predict.dot(norm)\n",
        "\n",
        "# Plot the original data as blue dots.\n",
        "plt.plot(coffee, energy, 'b.')\n",
        "\n",
        "# Plot the predictions as red dots.\n",
        "plt.plot(coffee_, energy_predict, 'r.')\n",
        "plt.show()"
      ],
      "execution_count": null,
      "outputs": [
        {
          "output_type": "display_data",
          "data": {
            "image/png": "[encoded data removed]",
            "text/plain": [
              "<Figure size 432x288 with 1 Axes>"
            ]
          },
          "metadata": {
            "tags": [],
            "needs_background": "light"
          }
        }
      ]
    },
    {
      "cell_type": "markdown",
      "metadata": {
        "id": "r2dvyzHEYLOm"
      },
      "source": [
        "To plot the calculated line as we did for the scikit-learn regression, we can just plug in 0 and 5 (`X_MAX`) to the equation."
      ]
    },
    {
      "cell_type": "code",
      "metadata": {
        "id": "U9g-KRzoYUpH",
        "colab": {
          "base_uri": "https://localhost:8080/",
          "height": 265
        },
        "outputId": "528343ac-6693-4291-a172-bc40c018fd09"
      },
      "source": [
        "coffee_ = np.array([[0.0], [X_MAX]])\n",
        "coffee_predict = np.c_[np.ones((2,1)), coffee_]\n",
        "energy_predict = coffee_predict.dot(norm)\n",
        "\n",
        "plt.plot(coffee, energy, 'b.')\n",
        "plt.plot(coffee_, energy_predict, 'r-')\n",
        "plt.show()"
      ],
      "execution_count": null,
      "outputs": [
        {
          "output_type": "display_data",
          "data": {
            "image/png": "[encoded data removed]",
            "text/plain": [
              "<Figure size 432x288 with 1 Axes>"
            ]
          },
          "metadata": {
            "tags": [],
            "needs_background": "light"
          }
        }
      ]
    },
    {
      "cell_type": "markdown",
      "metadata": {
        "id": "2nqG8-MEc1SL"
      },
      "source": [
        "### Challenge: Pseudoinverse\n",
        "\n",
        "It turns out that the math operations used to calculate the Normal Equation are quite expensive. We'll explore other methods of performing a linear regression soon, but there is a purely mathematical optimization that has been discovered. The equation uses the **pseudoinverse** of the input matrix to predict $y$.\n",
        "\n",
        "Find the NumPy function that calculates the pseudoinverse of a matrix, and then use that function to write a more optimal method for finding the slope and intercept for a linear regression."
      ]
    },
    {
      "cell_type": "code",
      "metadata": {
        "id": "0ANUfb9xE412",
        "colab": {
          "base_uri": "https://localhost:8080/"
        },
        "outputId": "616d35b6-8df8-4cd9-d90d-4384d6f35094"
      },
      "source": [
        "import numpy as np\n",
        "\n",
        "np.random.seed(21)\n",
        "\n",
        "# Initialize the dataset attributes.\n",
        "DATA_SET_SIZE = 1000\n",
        "X_MAX = 5\n",
        "INTERCEPT = 4\n",
        "SLOPE = 3\n",
        "\n",
        "# Generate the dataset.\n",
        "coffee = X_MAX * np.random.rand(DATA_SET_SIZE, 1)\n",
        "energy = SLOPE * coffee + INTERCEPT\n",
        "\n",
        "# Create the matrix.\n",
        "coffee_ = np.c_[np.ones((DATA_SET_SIZE, 1)), coffee]\n",
        "\n",
        "# TODO(you): Update this line to perform an in-memory \n",
        "# calculation of a linear regression using the optimized \n",
        "# pseudoinverse equation in the place of the [[0], [0]]\n",
        "# matrix.\n",
        "norm2 = np.linalg.pinv(coffee_.T.dot(coffee_)).dot(coffee_.T).dot(energy)\n",
        "print(\"Norm2: \\n{}\".format(norm2))\n",
        "\n",
        "calculated_intercept2 = norm2[0][0] \n",
        "calculated_slope2 = norm2[1][0]\n",
        "\n",
        "EPSILON = 0.00001\n",
        "\n",
        "if (abs(SLOPE - calculated_slope2) < EPSILON and\n",
        "    (abs(INTERCEPT - calculated_intercept2)) < EPSILON):\n",
        "  print(\"You win!\")\n",
        "else:\n",
        "  print(\"Try again :(\")"
      ],
      "execution_count": null,
      "outputs": [
        {
          "output_type": "stream",
          "text": [
            "Norm2: \n",
            "[[4.]\n",
            " [3.]]\n",
            "You win!\n"
          ],
          "name": "stdout"
        }
      ]
    },
    {
      "cell_type": "markdown",
      "metadata": {
        "id": "i48pOk-KHW3L"
      },
      "source": [
        "---"
      ]
    },
    {
      "cell_type": "markdown",
      "metadata": {
        "id": "hhnHS71gkTGG"
      },
      "source": [
        "# Exercises\n",
        "\n",
        "For these exercises, we will download a CSV of life expectancies from [GapMinder](https://www.gapminder.org/data/) and create a linear regression predicting life expectancy in the United States."
      ]
    },
    {
      "cell_type": "markdown",
      "metadata": {
        "id": "TeZpmfYslA0n"
      },
      "source": [
        "## Exercise 1: Obtain the Data"
      ]
    },
    {
      "cell_type": "markdown",
      "metadata": {
        "id": "MAp0fOaingQL"
      },
      "source": [
        "Download a CSV of life expectancy data from [GapMinder](https://www.gapminder.org/data/), upload it to this Colab, and read the data into memory using Pandas.\n",
        "\n",
        "Examine the data using describe."
      ]
    },
    {
      "cell_type": "markdown",
      "metadata": {
        "id": "4k9TCn3KQpVe"
      },
      "source": [
        "### Student Solution"
      ]
    },
    {
      "cell_type": "code",
      "metadata": {
        "id": "wzylGqFydG7R",
        "colab": {
          "base_uri": "https://localhost:8080/",
          "height": 349
        },
        "outputId": "13750bd9-07d7-4ecd-acba-80132d6fa0cc"
      },
      "source": [
        "# Your code goes here\n",
        "import pandas as pd\n",
        "\n",
        "df = pd.read_csv(\"life_expectancy_years.csv\")\n",
        "df.describe()"
      ],
      "execution_count": null,
      "outputs": [
        {
          "output_type": "execute_result",
          "data": {
            "text/html": [
              "<div>\n",
              "<style scoped>\n",
              "    .dataframe tbody tr th:only-of-type {\n",
              "        vertical-align: middle;\n",
              "    }\n",
              "\n",
              "    .dataframe tbody tr th {\n",
              "        vertical-align: top;\n",
              "    }\n",
              "\n",
              "    .dataframe thead th {\n",
              "        text-align: right;\n",
              "    }\n",
              "</style>\n",
              "<table border=\"1\" class=\"dataframe\">\n",
              "  <thead>\n",
              "    <tr style=\"text-align: right;\">\n",
              "      <th></th>\n",
              "      <th>1800</th>\n",
              "      <th>1801</th>\n",
              "      <th>1802</th>\n",
              "      <th>1803</th>\n",
              "      <th>1804</th>\n",
              "      <th>1805</th>\n",
              "      <th>1806</th>\n",
              "      <th>1807</th>\n",
              "      <th>1808</th>\n",
              "      <th>1809</th>\n",
              "      <th>1810</th>\n",
              "      <th>1811</th>\n",
              "      <th>1812</th>\n",
              "      <th>1813</th>\n",
              "      <th>1814</th>\n",
              "      <th>1815</th>\n",
              "      <th>1816</th>\n",
              "      <th>1817</th>\n",
              "      <th>1818</th>\n",
              "      <th>1819</th>\n",
              "      <th>1820</th>\n",
              "      <th>1821</th>\n",
              "      <th>1822</th>\n",
              "      <th>1823</th>\n",
              "      <th>1824</th>\n",
              "      <th>1825</th>\n",
              "      <th>1826</th>\n",
              "      <th>1827</th>\n",
              "      <th>1828</th>\n",
              "      <th>1829</th>\n",
              "      <th>1830</th>\n",
              "      <th>1831</th>\n",
              "      <th>1832</th>\n",
              "      <th>1833</th>\n",
              "      <th>1834</th>\n",
              "      <th>1835</th>\n",
              "      <th>1836</th>\n",
              "      <th>1837</th>\n",
              "      <th>1838</th>\n",
              "      <th>1839</th>\n",
              "      <th>...</th>\n",
              "      <th>2061</th>\n",
              "      <th>2062</th>\n",
              "      <th>2063</th>\n",
              "      <th>2064</th>\n",
              "      <th>2065</th>\n",
              "      <th>2066</th>\n",
              "      <th>2067</th>\n",
              "      <th>2068</th>\n",
              "      <th>2069</th>\n",
              "      <th>2070</th>\n",
              "      <th>2071</th>\n",
              "      <th>2072</th>\n",
              "      <th>2073</th>\n",
              "      <th>2074</th>\n",
              "      <th>2075</th>\n",
              "      <th>2076</th>\n",
              "      <th>2077</th>\n",
              "      <th>2078</th>\n",
              "      <th>2079</th>\n",
              "      <th>2080</th>\n",
              "      <th>2081</th>\n",
              "      <th>2082</th>\n",
              "      <th>2083</th>\n",
              "      <th>2084</th>\n",
              "      <th>2085</th>\n",
              "      <th>2086</th>\n",
              "      <th>2087</th>\n",
              "      <th>2088</th>\n",
              "      <th>2089</th>\n",
              "      <th>2090</th>\n",
              "      <th>2091</th>\n",
              "      <th>2092</th>\n",
              "      <th>2093</th>\n",
              "      <th>2094</th>\n",
              "      <th>2095</th>\n",
              "      <th>2096</th>\n",
              "      <th>2097</th>\n",
              "      <th>2098</th>\n",
              "      <th>2099</th>\n",
              "      <th>2100</th>\n",
              "    </tr>\n",
              "  </thead>\n",
              "  <tbody>\n",
              "    <tr>\n",
              "      <th>count</th>\n",
              "      <td>184.000000</td>\n",
              "      <td>184.000000</td>\n",
              "      <td>184.000000</td>\n",
              "      <td>184.000000</td>\n",
              "      <td>184.000000</td>\n",
              "      <td>184.000000</td>\n",
              "      <td>184.000000</td>\n",
              "      <td>184.000000</td>\n",
              "      <td>184.000000</td>\n",
              "      <td>184.000000</td>\n",
              "      <td>184.000000</td>\n",
              "      <td>184.000000</td>\n",
              "      <td>184.00000</td>\n",
              "      <td>184.000000</td>\n",
              "      <td>184.000000</td>\n",
              "      <td>184.000000</td>\n",
              "      <td>184.000000</td>\n",
              "      <td>184.000000</td>\n",
              "      <td>184.000000</td>\n",
              "      <td>184.000000</td>\n",
              "      <td>184.000000</td>\n",
              "      <td>184.000000</td>\n",
              "      <td>184.000000</td>\n",
              "      <td>184.000000</td>\n",
              "      <td>184.000000</td>\n",
              "      <td>184.000000</td>\n",
              "      <td>184.000000</td>\n",
              "      <td>184.000000</td>\n",
              "      <td>184.000000</td>\n",
              "      <td>184.000000</td>\n",
              "      <td>184.000000</td>\n",
              "      <td>184.000000</td>\n",
              "      <td>184.000000</td>\n",
              "      <td>184.00000</td>\n",
              "      <td>184.000000</td>\n",
              "      <td>184.000000</td>\n",
              "      <td>184.000000</td>\n",
              "      <td>184.000000</td>\n",
              "      <td>184.000000</td>\n",
              "      <td>184.000000</td>\n",
              "      <td>...</td>\n",
              "      <td>184.000000</td>\n",
              "      <td>184.000000</td>\n",
              "      <td>184.000000</td>\n",
              "      <td>184.000000</td>\n",
              "      <td>184.000000</td>\n",
              "      <td>184.000000</td>\n",
              "      <td>184.000000</td>\n",
              "      <td>184.000000</td>\n",
              "      <td>184.000000</td>\n",
              "      <td>184.000000</td>\n",
              "      <td>184.000000</td>\n",
              "      <td>184.000000</td>\n",
              "      <td>184.000000</td>\n",
              "      <td>184.000000</td>\n",
              "      <td>184.000000</td>\n",
              "      <td>184.000000</td>\n",
              "      <td>184.000000</td>\n",
              "      <td>184.000000</td>\n",
              "      <td>184.000000</td>\n",
              "      <td>184.000000</td>\n",
              "      <td>184.000000</td>\n",
              "      <td>184.000000</td>\n",
              "      <td>184.000000</td>\n",
              "      <td>184.000000</td>\n",
              "      <td>184.000000</td>\n",
              "      <td>184.000000</td>\n",
              "      <td>184.000000</td>\n",
              "      <td>184.000000</td>\n",
              "      <td>184.000000</td>\n",
              "      <td>184.000000</td>\n",
              "      <td>184.000000</td>\n",
              "      <td>184.00000</td>\n",
              "      <td>184.000000</td>\n",
              "      <td>184.000000</td>\n",
              "      <td>184.000000</td>\n",
              "      <td>184.000000</td>\n",
              "      <td>184.000000</td>\n",
              "      <td>184.000000</td>\n",
              "      <td>184.00000</td>\n",
              "      <td>184.000000</td>\n",
              "    </tr>\n",
              "    <tr>\n",
              "      <th>mean</th>\n",
              "      <td>31.502717</td>\n",
              "      <td>31.461957</td>\n",
              "      <td>31.478804</td>\n",
              "      <td>31.383152</td>\n",
              "      <td>31.459239</td>\n",
              "      <td>31.586413</td>\n",
              "      <td>31.644565</td>\n",
              "      <td>31.598370</td>\n",
              "      <td>31.383152</td>\n",
              "      <td>31.310326</td>\n",
              "      <td>31.541848</td>\n",
              "      <td>31.498370</td>\n",
              "      <td>31.48750</td>\n",
              "      <td>31.482609</td>\n",
              "      <td>31.535326</td>\n",
              "      <td>31.678804</td>\n",
              "      <td>31.656522</td>\n",
              "      <td>31.759239</td>\n",
              "      <td>31.599457</td>\n",
              "      <td>31.504891</td>\n",
              "      <td>31.584239</td>\n",
              "      <td>31.649457</td>\n",
              "      <td>31.760870</td>\n",
              "      <td>31.813587</td>\n",
              "      <td>31.746196</td>\n",
              "      <td>31.698913</td>\n",
              "      <td>31.623370</td>\n",
              "      <td>31.663043</td>\n",
              "      <td>31.601630</td>\n",
              "      <td>31.583696</td>\n",
              "      <td>31.670652</td>\n",
              "      <td>31.632609</td>\n",
              "      <td>31.593478</td>\n",
              "      <td>31.58913</td>\n",
              "      <td>31.575000</td>\n",
              "      <td>31.708696</td>\n",
              "      <td>31.672283</td>\n",
              "      <td>31.605978</td>\n",
              "      <td>31.671739</td>\n",
              "      <td>31.661957</td>\n",
              "      <td>...</td>\n",
              "      <td>79.963043</td>\n",
              "      <td>80.098370</td>\n",
              "      <td>80.235326</td>\n",
              "      <td>80.363587</td>\n",
              "      <td>80.496196</td>\n",
              "      <td>80.625000</td>\n",
              "      <td>80.759239</td>\n",
              "      <td>80.889130</td>\n",
              "      <td>81.013587</td>\n",
              "      <td>81.150000</td>\n",
              "      <td>81.269022</td>\n",
              "      <td>81.404891</td>\n",
              "      <td>81.532609</td>\n",
              "      <td>81.661413</td>\n",
              "      <td>81.784783</td>\n",
              "      <td>81.913043</td>\n",
              "      <td>82.040217</td>\n",
              "      <td>82.165217</td>\n",
              "      <td>82.284783</td>\n",
              "      <td>82.411957</td>\n",
              "      <td>82.534239</td>\n",
              "      <td>82.657065</td>\n",
              "      <td>82.784239</td>\n",
              "      <td>82.905435</td>\n",
              "      <td>83.031522</td>\n",
              "      <td>83.147826</td>\n",
              "      <td>83.272283</td>\n",
              "      <td>83.392391</td>\n",
              "      <td>83.516304</td>\n",
              "      <td>83.632609</td>\n",
              "      <td>83.758152</td>\n",
              "      <td>83.87663</td>\n",
              "      <td>83.996196</td>\n",
              "      <td>84.119022</td>\n",
              "      <td>84.236957</td>\n",
              "      <td>84.358152</td>\n",
              "      <td>84.478804</td>\n",
              "      <td>84.593478</td>\n",
              "      <td>84.71087</td>\n",
              "      <td>84.829891</td>\n",
              "    </tr>\n",
              "    <tr>\n",
              "      <th>std</th>\n",
              "      <td>3.814689</td>\n",
              "      <td>3.806303</td>\n",
              "      <td>3.938674</td>\n",
              "      <td>3.962376</td>\n",
              "      <td>3.934674</td>\n",
              "      <td>4.010884</td>\n",
              "      <td>4.110598</td>\n",
              "      <td>3.981247</td>\n",
              "      <td>4.087872</td>\n",
              "      <td>4.040580</td>\n",
              "      <td>3.876655</td>\n",
              "      <td>3.795129</td>\n",
              "      <td>3.89834</td>\n",
              "      <td>3.808951</td>\n",
              "      <td>3.863773</td>\n",
              "      <td>4.134360</td>\n",
              "      <td>4.115074</td>\n",
              "      <td>4.329783</td>\n",
              "      <td>4.650207</td>\n",
              "      <td>4.653000</td>\n",
              "      <td>4.555057</td>\n",
              "      <td>4.049961</td>\n",
              "      <td>4.289406</td>\n",
              "      <td>4.393920</td>\n",
              "      <td>4.222071</td>\n",
              "      <td>4.175167</td>\n",
              "      <td>4.089524</td>\n",
              "      <td>4.190262</td>\n",
              "      <td>3.997205</td>\n",
              "      <td>3.946826</td>\n",
              "      <td>4.064965</td>\n",
              "      <td>4.007646</td>\n",
              "      <td>4.018028</td>\n",
              "      <td>4.12223</td>\n",
              "      <td>3.933828</td>\n",
              "      <td>4.178494</td>\n",
              "      <td>4.150034</td>\n",
              "      <td>4.042549</td>\n",
              "      <td>4.067594</td>\n",
              "      <td>4.127261</td>\n",
              "      <td>...</td>\n",
              "      <td>5.834535</td>\n",
              "      <td>5.829429</td>\n",
              "      <td>5.819367</td>\n",
              "      <td>5.808598</td>\n",
              "      <td>5.805004</td>\n",
              "      <td>5.795422</td>\n",
              "      <td>5.788364</td>\n",
              "      <td>5.782004</td>\n",
              "      <td>5.774495</td>\n",
              "      <td>5.762997</td>\n",
              "      <td>5.759816</td>\n",
              "      <td>5.748388</td>\n",
              "      <td>5.738178</td>\n",
              "      <td>5.732934</td>\n",
              "      <td>5.727356</td>\n",
              "      <td>5.719351</td>\n",
              "      <td>5.712522</td>\n",
              "      <td>5.700483</td>\n",
              "      <td>5.695688</td>\n",
              "      <td>5.689802</td>\n",
              "      <td>5.677111</td>\n",
              "      <td>5.677042</td>\n",
              "      <td>5.667559</td>\n",
              "      <td>5.657750</td>\n",
              "      <td>5.644223</td>\n",
              "      <td>5.641706</td>\n",
              "      <td>5.633714</td>\n",
              "      <td>5.622899</td>\n",
              "      <td>5.618447</td>\n",
              "      <td>5.607667</td>\n",
              "      <td>5.600794</td>\n",
              "      <td>5.59444</td>\n",
              "      <td>5.589074</td>\n",
              "      <td>5.577601</td>\n",
              "      <td>5.570850</td>\n",
              "      <td>5.566060</td>\n",
              "      <td>5.556903</td>\n",
              "      <td>5.550234</td>\n",
              "      <td>5.54055</td>\n",
              "      <td>5.532609</td>\n",
              "    </tr>\n",
              "    <tr>\n",
              "      <th>min</th>\n",
              "      <td>23.400000</td>\n",
              "      <td>23.400000</td>\n",
              "      <td>23.400000</td>\n",
              "      <td>19.600000</td>\n",
              "      <td>23.400000</td>\n",
              "      <td>23.400000</td>\n",
              "      <td>23.400000</td>\n",
              "      <td>23.400000</td>\n",
              "      <td>12.500000</td>\n",
              "      <td>13.400000</td>\n",
              "      <td>23.400000</td>\n",
              "      <td>23.400000</td>\n",
              "      <td>23.00000</td>\n",
              "      <td>23.400000</td>\n",
              "      <td>23.400000</td>\n",
              "      <td>23.400000</td>\n",
              "      <td>23.400000</td>\n",
              "      <td>23.400000</td>\n",
              "      <td>5.500000</td>\n",
              "      <td>1.500000</td>\n",
              "      <td>6.500000</td>\n",
              "      <td>23.400000</td>\n",
              "      <td>23.400000</td>\n",
              "      <td>23.400000</td>\n",
              "      <td>23.400000</td>\n",
              "      <td>23.400000</td>\n",
              "      <td>23.400000</td>\n",
              "      <td>23.400000</td>\n",
              "      <td>23.400000</td>\n",
              "      <td>23.400000</td>\n",
              "      <td>23.400000</td>\n",
              "      <td>23.400000</td>\n",
              "      <td>23.000000</td>\n",
              "      <td>20.40000</td>\n",
              "      <td>23.400000</td>\n",
              "      <td>23.400000</td>\n",
              "      <td>23.400000</td>\n",
              "      <td>23.400000</td>\n",
              "      <td>23.400000</td>\n",
              "      <td>23.400000</td>\n",
              "      <td>...</td>\n",
              "      <td>63.200000</td>\n",
              "      <td>63.400000</td>\n",
              "      <td>63.500000</td>\n",
              "      <td>63.700000</td>\n",
              "      <td>63.800000</td>\n",
              "      <td>64.000000</td>\n",
              "      <td>64.100000</td>\n",
              "      <td>64.300000</td>\n",
              "      <td>64.400000</td>\n",
              "      <td>64.500000</td>\n",
              "      <td>64.700000</td>\n",
              "      <td>64.800000</td>\n",
              "      <td>64.900000</td>\n",
              "      <td>65.100000</td>\n",
              "      <td>65.200000</td>\n",
              "      <td>65.300000</td>\n",
              "      <td>65.500000</td>\n",
              "      <td>65.600000</td>\n",
              "      <td>65.700000</td>\n",
              "      <td>65.800000</td>\n",
              "      <td>66.000000</td>\n",
              "      <td>66.100000</td>\n",
              "      <td>66.200000</td>\n",
              "      <td>66.300000</td>\n",
              "      <td>66.500000</td>\n",
              "      <td>66.600000</td>\n",
              "      <td>66.700000</td>\n",
              "      <td>66.800000</td>\n",
              "      <td>66.900000</td>\n",
              "      <td>67.000000</td>\n",
              "      <td>67.100000</td>\n",
              "      <td>67.30000</td>\n",
              "      <td>67.400000</td>\n",
              "      <td>67.500000</td>\n",
              "      <td>67.600000</td>\n",
              "      <td>67.700000</td>\n",
              "      <td>67.800000</td>\n",
              "      <td>67.900000</td>\n",
              "      <td>68.00000</td>\n",
              "      <td>68.100000</td>\n",
              "    </tr>\n",
              "    <tr>\n",
              "      <th>25%</th>\n",
              "      <td>29.075000</td>\n",
              "      <td>28.975000</td>\n",
              "      <td>28.900000</td>\n",
              "      <td>28.900000</td>\n",
              "      <td>28.975000</td>\n",
              "      <td>29.075000</td>\n",
              "      <td>29.075000</td>\n",
              "      <td>29.075000</td>\n",
              "      <td>28.975000</td>\n",
              "      <td>28.875000</td>\n",
              "      <td>29.075000</td>\n",
              "      <td>29.075000</td>\n",
              "      <td>29.07500</td>\n",
              "      <td>29.075000</td>\n",
              "      <td>29.075000</td>\n",
              "      <td>29.075000</td>\n",
              "      <td>29.075000</td>\n",
              "      <td>29.075000</td>\n",
              "      <td>29.075000</td>\n",
              "      <td>29.075000</td>\n",
              "      <td>29.150000</td>\n",
              "      <td>29.150000</td>\n",
              "      <td>29.150000</td>\n",
              "      <td>29.150000</td>\n",
              "      <td>29.150000</td>\n",
              "      <td>29.150000</td>\n",
              "      <td>28.975000</td>\n",
              "      <td>28.975000</td>\n",
              "      <td>28.975000</td>\n",
              "      <td>29.150000</td>\n",
              "      <td>29.150000</td>\n",
              "      <td>29.150000</td>\n",
              "      <td>29.150000</td>\n",
              "      <td>29.15000</td>\n",
              "      <td>29.150000</td>\n",
              "      <td>28.975000</td>\n",
              "      <td>29.150000</td>\n",
              "      <td>28.975000</td>\n",
              "      <td>29.150000</td>\n",
              "      <td>28.975000</td>\n",
              "      <td>...</td>\n",
              "      <td>75.500000</td>\n",
              "      <td>75.600000</td>\n",
              "      <td>75.775000</td>\n",
              "      <td>75.900000</td>\n",
              "      <td>76.000000</td>\n",
              "      <td>76.175000</td>\n",
              "      <td>76.300000</td>\n",
              "      <td>76.400000</td>\n",
              "      <td>76.575000</td>\n",
              "      <td>76.700000</td>\n",
              "      <td>76.800000</td>\n",
              "      <td>77.000000</td>\n",
              "      <td>77.100000</td>\n",
              "      <td>77.275000</td>\n",
              "      <td>77.375000</td>\n",
              "      <td>77.575000</td>\n",
              "      <td>77.675000</td>\n",
              "      <td>77.775000</td>\n",
              "      <td>77.975000</td>\n",
              "      <td>78.075000</td>\n",
              "      <td>78.250000</td>\n",
              "      <td>78.375000</td>\n",
              "      <td>78.475000</td>\n",
              "      <td>78.650000</td>\n",
              "      <td>78.775000</td>\n",
              "      <td>78.875000</td>\n",
              "      <td>79.000000</td>\n",
              "      <td>79.175000</td>\n",
              "      <td>79.275000</td>\n",
              "      <td>79.400000</td>\n",
              "      <td>79.500000</td>\n",
              "      <td>79.70000</td>\n",
              "      <td>79.800000</td>\n",
              "      <td>79.900000</td>\n",
              "      <td>80.075000</td>\n",
              "      <td>80.200000</td>\n",
              "      <td>80.375000</td>\n",
              "      <td>80.475000</td>\n",
              "      <td>80.57500</td>\n",
              "      <td>80.775000</td>\n",
              "    </tr>\n",
              "    <tr>\n",
              "      <th>50%</th>\n",
              "      <td>31.750000</td>\n",
              "      <td>31.650000</td>\n",
              "      <td>31.550000</td>\n",
              "      <td>31.500000</td>\n",
              "      <td>31.550000</td>\n",
              "      <td>31.650000</td>\n",
              "      <td>31.750000</td>\n",
              "      <td>31.750000</td>\n",
              "      <td>31.550000</td>\n",
              "      <td>31.500000</td>\n",
              "      <td>31.750000</td>\n",
              "      <td>31.650000</td>\n",
              "      <td>31.70000</td>\n",
              "      <td>31.650000</td>\n",
              "      <td>31.650000</td>\n",
              "      <td>31.750000</td>\n",
              "      <td>31.650000</td>\n",
              "      <td>31.750000</td>\n",
              "      <td>31.750000</td>\n",
              "      <td>31.750000</td>\n",
              "      <td>31.750000</td>\n",
              "      <td>31.650000</td>\n",
              "      <td>31.800000</td>\n",
              "      <td>31.800000</td>\n",
              "      <td>31.800000</td>\n",
              "      <td>31.800000</td>\n",
              "      <td>31.750000</td>\n",
              "      <td>31.750000</td>\n",
              "      <td>31.750000</td>\n",
              "      <td>31.750000</td>\n",
              "      <td>31.850000</td>\n",
              "      <td>31.800000</td>\n",
              "      <td>31.750000</td>\n",
              "      <td>31.80000</td>\n",
              "      <td>31.800000</td>\n",
              "      <td>31.800000</td>\n",
              "      <td>31.650000</td>\n",
              "      <td>31.800000</td>\n",
              "      <td>31.850000</td>\n",
              "      <td>31.800000</td>\n",
              "      <td>...</td>\n",
              "      <td>80.550000</td>\n",
              "      <td>80.700000</td>\n",
              "      <td>80.850000</td>\n",
              "      <td>81.000000</td>\n",
              "      <td>81.150000</td>\n",
              "      <td>81.250000</td>\n",
              "      <td>81.400000</td>\n",
              "      <td>81.550000</td>\n",
              "      <td>81.650000</td>\n",
              "      <td>81.800000</td>\n",
              "      <td>81.950000</td>\n",
              "      <td>82.050000</td>\n",
              "      <td>82.200000</td>\n",
              "      <td>82.300000</td>\n",
              "      <td>82.500000</td>\n",
              "      <td>82.600000</td>\n",
              "      <td>82.700000</td>\n",
              "      <td>82.800000</td>\n",
              "      <td>82.950000</td>\n",
              "      <td>83.050000</td>\n",
              "      <td>83.150000</td>\n",
              "      <td>83.250000</td>\n",
              "      <td>83.350000</td>\n",
              "      <td>83.450000</td>\n",
              "      <td>83.550000</td>\n",
              "      <td>83.700000</td>\n",
              "      <td>83.800000</td>\n",
              "      <td>83.900000</td>\n",
              "      <td>84.000000</td>\n",
              "      <td>84.100000</td>\n",
              "      <td>84.200000</td>\n",
              "      <td>84.35000</td>\n",
              "      <td>84.450000</td>\n",
              "      <td>84.550000</td>\n",
              "      <td>84.650000</td>\n",
              "      <td>84.750000</td>\n",
              "      <td>84.850000</td>\n",
              "      <td>85.000000</td>\n",
              "      <td>85.15000</td>\n",
              "      <td>85.250000</td>\n",
              "    </tr>\n",
              "    <tr>\n",
              "      <th>75%</th>\n",
              "      <td>33.825000</td>\n",
              "      <td>33.900000</td>\n",
              "      <td>33.825000</td>\n",
              "      <td>33.625000</td>\n",
              "      <td>33.725000</td>\n",
              "      <td>33.825000</td>\n",
              "      <td>33.925000</td>\n",
              "      <td>33.925000</td>\n",
              "      <td>33.725000</td>\n",
              "      <td>33.625000</td>\n",
              "      <td>33.825000</td>\n",
              "      <td>33.825000</td>\n",
              "      <td>33.82500</td>\n",
              "      <td>33.725000</td>\n",
              "      <td>33.925000</td>\n",
              "      <td>34.000000</td>\n",
              "      <td>33.925000</td>\n",
              "      <td>34.000000</td>\n",
              "      <td>34.000000</td>\n",
              "      <td>34.000000</td>\n",
              "      <td>34.000000</td>\n",
              "      <td>33.925000</td>\n",
              "      <td>34.000000</td>\n",
              "      <td>34.000000</td>\n",
              "      <td>34.000000</td>\n",
              "      <td>34.000000</td>\n",
              "      <td>34.000000</td>\n",
              "      <td>34.000000</td>\n",
              "      <td>34.000000</td>\n",
              "      <td>34.000000</td>\n",
              "      <td>34.000000</td>\n",
              "      <td>34.000000</td>\n",
              "      <td>33.925000</td>\n",
              "      <td>34.00000</td>\n",
              "      <td>34.000000</td>\n",
              "      <td>34.000000</td>\n",
              "      <td>33.925000</td>\n",
              "      <td>34.000000</td>\n",
              "      <td>34.000000</td>\n",
              "      <td>34.000000</td>\n",
              "      <td>...</td>\n",
              "      <td>84.725000</td>\n",
              "      <td>84.825000</td>\n",
              "      <td>85.000000</td>\n",
              "      <td>85.100000</td>\n",
              "      <td>85.200000</td>\n",
              "      <td>85.300000</td>\n",
              "      <td>85.500000</td>\n",
              "      <td>85.600000</td>\n",
              "      <td>85.700000</td>\n",
              "      <td>85.800000</td>\n",
              "      <td>85.925000</td>\n",
              "      <td>86.025000</td>\n",
              "      <td>86.125000</td>\n",
              "      <td>86.300000</td>\n",
              "      <td>86.400000</td>\n",
              "      <td>86.500000</td>\n",
              "      <td>86.625000</td>\n",
              "      <td>86.725000</td>\n",
              "      <td>86.825000</td>\n",
              "      <td>86.925000</td>\n",
              "      <td>87.025000</td>\n",
              "      <td>87.125000</td>\n",
              "      <td>87.225000</td>\n",
              "      <td>87.325000</td>\n",
              "      <td>87.500000</td>\n",
              "      <td>87.525000</td>\n",
              "      <td>87.700000</td>\n",
              "      <td>87.800000</td>\n",
              "      <td>87.900000</td>\n",
              "      <td>88.000000</td>\n",
              "      <td>88.125000</td>\n",
              "      <td>88.22500</td>\n",
              "      <td>88.325000</td>\n",
              "      <td>88.500000</td>\n",
              "      <td>88.600000</td>\n",
              "      <td>88.700000</td>\n",
              "      <td>88.800000</td>\n",
              "      <td>88.900000</td>\n",
              "      <td>89.00000</td>\n",
              "      <td>89.100000</td>\n",
              "    </tr>\n",
              "    <tr>\n",
              "      <th>max</th>\n",
              "      <td>42.900000</td>\n",
              "      <td>40.300000</td>\n",
              "      <td>44.400000</td>\n",
              "      <td>44.800000</td>\n",
              "      <td>42.800000</td>\n",
              "      <td>44.300000</td>\n",
              "      <td>45.800000</td>\n",
              "      <td>43.600000</td>\n",
              "      <td>43.500000</td>\n",
              "      <td>41.700000</td>\n",
              "      <td>43.100000</td>\n",
              "      <td>40.100000</td>\n",
              "      <td>43.50000</td>\n",
              "      <td>43.000000</td>\n",
              "      <td>41.700000</td>\n",
              "      <td>45.600000</td>\n",
              "      <td>46.300000</td>\n",
              "      <td>48.900000</td>\n",
              "      <td>46.800000</td>\n",
              "      <td>45.800000</td>\n",
              "      <td>47.000000</td>\n",
              "      <td>44.700000</td>\n",
              "      <td>48.400000</td>\n",
              "      <td>48.800000</td>\n",
              "      <td>47.600000</td>\n",
              "      <td>49.200000</td>\n",
              "      <td>47.600000</td>\n",
              "      <td>48.400000</td>\n",
              "      <td>46.200000</td>\n",
              "      <td>46.300000</td>\n",
              "      <td>45.800000</td>\n",
              "      <td>45.700000</td>\n",
              "      <td>47.600000</td>\n",
              "      <td>44.90000</td>\n",
              "      <td>42.000000</td>\n",
              "      <td>47.100000</td>\n",
              "      <td>46.500000</td>\n",
              "      <td>44.200000</td>\n",
              "      <td>43.100000</td>\n",
              "      <td>43.000000</td>\n",
              "      <td>...</td>\n",
              "      <td>90.200000</td>\n",
              "      <td>90.300000</td>\n",
              "      <td>90.500000</td>\n",
              "      <td>90.600000</td>\n",
              "      <td>90.700000</td>\n",
              "      <td>90.800000</td>\n",
              "      <td>90.900000</td>\n",
              "      <td>91.000000</td>\n",
              "      <td>91.200000</td>\n",
              "      <td>91.300000</td>\n",
              "      <td>91.400000</td>\n",
              "      <td>91.500000</td>\n",
              "      <td>91.600000</td>\n",
              "      <td>91.700000</td>\n",
              "      <td>91.800000</td>\n",
              "      <td>92.000000</td>\n",
              "      <td>92.100000</td>\n",
              "      <td>92.200000</td>\n",
              "      <td>92.300000</td>\n",
              "      <td>92.400000</td>\n",
              "      <td>92.500000</td>\n",
              "      <td>92.700000</td>\n",
              "      <td>92.800000</td>\n",
              "      <td>92.900000</td>\n",
              "      <td>93.000000</td>\n",
              "      <td>93.100000</td>\n",
              "      <td>93.300000</td>\n",
              "      <td>93.400000</td>\n",
              "      <td>93.500000</td>\n",
              "      <td>93.600000</td>\n",
              "      <td>93.700000</td>\n",
              "      <td>93.90000</td>\n",
              "      <td>94.000000</td>\n",
              "      <td>94.100000</td>\n",
              "      <td>94.200000</td>\n",
              "      <td>94.300000</td>\n",
              "      <td>94.400000</td>\n",
              "      <td>94.500000</td>\n",
              "      <td>94.70000</td>\n",
              "      <td>94.800000</td>\n",
              "    </tr>\n",
              "  </tbody>\n",
              "</table>\n",
              "<p>8 rows × 301 columns</p>\n",
              "</div>"
            ],
            "text/plain": [
              "             1800        1801        1802  ...        2098       2099        2100\n",
              "count  184.000000  184.000000  184.000000  ...  184.000000  184.00000  184.000000\n",
              "mean    31.502717   31.461957   31.478804  ...   84.593478   84.71087   84.829891\n",
              "std      3.814689    3.806303    3.938674  ...    5.550234    5.54055    5.532609\n",
              "min     23.400000   23.400000   23.400000  ...   67.900000   68.00000   68.100000\n",
              "25%     29.075000   28.975000   28.900000  ...   80.475000   80.57500   80.775000\n",
              "50%     31.750000   31.650000   31.550000  ...   85.000000   85.15000   85.250000\n",
              "75%     33.825000   33.900000   33.825000  ...   88.900000   89.00000   89.100000\n",
              "max     42.900000   40.300000   44.400000  ...   94.500000   94.70000   94.800000\n",
              "\n",
              "[8 rows x 301 columns]"
            ]
          },
          "metadata": {
            "tags": []
          },
          "execution_count": 201
        }
      ]
    },
    {
      "cell_type": "markdown",
      "metadata": {
        "id": "CkWhkKTgMGOG"
      },
      "source": [
        "---"
      ]
    },
    {
      "cell_type": "markdown",
      "metadata": {
        "id": "hm_yiqt9lkRh"
      },
      "source": [
        "## Exercise 2: Inspect the Data"
      ]
    },
    {
      "cell_type": "markdown",
      "metadata": {
        "id": "Wef2akPdniWy"
      },
      "source": [
        "Examine the data using head and/or tail."
      ]
    },
    {
      "cell_type": "markdown",
      "metadata": {
        "id": "xPk41fIoQ6sv"
      },
      "source": [
        "### Student Solution"
      ]
    },
    {
      "cell_type": "code",
      "metadata": {
        "id": "rO2eP1B_dyFA",
        "colab": {
          "base_uri": "https://localhost:8080/",
          "height": 255
        },
        "outputId": "b9dd2f62-a4f1-4d19-d033-12c783fd3330"
      },
      "source": [
        "# Your code goes here\n",
        "df.head()"
      ],
      "execution_count": null,
      "outputs": [
        {
          "output_type": "execute_result",
          "data": {
            "text/html": [
              "<div>\n",
              "<style scoped>\n",
              "    .dataframe tbody tr th:only-of-type {\n",
              "        vertical-align: middle;\n",
              "    }\n",
              "\n",
              "    .dataframe tbody tr th {\n",
              "        vertical-align: top;\n",
              "    }\n",
              "\n",
              "    .dataframe thead th {\n",
              "        text-align: right;\n",
              "    }\n",
              "</style>\n",
              "<table border=\"1\" class=\"dataframe\">\n",
              "  <thead>\n",
              "    <tr style=\"text-align: right;\">\n",
              "      <th></th>\n",
              "      <th>country</th>\n",
              "      <th>1800</th>\n",
              "      <th>1801</th>\n",
              "      <th>1802</th>\n",
              "      <th>1803</th>\n",
              "      <th>1804</th>\n",
              "      <th>1805</th>\n",
              "      <th>1806</th>\n",
              "      <th>1807</th>\n",
              "      <th>1808</th>\n",
              "      <th>1809</th>\n",
              "      <th>1810</th>\n",
              "      <th>1811</th>\n",
              "      <th>1812</th>\n",
              "      <th>1813</th>\n",
              "      <th>1814</th>\n",
              "      <th>1815</th>\n",
              "      <th>1816</th>\n",
              "      <th>1817</th>\n",
              "      <th>1818</th>\n",
              "      <th>1819</th>\n",
              "      <th>1820</th>\n",
              "      <th>1821</th>\n",
              "      <th>1822</th>\n",
              "      <th>1823</th>\n",
              "      <th>1824</th>\n",
              "      <th>1825</th>\n",
              "      <th>1826</th>\n",
              "      <th>1827</th>\n",
              "      <th>1828</th>\n",
              "      <th>1829</th>\n",
              "      <th>1830</th>\n",
              "      <th>1831</th>\n",
              "      <th>1832</th>\n",
              "      <th>1833</th>\n",
              "      <th>1834</th>\n",
              "      <th>1835</th>\n",
              "      <th>1836</th>\n",
              "      <th>1837</th>\n",
              "      <th>1838</th>\n",
              "      <th>...</th>\n",
              "      <th>2061</th>\n",
              "      <th>2062</th>\n",
              "      <th>2063</th>\n",
              "      <th>2064</th>\n",
              "      <th>2065</th>\n",
              "      <th>2066</th>\n",
              "      <th>2067</th>\n",
              "      <th>2068</th>\n",
              "      <th>2069</th>\n",
              "      <th>2070</th>\n",
              "      <th>2071</th>\n",
              "      <th>2072</th>\n",
              "      <th>2073</th>\n",
              "      <th>2074</th>\n",
              "      <th>2075</th>\n",
              "      <th>2076</th>\n",
              "      <th>2077</th>\n",
              "      <th>2078</th>\n",
              "      <th>2079</th>\n",
              "      <th>2080</th>\n",
              "      <th>2081</th>\n",
              "      <th>2082</th>\n",
              "      <th>2083</th>\n",
              "      <th>2084</th>\n",
              "      <th>2085</th>\n",
              "      <th>2086</th>\n",
              "      <th>2087</th>\n",
              "      <th>2088</th>\n",
              "      <th>2089</th>\n",
              "      <th>2090</th>\n",
              "      <th>2091</th>\n",
              "      <th>2092</th>\n",
              "      <th>2093</th>\n",
              "      <th>2094</th>\n",
              "      <th>2095</th>\n",
              "      <th>2096</th>\n",
              "      <th>2097</th>\n",
              "      <th>2098</th>\n",
              "      <th>2099</th>\n",
              "      <th>2100</th>\n",
              "    </tr>\n",
              "  </thead>\n",
              "  <tbody>\n",
              "    <tr>\n",
              "      <th>0</th>\n",
              "      <td>Afghanistan</td>\n",
              "      <td>28.2</td>\n",
              "      <td>28.2</td>\n",
              "      <td>28.2</td>\n",
              "      <td>28.2</td>\n",
              "      <td>28.2</td>\n",
              "      <td>28.2</td>\n",
              "      <td>28.1</td>\n",
              "      <td>28.1</td>\n",
              "      <td>28.1</td>\n",
              "      <td>28.1</td>\n",
              "      <td>28.1</td>\n",
              "      <td>28.1</td>\n",
              "      <td>28.1</td>\n",
              "      <td>28.1</td>\n",
              "      <td>28.1</td>\n",
              "      <td>28.1</td>\n",
              "      <td>28.1</td>\n",
              "      <td>28.0</td>\n",
              "      <td>28.0</td>\n",
              "      <td>28.0</td>\n",
              "      <td>28.0</td>\n",
              "      <td>28.0</td>\n",
              "      <td>28.0</td>\n",
              "      <td>28.0</td>\n",
              "      <td>28.0</td>\n",
              "      <td>27.9</td>\n",
              "      <td>27.9</td>\n",
              "      <td>27.9</td>\n",
              "      <td>27.9</td>\n",
              "      <td>27.9</td>\n",
              "      <td>27.9</td>\n",
              "      <td>27.9</td>\n",
              "      <td>27.9</td>\n",
              "      <td>27.9</td>\n",
              "      <td>27.9</td>\n",
              "      <td>27.9</td>\n",
              "      <td>27.8</td>\n",
              "      <td>27.8</td>\n",
              "      <td>27.8</td>\n",
              "      <td>...</td>\n",
              "      <td>72.4</td>\n",
              "      <td>72.5</td>\n",
              "      <td>72.7</td>\n",
              "      <td>72.8</td>\n",
              "      <td>72.9</td>\n",
              "      <td>73.1</td>\n",
              "      <td>73.2</td>\n",
              "      <td>73.3</td>\n",
              "      <td>73.5</td>\n",
              "      <td>73.6</td>\n",
              "      <td>73.7</td>\n",
              "      <td>73.9</td>\n",
              "      <td>74.0</td>\n",
              "      <td>74.2</td>\n",
              "      <td>74.3</td>\n",
              "      <td>74.4</td>\n",
              "      <td>74.6</td>\n",
              "      <td>74.7</td>\n",
              "      <td>74.8</td>\n",
              "      <td>75.0</td>\n",
              "      <td>75.1</td>\n",
              "      <td>75.2</td>\n",
              "      <td>75.4</td>\n",
              "      <td>75.5</td>\n",
              "      <td>75.6</td>\n",
              "      <td>75.8</td>\n",
              "      <td>75.9</td>\n",
              "      <td>76.0</td>\n",
              "      <td>76.2</td>\n",
              "      <td>76.3</td>\n",
              "      <td>76.5</td>\n",
              "      <td>76.6</td>\n",
              "      <td>76.7</td>\n",
              "      <td>76.9</td>\n",
              "      <td>77.0</td>\n",
              "      <td>77.1</td>\n",
              "      <td>77.3</td>\n",
              "      <td>77.4</td>\n",
              "      <td>77.5</td>\n",
              "      <td>77.7</td>\n",
              "    </tr>\n",
              "    <tr>\n",
              "      <th>1</th>\n",
              "      <td>Albania</td>\n",
              "      <td>35.4</td>\n",
              "      <td>35.4</td>\n",
              "      <td>35.4</td>\n",
              "      <td>35.4</td>\n",
              "      <td>35.4</td>\n",
              "      <td>35.4</td>\n",
              "      <td>35.4</td>\n",
              "      <td>35.4</td>\n",
              "      <td>35.4</td>\n",
              "      <td>35.4</td>\n",
              "      <td>35.4</td>\n",
              "      <td>35.4</td>\n",
              "      <td>35.4</td>\n",
              "      <td>35.4</td>\n",
              "      <td>35.4</td>\n",
              "      <td>35.4</td>\n",
              "      <td>35.4</td>\n",
              "      <td>35.4</td>\n",
              "      <td>35.4</td>\n",
              "      <td>35.4</td>\n",
              "      <td>35.4</td>\n",
              "      <td>35.4</td>\n",
              "      <td>35.4</td>\n",
              "      <td>35.4</td>\n",
              "      <td>35.4</td>\n",
              "      <td>35.4</td>\n",
              "      <td>35.4</td>\n",
              "      <td>35.4</td>\n",
              "      <td>35.4</td>\n",
              "      <td>35.4</td>\n",
              "      <td>35.4</td>\n",
              "      <td>35.4</td>\n",
              "      <td>35.4</td>\n",
              "      <td>35.4</td>\n",
              "      <td>35.4</td>\n",
              "      <td>35.4</td>\n",
              "      <td>35.4</td>\n",
              "      <td>35.4</td>\n",
              "      <td>35.4</td>\n",
              "      <td>...</td>\n",
              "      <td>84.2</td>\n",
              "      <td>84.3</td>\n",
              "      <td>84.5</td>\n",
              "      <td>84.6</td>\n",
              "      <td>84.7</td>\n",
              "      <td>84.8</td>\n",
              "      <td>84.9</td>\n",
              "      <td>85.0</td>\n",
              "      <td>85.1</td>\n",
              "      <td>85.2</td>\n",
              "      <td>85.3</td>\n",
              "      <td>85.4</td>\n",
              "      <td>85.5</td>\n",
              "      <td>85.7</td>\n",
              "      <td>85.8</td>\n",
              "      <td>85.8</td>\n",
              "      <td>86.0</td>\n",
              "      <td>86.0</td>\n",
              "      <td>86.2</td>\n",
              "      <td>86.3</td>\n",
              "      <td>86.4</td>\n",
              "      <td>86.5</td>\n",
              "      <td>86.6</td>\n",
              "      <td>86.7</td>\n",
              "      <td>86.8</td>\n",
              "      <td>86.9</td>\n",
              "      <td>87.0</td>\n",
              "      <td>87.1</td>\n",
              "      <td>87.2</td>\n",
              "      <td>87.3</td>\n",
              "      <td>87.4</td>\n",
              "      <td>87.5</td>\n",
              "      <td>87.6</td>\n",
              "      <td>87.7</td>\n",
              "      <td>87.8</td>\n",
              "      <td>87.9</td>\n",
              "      <td>88.0</td>\n",
              "      <td>88.1</td>\n",
              "      <td>88.2</td>\n",
              "      <td>88.3</td>\n",
              "    </tr>\n",
              "    <tr>\n",
              "      <th>2</th>\n",
              "      <td>Algeria</td>\n",
              "      <td>28.8</td>\n",
              "      <td>28.8</td>\n",
              "      <td>28.8</td>\n",
              "      <td>28.8</td>\n",
              "      <td>28.8</td>\n",
              "      <td>28.8</td>\n",
              "      <td>28.8</td>\n",
              "      <td>28.8</td>\n",
              "      <td>28.8</td>\n",
              "      <td>28.8</td>\n",
              "      <td>28.8</td>\n",
              "      <td>28.8</td>\n",
              "      <td>28.8</td>\n",
              "      <td>28.8</td>\n",
              "      <td>28.8</td>\n",
              "      <td>28.8</td>\n",
              "      <td>28.8</td>\n",
              "      <td>28.8</td>\n",
              "      <td>28.8</td>\n",
              "      <td>28.8</td>\n",
              "      <td>28.8</td>\n",
              "      <td>28.8</td>\n",
              "      <td>28.8</td>\n",
              "      <td>28.8</td>\n",
              "      <td>28.8</td>\n",
              "      <td>28.8</td>\n",
              "      <td>28.8</td>\n",
              "      <td>28.8</td>\n",
              "      <td>28.8</td>\n",
              "      <td>28.8</td>\n",
              "      <td>28.8</td>\n",
              "      <td>28.8</td>\n",
              "      <td>28.8</td>\n",
              "      <td>28.8</td>\n",
              "      <td>28.8</td>\n",
              "      <td>28.8</td>\n",
              "      <td>28.8</td>\n",
              "      <td>28.8</td>\n",
              "      <td>28.8</td>\n",
              "      <td>...</td>\n",
              "      <td>84.8</td>\n",
              "      <td>85.0</td>\n",
              "      <td>85.1</td>\n",
              "      <td>85.2</td>\n",
              "      <td>85.3</td>\n",
              "      <td>85.5</td>\n",
              "      <td>85.6</td>\n",
              "      <td>85.7</td>\n",
              "      <td>85.8</td>\n",
              "      <td>86.0</td>\n",
              "      <td>86.1</td>\n",
              "      <td>86.2</td>\n",
              "      <td>86.3</td>\n",
              "      <td>86.4</td>\n",
              "      <td>86.5</td>\n",
              "      <td>86.7</td>\n",
              "      <td>86.8</td>\n",
              "      <td>86.9</td>\n",
              "      <td>87.0</td>\n",
              "      <td>87.1</td>\n",
              "      <td>87.2</td>\n",
              "      <td>87.3</td>\n",
              "      <td>87.4</td>\n",
              "      <td>87.5</td>\n",
              "      <td>87.6</td>\n",
              "      <td>87.7</td>\n",
              "      <td>87.8</td>\n",
              "      <td>87.9</td>\n",
              "      <td>88.0</td>\n",
              "      <td>88.2</td>\n",
              "      <td>88.3</td>\n",
              "      <td>88.4</td>\n",
              "      <td>88.5</td>\n",
              "      <td>88.6</td>\n",
              "      <td>88.7</td>\n",
              "      <td>88.8</td>\n",
              "      <td>88.9</td>\n",
              "      <td>89.0</td>\n",
              "      <td>89.1</td>\n",
              "      <td>89.2</td>\n",
              "    </tr>\n",
              "    <tr>\n",
              "      <th>3</th>\n",
              "      <td>Andorra</td>\n",
              "      <td>NaN</td>\n",
              "      <td>NaN</td>\n",
              "      <td>NaN</td>\n",
              "      <td>NaN</td>\n",
              "      <td>NaN</td>\n",
              "      <td>NaN</td>\n",
              "      <td>NaN</td>\n",
              "      <td>NaN</td>\n",
              "      <td>NaN</td>\n",
              "      <td>NaN</td>\n",
              "      <td>NaN</td>\n",
              "      <td>NaN</td>\n",
              "      <td>NaN</td>\n",
              "      <td>NaN</td>\n",
              "      <td>NaN</td>\n",
              "      <td>NaN</td>\n",
              "      <td>NaN</td>\n",
              "      <td>NaN</td>\n",
              "      <td>NaN</td>\n",
              "      <td>NaN</td>\n",
              "      <td>NaN</td>\n",
              "      <td>NaN</td>\n",
              "      <td>NaN</td>\n",
              "      <td>NaN</td>\n",
              "      <td>NaN</td>\n",
              "      <td>NaN</td>\n",
              "      <td>NaN</td>\n",
              "      <td>NaN</td>\n",
              "      <td>NaN</td>\n",
              "      <td>NaN</td>\n",
              "      <td>NaN</td>\n",
              "      <td>NaN</td>\n",
              "      <td>NaN</td>\n",
              "      <td>NaN</td>\n",
              "      <td>NaN</td>\n",
              "      <td>NaN</td>\n",
              "      <td>NaN</td>\n",
              "      <td>NaN</td>\n",
              "      <td>NaN</td>\n",
              "      <td>...</td>\n",
              "      <td>NaN</td>\n",
              "      <td>NaN</td>\n",
              "      <td>NaN</td>\n",
              "      <td>NaN</td>\n",
              "      <td>NaN</td>\n",
              "      <td>NaN</td>\n",
              "      <td>NaN</td>\n",
              "      <td>NaN</td>\n",
              "      <td>NaN</td>\n",
              "      <td>NaN</td>\n",
              "      <td>NaN</td>\n",
              "      <td>NaN</td>\n",
              "      <td>NaN</td>\n",
              "      <td>NaN</td>\n",
              "      <td>NaN</td>\n",
              "      <td>NaN</td>\n",
              "      <td>NaN</td>\n",
              "      <td>NaN</td>\n",
              "      <td>NaN</td>\n",
              "      <td>NaN</td>\n",
              "      <td>NaN</td>\n",
              "      <td>NaN</td>\n",
              "      <td>NaN</td>\n",
              "      <td>NaN</td>\n",
              "      <td>NaN</td>\n",
              "      <td>NaN</td>\n",
              "      <td>NaN</td>\n",
              "      <td>NaN</td>\n",
              "      <td>NaN</td>\n",
              "      <td>NaN</td>\n",
              "      <td>NaN</td>\n",
              "      <td>NaN</td>\n",
              "      <td>NaN</td>\n",
              "      <td>NaN</td>\n",
              "      <td>NaN</td>\n",
              "      <td>NaN</td>\n",
              "      <td>NaN</td>\n",
              "      <td>NaN</td>\n",
              "      <td>NaN</td>\n",
              "      <td>NaN</td>\n",
              "    </tr>\n",
              "    <tr>\n",
              "      <th>4</th>\n",
              "      <td>Angola</td>\n",
              "      <td>27.0</td>\n",
              "      <td>27.0</td>\n",
              "      <td>27.0</td>\n",
              "      <td>27.0</td>\n",
              "      <td>27.0</td>\n",
              "      <td>27.0</td>\n",
              "      <td>27.0</td>\n",
              "      <td>27.0</td>\n",
              "      <td>27.0</td>\n",
              "      <td>27.0</td>\n",
              "      <td>27.0</td>\n",
              "      <td>27.0</td>\n",
              "      <td>27.0</td>\n",
              "      <td>27.0</td>\n",
              "      <td>27.0</td>\n",
              "      <td>27.0</td>\n",
              "      <td>27.0</td>\n",
              "      <td>27.0</td>\n",
              "      <td>27.0</td>\n",
              "      <td>27.0</td>\n",
              "      <td>27.0</td>\n",
              "      <td>27.0</td>\n",
              "      <td>27.0</td>\n",
              "      <td>27.0</td>\n",
              "      <td>27.0</td>\n",
              "      <td>27.0</td>\n",
              "      <td>27.0</td>\n",
              "      <td>27.0</td>\n",
              "      <td>27.0</td>\n",
              "      <td>27.0</td>\n",
              "      <td>27.0</td>\n",
              "      <td>27.0</td>\n",
              "      <td>27.0</td>\n",
              "      <td>27.0</td>\n",
              "      <td>27.0</td>\n",
              "      <td>27.0</td>\n",
              "      <td>27.0</td>\n",
              "      <td>27.0</td>\n",
              "      <td>27.0</td>\n",
              "      <td>...</td>\n",
              "      <td>74.8</td>\n",
              "      <td>74.9</td>\n",
              "      <td>75.0</td>\n",
              "      <td>75.2</td>\n",
              "      <td>75.3</td>\n",
              "      <td>75.5</td>\n",
              "      <td>75.6</td>\n",
              "      <td>75.7</td>\n",
              "      <td>75.9</td>\n",
              "      <td>76.0</td>\n",
              "      <td>76.2</td>\n",
              "      <td>76.3</td>\n",
              "      <td>76.4</td>\n",
              "      <td>76.5</td>\n",
              "      <td>76.7</td>\n",
              "      <td>76.8</td>\n",
              "      <td>77.0</td>\n",
              "      <td>77.1</td>\n",
              "      <td>77.2</td>\n",
              "      <td>77.3</td>\n",
              "      <td>77.5</td>\n",
              "      <td>77.6</td>\n",
              "      <td>77.7</td>\n",
              "      <td>77.8</td>\n",
              "      <td>78.0</td>\n",
              "      <td>78.1</td>\n",
              "      <td>78.2</td>\n",
              "      <td>78.4</td>\n",
              "      <td>78.5</td>\n",
              "      <td>78.6</td>\n",
              "      <td>78.7</td>\n",
              "      <td>78.9</td>\n",
              "      <td>79.0</td>\n",
              "      <td>79.1</td>\n",
              "      <td>79.3</td>\n",
              "      <td>79.4</td>\n",
              "      <td>79.5</td>\n",
              "      <td>79.7</td>\n",
              "      <td>79.8</td>\n",
              "      <td>79.9</td>\n",
              "    </tr>\n",
              "  </tbody>\n",
              "</table>\n",
              "<p>5 rows × 302 columns</p>\n",
              "</div>"
            ],
            "text/plain": [
              "       country  1800  1801  1802  1803  ...  2096  2097  2098  2099  2100\n",
              "0  Afghanistan  28.2  28.2  28.2  28.2  ...  77.1  77.3  77.4  77.5  77.7\n",
              "1      Albania  35.4  35.4  35.4  35.4  ...  87.9  88.0  88.1  88.2  88.3\n",
              "2      Algeria  28.8  28.8  28.8  28.8  ...  88.8  88.9  89.0  89.1  89.2\n",
              "3      Andorra   NaN   NaN   NaN   NaN  ...   NaN   NaN   NaN   NaN   NaN\n",
              "4       Angola  27.0  27.0  27.0  27.0  ...  79.4  79.5  79.7  79.8  79.9\n",
              "\n",
              "[5 rows x 302 columns]"
            ]
          },
          "metadata": {
            "tags": []
          },
          "execution_count": 202
        }
      ]
    },
    {
      "cell_type": "code",
      "metadata": {
        "colab": {
          "base_uri": "https://localhost:8080/",
          "height": 255
        },
        "id": "k89r4hFGRI0m",
        "outputId": "d6fdf375-b6ff-47a8-974b-7ce24a715a01"
      },
      "source": [
        "df.tail()"
      ],
      "execution_count": null,
      "outputs": [
        {
          "output_type": "execute_result",
          "data": {
            "text/html": [
              "<div>\n",
              "<style scoped>\n",
              "    .dataframe tbody tr th:only-of-type {\n",
              "        vertical-align: middle;\n",
              "    }\n",
              "\n",
              "    .dataframe tbody tr th {\n",
              "        vertical-align: top;\n",
              "    }\n",
              "\n",
              "    .dataframe thead th {\n",
              "        text-align: right;\n",
              "    }\n",
              "</style>\n",
              "<table border=\"1\" class=\"dataframe\">\n",
              "  <thead>\n",
              "    <tr style=\"text-align: right;\">\n",
              "      <th></th>\n",
              "      <th>country</th>\n",
              "      <th>1800</th>\n",
              "      <th>1801</th>\n",
              "      <th>1802</th>\n",
              "      <th>1803</th>\n",
              "      <th>1804</th>\n",
              "      <th>1805</th>\n",
              "      <th>1806</th>\n",
              "      <th>1807</th>\n",
              "      <th>1808</th>\n",
              "      <th>1809</th>\n",
              "      <th>1810</th>\n",
              "      <th>1811</th>\n",
              "      <th>1812</th>\n",
              "      <th>1813</th>\n",
              "      <th>1814</th>\n",
              "      <th>1815</th>\n",
              "      <th>1816</th>\n",
              "      <th>1817</th>\n",
              "      <th>1818</th>\n",
              "      <th>1819</th>\n",
              "      <th>1820</th>\n",
              "      <th>1821</th>\n",
              "      <th>1822</th>\n",
              "      <th>1823</th>\n",
              "      <th>1824</th>\n",
              "      <th>1825</th>\n",
              "      <th>1826</th>\n",
              "      <th>1827</th>\n",
              "      <th>1828</th>\n",
              "      <th>1829</th>\n",
              "      <th>1830</th>\n",
              "      <th>1831</th>\n",
              "      <th>1832</th>\n",
              "      <th>1833</th>\n",
              "      <th>1834</th>\n",
              "      <th>1835</th>\n",
              "      <th>1836</th>\n",
              "      <th>1837</th>\n",
              "      <th>1838</th>\n",
              "      <th>...</th>\n",
              "      <th>2061</th>\n",
              "      <th>2062</th>\n",
              "      <th>2063</th>\n",
              "      <th>2064</th>\n",
              "      <th>2065</th>\n",
              "      <th>2066</th>\n",
              "      <th>2067</th>\n",
              "      <th>2068</th>\n",
              "      <th>2069</th>\n",
              "      <th>2070</th>\n",
              "      <th>2071</th>\n",
              "      <th>2072</th>\n",
              "      <th>2073</th>\n",
              "      <th>2074</th>\n",
              "      <th>2075</th>\n",
              "      <th>2076</th>\n",
              "      <th>2077</th>\n",
              "      <th>2078</th>\n",
              "      <th>2079</th>\n",
              "      <th>2080</th>\n",
              "      <th>2081</th>\n",
              "      <th>2082</th>\n",
              "      <th>2083</th>\n",
              "      <th>2084</th>\n",
              "      <th>2085</th>\n",
              "      <th>2086</th>\n",
              "      <th>2087</th>\n",
              "      <th>2088</th>\n",
              "      <th>2089</th>\n",
              "      <th>2090</th>\n",
              "      <th>2091</th>\n",
              "      <th>2092</th>\n",
              "      <th>2093</th>\n",
              "      <th>2094</th>\n",
              "      <th>2095</th>\n",
              "      <th>2096</th>\n",
              "      <th>2097</th>\n",
              "      <th>2098</th>\n",
              "      <th>2099</th>\n",
              "      <th>2100</th>\n",
              "    </tr>\n",
              "  </thead>\n",
              "  <tbody>\n",
              "    <tr>\n",
              "      <th>182</th>\n",
              "      <td>Venezuela</td>\n",
              "      <td>32.2</td>\n",
              "      <td>32.2</td>\n",
              "      <td>32.2</td>\n",
              "      <td>32.2</td>\n",
              "      <td>32.2</td>\n",
              "      <td>32.2</td>\n",
              "      <td>32.2</td>\n",
              "      <td>32.2</td>\n",
              "      <td>32.2</td>\n",
              "      <td>32.2</td>\n",
              "      <td>32.2</td>\n",
              "      <td>32.2</td>\n",
              "      <td>32.2</td>\n",
              "      <td>32.2</td>\n",
              "      <td>32.2</td>\n",
              "      <td>32.2</td>\n",
              "      <td>32.2</td>\n",
              "      <td>32.2</td>\n",
              "      <td>32.2</td>\n",
              "      <td>32.2</td>\n",
              "      <td>32.2</td>\n",
              "      <td>32.2</td>\n",
              "      <td>32.2</td>\n",
              "      <td>32.2</td>\n",
              "      <td>32.2</td>\n",
              "      <td>32.2</td>\n",
              "      <td>32.2</td>\n",
              "      <td>32.2</td>\n",
              "      <td>32.2</td>\n",
              "      <td>32.2</td>\n",
              "      <td>32.2</td>\n",
              "      <td>32.2</td>\n",
              "      <td>32.2</td>\n",
              "      <td>32.2</td>\n",
              "      <td>32.2</td>\n",
              "      <td>32.2</td>\n",
              "      <td>32.2</td>\n",
              "      <td>32.2</td>\n",
              "      <td>32.2</td>\n",
              "      <td>...</td>\n",
              "      <td>81.8</td>\n",
              "      <td>82.0</td>\n",
              "      <td>82.1</td>\n",
              "      <td>82.3</td>\n",
              "      <td>82.5</td>\n",
              "      <td>82.6</td>\n",
              "      <td>82.8</td>\n",
              "      <td>82.9</td>\n",
              "      <td>83.0</td>\n",
              "      <td>83.2</td>\n",
              "      <td>83.3</td>\n",
              "      <td>83.5</td>\n",
              "      <td>83.7</td>\n",
              "      <td>83.8</td>\n",
              "      <td>84.0</td>\n",
              "      <td>84.1</td>\n",
              "      <td>84.2</td>\n",
              "      <td>84.4</td>\n",
              "      <td>84.5</td>\n",
              "      <td>84.7</td>\n",
              "      <td>84.8</td>\n",
              "      <td>85.0</td>\n",
              "      <td>85.1</td>\n",
              "      <td>85.3</td>\n",
              "      <td>85.4</td>\n",
              "      <td>85.5</td>\n",
              "      <td>85.7</td>\n",
              "      <td>85.8</td>\n",
              "      <td>86.0</td>\n",
              "      <td>86.1</td>\n",
              "      <td>86.2</td>\n",
              "      <td>86.3</td>\n",
              "      <td>86.5</td>\n",
              "      <td>86.6</td>\n",
              "      <td>86.7</td>\n",
              "      <td>86.9</td>\n",
              "      <td>87.0</td>\n",
              "      <td>87.1</td>\n",
              "      <td>87.2</td>\n",
              "      <td>87.3</td>\n",
              "    </tr>\n",
              "    <tr>\n",
              "      <th>183</th>\n",
              "      <td>Vietnam</td>\n",
              "      <td>32.0</td>\n",
              "      <td>32.0</td>\n",
              "      <td>32.0</td>\n",
              "      <td>32.0</td>\n",
              "      <td>32.0</td>\n",
              "      <td>32.0</td>\n",
              "      <td>32.0</td>\n",
              "      <td>32.0</td>\n",
              "      <td>32.0</td>\n",
              "      <td>32.0</td>\n",
              "      <td>32.0</td>\n",
              "      <td>32.0</td>\n",
              "      <td>32.0</td>\n",
              "      <td>32.0</td>\n",
              "      <td>32.0</td>\n",
              "      <td>32.0</td>\n",
              "      <td>32.0</td>\n",
              "      <td>32.0</td>\n",
              "      <td>32.0</td>\n",
              "      <td>32.0</td>\n",
              "      <td>32.0</td>\n",
              "      <td>32.0</td>\n",
              "      <td>32.0</td>\n",
              "      <td>32.0</td>\n",
              "      <td>32.0</td>\n",
              "      <td>32.0</td>\n",
              "      <td>32.0</td>\n",
              "      <td>32.0</td>\n",
              "      <td>32.0</td>\n",
              "      <td>32.0</td>\n",
              "      <td>32.0</td>\n",
              "      <td>32.0</td>\n",
              "      <td>32.0</td>\n",
              "      <td>32.0</td>\n",
              "      <td>32.0</td>\n",
              "      <td>32.0</td>\n",
              "      <td>32.0</td>\n",
              "      <td>32.0</td>\n",
              "      <td>32.0</td>\n",
              "      <td>...</td>\n",
              "      <td>80.6</td>\n",
              "      <td>80.8</td>\n",
              "      <td>80.9</td>\n",
              "      <td>81.1</td>\n",
              "      <td>81.2</td>\n",
              "      <td>81.3</td>\n",
              "      <td>81.5</td>\n",
              "      <td>81.6</td>\n",
              "      <td>81.7</td>\n",
              "      <td>81.8</td>\n",
              "      <td>82.0</td>\n",
              "      <td>82.1</td>\n",
              "      <td>82.2</td>\n",
              "      <td>82.3</td>\n",
              "      <td>82.5</td>\n",
              "      <td>82.6</td>\n",
              "      <td>82.7</td>\n",
              "      <td>82.8</td>\n",
              "      <td>83.0</td>\n",
              "      <td>83.1</td>\n",
              "      <td>83.2</td>\n",
              "      <td>83.3</td>\n",
              "      <td>83.4</td>\n",
              "      <td>83.5</td>\n",
              "      <td>83.6</td>\n",
              "      <td>83.8</td>\n",
              "      <td>83.9</td>\n",
              "      <td>84.0</td>\n",
              "      <td>84.1</td>\n",
              "      <td>84.2</td>\n",
              "      <td>84.3</td>\n",
              "      <td>84.4</td>\n",
              "      <td>84.5</td>\n",
              "      <td>84.6</td>\n",
              "      <td>84.7</td>\n",
              "      <td>84.8</td>\n",
              "      <td>84.9</td>\n",
              "      <td>85.0</td>\n",
              "      <td>85.2</td>\n",
              "      <td>85.3</td>\n",
              "    </tr>\n",
              "    <tr>\n",
              "      <th>184</th>\n",
              "      <td>Yemen</td>\n",
              "      <td>23.4</td>\n",
              "      <td>23.4</td>\n",
              "      <td>23.4</td>\n",
              "      <td>23.4</td>\n",
              "      <td>23.4</td>\n",
              "      <td>23.4</td>\n",
              "      <td>23.4</td>\n",
              "      <td>23.4</td>\n",
              "      <td>23.4</td>\n",
              "      <td>23.4</td>\n",
              "      <td>23.4</td>\n",
              "      <td>23.4</td>\n",
              "      <td>23.4</td>\n",
              "      <td>23.4</td>\n",
              "      <td>23.4</td>\n",
              "      <td>23.4</td>\n",
              "      <td>23.4</td>\n",
              "      <td>23.4</td>\n",
              "      <td>23.4</td>\n",
              "      <td>23.4</td>\n",
              "      <td>23.4</td>\n",
              "      <td>23.4</td>\n",
              "      <td>23.4</td>\n",
              "      <td>23.4</td>\n",
              "      <td>23.4</td>\n",
              "      <td>23.4</td>\n",
              "      <td>23.4</td>\n",
              "      <td>23.4</td>\n",
              "      <td>23.4</td>\n",
              "      <td>23.4</td>\n",
              "      <td>23.4</td>\n",
              "      <td>23.4</td>\n",
              "      <td>23.4</td>\n",
              "      <td>23.4</td>\n",
              "      <td>23.4</td>\n",
              "      <td>23.4</td>\n",
              "      <td>23.4</td>\n",
              "      <td>23.4</td>\n",
              "      <td>23.4</td>\n",
              "      <td>...</td>\n",
              "      <td>73.8</td>\n",
              "      <td>73.9</td>\n",
              "      <td>74.0</td>\n",
              "      <td>74.2</td>\n",
              "      <td>74.3</td>\n",
              "      <td>74.4</td>\n",
              "      <td>74.5</td>\n",
              "      <td>74.6</td>\n",
              "      <td>74.7</td>\n",
              "      <td>74.8</td>\n",
              "      <td>75.0</td>\n",
              "      <td>75.1</td>\n",
              "      <td>75.2</td>\n",
              "      <td>75.3</td>\n",
              "      <td>75.4</td>\n",
              "      <td>75.5</td>\n",
              "      <td>75.6</td>\n",
              "      <td>75.8</td>\n",
              "      <td>75.9</td>\n",
              "      <td>76.0</td>\n",
              "      <td>76.1</td>\n",
              "      <td>76.2</td>\n",
              "      <td>76.3</td>\n",
              "      <td>76.5</td>\n",
              "      <td>76.6</td>\n",
              "      <td>76.7</td>\n",
              "      <td>76.8</td>\n",
              "      <td>76.9</td>\n",
              "      <td>77.1</td>\n",
              "      <td>77.2</td>\n",
              "      <td>77.3</td>\n",
              "      <td>77.4</td>\n",
              "      <td>77.5</td>\n",
              "      <td>77.7</td>\n",
              "      <td>77.8</td>\n",
              "      <td>77.9</td>\n",
              "      <td>78.0</td>\n",
              "      <td>78.2</td>\n",
              "      <td>78.3</td>\n",
              "      <td>78.4</td>\n",
              "    </tr>\n",
              "    <tr>\n",
              "      <th>185</th>\n",
              "      <td>Zambia</td>\n",
              "      <td>32.6</td>\n",
              "      <td>32.6</td>\n",
              "      <td>32.6</td>\n",
              "      <td>32.6</td>\n",
              "      <td>32.6</td>\n",
              "      <td>32.6</td>\n",
              "      <td>32.6</td>\n",
              "      <td>32.6</td>\n",
              "      <td>32.6</td>\n",
              "      <td>32.6</td>\n",
              "      <td>32.6</td>\n",
              "      <td>32.6</td>\n",
              "      <td>32.6</td>\n",
              "      <td>32.6</td>\n",
              "      <td>32.6</td>\n",
              "      <td>32.6</td>\n",
              "      <td>32.6</td>\n",
              "      <td>32.6</td>\n",
              "      <td>32.6</td>\n",
              "      <td>32.6</td>\n",
              "      <td>32.6</td>\n",
              "      <td>32.6</td>\n",
              "      <td>32.6</td>\n",
              "      <td>32.6</td>\n",
              "      <td>32.6</td>\n",
              "      <td>32.6</td>\n",
              "      <td>32.6</td>\n",
              "      <td>32.6</td>\n",
              "      <td>32.6</td>\n",
              "      <td>32.6</td>\n",
              "      <td>32.6</td>\n",
              "      <td>32.6</td>\n",
              "      <td>32.6</td>\n",
              "      <td>32.6</td>\n",
              "      <td>32.6</td>\n",
              "      <td>32.6</td>\n",
              "      <td>32.6</td>\n",
              "      <td>32.6</td>\n",
              "      <td>32.6</td>\n",
              "      <td>...</td>\n",
              "      <td>72.4</td>\n",
              "      <td>72.6</td>\n",
              "      <td>72.7</td>\n",
              "      <td>72.9</td>\n",
              "      <td>73.0</td>\n",
              "      <td>73.2</td>\n",
              "      <td>73.3</td>\n",
              "      <td>73.5</td>\n",
              "      <td>73.6</td>\n",
              "      <td>73.8</td>\n",
              "      <td>73.9</td>\n",
              "      <td>74.1</td>\n",
              "      <td>74.2</td>\n",
              "      <td>74.4</td>\n",
              "      <td>74.5</td>\n",
              "      <td>74.7</td>\n",
              "      <td>74.8</td>\n",
              "      <td>74.9</td>\n",
              "      <td>75.1</td>\n",
              "      <td>75.2</td>\n",
              "      <td>75.4</td>\n",
              "      <td>75.5</td>\n",
              "      <td>75.7</td>\n",
              "      <td>75.8</td>\n",
              "      <td>76.0</td>\n",
              "      <td>76.1</td>\n",
              "      <td>76.3</td>\n",
              "      <td>76.4</td>\n",
              "      <td>76.5</td>\n",
              "      <td>76.7</td>\n",
              "      <td>76.8</td>\n",
              "      <td>77.0</td>\n",
              "      <td>77.1</td>\n",
              "      <td>77.3</td>\n",
              "      <td>77.4</td>\n",
              "      <td>77.6</td>\n",
              "      <td>77.7</td>\n",
              "      <td>77.8</td>\n",
              "      <td>78.0</td>\n",
              "      <td>78.1</td>\n",
              "    </tr>\n",
              "    <tr>\n",
              "      <th>186</th>\n",
              "      <td>Zimbabwe</td>\n",
              "      <td>33.7</td>\n",
              "      <td>33.7</td>\n",
              "      <td>33.7</td>\n",
              "      <td>33.7</td>\n",
              "      <td>33.7</td>\n",
              "      <td>33.7</td>\n",
              "      <td>33.7</td>\n",
              "      <td>33.7</td>\n",
              "      <td>33.7</td>\n",
              "      <td>33.7</td>\n",
              "      <td>33.7</td>\n",
              "      <td>33.7</td>\n",
              "      <td>33.7</td>\n",
              "      <td>33.7</td>\n",
              "      <td>33.7</td>\n",
              "      <td>33.7</td>\n",
              "      <td>33.7</td>\n",
              "      <td>33.7</td>\n",
              "      <td>33.7</td>\n",
              "      <td>33.7</td>\n",
              "      <td>33.7</td>\n",
              "      <td>33.7</td>\n",
              "      <td>33.7</td>\n",
              "      <td>33.7</td>\n",
              "      <td>33.7</td>\n",
              "      <td>33.7</td>\n",
              "      <td>33.7</td>\n",
              "      <td>33.7</td>\n",
              "      <td>33.7</td>\n",
              "      <td>33.7</td>\n",
              "      <td>33.7</td>\n",
              "      <td>33.7</td>\n",
              "      <td>33.7</td>\n",
              "      <td>33.7</td>\n",
              "      <td>33.7</td>\n",
              "      <td>33.7</td>\n",
              "      <td>33.7</td>\n",
              "      <td>33.7</td>\n",
              "      <td>33.7</td>\n",
              "      <td>...</td>\n",
              "      <td>70.5</td>\n",
              "      <td>70.6</td>\n",
              "      <td>70.8</td>\n",
              "      <td>70.9</td>\n",
              "      <td>71.0</td>\n",
              "      <td>71.2</td>\n",
              "      <td>71.3</td>\n",
              "      <td>71.5</td>\n",
              "      <td>71.6</td>\n",
              "      <td>71.7</td>\n",
              "      <td>71.9</td>\n",
              "      <td>72.0</td>\n",
              "      <td>72.1</td>\n",
              "      <td>72.3</td>\n",
              "      <td>72.4</td>\n",
              "      <td>72.5</td>\n",
              "      <td>72.7</td>\n",
              "      <td>72.8</td>\n",
              "      <td>72.9</td>\n",
              "      <td>73.0</td>\n",
              "      <td>73.2</td>\n",
              "      <td>73.3</td>\n",
              "      <td>73.4</td>\n",
              "      <td>73.6</td>\n",
              "      <td>73.7</td>\n",
              "      <td>73.8</td>\n",
              "      <td>73.9</td>\n",
              "      <td>74.1</td>\n",
              "      <td>74.2</td>\n",
              "      <td>74.3</td>\n",
              "      <td>74.5</td>\n",
              "      <td>74.6</td>\n",
              "      <td>74.7</td>\n",
              "      <td>74.8</td>\n",
              "      <td>75.0</td>\n",
              "      <td>75.1</td>\n",
              "      <td>75.3</td>\n",
              "      <td>75.4</td>\n",
              "      <td>75.5</td>\n",
              "      <td>75.7</td>\n",
              "    </tr>\n",
              "  </tbody>\n",
              "</table>\n",
              "<p>5 rows × 302 columns</p>\n",
              "</div>"
            ],
            "text/plain": [
              "       country  1800  1801  1802  1803  ...  2096  2097  2098  2099  2100\n",
              "182  Venezuela  32.2  32.2  32.2  32.2  ...  86.9  87.0  87.1  87.2  87.3\n",
              "183    Vietnam  32.0  32.0  32.0  32.0  ...  84.8  84.9  85.0  85.2  85.3\n",
              "184      Yemen  23.4  23.4  23.4  23.4  ...  77.9  78.0  78.2  78.3  78.4\n",
              "185     Zambia  32.6  32.6  32.6  32.6  ...  77.6  77.7  77.8  78.0  78.1\n",
              "186   Zimbabwe  33.7  33.7  33.7  33.7  ...  75.1  75.3  75.4  75.5  75.7\n",
              "\n",
              "[5 rows x 302 columns]"
            ]
          },
          "metadata": {
            "tags": []
          },
          "execution_count": 203
        }
      ]
    },
    {
      "cell_type": "markdown",
      "metadata": {
        "id": "h_KGjg5TMOdF"
      },
      "source": [
        "---"
      ]
    },
    {
      "cell_type": "markdown",
      "metadata": {
        "id": "HKbB0goxl-gQ"
      },
      "source": [
        "## Exercise 3: Preprocess Life Expectancy Column"
      ]
    },
    {
      "cell_type": "markdown",
      "metadata": {
        "id": "DEYyHO4knkg8"
      },
      "source": [
        "Extract the life expectancy values for the United States into a NumPy array. \n",
        "\n",
        "To do this you'll need to find the row that contains data for the United States. When you find that row of data, you'll find the word 'United States' in the first column and then floating point numbers in subsequent columns. The goal of this step is to create a NumPy array containing those numbers, but excluding the first column with the title 'United States'."
      ]
    },
    {
      "cell_type": "markdown",
      "metadata": {
        "id": "sSyjgiQXRHYC"
      },
      "source": [
        "### Student Solution"
      ]
    },
    {
      "cell_type": "code",
      "metadata": {
        "colab": {
          "base_uri": "https://localhost:8080/"
        },
        "id": "7nvgLJVOV_zN",
        "outputId": "06d34509-3e1c-48ff-ed7c-c25d5f456723"
      },
      "source": [
        "import numpy as np\n",
        "\n",
        "us = df[df['country'] == 'United States'].values[:, 1:]\n",
        "us = us.reshape((us.shape[1], 1))\n",
        "us"
      ],
      "execution_count": null,
      "outputs": [
        {
          "output_type": "execute_result",
          "data": {
            "text/plain": [
              "array([[39.4],\n",
              "       [39.4],\n",
              "       [39.4],\n",
              "       [39.4],\n",
              "       [39.4],\n",
              "       [39.4],\n",
              "       [39.4],\n",
              "       [39.4],\n",
              "       [39.4],\n",
              "       [39.4],\n",
              "       [39.4],\n",
              "       [39.4],\n",
              "       [39.4],\n",
              "       [39.4],\n",
              "       [39.4],\n",
              "       [39.4],\n",
              "       [39.4],\n",
              "       [39.4],\n",
              "       [39.4],\n",
              "       [39.4],\n",
              "       [39.4],\n",
              "       [39.4],\n",
              "       [39.4],\n",
              "       [39.4],\n",
              "       [39.4],\n",
              "       [39.4],\n",
              "       [39.4],\n",
              "       [39.4],\n",
              "       [39.4],\n",
              "       [39.4],\n",
              "       [39.4],\n",
              "       [39.4],\n",
              "       [39.4],\n",
              "       [39.4],\n",
              "       [39.4],\n",
              "       [39.4],\n",
              "       [39.4],\n",
              "       [39.4],\n",
              "       [39.4],\n",
              "       [39.4],\n",
              "       [39.4],\n",
              "       [39.4],\n",
              "       [39.4],\n",
              "       [39.4],\n",
              "       [39.4],\n",
              "       [39.4],\n",
              "       [39.4],\n",
              "       [39.4],\n",
              "       [39.4],\n",
              "       [39.4],\n",
              "       [39.4],\n",
              "       [39.4],\n",
              "       [39.4],\n",
              "       [39.4],\n",
              "       [39.4],\n",
              "       [39.4],\n",
              "       [39.4],\n",
              "       [39.4],\n",
              "       [39.4],\n",
              "       [39.4],\n",
              "       [39.4],\n",
              "       [38.0],\n",
              "       [34.5],\n",
              "       [34.0],\n",
              "       [31.0],\n",
              "       [38.0],\n",
              "       [39.4],\n",
              "       [39.4],\n",
              "       [39.4],\n",
              "       [39.4],\n",
              "       [39.4],\n",
              "       [39.4],\n",
              "       [39.4],\n",
              "       [39.4],\n",
              "       [39.4],\n",
              "       [39.4],\n",
              "       [39.4],\n",
              "       [39.4],\n",
              "       [39.4],\n",
              "       [39.4],\n",
              "       [39.4],\n",
              "       [40.0],\n",
              "       [40.6],\n",
              "       [41.2],\n",
              "       [41.7],\n",
              "       [42.3],\n",
              "       [42.9],\n",
              "       [43.5],\n",
              "       [44.1],\n",
              "       [44.6],\n",
              "       [45.2],\n",
              "       [45.6],\n",
              "       [46.0],\n",
              "       [46.3],\n",
              "       [46.7],\n",
              "       [47.1],\n",
              "       [47.5],\n",
              "       [47.8],\n",
              "       [48.2],\n",
              "       [48.6],\n",
              "       [49.0],\n",
              "       [49.3],\n",
              "       [50.5],\n",
              "       [50.6],\n",
              "       [49.6],\n",
              "       [50.3],\n",
              "       [50.1],\n",
              "       [50.2],\n",
              "       [51.9],\n",
              "       [52.8],\n",
              "       [51.8],\n",
              "       [53.4],\n",
              "       [54.1],\n",
              "       [53.5],\n",
              "       [54.6],\n",
              "       [55.1],\n",
              "       [54.2],\n",
              "       [54.0],\n",
              "       [47.2],\n",
              "       [55.3],\n",
              "       [55.4],\n",
              "       [58.3],\n",
              "       [58.1],\n",
              "       [57.5],\n",
              "       [58.5],\n",
              "       [58.5],\n",
              "       [58.0],\n",
              "       [59.5],\n",
              "       [58.4],\n",
              "       [58.5],\n",
              "       [59.7],\n",
              "       [60.4],\n",
              "       [61.1],\n",
              "       [61.0],\n",
              "       [60.4],\n",
              "       [61.0],\n",
              "       [60.5],\n",
              "       [61.2],\n",
              "       [62.5],\n",
              "       [63.2],\n",
              "       [63.4],\n",
              "       [63.9],\n",
              "       [64.7],\n",
              "       [64.4],\n",
              "       [65.2],\n",
              "       [65.7],\n",
              "       [66.4],\n",
              "       [66.8],\n",
              "       [67.4],\n",
              "       [67.8],\n",
              "       [68.2],\n",
              "       [68.3],\n",
              "       [68.5],\n",
              "       [68.9],\n",
              "       [69.7],\n",
              "       [69.7],\n",
              "       [69.8],\n",
              "       [69.6],\n",
              "       [69.8],\n",
              "       [70.1],\n",
              "       [70.0],\n",
              "       [70.4],\n",
              "       [70.3],\n",
              "       [70.1],\n",
              "       [70.4],\n",
              "       [70.5],\n",
              "       [70.5],\n",
              "       [70.9],\n",
              "       [70.5],\n",
              "       [70.8],\n",
              "       [71.0],\n",
              "       [71.3],\n",
              "       [71.5],\n",
              "       [71.8],\n",
              "       [72.2],\n",
              "       [72.6],\n",
              "       [73.0],\n",
              "       [73.3],\n",
              "       [73.6],\n",
              "       [73.9],\n",
              "       [74.1],\n",
              "       [74.4],\n",
              "       [74.6],\n",
              "       [74.7],\n",
              "       [74.8],\n",
              "       [74.9],\n",
              "       [75.0],\n",
              "       [75.1],\n",
              "       [75.2],\n",
              "       [75.3],\n",
              "       [75.6],\n",
              "       [75.7],\n",
              "       [75.9],\n",
              "       [75.8],\n",
              "       [75.8],\n",
              "       [75.9],\n",
              "       [76.3],\n",
              "       [76.6],\n",
              "       [76.8],\n",
              "       [76.8],\n",
              "       [76.9],\n",
              "       [76.9],\n",
              "       [77.0],\n",
              "       [77.2],\n",
              "       [77.5],\n",
              "       [77.6],\n",
              "       [77.8],\n",
              "       [78.0],\n",
              "       [78.2],\n",
              "       [78.4],\n",
              "       [78.7],\n",
              "       [78.8],\n",
              "       [78.9],\n",
              "       [78.9],\n",
              "       [78.9],\n",
              "       [78.8],\n",
              "       [78.6],\n",
              "       [78.6],\n",
              "       [78.6],\n",
              "       [78.6],\n",
              "       [78.6],\n",
              "       [78.7],\n",
              "       [78.8],\n",
              "       [78.9],\n",
              "       [79.0],\n",
              "       [79.1],\n",
              "       [79.3],\n",
              "       [79.5],\n",
              "       [79.7],\n",
              "       [79.9],\n",
              "       [80.1],\n",
              "       [80.3],\n",
              "       [80.5],\n",
              "       [80.8],\n",
              "       [80.9],\n",
              "       [81.1],\n",
              "       [81.2],\n",
              "       [81.4],\n",
              "       [81.5],\n",
              "       [81.6],\n",
              "       [81.8],\n",
              "       [81.9],\n",
              "       [82.1],\n",
              "       [82.2],\n",
              "       [82.3],\n",
              "       [82.5],\n",
              "       [82.6],\n",
              "       [82.8],\n",
              "       [82.9],\n",
              "       [83.0],\n",
              "       [83.2],\n",
              "       [83.3],\n",
              "       [83.4],\n",
              "       [83.5],\n",
              "       [83.7],\n",
              "       [83.8],\n",
              "       [83.9],\n",
              "       [84.0],\n",
              "       [84.1],\n",
              "       [84.3],\n",
              "       [84.4],\n",
              "       [84.5],\n",
              "       [84.6],\n",
              "       [84.7],\n",
              "       [84.8],\n",
              "       [84.9],\n",
              "       [85.0],\n",
              "       [85.2],\n",
              "       [85.3],\n",
              "       [85.4],\n",
              "       [85.5],\n",
              "       [85.6],\n",
              "       [85.7],\n",
              "       [85.8],\n",
              "       [85.9],\n",
              "       [86.0],\n",
              "       [86.1],\n",
              "       [86.2],\n",
              "       [86.3],\n",
              "       [86.4],\n",
              "       [86.5],\n",
              "       [86.6],\n",
              "       [86.7],\n",
              "       [86.8],\n",
              "       [86.9],\n",
              "       [87.0],\n",
              "       [87.1],\n",
              "       [87.2],\n",
              "       [87.3],\n",
              "       [87.4],\n",
              "       [87.5],\n",
              "       [87.6],\n",
              "       [87.7],\n",
              "       [87.8],\n",
              "       [87.9],\n",
              "       [88.0],\n",
              "       [88.1],\n",
              "       [88.2],\n",
              "       [88.3],\n",
              "       [88.4],\n",
              "       [88.5]], dtype=object)"
            ]
          },
          "metadata": {
            "tags": []
          },
          "execution_count": 204
        }
      ]
    },
    {
      "cell_type": "markdown",
      "metadata": {
        "id": "-e7VTXN_MRtP"
      },
      "source": [
        "---"
      ]
    },
    {
      "cell_type": "markdown",
      "metadata": {
        "id": "VKjiMJUYmPxB"
      },
      "source": [
        "## Exercise 4: Create Yearly Data"
      ]
    },
    {
      "cell_type": "markdown",
      "metadata": {
        "id": "fxaHozJBnnEZ"
      },
      "source": [
        "Now we need to create an array of year data from the minimum to the maximum year in the dataset. There are a few ways that this can be done.\n",
        "\n",
        "The column names (except column 0) are the years. You can extract those years into an array, similarly to what you did for life expectancy. Note that the column names are strings, so you'll want to convert them into integers.\n",
        "\n",
        "If no years are missing from the dataset, you can also just use a range function to generate numbers between the min and max years."
      ]
    },
    {
      "cell_type": "markdown",
      "metadata": {
        "id": "QImI7PELRSmz"
      },
      "source": [
        "### Student Solution"
      ]
    },
    {
      "cell_type": "code",
      "metadata": {
        "id": "dpPEWZK-fVl7",
        "colab": {
          "base_uri": "https://localhost:8080/"
        },
        "outputId": "8e717e54-b3df-4f39-ab55-6a90c26784f3"
      },
      "source": [
        "# Your code goes here\n",
        "year = df.columns[1:].unique().to_numpy().astype('int')\n",
        "year = year.reshape(year.shape[0], 1)\n",
        "year"
      ],
      "execution_count": null,
      "outputs": [
        {
          "output_type": "execute_result",
          "data": {
            "text/plain": [
              "array([[1800],\n",
              "       [1801],\n",
              "       [1802],\n",
              "       [1803],\n",
              "       [1804],\n",
              "       [1805],\n",
              "       [1806],\n",
              "       [1807],\n",
              "       [1808],\n",
              "       [1809],\n",
              "       [1810],\n",
              "       [1811],\n",
              "       [1812],\n",
              "       [1813],\n",
              "       [1814],\n",
              "       [1815],\n",
              "       [1816],\n",
              "       [1817],\n",
              "       [1818],\n",
              "       [1819],\n",
              "       [1820],\n",
              "       [1821],\n",
              "       [1822],\n",
              "       [1823],\n",
              "       [1824],\n",
              "       [1825],\n",
              "       [1826],\n",
              "       [1827],\n",
              "       [1828],\n",
              "       [1829],\n",
              "       [1830],\n",
              "       [1831],\n",
              "       [1832],\n",
              "       [1833],\n",
              "       [1834],\n",
              "       [1835],\n",
              "       [1836],\n",
              "       [1837],\n",
              "       [1838],\n",
              "       [1839],\n",
              "       [1840],\n",
              "       [1841],\n",
              "       [1842],\n",
              "       [1843],\n",
              "       [1844],\n",
              "       [1845],\n",
              "       [1846],\n",
              "       [1847],\n",
              "       [1848],\n",
              "       [1849],\n",
              "       [1850],\n",
              "       [1851],\n",
              "       [1852],\n",
              "       [1853],\n",
              "       [1854],\n",
              "       [1855],\n",
              "       [1856],\n",
              "       [1857],\n",
              "       [1858],\n",
              "       [1859],\n",
              "       [1860],\n",
              "       [1861],\n",
              "       [1862],\n",
              "       [1863],\n",
              "       [1864],\n",
              "       [1865],\n",
              "       [1866],\n",
              "       [1867],\n",
              "       [1868],\n",
              "       [1869],\n",
              "       [1870],\n",
              "       [1871],\n",
              "       [1872],\n",
              "       [1873],\n",
              "       [1874],\n",
              "       [1875],\n",
              "       [1876],\n",
              "       [1877],\n",
              "       [1878],\n",
              "       [1879],\n",
              "       [1880],\n",
              "       [1881],\n",
              "       [1882],\n",
              "       [1883],\n",
              "       [1884],\n",
              "       [1885],\n",
              "       [1886],\n",
              "       [1887],\n",
              "       [1888],\n",
              "       [1889],\n",
              "       [1890],\n",
              "       [1891],\n",
              "       [1892],\n",
              "       [1893],\n",
              "       [1894],\n",
              "       [1895],\n",
              "       [1896],\n",
              "       [1897],\n",
              "       [1898],\n",
              "       [1899],\n",
              "       [1900],\n",
              "       [1901],\n",
              "       [1902],\n",
              "       [1903],\n",
              "       [1904],\n",
              "       [1905],\n",
              "       [1906],\n",
              "       [1907],\n",
              "       [1908],\n",
              "       [1909],\n",
              "       [1910],\n",
              "       [1911],\n",
              "       [1912],\n",
              "       [1913],\n",
              "       [1914],\n",
              "       [1915],\n",
              "       [1916],\n",
              "       [1917],\n",
              "       [1918],\n",
              "       [1919],\n",
              "       [1920],\n",
              "       [1921],\n",
              "       [1922],\n",
              "       [1923],\n",
              "       [1924],\n",
              "       [1925],\n",
              "       [1926],\n",
              "       [1927],\n",
              "       [1928],\n",
              "       [1929],\n",
              "       [1930],\n",
              "       [1931],\n",
              "       [1932],\n",
              "       [1933],\n",
              "       [1934],\n",
              "       [1935],\n",
              "       [1936],\n",
              "       [1937],\n",
              "       [1938],\n",
              "       [1939],\n",
              "       [1940],\n",
              "       [1941],\n",
              "       [1942],\n",
              "       [1943],\n",
              "       [1944],\n",
              "       [1945],\n",
              "       [1946],\n",
              "       [1947],\n",
              "       [1948],\n",
              "       [1949],\n",
              "       [1950],\n",
              "       [1951],\n",
              "       [1952],\n",
              "       [1953],\n",
              "       [1954],\n",
              "       [1955],\n",
              "       [1956],\n",
              "       [1957],\n",
              "       [1958],\n",
              "       [1959],\n",
              "       [1960],\n",
              "       [1961],\n",
              "       [1962],\n",
              "       [1963],\n",
              "       [1964],\n",
              "       [1965],\n",
              "       [1966],\n",
              "       [1967],\n",
              "       [1968],\n",
              "       [1969],\n",
              "       [1970],\n",
              "       [1971],\n",
              "       [1972],\n",
              "       [1973],\n",
              "       [1974],\n",
              "       [1975],\n",
              "       [1976],\n",
              "       [1977],\n",
              "       [1978],\n",
              "       [1979],\n",
              "       [1980],\n",
              "       [1981],\n",
              "       [1982],\n",
              "       [1983],\n",
              "       [1984],\n",
              "       [1985],\n",
              "       [1986],\n",
              "       [1987],\n",
              "       [1988],\n",
              "       [1989],\n",
              "       [1990],\n",
              "       [1991],\n",
              "       [1992],\n",
              "       [1993],\n",
              "       [1994],\n",
              "       [1995],\n",
              "       [1996],\n",
              "       [1997],\n",
              "       [1998],\n",
              "       [1999],\n",
              "       [2000],\n",
              "       [2001],\n",
              "       [2002],\n",
              "       [2003],\n",
              "       [2004],\n",
              "       [2005],\n",
              "       [2006],\n",
              "       [2007],\n",
              "       [2008],\n",
              "       [2009],\n",
              "       [2010],\n",
              "       [2011],\n",
              "       [2012],\n",
              "       [2013],\n",
              "       [2014],\n",
              "       [2015],\n",
              "       [2016],\n",
              "       [2017],\n",
              "       [2018],\n",
              "       [2019],\n",
              "       [2020],\n",
              "       [2021],\n",
              "       [2022],\n",
              "       [2023],\n",
              "       [2024],\n",
              "       [2025],\n",
              "       [2026],\n",
              "       [2027],\n",
              "       [2028],\n",
              "       [2029],\n",
              "       [2030],\n",
              "       [2031],\n",
              "       [2032],\n",
              "       [2033],\n",
              "       [2034],\n",
              "       [2035],\n",
              "       [2036],\n",
              "       [2037],\n",
              "       [2038],\n",
              "       [2039],\n",
              "       [2040],\n",
              "       [2041],\n",
              "       [2042],\n",
              "       [2043],\n",
              "       [2044],\n",
              "       [2045],\n",
              "       [2046],\n",
              "       [2047],\n",
              "       [2048],\n",
              "       [2049],\n",
              "       [2050],\n",
              "       [2051],\n",
              "       [2052],\n",
              "       [2053],\n",
              "       [2054],\n",
              "       [2055],\n",
              "       [2056],\n",
              "       [2057],\n",
              "       [2058],\n",
              "       [2059],\n",
              "       [2060],\n",
              "       [2061],\n",
              "       [2062],\n",
              "       [2063],\n",
              "       [2064],\n",
              "       [2065],\n",
              "       [2066],\n",
              "       [2067],\n",
              "       [2068],\n",
              "       [2069],\n",
              "       [2070],\n",
              "       [2071],\n",
              "       [2072],\n",
              "       [2073],\n",
              "       [2074],\n",
              "       [2075],\n",
              "       [2076],\n",
              "       [2077],\n",
              "       [2078],\n",
              "       [2079],\n",
              "       [2080],\n",
              "       [2081],\n",
              "       [2082],\n",
              "       [2083],\n",
              "       [2084],\n",
              "       [2085],\n",
              "       [2086],\n",
              "       [2087],\n",
              "       [2088],\n",
              "       [2089],\n",
              "       [2090],\n",
              "       [2091],\n",
              "       [2092],\n",
              "       [2093],\n",
              "       [2094],\n",
              "       [2095],\n",
              "       [2096],\n",
              "       [2097],\n",
              "       [2098],\n",
              "       [2099],\n",
              "       [2100]])"
            ]
          },
          "metadata": {
            "tags": []
          },
          "execution_count": 205
        }
      ]
    },
    {
      "cell_type": "markdown",
      "metadata": {
        "id": "xHJOCRU3NgRi"
      },
      "source": [
        "---"
      ]
    },
    {
      "cell_type": "markdown",
      "metadata": {
        "id": "XaAeDllAmeQk"
      },
      "source": [
        "## Exercise 5: Plot the Data"
      ]
    },
    {
      "cell_type": "markdown",
      "metadata": {
        "id": "Av4o6raqnpeT"
      },
      "source": [
        "Create a scatterplot of the data."
      ]
    },
    {
      "cell_type": "markdown",
      "metadata": {
        "id": "R7sBzMhmRejB"
      },
      "source": [
        "### Student Solution"
      ]
    },
    {
      "cell_type": "code",
      "metadata": {
        "id": "iY2K1x7Wf-yr",
        "colab": {
          "base_uri": "https://localhost:8080/",
          "height": 279
        },
        "outputId": "bf67f5d4-fcd1-4845-8852-a41905dd1ca2"
      },
      "source": [
        "# Your code goes here\n",
        "import matplotlib.pyplot as plt\n",
        "\n",
        "plt.plot(year, us, \"b.\")\n",
        "plt.xlabel(\"Year\")\n",
        "plt.ylabel(\"Life expectancy in US\")\n",
        "plt.show()"
      ],
      "execution_count": null,
      "outputs": [
        {
          "output_type": "display_data",
          "data": {
            "image/png": "[encoded data removed]",
            "text/plain": [
              "<Figure size 432x288 with 1 Axes>"
            ]
          },
          "metadata": {
            "tags": [],
            "needs_background": "light"
          }
        }
      ]
    },
    {
      "cell_type": "markdown",
      "metadata": {
        "id": "Su5luLDDNiPE"
      },
      "source": [
        "---"
      ]
    },
    {
      "cell_type": "markdown",
      "metadata": {
        "id": "iQp6L7K2mj6F"
      },
      "source": [
        "## Exercise 6: Subset the Data"
      ]
    },
    {
      "cell_type": "markdown",
      "metadata": {
        "id": "ygr_3N79nsQu"
      },
      "source": [
        "Split off 20% of the data as a test set, and keep the rest for training.\n",
        "\n",
        "To do this it will be useful to create a `DataFrame` and store the years and life expectancy arrays created above as columns in that dataframe.\n",
        "\n",
        "You can then randomize and split the dataframe, or use scikit-learn's built in test/train data splitter."
      ]
    },
    {
      "cell_type": "markdown",
      "metadata": {
        "id": "JPUqZXnxR5d8"
      },
      "source": [
        "### Student Solution"
      ]
    },
    {
      "cell_type": "code",
      "metadata": {
        "id": "j4D8uwmhmqqp",
        "colab": {
          "base_uri": "https://localhost:8080/"
        },
        "outputId": "26995c27-0fd8-4277-ae92-8b0a603da724"
      },
      "source": [
        "# Your code goes here\n",
        "from sklearn.model_selection import train_test_split\n",
        "\n",
        "X_train, X_test, y_train, y_test = train_test_split(\n",
        "    year, us, test_size = 0.2, random_state=42\n",
        ")\n",
        "\n",
        "X_train.shape, X_test.shape, y_train.shape, y_test.shape"
      ],
      "execution_count": null,
      "outputs": [
        {
          "output_type": "execute_result",
          "data": {
            "text/plain": [
              "((240, 1), (61, 1), (240, 1), (61, 1))"
            ]
          },
          "metadata": {
            "tags": []
          },
          "execution_count": 207
        }
      ]
    },
    {
      "cell_type": "markdown",
      "metadata": {
        "id": "NFIHbMESNsaw"
      },
      "source": [
        "---"
      ]
    },
    {
      "cell_type": "markdown",
      "metadata": {
        "id": "JN_s6eb_mswQ"
      },
      "source": [
        "## Exercise 7: Train a Model"
      ]
    },
    {
      "cell_type": "markdown",
      "metadata": {
        "id": "pV7ZhE6qnumn"
      },
      "source": [
        "Use `LinearRegression` in scikit-learn to create a model."
      ]
    },
    {
      "cell_type": "markdown",
      "metadata": {
        "id": "lDKFaGk4SHMA"
      },
      "source": [
        "### Student Solution"
      ]
    },
    {
      "cell_type": "code",
      "metadata": {
        "id": "-H0VAClvOACh",
        "colab": {
          "base_uri": "https://localhost:8080/"
        },
        "outputId": "9613324f-bbee-4a10-ea19-7e422db18711"
      },
      "source": [
        "# Your code goes here\n",
        "from sklearn.linear_model import LinearRegression\n",
        "\n",
        "lr = LinearRegression()\n",
        "lr.fit(X_train, y_train)\n",
        "lr.coef_, lr.intercept_"
      ],
      "execution_count": null,
      "outputs": [
        {
          "output_type": "execute_result",
          "data": {
            "text/plain": [
              "(array([[0.20623809]]), array([-339.16760189]))"
            ]
          },
          "metadata": {
            "tags": []
          },
          "execution_count": 208
        }
      ]
    },
    {
      "cell_type": "markdown",
      "metadata": {
        "id": "CbfzTfazOBq5"
      },
      "source": [
        "---"
      ]
    },
    {
      "cell_type": "markdown",
      "metadata": {
        "id": "dtFpVNwEnX9Q"
      },
      "source": [
        "## Exercise 8: Test Your Model"
      ]
    },
    {
      "cell_type": "markdown",
      "metadata": {
        "id": "mALMCq0SnwoR"
      },
      "source": [
        "Use the test data you put aside to make predictions of life expectancy based on year. Compare the predictions to the actual data by using scikit-learn to calculate the root mean squared error."
      ]
    },
    {
      "cell_type": "markdown",
      "metadata": {
        "id": "8my8vKLBSZPE"
      },
      "source": [
        "### Student Solution"
      ]
    },
    {
      "cell_type": "code",
      "metadata": {
        "id": "3xABv08xnzNg",
        "colab": {
          "base_uri": "https://localhost:8080/"
        },
        "outputId": "e3e226b9-1693-411d-93c4-cca7c2b79e0e"
      },
      "source": [
        "# Your code goes here\n",
        "lr_predict = lr.predict(X_test)\n",
        "lr_predict"
      ],
      "execution_count": null,
      "outputs": [
        {
          "output_type": "execute_result",
          "data": {
            "text/plain": [
              "array([[68.5650942 ],\n",
              "       [91.66375983],\n",
              "       [79.08323658],\n",
              "       [72.896094  ],\n",
              "       [44.43523813],\n",
              "       [33.91709574],\n",
              "       [56.39704712],\n",
              "       [63.82161822],\n",
              "       [65.88399908],\n",
              "       [38.86680981],\n",
              "       [33.0921434 ],\n",
              "       [55.98457095],\n",
              "       [41.34166684],\n",
              "       [67.74014185],\n",
              "       [79.49571276],\n",
              "       [41.54790492],\n",
              "       [57.63447564],\n",
              "       [52.06604731],\n",
              "       [64.64657056],\n",
              "       [52.89099966],\n",
              "       [66.70895142],\n",
              "       [87.12652194],\n",
              "       [81.55809362],\n",
              "       [37.21690512],\n",
              "       [61.75923736],\n",
              "       [82.79552213],\n",
              "       [83.82671256],\n",
              "       [47.11633325],\n",
              "       [54.54090435],\n",
              "       [54.33466626],\n",
              "       [60.31557075],\n",
              "       [90.22009323],\n",
              "       [65.67776099],\n",
              "       [40.72295258],\n",
              "       [35.56700043],\n",
              "       [86.92028385],\n",
              "       [47.73504751],\n",
              "       [50.62238071],\n",
              "       [37.01066703],\n",
              "       [43.81652387],\n",
              "       [51.03485688],\n",
              "       [47.94128559],\n",
              "       [91.86999792],\n",
              "       [66.50271333],\n",
              "       [33.50461957],\n",
              "       [60.93428501],\n",
              "       [89.60137897],\n",
              "       [48.14752368],\n",
              "       [83.2079983 ],\n",
              "       [79.28947467],\n",
              "       [78.25828424],\n",
              "       [53.50971391],\n",
              "       [45.05395239],\n",
              "       [48.97247602],\n",
              "       [78.05204615],\n",
              "       [88.77642663],\n",
              "       [80.3206651 ],\n",
              "       [93.10742643],\n",
              "       [90.01385514],\n",
              "       [90.83880749],\n",
              "       [69.59628463]])"
            ]
          },
          "metadata": {
            "tags": []
          },
          "execution_count": 209
        }
      ]
    },
    {
      "cell_type": "code",
      "metadata": {
        "colab": {
          "base_uri": "https://localhost:8080/"
        },
        "id": "i0v7KFVdEVF9",
        "outputId": "9eb4a71d-d9b9-430e-9741-b759d4ed3934"
      },
      "source": [
        "from sklearn.metrics import mean_squared_error\n",
        "\n",
        "rmse = mean_squared_error(y_test, lr_predict, squared=False)\n",
        "rmse"
      ],
      "execution_count": null,
      "outputs": [
        {
          "output_type": "execute_result",
          "data": {
            "text/plain": [
              "4.466212161494204"
            ]
          },
          "metadata": {
            "tags": []
          },
          "execution_count": 210
        }
      ]
    },
    {
      "cell_type": "markdown",
      "metadata": {
        "id": "3zgvlJJtPRWg"
      },
      "source": [
        "---"
      ]
    },
    {
      "cell_type": "markdown",
      "metadata": {
        "id": "yN34XjZpn8YS"
      },
      "source": [
        "## Exercise 9: Plot Your Regression"
      ]
    },
    {
      "cell_type": "markdown",
      "metadata": {
        "id": "6XxLAdoan1J6"
      },
      "source": [
        "Create a scatter plot of the full set of life expectancy data. Draw your regression line over the scatterplot."
      ]
    },
    {
      "cell_type": "markdown",
      "metadata": {
        "id": "CtivIm4GSoVI"
      },
      "source": [
        "### Student Solution"
      ]
    },
    {
      "cell_type": "code",
      "metadata": {
        "id": "XJUdILlKoQ4T",
        "colab": {
          "base_uri": "https://localhost:8080/",
          "height": 295
        },
        "outputId": "7d12038a-e8c7-4389-a02b-7f8987c02e79"
      },
      "source": [
        "# Your code goes here\n",
        "import matplotlib.pyplot as plt\n",
        "\n",
        "plt.scatter(X_train, y_train)\n",
        "plt.plot(X_test, lr_predict, 'r-')\n",
        "plt.title(\"Life expectancy in US\")\n",
        "plt.xlabel(\"Year\")\n",
        "plt.ylabel(\"Life expectancy\")\n",
        "plt.show()"
      ],
      "execution_count": null,
      "outputs": [
        {
          "output_type": "display_data",
          "data": {
            "image/png": "[encoded data removed]",
            "text/plain": [
              "<Figure size 432x288 with 1 Axes>"
            ]
          },
          "metadata": {
            "tags": [],
            "needs_background": "light"
          }
        }
      ]
    },
    {
      "cell_type": "markdown",
      "metadata": {
        "id": "A2FLyo2MPtrp"
      },
      "source": [
        "---"
      ]
    },
    {
      "cell_type": "markdown",
      "metadata": {
        "id": "WClC4PzQIXXr"
      },
      "source": [
        "## Challenge"
      ]
    },
    {
      "cell_type": "markdown",
      "metadata": {
        "id": "sJvVUYPmn4i9"
      },
      "source": [
        "The [CalCOFI dataset](https://www.kaggle.com/sohier/calcofi/version/2) contains decades of oceanic data. In this exercise, we will use this data to attempt to predict water temperature based on salinity. The exercise is divided into multiple steps, each with a code block after it for your solution."
      ]
    },
    {
      "cell_type": "markdown",
      "metadata": {
        "id": "Ly-Yql3A7ooA"
      },
      "source": [
        "### Student Solution"
      ]
    },
    {
      "cell_type": "markdown",
      "metadata": {
        "id": "IXJfxu8lKNsg"
      },
      "source": [
        "**Acquire the data**\n",
        "\n",
        "The [CalCOFI data](https://www.kaggle.com/sohier/calcofi/version/2) consists of two files, one containing data about *Casts* and the other about *Bottles*. Look at the data files and try to get an understanding of what a cast is and what a bottle is.\n",
        "\n",
        "Find the file that contains temperature and salinity information, download that file, and then upload it to Colab. You'll want to use the zipped version of the file, so that the upload doesn't take too long.\n",
        "\n",
        "Once the file is uploaded, use Python to unzip the file."
      ]
    },
    {
      "cell_type": "code",
      "metadata": {
        "id": "lcLke7YdP4rf",
        "colab": {
          "base_uri": "https://localhost:8080/"
        },
        "outputId": "1f634263-191b-4a8c-e1c2-b01a9c5fc037"
      },
      "source": [
        "! chmod 600 kaggle.json \n",
        "! (ls ~/.kaggle 2>/dev/null || mkdir ~/.kaggle) \n",
        "! mv kaggle.json ~/.kaggle/ && echo 'Done'"
      ],
      "execution_count": null,
      "outputs": [
        {
          "output_type": "stream",
          "text": [
            "chmod: cannot access 'kaggle.json': No such file or directory\n",
            "kaggle.json\n",
            "mv: cannot stat 'kaggle.json': No such file or directory\n"
          ],
          "name": "stdout"
        }
      ]
    },
    {
      "cell_type": "code",
      "metadata": {
        "colab": {
          "base_uri": "https://localhost:8080/"
        },
        "id": "m-j5kRNyG9Uz",
        "outputId": "ef30afe4-b02e-4c13-91b3-2f8dafd6d109"
      },
      "source": [
        "! kaggle datasets download sohier/calcofi/version/2"
      ],
      "execution_count": null,
      "outputs": [
        {
          "output_type": "stream",
          "text": [
            "calcofi.zip: Skipping, found more recently modified local copy (use --force to force download)\n"
          ],
          "name": "stdout"
        }
      ]
    },
    {
      "cell_type": "code",
      "metadata": {
        "id": "k_MHObM_HBvZ"
      },
      "source": [
        "# Your code goes here\n",
        "import zipfile\n",
        "\n",
        "with zipfile.ZipFile(\"calcofi.zip\") as z:\n",
        "    z.extractall(\"./\")"
      ],
      "execution_count": null,
      "outputs": []
    },
    {
      "cell_type": "markdown",
      "metadata": {
        "id": "4NAaW2FpLEe7"
      },
      "source": [
        "**Load the data using Pandas**\n",
        "\n",
        "Now that you have an unzipped version of the file, you can load the data into memory using Pandas. Write code to read the file into memory and describe the data table that you created."
      ]
    },
    {
      "cell_type": "code",
      "metadata": {
        "id": "dTXmyrbBP-dT",
        "colab": {
          "base_uri": "https://localhost:8080/",
          "height": 689
        },
        "outputId": "d281a19d-f8ee-41d6-e4cc-ad024f6aa1dd"
      },
      "source": [
        "# Your code goes here\n",
        "import pandas as pd\n",
        "\n",
        "df = pd.read_csv('bottle.csv')\n",
        "df"
      ],
      "execution_count": null,
      "outputs": [
        {
          "output_type": "stream",
          "text": [
            "/usr/local/lib/python3.7/dist-packages/IPython/core/interactiveshell.py:2718: DtypeWarning: Columns (47,73) have mixed types.Specify dtype option on import or set low_memory=False.\n",
            "  interactivity=interactivity, compiler=compiler, result=result)\n"
          ],
          "name": "stderr"
        },
        {
          "output_type": "execute_result",
          "data": {
            "text/html": [
              "<div>\n",
              "<style scoped>\n",
              "    .dataframe tbody tr th:only-of-type {\n",
              "        vertical-align: middle;\n",
              "    }\n",
              "\n",
              "    .dataframe tbody tr th {\n",
              "        vertical-align: top;\n",
              "    }\n",
              "\n",
              "    .dataframe thead th {\n",
              "        text-align: right;\n",
              "    }\n",
              "</style>\n",
              "<table border=\"1\" class=\"dataframe\">\n",
              "  <thead>\n",
              "    <tr style=\"text-align: right;\">\n",
              "      <th></th>\n",
              "      <th>Cst_Cnt</th>\n",
              "      <th>Btl_Cnt</th>\n",
              "      <th>Sta_ID</th>\n",
              "      <th>Depth_ID</th>\n",
              "      <th>Depthm</th>\n",
              "      <th>T_degC</th>\n",
              "      <th>Salnty</th>\n",
              "      <th>O2ml_L</th>\n",
              "      <th>STheta</th>\n",
              "      <th>O2Sat</th>\n",
              "      <th>Oxy_µmol/Kg</th>\n",
              "      <th>BtlNum</th>\n",
              "      <th>RecInd</th>\n",
              "      <th>T_prec</th>\n",
              "      <th>T_qual</th>\n",
              "      <th>S_prec</th>\n",
              "      <th>S_qual</th>\n",
              "      <th>P_qual</th>\n",
              "      <th>O_qual</th>\n",
              "      <th>SThtaq</th>\n",
              "      <th>O2Satq</th>\n",
              "      <th>ChlorA</th>\n",
              "      <th>Chlqua</th>\n",
              "      <th>Phaeop</th>\n",
              "      <th>Phaqua</th>\n",
              "      <th>PO4uM</th>\n",
              "      <th>PO4q</th>\n",
              "      <th>SiO3uM</th>\n",
              "      <th>SiO3qu</th>\n",
              "      <th>NO2uM</th>\n",
              "      <th>NO2q</th>\n",
              "      <th>NO3uM</th>\n",
              "      <th>NO3q</th>\n",
              "      <th>NH3uM</th>\n",
              "      <th>NH3q</th>\n",
              "      <th>C14As1</th>\n",
              "      <th>C14A1p</th>\n",
              "      <th>C14A1q</th>\n",
              "      <th>C14As2</th>\n",
              "      <th>C14A2p</th>\n",
              "      <th>C14A2q</th>\n",
              "      <th>DarkAs</th>\n",
              "      <th>DarkAp</th>\n",
              "      <th>DarkAq</th>\n",
              "      <th>MeanAs</th>\n",
              "      <th>MeanAp</th>\n",
              "      <th>MeanAq</th>\n",
              "      <th>IncTim</th>\n",
              "      <th>LightP</th>\n",
              "      <th>R_Depth</th>\n",
              "      <th>R_TEMP</th>\n",
              "      <th>R_POTEMP</th>\n",
              "      <th>R_SALINITY</th>\n",
              "      <th>R_SIGMA</th>\n",
              "      <th>R_SVA</th>\n",
              "      <th>R_DYNHT</th>\n",
              "      <th>R_O2</th>\n",
              "      <th>R_O2Sat</th>\n",
              "      <th>R_SIO3</th>\n",
              "      <th>R_PO4</th>\n",
              "      <th>R_NO3</th>\n",
              "      <th>R_NO2</th>\n",
              "      <th>R_NH4</th>\n",
              "      <th>R_CHLA</th>\n",
              "      <th>R_PHAEO</th>\n",
              "      <th>R_PRES</th>\n",
              "      <th>R_SAMP</th>\n",
              "      <th>DIC1</th>\n",
              "      <th>DIC2</th>\n",
              "      <th>TA1</th>\n",
              "      <th>TA2</th>\n",
              "      <th>pH2</th>\n",
              "      <th>pH1</th>\n",
              "      <th>DIC Quality Comment</th>\n",
              "    </tr>\n",
              "  </thead>\n",
              "  <tbody>\n",
              "    <tr>\n",
              "      <th>0</th>\n",
              "      <td>1</td>\n",
              "      <td>1</td>\n",
              "      <td>054.0 056.0</td>\n",
              "      <td>19-4903CR-HY-060-0930-05400560-0000A-3</td>\n",
              "      <td>0</td>\n",
              "      <td>10.500</td>\n",
              "      <td>33.4400</td>\n",
              "      <td>NaN</td>\n",
              "      <td>25.64900</td>\n",
              "      <td>NaN</td>\n",
              "      <td>NaN</td>\n",
              "      <td>NaN</td>\n",
              "      <td>3</td>\n",
              "      <td>1.0</td>\n",
              "      <td>NaN</td>\n",
              "      <td>2.0</td>\n",
              "      <td>NaN</td>\n",
              "      <td>9.0</td>\n",
              "      <td>9.0</td>\n",
              "      <td>NaN</td>\n",
              "      <td>9.0</td>\n",
              "      <td>NaN</td>\n",
              "      <td>9.0</td>\n",
              "      <td>NaN</td>\n",
              "      <td>9.0</td>\n",
              "      <td>NaN</td>\n",
              "      <td>9.0</td>\n",
              "      <td>NaN</td>\n",
              "      <td>9.0</td>\n",
              "      <td>NaN</td>\n",
              "      <td>9.0</td>\n",
              "      <td>NaN</td>\n",
              "      <td>9.0</td>\n",
              "      <td>NaN</td>\n",
              "      <td>9.0</td>\n",
              "      <td>NaN</td>\n",
              "      <td>NaN</td>\n",
              "      <td>9.0</td>\n",
              "      <td>NaN</td>\n",
              "      <td>NaN</td>\n",
              "      <td>9.0</td>\n",
              "      <td>NaN</td>\n",
              "      <td>NaN</td>\n",
              "      <td>9.0</td>\n",
              "      <td>NaN</td>\n",
              "      <td>NaN</td>\n",
              "      <td>9.0</td>\n",
              "      <td>NaN</td>\n",
              "      <td>NaN</td>\n",
              "      <td>0.0</td>\n",
              "      <td>10.50</td>\n",
              "      <td>10.50</td>\n",
              "      <td>33.440</td>\n",
              "      <td>25.640</td>\n",
              "      <td>233.0</td>\n",
              "      <td>0.000</td>\n",
              "      <td>NaN</td>\n",
              "      <td>NaN</td>\n",
              "      <td>NaN</td>\n",
              "      <td>NaN</td>\n",
              "      <td>NaN</td>\n",
              "      <td>NaN</td>\n",
              "      <td>NaN</td>\n",
              "      <td>NaN</td>\n",
              "      <td>NaN</td>\n",
              "      <td>0</td>\n",
              "      <td>NaN</td>\n",
              "      <td>NaN</td>\n",
              "      <td>NaN</td>\n",
              "      <td>NaN</td>\n",
              "      <td>NaN</td>\n",
              "      <td>NaN</td>\n",
              "      <td>NaN</td>\n",
              "      <td>NaN</td>\n",
              "    </tr>\n",
              "    <tr>\n",
              "      <th>1</th>\n",
              "      <td>1</td>\n",
              "      <td>2</td>\n",
              "      <td>054.0 056.0</td>\n",
              "      <td>19-4903CR-HY-060-0930-05400560-0008A-3</td>\n",
              "      <td>8</td>\n",
              "      <td>10.460</td>\n",
              "      <td>33.4400</td>\n",
              "      <td>NaN</td>\n",
              "      <td>25.65600</td>\n",
              "      <td>NaN</td>\n",
              "      <td>NaN</td>\n",
              "      <td>NaN</td>\n",
              "      <td>3</td>\n",
              "      <td>2.0</td>\n",
              "      <td>NaN</td>\n",
              "      <td>2.0</td>\n",
              "      <td>NaN</td>\n",
              "      <td>9.0</td>\n",
              "      <td>9.0</td>\n",
              "      <td>NaN</td>\n",
              "      <td>9.0</td>\n",
              "      <td>NaN</td>\n",
              "      <td>9.0</td>\n",
              "      <td>NaN</td>\n",
              "      <td>9.0</td>\n",
              "      <td>NaN</td>\n",
              "      <td>9.0</td>\n",
              "      <td>NaN</td>\n",
              "      <td>9.0</td>\n",
              "      <td>NaN</td>\n",
              "      <td>9.0</td>\n",
              "      <td>NaN</td>\n",
              "      <td>9.0</td>\n",
              "      <td>NaN</td>\n",
              "      <td>9.0</td>\n",
              "      <td>NaN</td>\n",
              "      <td>NaN</td>\n",
              "      <td>9.0</td>\n",
              "      <td>NaN</td>\n",
              "      <td>NaN</td>\n",
              "      <td>9.0</td>\n",
              "      <td>NaN</td>\n",
              "      <td>NaN</td>\n",
              "      <td>9.0</td>\n",
              "      <td>NaN</td>\n",
              "      <td>NaN</td>\n",
              "      <td>9.0</td>\n",
              "      <td>NaN</td>\n",
              "      <td>NaN</td>\n",
              "      <td>8.0</td>\n",
              "      <td>10.46</td>\n",
              "      <td>10.46</td>\n",
              "      <td>33.440</td>\n",
              "      <td>25.650</td>\n",
              "      <td>232.5</td>\n",
              "      <td>0.010</td>\n",
              "      <td>NaN</td>\n",
              "      <td>NaN</td>\n",
              "      <td>NaN</td>\n",
              "      <td>NaN</td>\n",
              "      <td>NaN</td>\n",
              "      <td>NaN</td>\n",
              "      <td>NaN</td>\n",
              "      <td>NaN</td>\n",
              "      <td>NaN</td>\n",
              "      <td>8</td>\n",
              "      <td>NaN</td>\n",
              "      <td>NaN</td>\n",
              "      <td>NaN</td>\n",
              "      <td>NaN</td>\n",
              "      <td>NaN</td>\n",
              "      <td>NaN</td>\n",
              "      <td>NaN</td>\n",
              "      <td>NaN</td>\n",
              "    </tr>\n",
              "    <tr>\n",
              "      <th>2</th>\n",
              "      <td>1</td>\n",
              "      <td>3</td>\n",
              "      <td>054.0 056.0</td>\n",
              "      <td>19-4903CR-HY-060-0930-05400560-0010A-7</td>\n",
              "      <td>10</td>\n",
              "      <td>10.460</td>\n",
              "      <td>33.4370</td>\n",
              "      <td>NaN</td>\n",
              "      <td>25.65400</td>\n",
              "      <td>NaN</td>\n",
              "      <td>NaN</td>\n",
              "      <td>NaN</td>\n",
              "      <td>7</td>\n",
              "      <td>2.0</td>\n",
              "      <td>NaN</td>\n",
              "      <td>3.0</td>\n",
              "      <td>NaN</td>\n",
              "      <td>9.0</td>\n",
              "      <td>9.0</td>\n",
              "      <td>NaN</td>\n",
              "      <td>9.0</td>\n",
              "      <td>NaN</td>\n",
              "      <td>9.0</td>\n",
              "      <td>NaN</td>\n",
              "      <td>9.0</td>\n",
              "      <td>NaN</td>\n",
              "      <td>9.0</td>\n",
              "      <td>NaN</td>\n",
              "      <td>9.0</td>\n",
              "      <td>NaN</td>\n",
              "      <td>9.0</td>\n",
              "      <td>NaN</td>\n",
              "      <td>9.0</td>\n",
              "      <td>NaN</td>\n",
              "      <td>9.0</td>\n",
              "      <td>NaN</td>\n",
              "      <td>NaN</td>\n",
              "      <td>9.0</td>\n",
              "      <td>NaN</td>\n",
              "      <td>NaN</td>\n",
              "      <td>9.0</td>\n",
              "      <td>NaN</td>\n",
              "      <td>NaN</td>\n",
              "      <td>9.0</td>\n",
              "      <td>NaN</td>\n",
              "      <td>NaN</td>\n",
              "      <td>9.0</td>\n",
              "      <td>NaN</td>\n",
              "      <td>NaN</td>\n",
              "      <td>10.0</td>\n",
              "      <td>10.46</td>\n",
              "      <td>10.46</td>\n",
              "      <td>33.437</td>\n",
              "      <td>25.650</td>\n",
              "      <td>232.8</td>\n",
              "      <td>0.020</td>\n",
              "      <td>NaN</td>\n",
              "      <td>NaN</td>\n",
              "      <td>NaN</td>\n",
              "      <td>NaN</td>\n",
              "      <td>NaN</td>\n",
              "      <td>NaN</td>\n",
              "      <td>NaN</td>\n",
              "      <td>NaN</td>\n",
              "      <td>NaN</td>\n",
              "      <td>10</td>\n",
              "      <td>NaN</td>\n",
              "      <td>NaN</td>\n",
              "      <td>NaN</td>\n",
              "      <td>NaN</td>\n",
              "      <td>NaN</td>\n",
              "      <td>NaN</td>\n",
              "      <td>NaN</td>\n",
              "      <td>NaN</td>\n",
              "    </tr>\n",
              "    <tr>\n",
              "      <th>3</th>\n",
              "      <td>1</td>\n",
              "      <td>4</td>\n",
              "      <td>054.0 056.0</td>\n",
              "      <td>19-4903CR-HY-060-0930-05400560-0019A-3</td>\n",
              "      <td>19</td>\n",
              "      <td>10.450</td>\n",
              "      <td>33.4200</td>\n",
              "      <td>NaN</td>\n",
              "      <td>25.64300</td>\n",
              "      <td>NaN</td>\n",
              "      <td>NaN</td>\n",
              "      <td>NaN</td>\n",
              "      <td>3</td>\n",
              "      <td>2.0</td>\n",
              "      <td>NaN</td>\n",
              "      <td>2.0</td>\n",
              "      <td>NaN</td>\n",
              "      <td>9.0</td>\n",
              "      <td>9.0</td>\n",
              "      <td>NaN</td>\n",
              "      <td>9.0</td>\n",
              "      <td>NaN</td>\n",
              "      <td>9.0</td>\n",
              "      <td>NaN</td>\n",
              "      <td>9.0</td>\n",
              "      <td>NaN</td>\n",
              "      <td>9.0</td>\n",
              "      <td>NaN</td>\n",
              "      <td>9.0</td>\n",
              "      <td>NaN</td>\n",
              "      <td>9.0</td>\n",
              "      <td>NaN</td>\n",
              "      <td>9.0</td>\n",
              "      <td>NaN</td>\n",
              "      <td>9.0</td>\n",
              "      <td>NaN</td>\n",
              "      <td>NaN</td>\n",
              "      <td>9.0</td>\n",
              "      <td>NaN</td>\n",
              "      <td>NaN</td>\n",
              "      <td>9.0</td>\n",
              "      <td>NaN</td>\n",
              "      <td>NaN</td>\n",
              "      <td>9.0</td>\n",
              "      <td>NaN</td>\n",
              "      <td>NaN</td>\n",
              "      <td>9.0</td>\n",
              "      <td>NaN</td>\n",
              "      <td>NaN</td>\n",
              "      <td>19.0</td>\n",
              "      <td>10.45</td>\n",
              "      <td>10.45</td>\n",
              "      <td>33.420</td>\n",
              "      <td>25.640</td>\n",
              "      <td>234.1</td>\n",
              "      <td>0.040</td>\n",
              "      <td>NaN</td>\n",
              "      <td>NaN</td>\n",
              "      <td>NaN</td>\n",
              "      <td>NaN</td>\n",
              "      <td>NaN</td>\n",
              "      <td>NaN</td>\n",
              "      <td>NaN</td>\n",
              "      <td>NaN</td>\n",
              "      <td>NaN</td>\n",
              "      <td>19</td>\n",
              "      <td>NaN</td>\n",
              "      <td>NaN</td>\n",
              "      <td>NaN</td>\n",
              "      <td>NaN</td>\n",
              "      <td>NaN</td>\n",
              "      <td>NaN</td>\n",
              "      <td>NaN</td>\n",
              "      <td>NaN</td>\n",
              "    </tr>\n",
              "    <tr>\n",
              "      <th>4</th>\n",
              "      <td>1</td>\n",
              "      <td>5</td>\n",
              "      <td>054.0 056.0</td>\n",
              "      <td>19-4903CR-HY-060-0930-05400560-0020A-7</td>\n",
              "      <td>20</td>\n",
              "      <td>10.450</td>\n",
              "      <td>33.4210</td>\n",
              "      <td>NaN</td>\n",
              "      <td>25.64300</td>\n",
              "      <td>NaN</td>\n",
              "      <td>NaN</td>\n",
              "      <td>NaN</td>\n",
              "      <td>7</td>\n",
              "      <td>2.0</td>\n",
              "      <td>NaN</td>\n",
              "      <td>3.0</td>\n",
              "      <td>NaN</td>\n",
              "      <td>9.0</td>\n",
              "      <td>9.0</td>\n",
              "      <td>NaN</td>\n",
              "      <td>9.0</td>\n",
              "      <td>NaN</td>\n",
              "      <td>9.0</td>\n",
              "      <td>NaN</td>\n",
              "      <td>9.0</td>\n",
              "      <td>NaN</td>\n",
              "      <td>9.0</td>\n",
              "      <td>NaN</td>\n",
              "      <td>9.0</td>\n",
              "      <td>NaN</td>\n",
              "      <td>9.0</td>\n",
              "      <td>NaN</td>\n",
              "      <td>9.0</td>\n",
              "      <td>NaN</td>\n",
              "      <td>9.0</td>\n",
              "      <td>NaN</td>\n",
              "      <td>NaN</td>\n",
              "      <td>9.0</td>\n",
              "      <td>NaN</td>\n",
              "      <td>NaN</td>\n",
              "      <td>9.0</td>\n",
              "      <td>NaN</td>\n",
              "      <td>NaN</td>\n",
              "      <td>9.0</td>\n",
              "      <td>NaN</td>\n",
              "      <td>NaN</td>\n",
              "      <td>9.0</td>\n",
              "      <td>NaN</td>\n",
              "      <td>NaN</td>\n",
              "      <td>20.0</td>\n",
              "      <td>10.45</td>\n",
              "      <td>10.45</td>\n",
              "      <td>33.421</td>\n",
              "      <td>25.640</td>\n",
              "      <td>234.0</td>\n",
              "      <td>0.040</td>\n",
              "      <td>NaN</td>\n",
              "      <td>NaN</td>\n",
              "      <td>NaN</td>\n",
              "      <td>NaN</td>\n",
              "      <td>NaN</td>\n",
              "      <td>NaN</td>\n",
              "      <td>NaN</td>\n",
              "      <td>NaN</td>\n",
              "      <td>NaN</td>\n",
              "      <td>20</td>\n",
              "      <td>NaN</td>\n",
              "      <td>NaN</td>\n",
              "      <td>NaN</td>\n",
              "      <td>NaN</td>\n",
              "      <td>NaN</td>\n",
              "      <td>NaN</td>\n",
              "      <td>NaN</td>\n",
              "      <td>NaN</td>\n",
              "    </tr>\n",
              "    <tr>\n",
              "      <th>...</th>\n",
              "      <td>...</td>\n",
              "      <td>...</td>\n",
              "      <td>...</td>\n",
              "      <td>...</td>\n",
              "      <td>...</td>\n",
              "      <td>...</td>\n",
              "      <td>...</td>\n",
              "      <td>...</td>\n",
              "      <td>...</td>\n",
              "      <td>...</td>\n",
              "      <td>...</td>\n",
              "      <td>...</td>\n",
              "      <td>...</td>\n",
              "      <td>...</td>\n",
              "      <td>...</td>\n",
              "      <td>...</td>\n",
              "      <td>...</td>\n",
              "      <td>...</td>\n",
              "      <td>...</td>\n",
              "      <td>...</td>\n",
              "      <td>...</td>\n",
              "      <td>...</td>\n",
              "      <td>...</td>\n",
              "      <td>...</td>\n",
              "      <td>...</td>\n",
              "      <td>...</td>\n",
              "      <td>...</td>\n",
              "      <td>...</td>\n",
              "      <td>...</td>\n",
              "      <td>...</td>\n",
              "      <td>...</td>\n",
              "      <td>...</td>\n",
              "      <td>...</td>\n",
              "      <td>...</td>\n",
              "      <td>...</td>\n",
              "      <td>...</td>\n",
              "      <td>...</td>\n",
              "      <td>...</td>\n",
              "      <td>...</td>\n",
              "      <td>...</td>\n",
              "      <td>...</td>\n",
              "      <td>...</td>\n",
              "      <td>...</td>\n",
              "      <td>...</td>\n",
              "      <td>...</td>\n",
              "      <td>...</td>\n",
              "      <td>...</td>\n",
              "      <td>...</td>\n",
              "      <td>...</td>\n",
              "      <td>...</td>\n",
              "      <td>...</td>\n",
              "      <td>...</td>\n",
              "      <td>...</td>\n",
              "      <td>...</td>\n",
              "      <td>...</td>\n",
              "      <td>...</td>\n",
              "      <td>...</td>\n",
              "      <td>...</td>\n",
              "      <td>...</td>\n",
              "      <td>...</td>\n",
              "      <td>...</td>\n",
              "      <td>...</td>\n",
              "      <td>...</td>\n",
              "      <td>...</td>\n",
              "      <td>...</td>\n",
              "      <td>...</td>\n",
              "      <td>...</td>\n",
              "      <td>...</td>\n",
              "      <td>...</td>\n",
              "      <td>...</td>\n",
              "      <td>...</td>\n",
              "      <td>...</td>\n",
              "      <td>...</td>\n",
              "      <td>...</td>\n",
              "    </tr>\n",
              "    <tr>\n",
              "      <th>864858</th>\n",
              "      <td>34404</td>\n",
              "      <td>864859</td>\n",
              "      <td>093.4 026.4</td>\n",
              "      <td>20-1611SR-MX-310-2239-09340264-0000A-7</td>\n",
              "      <td>0</td>\n",
              "      <td>18.744</td>\n",
              "      <td>33.4083</td>\n",
              "      <td>5.805</td>\n",
              "      <td>23.87055</td>\n",
              "      <td>108.74</td>\n",
              "      <td>253.47</td>\n",
              "      <td>NaN</td>\n",
              "      <td>7</td>\n",
              "      <td>2.0</td>\n",
              "      <td>NaN</td>\n",
              "      <td>3.0</td>\n",
              "      <td>NaN</td>\n",
              "      <td>NaN</td>\n",
              "      <td>NaN</td>\n",
              "      <td>NaN</td>\n",
              "      <td>NaN</td>\n",
              "      <td>0.905</td>\n",
              "      <td>NaN</td>\n",
              "      <td>0.176</td>\n",
              "      <td>NaN</td>\n",
              "      <td>0.22</td>\n",
              "      <td>NaN</td>\n",
              "      <td>1.77</td>\n",
              "      <td>NaN</td>\n",
              "      <td>0.029</td>\n",
              "      <td>NaN</td>\n",
              "      <td>0.10</td>\n",
              "      <td>NaN</td>\n",
              "      <td>0.02</td>\n",
              "      <td>NaN</td>\n",
              "      <td>NaN</td>\n",
              "      <td>NaN</td>\n",
              "      <td>9.0</td>\n",
              "      <td>NaN</td>\n",
              "      <td>NaN</td>\n",
              "      <td>9.0</td>\n",
              "      <td>NaN</td>\n",
              "      <td>NaN</td>\n",
              "      <td>9.0</td>\n",
              "      <td>NaN</td>\n",
              "      <td>NaN</td>\n",
              "      <td>9.0</td>\n",
              "      <td>NaN</td>\n",
              "      <td>NaN</td>\n",
              "      <td>0.0</td>\n",
              "      <td>18.74</td>\n",
              "      <td>18.74</td>\n",
              "      <td>33.408</td>\n",
              "      <td>23.871</td>\n",
              "      <td>402.4</td>\n",
              "      <td>0.000</td>\n",
              "      <td>5.81</td>\n",
              "      <td>108.7</td>\n",
              "      <td>1.8</td>\n",
              "      <td>0.22</td>\n",
              "      <td>0.1</td>\n",
              "      <td>0.03</td>\n",
              "      <td>0.02</td>\n",
              "      <td>0.91</td>\n",
              "      <td>0.18</td>\n",
              "      <td>0</td>\n",
              "      <td>NaN</td>\n",
              "      <td>NaN</td>\n",
              "      <td>NaN</td>\n",
              "      <td>NaN</td>\n",
              "      <td>NaN</td>\n",
              "      <td>NaN</td>\n",
              "      <td>NaN</td>\n",
              "      <td>NaN</td>\n",
              "    </tr>\n",
              "    <tr>\n",
              "      <th>864859</th>\n",
              "      <td>34404</td>\n",
              "      <td>864860</td>\n",
              "      <td>093.4 026.4</td>\n",
              "      <td>20-1611SR-MX-310-2239-09340264-0002A-3</td>\n",
              "      <td>2</td>\n",
              "      <td>18.744</td>\n",
              "      <td>33.4083</td>\n",
              "      <td>5.805</td>\n",
              "      <td>23.87072</td>\n",
              "      <td>108.74</td>\n",
              "      <td>253.47</td>\n",
              "      <td>4.0</td>\n",
              "      <td>3</td>\n",
              "      <td>2.0</td>\n",
              "      <td>NaN</td>\n",
              "      <td>3.0</td>\n",
              "      <td>NaN</td>\n",
              "      <td>NaN</td>\n",
              "      <td>NaN</td>\n",
              "      <td>NaN</td>\n",
              "      <td>NaN</td>\n",
              "      <td>0.905</td>\n",
              "      <td>NaN</td>\n",
              "      <td>0.176</td>\n",
              "      <td>NaN</td>\n",
              "      <td>0.22</td>\n",
              "      <td>NaN</td>\n",
              "      <td>1.77</td>\n",
              "      <td>NaN</td>\n",
              "      <td>0.029</td>\n",
              "      <td>NaN</td>\n",
              "      <td>0.10</td>\n",
              "      <td>NaN</td>\n",
              "      <td>0.00</td>\n",
              "      <td>4.0</td>\n",
              "      <td>NaN</td>\n",
              "      <td>NaN</td>\n",
              "      <td>9.0</td>\n",
              "      <td>NaN</td>\n",
              "      <td>NaN</td>\n",
              "      <td>9.0</td>\n",
              "      <td>NaN</td>\n",
              "      <td>NaN</td>\n",
              "      <td>9.0</td>\n",
              "      <td>NaN</td>\n",
              "      <td>NaN</td>\n",
              "      <td>9.0</td>\n",
              "      <td>NaN</td>\n",
              "      <td>NaN</td>\n",
              "      <td>2.0</td>\n",
              "      <td>18.74</td>\n",
              "      <td>18.74</td>\n",
              "      <td>33.408</td>\n",
              "      <td>23.871</td>\n",
              "      <td>402.5</td>\n",
              "      <td>0.008</td>\n",
              "      <td>5.81</td>\n",
              "      <td>108.7</td>\n",
              "      <td>1.8</td>\n",
              "      <td>0.22</td>\n",
              "      <td>0.1</td>\n",
              "      <td>0.03</td>\n",
              "      <td>0.00</td>\n",
              "      <td>0.91</td>\n",
              "      <td>0.18</td>\n",
              "      <td>2</td>\n",
              "      <td>4.0</td>\n",
              "      <td>NaN</td>\n",
              "      <td>NaN</td>\n",
              "      <td>NaN</td>\n",
              "      <td>NaN</td>\n",
              "      <td>NaN</td>\n",
              "      <td>NaN</td>\n",
              "      <td>NaN</td>\n",
              "    </tr>\n",
              "    <tr>\n",
              "      <th>864860</th>\n",
              "      <td>34404</td>\n",
              "      <td>864861</td>\n",
              "      <td>093.4 026.4</td>\n",
              "      <td>20-1611SR-MX-310-2239-09340264-0005A-3</td>\n",
              "      <td>5</td>\n",
              "      <td>18.692</td>\n",
              "      <td>33.4150</td>\n",
              "      <td>5.796</td>\n",
              "      <td>23.88911</td>\n",
              "      <td>108.46</td>\n",
              "      <td>253.06</td>\n",
              "      <td>3.0</td>\n",
              "      <td>3</td>\n",
              "      <td>2.0</td>\n",
              "      <td>NaN</td>\n",
              "      <td>3.0</td>\n",
              "      <td>NaN</td>\n",
              "      <td>NaN</td>\n",
              "      <td>NaN</td>\n",
              "      <td>NaN</td>\n",
              "      <td>NaN</td>\n",
              "      <td>0.915</td>\n",
              "      <td>NaN</td>\n",
              "      <td>0.182</td>\n",
              "      <td>NaN</td>\n",
              "      <td>0.20</td>\n",
              "      <td>NaN</td>\n",
              "      <td>1.75</td>\n",
              "      <td>NaN</td>\n",
              "      <td>0.027</td>\n",
              "      <td>NaN</td>\n",
              "      <td>0.09</td>\n",
              "      <td>NaN</td>\n",
              "      <td>0.00</td>\n",
              "      <td>4.0</td>\n",
              "      <td>NaN</td>\n",
              "      <td>NaN</td>\n",
              "      <td>9.0</td>\n",
              "      <td>NaN</td>\n",
              "      <td>NaN</td>\n",
              "      <td>9.0</td>\n",
              "      <td>NaN</td>\n",
              "      <td>NaN</td>\n",
              "      <td>9.0</td>\n",
              "      <td>NaN</td>\n",
              "      <td>NaN</td>\n",
              "      <td>9.0</td>\n",
              "      <td>NaN</td>\n",
              "      <td>NaN</td>\n",
              "      <td>5.0</td>\n",
              "      <td>18.69</td>\n",
              "      <td>18.69</td>\n",
              "      <td>33.415</td>\n",
              "      <td>23.889</td>\n",
              "      <td>400.8</td>\n",
              "      <td>0.020</td>\n",
              "      <td>5.80</td>\n",
              "      <td>108.5</td>\n",
              "      <td>1.8</td>\n",
              "      <td>0.20</td>\n",
              "      <td>0.1</td>\n",
              "      <td>0.03</td>\n",
              "      <td>0.00</td>\n",
              "      <td>0.92</td>\n",
              "      <td>0.18</td>\n",
              "      <td>5</td>\n",
              "      <td>3.0</td>\n",
              "      <td>NaN</td>\n",
              "      <td>NaN</td>\n",
              "      <td>NaN</td>\n",
              "      <td>NaN</td>\n",
              "      <td>NaN</td>\n",
              "      <td>NaN</td>\n",
              "      <td>NaN</td>\n",
              "    </tr>\n",
              "    <tr>\n",
              "      <th>864861</th>\n",
              "      <td>34404</td>\n",
              "      <td>864862</td>\n",
              "      <td>093.4 026.4</td>\n",
              "      <td>20-1611SR-MX-310-2239-09340264-0010A-3</td>\n",
              "      <td>10</td>\n",
              "      <td>18.161</td>\n",
              "      <td>33.4062</td>\n",
              "      <td>5.816</td>\n",
              "      <td>24.01426</td>\n",
              "      <td>107.74</td>\n",
              "      <td>253.92</td>\n",
              "      <td>2.0</td>\n",
              "      <td>3</td>\n",
              "      <td>2.0</td>\n",
              "      <td>NaN</td>\n",
              "      <td>3.0</td>\n",
              "      <td>NaN</td>\n",
              "      <td>NaN</td>\n",
              "      <td>NaN</td>\n",
              "      <td>NaN</td>\n",
              "      <td>NaN</td>\n",
              "      <td>1.078</td>\n",
              "      <td>NaN</td>\n",
              "      <td>0.313</td>\n",
              "      <td>NaN</td>\n",
              "      <td>0.25</td>\n",
              "      <td>NaN</td>\n",
              "      <td>1.99</td>\n",
              "      <td>NaN</td>\n",
              "      <td>0.030</td>\n",
              "      <td>NaN</td>\n",
              "      <td>0.11</td>\n",
              "      <td>NaN</td>\n",
              "      <td>0.12</td>\n",
              "      <td>NaN</td>\n",
              "      <td>NaN</td>\n",
              "      <td>NaN</td>\n",
              "      <td>9.0</td>\n",
              "      <td>NaN</td>\n",
              "      <td>NaN</td>\n",
              "      <td>9.0</td>\n",
              "      <td>NaN</td>\n",
              "      <td>NaN</td>\n",
              "      <td>9.0</td>\n",
              "      <td>NaN</td>\n",
              "      <td>NaN</td>\n",
              "      <td>9.0</td>\n",
              "      <td>NaN</td>\n",
              "      <td>NaN</td>\n",
              "      <td>10.0</td>\n",
              "      <td>18.16</td>\n",
              "      <td>18.16</td>\n",
              "      <td>33.406</td>\n",
              "      <td>24.014</td>\n",
              "      <td>389.1</td>\n",
              "      <td>0.040</td>\n",
              "      <td>5.82</td>\n",
              "      <td>107.7</td>\n",
              "      <td>2.0</td>\n",
              "      <td>0.25</td>\n",
              "      <td>0.1</td>\n",
              "      <td>0.03</td>\n",
              "      <td>0.12</td>\n",
              "      <td>1.08</td>\n",
              "      <td>0.31</td>\n",
              "      <td>10</td>\n",
              "      <td>2.0</td>\n",
              "      <td>NaN</td>\n",
              "      <td>NaN</td>\n",
              "      <td>NaN</td>\n",
              "      <td>NaN</td>\n",
              "      <td>NaN</td>\n",
              "      <td>NaN</td>\n",
              "      <td>NaN</td>\n",
              "    </tr>\n",
              "    <tr>\n",
              "      <th>864862</th>\n",
              "      <td>34404</td>\n",
              "      <td>864863</td>\n",
              "      <td>093.4 026.4</td>\n",
              "      <td>20-1611SR-MX-310-2239-09340264-0015A-3</td>\n",
              "      <td>15</td>\n",
              "      <td>17.533</td>\n",
              "      <td>33.3880</td>\n",
              "      <td>5.774</td>\n",
              "      <td>24.15297</td>\n",
              "      <td>105.66</td>\n",
              "      <td>252.08</td>\n",
              "      <td>1.0</td>\n",
              "      <td>3</td>\n",
              "      <td>2.0</td>\n",
              "      <td>NaN</td>\n",
              "      <td>3.0</td>\n",
              "      <td>NaN</td>\n",
              "      <td>NaN</td>\n",
              "      <td>NaN</td>\n",
              "      <td>NaN</td>\n",
              "      <td>NaN</td>\n",
              "      <td>2.118</td>\n",
              "      <td>NaN</td>\n",
              "      <td>0.614</td>\n",
              "      <td>NaN</td>\n",
              "      <td>0.31</td>\n",
              "      <td>NaN</td>\n",
              "      <td>2.58</td>\n",
              "      <td>NaN</td>\n",
              "      <td>0.054</td>\n",
              "      <td>NaN</td>\n",
              "      <td>0.14</td>\n",
              "      <td>NaN</td>\n",
              "      <td>0.07</td>\n",
              "      <td>NaN</td>\n",
              "      <td>NaN</td>\n",
              "      <td>NaN</td>\n",
              "      <td>9.0</td>\n",
              "      <td>NaN</td>\n",
              "      <td>NaN</td>\n",
              "      <td>9.0</td>\n",
              "      <td>NaN</td>\n",
              "      <td>NaN</td>\n",
              "      <td>9.0</td>\n",
              "      <td>NaN</td>\n",
              "      <td>NaN</td>\n",
              "      <td>9.0</td>\n",
              "      <td>NaN</td>\n",
              "      <td>NaN</td>\n",
              "      <td>15.0</td>\n",
              "      <td>17.53</td>\n",
              "      <td>17.53</td>\n",
              "      <td>33.388</td>\n",
              "      <td>24.153</td>\n",
              "      <td>376.0</td>\n",
              "      <td>0.059</td>\n",
              "      <td>5.77</td>\n",
              "      <td>105.7</td>\n",
              "      <td>2.6</td>\n",
              "      <td>0.31</td>\n",
              "      <td>0.1</td>\n",
              "      <td>0.05</td>\n",
              "      <td>0.07</td>\n",
              "      <td>2.12</td>\n",
              "      <td>0.61</td>\n",
              "      <td>15</td>\n",
              "      <td>1.0</td>\n",
              "      <td>NaN</td>\n",
              "      <td>NaN</td>\n",
              "      <td>NaN</td>\n",
              "      <td>NaN</td>\n",
              "      <td>NaN</td>\n",
              "      <td>NaN</td>\n",
              "      <td>NaN</td>\n",
              "    </tr>\n",
              "  </tbody>\n",
              "</table>\n",
              "<p>864863 rows × 74 columns</p>\n",
              "</div>"
            ],
            "text/plain": [
              "        Cst_Cnt  Btl_Cnt       Sta_ID  ... pH2  pH1  DIC Quality Comment\n",
              "0             1        1  054.0 056.0  ... NaN  NaN                  NaN\n",
              "1             1        2  054.0 056.0  ... NaN  NaN                  NaN\n",
              "2             1        3  054.0 056.0  ... NaN  NaN                  NaN\n",
              "3             1        4  054.0 056.0  ... NaN  NaN                  NaN\n",
              "4             1        5  054.0 056.0  ... NaN  NaN                  NaN\n",
              "...         ...      ...          ...  ...  ..  ...                  ...\n",
              "864858    34404   864859  093.4 026.4  ... NaN  NaN                  NaN\n",
              "864859    34404   864860  093.4 026.4  ... NaN  NaN                  NaN\n",
              "864860    34404   864861  093.4 026.4  ... NaN  NaN                  NaN\n",
              "864861    34404   864862  093.4 026.4  ... NaN  NaN                  NaN\n",
              "864862    34404   864863  093.4 026.4  ... NaN  NaN                  NaN\n",
              "\n",
              "[864863 rows x 74 columns]"
            ]
          },
          "metadata": {
            "tags": []
          },
          "execution_count": 215
        }
      ]
    },
    {
      "cell_type": "markdown",
      "metadata": {
        "id": "y8My0tHlLhZV"
      },
      "source": [
        "**Drop rows with missing data**\n",
        "\n",
        "Looking at the counts for temperature and salinity, you can see that there are some rows with missing data. Remove the rows with missing temperature or salinity data from the dataframe. After you are done, describe the data to make sure that every temperature and salinity row contains data."
      ]
    },
    {
      "cell_type": "code",
      "metadata": {
        "id": "2FSUUvtuP-4z"
      },
      "source": [
        "# Your code goes here\n",
        "def check_null(series):\n",
        "    return series.isna().any()"
      ],
      "execution_count": null,
      "outputs": []
    },
    {
      "cell_type": "code",
      "metadata": {
        "colab": {
          "base_uri": "https://localhost:8080/"
        },
        "id": "_TN5JjRTIOkG",
        "outputId": "b0756094-52b4-44f1-9a4d-20abddd4641a"
      },
      "source": [
        "print(\"Check Null\")\n",
        "print(\"Temperature: {}\".format(check_null(df['T_degC'])))\n",
        "print(\"Salinity   : {}\".format(check_null(df['Salnty'])))"
      ],
      "execution_count": null,
      "outputs": [
        {
          "output_type": "stream",
          "text": [
            "Check Null\n",
            "Temperature: True\n",
            "Salinity   : True\n"
          ],
          "name": "stdout"
        }
      ]
    },
    {
      "cell_type": "code",
      "metadata": {
        "colab": {
          "base_uri": "https://localhost:8080/"
        },
        "id": "HcozfdacIyCf",
        "outputId": "93f6a025-aa96-4e4f-9119-32ee285e79c7"
      },
      "source": [
        "print(\"Before drop: {}\".format(df.size))\n",
        "df.dropna(subset=['T_degC', 'Salnty'], inplace=True)\n",
        "print(\"After drop : {}\".format(df.size))"
      ],
      "execution_count": null,
      "outputs": [
        {
          "output_type": "stream",
          "text": [
            "Before drop: 63999862\n",
            "After drop : 60254278\n"
          ],
          "name": "stdout"
        }
      ]
    },
    {
      "cell_type": "markdown",
      "metadata": {
        "id": "n1pqkRynMBHK"
      },
      "source": [
        "**Plot the data**\n",
        "\n",
        "Create a scatterplot of salinity and temperature."
      ]
    },
    {
      "cell_type": "code",
      "metadata": {
        "id": "Skr58bgBP_cE",
        "colab": {
          "base_uri": "https://localhost:8080/",
          "height": 295
        },
        "outputId": "1cb152a7-18f1-40c7-cd6f-ff218322c610"
      },
      "source": [
        "# Your code goes here\n",
        "import matplotlib.pyplot as plt\n",
        "\n",
        "plt.scatter(df['Salnty'], df['T_degC'])\n",
        "plt.title(\"Ocean Temperature\")\n",
        "plt.xlabel(\"Salinity\")\n",
        "plt.ylabel(\"Temperature (Celcius)\")\n",
        "plt.show()"
      ],
      "execution_count": null,
      "outputs": [
        {
          "output_type": "display_data",
          "data": {
            "image/png": "[encoded data removed]",
            "text/plain": [
              "<Figure size 432x288 with 1 Axes>"
            ]
          },
          "metadata": {
            "tags": [],
            "needs_background": "light"
          }
        }
      ]
    },
    {
      "cell_type": "markdown",
      "metadata": {
        "id": "44I2gHTnMPbh"
      },
      "source": [
        "**Shuffle the data**\n",
        "\n",
        "In this exercise, we will split the data into a training set and a test set. Since the data is ordered, we need to shuffle the dataframe before splitting it. Write code to shuffle the dataframe, and look at the data (using `head`, `tail`, or some other means) to make sure that it is shuffled."
      ]
    },
    {
      "cell_type": "code",
      "metadata": {
        "id": "77VQfHxhP__A",
        "colab": {
          "base_uri": "https://localhost:8080/",
          "height": 206
        },
        "outputId": "6925e5ca-ecd3-42fe-bc4a-8cd2fd342e7c"
      },
      "source": [
        "# Your code goes here\n",
        "df[['Salnty', 'T_degC']].head()"
      ],
      "execution_count": null,
      "outputs": [
        {
          "output_type": "execute_result",
          "data": {
            "text/html": [
              "<div>\n",
              "<style scoped>\n",
              "    .dataframe tbody tr th:only-of-type {\n",
              "        vertical-align: middle;\n",
              "    }\n",
              "\n",
              "    .dataframe tbody tr th {\n",
              "        vertical-align: top;\n",
              "    }\n",
              "\n",
              "    .dataframe thead th {\n",
              "        text-align: right;\n",
              "    }\n",
              "</style>\n",
              "<table border=\"1\" class=\"dataframe\">\n",
              "  <thead>\n",
              "    <tr style=\"text-align: right;\">\n",
              "      <th></th>\n",
              "      <th>Salnty</th>\n",
              "      <th>T_degC</th>\n",
              "    </tr>\n",
              "  </thead>\n",
              "  <tbody>\n",
              "    <tr>\n",
              "      <th>0</th>\n",
              "      <td>33.440</td>\n",
              "      <td>10.50</td>\n",
              "    </tr>\n",
              "    <tr>\n",
              "      <th>1</th>\n",
              "      <td>33.440</td>\n",
              "      <td>10.46</td>\n",
              "    </tr>\n",
              "    <tr>\n",
              "      <th>2</th>\n",
              "      <td>33.437</td>\n",
              "      <td>10.46</td>\n",
              "    </tr>\n",
              "    <tr>\n",
              "      <th>3</th>\n",
              "      <td>33.420</td>\n",
              "      <td>10.45</td>\n",
              "    </tr>\n",
              "    <tr>\n",
              "      <th>4</th>\n",
              "      <td>33.421</td>\n",
              "      <td>10.45</td>\n",
              "    </tr>\n",
              "  </tbody>\n",
              "</table>\n",
              "</div>"
            ],
            "text/plain": [
              "   Salnty  T_degC\n",
              "0  33.440   10.50\n",
              "1  33.440   10.46\n",
              "2  33.437   10.46\n",
              "3  33.420   10.45\n",
              "4  33.421   10.45"
            ]
          },
          "metadata": {
            "tags": []
          },
          "execution_count": 220
        }
      ]
    },
    {
      "cell_type": "code",
      "metadata": {
        "colab": {
          "base_uri": "https://localhost:8080/",
          "height": 206
        },
        "id": "glC5ipkCL1Lz",
        "outputId": "114af843-0a26-41ca-c608-838c468a3257"
      },
      "source": [
        "df[['Salnty', 'T_degC']].tail()"
      ],
      "execution_count": null,
      "outputs": [
        {
          "output_type": "execute_result",
          "data": {
            "text/html": [
              "<div>\n",
              "<style scoped>\n",
              "    .dataframe tbody tr th:only-of-type {\n",
              "        vertical-align: middle;\n",
              "    }\n",
              "\n",
              "    .dataframe tbody tr th {\n",
              "        vertical-align: top;\n",
              "    }\n",
              "\n",
              "    .dataframe thead th {\n",
              "        text-align: right;\n",
              "    }\n",
              "</style>\n",
              "<table border=\"1\" class=\"dataframe\">\n",
              "  <thead>\n",
              "    <tr style=\"text-align: right;\">\n",
              "      <th></th>\n",
              "      <th>Salnty</th>\n",
              "      <th>T_degC</th>\n",
              "    </tr>\n",
              "  </thead>\n",
              "  <tbody>\n",
              "    <tr>\n",
              "      <th>864858</th>\n",
              "      <td>33.4083</td>\n",
              "      <td>18.744</td>\n",
              "    </tr>\n",
              "    <tr>\n",
              "      <th>864859</th>\n",
              "      <td>33.4083</td>\n",
              "      <td>18.744</td>\n",
              "    </tr>\n",
              "    <tr>\n",
              "      <th>864860</th>\n",
              "      <td>33.4150</td>\n",
              "      <td>18.692</td>\n",
              "    </tr>\n",
              "    <tr>\n",
              "      <th>864861</th>\n",
              "      <td>33.4062</td>\n",
              "      <td>18.161</td>\n",
              "    </tr>\n",
              "    <tr>\n",
              "      <th>864862</th>\n",
              "      <td>33.3880</td>\n",
              "      <td>17.533</td>\n",
              "    </tr>\n",
              "  </tbody>\n",
              "</table>\n",
              "</div>"
            ],
            "text/plain": [
              "         Salnty  T_degC\n",
              "864858  33.4083  18.744\n",
              "864859  33.4083  18.744\n",
              "864860  33.4150  18.692\n",
              "864861  33.4062  18.161\n",
              "864862  33.3880  17.533"
            ]
          },
          "metadata": {
            "tags": []
          },
          "execution_count": 221
        }
      ]
    },
    {
      "cell_type": "code",
      "metadata": {
        "id": "o2xIltfiML63"
      },
      "source": [
        "# Shuffle the dataframe\n",
        "df = df.sample(frac=1).reset_index(drop=True)"
      ],
      "execution_count": null,
      "outputs": []
    },
    {
      "cell_type": "code",
      "metadata": {
        "colab": {
          "base_uri": "https://localhost:8080/",
          "height": 206
        },
        "id": "x8tQTUD0NRQs",
        "outputId": "e247d9b3-dfde-4b9d-93bd-e98ddf82c29e"
      },
      "source": [
        "df[['Salnty', 'T_degC']].head()"
      ],
      "execution_count": null,
      "outputs": [
        {
          "output_type": "execute_result",
          "data": {
            "text/html": [
              "<div>\n",
              "<style scoped>\n",
              "    .dataframe tbody tr th:only-of-type {\n",
              "        vertical-align: middle;\n",
              "    }\n",
              "\n",
              "    .dataframe tbody tr th {\n",
              "        vertical-align: top;\n",
              "    }\n",
              "\n",
              "    .dataframe thead th {\n",
              "        text-align: right;\n",
              "    }\n",
              "</style>\n",
              "<table border=\"1\" class=\"dataframe\">\n",
              "  <thead>\n",
              "    <tr style=\"text-align: right;\">\n",
              "      <th></th>\n",
              "      <th>Salnty</th>\n",
              "      <th>T_degC</th>\n",
              "    </tr>\n",
              "  </thead>\n",
              "  <tbody>\n",
              "    <tr>\n",
              "      <th>0</th>\n",
              "      <td>34.009</td>\n",
              "      <td>8.07</td>\n",
              "    </tr>\n",
              "    <tr>\n",
              "      <th>1</th>\n",
              "      <td>35.090</td>\n",
              "      <td>19.16</td>\n",
              "    </tr>\n",
              "    <tr>\n",
              "      <th>2</th>\n",
              "      <td>34.063</td>\n",
              "      <td>9.29</td>\n",
              "    </tr>\n",
              "    <tr>\n",
              "      <th>3</th>\n",
              "      <td>34.230</td>\n",
              "      <td>26.40</td>\n",
              "    </tr>\n",
              "    <tr>\n",
              "      <th>4</th>\n",
              "      <td>34.006</td>\n",
              "      <td>6.26</td>\n",
              "    </tr>\n",
              "  </tbody>\n",
              "</table>\n",
              "</div>"
            ],
            "text/plain": [
              "   Salnty  T_degC\n",
              "0  34.009    8.07\n",
              "1  35.090   19.16\n",
              "2  34.063    9.29\n",
              "3  34.230   26.40\n",
              "4  34.006    6.26"
            ]
          },
          "metadata": {
            "tags": []
          },
          "execution_count": 223
        }
      ]
    },
    {
      "cell_type": "code",
      "metadata": {
        "colab": {
          "base_uri": "https://localhost:8080/",
          "height": 206
        },
        "id": "khQ7HYDFNR7k",
        "outputId": "910fc7a7-ee73-4a16-dc22-f6a4a41dcf11"
      },
      "source": [
        "df[['Salnty', 'T_degC']].tail()"
      ],
      "execution_count": null,
      "outputs": [
        {
          "output_type": "execute_result",
          "data": {
            "text/html": [
              "<div>\n",
              "<style scoped>\n",
              "    .dataframe tbody tr th:only-of-type {\n",
              "        vertical-align: middle;\n",
              "    }\n",
              "\n",
              "    .dataframe tbody tr th {\n",
              "        vertical-align: top;\n",
              "    }\n",
              "\n",
              "    .dataframe thead th {\n",
              "        text-align: right;\n",
              "    }\n",
              "</style>\n",
              "<table border=\"1\" class=\"dataframe\">\n",
              "  <thead>\n",
              "    <tr style=\"text-align: right;\">\n",
              "      <th></th>\n",
              "      <th>Salnty</th>\n",
              "      <th>T_degC</th>\n",
              "    </tr>\n",
              "  </thead>\n",
              "  <tbody>\n",
              "    <tr>\n",
              "      <th>814242</th>\n",
              "      <td>33.382</td>\n",
              "      <td>15.42</td>\n",
              "    </tr>\n",
              "    <tr>\n",
              "      <th>814243</th>\n",
              "      <td>33.452</td>\n",
              "      <td>18.25</td>\n",
              "    </tr>\n",
              "    <tr>\n",
              "      <th>814244</th>\n",
              "      <td>33.749</td>\n",
              "      <td>8.95</td>\n",
              "    </tr>\n",
              "    <tr>\n",
              "      <th>814245</th>\n",
              "      <td>33.309</td>\n",
              "      <td>17.09</td>\n",
              "    </tr>\n",
              "    <tr>\n",
              "      <th>814246</th>\n",
              "      <td>33.966</td>\n",
              "      <td>9.70</td>\n",
              "    </tr>\n",
              "  </tbody>\n",
              "</table>\n",
              "</div>"
            ],
            "text/plain": [
              "        Salnty  T_degC\n",
              "814242  33.382   15.42\n",
              "814243  33.452   18.25\n",
              "814244  33.749    8.95\n",
              "814245  33.309   17.09\n",
              "814246  33.966    9.70"
            ]
          },
          "metadata": {
            "tags": []
          },
          "execution_count": 224
        }
      ]
    },
    {
      "cell_type": "markdown",
      "metadata": {
        "id": "7WlqxPwqMrsU"
      },
      "source": [
        "**Split the data into train/test**\n",
        "\n",
        "For this exercise we'll split the data frame so that 20% of the data is held out for testing, and the remaining data is used for training. Write code to split the data into two dataframes: one for testing and one for training."
      ]
    },
    {
      "cell_type": "code",
      "metadata": {
        "id": "vGWPiYb0QAZU",
        "colab": {
          "base_uri": "https://localhost:8080/"
        },
        "outputId": "aeed30f5-fc6b-4bd9-96d7-9d73b03f49dc"
      },
      "source": [
        "# Your code goes here\n",
        "from sklearn.model_selection import train_test_split\n",
        "\n",
        "X = df['Salnty'].to_numpy().reshape(df['Salnty'].shape[0], 1)\n",
        "y = df['T_degC'].to_numpy().reshape(df['T_degC'].shape[0], 1)\n",
        "\n",
        "X_train, X_test, y_train, y_test = train_test_split(\n",
        "    X, y, test_size=0.2\n",
        ")\n",
        "\n",
        "X_train.shape, X_test.shape, y_train.shape, y_test.shape"
      ],
      "execution_count": null,
      "outputs": [
        {
          "output_type": "execute_result",
          "data": {
            "text/plain": [
              "((651397, 1), (162850, 1), (651397, 1), (162850, 1))"
            ]
          },
          "metadata": {
            "tags": []
          },
          "execution_count": 225
        }
      ]
    },
    {
      "cell_type": "markdown",
      "metadata": {
        "id": "r7kzz9AJNOOQ"
      },
      "source": [
        "**Create a linear regression model**\n",
        "\n",
        "Use scikit-learn to fit a linear regression model to your training data."
      ]
    },
    {
      "cell_type": "code",
      "metadata": {
        "id": "eulLo_ZnQA1d",
        "colab": {
          "base_uri": "https://localhost:8080/"
        },
        "outputId": "85d9dd0f-b42c-4d07-9136-bae25834146f"
      },
      "source": [
        "# Your code goes here\n",
        "from sklearn.linear_model import LinearRegression\n",
        "\n",
        "lr = LinearRegression()\n",
        "lr.fit(X_train, y_train)\n",
        "lr.coef_, lr.intercept_"
      ],
      "execution_count": null,
      "outputs": [
        {
          "output_type": "execute_result",
          "data": {
            "text/plain": [
              "(array([[-4.61842711]]), array([167.15598962]))"
            ]
          },
          "metadata": {
            "tags": []
          },
          "execution_count": 226
        }
      ]
    },
    {
      "cell_type": "markdown",
      "metadata": {
        "id": "5lye2Pf_QUEA"
      },
      "source": [
        "**Test your model**\n",
        "\n",
        "Use your test data to make predictions and then find the mean squared error of those predictions vs. the actual measured temperatures for the test data.\n",
        "(scikit-learn has functionality to calculate the mean squared error.)"
      ]
    },
    {
      "cell_type": "code",
      "metadata": {
        "id": "RagUyVyvQBO9",
        "colab": {
          "base_uri": "https://localhost:8080/"
        },
        "outputId": "9d2351c4-16a4-4785-aeac-72b1c629df61"
      },
      "source": [
        "# Your code goes here\n",
        "from sklearn.metrics import mean_squared_error\n",
        "\n",
        "lr_predict = lr.predict(X_test)\n",
        "mse = mean_squared_error(y_test, lr_predict)\n",
        "mse"
      ],
      "execution_count": null,
      "outputs": [
        {
          "output_type": "execute_result",
          "data": {
            "text/plain": [
              "13.273558317747113"
            ]
          },
          "metadata": {
            "tags": []
          },
          "execution_count": 227
        }
      ]
    },
    {
      "cell_type": "markdown",
      "metadata": {
        "id": "mgStCm0HTYT_"
      },
      "source": [
        "**Plot your regression line**\n",
        "\n",
        "Create another plot that contains the scatterplot of the salinity and temperatures. Draw the prediction line over the scatterplot."
      ]
    },
    {
      "cell_type": "code",
      "metadata": {
        "id": "YAStL90PQBj6",
        "colab": {
          "base_uri": "https://localhost:8080/",
          "height": 295
        },
        "outputId": "3b3da646-2a91-4381-a8b6-33bad238e730"
      },
      "source": [
        "# Your code goes here\n",
        "import matplotlib.pyplot as plt\n",
        "\n",
        "plt.scatter(X_train, y_train)\n",
        "plt.plot(X_test, lr_predict, 'r-')\n",
        "plt.title(\"Ocean Temperature\")\n",
        "plt.xlabel(\"Salinity\")\n",
        "plt.ylabel(\"Temperature (Celcius)\")\n",
        "plt.show()"
      ],
      "execution_count": null,
      "outputs": [
        {
          "output_type": "display_data",
          "data": {
            "image/png": "[encoded data removed]",
            "text/plain": [
              "<Figure size 432x288 with 1 Axes>"
            ]
          },
          "metadata": {
            "tags": [],
            "needs_background": "light"
          }
        }
      ]
    },
    {
      "cell_type": "markdown",
      "metadata": {
        "id": "Su3zVHG2ffZw"
      },
      "source": [
        "**Dig deeper**\n",
        "\n",
        "The model we built wasn't very good, but we only used one feature. Are there other features or combinations of features that are more predictive of temperature?\n",
        "\n",
        "Measurements were recorded at different depths. Is salinity a good predictor of temperature at any depth range?"
      ]
    },
    {
      "cell_type": "code",
      "metadata": {
        "id": "tK1898HdHTdh",
        "colab": {
          "base_uri": "https://localhost:8080/",
          "height": 288
        },
        "outputId": "98b1ceb5-41ac-428d-f478-1a9810087faa"
      },
      "source": [
        "# Your code goes here\n",
        "import seaborn as sns\n",
        "\n",
        "data = df[['Salnty','T_degC', 'Depthm']].corr()\n",
        "sns.heatmap(data, cmap=\"coolwarm\")"
      ],
      "execution_count": null,
      "outputs": [
        {
          "output_type": "execute_result",
          "data": {
            "text/plain": [
              "<matplotlib.axes._subplots.AxesSubplot at 0x7fcde7e0df90>"
            ]
          },
          "metadata": {
            "tags": []
          },
          "execution_count": 229
        },
        {
          "output_type": "display_data",
          "data": {
            "image/png": "[encoded data removed]",
            "text/plain": [
              "<Figure size 432x288 with 2 Axes>"
            ]
          },
          "metadata": {
            "tags": [],
            "needs_background": "light"
          }
        }
      ]
    },
    {
      "cell_type": "markdown",
      "metadata": {
        "id": "_9anS4V6RRb5"
      },
      "source": [
        "---"
      ]
    }
  ]
}