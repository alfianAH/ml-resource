{
  "nbformat": 4,
  "nbformat_minor": 0,
  "metadata": {
    "colab": {
      "name": "#24-Saving and Loading Models.ipynb",
      "provenance": [],
      "collapsed_sections": [
        "copyright",
        "SfNRd6-xwNqb",
        "0tbZzEGMxJkN"
      ],
      "toc_visible": true,
      "include_colab_link": true
    },
    "kernelspec": {
      "display_name": "Python 3",
      "name": "python3"
    }
  },
  "cells": [
    {
      "cell_type": "markdown",
      "metadata": {
        "id": "view-in-github",
        "colab_type": "text"
      },
      "source": [
        "<a href=\"https://colab.research.google.com/github/alfianAH/ml-resource/blob/main/24_Saving_and_Loading_Models.ipynb\" target=\"_parent\"><img src=\"https://colab.research.google.com/assets/colab-badge.svg\" alt=\"Open In Colab\"/></a>"
      ]
    },
    {
      "cell_type": "markdown",
      "metadata": {
        "id": "copyright"
      },
      "source": [
        "#### Copyright 2020 Google LLC."
      ]
    },
    {
      "cell_type": "code",
      "metadata": {
        "id": "khlO4Bu21oZ4"
      },
      "source": [
        "# Licensed under the Apache License, Version 2.0 (the \"License\");\n",
        "# you may not use this file except in compliance with the License.\n",
        "# You may obtain a copy of the License at\n",
        "#\n",
        "# https://www.apache.org/licenses/LICENSE-2.0\n",
        "#\n",
        "# Unless required by applicable law or agreed to in writing, software\n",
        "# distributed under the License is distributed on an \"AS IS\" BASIS,\n",
        "# WITHOUT WARRANTIES OR CONDITIONS OF ANY KIND, either express or implied.\n",
        "# See the License for the specific language governing permissions and\n",
        "# limitations under the License."
      ],
      "execution_count": null,
      "outputs": []
    },
    {
      "cell_type": "markdown",
      "metadata": {
        "id": "AlzIlBsScJJ_"
      },
      "source": [
        "# Saving and Loading Models"
      ]
    },
    {
      "cell_type": "markdown",
      "metadata": {
        "id": "nTirVS4FWaPx"
      },
      "source": [
        "So far we have created models and immediately used them for prediction. This is useful in a classroom setting, but most of the time you will need to deploy your model to some production system. You might also want to use one of the many pre-trained models available online in your own project.\n",
        " \n",
        "In this Colab we will save and load models in both scikit-learn and TensorFlow."
      ]
    },
    {
      "cell_type": "markdown",
      "metadata": {
        "id": "m1c_USh1M6QY"
      },
      "source": [
        "## scikit-learn"
      ]
    },
    {
      "cell_type": "markdown",
      "metadata": {
        "id": "riNd35zrNOSG"
      },
      "source": [
        "### Build a Model"
      ]
    },
    {
      "cell_type": "markdown",
      "metadata": {
        "id": "tdxZJqtqNN8x"
      },
      "source": [
        "To begin, we will build a simple linear regression model using scikit-learn.\n",
        " \n",
        "The dataset we are using is one of the datasets that comes packaged with scikit-learn, called [linnerud](https://scikit-learn.org/stable/modules/generated/sklearn.datasets.load_linnerud.html#sklearn.datasets.load_linnerud). The dataset contains 20 observations of different people's ability to perform chin-ups, situps, and jumping jacks, along with measurements of their weight, waist, and resting pulse.\n",
        " \n",
        "We'll create a [linear regression](https://scikit-learn.org/stable/modules/generated/sklearn.linear_model.LinearRegression.html) model that predicts resting pulse from the other variables."
      ]
    },
    {
      "cell_type": "code",
      "metadata": {
        "id": "dVnvw98_OgrM",
        "colab": {
          "base_uri": "https://localhost:8080/"
        },
        "outputId": "fc3965e4-b452-4268-80a4-3522fe79c101"
      },
      "source": [
        "from sklearn.datasets import load_linnerud\n",
        "from sklearn.linear_model import LinearRegression\n",
        "\n",
        "import pandas as pd\n",
        "import numpy as np\n",
        "\n",
        "bunch = load_linnerud()\n",
        "df = pd.DataFrame(\n",
        "  np.c_[(bunch.data, bunch.target)],\n",
        "  columns=np.concatenate((bunch.feature_names, bunch.target_names))\n",
        ")\n",
        "\n",
        "model = LinearRegression()\n",
        "model.fit(df[[\"Chins\", \"Situps\", \"Jumps\"]], df[\"Pulse\"])"
      ],
      "execution_count": 1,
      "outputs": [
        {
          "output_type": "execute_result",
          "data": {
            "text/plain": [
              "LinearRegression(copy_X=True, fit_intercept=True, n_jobs=None, normalize=False)"
            ]
          },
          "metadata": {
            "tags": []
          },
          "execution_count": 1
        }
      ]
    },
    {
      "cell_type": "markdown",
      "metadata": {
        "id": "siGXLJ_4RDmy"
      },
      "source": [
        "### Save the Model"
      ]
    },
    {
      "cell_type": "markdown",
      "metadata": {
        "id": "DQitCr63RFkf"
      },
      "source": [
        "Now that we have built a model, let's save it. Saving a model is also known as \"persisting\" a model. You can learn more about persisting models [on scikit-learn's documentation](https://scikit-learn.org/stable/modules/model_persistence.html).\n",
        "\n",
        "The scikit-learn library doesn't have any built-in ability to save models, so it delegates that work to other tools, such as Python's core [pickle](https://docs.python.org/3/library/pickle.html) module."
      ]
    },
    {
      "cell_type": "code",
      "metadata": {
        "id": "ChDv4ywhM6EM"
      },
      "source": [
        "import pickle\n",
        "\n",
        "model_file = 'my_regression.pkl'\n",
        "\n",
        "with open(model_file, 'wb') as output:\n",
        "  pickle.dump(model, output, pickle.HIGHEST_PROTOCOL)"
      ],
      "execution_count": 2,
      "outputs": []
    },
    {
      "cell_type": "markdown",
      "metadata": {
        "id": "xZQIyHZISZjf"
      },
      "source": [
        "After running the code block above, you should be able to click on the file browsing tab in Colab and see a new file called `my_regression.pkl`. This file contains your saved model."
      ]
    },
    {
      "cell_type": "markdown",
      "metadata": {
        "id": "kBXgLAwHSlyN"
      },
      "source": [
        "### Load the Model"
      ]
    },
    {
      "cell_type": "markdown",
      "metadata": {
        "id": "eajAO1k5SpKw"
      },
      "source": [
        "We will now load our saved model, which we can then use to predict on new data (as seen in the cell below) or train it with additional data. To do this we rely on the pickle module again."
      ]
    },
    {
      "cell_type": "code",
      "metadata": {
        "id": "lNAWjcGzS3QP",
        "colab": {
          "base_uri": "https://localhost:8080/"
        },
        "outputId": "3301b54e-9af5-4dd5-f1e6-71d3fae94743"
      },
      "source": [
        "with open(model_file, 'rb') as input:\n",
        "  model_restored = pickle.load(input)\n",
        "\n",
        "model_restored.predict([[45, 34, 2]])"
      ],
      "execution_count": 3,
      "outputs": [
        {
          "output_type": "execute_result",
          "data": {
            "text/plain": [
              "array([53.46188406])"
            ]
          },
          "metadata": {
            "tags": []
          },
          "execution_count": 3
        }
      ]
    },
    {
      "cell_type": "markdown",
      "metadata": {
        "id": "sVjj2Ez7Tj4K"
      },
      "source": [
        "## TensorFlow"
      ]
    },
    {
      "cell_type": "markdown",
      "metadata": {
        "id": "l7RigNRIBn_r"
      },
      "source": [
        "### Building and Saving Your Own Model"
      ]
    },
    {
      "cell_type": "markdown",
      "metadata": {
        "id": "_MvjU7KsBqdb"
      },
      "source": [
        "It is possible to build and save your own model using TensorFlow 2. To demonstrate, let's create a simple model using the [linnerud](https://scikit-learn.org/stable/modules/generated/sklearn.datasets.load_linnerud.html#sklearn.datasets.load_linnerud) that we used in our earlier example.\n",
        "\n",
        "Note that we aren't following best practices for model building here. We don't split the data, we completely skip EDA, etc. This model is just being built so we can save and reload it."
      ]
    },
    {
      "cell_type": "code",
      "metadata": {
        "id": "OIrgKRPVBxms",
        "colab": {
          "base_uri": "https://localhost:8080/"
        },
        "outputId": "b06a71f1-e6ed-4d63-e66e-255cbd32c2ce"
      },
      "source": [
        "from sklearn.datasets import load_linnerud\n",
        "\n",
        "import tensorflow as tf\n",
        "import pandas as pd\n",
        "import numpy as np\n",
        "\n",
        "bunch = load_linnerud()\n",
        "\n",
        "df = pd.DataFrame(\n",
        "  np.c_[(bunch.data, bunch.target)],\n",
        "  columns=np.concatenate((bunch.feature_names, bunch.target_names))\n",
        ")\n",
        "\n",
        "features = df.columns.values[:-1]\n",
        "target = df.columns.values[-1]\n",
        "\n",
        "df[features] = ((df[features] - df[features].min()) / \n",
        "                (df[features].max() - df[features].min()))\n",
        "\n",
        "model = tf.keras.Sequential([\n",
        "  tf.keras.layers.Dense(16, input_shape=[len(features)], \n",
        "                        activation=tf.nn.leaky_relu),\n",
        "  tf.keras.layers.Dense(8, activation=tf.nn.leaky_relu),\n",
        "  tf.keras.layers.Dense(1, activation=tf.nn.leaky_relu),\n",
        "])\n",
        "\n",
        "model.compile(\n",
        "  optimizer='Adam',\n",
        "  loss='mse',\n",
        "  metrics=['mse'],\n",
        ")\n",
        "\n",
        "model.fit(df[features], df[target], epochs=100)"
      ],
      "execution_count": 4,
      "outputs": [
        {
          "output_type": "stream",
          "text": [
            "Epoch 1/100\n",
            "1/1 [==============================] - 1s 591ms/step - loss: 3165.5789 - mse: 3165.5789\n",
            "Epoch 2/100\n",
            "1/1 [==============================] - 0s 10ms/step - loss: 3163.4668 - mse: 3163.4668\n",
            "Epoch 3/100\n",
            "1/1 [==============================] - 0s 6ms/step - loss: 3161.3499 - mse: 3161.3499\n",
            "Epoch 4/100\n",
            "1/1 [==============================] - 0s 4ms/step - loss: 3159.2471 - mse: 3159.2471\n",
            "Epoch 5/100\n",
            "1/1 [==============================] - 0s 6ms/step - loss: 3157.1245 - mse: 3157.1245\n",
            "Epoch 6/100\n",
            "1/1 [==============================] - 0s 6ms/step - loss: 3154.9878 - mse: 3154.9878\n",
            "Epoch 7/100\n",
            "1/1 [==============================] - 0s 5ms/step - loss: 3152.8643 - mse: 3152.8643\n",
            "Epoch 8/100\n",
            "1/1 [==============================] - 0s 8ms/step - loss: 3150.7559 - mse: 3150.7559\n",
            "Epoch 9/100\n",
            "1/1 [==============================] - 0s 4ms/step - loss: 3148.6453 - mse: 3148.6453\n",
            "Epoch 10/100\n",
            "1/1 [==============================] - 0s 8ms/step - loss: 3146.5405 - mse: 3146.5405\n",
            "Epoch 11/100\n",
            "1/1 [==============================] - 0s 5ms/step - loss: 3144.4573 - mse: 3144.4573\n",
            "Epoch 12/100\n",
            "1/1 [==============================] - 0s 8ms/step - loss: 3142.3552 - mse: 3142.3552\n",
            "Epoch 13/100\n",
            "1/1 [==============================] - 0s 4ms/step - loss: 3140.2495 - mse: 3140.2495\n",
            "Epoch 14/100\n",
            "1/1 [==============================] - 0s 8ms/step - loss: 3138.1416 - mse: 3138.1416\n",
            "Epoch 15/100\n",
            "1/1 [==============================] - 0s 4ms/step - loss: 3136.0151 - mse: 3136.0151\n",
            "Epoch 16/100\n",
            "1/1 [==============================] - 0s 4ms/step - loss: 3133.8875 - mse: 3133.8875\n",
            "Epoch 17/100\n",
            "1/1 [==============================] - 0s 4ms/step - loss: 3131.7234 - mse: 3131.7234\n",
            "Epoch 18/100\n",
            "1/1 [==============================] - 0s 5ms/step - loss: 3129.5645 - mse: 3129.5645\n",
            "Epoch 19/100\n",
            "1/1 [==============================] - 0s 7ms/step - loss: 3127.4116 - mse: 3127.4116\n",
            "Epoch 20/100\n",
            "1/1 [==============================] - 0s 5ms/step - loss: 3125.2290 - mse: 3125.2290\n",
            "Epoch 21/100\n",
            "1/1 [==============================] - 0s 5ms/step - loss: 3123.0474 - mse: 3123.0474\n",
            "Epoch 22/100\n",
            "1/1 [==============================] - 0s 5ms/step - loss: 3120.8599 - mse: 3120.8599\n",
            "Epoch 23/100\n",
            "1/1 [==============================] - 0s 8ms/step - loss: 3118.6680 - mse: 3118.6680\n",
            "Epoch 24/100\n",
            "1/1 [==============================] - 0s 4ms/step - loss: 3116.4690 - mse: 3116.4690\n",
            "Epoch 25/100\n",
            "1/1 [==============================] - 0s 7ms/step - loss: 3114.2625 - mse: 3114.2625\n",
            "Epoch 26/100\n",
            "1/1 [==============================] - 0s 4ms/step - loss: 3112.0427 - mse: 3112.0427\n",
            "Epoch 27/100\n",
            "1/1 [==============================] - 0s 6ms/step - loss: 3109.8118 - mse: 3109.8118\n",
            "Epoch 28/100\n",
            "1/1 [==============================] - 0s 4ms/step - loss: 3107.5645 - mse: 3107.5645\n",
            "Epoch 29/100\n",
            "1/1 [==============================] - 0s 6ms/step - loss: 3105.2788 - mse: 3105.2788\n",
            "Epoch 30/100\n",
            "1/1 [==============================] - 0s 4ms/step - loss: 3102.9819 - mse: 3102.9819\n",
            "Epoch 31/100\n",
            "1/1 [==============================] - 0s 7ms/step - loss: 3100.6499 - mse: 3100.6499\n",
            "Epoch 32/100\n",
            "1/1 [==============================] - 0s 5ms/step - loss: 3098.2876 - mse: 3098.2876\n",
            "Epoch 33/100\n",
            "1/1 [==============================] - 0s 6ms/step - loss: 3095.9075 - mse: 3095.9075\n",
            "Epoch 34/100\n",
            "1/1 [==============================] - 0s 7ms/step - loss: 3093.5083 - mse: 3093.5083\n",
            "Epoch 35/100\n",
            "1/1 [==============================] - 0s 5ms/step - loss: 3091.0728 - mse: 3091.0728\n",
            "Epoch 36/100\n",
            "1/1 [==============================] - 0s 7ms/step - loss: 3088.6018 - mse: 3088.6018\n",
            "Epoch 37/100\n",
            "1/1 [==============================] - 0s 4ms/step - loss: 3086.0889 - mse: 3086.0889\n",
            "Epoch 38/100\n",
            "1/1 [==============================] - 0s 6ms/step - loss: 3083.5232 - mse: 3083.5232\n",
            "Epoch 39/100\n",
            "1/1 [==============================] - 0s 5ms/step - loss: 3080.9185 - mse: 3080.9185\n",
            "Epoch 40/100\n",
            "1/1 [==============================] - 0s 5ms/step - loss: 3078.2827 - mse: 3078.2827\n",
            "Epoch 41/100\n",
            "1/1 [==============================] - 0s 7ms/step - loss: 3075.5728 - mse: 3075.5728\n",
            "Epoch 42/100\n",
            "1/1 [==============================] - 0s 4ms/step - loss: 3072.8083 - mse: 3072.8083\n",
            "Epoch 43/100\n",
            "1/1 [==============================] - 0s 6ms/step - loss: 3069.9590 - mse: 3069.9590\n",
            "Epoch 44/100\n",
            "1/1 [==============================] - 0s 6ms/step - loss: 3067.0601 - mse: 3067.0601\n",
            "Epoch 45/100\n",
            "1/1 [==============================] - 0s 5ms/step - loss: 3064.0706 - mse: 3064.0706\n",
            "Epoch 46/100\n",
            "1/1 [==============================] - 0s 12ms/step - loss: 3061.0112 - mse: 3061.0112\n",
            "Epoch 47/100\n",
            "1/1 [==============================] - 0s 6ms/step - loss: 3057.9031 - mse: 3057.9031\n",
            "Epoch 48/100\n",
            "1/1 [==============================] - 0s 8ms/step - loss: 3054.7415 - mse: 3054.7415\n",
            "Epoch 49/100\n",
            "1/1 [==============================] - 0s 8ms/step - loss: 3051.5364 - mse: 3051.5364\n",
            "Epoch 50/100\n",
            "1/1 [==============================] - 0s 6ms/step - loss: 3048.2700 - mse: 3048.2700\n",
            "Epoch 51/100\n",
            "1/1 [==============================] - 0s 7ms/step - loss: 3044.9380 - mse: 3044.9380\n",
            "Epoch 52/100\n",
            "1/1 [==============================] - 0s 9ms/step - loss: 3041.5713 - mse: 3041.5713\n",
            "Epoch 53/100\n",
            "1/1 [==============================] - 0s 5ms/step - loss: 3038.1306 - mse: 3038.1306\n",
            "Epoch 54/100\n",
            "1/1 [==============================] - 0s 8ms/step - loss: 3034.6499 - mse: 3034.6499\n",
            "Epoch 55/100\n",
            "1/1 [==============================] - 0s 6ms/step - loss: 3031.1355 - mse: 3031.1355\n",
            "Epoch 56/100\n",
            "1/1 [==============================] - 0s 5ms/step - loss: 3027.5571 - mse: 3027.5571\n",
            "Epoch 57/100\n",
            "1/1 [==============================] - 0s 5ms/step - loss: 3023.9292 - mse: 3023.9292\n",
            "Epoch 58/100\n",
            "1/1 [==============================] - 0s 7ms/step - loss: 3020.2612 - mse: 3020.2612\n",
            "Epoch 59/100\n",
            "1/1 [==============================] - 0s 4ms/step - loss: 3016.5493 - mse: 3016.5493\n",
            "Epoch 60/100\n",
            "1/1 [==============================] - 0s 4ms/step - loss: 3012.7727 - mse: 3012.7727\n",
            "Epoch 61/100\n",
            "1/1 [==============================] - 0s 7ms/step - loss: 3008.9548 - mse: 3008.9548\n",
            "Epoch 62/100\n",
            "1/1 [==============================] - 0s 7ms/step - loss: 3005.0957 - mse: 3005.0957\n",
            "Epoch 63/100\n",
            "1/1 [==============================] - 0s 8ms/step - loss: 3001.1929 - mse: 3001.1929\n",
            "Epoch 64/100\n",
            "1/1 [==============================] - 0s 5ms/step - loss: 2997.2493 - mse: 2997.2493\n",
            "Epoch 65/100\n",
            "1/1 [==============================] - 0s 5ms/step - loss: 2993.2673 - mse: 2993.2673\n",
            "Epoch 66/100\n",
            "1/1 [==============================] - 0s 6ms/step - loss: 2989.2102 - mse: 2989.2102\n",
            "Epoch 67/100\n",
            "1/1 [==============================] - 0s 4ms/step - loss: 2985.0894 - mse: 2985.0894\n",
            "Epoch 68/100\n",
            "1/1 [==============================] - 0s 6ms/step - loss: 2980.9048 - mse: 2980.9048\n",
            "Epoch 69/100\n",
            "1/1 [==============================] - 0s 5ms/step - loss: 2976.6472 - mse: 2976.6472\n",
            "Epoch 70/100\n",
            "1/1 [==============================] - 0s 6ms/step - loss: 2972.2556 - mse: 2972.2556\n",
            "Epoch 71/100\n",
            "1/1 [==============================] - 0s 5ms/step - loss: 2967.7761 - mse: 2967.7761\n",
            "Epoch 72/100\n",
            "1/1 [==============================] - 0s 6ms/step - loss: 2963.2039 - mse: 2963.2039\n",
            "Epoch 73/100\n",
            "1/1 [==============================] - 0s 4ms/step - loss: 2958.5273 - mse: 2958.5273\n",
            "Epoch 74/100\n",
            "1/1 [==============================] - 0s 7ms/step - loss: 2953.7795 - mse: 2953.7795\n",
            "Epoch 75/100\n",
            "1/1 [==============================] - 0s 7ms/step - loss: 2948.9563 - mse: 2948.9563\n",
            "Epoch 76/100\n",
            "1/1 [==============================] - 0s 4ms/step - loss: 2944.0708 - mse: 2944.0708\n",
            "Epoch 77/100\n",
            "1/1 [==============================] - 0s 7ms/step - loss: 2939.1243 - mse: 2939.1243\n",
            "Epoch 78/100\n",
            "1/1 [==============================] - 0s 4ms/step - loss: 2934.1167 - mse: 2934.1167\n",
            "Epoch 79/100\n",
            "1/1 [==============================] - 0s 7ms/step - loss: 2929.0520 - mse: 2929.0520\n",
            "Epoch 80/100\n",
            "1/1 [==============================] - 0s 5ms/step - loss: 2923.9277 - mse: 2923.9277\n",
            "Epoch 81/100\n",
            "1/1 [==============================] - 0s 4ms/step - loss: 2918.7454 - mse: 2918.7454\n",
            "Epoch 82/100\n",
            "1/1 [==============================] - 0s 7ms/step - loss: 2913.5054 - mse: 2913.5054\n",
            "Epoch 83/100\n",
            "1/1 [==============================] - 0s 5ms/step - loss: 2908.1987 - mse: 2908.1987\n",
            "Epoch 84/100\n",
            "1/1 [==============================] - 0s 5ms/step - loss: 2902.8191 - mse: 2902.8191\n",
            "Epoch 85/100\n",
            "1/1 [==============================] - 0s 8ms/step - loss: 2897.3735 - mse: 2897.3735\n",
            "Epoch 86/100\n",
            "1/1 [==============================] - 0s 5ms/step - loss: 2891.8516 - mse: 2891.8516\n",
            "Epoch 87/100\n",
            "1/1 [==============================] - 0s 9ms/step - loss: 2886.2642 - mse: 2886.2642\n",
            "Epoch 88/100\n",
            "1/1 [==============================] - 0s 5ms/step - loss: 2880.5989 - mse: 2880.5989\n",
            "Epoch 89/100\n",
            "1/1 [==============================] - 0s 13ms/step - loss: 2874.8630 - mse: 2874.8630\n",
            "Epoch 90/100\n",
            "1/1 [==============================] - 0s 9ms/step - loss: 2869.0579 - mse: 2869.0579\n",
            "Epoch 91/100\n",
            "1/1 [==============================] - 0s 10ms/step - loss: 2863.1821 - mse: 2863.1821\n",
            "Epoch 92/100\n",
            "1/1 [==============================] - 0s 8ms/step - loss: 2857.2209 - mse: 2857.2209\n",
            "Epoch 93/100\n",
            "1/1 [==============================] - 0s 5ms/step - loss: 2851.1753 - mse: 2851.1753\n",
            "Epoch 94/100\n",
            "1/1 [==============================] - 0s 5ms/step - loss: 2845.0515 - mse: 2845.0515\n",
            "Epoch 95/100\n",
            "1/1 [==============================] - 0s 4ms/step - loss: 2838.8450 - mse: 2838.8450\n",
            "Epoch 96/100\n",
            "1/1 [==============================] - 0s 16ms/step - loss: 2832.5361 - mse: 2832.5361\n",
            "Epoch 97/100\n",
            "1/1 [==============================] - 0s 4ms/step - loss: 2826.1401 - mse: 2826.1401\n",
            "Epoch 98/100\n",
            "1/1 [==============================] - 0s 4ms/step - loss: 2819.6641 - mse: 2819.6641\n",
            "Epoch 99/100\n",
            "1/1 [==============================] - 0s 4ms/step - loss: 2813.1099 - mse: 2813.1099\n",
            "Epoch 100/100\n",
            "1/1 [==============================] - 0s 5ms/step - loss: 2806.4763 - mse: 2806.4763\n"
          ],
          "name": "stdout"
        },
        {
          "output_type": "execute_result",
          "data": {
            "text/plain": [
              "<tensorflow.python.keras.callbacks.History at 0x7f310b1cccd0>"
            ]
          },
          "metadata": {
            "tags": []
          },
          "execution_count": 4
        }
      ]
    },
    {
      "cell_type": "markdown",
      "metadata": {
        "id": "mCLw3zc9K_SC"
      },
      "source": [
        "Saving the model is as easy as calling [`save_model`](https://www.tensorflow.org/api_docs/python/tf/keras/models/save_model)."
      ]
    },
    {
      "cell_type": "code",
      "metadata": {
        "id": "zZX08dkVGhIx",
        "colab": {
          "base_uri": "https://localhost:8080/"
        },
        "outputId": "286e0f3c-cef1-4bb8-8090-78363f508660"
      },
      "source": [
        "tf.keras.models.save_model(\n",
        "  model, 'linnerud'\n",
        ")"
      ],
      "execution_count": 5,
      "outputs": [
        {
          "output_type": "stream",
          "text": [
            "INFO:tensorflow:Assets written to: linnerud/assets\n"
          ],
          "name": "stdout"
        }
      ]
    },
    {
      "cell_type": "markdown",
      "metadata": {
        "id": "7NRB2js4LML1"
      },
      "source": [
        "We can then view the model file. The file is in TensorFlow format, but it can be saved as H5, which is another popular model storage format.\n",
        "\n"
      ]
    },
    {
      "cell_type": "code",
      "metadata": {
        "id": "Q2LVIK3yGhGP",
        "colab": {
          "base_uri": "https://localhost:8080/"
        },
        "outputId": "1ac0dc6f-1295-4fe7-8f04-017d2de159b2"
      },
      "source": [
        "! ls"
      ],
      "execution_count": 6,
      "outputs": [
        {
          "output_type": "stream",
          "text": [
            "linnerud  my_regression.pkl  sample_data\n"
          ],
          "name": "stdout"
        }
      ]
    },
    {
      "cell_type": "markdown",
      "metadata": {
        "id": "5Em2uW7-LRbd"
      },
      "source": [
        "Now we can reload the model."
      ]
    },
    {
      "cell_type": "code",
      "metadata": {
        "id": "bt7zYl9sKnxA"
      },
      "source": [
        "loaded_model = tf.keras.models.load_model(\n",
        "  'linnerud'\n",
        ")"
      ],
      "execution_count": 7,
      "outputs": []
    },
    {
      "cell_type": "markdown",
      "metadata": {
        "id": "c-rZtfQuLhZ5"
      },
      "source": [
        "And then use it to make predictions."
      ]
    },
    {
      "cell_type": "code",
      "metadata": {
        "id": "Mahh1CjaKvxt",
        "colab": {
          "base_uri": "https://localhost:8080/"
        },
        "outputId": "7302acfd-147f-4be2-f544-33941a0a406f"
      },
      "source": [
        "loaded_model.predict(df.loc[0:2, features])"
      ],
      "execution_count": 8,
      "outputs": [
        {
          "output_type": "execute_result",
          "data": {
            "text/plain": [
              "array([[3.6806726],\n",
              "       [3.0873415],\n",
              "       [4.003403 ]], dtype=float32)"
            ]
          },
          "metadata": {
            "tags": []
          },
          "execution_count": 8
        }
      ]
    },
    {
      "cell_type": "markdown",
      "metadata": {
        "id": "UVxNXz0cLrla"
      },
      "source": [
        "Or even train some more."
      ]
    },
    {
      "cell_type": "code",
      "metadata": {
        "id": "xtxMoA_2LnDY",
        "colab": {
          "base_uri": "https://localhost:8080/"
        },
        "outputId": "55573057-df88-458a-eb1c-02f9e7848da0"
      },
      "source": [
        "loaded_model.fit(df[features], df[target], epochs=100)"
      ],
      "execution_count": 9,
      "outputs": [
        {
          "output_type": "stream",
          "text": [
            "Epoch 1/100\n",
            "1/1 [==============================] - 1s 565ms/step - loss: 2799.7522 - mse: 2799.7522\n",
            "Epoch 2/100\n",
            "1/1 [==============================] - 0s 7ms/step - loss: 2794.9458 - mse: 2794.9458\n",
            "Epoch 3/100\n",
            "1/1 [==============================] - 0s 6ms/step - loss: 2790.1108 - mse: 2790.1108\n",
            "Epoch 4/100\n",
            "1/1 [==============================] - 0s 4ms/step - loss: 2785.2485 - mse: 2785.2485\n",
            "Epoch 5/100\n",
            "1/1 [==============================] - 0s 4ms/step - loss: 2780.3550 - mse: 2780.3550\n",
            "Epoch 6/100\n",
            "1/1 [==============================] - 0s 4ms/step - loss: 2775.4302 - mse: 2775.4302\n",
            "Epoch 7/100\n",
            "1/1 [==============================] - 0s 4ms/step - loss: 2770.4763 - mse: 2770.4763\n",
            "Epoch 8/100\n",
            "1/1 [==============================] - 0s 7ms/step - loss: 2765.4897 - mse: 2765.4897\n",
            "Epoch 9/100\n",
            "1/1 [==============================] - 0s 5ms/step - loss: 2760.4731 - mse: 2760.4731\n",
            "Epoch 10/100\n",
            "1/1 [==============================] - 0s 4ms/step - loss: 2755.4097 - mse: 2755.4097\n",
            "Epoch 11/100\n",
            "1/1 [==============================] - 0s 6ms/step - loss: 2750.3042 - mse: 2750.3042\n",
            "Epoch 12/100\n",
            "1/1 [==============================] - 0s 7ms/step - loss: 2745.1606 - mse: 2745.1606\n",
            "Epoch 13/100\n",
            "1/1 [==============================] - 0s 5ms/step - loss: 2739.9790 - mse: 2739.9790\n",
            "Epoch 14/100\n",
            "1/1 [==============================] - 0s 5ms/step - loss: 2734.7576 - mse: 2734.7576\n",
            "Epoch 15/100\n",
            "1/1 [==============================] - 0s 5ms/step - loss: 2729.4988 - mse: 2729.4988\n",
            "Epoch 16/100\n",
            "1/1 [==============================] - 0s 7ms/step - loss: 2724.1997 - mse: 2724.1997\n",
            "Epoch 17/100\n",
            "1/1 [==============================] - 0s 4ms/step - loss: 2718.8574 - mse: 2718.8574\n",
            "Epoch 18/100\n",
            "1/1 [==============================] - 0s 7ms/step - loss: 2713.4697 - mse: 2713.4697\n",
            "Epoch 19/100\n",
            "1/1 [==============================] - 0s 4ms/step - loss: 2708.0405 - mse: 2708.0405\n",
            "Epoch 20/100\n",
            "1/1 [==============================] - 0s 3ms/step - loss: 2702.5637 - mse: 2702.5637\n",
            "Epoch 21/100\n",
            "1/1 [==============================] - 0s 5ms/step - loss: 2697.0417 - mse: 2697.0417\n",
            "Epoch 22/100\n",
            "1/1 [==============================] - 0s 14ms/step - loss: 2691.4753 - mse: 2691.4753\n",
            "Epoch 23/100\n",
            "1/1 [==============================] - 0s 5ms/step - loss: 2685.8647 - mse: 2685.8647\n",
            "Epoch 24/100\n",
            "1/1 [==============================] - 0s 5ms/step - loss: 2680.2065 - mse: 2680.2065\n",
            "Epoch 25/100\n",
            "1/1 [==============================] - 0s 5ms/step - loss: 2674.5002 - mse: 2674.5002\n",
            "Epoch 26/100\n",
            "1/1 [==============================] - 0s 5ms/step - loss: 2668.7476 - mse: 2668.7476\n",
            "Epoch 27/100\n",
            "1/1 [==============================] - 0s 6ms/step - loss: 2662.9485 - mse: 2662.9485\n",
            "Epoch 28/100\n",
            "1/1 [==============================] - 0s 10ms/step - loss: 2657.1021 - mse: 2657.1021\n",
            "Epoch 29/100\n",
            "1/1 [==============================] - 0s 7ms/step - loss: 2651.2083 - mse: 2651.2083\n",
            "Epoch 30/100\n",
            "1/1 [==============================] - 0s 7ms/step - loss: 2645.2661 - mse: 2645.2661\n",
            "Epoch 31/100\n",
            "1/1 [==============================] - 0s 6ms/step - loss: 2639.2754 - mse: 2639.2754\n",
            "Epoch 32/100\n",
            "1/1 [==============================] - 0s 5ms/step - loss: 2633.2351 - mse: 2633.2351\n",
            "Epoch 33/100\n",
            "1/1 [==============================] - 0s 11ms/step - loss: 2627.1445 - mse: 2627.1445\n",
            "Epoch 34/100\n",
            "1/1 [==============================] - 0s 4ms/step - loss: 2621.0034 - mse: 2621.0034\n",
            "Epoch 35/100\n",
            "1/1 [==============================] - 0s 6ms/step - loss: 2614.8110 - mse: 2614.8110\n",
            "Epoch 36/100\n",
            "1/1 [==============================] - 0s 4ms/step - loss: 2608.5627 - mse: 2608.5627\n",
            "Epoch 37/100\n",
            "1/1 [==============================] - 0s 6ms/step - loss: 2602.2583 - mse: 2602.2583\n",
            "Epoch 38/100\n",
            "1/1 [==============================] - 0s 5ms/step - loss: 2595.8965 - mse: 2595.8965\n",
            "Epoch 39/100\n",
            "1/1 [==============================] - 0s 6ms/step - loss: 2589.4766 - mse: 2589.4766\n",
            "Epoch 40/100\n",
            "1/1 [==============================] - 0s 4ms/step - loss: 2583.0015 - mse: 2583.0015\n",
            "Epoch 41/100\n",
            "1/1 [==============================] - 0s 6ms/step - loss: 2576.4700 - mse: 2576.4700\n",
            "Epoch 42/100\n",
            "1/1 [==============================] - 0s 4ms/step - loss: 2569.8821 - mse: 2569.8821\n",
            "Epoch 43/100\n",
            "1/1 [==============================] - 0s 8ms/step - loss: 2563.2373 - mse: 2563.2373\n",
            "Epoch 44/100\n",
            "1/1 [==============================] - 0s 4ms/step - loss: 2556.5349 - mse: 2556.5349\n",
            "Epoch 45/100\n",
            "1/1 [==============================] - 0s 4ms/step - loss: 2549.7747 - mse: 2549.7747\n",
            "Epoch 46/100\n",
            "1/1 [==============================] - 0s 4ms/step - loss: 2542.9529 - mse: 2542.9529\n",
            "Epoch 47/100\n",
            "1/1 [==============================] - 0s 5ms/step - loss: 2536.0708 - mse: 2536.0708\n",
            "Epoch 48/100\n",
            "1/1 [==============================] - 0s 6ms/step - loss: 2529.1296 - mse: 2529.1296\n",
            "Epoch 49/100\n",
            "1/1 [==============================] - 0s 20ms/step - loss: 2522.1282 - mse: 2522.1282\n",
            "Epoch 50/100\n",
            "1/1 [==============================] - 0s 7ms/step - loss: 2515.0662 - mse: 2515.0662\n",
            "Epoch 51/100\n",
            "1/1 [==============================] - 0s 4ms/step - loss: 2507.9441 - mse: 2507.9441\n",
            "Epoch 52/100\n",
            "1/1 [==============================] - 0s 4ms/step - loss: 2500.7593 - mse: 2500.7593\n",
            "Epoch 53/100\n",
            "1/1 [==============================] - 0s 5ms/step - loss: 2493.5059 - mse: 2493.5059\n",
            "Epoch 54/100\n",
            "1/1 [==============================] - 0s 10ms/step - loss: 2486.1895 - mse: 2486.1895\n",
            "Epoch 55/100\n",
            "1/1 [==============================] - 0s 4ms/step - loss: 2478.8105 - mse: 2478.8105\n",
            "Epoch 56/100\n",
            "1/1 [==============================] - 0s 5ms/step - loss: 2471.3691 - mse: 2471.3691\n",
            "Epoch 57/100\n",
            "1/1 [==============================] - 0s 5ms/step - loss: 2463.8645 - mse: 2463.8645\n",
            "Epoch 58/100\n",
            "1/1 [==============================] - 0s 6ms/step - loss: 2456.2964 - mse: 2456.2964\n",
            "Epoch 59/100\n",
            "1/1 [==============================] - 0s 5ms/step - loss: 2448.6655 - mse: 2448.6655\n",
            "Epoch 60/100\n",
            "1/1 [==============================] - 0s 6ms/step - loss: 2440.9707 - mse: 2440.9707\n",
            "Epoch 61/100\n",
            "1/1 [==============================] - 0s 5ms/step - loss: 2433.2114 - mse: 2433.2114\n",
            "Epoch 62/100\n",
            "1/1 [==============================] - 0s 7ms/step - loss: 2425.3801 - mse: 2425.3801\n",
            "Epoch 63/100\n",
            "1/1 [==============================] - 0s 7ms/step - loss: 2417.4773 - mse: 2417.4773\n",
            "Epoch 64/100\n",
            "1/1 [==============================] - 0s 10ms/step - loss: 2409.5051 - mse: 2409.5051\n",
            "Epoch 65/100\n",
            "1/1 [==============================] - 0s 8ms/step - loss: 2401.4634 - mse: 2401.4634\n",
            "Epoch 66/100\n",
            "1/1 [==============================] - 0s 4ms/step - loss: 2393.3550 - mse: 2393.3550\n",
            "Epoch 67/100\n",
            "1/1 [==============================] - 0s 4ms/step - loss: 2385.1809 - mse: 2385.1809\n",
            "Epoch 68/100\n",
            "1/1 [==============================] - 0s 4ms/step - loss: 2376.9407 - mse: 2376.9407\n",
            "Epoch 69/100\n",
            "1/1 [==============================] - 0s 4ms/step - loss: 2368.6343 - mse: 2368.6343\n",
            "Epoch 70/100\n",
            "1/1 [==============================] - 0s 4ms/step - loss: 2360.2622 - mse: 2360.2622\n",
            "Epoch 71/100\n",
            "1/1 [==============================] - 0s 8ms/step - loss: 2351.8245 - mse: 2351.8245\n",
            "Epoch 72/100\n",
            "1/1 [==============================] - 0s 4ms/step - loss: 2343.3232 - mse: 2343.3232\n",
            "Epoch 73/100\n",
            "1/1 [==============================] - 0s 7ms/step - loss: 2334.7629 - mse: 2334.7629\n",
            "Epoch 74/100\n",
            "1/1 [==============================] - 0s 4ms/step - loss: 2326.1375 - mse: 2326.1375\n",
            "Epoch 75/100\n",
            "1/1 [==============================] - 0s 6ms/step - loss: 2317.4473 - mse: 2317.4473\n",
            "Epoch 76/100\n",
            "1/1 [==============================] - 0s 6ms/step - loss: 2308.6904 - mse: 2308.6904\n",
            "Epoch 77/100\n",
            "1/1 [==============================] - 0s 8ms/step - loss: 2299.8589 - mse: 2299.8589\n",
            "Epoch 78/100\n",
            "1/1 [==============================] - 0s 4ms/step - loss: 2290.9595 - mse: 2290.9595\n",
            "Epoch 79/100\n",
            "1/1 [==============================] - 0s 4ms/step - loss: 2281.9868 - mse: 2281.9868\n",
            "Epoch 80/100\n",
            "1/1 [==============================] - 0s 5ms/step - loss: 2272.9478 - mse: 2272.9478\n",
            "Epoch 81/100\n",
            "1/1 [==============================] - 0s 5ms/step - loss: 2263.8433 - mse: 2263.8433\n",
            "Epoch 82/100\n",
            "1/1 [==============================] - 0s 8ms/step - loss: 2254.6731 - mse: 2254.6731\n",
            "Epoch 83/100\n",
            "1/1 [==============================] - 0s 4ms/step - loss: 2245.4377 - mse: 2245.4377\n",
            "Epoch 84/100\n",
            "1/1 [==============================] - 0s 6ms/step - loss: 2236.1372 - mse: 2236.1372\n",
            "Epoch 85/100\n",
            "1/1 [==============================] - 0s 6ms/step - loss: 2226.7715 - mse: 2226.7715\n",
            "Epoch 86/100\n",
            "1/1 [==============================] - 0s 6ms/step - loss: 2217.3418 - mse: 2217.3418\n",
            "Epoch 87/100\n",
            "1/1 [==============================] - 0s 6ms/step - loss: 2207.8481 - mse: 2207.8481\n",
            "Epoch 88/100\n",
            "1/1 [==============================] - 0s 8ms/step - loss: 2198.2905 - mse: 2198.2905\n",
            "Epoch 89/100\n",
            "1/1 [==============================] - 0s 7ms/step - loss: 2188.6694 - mse: 2188.6694\n",
            "Epoch 90/100\n",
            "1/1 [==============================] - 0s 6ms/step - loss: 2178.9856 - mse: 2178.9856\n",
            "Epoch 91/100\n",
            "1/1 [==============================] - 0s 9ms/step - loss: 2169.2383 - mse: 2169.2383\n",
            "Epoch 92/100\n",
            "1/1 [==============================] - 0s 7ms/step - loss: 2159.4292 - mse: 2159.4292\n",
            "Epoch 93/100\n",
            "1/1 [==============================] - 0s 5ms/step - loss: 2149.5576 - mse: 2149.5576\n",
            "Epoch 94/100\n",
            "1/1 [==============================] - 0s 8ms/step - loss: 2139.6248 - mse: 2139.6248\n",
            "Epoch 95/100\n",
            "1/1 [==============================] - 0s 5ms/step - loss: 2129.6306 - mse: 2129.6306\n",
            "Epoch 96/100\n",
            "1/1 [==============================] - 0s 6ms/step - loss: 2119.5759 - mse: 2119.5759\n",
            "Epoch 97/100\n",
            "1/1 [==============================] - 0s 5ms/step - loss: 2109.4607 - mse: 2109.4607\n",
            "Epoch 98/100\n",
            "1/1 [==============================] - 0s 8ms/step - loss: 2099.2854 - mse: 2099.2854\n",
            "Epoch 99/100\n",
            "1/1 [==============================] - 0s 8ms/step - loss: 2089.0510 - mse: 2089.0510\n",
            "Epoch 100/100\n",
            "1/1 [==============================] - 0s 5ms/step - loss: 2078.7576 - mse: 2078.7576\n"
          ],
          "name": "stdout"
        },
        {
          "output_type": "execute_result",
          "data": {
            "text/plain": [
              "<tensorflow.python.keras.callbacks.History at 0x7f31080f2e50>"
            ]
          },
          "metadata": {
            "tags": []
          },
          "execution_count": 9
        }
      ]
    },
    {
      "cell_type": "markdown",
      "metadata": {
        "id": "R9aMFHaC_x-v"
      },
      "source": [
        "### Using a Pre-Trained Model"
      ]
    },
    {
      "cell_type": "markdown",
      "metadata": {
        "id": "yD9qiB3C_0jZ"
      },
      "source": [
        "Building and training a model from scratch can be a long and painful process. Luckily there are many publicly available models that are pre-trained and hosted online for you to freely use.\n",
        " \n",
        "But why would you want to use a pre-trained model?\n",
        "\n",
        "There may already be a model that performs some task you need to perform, such as image recognition. Or you may want to build on an existing model, utilizing [transfer learning](https://en.wikipedia.org/wiki/Transfer_learning) to adapt the model to your problem.\n",
        " \n",
        "Where can you find these models?\n",
        "\n",
        "One of the most common places is the [official list](https://github.com/tensorflow/models) of pre-trained models curated by TensorFlow developers. This is often referred to as the *TensorFlow Model Garden*.\n",
        " \n",
        "In this course we will be utilizing models stored in the TensorFlow detection model zoo. The zoo has models built with [TensorFlow 1](https://github.com/tensorflow/models/blob/master/research/object_detection/g3doc/tf1_detection_zoo.md) and [TensorFlow 2](https://github.com/tensorflow/models/blob/master/research/object_detection/g3doc/tf2_detection_zoo.md). We'll be focusing on the [Common Objects in Context (COCO)](http://cocodataset.org/) dataset. This dataset contains over 270,000 labeled images in 91 categories."
      ]
    },
    {
      "cell_type": "markdown",
      "metadata": {
        "id": "ZUHykGkHCZpO"
      },
      "source": [
        "#### Obtain the Model File"
      ]
    },
    {
      "cell_type": "markdown",
      "metadata": {
        "id": "rRW_C4qMCc8z"
      },
      "source": [
        "In order to use a pre-trained model, we first need to obtain the model file. For this Colab we'll visit the [TensorFlow detection model zoo](https://github.com/tensorflow/models/blob/master/research/object_detection/g3doc/tf1_detection_zoo.md) and download the `ssd_mobilenet_v1_coco` model.\n",
        "\n",
        "The direct link to the model changes as the model is updated, so you'll need to browse the links in the zoo and find the model. Once you click the download link, you'll have a file on your system named similarly to (but not necessarily exactly the same as):\n",
        "\n",
        " > `ssd_mobilenet_v1_coco_2018_01_28.tar.gz`\n",
        "\n",
        "This is a compressed version of the model file. It is a gzipped (`.gz`) tape archive (`.tar`) file. If you want to explore the file on your local system, you might need to install a program such as [7-zip](https://www.7-zip.org/). On Mac and Linux systems you should be able to right-click on the file and extract the contents without any extra software. If you are comfortable with the command line, you can use the following command to extract the file contents.\n",
        "\n",
        "  > `tar -xzvf ssd_mobilenet_v1_coco_2018_01_28.tar.gz`\n",
        "\n",
        "And finally, if you just want to directly load the file to this Colab, update the file name in the code snippet below and run the code.\n",
        "\n",
        "Also notice that the documentation for the model we are downloading says the model was built using TensorFlow version 1."
      ]
    },
    {
      "cell_type": "code",
      "metadata": {
        "id": "iqpzWYtcFTmk",
        "colab": {
          "base_uri": "https://localhost:8080/"
        },
        "outputId": "ede6d92a-0f02-4248-c335-aab55c0b5772"
      },
      "source": [
        "import urllib.request\n",
        "import os\n",
        "\n",
        "base_url = 'http://download.tensorflow.org/models/object_detection/'\n",
        "file_name = 'ssd_mobilenet_v1_coco_2018_01_28.tar.gz'\n",
        "\n",
        "url = base_url + file_name\n",
        "\n",
        "urllib.request.urlretrieve(url, file_name)\n",
        "\n",
        "os.listdir()"
      ],
      "execution_count": 10,
      "outputs": [
        {
          "output_type": "execute_result",
          "data": {
            "text/plain": [
              "['.config',\n",
              " 'my_regression.pkl',\n",
              " 'linnerud',\n",
              " 'ssd_mobilenet_v1_coco_2018_01_28.tar.gz',\n",
              " 'sample_data']"
            ]
          },
          "metadata": {
            "tags": []
          },
          "execution_count": 10
        }
      ]
    },
    {
      "cell_type": "markdown",
      "metadata": {
        "id": "xuxLOHIJjBEU"
      },
      "source": [
        "#### Extract the Model Data"
      ]
    },
    {
      "cell_type": "markdown",
      "metadata": {
        "id": "bsfJLTVxSq7X"
      },
      "source": [
        "In order to load the model, it must be extracted from the compressed archive file (also called a \"tarball\" in this case). We will use Python's `tarfile` module to extract the contents of the file. The contents of the file will be saved in a directory named after the file. For example, the contents of `ssd_mobilenet_v1_coco_2018_01_28.tar.gz` will be saved in the `ssd_mobilenet_v1_coco_2018_01_28` directory."
      ]
    },
    {
      "cell_type": "code",
      "metadata": {
        "id": "6WGXDh3N8Nsr",
        "colab": {
          "base_uri": "https://localhost:8080/"
        },
        "outputId": "4b6557d3-1fbf-46f9-a8e5-b8eaef1ceaa5"
      },
      "source": [
        "import tarfile\n",
        "import shutil\n",
        "\n",
        "dir_name = file_name[0:-len('.tar.gz')]\n",
        "\n",
        "if os.path.exists(dir_name):\n",
        "  shutil.rmtree(dir_name) \n",
        "\n",
        "tarfile.open(file_name, 'r:gz').extractall('./')\n",
        "\n",
        "os.listdir(dir_name)"
      ],
      "execution_count": 11,
      "outputs": [
        {
          "output_type": "execute_result",
          "data": {
            "text/plain": [
              "['model.ckpt.meta',\n",
              " 'model.ckpt.index',\n",
              " 'pipeline.config',\n",
              " 'model.ckpt.data-00000-of-00001',\n",
              " 'saved_model',\n",
              " 'frozen_inference_graph.pb',\n",
              " 'checkpoint']"
            ]
          },
          "metadata": {
            "tags": []
          },
          "execution_count": 11
        }
      ]
    },
    {
      "cell_type": "markdown",
      "metadata": {
        "id": "a1xn4IomjGf2"
      },
      "source": [
        "#### Load the Frozen Graph"
      ]
    },
    {
      "cell_type": "markdown",
      "metadata": {
        "id": "SxOEoVzQUIIX"
      },
      "source": [
        "There are some interesting files contained in the archive, including checkpoints that can be used for resuming model training from a specific point. We care mostly about the `frozen_inference_graph.pb` file; this file contains a trained TensorFlow graph we can use for classification.\n",
        "\n",
        "We can load the frozen graph using TensorFlow's `GFile` method to open the file, then call `GraphDef.ParseFromString` to load the graph into memory."
      ]
    },
    {
      "cell_type": "code",
      "metadata": {
        "id": "a-g_Wmbs-FKB"
      },
      "source": [
        "import tensorflow as tf\n",
        "\n",
        "frozen_graph = os.path.join(dir_name, 'frozen_inference_graph.pb')\n",
        "\n",
        "with tf.io.gfile.GFile(frozen_graph, \"rb\") as f:\n",
        "  graph_def = tf.compat.v1.GraphDef()\n",
        "  loaded = graph_def.ParseFromString(f.read())"
      ],
      "execution_count": 12,
      "outputs": []
    },
    {
      "cell_type": "markdown",
      "metadata": {
        "id": "SqS97qcwjNXd"
      },
      "source": [
        "#### Explore the Graph"
      ]
    },
    {
      "cell_type": "markdown",
      "metadata": {
        "id": "6RaKacjGbc8T"
      },
      "source": [
        "Now we have a graph loaded! But how do we use it? What are the inputs and outputs?\n",
        " \n",
        "In a perfect world, model builders would fully document the inputs and outputs of their models, and we would know exactly how to interact with them. Unfortunately, this is not a perfect world.\n",
        " \n",
        "The first step is just to determine the number of nodes in the graph."
      ]
    },
    {
      "cell_type": "code",
      "metadata": {
        "id": "Hjl6bZBieAPH",
        "colab": {
          "base_uri": "https://localhost:8080/"
        },
        "outputId": "404f9199-a3c8-4187-e880-77e879f15413"
      },
      "source": [
        "len(graph_def.node)"
      ],
      "execution_count": 13,
      "outputs": [
        {
          "output_type": "execute_result",
          "data": {
            "text/plain": [
              "5960"
            ]
          },
          "metadata": {
            "tags": []
          },
          "execution_count": 13
        }
      ]
    },
    {
      "cell_type": "markdown",
      "metadata": {
        "id": "9HiLpHl7eIWq"
      },
      "source": [
        "We have about 5,960 nodes. This is probably more than you would want to sort through manually.\n",
        " \n",
        "TensorFlow automatically names nodes if you don't name them yourself. Nested nodes typically have a slash, '/', in the name.\n",
        " \n",
        "How many nodes do we have without slashes?"
      ]
    },
    {
      "cell_type": "code",
      "metadata": {
        "id": "ewa4ZkGHeoEn",
        "colab": {
          "base_uri": "https://localhost:8080/"
        },
        "outputId": "b0631b80-0cc8-4170-b151-454294aa5f92"
      },
      "source": [
        "len([n for n in graph_def.node if '/' not in n.name])"
      ],
      "execution_count": 14,
      "outputs": [
        {
          "output_type": "execute_result",
          "data": {
            "text/plain": [
              "13"
            ]
          },
          "metadata": {
            "tags": []
          },
          "execution_count": 14
        }
      ]
    },
    {
      "cell_type": "markdown",
      "metadata": {
        "id": "KgnCFzsker7L"
      },
      "source": [
        "That is a much more approachable number. Let's print out these \"edge\" nodes and see if we can see any obvious inputs and outputs."
      ]
    },
    {
      "cell_type": "code",
      "metadata": {
        "id": "TC-uML7xe1DF",
        "colab": {
          "base_uri": "https://localhost:8080/"
        },
        "outputId": "7448e6bf-139a-41e0-c183-d368eaedcc7c"
      },
      "source": [
        "for n in graph_def.node:\n",
        "  if '/' not in n.name:\n",
        "    print(n.name)"
      ],
      "execution_count": 18,
      "outputs": [
        {
          "output_type": "stream",
          "text": [
            "image_tensor\n",
            "ToFloat\n",
            "Shape_6\n",
            "strided_slice_6\n",
            "strided_slice_7\n",
            "concat\n",
            "Squeeze\n",
            "concat_1\n",
            "detection_boxes\n",
            "detection_scores\n",
            "num_detections\n",
            "add\n",
            "detection_classes\n"
          ],
          "name": "stdout"
        }
      ]
    },
    {
      "cell_type": "markdown",
      "metadata": {
        "id": "aEGqECjQfDoz"
      },
      "source": [
        "At the time of creating this Colab, the edge node list was:\n",
        " \n",
        " * image_tensor\n",
        " * ToFloat\n",
        " * Shape_6\n",
        " * strided_slice_6\n",
        " * strided_slice_7\n",
        " * concat\n",
        " * Squeeze\n",
        " * concat_1\n",
        " * detection_boxes\n",
        " * detection_scores\n",
        " * num_detections\n",
        " * add\n",
        " * detection_classes\n",
        " \n",
        "Many of these look computer-generated, or like it wouldn't really matter if you knew their value or not. The notable nodes seem to be:\n",
        " \n",
        " * image_tensor\n",
        " * detection_boxes\n",
        " * detection_scores\n",
        " * num_detections\n",
        " * detection_classes\n",
        " \n",
        "*image_tensor* looks a lot like an input, and the *detection* classes look like output from a classification."
      ]
    },
    {
      "cell_type": "markdown",
      "metadata": {
        "id": "4kI2weUhglGv"
      },
      "source": [
        "Let's take a look at the details of the *image_tensor*."
      ]
    },
    {
      "cell_type": "code",
      "metadata": {
        "id": "kVjR_DTDgQhT",
        "colab": {
          "base_uri": "https://localhost:8080/"
        },
        "outputId": "5bac6e37-9355-4784-8282-e09f51cb8edb"
      },
      "source": [
        "for n in graph_def.node:\n",
        "  if n.name == 'image_tensor':\n",
        "    print(n)"
      ],
      "execution_count": 19,
      "outputs": [
        {
          "output_type": "stream",
          "text": [
            "name: \"image_tensor\"\n",
            "op: \"Placeholder\"\n",
            "attr {\n",
            "  key: \"dtype\"\n",
            "  value {\n",
            "    type: DT_UINT8\n",
            "  }\n",
            "}\n",
            "attr {\n",
            "  key: \"shape\"\n",
            "  value {\n",
            "    shape {\n",
            "      dim {\n",
            "        size: -1\n",
            "      }\n",
            "      dim {\n",
            "        size: -1\n",
            "      }\n",
            "      dim {\n",
            "        size: -1\n",
            "      }\n",
            "      dim {\n",
            "        size: 3\n",
            "      }\n",
            "    }\n",
            "  }\n",
            "}\n",
            "\n"
          ],
          "name": "stdout"
        }
      ]
    },
    {
      "cell_type": "markdown",
      "metadata": {
        "id": "mbRDU4dQgyDK"
      },
      "source": [
        "*Placeholder* seems significant; thinking back to our \"Introduction to TensorFlow\" lesson, we remember that placeholders are the entrypoint for input data into the graph.\n",
        " \n",
        "Let's see how many placeholders we have in this graph."
      ]
    },
    {
      "cell_type": "code",
      "metadata": {
        "id": "O6kuZR14gpw1",
        "colab": {
          "base_uri": "https://localhost:8080/"
        },
        "outputId": "768fab83-8dbe-40ba-db6a-3b7eadae2b62"
      },
      "source": [
        "for n in graph_def.node:\n",
        "  if n.op == 'Placeholder':\n",
        "    print(n.name)"
      ],
      "execution_count": 20,
      "outputs": [
        {
          "output_type": "stream",
          "text": [
            "image_tensor\n"
          ],
          "name": "stdout"
        }
      ]
    },
    {
      "cell_type": "markdown",
      "metadata": {
        "id": "A2nk2ZCmhWcz"
      },
      "source": [
        "We have only one: *image_tensor*.\n",
        "\n",
        "What size input does the input tensor take?\n",
        "\n",
        "Look back a few cells, and you'll see that it expects input of shape (-1, -1, -1, 3). The -1 values just indicate that the tensor accepts variable sized input, but the 3 is telling. RGB values are three values containing colors of an image. This tensor likely wants a variable number of images -- with a variable width and height -- but with three color values."
      ]
    },
    {
      "cell_type": "markdown",
      "metadata": {
        "id": "eDQvEpwgigTP"
      },
      "source": [
        "Now let's look at our *detection* nodes."
      ]
    },
    {
      "cell_type": "code",
      "metadata": {
        "id": "4td5SfFmiBRD",
        "colab": {
          "base_uri": "https://localhost:8080/"
        },
        "outputId": "0d614a1f-6651-489b-d31b-ab1cc687fa77"
      },
      "source": [
        "for n in graph_def.node:\n",
        "  if 'detection' in n.name and '/' not in n.name:\n",
        "    print(n)"
      ],
      "execution_count": 21,
      "outputs": [
        {
          "output_type": "stream",
          "text": [
            "name: \"detection_boxes\"\n",
            "op: \"Identity\"\n",
            "input: \"Postprocessor/BatchMultiClassNonMaxSuppression/map/TensorArrayStack/TensorArrayGatherV3\"\n",
            "attr {\n",
            "  key: \"T\"\n",
            "  value {\n",
            "    type: DT_FLOAT\n",
            "  }\n",
            "}\n",
            "\n",
            "name: \"detection_scores\"\n",
            "op: \"Identity\"\n",
            "input: \"Postprocessor/BatchMultiClassNonMaxSuppression/map/TensorArrayStack_1/TensorArrayGatherV3\"\n",
            "attr {\n",
            "  key: \"T\"\n",
            "  value {\n",
            "    type: DT_FLOAT\n",
            "  }\n",
            "}\n",
            "\n",
            "name: \"num_detections\"\n",
            "op: \"Identity\"\n",
            "input: \"Postprocessor/ToFloat_3\"\n",
            "attr {\n",
            "  key: \"T\"\n",
            "  value {\n",
            "    type: DT_FLOAT\n",
            "  }\n",
            "}\n",
            "\n",
            "name: \"detection_classes\"\n",
            "op: \"Identity\"\n",
            "input: \"add\"\n",
            "attr {\n",
            "  key: \"T\"\n",
            "  value {\n",
            "    type: DT_FLOAT\n",
            "  }\n",
            "}\n",
            "\n"
          ],
          "name": "stdout"
        }
      ]
    },
    {
      "cell_type": "markdown",
      "metadata": {
        "id": "m-5b5cxvik2X"
      },
      "source": [
        "We can see that each node receives a float value, but we're not sure what shape the data will have.\n",
        " \n",
        "However, we know the data that we need to input into the graph and the data that we can extract from the graph. We can run the graph and manually explore the outputs to determine what data and shape they conform to."
      ]
    },
    {
      "cell_type": "markdown",
      "metadata": {
        "id": "ptRrA7OGjzQD"
      },
      "source": [
        "#### Run the Graph"
      ]
    },
    {
      "cell_type": "markdown",
      "metadata": {
        "id": "w0U0a6xmV3jw"
      },
      "source": [
        "Now that we have a graph loaded, we need to test it out. Let's download an [image of a car](https://pixabay.com/illustrations/car-sports-car-racing-car-speed-49278/) and upload that image to Colab. Rename the file `car.jpg` or change the name of the `image_filename` variable below to match the name of the file you uploaded."
      ]
    },
    {
      "cell_type": "code",
      "metadata": {
        "id": "6wb53z9mWOWz"
      },
      "source": [
        "image_filename = 'car.jpg'"
      ],
      "execution_count": 22,
      "outputs": []
    },
    {
      "cell_type": "code",
      "metadata": {
        "id": "SRs6HG33WWz3",
        "colab": {
          "base_uri": "https://localhost:8080/",
          "height": 240
        },
        "outputId": "049fe211-4ad4-474b-ff6e-de52a621f227"
      },
      "source": [
        "import cv2 as cv\n",
        "import matplotlib.pyplot as plt\n",
        "\n",
        "image = cv.imread('car.jpg')\n",
        "\n",
        "plt.imshow(image)\n",
        "plt.show()"
      ],
      "execution_count": 23,
      "outputs": [
        {
          "output_type": "display_data",
          "data": {
            "image/png": "[encoded data removed]",
            "text/plain": [
              "<Figure size 432x288 with 1 Axes>"
            ]
          },
          "metadata": {
            "tags": [],
            "needs_background": "light"
          }
        }
      ]
    },
    {
      "cell_type": "markdown",
      "metadata": {
        "id": "Ujy6B5mtkxjv"
      },
      "source": [
        "Remember that TensorFlow allows you to request execution to any node in the graph. We want to know all of the *detection* outputs that we discovered in the graph. These were:\n",
        "\n",
        "  * num_detections\n",
        "  * detection_scores\n",
        "  * detection_boxes\n",
        "  * detection_classes\n",
        "\n",
        "We will build a list of *outputs* that we want TensorFlow to generate."
      ]
    },
    {
      "cell_type": "code",
      "metadata": {
        "id": "vzQQ1HLplnqJ"
      },
      "source": [
        "outputs = (\n",
        "  'num_detections:0',\n",
        "  'detection_classes:0',\n",
        "  'detection_scores:0',\n",
        "  'detection_boxes:0',\n",
        ")"
      ],
      "execution_count": 24,
      "outputs": []
    },
    {
      "cell_type": "markdown",
      "metadata": {
        "id": "lYtBjWbomK8f"
      },
      "source": [
        "We also need to input our data into the graph. Our expected input shape is (-1, -1, -1, 3). Let's see the shape of our input image."
      ]
    },
    {
      "cell_type": "code",
      "metadata": {
        "id": "T5Cp8bA9mWg8",
        "colab": {
          "base_uri": "https://localhost:8080/"
        },
        "outputId": "26820c61-19fa-4eb3-dc6c-b9f97324b55b"
      },
      "source": [
        "image.shape"
      ],
      "execution_count": 25,
      "outputs": [
        {
          "output_type": "execute_result",
          "data": {
            "text/plain": [
              "(360, 640, 3)"
            ]
          },
          "metadata": {
            "tags": []
          },
          "execution_count": 25
        }
      ]
    },
    {
      "cell_type": "markdown",
      "metadata": {
        "id": "TJb1rURLmZE6"
      },
      "source": [
        "(360, 640, 3) is a 3-dimensional shape, while our model is expecting a 4-dimensional input. This is because the model can accept multiple images to train on, and we have only one image. All we need to do is wrap the image in a list."
      ]
    },
    {
      "cell_type": "code",
      "metadata": {
        "id": "Fl3Sje_QmrO0"
      },
      "source": [
        "input_images = [image]"
      ],
      "execution_count": 26,
      "outputs": []
    },
    {
      "cell_type": "markdown",
      "metadata": {
        "id": "7ebFK1dUmxR7"
      },
      "source": [
        "We can now execute the graph requesting our outputs and providing inputs.\n",
        "\n",
        "In order to do this, we must first wrap the graph. This is necessary due to compatibility issues between TensorFlow version 1 and 2."
      ]
    },
    {
      "cell_type": "code",
      "metadata": {
        "id": "6D-ZWbrbxM54"
      },
      "source": [
        "def wrap_graph(graph_def, inputs, outputs, print_graph=False):\n",
        "  wrapped = tf.compat.v1.wrap_function(\n",
        "    lambda: tf.compat.v1.import_graph_def(graph_def, name=\"\"), [])\n",
        "\n",
        "  return wrapped.prune(\n",
        "    tf.nest.map_structure(wrapped.graph.as_graph_element, inputs),\n",
        "    tf.nest.map_structure(wrapped.graph.as_graph_element, outputs))\n",
        "    \n",
        "model = wrap_graph(graph_def=graph_def,\n",
        "                   inputs=[\"image_tensor:0\"],\n",
        "                   outputs=outputs)"
      ],
      "execution_count": 27,
      "outputs": []
    },
    {
      "cell_type": "markdown",
      "metadata": {
        "id": "01N8Tgky1qAD"
      },
      "source": [
        "We can now look at the input placeholder."
      ]
    },
    {
      "cell_type": "code",
      "metadata": {
        "id": "ZEhNu1wpyx1Y",
        "colab": {
          "base_uri": "https://localhost:8080/"
        },
        "outputId": "58b50309-9c45-4df5-87fd-c00b0ac0bae3"
      },
      "source": [
        "model.inputs"
      ],
      "execution_count": 28,
      "outputs": [
        {
          "output_type": "execute_result",
          "data": {
            "text/plain": [
              "[<tf.Tensor 'image_tensor:0' shape=(None, None, None, 3) dtype=uint8>]"
            ]
          },
          "metadata": {
            "tags": []
          },
          "execution_count": 28
        }
      ]
    },
    {
      "cell_type": "markdown",
      "metadata": {
        "id": "u0gLTD3Q1t4h"
      },
      "source": [
        "And the outputs."
      ]
    },
    {
      "cell_type": "code",
      "metadata": {
        "id": "7sJHMff9yz0f",
        "colab": {
          "base_uri": "https://localhost:8080/"
        },
        "outputId": "1b6d5e13-351d-45b7-96c8-8181bc92bd1c"
      },
      "source": [
        "model.outputs"
      ],
      "execution_count": 29,
      "outputs": [
        {
          "output_type": "execute_result",
          "data": {
            "text/plain": [
              "[<tf.Tensor 'num_detections:0' shape=<unknown> dtype=float32>,\n",
              " <tf.Tensor 'detection_classes:0' shape=<unknown> dtype=float32>,\n",
              " <tf.Tensor 'detection_scores:0' shape=<unknown> dtype=float32>,\n",
              " <tf.Tensor 'detection_boxes:0' shape=<unknown> dtype=float32>]"
            ]
          },
          "metadata": {
            "tags": []
          },
          "execution_count": 29
        }
      ]
    },
    {
      "cell_type": "markdown",
      "metadata": {
        "id": "BIrNemK610Gp"
      },
      "source": [
        "And then to make predictions, we convert our image into a tensor and pass it to the model."
      ]
    },
    {
      "cell_type": "code",
      "metadata": {
        "id": "UdB5SPDPzBTh"
      },
      "source": [
        "tensor = tf.convert_to_tensor(input_images, dtype=tf.uint8)\n",
        "\n",
        "detections = model(tensor)"
      ],
      "execution_count": 30,
      "outputs": []
    },
    {
      "cell_type": "markdown",
      "metadata": {
        "id": "gPBzdQnTnri7"
      },
      "source": [
        "#### Investigate Outputs"
      ]
    },
    {
      "cell_type": "markdown",
      "metadata": {
        "id": "v83xexNPnid3"
      },
      "source": [
        "Now we can explore the outputs of that graph.\n",
        "\n",
        "When the graph executed, it stored all outputs in a variable called `detections`. Let's first look at that variable and see what type it is."
      ]
    },
    {
      "cell_type": "code",
      "metadata": {
        "id": "bzIqOHjhndlz",
        "colab": {
          "base_uri": "https://localhost:8080/"
        },
        "outputId": "a0eef47c-2a00-41d7-9dbf-6644d5015b3a"
      },
      "source": [
        "type(detections)"
      ],
      "execution_count": 31,
      "outputs": [
        {
          "output_type": "execute_result",
          "data": {
            "text/plain": [
              "tuple"
            ]
          },
          "metadata": {
            "tags": []
          },
          "execution_count": 31
        }
      ]
    },
    {
      "cell_type": "markdown",
      "metadata": {
        "id": "vl2ps62roC58"
      },
      "source": [
        "A tuple. How many elements?"
      ]
    },
    {
      "cell_type": "code",
      "metadata": {
        "id": "NUjbaxjioKdA",
        "colab": {
          "base_uri": "https://localhost:8080/"
        },
        "outputId": "18829b96-15cd-41ff-c7e5-455d24766955"
      },
      "source": [
        "len(detections)"
      ],
      "execution_count": 32,
      "outputs": [
        {
          "output_type": "execute_result",
          "data": {
            "text/plain": [
              "4"
            ]
          },
          "metadata": {
            "tags": []
          },
          "execution_count": 32
        }
      ]
    },
    {
      "cell_type": "markdown",
      "metadata": {
        "id": "H81aP3yPoQCy"
      },
      "source": [
        "Four. That is suspiciously similar to the number of outputs we asked for. Remember that we requested:\n",
        "\n",
        "  1. num_detections\n",
        "  1. detection_classes\n",
        "  1. detection_scores\n",
        "  1. detection_boxes\n",
        "\n",
        "Let's see if our first row looks like the number of detections that were found."
      ]
    },
    {
      "cell_type": "code",
      "metadata": {
        "id": "qPaiQgGtoqdK",
        "colab": {
          "base_uri": "https://localhost:8080/"
        },
        "outputId": "78837308-7dd2-415d-8373-b0600f712536"
      },
      "source": [
        "detections[0]"
      ],
      "execution_count": 33,
      "outputs": [
        {
          "output_type": "execute_result",
          "data": {
            "text/plain": [
              "<tf.Tensor: shape=(1,), dtype=float32, numpy=array([1.], dtype=float32)>"
            ]
          },
          "metadata": {
            "tags": []
          },
          "execution_count": 33
        }
      ]
    },
    {
      "cell_type": "markdown",
      "metadata": {
        "id": "LB9eyZRso0Km"
      },
      "source": [
        "This makes sense because we sent the classifier only one image, and it was of a car.\n",
        " \n",
        "Let's move to the next list item."
      ]
    },
    {
      "cell_type": "code",
      "metadata": {
        "id": "Uqd_vxQco-4U",
        "colab": {
          "base_uri": "https://localhost:8080/"
        },
        "outputId": "e68d99e2-006a-4ca9-cdfb-b51ea49dcc91"
      },
      "source": [
        "detections[1]"
      ],
      "execution_count": 34,
      "outputs": [
        {
          "output_type": "execute_result",
          "data": {
            "text/plain": [
              "<tf.Tensor: shape=(1, 100), dtype=float32, numpy=\n",
              "array([[3., 1., 1., 1., 1., 1., 1., 1., 1., 1., 1., 1., 1., 1., 1., 1.,\n",
              "        1., 1., 1., 1., 1., 1., 1., 1., 1., 1., 1., 1., 1., 1., 1., 1.,\n",
              "        1., 1., 1., 1., 1., 1., 1., 1., 1., 1., 1., 1., 1., 1., 1., 1.,\n",
              "        1., 1., 1., 1., 1., 1., 1., 1., 1., 1., 1., 1., 1., 1., 1., 1.,\n",
              "        1., 1., 1., 1., 1., 1., 1., 1., 1., 1., 1., 1., 1., 1., 1., 1.,\n",
              "        1., 1., 1., 1., 1., 1., 1., 1., 1., 1., 1., 1., 1., 1., 1., 1.,\n",
              "        1., 1., 1., 1.]], dtype=float32)>"
            ]
          },
          "metadata": {
            "tags": []
          },
          "execution_count": 34
        }
      ]
    },
    {
      "cell_type": "markdown",
      "metadata": {
        "id": "9D5hCCHepDPz"
      },
      "source": [
        "We get a list of a list where all of the values of the sub-list are 1 except for the first value.\n",
        "\n",
        "The second output we requested was 'classes'. This is likely the index of the class of the detection."
      ]
    },
    {
      "cell_type": "markdown",
      "metadata": {
        "id": "SebqXuuqrR8V"
      },
      "source": [
        "And the next element?"
      ]
    },
    {
      "cell_type": "code",
      "metadata": {
        "id": "JdI5fbNTqF6a",
        "colab": {
          "base_uri": "https://localhost:8080/"
        },
        "outputId": "80b03b85-cb6b-4f7c-ad5e-c2477f970687"
      },
      "source": [
        "detections[2]"
      ],
      "execution_count": 35,
      "outputs": [
        {
          "output_type": "execute_result",
          "data": {
            "text/plain": [
              "<tf.Tensor: shape=(1, 100), dtype=float32, numpy=\n",
              "array([[0.8767119, 0.       , 0.       , 0.       , 0.       , 0.       ,\n",
              "        0.       , 0.       , 0.       , 0.       , 0.       , 0.       ,\n",
              "        0.       , 0.       , 0.       , 0.       , 0.       , 0.       ,\n",
              "        0.       , 0.       , 0.       , 0.       , 0.       , 0.       ,\n",
              "        0.       , 0.       , 0.       , 0.       , 0.       , 0.       ,\n",
              "        0.       , 0.       , 0.       , 0.       , 0.       , 0.       ,\n",
              "        0.       , 0.       , 0.       , 0.       , 0.       , 0.       ,\n",
              "        0.       , 0.       , 0.       , 0.       , 0.       , 0.       ,\n",
              "        0.       , 0.       , 0.       , 0.       , 0.       , 0.       ,\n",
              "        0.       , 0.       , 0.       , 0.       , 0.       , 0.       ,\n",
              "        0.       , 0.       , 0.       , 0.       , 0.       , 0.       ,\n",
              "        0.       , 0.       , 0.       , 0.       , 0.       , 0.       ,\n",
              "        0.       , 0.       , 0.       , 0.       , 0.       , 0.       ,\n",
              "        0.       , 0.       , 0.       , 0.       , 0.       , 0.       ,\n",
              "        0.       , 0.       , 0.       , 0.       , 0.       , 0.       ,\n",
              "        0.       , 0.       , 0.       , 0.       , 0.       , 0.       ,\n",
              "        0.       , 0.       , 0.       , 0.       ]], dtype=float32)>"
            ]
          },
          "metadata": {
            "tags": []
          },
          "execution_count": 35
        }
      ]
    },
    {
      "cell_type": "markdown",
      "metadata": {
        "id": "ik2OHeJPralA"
      },
      "source": [
        "This element is the scores we expected."
      ]
    },
    {
      "cell_type": "markdown",
      "metadata": {
        "id": "5_4jP_l8rglb"
      },
      "source": [
        "Now for the final element."
      ]
    },
    {
      "cell_type": "code",
      "metadata": {
        "id": "GdKVmVWSriKM",
        "colab": {
          "base_uri": "https://localhost:8080/"
        },
        "outputId": "b2f304f0-7fe6-44ea-efc7-ba5b85e25a27"
      },
      "source": [
        "detections[3]"
      ],
      "execution_count": 36,
      "outputs": [
        {
          "output_type": "execute_result",
          "data": {
            "text/plain": [
              "<tf.Tensor: shape=(1, 100, 4), dtype=float32, numpy=\n",
              "array([[[0.32255614, 0.16823322, 0.8057618 , 0.9158084 ],\n",
              "        [0.        , 0.        , 0.        , 0.        ],\n",
              "        [0.        , 0.        , 0.        , 0.        ],\n",
              "        [0.        , 0.        , 0.        , 0.        ],\n",
              "        [0.        , 0.        , 0.        , 0.        ],\n",
              "        [0.        , 0.        , 0.        , 0.        ],\n",
              "        [0.        , 0.        , 0.        , 0.        ],\n",
              "        [0.        , 0.        , 0.        , 0.        ],\n",
              "        [0.        , 0.        , 0.        , 0.        ],\n",
              "        [0.        , 0.        , 0.        , 0.        ],\n",
              "        [0.        , 0.        , 0.        , 0.        ],\n",
              "        [0.        , 0.        , 0.        , 0.        ],\n",
              "        [0.        , 0.        , 0.        , 0.        ],\n",
              "        [0.        , 0.        , 0.        , 0.        ],\n",
              "        [0.        , 0.        , 0.        , 0.        ],\n",
              "        [0.        , 0.        , 0.        , 0.        ],\n",
              "        [0.        , 0.        , 0.        , 0.        ],\n",
              "        [0.        , 0.        , 0.        , 0.        ],\n",
              "        [0.        , 0.        , 0.        , 0.        ],\n",
              "        [0.        , 0.        , 0.        , 0.        ],\n",
              "        [0.        , 0.        , 0.        , 0.        ],\n",
              "        [0.        , 0.        , 0.        , 0.        ],\n",
              "        [0.        , 0.        , 0.        , 0.        ],\n",
              "        [0.        , 0.        , 0.        , 0.        ],\n",
              "        [0.        , 0.        , 0.        , 0.        ],\n",
              "        [0.        , 0.        , 0.        , 0.        ],\n",
              "        [0.        , 0.        , 0.        , 0.        ],\n",
              "        [0.        , 0.        , 0.        , 0.        ],\n",
              "        [0.        , 0.        , 0.        , 0.        ],\n",
              "        [0.        , 0.        , 0.        , 0.        ],\n",
              "        [0.        , 0.        , 0.        , 0.        ],\n",
              "        [0.        , 0.        , 0.        , 0.        ],\n",
              "        [0.        , 0.        , 0.        , 0.        ],\n",
              "        [0.        , 0.        , 0.        , 0.        ],\n",
              "        [0.        , 0.        , 0.        , 0.        ],\n",
              "        [0.        , 0.        , 0.        , 0.        ],\n",
              "        [0.        , 0.        , 0.        , 0.        ],\n",
              "        [0.        , 0.        , 0.        , 0.        ],\n",
              "        [0.        , 0.        , 0.        , 0.        ],\n",
              "        [0.        , 0.        , 0.        , 0.        ],\n",
              "        [0.        , 0.        , 0.        , 0.        ],\n",
              "        [0.        , 0.        , 0.        , 0.        ],\n",
              "        [0.        , 0.        , 0.        , 0.        ],\n",
              "        [0.        , 0.        , 0.        , 0.        ],\n",
              "        [0.        , 0.        , 0.        , 0.        ],\n",
              "        [0.        , 0.        , 0.        , 0.        ],\n",
              "        [0.        , 0.        , 0.        , 0.        ],\n",
              "        [0.        , 0.        , 0.        , 0.        ],\n",
              "        [0.        , 0.        , 0.        , 0.        ],\n",
              "        [0.        , 0.        , 0.        , 0.        ],\n",
              "        [0.        , 0.        , 0.        , 0.        ],\n",
              "        [0.        , 0.        , 0.        , 0.        ],\n",
              "        [0.        , 0.        , 0.        , 0.        ],\n",
              "        [0.        , 0.        , 0.        , 0.        ],\n",
              "        [0.        , 0.        , 0.        , 0.        ],\n",
              "        [0.        , 0.        , 0.        , 0.        ],\n",
              "        [0.        , 0.        , 0.        , 0.        ],\n",
              "        [0.        , 0.        , 0.        , 0.        ],\n",
              "        [0.        , 0.        , 0.        , 0.        ],\n",
              "        [0.        , 0.        , 0.        , 0.        ],\n",
              "        [0.        , 0.        , 0.        , 0.        ],\n",
              "        [0.        , 0.        , 0.        , 0.        ],\n",
              "        [0.        , 0.        , 0.        , 0.        ],\n",
              "        [0.        , 0.        , 0.        , 0.        ],\n",
              "        [0.        , 0.        , 0.        , 0.        ],\n",
              "        [0.        , 0.        , 0.        , 0.        ],\n",
              "        [0.        , 0.        , 0.        , 0.        ],\n",
              "        [0.        , 0.        , 0.        , 0.        ],\n",
              "        [0.        , 0.        , 0.        , 0.        ],\n",
              "        [0.        , 0.        , 0.        , 0.        ],\n",
              "        [0.        , 0.        , 0.        , 0.        ],\n",
              "        [0.        , 0.        , 0.        , 0.        ],\n",
              "        [0.        , 0.        , 0.        , 0.        ],\n",
              "        [0.        , 0.        , 0.        , 0.        ],\n",
              "        [0.        , 0.        , 0.        , 0.        ],\n",
              "        [0.        , 0.        , 0.        , 0.        ],\n",
              "        [0.        , 0.        , 0.        , 0.        ],\n",
              "        [0.        , 0.        , 0.        , 0.        ],\n",
              "        [0.        , 0.        , 0.        , 0.        ],\n",
              "        [0.        , 0.        , 0.        , 0.        ],\n",
              "        [0.        , 0.        , 0.        , 0.        ],\n",
              "        [0.        , 0.        , 0.        , 0.        ],\n",
              "        [0.        , 0.        , 0.        , 0.        ],\n",
              "        [0.        , 0.        , 0.        , 0.        ],\n",
              "        [0.        , 0.        , 0.        , 0.        ],\n",
              "        [0.        , 0.        , 0.        , 0.        ],\n",
              "        [0.        , 0.        , 0.        , 0.        ],\n",
              "        [0.        , 0.        , 0.        , 0.        ],\n",
              "        [0.        , 0.        , 0.        , 0.        ],\n",
              "        [0.        , 0.        , 0.        , 0.        ],\n",
              "        [0.        , 0.        , 0.        , 0.        ],\n",
              "        [0.        , 0.        , 0.        , 0.        ],\n",
              "        [0.        , 0.        , 0.        , 0.        ],\n",
              "        [0.        , 0.        , 0.        , 0.        ],\n",
              "        [0.        , 0.        , 0.        , 0.        ],\n",
              "        [0.        , 0.        , 0.        , 0.        ],\n",
              "        [0.        , 0.        , 0.        , 0.        ],\n",
              "        [0.        , 0.        , 0.        , 0.        ],\n",
              "        [0.        , 0.        , 0.        , 0.        ],\n",
              "        [0.        , 0.        , 0.        , 0.        ]]], dtype=float32)>"
            ]
          },
          "metadata": {
            "tags": []
          },
          "execution_count": 36
        }
      ]
    },
    {
      "cell_type": "markdown",
      "metadata": {
        "id": "Lu1qZpucrn5L"
      },
      "source": [
        "Four-element lists. These look a lot like bounding boxes."
      ]
    },
    {
      "cell_type": "markdown",
      "metadata": {
        "id": "vvlTLftsrrhJ"
      },
      "source": [
        "We inspected our model and found that it accepts a list of variable-sized images and that it returns:\n",
        "- the number of matches\n",
        "- the class\n",
        "- the confidence\n",
        "- the bounding boxes for each object found in an image"
      ]
    },
    {
      "cell_type": "markdown",
      "metadata": {
        "id": "_ar7tuYPsEqP"
      },
      "source": [
        "#### Mapping Numbers to Labels"
      ]
    },
    {
      "cell_type": "markdown",
      "metadata": {
        "id": "WjvqT77dsILb"
      },
      "source": [
        "We now have enough information to know how to find, load, and use a pre-trained classification model. But how do we know what the discovered classes actually mean?\n",
        " \n",
        "Typically in machine learning models, a class is represented as a number. We have to work outside of the model to turn that number back into a label that makes sense to a human.\n",
        " \n",
        "Typically this takes a bit of searching. In the case of the model we just used, you can find the label-to-number mapping in a [textual protocol buffer file](https://github.com/tensorflow/models/blob/master/research/object_detection/data/mscoco_complete_label_map.pbtxt) on GitHub.\n",
        " \n",
        "It is the responsibility of the model user to find the number-to-text mappings and apply those to the model output. In this case we can see that classification 3 is a car."
      ]
    },
    {
      "cell_type": "markdown",
      "metadata": {
        "id": "KVSiU72yz9SD"
      },
      "source": [
        "# Exercises"
      ]
    },
    {
      "cell_type": "markdown",
      "metadata": {
        "id": "LdIOgOHP1ces"
      },
      "source": [
        "## Exercise 1: scikit-learn Pickling"
      ]
    },
    {
      "cell_type": "markdown",
      "metadata": {
        "id": "jhTEOK1ZmqN8"
      },
      "source": [
        "In this exercise you will build an [SGDRegressor](https://scikit-learn.org/stable/modules/generated/sklearn.linear_model.SGDRegressor.html) using the [linnerud](https://scikit-learn.org/stable/modules/generated/sklearn.datasets.load_linnerud.html#sklearn.datasets.load_linnerud) dataset and train the model to predict `Pulse`.\n",
        "\n",
        "Create the regression model, and then pickle it into a file called `sgd_reg_linnerud.pkl`."
      ]
    },
    {
      "cell_type": "markdown",
      "metadata": {
        "id": "7XM35vYWSbim"
      },
      "source": [
        "### **Student Solution**"
      ]
    },
    {
      "cell_type": "code",
      "metadata": {
        "id": "ivTzfzQN5jDk",
        "colab": {
          "base_uri": "https://localhost:8080/",
          "height": 206
        },
        "outputId": "690c51da-154d-47d1-cc3a-2c82dcbf8fde"
      },
      "source": [
        "# Your code goes here\n",
        "from sklearn.datasets import load_linnerud\n",
        "from sklearn.linear_model import SGDRegressor\n",
        "import pandas as pd\n",
        "import numpy as np\n",
        "\n",
        "bunch = load_linnerud()\n",
        "\n",
        "df = pd.DataFrame(np.c_[bunch.data, bunch.target],\n",
        "                  columns=np.concatenate((bunch.feature_names, bunch.target_names)))\n",
        "\n",
        "df.head()"
      ],
      "execution_count": 41,
      "outputs": [
        {
          "output_type": "execute_result",
          "data": {
            "text/html": [
              "<div>\n",
              "<style scoped>\n",
              "    .dataframe tbody tr th:only-of-type {\n",
              "        vertical-align: middle;\n",
              "    }\n",
              "\n",
              "    .dataframe tbody tr th {\n",
              "        vertical-align: top;\n",
              "    }\n",
              "\n",
              "    .dataframe thead th {\n",
              "        text-align: right;\n",
              "    }\n",
              "</style>\n",
              "<table border=\"1\" class=\"dataframe\">\n",
              "  <thead>\n",
              "    <tr style=\"text-align: right;\">\n",
              "      <th></th>\n",
              "      <th>Chins</th>\n",
              "      <th>Situps</th>\n",
              "      <th>Jumps</th>\n",
              "      <th>Weight</th>\n",
              "      <th>Waist</th>\n",
              "      <th>Pulse</th>\n",
              "    </tr>\n",
              "  </thead>\n",
              "  <tbody>\n",
              "    <tr>\n",
              "      <th>0</th>\n",
              "      <td>5.0</td>\n",
              "      <td>162.0</td>\n",
              "      <td>60.0</td>\n",
              "      <td>191.0</td>\n",
              "      <td>36.0</td>\n",
              "      <td>50.0</td>\n",
              "    </tr>\n",
              "    <tr>\n",
              "      <th>1</th>\n",
              "      <td>2.0</td>\n",
              "      <td>110.0</td>\n",
              "      <td>60.0</td>\n",
              "      <td>189.0</td>\n",
              "      <td>37.0</td>\n",
              "      <td>52.0</td>\n",
              "    </tr>\n",
              "    <tr>\n",
              "      <th>2</th>\n",
              "      <td>12.0</td>\n",
              "      <td>101.0</td>\n",
              "      <td>101.0</td>\n",
              "      <td>193.0</td>\n",
              "      <td>38.0</td>\n",
              "      <td>58.0</td>\n",
              "    </tr>\n",
              "    <tr>\n",
              "      <th>3</th>\n",
              "      <td>12.0</td>\n",
              "      <td>105.0</td>\n",
              "      <td>37.0</td>\n",
              "      <td>162.0</td>\n",
              "      <td>35.0</td>\n",
              "      <td>62.0</td>\n",
              "    </tr>\n",
              "    <tr>\n",
              "      <th>4</th>\n",
              "      <td>13.0</td>\n",
              "      <td>155.0</td>\n",
              "      <td>58.0</td>\n",
              "      <td>189.0</td>\n",
              "      <td>35.0</td>\n",
              "      <td>46.0</td>\n",
              "    </tr>\n",
              "  </tbody>\n",
              "</table>\n",
              "</div>"
            ],
            "text/plain": [
              "   Chins  Situps  Jumps  Weight  Waist  Pulse\n",
              "0    5.0   162.0   60.0   191.0   36.0   50.0\n",
              "1    2.0   110.0   60.0   189.0   37.0   52.0\n",
              "2   12.0   101.0  101.0   193.0   38.0   58.0\n",
              "3   12.0   105.0   37.0   162.0   35.0   62.0\n",
              "4   13.0   155.0   58.0   189.0   35.0   46.0"
            ]
          },
          "metadata": {
            "tags": []
          },
          "execution_count": 41
        }
      ]
    },
    {
      "cell_type": "code",
      "metadata": {
        "colab": {
          "base_uri": "https://localhost:8080/"
        },
        "id": "hxEbNXYNnuYY",
        "outputId": "969c5adf-0ec3-4746-b4a7-25d0cd7bae2a"
      },
      "source": [
        "model = SGDRegressor()\n",
        "\n",
        "X = df[['Chins','Situps', 'Jumps', 'Weight', 'Waist']]\n",
        "y = df['Pulse']\n",
        "model.fit(X, y)"
      ],
      "execution_count": 46,
      "outputs": [
        {
          "output_type": "execute_result",
          "data": {
            "text/plain": [
              "SGDRegressor(alpha=0.0001, average=False, early_stopping=False, epsilon=0.1,\n",
              "             eta0=0.01, fit_intercept=True, l1_ratio=0.15,\n",
              "             learning_rate='invscaling', loss='squared_loss', max_iter=1000,\n",
              "             n_iter_no_change=5, penalty='l2', power_t=0.25, random_state=None,\n",
              "             shuffle=True, tol=0.001, validation_fraction=0.1, verbose=0,\n",
              "             warm_start=False)"
            ]
          },
          "metadata": {
            "tags": []
          },
          "execution_count": 46
        }
      ]
    },
    {
      "cell_type": "code",
      "metadata": {
        "colab": {
          "base_uri": "https://localhost:8080/"
        },
        "id": "QP57vn06oLOQ",
        "outputId": "fad562de-1099-4968-a09b-44066ebf40d5"
      },
      "source": [
        "import pickle\n",
        "\n",
        "fn = 'sgd_reg_linnerid.pkl'\n",
        "\n",
        "with open(fn, 'wb') as f:\n",
        "    pickle.dump(model, f, pickle.HIGHEST_PROTOCOL)\n",
        "\n",
        "!ls"
      ],
      "execution_count": 47,
      "outputs": [
        {
          "output_type": "stream",
          "text": [
            "car.jpg\t\t   sgd_reg_linnerid.pkl\n",
            "linnerud\t   ssd_mobilenet_v1_coco_2018_01_28\n",
            "my_regression.pkl  ssd_mobilenet_v1_coco_2018_01_28.tar.gz\n",
            "sample_data\n"
          ],
          "name": "stdout"
        }
      ]
    },
    {
      "cell_type": "markdown",
      "metadata": {
        "id": "_Yoq9f2iReDS"
      },
      "source": [
        "---"
      ]
    },
    {
      "cell_type": "markdown",
      "metadata": {
        "id": "8t_yR_4Ywhw9"
      },
      "source": [
        "## Exercise 2: Using a Pre-Trained TensorFlow Model"
      ]
    },
    {
      "cell_type": "markdown",
      "metadata": {
        "id": "XiHc5ZAIwpG3"
      },
      "source": [
        "In this exercise you'll load the COCO dataset used above into a graph. Then using [this photo from Pixabay](https://pixabay.com/photos/pets-cute-cat-dog-cute-wallpaper-3715733/), download the photo and draw a green box around every dog and a blue box around every cat.\n",
        "\n",
        "Save the modified image as 'pets.jpg'."
      ]
    },
    {
      "cell_type": "markdown",
      "metadata": {
        "id": "ADl6ZjZ-xGgP"
      },
      "source": [
        "### **Student Solution**"
      ]
    },
    {
      "cell_type": "code",
      "metadata": {
        "id": "QPLKb2bBxH8L",
        "colab": {
          "base_uri": "https://localhost:8080/"
        },
        "outputId": "d43cc695-782a-4d1a-e862-dfd5d6cb20af"
      },
      "source": [
        "# Your code goes here\n",
        "import urllib.request\n",
        "import os\n",
        "\n",
        "base_url = 'http://download.tensorflow.org/models/object_detection/'\n",
        "file_name = 'ssd_mobilenet_v1_coco_2018_01_28.tar.gz'\n",
        "\n",
        "url = base_url + file_name\n",
        "urllib.request.urlretrieve(url, file_name)\n",
        "os.listdir()"
      ],
      "execution_count": 2,
      "outputs": [
        {
          "output_type": "execute_result",
          "data": {
            "text/plain": [
              "['.config',\n",
              " 'pets.webp',\n",
              " 'ssd_mobilenet_v1_coco_2018_01_28.tar.gz',\n",
              " 'sample_data']"
            ]
          },
          "metadata": {
            "tags": []
          },
          "execution_count": 2
        }
      ]
    },
    {
      "cell_type": "code",
      "metadata": {
        "colab": {
          "base_uri": "https://localhost:8080/"
        },
        "id": "FjB9fB4mvcP_",
        "outputId": "287388df-4eb9-4d69-c508-ed56b7103d91"
      },
      "source": [
        "import tarfile\n",
        "import shutil\n",
        "\n",
        "dir_name = file_name[0:-len('.tar.gz')]\n",
        "\n",
        "if os.path.exists(dir_name):\n",
        "    shutil.rmtree(dir_name) \n",
        "\n",
        "tarfile.open(file_name, 'r:gz').extractall('./')\n",
        "\n",
        "os.listdir(dir_name)"
      ],
      "execution_count": 3,
      "outputs": [
        {
          "output_type": "execute_result",
          "data": {
            "text/plain": [
              "['model.ckpt.meta',\n",
              " 'model.ckpt.index',\n",
              " 'pipeline.config',\n",
              " 'model.ckpt.data-00000-of-00001',\n",
              " 'saved_model',\n",
              " 'frozen_inference_graph.pb',\n",
              " 'checkpoint']"
            ]
          },
          "metadata": {
            "tags": []
          },
          "execution_count": 3
        }
      ]
    },
    {
      "cell_type": "code",
      "metadata": {
        "id": "acpkPR7ivpxe"
      },
      "source": [
        "import tensorflow as tf\n",
        "\n",
        "frozen_graph = os.path.join(dir_name, 'frozen_inference_graph.pb')\n",
        "\n",
        "with tf.io.gfile.GFile(frozen_graph, 'rb') as f:\n",
        "    graph_def = tf.compat.v1.GraphDef()\n",
        "    loaded = graph_def.ParseFromString(f.read())"
      ],
      "execution_count": 4,
      "outputs": []
    },
    {
      "cell_type": "code",
      "metadata": {
        "colab": {
          "base_uri": "https://localhost:8080/",
          "height": 269
        },
        "id": "5sMLuYluv7Bn",
        "outputId": "cc6dab15-1419-4e6c-faf9-34f0e699d31a"
      },
      "source": [
        "import cv2 as cv\n",
        "import matplotlib.pyplot as plt\n",
        "\n",
        "image_filename = \"pets.webp\"\n",
        "\n",
        "image = cv.imread(image_filename)\n",
        "\n",
        "plt.imshow(image)\n",
        "plt.show()"
      ],
      "execution_count": 5,
      "outputs": [
        {
          "output_type": "display_data",
          "data": {
            "image/png": "[encoded data removed]",
            "text/plain": [
              "<Figure size 432x288 with 1 Axes>"
            ]
          },
          "metadata": {
            "tags": [],
            "needs_background": "light"
          }
        }
      ]
    },
    {
      "cell_type": "code",
      "metadata": {
        "id": "PghuUtU5wm52"
      },
      "source": [
        "outputs = (\n",
        "    'num_detections:0',\n",
        "    'detection_classes:0',\n",
        "    'detection_scores:0',\n",
        "    'detection_boxes:0',\n",
        ")"
      ],
      "execution_count": 6,
      "outputs": []
    },
    {
      "cell_type": "code",
      "metadata": {
        "id": "ydmjrW1mwpX5"
      },
      "source": [
        "def wrap_graph(graph_def, inputs, outputs, print_graph=False):\n",
        "    wrapped = tf.compat.v1.wrap_function(\n",
        "        lambda: tf.compat.v1.import_graph_def(graph_def, name=\"\"), [])\n",
        "\n",
        "    return wrapped.prune(\n",
        "        tf.nest.map_structure(wrapped.graph.as_graph_element, inputs),\n",
        "        tf.nest.map_structure(wrapped.graph.as_graph_element, outputs))\n",
        "    \n",
        "model = wrap_graph(graph_def=graph_def,\n",
        "                   inputs=[\"image_tensor:0\"],\n",
        "                   outputs=outputs)"
      ],
      "execution_count": 7,
      "outputs": []
    },
    {
      "cell_type": "code",
      "metadata": {
        "id": "PvTmN0raxPsG"
      },
      "source": [
        "input_images = [image]\n",
        "tensor = tf.convert_to_tensor(input_images, dtype=tf.uint8)\n",
        "detections = model(tensor)"
      ],
      "execution_count": 8,
      "outputs": []
    },
    {
      "cell_type": "code",
      "metadata": {
        "colab": {
          "base_uri": "https://localhost:8080/"
        },
        "id": "hhkHXkRexgkv",
        "outputId": "a56c11ed-dc0a-450e-f7b9-29e06979f0ba"
      },
      "source": [
        "print(\"num_detections\")\n",
        "num_detections = detections[0].numpy()[0].astype(int)\n",
        "num_detections"
      ],
      "execution_count": 56,
      "outputs": [
        {
          "output_type": "stream",
          "text": [
            "num_detections\n"
          ],
          "name": "stdout"
        },
        {
          "output_type": "execute_result",
          "data": {
            "text/plain": [
              "5"
            ]
          },
          "metadata": {
            "tags": []
          },
          "execution_count": 56
        }
      ]
    },
    {
      "cell_type": "code",
      "metadata": {
        "colab": {
          "base_uri": "https://localhost:8080/"
        },
        "id": "Dg2o0I4QEU0B",
        "outputId": "26d723f8-f110-4d42-b1de-ee31d77f9ca3"
      },
      "source": [
        "print(\"detection_class\")\n",
        "detection_class = detections[1].numpy()\n",
        "detection_class"
      ],
      "execution_count": 52,
      "outputs": [
        {
          "output_type": "stream",
          "text": [
            "detection_class\n"
          ],
          "name": "stdout"
        },
        {
          "output_type": "execute_result",
          "data": {
            "text/plain": [
              "array([[88., 18., 88., 18., 17.,  1.,  1.,  1.,  1.,  1.,  1.,  1.,  1.,\n",
              "         1.,  1.,  1.,  1.,  1.,  1.,  1.,  1.,  1.,  1.,  1.,  1.,  1.,\n",
              "         1.,  1.,  1.,  1.,  1.,  1.,  1.,  1.,  1.,  1.,  1.,  1.,  1.,\n",
              "         1.,  1.,  1.,  1.,  1.,  1.,  1.,  1.,  1.,  1.,  1.,  1.,  1.,\n",
              "         1.,  1.,  1.,  1.,  1.,  1.,  1.,  1.,  1.,  1.,  1.,  1.,  1.,\n",
              "         1.,  1.,  1.,  1.,  1.,  1.,  1.,  1.,  1.,  1.,  1.,  1.,  1.,\n",
              "         1.,  1.,  1.,  1.,  1.,  1.,  1.,  1.,  1.,  1.,  1.,  1.,  1.,\n",
              "         1.,  1.,  1.,  1.,  1.,  1.,  1.,  1.,  1.]], dtype=float32)"
            ]
          },
          "metadata": {
            "tags": []
          },
          "execution_count": 52
        }
      ]
    },
    {
      "cell_type": "code",
      "metadata": {
        "colab": {
          "base_uri": "https://localhost:8080/"
        },
        "id": "1-jrDUF0EXK6",
        "outputId": "61f4a922-da54-4a19-eb2a-9c2592ec5052"
      },
      "source": [
        "print(\"detection_scores\")\n",
        "detection_scores = detections[2].numpy()\n",
        "detection_scores"
      ],
      "execution_count": 53,
      "outputs": [
        {
          "output_type": "stream",
          "text": [
            "detection_scores\n"
          ],
          "name": "stdout"
        },
        {
          "output_type": "execute_result",
          "data": {
            "text/plain": [
              "array([[0.9620957 , 0.6929368 , 0.62474895, 0.3466335 , 0.3431703 ,\n",
              "        0.        , 0.        , 0.        , 0.        , 0.        ,\n",
              "        0.        , 0.        , 0.        , 0.        , 0.        ,\n",
              "        0.        , 0.        , 0.        , 0.        , 0.        ,\n",
              "        0.        , 0.        , 0.        , 0.        , 0.        ,\n",
              "        0.        , 0.        , 0.        , 0.        , 0.        ,\n",
              "        0.        , 0.        , 0.        , 0.        , 0.        ,\n",
              "        0.        , 0.        , 0.        , 0.        , 0.        ,\n",
              "        0.        , 0.        , 0.        , 0.        , 0.        ,\n",
              "        0.        , 0.        , 0.        , 0.        , 0.        ,\n",
              "        0.        , 0.        , 0.        , 0.        , 0.        ,\n",
              "        0.        , 0.        , 0.        , 0.        , 0.        ,\n",
              "        0.        , 0.        , 0.        , 0.        , 0.        ,\n",
              "        0.        , 0.        , 0.        , 0.        , 0.        ,\n",
              "        0.        , 0.        , 0.        , 0.        , 0.        ,\n",
              "        0.        , 0.        , 0.        , 0.        , 0.        ,\n",
              "        0.        , 0.        , 0.        , 0.        , 0.        ,\n",
              "        0.        , 0.        , 0.        , 0.        , 0.        ,\n",
              "        0.        , 0.        , 0.        , 0.        , 0.        ,\n",
              "        0.        , 0.        , 0.        , 0.        , 0.        ]],\n",
              "      dtype=float32)"
            ]
          },
          "metadata": {
            "tags": []
          },
          "execution_count": 53
        }
      ]
    },
    {
      "cell_type": "code",
      "metadata": {
        "colab": {
          "base_uri": "https://localhost:8080/"
        },
        "id": "Dx39_zfZEYmX",
        "outputId": "7a952ffe-ed1c-497f-ae0a-005a5fa82ff1"
      },
      "source": [
        "print(\"detection_boxes\")\n",
        "detection_boxes = detections[3].numpy()\n",
        "detection_boxes"
      ],
      "execution_count": 54,
      "outputs": [
        {
          "output_type": "stream",
          "text": [
            "detection_boxes\n"
          ],
          "name": "stdout"
        },
        {
          "output_type": "execute_result",
          "data": {
            "text/plain": [
              "array([[[0.38347787, 0.21915954, 0.9492107 , 0.45974654],\n",
              "        [0.28628558, 0.4372725 , 0.91786796, 0.6818728 ],\n",
              "        [0.4382396 , 0.14524746, 0.9322988 , 0.37763327],\n",
              "        [0.6481937 , 0.6549772 , 0.9314017 , 0.9019699 ],\n",
              "        [0.6481937 , 0.6549772 , 0.9314017 , 0.9019699 ],\n",
              "        [0.        , 0.        , 0.        , 0.        ],\n",
              "        [0.        , 0.        , 0.        , 0.        ],\n",
              "        [0.        , 0.        , 0.        , 0.        ],\n",
              "        [0.        , 0.        , 0.        , 0.        ],\n",
              "        [0.        , 0.        , 0.        , 0.        ],\n",
              "        [0.        , 0.        , 0.        , 0.        ],\n",
              "        [0.        , 0.        , 0.        , 0.        ],\n",
              "        [0.        , 0.        , 0.        , 0.        ],\n",
              "        [0.        , 0.        , 0.        , 0.        ],\n",
              "        [0.        , 0.        , 0.        , 0.        ],\n",
              "        [0.        , 0.        , 0.        , 0.        ],\n",
              "        [0.        , 0.        , 0.        , 0.        ],\n",
              "        [0.        , 0.        , 0.        , 0.        ],\n",
              "        [0.        , 0.        , 0.        , 0.        ],\n",
              "        [0.        , 0.        , 0.        , 0.        ],\n",
              "        [0.        , 0.        , 0.        , 0.        ],\n",
              "        [0.        , 0.        , 0.        , 0.        ],\n",
              "        [0.        , 0.        , 0.        , 0.        ],\n",
              "        [0.        , 0.        , 0.        , 0.        ],\n",
              "        [0.        , 0.        , 0.        , 0.        ],\n",
              "        [0.        , 0.        , 0.        , 0.        ],\n",
              "        [0.        , 0.        , 0.        , 0.        ],\n",
              "        [0.        , 0.        , 0.        , 0.        ],\n",
              "        [0.        , 0.        , 0.        , 0.        ],\n",
              "        [0.        , 0.        , 0.        , 0.        ],\n",
              "        [0.        , 0.        , 0.        , 0.        ],\n",
              "        [0.        , 0.        , 0.        , 0.        ],\n",
              "        [0.        , 0.        , 0.        , 0.        ],\n",
              "        [0.        , 0.        , 0.        , 0.        ],\n",
              "        [0.        , 0.        , 0.        , 0.        ],\n",
              "        [0.        , 0.        , 0.        , 0.        ],\n",
              "        [0.        , 0.        , 0.        , 0.        ],\n",
              "        [0.        , 0.        , 0.        , 0.        ],\n",
              "        [0.        , 0.        , 0.        , 0.        ],\n",
              "        [0.        , 0.        , 0.        , 0.        ],\n",
              "        [0.        , 0.        , 0.        , 0.        ],\n",
              "        [0.        , 0.        , 0.        , 0.        ],\n",
              "        [0.        , 0.        , 0.        , 0.        ],\n",
              "        [0.        , 0.        , 0.        , 0.        ],\n",
              "        [0.        , 0.        , 0.        , 0.        ],\n",
              "        [0.        , 0.        , 0.        , 0.        ],\n",
              "        [0.        , 0.        , 0.        , 0.        ],\n",
              "        [0.        , 0.        , 0.        , 0.        ],\n",
              "        [0.        , 0.        , 0.        , 0.        ],\n",
              "        [0.        , 0.        , 0.        , 0.        ],\n",
              "        [0.        , 0.        , 0.        , 0.        ],\n",
              "        [0.        , 0.        , 0.        , 0.        ],\n",
              "        [0.        , 0.        , 0.        , 0.        ],\n",
              "        [0.        , 0.        , 0.        , 0.        ],\n",
              "        [0.        , 0.        , 0.        , 0.        ],\n",
              "        [0.        , 0.        , 0.        , 0.        ],\n",
              "        [0.        , 0.        , 0.        , 0.        ],\n",
              "        [0.        , 0.        , 0.        , 0.        ],\n",
              "        [0.        , 0.        , 0.        , 0.        ],\n",
              "        [0.        , 0.        , 0.        , 0.        ],\n",
              "        [0.        , 0.        , 0.        , 0.        ],\n",
              "        [0.        , 0.        , 0.        , 0.        ],\n",
              "        [0.        , 0.        , 0.        , 0.        ],\n",
              "        [0.        , 0.        , 0.        , 0.        ],\n",
              "        [0.        , 0.        , 0.        , 0.        ],\n",
              "        [0.        , 0.        , 0.        , 0.        ],\n",
              "        [0.        , 0.        , 0.        , 0.        ],\n",
              "        [0.        , 0.        , 0.        , 0.        ],\n",
              "        [0.        , 0.        , 0.        , 0.        ],\n",
              "        [0.        , 0.        , 0.        , 0.        ],\n",
              "        [0.        , 0.        , 0.        , 0.        ],\n",
              "        [0.        , 0.        , 0.        , 0.        ],\n",
              "        [0.        , 0.        , 0.        , 0.        ],\n",
              "        [0.        , 0.        , 0.        , 0.        ],\n",
              "        [0.        , 0.        , 0.        , 0.        ],\n",
              "        [0.        , 0.        , 0.        , 0.        ],\n",
              "        [0.        , 0.        , 0.        , 0.        ],\n",
              "        [0.        , 0.        , 0.        , 0.        ],\n",
              "        [0.        , 0.        , 0.        , 0.        ],\n",
              "        [0.        , 0.        , 0.        , 0.        ],\n",
              "        [0.        , 0.        , 0.        , 0.        ],\n",
              "        [0.        , 0.        , 0.        , 0.        ],\n",
              "        [0.        , 0.        , 0.        , 0.        ],\n",
              "        [0.        , 0.        , 0.        , 0.        ],\n",
              "        [0.        , 0.        , 0.        , 0.        ],\n",
              "        [0.        , 0.        , 0.        , 0.        ],\n",
              "        [0.        , 0.        , 0.        , 0.        ],\n",
              "        [0.        , 0.        , 0.        , 0.        ],\n",
              "        [0.        , 0.        , 0.        , 0.        ],\n",
              "        [0.        , 0.        , 0.        , 0.        ],\n",
              "        [0.        , 0.        , 0.        , 0.        ],\n",
              "        [0.        , 0.        , 0.        , 0.        ],\n",
              "        [0.        , 0.        , 0.        , 0.        ],\n",
              "        [0.        , 0.        , 0.        , 0.        ],\n",
              "        [0.        , 0.        , 0.        , 0.        ],\n",
              "        [0.        , 0.        , 0.        , 0.        ],\n",
              "        [0.        , 0.        , 0.        , 0.        ],\n",
              "        [0.        , 0.        , 0.        , 0.        ],\n",
              "        [0.        , 0.        , 0.        , 0.        ],\n",
              "        [0.        , 0.        , 0.        , 0.        ]]], dtype=float32)"
            ]
          },
          "metadata": {
            "tags": []
          },
          "execution_count": 54
        }
      ]
    },
    {
      "cell_type": "markdown",
      "metadata": {
        "id": "1RzKmFKJR1cg"
      },
      "source": [
        "---"
      ]
    }
  ]
}