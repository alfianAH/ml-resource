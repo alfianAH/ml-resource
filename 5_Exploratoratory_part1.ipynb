{
  "nbformat": 4,
  "nbformat_minor": 0,
  "metadata": {
    "colab": {
      "name": "#5-Exploratoratory part1.ipynb",
      "provenance": [],
      "collapsed_sections": [
        "copyright",
        "xi_YNmlW-Cm0",
        "VJtC2KkqLXHL",
        "PEb_Kz9MSAeQ",
        "j8pEWWVjTLNJ",
        "zU1-9OnmvsLd",
        "uRWrqLn_c3lF"
      ],
      "toc_visible": true,
      "include_colab_link": true
    },
    "kernelspec": {
      "display_name": "Python 3",
      "name": "python3"
    }
  },
  "cells": [
    {
      "cell_type": "markdown",
      "metadata": {
        "id": "view-in-github",
        "colab_type": "text"
      },
      "source": [
        "<a href=\"https://colab.research.google.com/github/alfianAH/ml-resource/blob/main/5_Exploratoratory_part1.ipynb\" target=\"_parent\"><img src=\"https://colab.research.google.com/assets/colab-badge.svg\" alt=\"Open In Colab\"/></a>"
      ]
    },
    {
      "cell_type": "markdown",
      "metadata": {
        "id": "copyright"
      },
      "source": [
        "#### Copyright 2020 Google LLC."
      ]
    },
    {
      "cell_type": "code",
      "metadata": {
        "id": "jHUQ8PUGZh8y"
      },
      "source": [
        "# Licensed under the Apache License, Version 2.0 (the \"License\");\n",
        "# you may not use this file except in compliance with the License.\n",
        "# You may obtain a copy of the License at\n",
        "#\n",
        "# https://www.apache.org/licenses/LICENSE-2.0\n",
        "#\n",
        "# Unless required by applicable law or agreed to in writing, software\n",
        "# distributed under the License is distributed on an \"AS IS\" BASIS,\n",
        "# WITHOUT WARRANTIES OR CONDITIONS OF ANY KIND, either express or implied.\n",
        "# See the License for the specific language governing permissions and\n",
        "# limitations under the License."
      ],
      "execution_count": null,
      "outputs": []
    },
    {
      "cell_type": "markdown",
      "metadata": {
        "id": "HQswfu6M_ZBR"
      },
      "source": [
        "# Exploratory Data Analysis"
      ]
    },
    {
      "cell_type": "markdown",
      "metadata": {
        "id": "invE35z3n2Yn"
      },
      "source": [
        "[Exploratory Data Analysis](https://en.wikipedia.org/wiki/Exploratory_data_analysis), often shortened to EDA, is a term that you'll hear quite a bit in the field of data science. EDA is the process of examining a dataset to find facts about the data and communicating those facts, often through visualizations.\n",
        "\n",
        "In order to explore the data and visualize it, some modifications might need to be made to the data along the way. This is often referred to as *data preprocessing*. Though data preprocessing is technically different from EDA, EDA often exposes problems with the data that need to be fixed in order to continue exploring. Because of this tight coupling, we'll clean the data as necessary to help understand the data.\n",
        "\n",
        "In this lab we will apply our Pandas knowledge to explore a dataset about chocolate. Part 1 of the lab will explore each column in our dataset individually. Part 2 will take the results of our preprocessed data and search for patterns across columns and rows."
      ]
    },
    {
      "cell_type": "markdown",
      "metadata": {
        "id": "bIxZkNQzBiyc"
      },
      "source": [
        "## Introduction\n",
        "\n"
      ]
    },
    {
      "cell_type": "markdown",
      "metadata": {
        "id": "U4nDJfscDH9o"
      },
      "source": [
        "### The Dataset: Chocolate Bar Ratings\n",
        "\n",
        "In this lab we will use a [chocolate bar ratings dataset](https://www.kaggle.com/rtatman/chocolate-bar-ratings). The dataset is from the [Flavors of Cacao](http://flavorsofcacao.com/flavor.html) data.\n",
        "\n",
        "On the [Kaggle page for the dataset](https://www.kaggle.com/rtatman/chocolate-bar-ratings), we can find some basic information about the dataset. For instance, there are over 1,700 chocolate bars that have been rated. We can also preview the columns found in the dataset:\n",
        "\n",
        "Column | Data Type | Description\n",
        "-------|-----------|-------------\n",
        "Company (Maker-if known) | String | Name of the company manufacturing the bar.\n",
        "Specific Bean Origin or Bar Name | String | The specific geo-region of origin for the bar.\n",
        "REF | Number | A value linked to when the review was entered in the database. Higher = more recent.\n",
        "Review Date | Number | Date of publication of the review.\n",
        "Cocoa Percent | String | Cocoa percentage (darkness) of the chocolate bar being reviewed.\n",
        "Company Location | String | Manufacturer base country.\n",
        "Rating | Number | Expert rating for the bar.\n",
        "BeanType | String | The variety (breed) of bean used, if provided.\n",
        "Broad Bean Origin | String | The broad geo-region of origin for the bean.\n",
        "\n",
        "This is an interesting dataset. Think of the questions that you might be able to answer! A few could be:\n",
        "\n",
        "*   Is there a relationship between numeric rating and properties such as percentage of cocoa, bean type, origin, and maker?\n",
        "*   Are some of the properties of cacao beans correlated?\n",
        "*   Where are the top chocolate bars from?\n",
        "*   Are there multiple entries for the same bar from the same maker, but with different ratings over the years? If so, has there been any change in the chocolate bar that could account for the differences?\n",
        "*   Do makers who produce a wide variety of bars have a higher chance of creating a top-rated chocolate bar?\n",
        "\n",
        "I'm sure you can think of even more. So, what are we waiting for? Let's load the data!"
      ]
    },
    {
      "cell_type": "markdown",
      "metadata": {
        "id": "GP-kRR_72562"
      },
      "source": [
        "## Acquiring the Data\n",
        "\n",
        "The data is hosted on Kaggle, so we can use our Kaggle credentials to download the data into the lab. The dataset is located at [https://www.kaggle.com/rtatman/chocolate-bar-ratings](https://www.kaggle.com/rtatman/chocolate-bar-ratings). We can use the `kaggle` command line utility to do this.\n",
        "\n",
        "First off, upload your `kaggle.json` file into the lab now.\n",
        "\n",
        "Next, run the following command to get the credential files set to the right permissions and located in the correct spot."
      ]
    },
    {
      "cell_type": "code",
      "metadata": {
        "id": "-UuViqN232cr",
        "colab": {
          "base_uri": "https://localhost:8080/"
        },
        "outputId": "f383a2b2-2f6a-4cff-c048-e85caa2c8e75"
      },
      "source": [
        "! chmod 600 kaggle.json && (ls ~/.kaggle 2>/dev/null || mkdir ~/.kaggle) && mv kaggle.json ~/.kaggle/ && echo 'Done'"
      ],
      "execution_count": null,
      "outputs": [
        {
          "output_type": "stream",
          "text": [
            "chmod: cannot access 'kaggle.json': No such file or directory\n"
          ],
          "name": "stdout"
        }
      ]
    },
    {
      "cell_type": "markdown",
      "metadata": {
        "id": "gCMEX2915D1Y"
      },
      "source": [
        "Now we can run the `kaggle` command to actually download the data."
      ]
    },
    {
      "cell_type": "code",
      "metadata": {
        "id": "Mo1mS1Jp4c5W",
        "colab": {
          "base_uri": "https://localhost:8080/"
        },
        "outputId": "92550655-de1c-4893-d275-033aeb2a315b"
      },
      "source": [
        "! kaggle datasets download rtatman/chocolate-bar-ratings\n",
        "! ls"
      ],
      "execution_count": null,
      "outputs": [
        {
          "output_type": "stream",
          "text": [
            "chocolate-bar-ratings.zip: Skipping, found more recently modified local copy (use --force to force download)\n",
            "chocolate-bar-ratings.zip  sample_data\n"
          ],
          "name": "stdout"
        }
      ]
    },
    {
      "cell_type": "markdown",
      "metadata": {
        "id": "PytnXVWU7Lom"
      },
      "source": [
        "We now have our data downloaded to our virtual machine and stored in the file `chocolate-bar-ratings.zip`."
      ]
    },
    {
      "cell_type": "markdown",
      "metadata": {
        "id": "A8pOhe8_7YOt"
      },
      "source": [
        "## Creating a `DataFrame`\n",
        "\n",
        "We now need to load the data into memory. We can do this easily using Pandas' `read_csv()` function."
      ]
    },
    {
      "cell_type": "code",
      "metadata": {
        "id": "dEDlbe_L7LEl",
        "colab": {
          "base_uri": "https://localhost:8080/",
          "height": 513
        },
        "outputId": "a43e8839-6036-42ec-a015-f8aacc15563f"
      },
      "source": [
        "import pandas as pd\n",
        "\n",
        "df = pd.read_csv('chocolate-bar-ratings.zip')\n",
        "df"
      ],
      "execution_count": null,
      "outputs": [
        {
          "output_type": "execute_result",
          "data": {
            "text/html": [
              "<div>\n",
              "<style scoped>\n",
              "    .dataframe tbody tr th:only-of-type {\n",
              "        vertical-align: middle;\n",
              "    }\n",
              "\n",
              "    .dataframe tbody tr th {\n",
              "        vertical-align: top;\n",
              "    }\n",
              "\n",
              "    .dataframe thead th {\n",
              "        text-align: right;\n",
              "    }\n",
              "</style>\n",
              "<table border=\"1\" class=\"dataframe\">\n",
              "  <thead>\n",
              "    <tr style=\"text-align: right;\">\n",
              "      <th></th>\n",
              "      <th>Company \\n(Maker-if known)</th>\n",
              "      <th>Specific Bean Origin\\nor Bar Name</th>\n",
              "      <th>REF</th>\n",
              "      <th>Review\\nDate</th>\n",
              "      <th>Cocoa\\nPercent</th>\n",
              "      <th>Company\\nLocation</th>\n",
              "      <th>Rating</th>\n",
              "      <th>Bean\\nType</th>\n",
              "      <th>Broad Bean\\nOrigin</th>\n",
              "    </tr>\n",
              "  </thead>\n",
              "  <tbody>\n",
              "    <tr>\n",
              "      <th>0</th>\n",
              "      <td>A. Morin</td>\n",
              "      <td>Agua Grande</td>\n",
              "      <td>1876</td>\n",
              "      <td>2016</td>\n",
              "      <td>63%</td>\n",
              "      <td>France</td>\n",
              "      <td>3.75</td>\n",
              "      <td></td>\n",
              "      <td>Sao Tome</td>\n",
              "    </tr>\n",
              "    <tr>\n",
              "      <th>1</th>\n",
              "      <td>A. Morin</td>\n",
              "      <td>Kpime</td>\n",
              "      <td>1676</td>\n",
              "      <td>2015</td>\n",
              "      <td>70%</td>\n",
              "      <td>France</td>\n",
              "      <td>2.75</td>\n",
              "      <td></td>\n",
              "      <td>Togo</td>\n",
              "    </tr>\n",
              "    <tr>\n",
              "      <th>2</th>\n",
              "      <td>A. Morin</td>\n",
              "      <td>Atsane</td>\n",
              "      <td>1676</td>\n",
              "      <td>2015</td>\n",
              "      <td>70%</td>\n",
              "      <td>France</td>\n",
              "      <td>3.00</td>\n",
              "      <td></td>\n",
              "      <td>Togo</td>\n",
              "    </tr>\n",
              "    <tr>\n",
              "      <th>3</th>\n",
              "      <td>A. Morin</td>\n",
              "      <td>Akata</td>\n",
              "      <td>1680</td>\n",
              "      <td>2015</td>\n",
              "      <td>70%</td>\n",
              "      <td>France</td>\n",
              "      <td>3.50</td>\n",
              "      <td></td>\n",
              "      <td>Togo</td>\n",
              "    </tr>\n",
              "    <tr>\n",
              "      <th>4</th>\n",
              "      <td>A. Morin</td>\n",
              "      <td>Quilla</td>\n",
              "      <td>1704</td>\n",
              "      <td>2015</td>\n",
              "      <td>70%</td>\n",
              "      <td>France</td>\n",
              "      <td>3.50</td>\n",
              "      <td></td>\n",
              "      <td>Peru</td>\n",
              "    </tr>\n",
              "    <tr>\n",
              "      <th>...</th>\n",
              "      <td>...</td>\n",
              "      <td>...</td>\n",
              "      <td>...</td>\n",
              "      <td>...</td>\n",
              "      <td>...</td>\n",
              "      <td>...</td>\n",
              "      <td>...</td>\n",
              "      <td>...</td>\n",
              "      <td>...</td>\n",
              "    </tr>\n",
              "    <tr>\n",
              "      <th>1790</th>\n",
              "      <td>Zotter</td>\n",
              "      <td>Peru</td>\n",
              "      <td>647</td>\n",
              "      <td>2011</td>\n",
              "      <td>70%</td>\n",
              "      <td>Austria</td>\n",
              "      <td>3.75</td>\n",
              "      <td></td>\n",
              "      <td>Peru</td>\n",
              "    </tr>\n",
              "    <tr>\n",
              "      <th>1791</th>\n",
              "      <td>Zotter</td>\n",
              "      <td>Congo</td>\n",
              "      <td>749</td>\n",
              "      <td>2011</td>\n",
              "      <td>65%</td>\n",
              "      <td>Austria</td>\n",
              "      <td>3.00</td>\n",
              "      <td>Forastero</td>\n",
              "      <td>Congo</td>\n",
              "    </tr>\n",
              "    <tr>\n",
              "      <th>1792</th>\n",
              "      <td>Zotter</td>\n",
              "      <td>Kerala State</td>\n",
              "      <td>749</td>\n",
              "      <td>2011</td>\n",
              "      <td>65%</td>\n",
              "      <td>Austria</td>\n",
              "      <td>3.50</td>\n",
              "      <td>Forastero</td>\n",
              "      <td>India</td>\n",
              "    </tr>\n",
              "    <tr>\n",
              "      <th>1793</th>\n",
              "      <td>Zotter</td>\n",
              "      <td>Kerala State</td>\n",
              "      <td>781</td>\n",
              "      <td>2011</td>\n",
              "      <td>62%</td>\n",
              "      <td>Austria</td>\n",
              "      <td>3.25</td>\n",
              "      <td></td>\n",
              "      <td>India</td>\n",
              "    </tr>\n",
              "    <tr>\n",
              "      <th>1794</th>\n",
              "      <td>Zotter</td>\n",
              "      <td>Brazil, Mitzi Blue</td>\n",
              "      <td>486</td>\n",
              "      <td>2010</td>\n",
              "      <td>65%</td>\n",
              "      <td>Austria</td>\n",
              "      <td>3.00</td>\n",
              "      <td></td>\n",
              "      <td>Brazil</td>\n",
              "    </tr>\n",
              "  </tbody>\n",
              "</table>\n",
              "<p>1795 rows × 9 columns</p>\n",
              "</div>"
            ],
            "text/plain": [
              "     Company \\n(Maker-if known)  ... Broad Bean\\nOrigin\n",
              "0                      A. Morin  ...           Sao Tome\n",
              "1                      A. Morin  ...               Togo\n",
              "2                      A. Morin  ...               Togo\n",
              "3                      A. Morin  ...               Togo\n",
              "4                      A. Morin  ...               Peru\n",
              "...                         ...  ...                ...\n",
              "1790                     Zotter  ...               Peru\n",
              "1791                     Zotter  ...              Congo\n",
              "1792                     Zotter  ...              India\n",
              "1793                     Zotter  ...              India\n",
              "1794                     Zotter  ...             Brazil\n",
              "\n",
              "[1795 rows x 9 columns]"
            ]
          },
          "metadata": {
            "tags": []
          },
          "execution_count": 70
        }
      ]
    },
    {
      "cell_type": "markdown",
      "metadata": {
        "id": "BNK6_wRAUK8g"
      },
      "source": [
        "Let's also make sure that our data types match what was documented:"
      ]
    },
    {
      "cell_type": "code",
      "metadata": {
        "id": "igRLU1b4UOaK",
        "colab": {
          "base_uri": "https://localhost:8080/"
        },
        "outputId": "c500b20f-3c1d-447c-e76a-c6df55707756"
      },
      "source": [
        "df.dtypes"
      ],
      "execution_count": null,
      "outputs": [
        {
          "output_type": "execute_result",
          "data": {
            "text/plain": [
              "Company \\n(Maker-if known)            object\n",
              "Specific Bean Origin\\nor Bar Name     object\n",
              "REF                                    int64\n",
              "Review\\nDate                           int64\n",
              "Cocoa\\nPercent                        object\n",
              "Company\\nLocation                     object\n",
              "Rating                               float64\n",
              "Bean\\nType                            object\n",
              "Broad Bean\\nOrigin                    object\n",
              "dtype: object"
            ]
          },
          "metadata": {
            "tags": []
          },
          "execution_count": 71
        }
      ]
    },
    {
      "cell_type": "markdown",
      "metadata": {
        "id": "RwASf5wWUQvK"
      },
      "source": [
        "In this output, `object` types are strings while `int64` types are whole numbers and `float64` types are fractional numbers. This seems to match the documentation that we saw for the dataset."
      ]
    },
    {
      "cell_type": "markdown",
      "metadata": {
        "id": "oHYaN8iV7v8_"
      },
      "source": [
        "From just a glance at the `DataFrame`, we can see a few facts about our data:\n",
        "\n",
        "* There are 1,795 rows and 9 columns.\n",
        "* The columns are the columns we expected based on the documentation, though some have `\\n` (new line) embedded in them. We'll need to clean that up.\n",
        "* The data seems to be sorted by the 'Company' column.\n",
        "* There is definitely some missing data, as we can see in the 'Bean Type' column.\n",
        "\n",
        "We will look more closely at each column throughout this lab."
      ]
    },
    {
      "cell_type": "markdown",
      "metadata": {
        "id": "2rQzustf9B4b"
      },
      "source": [
        "## Cleaning Up Column Names\n",
        "\n",
        "One of the more frustrating aspects of this dataset is the poor format of the column names. Typing 'Specific Bean Origin\\nor Bar Name' in order to access the column is painful.\n",
        "\n",
        "So our first order of business will be to update the column names."
      ]
    },
    {
      "cell_type": "code",
      "metadata": {
        "id": "iBb6frD19ZEp",
        "colab": {
          "base_uri": "https://localhost:8080/",
          "height": 441
        },
        "outputId": "366dff3c-679f-4f27-aa58-7815a00dc09c"
      },
      "source": [
        "df.columns = [\n",
        "  'Company',\n",
        "  'Specific Bean Origin',\n",
        "  'REF',\n",
        "  'Review Date',\n",
        "  'Cocoa Percent',\n",
        "  'Company Location',\n",
        "  'Rating',\n",
        "  'Bean Type',\n",
        "  'Broad Bean Origin'\n",
        "]\n",
        "\n",
        "df"
      ],
      "execution_count": null,
      "outputs": [
        {
          "output_type": "execute_result",
          "data": {
            "text/html": [
              "<div>\n",
              "<style scoped>\n",
              "    .dataframe tbody tr th:only-of-type {\n",
              "        vertical-align: middle;\n",
              "    }\n",
              "\n",
              "    .dataframe tbody tr th {\n",
              "        vertical-align: top;\n",
              "    }\n",
              "\n",
              "    .dataframe thead th {\n",
              "        text-align: right;\n",
              "    }\n",
              "</style>\n",
              "<table border=\"1\" class=\"dataframe\">\n",
              "  <thead>\n",
              "    <tr style=\"text-align: right;\">\n",
              "      <th></th>\n",
              "      <th>Company</th>\n",
              "      <th>Specific Bean Origin</th>\n",
              "      <th>REF</th>\n",
              "      <th>Review Date</th>\n",
              "      <th>Cocoa Percent</th>\n",
              "      <th>Company Location</th>\n",
              "      <th>Rating</th>\n",
              "      <th>Bean Type</th>\n",
              "      <th>Broad Bean Origin</th>\n",
              "    </tr>\n",
              "  </thead>\n",
              "  <tbody>\n",
              "    <tr>\n",
              "      <th>0</th>\n",
              "      <td>A. Morin</td>\n",
              "      <td>Agua Grande</td>\n",
              "      <td>1876</td>\n",
              "      <td>2016</td>\n",
              "      <td>63%</td>\n",
              "      <td>France</td>\n",
              "      <td>3.75</td>\n",
              "      <td></td>\n",
              "      <td>Sao Tome</td>\n",
              "    </tr>\n",
              "    <tr>\n",
              "      <th>1</th>\n",
              "      <td>A. Morin</td>\n",
              "      <td>Kpime</td>\n",
              "      <td>1676</td>\n",
              "      <td>2015</td>\n",
              "      <td>70%</td>\n",
              "      <td>France</td>\n",
              "      <td>2.75</td>\n",
              "      <td></td>\n",
              "      <td>Togo</td>\n",
              "    </tr>\n",
              "    <tr>\n",
              "      <th>2</th>\n",
              "      <td>A. Morin</td>\n",
              "      <td>Atsane</td>\n",
              "      <td>1676</td>\n",
              "      <td>2015</td>\n",
              "      <td>70%</td>\n",
              "      <td>France</td>\n",
              "      <td>3.00</td>\n",
              "      <td></td>\n",
              "      <td>Togo</td>\n",
              "    </tr>\n",
              "    <tr>\n",
              "      <th>3</th>\n",
              "      <td>A. Morin</td>\n",
              "      <td>Akata</td>\n",
              "      <td>1680</td>\n",
              "      <td>2015</td>\n",
              "      <td>70%</td>\n",
              "      <td>France</td>\n",
              "      <td>3.50</td>\n",
              "      <td></td>\n",
              "      <td>Togo</td>\n",
              "    </tr>\n",
              "    <tr>\n",
              "      <th>4</th>\n",
              "      <td>A. Morin</td>\n",
              "      <td>Quilla</td>\n",
              "      <td>1704</td>\n",
              "      <td>2015</td>\n",
              "      <td>70%</td>\n",
              "      <td>France</td>\n",
              "      <td>3.50</td>\n",
              "      <td></td>\n",
              "      <td>Peru</td>\n",
              "    </tr>\n",
              "    <tr>\n",
              "      <th>...</th>\n",
              "      <td>...</td>\n",
              "      <td>...</td>\n",
              "      <td>...</td>\n",
              "      <td>...</td>\n",
              "      <td>...</td>\n",
              "      <td>...</td>\n",
              "      <td>...</td>\n",
              "      <td>...</td>\n",
              "      <td>...</td>\n",
              "    </tr>\n",
              "    <tr>\n",
              "      <th>1790</th>\n",
              "      <td>Zotter</td>\n",
              "      <td>Peru</td>\n",
              "      <td>647</td>\n",
              "      <td>2011</td>\n",
              "      <td>70%</td>\n",
              "      <td>Austria</td>\n",
              "      <td>3.75</td>\n",
              "      <td></td>\n",
              "      <td>Peru</td>\n",
              "    </tr>\n",
              "    <tr>\n",
              "      <th>1791</th>\n",
              "      <td>Zotter</td>\n",
              "      <td>Congo</td>\n",
              "      <td>749</td>\n",
              "      <td>2011</td>\n",
              "      <td>65%</td>\n",
              "      <td>Austria</td>\n",
              "      <td>3.00</td>\n",
              "      <td>Forastero</td>\n",
              "      <td>Congo</td>\n",
              "    </tr>\n",
              "    <tr>\n",
              "      <th>1792</th>\n",
              "      <td>Zotter</td>\n",
              "      <td>Kerala State</td>\n",
              "      <td>749</td>\n",
              "      <td>2011</td>\n",
              "      <td>65%</td>\n",
              "      <td>Austria</td>\n",
              "      <td>3.50</td>\n",
              "      <td>Forastero</td>\n",
              "      <td>India</td>\n",
              "    </tr>\n",
              "    <tr>\n",
              "      <th>1793</th>\n",
              "      <td>Zotter</td>\n",
              "      <td>Kerala State</td>\n",
              "      <td>781</td>\n",
              "      <td>2011</td>\n",
              "      <td>62%</td>\n",
              "      <td>Austria</td>\n",
              "      <td>3.25</td>\n",
              "      <td></td>\n",
              "      <td>India</td>\n",
              "    </tr>\n",
              "    <tr>\n",
              "      <th>1794</th>\n",
              "      <td>Zotter</td>\n",
              "      <td>Brazil, Mitzi Blue</td>\n",
              "      <td>486</td>\n",
              "      <td>2010</td>\n",
              "      <td>65%</td>\n",
              "      <td>Austria</td>\n",
              "      <td>3.00</td>\n",
              "      <td></td>\n",
              "      <td>Brazil</td>\n",
              "    </tr>\n",
              "  </tbody>\n",
              "</table>\n",
              "<p>1795 rows × 9 columns</p>\n",
              "</div>"
            ],
            "text/plain": [
              "       Company Specific Bean Origin   REF  ...  Rating  Bean Type Broad Bean Origin\n",
              "0     A. Morin          Agua Grande  1876  ...    3.75                     Sao Tome\n",
              "1     A. Morin                Kpime  1676  ...    2.75                         Togo\n",
              "2     A. Morin               Atsane  1676  ...    3.00                         Togo\n",
              "3     A. Morin                Akata  1680  ...    3.50                         Togo\n",
              "4     A. Morin               Quilla  1704  ...    3.50                         Peru\n",
              "...        ...                  ...   ...  ...     ...        ...               ...\n",
              "1790    Zotter                 Peru   647  ...    3.75                         Peru\n",
              "1791    Zotter                Congo   749  ...    3.00  Forastero             Congo\n",
              "1792    Zotter         Kerala State   749  ...    3.50  Forastero             India\n",
              "1793    Zotter         Kerala State   781  ...    3.25                        India\n",
              "1794    Zotter   Brazil, Mitzi Blue   486  ...    3.00                       Brazil\n",
              "\n",
              "[1795 rows x 9 columns]"
            ]
          },
          "metadata": {
            "tags": []
          },
          "execution_count": 72
        }
      ]
    },
    {
      "cell_type": "markdown",
      "metadata": {
        "id": "Pac1xBZk_TtO"
      },
      "source": [
        "That's much better, but the columns are also in an odd order. Information about the company is spread across the columns, and so is the information about the cacao bean. Let's order the columns a little more meaningfully.\n",
        "\n",
        "This order makes a little more sense:\n",
        "\n",
        "**Company Information:**\n",
        "* Company\n",
        "* Company Location\n",
        "\n",
        "**Chocolate Bar Information**\n",
        "* Bean Type\n",
        "* Specific Bean Origin\n",
        "* Broad Bean Origin\n",
        "* Cocoa Percent\n",
        "\n",
        "**Review Information**\n",
        "* REF\n",
        "* Review Date\n",
        "* Rating\n",
        "\n",
        "We can reorder the columns by specifically selecting the columns in order and reassigning them to the `df` variable:"
      ]
    },
    {
      "cell_type": "code",
      "metadata": {
        "id": "8OzxV-x66YKS",
        "colab": {
          "base_uri": "https://localhost:8080/",
          "height": 441
        },
        "outputId": "5c104775-77c0-40eb-e2ae-267d8c392216"
      },
      "source": [
        "df = df[[\n",
        "  'Company',\n",
        "  'Company Location',\n",
        "  'Bean Type',\n",
        "  'Specific Bean Origin',\n",
        "  'Broad Bean Origin',\n",
        "  'Cocoa Percent',\n",
        "  'REF',\n",
        "  'Review Date',\n",
        "  'Rating',\n",
        "]]\n",
        "\n",
        "df"
      ],
      "execution_count": null,
      "outputs": [
        {
          "output_type": "execute_result",
          "data": {
            "text/html": [
              "<div>\n",
              "<style scoped>\n",
              "    .dataframe tbody tr th:only-of-type {\n",
              "        vertical-align: middle;\n",
              "    }\n",
              "\n",
              "    .dataframe tbody tr th {\n",
              "        vertical-align: top;\n",
              "    }\n",
              "\n",
              "    .dataframe thead th {\n",
              "        text-align: right;\n",
              "    }\n",
              "</style>\n",
              "<table border=\"1\" class=\"dataframe\">\n",
              "  <thead>\n",
              "    <tr style=\"text-align: right;\">\n",
              "      <th></th>\n",
              "      <th>Company</th>\n",
              "      <th>Company Location</th>\n",
              "      <th>Bean Type</th>\n",
              "      <th>Specific Bean Origin</th>\n",
              "      <th>Broad Bean Origin</th>\n",
              "      <th>Cocoa Percent</th>\n",
              "      <th>REF</th>\n",
              "      <th>Review Date</th>\n",
              "      <th>Rating</th>\n",
              "    </tr>\n",
              "  </thead>\n",
              "  <tbody>\n",
              "    <tr>\n",
              "      <th>0</th>\n",
              "      <td>A. Morin</td>\n",
              "      <td>France</td>\n",
              "      <td></td>\n",
              "      <td>Agua Grande</td>\n",
              "      <td>Sao Tome</td>\n",
              "      <td>63%</td>\n",
              "      <td>1876</td>\n",
              "      <td>2016</td>\n",
              "      <td>3.75</td>\n",
              "    </tr>\n",
              "    <tr>\n",
              "      <th>1</th>\n",
              "      <td>A. Morin</td>\n",
              "      <td>France</td>\n",
              "      <td></td>\n",
              "      <td>Kpime</td>\n",
              "      <td>Togo</td>\n",
              "      <td>70%</td>\n",
              "      <td>1676</td>\n",
              "      <td>2015</td>\n",
              "      <td>2.75</td>\n",
              "    </tr>\n",
              "    <tr>\n",
              "      <th>2</th>\n",
              "      <td>A. Morin</td>\n",
              "      <td>France</td>\n",
              "      <td></td>\n",
              "      <td>Atsane</td>\n",
              "      <td>Togo</td>\n",
              "      <td>70%</td>\n",
              "      <td>1676</td>\n",
              "      <td>2015</td>\n",
              "      <td>3.00</td>\n",
              "    </tr>\n",
              "    <tr>\n",
              "      <th>3</th>\n",
              "      <td>A. Morin</td>\n",
              "      <td>France</td>\n",
              "      <td></td>\n",
              "      <td>Akata</td>\n",
              "      <td>Togo</td>\n",
              "      <td>70%</td>\n",
              "      <td>1680</td>\n",
              "      <td>2015</td>\n",
              "      <td>3.50</td>\n",
              "    </tr>\n",
              "    <tr>\n",
              "      <th>4</th>\n",
              "      <td>A. Morin</td>\n",
              "      <td>France</td>\n",
              "      <td></td>\n",
              "      <td>Quilla</td>\n",
              "      <td>Peru</td>\n",
              "      <td>70%</td>\n",
              "      <td>1704</td>\n",
              "      <td>2015</td>\n",
              "      <td>3.50</td>\n",
              "    </tr>\n",
              "    <tr>\n",
              "      <th>...</th>\n",
              "      <td>...</td>\n",
              "      <td>...</td>\n",
              "      <td>...</td>\n",
              "      <td>...</td>\n",
              "      <td>...</td>\n",
              "      <td>...</td>\n",
              "      <td>...</td>\n",
              "      <td>...</td>\n",
              "      <td>...</td>\n",
              "    </tr>\n",
              "    <tr>\n",
              "      <th>1790</th>\n",
              "      <td>Zotter</td>\n",
              "      <td>Austria</td>\n",
              "      <td></td>\n",
              "      <td>Peru</td>\n",
              "      <td>Peru</td>\n",
              "      <td>70%</td>\n",
              "      <td>647</td>\n",
              "      <td>2011</td>\n",
              "      <td>3.75</td>\n",
              "    </tr>\n",
              "    <tr>\n",
              "      <th>1791</th>\n",
              "      <td>Zotter</td>\n",
              "      <td>Austria</td>\n",
              "      <td>Forastero</td>\n",
              "      <td>Congo</td>\n",
              "      <td>Congo</td>\n",
              "      <td>65%</td>\n",
              "      <td>749</td>\n",
              "      <td>2011</td>\n",
              "      <td>3.00</td>\n",
              "    </tr>\n",
              "    <tr>\n",
              "      <th>1792</th>\n",
              "      <td>Zotter</td>\n",
              "      <td>Austria</td>\n",
              "      <td>Forastero</td>\n",
              "      <td>Kerala State</td>\n",
              "      <td>India</td>\n",
              "      <td>65%</td>\n",
              "      <td>749</td>\n",
              "      <td>2011</td>\n",
              "      <td>3.50</td>\n",
              "    </tr>\n",
              "    <tr>\n",
              "      <th>1793</th>\n",
              "      <td>Zotter</td>\n",
              "      <td>Austria</td>\n",
              "      <td></td>\n",
              "      <td>Kerala State</td>\n",
              "      <td>India</td>\n",
              "      <td>62%</td>\n",
              "      <td>781</td>\n",
              "      <td>2011</td>\n",
              "      <td>3.25</td>\n",
              "    </tr>\n",
              "    <tr>\n",
              "      <th>1794</th>\n",
              "      <td>Zotter</td>\n",
              "      <td>Austria</td>\n",
              "      <td></td>\n",
              "      <td>Brazil, Mitzi Blue</td>\n",
              "      <td>Brazil</td>\n",
              "      <td>65%</td>\n",
              "      <td>486</td>\n",
              "      <td>2010</td>\n",
              "      <td>3.00</td>\n",
              "    </tr>\n",
              "  </tbody>\n",
              "</table>\n",
              "<p>1795 rows × 9 columns</p>\n",
              "</div>"
            ],
            "text/plain": [
              "       Company Company Location  Bean Type  ...   REF Review Date Rating\n",
              "0     A. Morin           France             ...  1876        2016   3.75\n",
              "1     A. Morin           France             ...  1676        2015   2.75\n",
              "2     A. Morin           France             ...  1676        2015   3.00\n",
              "3     A. Morin           France             ...  1680        2015   3.50\n",
              "4     A. Morin           France             ...  1704        2015   3.50\n",
              "...        ...              ...        ...  ...   ...         ...    ...\n",
              "1790    Zotter          Austria             ...   647        2011   3.75\n",
              "1791    Zotter          Austria  Forastero  ...   749        2011   3.00\n",
              "1792    Zotter          Austria  Forastero  ...   749        2011   3.50\n",
              "1793    Zotter          Austria             ...   781        2011   3.25\n",
              "1794    Zotter          Austria             ...   486        2010   3.00\n",
              "\n",
              "[1795 rows x 9 columns]"
            ]
          },
          "metadata": {
            "tags": []
          },
          "execution_count": 73
        }
      ]
    },
    {
      "cell_type": "markdown",
      "metadata": {
        "id": "y-gRkwD89Ycv"
      },
      "source": [
        "## Examining Each Column\n",
        "\n",
        "\n",
        "In this section we will examine each column to learn about the data in the column. We will also make changes to the data as needed."
      ]
    },
    {
      "cell_type": "markdown",
      "metadata": {
        "id": "dEe__vNL_pA4"
      },
      "source": [
        "### Column: Company"
      ]
    },
    {
      "cell_type": "markdown",
      "metadata": {
        "id": "uA6heaR7TlmX"
      },
      "source": [
        "The 'Company' column is the first in the list, so let's look at it first.\n",
        "\n",
        "We can tell that the column contains string values. Let's see if any are missing:"
      ]
    },
    {
      "cell_type": "code",
      "metadata": {
        "id": "UWkigEjU_3cn",
        "colab": {
          "base_uri": "https://localhost:8080/"
        },
        "outputId": "1e90ce43-bfb2-498e-8947-7d012251110b"
      },
      "source": [
        "df['Company'].isnull().any()"
      ],
      "execution_count": null,
      "outputs": [
        {
          "output_type": "execute_result",
          "data": {
            "text/plain": [
              "False"
            ]
          },
          "metadata": {
            "tags": []
          },
          "execution_count": 74
        }
      ]
    },
    {
      "cell_type": "markdown",
      "metadata": {
        "id": "8qyTNSA3AOWe"
      },
      "source": [
        "No data is missing. Let's now see how many distinct values there are:"
      ]
    },
    {
      "cell_type": "code",
      "metadata": {
        "id": "O-nr1--gATSg",
        "colab": {
          "base_uri": "https://localhost:8080/"
        },
        "outputId": "395127fb-ccd2-4f04-f338-fc6fc8cceb7f"
      },
      "source": [
        "df['Company'].unique().size"
      ],
      "execution_count": null,
      "outputs": [
        {
          "output_type": "execute_result",
          "data": {
            "text/plain": [
              "416"
            ]
          },
          "metadata": {
            "tags": []
          },
          "execution_count": 75
        }
      ]
    },
    {
      "cell_type": "markdown",
      "metadata": {
        "id": "PjeigrI6AZgo"
      },
      "source": [
        "A few hundred is not a terribly long list. Let's print the list in alphabetical order to see how it looks."
      ]
    },
    {
      "cell_type": "code",
      "metadata": {
        "id": "_POI-9fCAgAi",
        "colab": {
          "base_uri": "https://localhost:8080/"
        },
        "outputId": "11008826-059b-4210-9d37-686b985f0fcf"
      },
      "source": [
        "for company in sorted(df['Company'].unique()):\n",
        "  print(company)"
      ],
      "execution_count": null,
      "outputs": [
        {
          "output_type": "stream",
          "text": [
            "A. Morin\n",
            "AMMA\n",
            "Acalli\n",
            "Adi\n",
            "Aequare (Gianduja)\n",
            "Ah Cacao\n",
            "Akesson's (Pralus)\n",
            "Alain Ducasse\n",
            "Alexandre\n",
            "Altus aka Cao Artisan\n",
            "Amano\n",
            "Amatller (Simon Coll)\n",
            "Amazona\n",
            "Ambrosia\n",
            "Amedei\n",
            "Anahata\n",
            "Animas\n",
            "Ara\n",
            "Arete\n",
            "Artisan du Chocolat\n",
            "Artisan du Chocolat (Casa Luker)\n",
            "Askinosie\n",
            "Bahen & Co.\n",
            "Bakau\n",
            "Bar Au Chocolat\n",
            "Baravelli's\n",
            "Batch\n",
            "Beau Cacao\n",
            "Beehive\n",
            "Belcolade\n",
            "Bellflower\n",
            "Belyzium\n",
            "Benoit Nihant\n",
            "Bernachon\n",
            "Beschle (Felchlin)\n",
            "Bisou\n",
            "Bittersweet Origins\n",
            "Black Mountain\n",
            "Black River (A. Morin)\n",
            "Blanxart\n",
            "Blue Bandana\n",
            "Bonnat\n",
            "Bouga Cacao (Tulicorp)\n",
            "Bowler Man\n",
            "Brasstown aka It's Chocolate\n",
            "Brazen\n",
            "Breeze Mill\n",
            "Bright\n",
            "Britarev\n",
            "Bronx Grrl Chocolate\n",
            "Burnt Fork Bend\n",
            "C-Amaro\n",
            "Cacao Arabuco\n",
            "Cacao Atlanta\n",
            "Cacao Barry\n",
            "Cacao Hunters\n",
            "Cacao Market\n",
            "Cacao Prieto\n",
            "Cacao Sampaka\n",
            "Cacao Store\n",
            "Cacao de Origen\n",
            "Cacao de Origin\n",
            "Cacaosuyo (Theobroma Inversiones)\n",
            "Cacaoyere (Ecuatoriana)\n",
            "Callebaut\n",
            "Cao\n",
            "Caoni (Tulicorp)\n",
            "Captain Pembleton\n",
            "Caribeans\n",
            "Carlotta Chocolat\n",
            "Castronovo\n",
            "Cello\n",
            "Cemoi\n",
            "Chaleur B\n",
            "Charm School\n",
            "Chchukululu (Tulicorp)\n",
            "Chequessett\n",
            "Chloe Chocolat\n",
            "Chocablog\n",
            "Choco Del Sol\n",
            "Choco Dong\n",
            "ChocoReko\n",
            "Chocola'te\n",
            "Chocolarder\n",
            "Chocolate Alchemist-Philly\n",
            "Chocolate Con Amor\n",
            "Chocolate Conspiracy\n",
            "Chocolate Makers\n",
            "Chocolate Tree, The\n",
            "Chocolats Privilege\n",
            "Chocosol\n",
            "Chocovic\n",
            "Chocovivo\n",
            "Choklat\n",
            "Chokolat Elot (Girard)\n",
            "Choocsol\n",
            "Christopher Morel (Felchlin)\n",
            "Chuao Chocolatier\n",
            "Chuao Chocolatier (Pralus)\n",
            "Claudio Corallo\n",
            "Cloudforest\n",
            "Coleman & Davis\n",
            "Compania de Chocolate (Salgado)\n",
            "Condor\n",
            "Confluence\n",
            "Coppeneur\n",
            "Cote d' Or (Kraft)\n",
            "Cravve\n",
            "Creo\n",
            "DAR\n",
            "Daintree\n",
            "Dalloway\n",
            "Damson\n",
            "Dandelion\n",
            "Danta\n",
            "Dark Forest\n",
            "Davis\n",
            "De Mendes\n",
            "De Villiers\n",
            "DeVries\n",
            "Dean and Deluca (Belcolade)\n",
            "Debauve & Gallais (Michel Cluizel)\n",
            "Desbarres\n",
            "Dick Taylor\n",
            "Doble & Bignall\n",
            "Dole (Guittard)\n",
            "Dolfin (Belcolade)\n",
            "Domori\n",
            "Dormouse\n",
            "Duffy's\n",
            "Dulcinea\n",
            "Durand\n",
            "Durci\n",
            "ENNA\n",
            "East Van Roasters\n",
            "Eau de Rose\n",
            "Eclat (Felchlin)\n",
            "Edelmond\n",
            "El Ceibo\n",
            "El Rey\n",
            "Emerald Estate\n",
            "Emily's\n",
            "Enric Rovira (Claudio Corallo)\n",
            "Erithaj (A. Morin)\n",
            "Escazu\n",
            "Ethel's Artisan (Mars)\n",
            "Ethereal\n",
            "Fearless (AMMA)\n",
            "Feitoria Cacao\n",
            "Felchlin\n",
            "Finca\n",
            "Forever Cacao\n",
            "Forteza (Cortes)\n",
            "Fossa\n",
            "Franceschi\n",
            "Frederic Blondeel\n",
            "French Broad\n",
            "Fresco\n",
            "Friis Holm\n",
            "Friis Holm (Bonnat)\n",
            "Fruition\n",
            "Garden Island\n",
            "Georgia Ramon\n",
            "Glennmade\n",
            "Goodnow Farms\n",
            "Grand Place\n",
            "Green & Black's (ICAM)\n",
            "Green Bean to Bar\n",
            "Grenada Chocolate Co.\n",
            "Guido Castagna\n",
            "Guittard\n",
            "Habitual\n",
            "Hachez\n",
            "Hacienda El Castillo\n",
            "Haigh\n",
            "Harper Macaw\n",
            "Heilemann\n",
            "Heirloom Cacao Preservation (Brasstown)\n",
            "Heirloom Cacao Preservation (Fruition)\n",
            "Heirloom Cacao Preservation (Guittard)\n",
            "Heirloom Cacao Preservation (Manoa)\n",
            "Heirloom Cacao Preservation (Millcreek)\n",
            "Heirloom Cacao Preservation (Mindo)\n",
            "Heirloom Cacao Preservation (Zokoko)\n",
            "Hogarth\n",
            "Hoja Verde (Tulicorp)\n",
            "Holy Cacao\n",
            "Honest\n",
            "Hotel Chocolat\n",
            "Hotel Chocolat (Coppeneur)\n",
            "Hummingbird\n",
            "Idilio (Felchlin)\n",
            "Indah\n",
            "Indaphoria\n",
            "Indi\n",
            "Isidro\n",
            "Izard\n",
            "Jacque Torres\n",
            "Jordis\n",
            "Just Good Chocolate\n",
            "K'ul\n",
            "Kah Kow\n",
            "Kakao\n",
            "Kallari (Ecuatoriana)\n",
            "Kaoka (Cemoi)\n",
            "Kerchner\n",
            "Ki' Xocolatl\n",
            "Kiskadee\n",
            "Kto\n",
            "Kyya\n",
            "L'Amourette\n",
            "L.A. Burdick (Felchlin)\n",
            "La Chocolaterie Nanairo\n",
            "La Maison du Chocolat (Valrhona)\n",
            "La Oroquidea\n",
            "La Pepa de Oro\n",
            "Laia aka Chat-Noir\n",
            "Lajedo do Ouro\n",
            "Lake Champlain (Callebaut)\n",
            "Letterpress\n",
            "Levy\n",
            "Lilla\n",
            "Lillie Belle\n",
            "Lindt & Sprungli\n",
            "Loiza\n",
            "Lonohana\n",
            "Love Bar\n",
            "Luker\n",
            "Machu Picchu Trading Co.\n",
            "Madecasse (Cinagra)\n",
            "Madre\n",
            "Maglio\n",
            "Majani\n",
            "Malagasy (Chocolaterie Robert)\n",
            "Malagos\n",
            "Malie Kai (Guittard)\n",
            "Malmo\n",
            "Mana\n",
            "Manifesto Cacao\n",
            "Manoa\n",
            "Manufaktura Czekolady\n",
            "Map Chocolate\n",
            "Marana\n",
            "Marigold's Finest\n",
            "Marou\n",
            "Mars\n",
            "Marsatta\n",
            "Martin Mayer\n",
            "Mast Brothers\n",
            "Matale\n",
            "Maverick\n",
            "Mayacama\n",
            "Meadowlands\n",
            "Menakao (aka Cinagra)\n",
            "Mesocacao\n",
            "Metiisto\n",
            "Metropolitan\n",
            "Michel Cluizel\n",
            "Middlebury\n",
            "Millcreek Cacao Roasters\n",
            "Mindo\n",
            "Minimal\n",
            "Mission\n",
            "Mita\n",
            "Moho\n",
            "Molucca\n",
            "Momotombo\n",
            "Monarque\n",
            "Monsieur Truffe\n",
            "Montecristi\n",
            "Muchomas (Mesocacao)\n",
            "Mutari\n",
            "Nahua\n",
            "Naive\n",
            "Nanea\n",
            "Nathan Miller\n",
            "Na�ve\n",
            "Neuhaus (Callebaut)\n",
            "Nibble\n",
            "Night Owl\n",
            "Noble Bean aka Jerjobo\n",
            "Noir d' Ebine\n",
            "Nova Monda\n",
            "Nuance\n",
            "Nugali\n",
            "Oakland Chocolate Co.\n",
            "Obolo\n",
            "Ocelot\n",
            "Ocho\n",
            "Ohiyo\n",
            "Oialla by Bojessen (Malmo)\n",
            "Olive and Sinclair\n",
            "Olivia\n",
            "Omanhene\n",
            "Omnom\n",
            "Original Beans (Felchlin)\n",
            "Original Hawaiin Chocolate Factory\n",
            "Orquidea\n",
            "Pacari\n",
            "Palette de Bine\n",
            "Pangea\n",
            "Park 75\n",
            "Parliament\n",
            "Pascha\n",
            "Patric\n",
            "Paul Young\n",
            "Peppalo\n",
            "Pierre Marcolini\n",
            "Pinellas\n",
            "Pitch Dark\n",
            "Pomm (aka Dead Dog)\n",
            "Potomac\n",
            "Pralus\n",
            "Pump Street Bakery\n",
            "Pura Delizia\n",
            "Q Chocolate\n",
            "Quetzalli (Wolter)\n",
            "Raaka\n",
            "Rain Republic\n",
            "Rancho San Jacinto\n",
            "Ranger\n",
            "Raoul Boulanger\n",
            "Raw Cocoa\n",
            "Republica del Cacao (aka Confecta)\n",
            "Ritual\n",
            "Roasting Masters\n",
            "Robert (aka Chocolaterie Robert)\n",
            "Rococo (Grenada Chocolate Co.)\n",
            "Rogue\n",
            "Rozsavolgyi\n",
            "S.A.I.D.\n",
            "SRSLY\n",
            "Sacred\n",
            "Salgado\n",
            "Santander (Compania Nacional)\n",
            "Santome\n",
            "Scharffen Berger\n",
            "Seaforth\n",
            "Shark Mountain\n",
            "Shark's\n",
            "Shattel\n",
            "Shattell\n",
            "Sibu\n",
            "Sibu Sura\n",
            "Silvio Bessone\n",
            "Sirene\n",
            "Sjolinds\n",
            "Smooth Chocolator, The\n",
            "Snake & Butterfly\n",
            "Sol Cacao\n",
            "Solkiki\n",
            "Solomons Gold\n",
            "Solstice\n",
            "Soma\n",
            "Somerville\n",
            "Soul\n",
            "Spagnvola\n",
            "Spencer\n",
            "Sprungli (Felchlin)\n",
            "StRita Supreme\n",
            "Starchild\n",
            "Stella (aka Bernrain)\n",
            "Stone Grindz\n",
            "Sublime Origins\n",
            "Summerbird\n",
            "Suruca Chocolate\n",
            "Svenska Kakaobolaget\n",
            "Szanto Tibor\n",
            "TCHO\n",
            "Tabal\n",
            "Tablette (aka Vanillabeans)\n",
            "Tan Ban Skrati\n",
            "Taza\n",
            "Tejas\n",
            "Terroir\n",
            "The Barn\n",
            "Theo\n",
            "Theobroma\n",
            "Timo A. Meyer\n",
            "To'ak (Ecuatoriana)\n",
            "Tobago Estate (Pralus)\n",
            "Tocoti\n",
            "Treehouse\n",
            "Tsara (Cinagra)\n",
            "Two Ravens\n",
            "Un Dimanche A Paris\n",
            "Undone\n",
            "Upchurch\n",
            "Urzi\n",
            "Valrhona\n",
            "Vanleer (Barry Callebaut)\n",
            "Vao Vao (Chocolaterie Robert)\n",
            "Vicuna\n",
            "Videri\n",
            "Vietcacao (A. Morin)\n",
            "Vintage Plantations\n",
            "Vintage Plantations (Tulicorp)\n",
            "Violet Sky\n",
            "Vivra\n",
            "Wellington Chocolate Factory\n",
            "Whittakers\n",
            "Wilkie's Organic\n",
            "Willie's Cacao\n",
            "Wm\n",
            "Woodblock\n",
            "Xocolat\n",
            "Xocolla\n",
            "Zak's\n",
            "Zart Pralinen\n",
            "Zokoko\n",
            "Zotter\n",
            "hello cocoa\n",
            "hexx\n",
            "iQ Chocolate\n",
            "organicfair\n",
            "twenty-four blackbirds\n"
          ],
          "name": "stdout"
        }
      ]
    },
    {
      "cell_type": "markdown",
      "metadata": {
        "id": "k8E5wwxVCFqd"
      },
      "source": [
        "This is some interesting data. Looking at it raises many questions. For instance:\n",
        "\n",
        "* Should company names like 'Vintage Plantations' and 'Vintage Plantations (Tulicorp)' be changed to the same name?\n",
        "* Is 'Cacao de Origin' a misspelling of 'Cacao de Origen'?\n",
        "* Is 'Shattel' a misspelling of 'Shattell'?\n",
        "\n",
        "These are the types of things you'll see and questions you'll ask when you encounter a new dataset. Rarely is the data in perfect condition. Often you'll spend a considerable amount of time researching topics related to the data in order to make a call about repairing aspects of the data.\n",
        "\n",
        "In this particular case, it would be great if we could find a master list of all of the chocolate makers in the world. We could then cross reference the names in the dataset with the names in the master list.\n",
        "\n",
        "Unfortunately, we don't have a master list of chocolate makers. Instead, we will have to rely on manually inspecting the data and researching when things don't look right.\n",
        "\n",
        "Let's say that for now we are confident that 'Cacao de Origin' and 'Shattel' are misspellings, so we will correct that data. We aren't confident enough to change any of the names with parentheses in them though.\n",
        "\n",
        "Let's fix our misspellings!"
      ]
    },
    {
      "cell_type": "markdown",
      "metadata": {
        "id": "2Vc78yFJFLw5"
      },
      "source": [
        "#### Exercise 1: Fixing Misspellings\n",
        "\n",
        "We have decided that we would like to change every instance of 'Cacao de Origin' to 'Cacao de Origen' and every instance of 'Shattel' to 'Shattell' in the 'Company' column of our dataset. Write the code to modify the values. Make sure your code doesn't have any warnings. At the end of the code block, print the number of unique company names when you are done. There should be two less columns than what you saw above."
      ]
    },
    {
      "cell_type": "markdown",
      "metadata": {
        "id": "Pag-PfyLG69x"
      },
      "source": [
        "**Student Solution**"
      ]
    },
    {
      "cell_type": "code",
      "metadata": {
        "id": "p4pKMDONG9Z4",
        "colab": {
          "base_uri": "https://localhost:8080/"
        },
        "outputId": "1555831a-9f4e-4574-843d-51395f8abd57"
      },
      "source": [
        "import pandas as pd\n",
        "\n",
        "df = pd.read_csv('chocolate-bar-ratings.zip')\n",
        "df.columns = ['Company', 'Specific Bean Origin', 'REF', 'Review Date',\n",
        "              'Cocoa Percent', 'Company Location', 'Rating', 'Bean Type',\n",
        "              'Broad Bean Origin']\n",
        "df = df[['Company', 'Company Location', 'Bean Type', 'Specific Bean Origin',\n",
        "         'Broad Bean Origin', 'Cocoa Percent', 'REF', 'Review Date', 'Rating']]\n",
        "\n",
        "# Change 'Shattel' to 'Shattell'\n",
        "is_shattel = df['Company'] == 'Shattel'\n",
        "df.loc[is_shattel, 'Company'] = 'Shattell'\n",
        "\n",
        "# Change 'Cacao de Origin' to 'Cacao de Origen'\n",
        "is_origin = df['Company'] == 'Cacao de Origin'\n",
        "df.loc[is_origin, 'Company'] = 'Cacao de Origen'\n",
        "\n",
        "# Print the number of unique company names\n",
        "print(\"Unique company: {}\".format(df['Company'].unique().size))"
      ],
      "execution_count": null,
      "outputs": [
        {
          "output_type": "stream",
          "text": [
            "Unique company: 414\n"
          ],
          "name": "stdout"
        }
      ]
    },
    {
      "cell_type": "markdown",
      "metadata": {
        "id": "dIAOmyuWHMa_"
      },
      "source": [
        "---"
      ]
    },
    {
      "cell_type": "markdown",
      "metadata": {
        "id": "ac0L7_QP7OTm"
      },
      "source": [
        "### Column: Company Location"
      ]
    },
    {
      "cell_type": "markdown",
      "metadata": {
        "id": "84LQDf9d7OTk"
      },
      "source": [
        "The [documentation](https://www.kaggle.com/rtatman/chocolate-bar-ratings) describes the 'Company Location' column as \"*Manufacturer base country*.\"\n",
        "\n",
        "Let's take a look at the data. As always, we'll first check to see if any data is missing."
      ]
    },
    {
      "cell_type": "code",
      "metadata": {
        "id": "oTTcRMFq7OTe",
        "colab": {
          "base_uri": "https://localhost:8080/"
        },
        "outputId": "5ef9b61d-7ff3-479f-f5c7-231f3db9a3b5"
      },
      "source": [
        "df['Company Location'].isna().any()"
      ],
      "execution_count": null,
      "outputs": [
        {
          "output_type": "execute_result",
          "data": {
            "text/plain": [
              "False"
            ]
          },
          "metadata": {
            "tags": []
          },
          "execution_count": 78
        }
      ]
    },
    {
      "cell_type": "markdown",
      "metadata": {
        "id": "NjjMjZqj7OTc"
      },
      "source": [
        "No missing data.\n",
        "\n",
        "Now we can see how many unique values there are:"
      ]
    },
    {
      "cell_type": "code",
      "metadata": {
        "id": "aSzY7dlr7OTT",
        "colab": {
          "base_uri": "https://localhost:8080/"
        },
        "outputId": "522a8019-5b4e-4284-efdd-38377181bd4f"
      },
      "source": [
        "df['Company Location'].unique().shape"
      ],
      "execution_count": null,
      "outputs": [
        {
          "output_type": "execute_result",
          "data": {
            "text/plain": [
              "(60,)"
            ]
          },
          "metadata": {
            "tags": []
          },
          "execution_count": 79
        }
      ]
    },
    {
      "cell_type": "markdown",
      "metadata": {
        "id": "MLjkdqps7OTN"
      },
      "source": [
        "There are just 60 locations, which is small enough that we can manually inspect the values. Let's print the data."
      ]
    },
    {
      "cell_type": "code",
      "metadata": {
        "id": "nGFKHE2B7OS5",
        "colab": {
          "base_uri": "https://localhost:8080/"
        },
        "outputId": "fb0cb8b0-1786-45c4-ea94-df0dba3900c4"
      },
      "source": [
        "for location in sorted(df['Company Location'].unique()):\n",
        "  print(location)"
      ],
      "execution_count": null,
      "outputs": [
        {
          "output_type": "stream",
          "text": [
            "Amsterdam\n",
            "Argentina\n",
            "Australia\n",
            "Austria\n",
            "Belgium\n",
            "Bolivia\n",
            "Brazil\n",
            "Canada\n",
            "Chile\n",
            "Colombia\n",
            "Costa Rica\n",
            "Czech Republic\n",
            "Denmark\n",
            "Domincan Republic\n",
            "Ecuador\n",
            "Eucador\n",
            "Fiji\n",
            "Finland\n",
            "France\n",
            "Germany\n",
            "Ghana\n",
            "Grenada\n",
            "Guatemala\n",
            "Honduras\n",
            "Hungary\n",
            "Iceland\n",
            "India\n",
            "Ireland\n",
            "Israel\n",
            "Italy\n",
            "Japan\n",
            "Lithuania\n",
            "Madagascar\n",
            "Martinique\n",
            "Mexico\n",
            "Netherlands\n",
            "New Zealand\n",
            "Niacragua\n",
            "Nicaragua\n",
            "Peru\n",
            "Philippines\n",
            "Poland\n",
            "Portugal\n",
            "Puerto Rico\n",
            "Russia\n",
            "Sao Tome\n",
            "Scotland\n",
            "Singapore\n",
            "South Africa\n",
            "South Korea\n",
            "Spain\n",
            "St. Lucia\n",
            "Suriname\n",
            "Sweden\n",
            "Switzerland\n",
            "U.K.\n",
            "U.S.A.\n",
            "Venezuela\n",
            "Vietnam\n",
            "Wales\n"
          ],
          "name": "stdout"
        }
      ]
    },
    {
      "cell_type": "markdown",
      "metadata": {
        "id": "sJqm2iCU7OSt"
      },
      "source": [
        "Overall, the data looks pretty clean. The column is supposed to contain countries and *most* entries are countries. There are a few problems with the country data though. We found at least five errors in the data. Let's see what you can find."
      ]
    },
    {
      "cell_type": "markdown",
      "metadata": {
        "id": "_d7_RrV_-DPP"
      },
      "source": [
        "#### Exercise 2: Fixing Company Location Data\n",
        "\n",
        "There are at least five errors in the company location data that need to be fixed. Some are fairly easy to spot (spelling errors), but some do require knowledge of what constitutes a country. Take some time to look at the data, and see if you can spot at least two of the issues. Write code to fix the issues."
      ]
    },
    {
      "cell_type": "markdown",
      "metadata": {
        "id": "p2uvJNxo-DD8"
      },
      "source": [
        "**Student Solution**"
      ]
    },
    {
      "cell_type": "code",
      "metadata": {
        "id": "1eBSJfCp-C4-",
        "colab": {
          "base_uri": "https://localhost:8080/"
        },
        "outputId": "305de7bd-4f0a-40ae-b749-0e8a2f21ac70"
      },
      "source": [
        "# Fix at least two issues with the 'Company Location' data\n",
        "\n",
        "# Niacragua should be Nicaragua (Double)\n",
        "is_niacragua = df['Company Location'] == 'Niacragua'\n",
        "# print(df[is_niacragua])\n",
        "df.loc[is_niacragua, 'Company Location'] = 'Nicaragua'\n",
        "\n",
        "# Domincan Republic should Dominican Republic\n",
        "is_domincan = df['Company Location'] == 'Domincan Republic'\n",
        "# print(df[is_domincan])\n",
        "df.loc[is_domincan, 'Company Location'] = 'Dominican Republic'\n",
        "\n",
        "# Eucador should be Ecuador (Double)\n",
        "is_eucador = df['Company Location'] == 'Eucador'\n",
        "# print(df[is_eucador])\n",
        "df.loc[is_eucador, 'Company Location'] = 'Ecuador'\n",
        "\n",
        "print(\"Unique company location: {}\".format(df['Company Location'].unique().size))\n"
      ],
      "execution_count": null,
      "outputs": [
        {
          "output_type": "stream",
          "text": [
            "Unique company location: 58\n"
          ],
          "name": "stdout"
        }
      ]
    },
    {
      "cell_type": "markdown",
      "metadata": {
        "id": "s5toiHcB-CvH"
      },
      "source": [
        "---"
      ]
    },
    {
      "cell_type": "markdown",
      "metadata": {
        "id": "nA_FefG8dtJQ"
      },
      "source": [
        "### Column: Bean Type"
      ]
    },
    {
      "cell_type": "markdown",
      "metadata": {
        "id": "4ibiKPxvCCoA"
      },
      "source": [
        "Now that our company data is looking a little better, let's move into data about the cocoa going into the chocolate bar itself. The first piece of data is the 'Bean Type'. 'Bean Type' is defined as \"*The variety (breed) of bean used, if provided*\". This hints that there will be some missing data. Let's check and see."
      ]
    },
    {
      "cell_type": "code",
      "metadata": {
        "id": "ulcp5RH0CbJs",
        "colab": {
          "base_uri": "https://localhost:8080/"
        },
        "outputId": "45756a42-9185-49ad-d442-388a41610a5b"
      },
      "source": [
        "df['Bean Type'].isna().any()"
      ],
      "execution_count": null,
      "outputs": [
        {
          "output_type": "execute_result",
          "data": {
            "text/plain": [
              "True"
            ]
          },
          "metadata": {
            "tags": []
          },
          "execution_count": 82
        }
      ]
    },
    {
      "cell_type": "markdown",
      "metadata": {
        "id": "ER7siTrsCe4m"
      },
      "source": [
        "Indeed, we have missing data. Let's see how much is missing."
      ]
    },
    {
      "cell_type": "code",
      "metadata": {
        "id": "NEqYfWsxCnlt",
        "colab": {
          "base_uri": "https://localhost:8080/"
        },
        "outputId": "c786bb30-e638-4504-a0dd-f673b79b6b2d"
      },
      "source": [
        "df[df['Bean Type'].isna()].count()"
      ],
      "execution_count": null,
      "outputs": [
        {
          "output_type": "execute_result",
          "data": {
            "text/plain": [
              "Company                 1\n",
              "Company Location        1\n",
              "Bean Type               0\n",
              "Specific Bean Origin    1\n",
              "Broad Bean Origin       1\n",
              "Cocoa Percent           1\n",
              "REF                     1\n",
              "Review Date             1\n",
              "Rating                  1\n",
              "dtype: int64"
            ]
          },
          "metadata": {
            "tags": []
          },
          "execution_count": 83
        }
      ]
    },
    {
      "cell_type": "markdown",
      "metadata": {
        "id": "CZwRD78JC6sK"
      },
      "source": [
        "Only one row of data is missing 'Bean Type'. Let's take a look at that row."
      ]
    },
    {
      "cell_type": "code",
      "metadata": {
        "id": "ZvSyoal2DBCH",
        "colab": {
          "base_uri": "https://localhost:8080/",
          "height": 115
        },
        "outputId": "bb037ad8-0dc0-4869-fb19-aaeacfb6f51d"
      },
      "source": [
        "df[df['Bean Type'].isna()]"
      ],
      "execution_count": null,
      "outputs": [
        {
          "output_type": "execute_result",
          "data": {
            "text/html": [
              "<div>\n",
              "<style scoped>\n",
              "    .dataframe tbody tr th:only-of-type {\n",
              "        vertical-align: middle;\n",
              "    }\n",
              "\n",
              "    .dataframe tbody tr th {\n",
              "        vertical-align: top;\n",
              "    }\n",
              "\n",
              "    .dataframe thead th {\n",
              "        text-align: right;\n",
              "    }\n",
              "</style>\n",
              "<table border=\"1\" class=\"dataframe\">\n",
              "  <thead>\n",
              "    <tr style=\"text-align: right;\">\n",
              "      <th></th>\n",
              "      <th>Company</th>\n",
              "      <th>Company Location</th>\n",
              "      <th>Bean Type</th>\n",
              "      <th>Specific Bean Origin</th>\n",
              "      <th>Broad Bean Origin</th>\n",
              "      <th>Cocoa Percent</th>\n",
              "      <th>REF</th>\n",
              "      <th>Review Date</th>\n",
              "      <th>Rating</th>\n",
              "    </tr>\n",
              "  </thead>\n",
              "  <tbody>\n",
              "    <tr>\n",
              "      <th>1544</th>\n",
              "      <td>Soma</td>\n",
              "      <td>Canada</td>\n",
              "      <td>NaN</td>\n",
              "      <td>Three Amigos(Chuao, Wild Bolivia, D.R.)</td>\n",
              "      <td>Ven, Bolivia, D.R.</td>\n",
              "      <td>70%</td>\n",
              "      <td>676</td>\n",
              "      <td>2011</td>\n",
              "      <td>4.0</td>\n",
              "    </tr>\n",
              "  </tbody>\n",
              "</table>\n",
              "</div>"
            ],
            "text/plain": [
              "     Company Company Location Bean Type  ...  REF Review Date Rating\n",
              "1544    Soma           Canada       NaN  ...  676        2011    4.0\n",
              "\n",
              "[1 rows x 9 columns]"
            ]
          },
          "metadata": {
            "tags": []
          },
          "execution_count": 84
        }
      ]
    },
    {
      "cell_type": "markdown",
      "metadata": {
        "id": "SWnKcJ5HDF5B"
      },
      "source": [
        "Now we have a choice to make about how to handle this missing data. Some options include:\n",
        "\n",
        "* Leave it as is\n",
        "* Remove the entire row\n",
        "* Fill in the data with some value\n",
        "\n",
        "Leaving undefined values lying around in our data can be problematic. Missing values are not counted and can be tricky to program around.\n",
        "\n",
        "Removing the entire row actually isn't a bad option in this case. Since it is only one row out of over 1,700, it likely won't have too much effect on any analysis that we do.\n",
        "\n",
        "As for filling in the row, we can:\n",
        "\n",
        "* Use 'Unknown' or some other placeholder value\n",
        "* Actually do research to find the true missing value\n",
        "* See if there is a reasonable value already in the data\n",
        "\n",
        "In this case, we are just going to replace the missing value with 'Unknown'."
      ]
    },
    {
      "cell_type": "code",
      "metadata": {
        "id": "qCVeiD-2E3MN",
        "colab": {
          "base_uri": "https://localhost:8080/",
          "height": 66
        },
        "outputId": "f6278429-97c2-492d-b4d1-31313fa2a478"
      },
      "source": [
        "df.loc[df['Bean Type'].isna(), 'Bean Type'] = 'Unknown'\n",
        "df[df['Bean Type'].isna()]"
      ],
      "execution_count": null,
      "outputs": [
        {
          "output_type": "execute_result",
          "data": {
            "text/html": [
              "<div>\n",
              "<style scoped>\n",
              "    .dataframe tbody tr th:only-of-type {\n",
              "        vertical-align: middle;\n",
              "    }\n",
              "\n",
              "    .dataframe tbody tr th {\n",
              "        vertical-align: top;\n",
              "    }\n",
              "\n",
              "    .dataframe thead th {\n",
              "        text-align: right;\n",
              "    }\n",
              "</style>\n",
              "<table border=\"1\" class=\"dataframe\">\n",
              "  <thead>\n",
              "    <tr style=\"text-align: right;\">\n",
              "      <th></th>\n",
              "      <th>Company</th>\n",
              "      <th>Company Location</th>\n",
              "      <th>Bean Type</th>\n",
              "      <th>Specific Bean Origin</th>\n",
              "      <th>Broad Bean Origin</th>\n",
              "      <th>Cocoa Percent</th>\n",
              "      <th>REF</th>\n",
              "      <th>Review Date</th>\n",
              "      <th>Rating</th>\n",
              "    </tr>\n",
              "  </thead>\n",
              "  <tbody>\n",
              "  </tbody>\n",
              "</table>\n",
              "</div>"
            ],
            "text/plain": [
              "Empty DataFrame\n",
              "Columns: [Company, Company Location, Bean Type, Specific Bean Origin, Broad Bean Origin, Cocoa Percent, REF, Review Date, Rating]\n",
              "Index: []"
            ]
          },
          "metadata": {
            "tags": []
          },
          "execution_count": 85
        }
      ]
    },
    {
      "cell_type": "markdown",
      "metadata": {
        "id": "jaoPvnZnHMjg"
      },
      "source": [
        "Now we can see how many unique bean types we have."
      ]
    },
    {
      "cell_type": "code",
      "metadata": {
        "id": "dj_ttYmwFATj",
        "colab": {
          "base_uri": "https://localhost:8080/"
        },
        "outputId": "f99cab6a-2897-4f79-f13b-561f0315b3d1"
      },
      "source": [
        "df['Bean Type'].unique().size"
      ],
      "execution_count": null,
      "outputs": [
        {
          "output_type": "execute_result",
          "data": {
            "text/plain": [
              "42"
            ]
          },
          "metadata": {
            "tags": []
          },
          "execution_count": 86
        }
      ]
    },
    {
      "cell_type": "markdown",
      "metadata": {
        "id": "-PJNVBJAHUgK"
      },
      "source": [
        "Only 42, let's print them out."
      ]
    },
    {
      "cell_type": "code",
      "metadata": {
        "id": "EGITpas9HXwH",
        "colab": {
          "base_uri": "https://localhost:8080/"
        },
        "outputId": "c96de786-7ce4-415f-d752-c86750b59a1c"
      },
      "source": [
        "for t in sorted(df['Bean Type'].unique()):\n",
        "  print(t)"
      ],
      "execution_count": null,
      "outputs": [
        {
          "output_type": "stream",
          "text": [
            "Amazon\n",
            "Amazon mix\n",
            "Amazon, ICS\n",
            "Beniano\n",
            "Blend\n",
            "Blend-Forastero,Criollo\n",
            "CCN51\n",
            "Criollo\n",
            "Criollo (Amarru)\n",
            "Criollo (Ocumare 61)\n",
            "Criollo (Ocumare 67)\n",
            "Criollo (Ocumare 77)\n",
            "Criollo (Ocumare)\n",
            "Criollo (Porcelana)\n",
            "Criollo (Wild)\n",
            "Criollo, +\n",
            "Criollo, Forastero\n",
            "Criollo, Trinitario\n",
            "EET\n",
            "Forastero\n",
            "Forastero (Amelonado)\n",
            "Forastero (Arriba)\n",
            "Forastero (Arriba) ASS\n",
            "Forastero (Arriba) ASSS\n",
            "Forastero (Catongo)\n",
            "Forastero (Nacional)\n",
            "Forastero (Parazinho)\n",
            "Forastero(Arriba, CCN)\n",
            "Forastero, Trinitario\n",
            "Matina\n",
            "Nacional\n",
            "Nacional (Arriba)\n",
            "Trinitario\n",
            "Trinitario (85% Criollo)\n",
            "Trinitario (Amelonado)\n",
            "Trinitario (Scavina)\n",
            "Trinitario, Criollo\n",
            "Trinitario, Forastero\n",
            "Trinitario, Nacional\n",
            "Trinitario, TCGA\n",
            "Unknown\n",
            " \n"
          ],
          "name": "stdout"
        }
      ]
    },
    {
      "cell_type": "markdown",
      "metadata": {
        "id": "BY0UqpgsHjTu"
      },
      "source": [
        "The data looks pretty good. But there is a small little problem. After 'Unknown' there seems to be an empty line. What is that?\n",
        "\n",
        "It turns out that it is a whitespace character. We thought we had only one missing value, but it looks like there are some values that are present but are white space. Let's see how many.\n",
        "\n",
        "White space can be tricky because there are many different encodings that render as white space. Let's find out exactly which space character this is.\n",
        "\n",
        "To get the space(s) we can sort the 'Bean Type' values again and get the last one, since we see the space last in the list. We can then print the space as hexadecimal characters."
      ]
    },
    {
      "cell_type": "code",
      "metadata": {
        "id": "O2E_EcvCH-NH",
        "colab": {
          "base_uri": "https://localhost:8080/"
        },
        "outputId": "7e9c135e-f3bb-4a68-ff30-31a013704f1a"
      },
      "source": [
        "space = sorted(df['Bean Type'].unique())[-1]\n",
        "print(\", \".join(\"0x{:02x}\".format(ord(c)) for c in space))"
      ],
      "execution_count": null,
      "outputs": [
        {
          "output_type": "stream",
          "text": [
            "0xa0\n"
          ],
          "name": "stdout"
        }
      ]
    },
    {
      "cell_type": "markdown",
      "metadata": {
        "id": "0TTbLvZSJUZw"
      },
      "source": [
        "We get `0xa0` which is the ASCII code for [non-breaking space](https://en.wikipedia.org/wiki/Non-breaking_space). This is different from the white space that you get when you hit the space bar. That space is encoded `0x20`.\n",
        "\n",
        "Let's see how many of these there are:"
      ]
    },
    {
      "cell_type": "code",
      "metadata": {
        "id": "KDOkj9BTJspc",
        "colab": {
          "base_uri": "https://localhost:8080/",
          "height": 441
        },
        "outputId": "e62e7f05-0ca0-4ed4-e0db-83de3b33c3c3"
      },
      "source": [
        "df[df['Bean Type'] == chr(0xa0)]"
      ],
      "execution_count": null,
      "outputs": [
        {
          "output_type": "execute_result",
          "data": {
            "text/html": [
              "<div>\n",
              "<style scoped>\n",
              "    .dataframe tbody tr th:only-of-type {\n",
              "        vertical-align: middle;\n",
              "    }\n",
              "\n",
              "    .dataframe tbody tr th {\n",
              "        vertical-align: top;\n",
              "    }\n",
              "\n",
              "    .dataframe thead th {\n",
              "        text-align: right;\n",
              "    }\n",
              "</style>\n",
              "<table border=\"1\" class=\"dataframe\">\n",
              "  <thead>\n",
              "    <tr style=\"text-align: right;\">\n",
              "      <th></th>\n",
              "      <th>Company</th>\n",
              "      <th>Company Location</th>\n",
              "      <th>Bean Type</th>\n",
              "      <th>Specific Bean Origin</th>\n",
              "      <th>Broad Bean Origin</th>\n",
              "      <th>Cocoa Percent</th>\n",
              "      <th>REF</th>\n",
              "      <th>Review Date</th>\n",
              "      <th>Rating</th>\n",
              "    </tr>\n",
              "  </thead>\n",
              "  <tbody>\n",
              "    <tr>\n",
              "      <th>0</th>\n",
              "      <td>A. Morin</td>\n",
              "      <td>France</td>\n",
              "      <td></td>\n",
              "      <td>Agua Grande</td>\n",
              "      <td>Sao Tome</td>\n",
              "      <td>63%</td>\n",
              "      <td>1876</td>\n",
              "      <td>2016</td>\n",
              "      <td>3.75</td>\n",
              "    </tr>\n",
              "    <tr>\n",
              "      <th>1</th>\n",
              "      <td>A. Morin</td>\n",
              "      <td>France</td>\n",
              "      <td></td>\n",
              "      <td>Kpime</td>\n",
              "      <td>Togo</td>\n",
              "      <td>70%</td>\n",
              "      <td>1676</td>\n",
              "      <td>2015</td>\n",
              "      <td>2.75</td>\n",
              "    </tr>\n",
              "    <tr>\n",
              "      <th>2</th>\n",
              "      <td>A. Morin</td>\n",
              "      <td>France</td>\n",
              "      <td></td>\n",
              "      <td>Atsane</td>\n",
              "      <td>Togo</td>\n",
              "      <td>70%</td>\n",
              "      <td>1676</td>\n",
              "      <td>2015</td>\n",
              "      <td>3.00</td>\n",
              "    </tr>\n",
              "    <tr>\n",
              "      <th>3</th>\n",
              "      <td>A. Morin</td>\n",
              "      <td>France</td>\n",
              "      <td></td>\n",
              "      <td>Akata</td>\n",
              "      <td>Togo</td>\n",
              "      <td>70%</td>\n",
              "      <td>1680</td>\n",
              "      <td>2015</td>\n",
              "      <td>3.50</td>\n",
              "    </tr>\n",
              "    <tr>\n",
              "      <th>4</th>\n",
              "      <td>A. Morin</td>\n",
              "      <td>France</td>\n",
              "      <td></td>\n",
              "      <td>Quilla</td>\n",
              "      <td>Peru</td>\n",
              "      <td>70%</td>\n",
              "      <td>1704</td>\n",
              "      <td>2015</td>\n",
              "      <td>3.50</td>\n",
              "    </tr>\n",
              "    <tr>\n",
              "      <th>...</th>\n",
              "      <td>...</td>\n",
              "      <td>...</td>\n",
              "      <td>...</td>\n",
              "      <td>...</td>\n",
              "      <td>...</td>\n",
              "      <td>...</td>\n",
              "      <td>...</td>\n",
              "      <td>...</td>\n",
              "      <td>...</td>\n",
              "    </tr>\n",
              "    <tr>\n",
              "      <th>1787</th>\n",
              "      <td>Zotter</td>\n",
              "      <td>Austria</td>\n",
              "      <td></td>\n",
              "      <td>Santo Domingo</td>\n",
              "      <td>Dominican Republic</td>\n",
              "      <td>70%</td>\n",
              "      <td>879</td>\n",
              "      <td>2012</td>\n",
              "      <td>3.75</td>\n",
              "    </tr>\n",
              "    <tr>\n",
              "      <th>1789</th>\n",
              "      <td>Zotter</td>\n",
              "      <td>Austria</td>\n",
              "      <td></td>\n",
              "      <td>Indianer, Raw</td>\n",
              "      <td></td>\n",
              "      <td>58%</td>\n",
              "      <td>883</td>\n",
              "      <td>2012</td>\n",
              "      <td>3.50</td>\n",
              "    </tr>\n",
              "    <tr>\n",
              "      <th>1790</th>\n",
              "      <td>Zotter</td>\n",
              "      <td>Austria</td>\n",
              "      <td></td>\n",
              "      <td>Peru</td>\n",
              "      <td>Peru</td>\n",
              "      <td>70%</td>\n",
              "      <td>647</td>\n",
              "      <td>2011</td>\n",
              "      <td>3.75</td>\n",
              "    </tr>\n",
              "    <tr>\n",
              "      <th>1793</th>\n",
              "      <td>Zotter</td>\n",
              "      <td>Austria</td>\n",
              "      <td></td>\n",
              "      <td>Kerala State</td>\n",
              "      <td>India</td>\n",
              "      <td>62%</td>\n",
              "      <td>781</td>\n",
              "      <td>2011</td>\n",
              "      <td>3.25</td>\n",
              "    </tr>\n",
              "    <tr>\n",
              "      <th>1794</th>\n",
              "      <td>Zotter</td>\n",
              "      <td>Austria</td>\n",
              "      <td></td>\n",
              "      <td>Brazil, Mitzi Blue</td>\n",
              "      <td>Brazil</td>\n",
              "      <td>65%</td>\n",
              "      <td>486</td>\n",
              "      <td>2010</td>\n",
              "      <td>3.00</td>\n",
              "    </tr>\n",
              "  </tbody>\n",
              "</table>\n",
              "<p>887 rows × 9 columns</p>\n",
              "</div>"
            ],
            "text/plain": [
              "       Company Company Location Bean Type  ...   REF Review Date Rating\n",
              "0     A. Morin           France            ...  1876        2016   3.75\n",
              "1     A. Morin           France            ...  1676        2015   2.75\n",
              "2     A. Morin           France            ...  1676        2015   3.00\n",
              "3     A. Morin           France            ...  1680        2015   3.50\n",
              "4     A. Morin           France            ...  1704        2015   3.50\n",
              "...        ...              ...       ...  ...   ...         ...    ...\n",
              "1787    Zotter          Austria            ...   879        2012   3.75\n",
              "1789    Zotter          Austria            ...   883        2012   3.50\n",
              "1790    Zotter          Austria            ...   647        2011   3.75\n",
              "1793    Zotter          Austria            ...   781        2011   3.25\n",
              "1794    Zotter          Austria            ...   486        2010   3.00\n",
              "\n",
              "[887 rows x 9 columns]"
            ]
          },
          "metadata": {
            "tags": []
          },
          "execution_count": 28
        }
      ]
    },
    {
      "cell_type": "markdown",
      "metadata": {
        "id": "E6iQWvqCK9fM"
      },
      "source": [
        "Almost 900! Let's encode those as 'Unknown' also."
      ]
    },
    {
      "cell_type": "markdown",
      "metadata": {
        "id": "xkf_tZeLLECc"
      },
      "source": [
        "#### Exercise 3: Fixing Non-Breaking Space\n",
        "\n",
        "There are non-breaking space characters, `0xa0` in the 'Bean Type' column. Replace these values with the word 'Unknown'."
      ]
    },
    {
      "cell_type": "markdown",
      "metadata": {
        "id": "eSXdAvnuLSUT"
      },
      "source": [
        "**Student Solution**"
      ]
    },
    {
      "cell_type": "code",
      "metadata": {
        "id": "8FGsZXdiLUYJ",
        "colab": {
          "base_uri": "https://localhost:8080/",
          "height": 66
        },
        "outputId": "3e7f51b8-cba8-4c5e-fe99-6f2fb102a6a9"
      },
      "source": [
        "# Your Code Goes Here\n",
        "is_space = df['Bean Type'] == chr(0xa0)\n",
        "# Change space chara to Unknown\n",
        "df.loc[is_space, 'Bean Type'] = 'Unknown'\n",
        "\n",
        "# List the space bean type (Should be 0 right now)\n",
        "df[df['Bean Type'] == chr(0xa0)]"
      ],
      "execution_count": null,
      "outputs": [
        {
          "output_type": "execute_result",
          "data": {
            "text/html": [
              "<div>\n",
              "<style scoped>\n",
              "    .dataframe tbody tr th:only-of-type {\n",
              "        vertical-align: middle;\n",
              "    }\n",
              "\n",
              "    .dataframe tbody tr th {\n",
              "        vertical-align: top;\n",
              "    }\n",
              "\n",
              "    .dataframe thead th {\n",
              "        text-align: right;\n",
              "    }\n",
              "</style>\n",
              "<table border=\"1\" class=\"dataframe\">\n",
              "  <thead>\n",
              "    <tr style=\"text-align: right;\">\n",
              "      <th></th>\n",
              "      <th>Company</th>\n",
              "      <th>Company Location</th>\n",
              "      <th>Bean Type</th>\n",
              "      <th>Specific Bean Origin</th>\n",
              "      <th>Broad Bean Origin</th>\n",
              "      <th>Cocoa Percent</th>\n",
              "      <th>REF</th>\n",
              "      <th>Review Date</th>\n",
              "      <th>Rating</th>\n",
              "    </tr>\n",
              "  </thead>\n",
              "  <tbody>\n",
              "  </tbody>\n",
              "</table>\n",
              "</div>"
            ],
            "text/plain": [
              "Empty DataFrame\n",
              "Columns: [Company, Company Location, Bean Type, Specific Bean Origin, Broad Bean Origin, Cocoa Percent, REF, Review Date, Rating]\n",
              "Index: []"
            ]
          },
          "metadata": {
            "tags": []
          },
          "execution_count": 29
        }
      ]
    },
    {
      "cell_type": "markdown",
      "metadata": {
        "id": "iToRkZ8pLWb4"
      },
      "source": [
        "---"
      ]
    },
    {
      "cell_type": "markdown",
      "metadata": {
        "id": "f8c5MvFFHh_4"
      },
      "source": [
        "### Column: Specific Bean Origin"
      ]
    },
    {
      "cell_type": "markdown",
      "metadata": {
        "id": "6MAc6snPJ6LK"
      },
      "source": [
        "Let's look at our next column: 'Specific Bean Origin'. 'Specific Bean Origin' is a string column that contains the \"*specific geo-region of origin for the bar*.\"\n",
        "\n",
        "First, we'll see if we are missing any data in the 'Specific Bean Origin' column."
      ]
    },
    {
      "cell_type": "code",
      "metadata": {
        "id": "e9Lk5uA_RKN5",
        "colab": {
          "base_uri": "https://localhost:8080/"
        },
        "outputId": "4c23fba3-325c-47fc-a484-867baeb6d480"
      },
      "source": [
        "df['Specific Bean Origin'].isna().any()"
      ],
      "execution_count": null,
      "outputs": [
        {
          "output_type": "execute_result",
          "data": {
            "text/plain": [
              "False"
            ]
          },
          "metadata": {
            "tags": []
          },
          "execution_count": 30
        }
      ]
    },
    {
      "cell_type": "markdown",
      "metadata": {
        "id": "DQh-ivg2RNfS"
      },
      "source": [
        "Good, we don't have any 'N/A' data. But we learned from the 'Bean' column that we also need to check string columns for being only white space.\n",
        "\n",
        "A good way to do this is to apply a function that strips leading and trailing white space from every value in a column, and see if the resulting string is zero-length."
      ]
    },
    {
      "cell_type": "code",
      "metadata": {
        "id": "9-MLWbPgMxZm",
        "colab": {
          "base_uri": "https://localhost:8080/",
          "height": 66
        },
        "outputId": "48a39a2b-3d02-4a63-dc3a-52a2f9f8e358"
      },
      "source": [
        "df[df['Specific Bean Origin'].apply(lambda x: x.strip()).str.len() == 0]"
      ],
      "execution_count": null,
      "outputs": [
        {
          "output_type": "execute_result",
          "data": {
            "text/html": [
              "<div>\n",
              "<style scoped>\n",
              "    .dataframe tbody tr th:only-of-type {\n",
              "        vertical-align: middle;\n",
              "    }\n",
              "\n",
              "    .dataframe tbody tr th {\n",
              "        vertical-align: top;\n",
              "    }\n",
              "\n",
              "    .dataframe thead th {\n",
              "        text-align: right;\n",
              "    }\n",
              "</style>\n",
              "<table border=\"1\" class=\"dataframe\">\n",
              "  <thead>\n",
              "    <tr style=\"text-align: right;\">\n",
              "      <th></th>\n",
              "      <th>Company</th>\n",
              "      <th>Company Location</th>\n",
              "      <th>Bean Type</th>\n",
              "      <th>Specific Bean Origin</th>\n",
              "      <th>Broad Bean Origin</th>\n",
              "      <th>Cocoa Percent</th>\n",
              "      <th>REF</th>\n",
              "      <th>Review Date</th>\n",
              "      <th>Rating</th>\n",
              "    </tr>\n",
              "  </thead>\n",
              "  <tbody>\n",
              "  </tbody>\n",
              "</table>\n",
              "</div>"
            ],
            "text/plain": [
              "Empty DataFrame\n",
              "Columns: [Company, Company Location, Bean Type, Specific Bean Origin, Broad Bean Origin, Cocoa Percent, REF, Review Date, Rating]\n",
              "Index: []"
            ]
          },
          "metadata": {
            "tags": []
          },
          "execution_count": 31
        }
      ]
    },
    {
      "cell_type": "markdown",
      "metadata": {
        "id": "Oxyh7ZFKPEJY"
      },
      "source": [
        "Here we can see that no data was returned, so we don't have any 'Specific Bean Origin' values that are only spaces.\n",
        "\n",
        "If you run this function and get an error about numbers/floats not having a strip function, you likely have N/A values in your column. Always check `isna()` first.\n",
        "\n",
        "Now that we know that every row has a 'Specific Bean Origin' value, let's see how many unique values we have."
      ]
    },
    {
      "cell_type": "code",
      "metadata": {
        "id": "MTfjVmwmLMZM",
        "colab": {
          "base_uri": "https://localhost:8080/"
        },
        "outputId": "36dd788b-6bc0-472f-cec0-7be6e757591b"
      },
      "source": [
        "df['Specific Bean Origin'].unique().size"
      ],
      "execution_count": null,
      "outputs": [
        {
          "output_type": "execute_result",
          "data": {
            "text/plain": [
              "1039"
            ]
          },
          "metadata": {
            "tags": []
          },
          "execution_count": 32
        }
      ]
    },
    {
      "cell_type": "markdown",
      "metadata": {
        "id": "TxRFy8RnLXVk"
      },
      "source": [
        "Over 1,000 values! That is quite a bit of data to manually sift through. Let's look at the first bit of data, up until the first origin that starts with 'B'."
      ]
    },
    {
      "cell_type": "code",
      "metadata": {
        "id": "ibDslHr2HrTw",
        "colab": {
          "base_uri": "https://localhost:8080/"
        },
        "outputId": "c73b9e5c-dae3-4d83-85fa-ef82298b7fc0"
      },
      "source": [
        "for origin in sorted(df['Specific Bean Origin'].unique()):\n",
        "  if origin.startswith('B'):\n",
        "    break\n",
        "  print(origin)"
      ],
      "execution_count": null,
      "outputs": [
        {
          "output_type": "stream",
          "text": [
            "\"heirloom\", Arriba Nacional\n",
            "100 percent\n",
            "2009 Hapa Nibby\n",
            "A case of the Xerces Blues, triple roast\n",
            "ABOCFA Coop\n",
            "Abinao\n",
            "Abstract S. w/ Jamaica nibs,batch abs60323.0\n",
            "Acarigua, w/ nibs\n",
            "Acopagro\n",
            "Acul-du-Nord, 2015\n",
            "Africa\n",
            "Africa meets Latina\n",
            "AgroCriso Plantation\n",
            "Agua Fria; Sucre region\n",
            "Agua Grande\n",
            "Akata\n",
            "Akesson Estate\n",
            "Akesson P.\n",
            "Akesson's E., Sambirano V.\n",
            "Akesson's Estate\n",
            "Akesson's, batch 4411\n",
            "Akessons Estate, Sambirano, 2013\n",
            "Akessons Estate, Sambirano, Ambanja\n",
            "Akosombo\n",
            "Almendra Blanca, batch 1004\n",
            "Alpaco\n",
            "Alta Verapaz, 2014\n",
            "Alto Beni\n",
            "Alto Beni, Covendo Region\n",
            "Alto Beni, Cru Savage\n",
            "Alto Beni, Palos Blanco\n",
            "Alto Beni, Palos Blancos\n",
            "Alto Beni, Upper Rio Beni, 2014\n",
            "Alto Beni, Upper Rio Beni, 2015\n",
            "Alto Beni, Wild Bolivian\n",
            "Alto Beni, Wild Harvest, Itenez R. 24hr c.\n",
            "Alto Beni, Wild Harvest, Itenez R., 60hr c.\n",
            "Alto Beni, Wild Harvest, Limited Ed.\n",
            "Amazon Basin Blend\n",
            "Amazonas\n",
            "Amazonas Frucht\n",
            "Amazonas w/ nibs\n",
            "Amazonia\n",
            "Ambanja, Sambirano Valley\n",
            "Ambanja, Tsara Valley\n",
            "Ambanja, batch 1 SRB\n",
            "Ambolikapiky\n",
            "Ambolikapiky P.\n",
            "Ambolikapkly P.\n",
            "Amina\n",
            "Andoa, Grand Cru blend\n",
            "Ankasa\n",
            "Anselmo Paraiso Estate\n",
            "Antigua, Special Reserve\n",
            "Antilles (Trin/Gren/DR/Ven)\n",
            "Apurimac\n",
            "Apurimac, El Quinacho Co-op\n",
            "Aragua, Trincheras\n",
            "Araguani\n",
            "Aranama\n",
            "Arauca\n",
            "Arawak\n",
            "Arhuacos\n",
            "Arriba\n",
            "Asajaya E, NW Borneo, b. #132/4500\n",
            "Asante\n",
            "Asochivite, batch 1005\n",
            "Atsane\n",
            "Australia\n",
            "Autumn, Primary Harvest, 2012\n",
            "Ayacucho, \"El Guinacho\"\n"
          ],
          "name": "stdout"
        }
      ]
    },
    {
      "cell_type": "markdown",
      "metadata": {
        "id": "X7otjUTJMUhb"
      },
      "source": [
        "This is some pretty ugly data. Most (but not all) rows contain the bean's geographical origin, but some seem to include the year and/or batch numbers as well, and some seem to contain different information entirely (\"100 percent\").\n",
        "\n",
        "Looking at the data, we can also see some things that look odd. For instance, \"Akesson Estate\" and \"Akesson's Estate\" are likely the same origin. Also, \"Ambolikapkly P.\" clearly looks like a misspelling of \"Ambolikapiky P.\"\n",
        "\n",
        "We could make all of the \"Akesson\" origins look the same, but should we? First, let's look at the entire rows for the offending data."
      ]
    },
    {
      "cell_type": "code",
      "metadata": {
        "id": "74DvVEDvNgXF",
        "colab": {
          "base_uri": "https://localhost:8080/",
          "height": 258
        },
        "outputId": "27cf69ce-7e8a-41cd-aa2b-5e61969427ef"
      },
      "source": [
        "df[(df['Specific Bean Origin'] == 'Akesson Estate') | \\\n",
        "   (df['Specific Bean Origin'] == \"Akesson's Estate\")]"
      ],
      "execution_count": null,
      "outputs": [
        {
          "output_type": "execute_result",
          "data": {
            "text/html": [
              "<div>\n",
              "<style scoped>\n",
              "    .dataframe tbody tr th:only-of-type {\n",
              "        vertical-align: middle;\n",
              "    }\n",
              "\n",
              "    .dataframe tbody tr th {\n",
              "        vertical-align: top;\n",
              "    }\n",
              "\n",
              "    .dataframe thead th {\n",
              "        text-align: right;\n",
              "    }\n",
              "</style>\n",
              "<table border=\"1\" class=\"dataframe\">\n",
              "  <thead>\n",
              "    <tr style=\"text-align: right;\">\n",
              "      <th></th>\n",
              "      <th>Company</th>\n",
              "      <th>Company Location</th>\n",
              "      <th>Bean Type</th>\n",
              "      <th>Specific Bean Origin</th>\n",
              "      <th>Broad Bean Origin</th>\n",
              "      <th>Cocoa Percent</th>\n",
              "      <th>REF</th>\n",
              "      <th>Review Date</th>\n",
              "      <th>Rating</th>\n",
              "    </tr>\n",
              "  </thead>\n",
              "  <tbody>\n",
              "    <tr>\n",
              "      <th>807</th>\n",
              "      <td>Hogarth</td>\n",
              "      <td>New Zealand</td>\n",
              "      <td>Trinitario</td>\n",
              "      <td>Akesson's Estate</td>\n",
              "      <td>Madagascar</td>\n",
              "      <td>70%</td>\n",
              "      <td>1712</td>\n",
              "      <td>2016</td>\n",
              "      <td>2.75</td>\n",
              "    </tr>\n",
              "    <tr>\n",
              "      <th>1109</th>\n",
              "      <td>Metiisto</td>\n",
              "      <td>Sweden</td>\n",
              "      <td>Trinitario</td>\n",
              "      <td>Akesson Estate</td>\n",
              "      <td>Madagascar</td>\n",
              "      <td>72%</td>\n",
              "      <td>1267</td>\n",
              "      <td>2014</td>\n",
              "      <td>3.50</td>\n",
              "    </tr>\n",
              "    <tr>\n",
              "      <th>1301</th>\n",
              "      <td>Pitch Dark</td>\n",
              "      <td>U.S.A.</td>\n",
              "      <td>Trinitario</td>\n",
              "      <td>Akesson Estate</td>\n",
              "      <td>Madagascar</td>\n",
              "      <td>73%</td>\n",
              "      <td>1311</td>\n",
              "      <td>2014</td>\n",
              "      <td>3.25</td>\n",
              "    </tr>\n",
              "    <tr>\n",
              "      <th>1483</th>\n",
              "      <td>Smooth Chocolator, The</td>\n",
              "      <td>Australia</td>\n",
              "      <td>Trinitario</td>\n",
              "      <td>Akesson's Estate</td>\n",
              "      <td>Madagascar</td>\n",
              "      <td>65%</td>\n",
              "      <td>1618</td>\n",
              "      <td>2015</td>\n",
              "      <td>3.25</td>\n",
              "    </tr>\n",
              "    <tr>\n",
              "      <th>1484</th>\n",
              "      <td>Smooth Chocolator, The</td>\n",
              "      <td>Australia</td>\n",
              "      <td>Trinitario</td>\n",
              "      <td>Akesson's Estate</td>\n",
              "      <td>Madagascar</td>\n",
              "      <td>70%</td>\n",
              "      <td>1622</td>\n",
              "      <td>2015</td>\n",
              "      <td>3.50</td>\n",
              "    </tr>\n",
              "  </tbody>\n",
              "</table>\n",
              "</div>"
            ],
            "text/plain": [
              "                     Company Company Location  ... Review Date Rating\n",
              "807                  Hogarth      New Zealand  ...        2016   2.75\n",
              "1109                Metiisto           Sweden  ...        2014   3.50\n",
              "1301              Pitch Dark           U.S.A.  ...        2014   3.25\n",
              "1483  Smooth Chocolator, The        Australia  ...        2015   3.25\n",
              "1484  Smooth Chocolator, The        Australia  ...        2015   3.50\n",
              "\n",
              "[5 rows x 9 columns]"
            ]
          },
          "metadata": {
            "tags": []
          },
          "execution_count": 34
        }
      ]
    },
    {
      "cell_type": "markdown",
      "metadata": {
        "id": "htWHPgw3OUJE"
      },
      "source": [
        "It is interesting that all of the bean types and origins are alike. It looks like Akesson('s) Estate serves many companies though.\n",
        "\n",
        "It is tempting to go ahead and change the \"Specific Bean Origin\" values to make them match, but it is better to do more research into the industry before making those sorts of changes. You might disagree with this decision, and that is perfectly fine. When working with datasets, you will often have to make difficult calls to deal with ambiguous data. Different people will make different decisions, and that's okay.\n",
        "\n",
        "The \"Ambolikapkly P.\" issue is a little more obvious and can be validated with a quick internet search. The \"Ambolikapkly\" spelling shows up very few times and always in the context of this data set. The other spelling is much more common. Let's go ahead and fix that."
      ]
    },
    {
      "cell_type": "code",
      "metadata": {
        "id": "4XB8MPWLO0ZC"
      },
      "source": [
        "df.loc[df['Specific Bean Origin'] == 'Ambolikapkly P.', \n",
        "       'Specific Bean Origin'] = 'Ambolikapiky P.'"
      ],
      "execution_count": null,
      "outputs": []
    },
    {
      "cell_type": "markdown",
      "metadata": {
        "id": "Lrm76h5vPORJ"
      },
      "source": [
        "#### Exercise 4: Finding and Repairing Bad Data\n",
        "\n",
        "There are a few more obvious errors in the 'Specific Bean Origin' column of the dataset. Print out the column, scan the output, and see if you can find any more errors. Write the code to fix the errors. Find at least one error to fix.\n",
        "\n",
        "The code to print the dataset is below."
      ]
    },
    {
      "cell_type": "code",
      "metadata": {
        "id": "0yYMKfmIPqOh",
        "colab": {
          "base_uri": "https://localhost:8080/"
        },
        "outputId": "630c8f8e-b029-42ac-ebcb-7cb3ca8aea90"
      },
      "source": [
        "for origin in sorted(df['Specific Bean Origin'].unique()):\n",
        "  print(origin)"
      ],
      "execution_count": null,
      "outputs": [
        {
          "output_type": "stream",
          "text": [
            "\"heirloom\", Arriba Nacional\n",
            "100 percent\n",
            "2009 Hapa Nibby\n",
            "A case of the Xerces Blues, triple roast\n",
            "ABOCFA Coop\n",
            "Abinao\n",
            "Abstract S. w/ Jamaica nibs,batch abs60323.0\n",
            "Acarigua, w/ nibs\n",
            "Acopagro\n",
            "Acul-du-Nord, 2015\n",
            "Africa\n",
            "Africa meets Latina\n",
            "AgroCriso Plantation\n",
            "Agua Fria; Sucre region\n",
            "Agua Grande\n",
            "Akata\n",
            "Akesson Estate\n",
            "Akesson P.\n",
            "Akesson's E., Sambirano V.\n",
            "Akesson's Estate\n",
            "Akesson's, batch 4411\n",
            "Akessons Estate, Sambirano, 2013\n",
            "Akessons Estate, Sambirano, Ambanja\n",
            "Akosombo\n",
            "Almendra Blanca, batch 1004\n",
            "Alpaco\n",
            "Alta Verapaz, 2014\n",
            "Alto Beni\n",
            "Alto Beni, Covendo Region\n",
            "Alto Beni, Cru Savage\n",
            "Alto Beni, Palos Blanco\n",
            "Alto Beni, Palos Blancos\n",
            "Alto Beni, Upper Rio Beni, 2014\n",
            "Alto Beni, Upper Rio Beni, 2015\n",
            "Alto Beni, Wild Bolivian\n",
            "Alto Beni, Wild Harvest, Itenez R. 24hr c.\n",
            "Alto Beni, Wild Harvest, Itenez R., 60hr c.\n",
            "Alto Beni, Wild Harvest, Limited Ed.\n",
            "Amazon Basin Blend\n",
            "Amazonas\n",
            "Amazonas Frucht\n",
            "Amazonas w/ nibs\n",
            "Amazonia\n",
            "Ambanja, Sambirano Valley\n",
            "Ambanja, Tsara Valley\n",
            "Ambanja, batch 1 SRB\n",
            "Ambolikapiky\n",
            "Ambolikapiky P.\n",
            "Amina\n",
            "Andoa, Grand Cru blend\n",
            "Ankasa\n",
            "Anselmo Paraiso Estate\n",
            "Antigua, Special Reserve\n",
            "Antilles (Trin/Gren/DR/Ven)\n",
            "Apurimac\n",
            "Apurimac, El Quinacho Co-op\n",
            "Aragua, Trincheras\n",
            "Araguani\n",
            "Aranama\n",
            "Arauca\n",
            "Arawak\n",
            "Arhuacos\n",
            "Arriba\n",
            "Asajaya E, NW Borneo, b. #132/4500\n",
            "Asante\n",
            "Asochivite, batch 1005\n",
            "Atsane\n",
            "Australia\n",
            "Autumn, Primary Harvest, 2012\n",
            "Ayacucho, \"El Guinacho\"\n",
            "Ba Lai\n",
            "Ba Ria\n",
            "Ba Ria Vung Tau Province\n",
            "Bachelor's Hall E., St. Thomas Parish\n",
            "Bahia\n",
            "Bahia Black, batch bra50722.1\n",
            "Bahia Brazil, Fazenda Sao Pedro\n",
            "Bahia Superior\n",
            "Bahia, Agri-Forestal Plantation, 2010\n",
            "Bahia, Batch 148\n",
            "Bahia, Fazenda Camboa\n",
            "Bahia, Fazenda Venturosa\n",
            "Bahia, Floresta Azul,Good Friends Reserve#3\n",
            "Bahia, Scavina\n",
            "Bahia, batch a1213\n",
            "Baking\n",
            "Bali\n",
            "Bali (west), Sukrama Family, Melaya area\n",
            "Bali, Jembrana\n",
            "Bali, Singaraja\n",
            "Bali, Sukrama Bros. Farm, Melaya, 62hr C\n",
            "Balinese, Java\n",
            "Bambamarca, 2015\n",
            "Baracoa\n",
            "Baracoa, Cuba\n",
            "Barba, Xoco\n",
            "Barinas\n",
            "Barlovento, Venezuela\n",
            "Bayou Blend\n",
            "Belize\n",
            "Belize south\n",
            "Belize south, low fermentation\n",
            "Belize, 2013\n",
            "Belize, 2014 Harvest, Batch 9\n",
            "Belize, Batch 2\n",
            "Belize, med roast\n",
            "Bellavista Coop, #225, LR, MC, CG Exclusive\n",
            "Bellavista Gran Pajeten, San Martin\n",
            "Ben Tre\n",
            "Ben Tre, Dong Nai\n",
            "Ben Tre, Mekong Delta\n",
            "Ben Tre, Mekong Delta, MoCay\n",
            "Ben Tre, Surprise Valley\n",
            "Beniamo\n",
            "Birmanie\n",
            "Bittersweet\n",
            "Black Science Blend 1\n",
            "Blend\n",
            "Blend No. 1\n",
            "Blue Mountain\n",
            "Blue Mountain Region\n",
            "Bocas del Toro\n",
            "Bocas del Toro, Cocabo Co-op\n",
            "Bocas del Toro, Tierra Oscura\n",
            "Bolivar\n",
            "Bolivar, Arriba\n",
            "Bolivar, Guaranda\n",
            "Bolivia\n",
            "Bolivia, Bo-nib-ia, w/ nibs\n",
            "Bolivia, Wild Thing\n",
            "Bolivian\n",
            "Boyaca, Aprocampa Coop, Pauna\n",
            "Brazil\n",
            "Brazil Blend\n",
            "Brazil Rio Doce\n",
            "Brazil, Batch 20316\n",
            "Brazil, Mitzi Blue\n",
            "Brazilian\n",
            "Brooklyn Blend\n",
            "Bundibugyo\n",
            "Bundibugyo District\n",
            "Buto\n",
            "CIAAB Coop\n",
            "CSB Chama\n",
            "Cabosse\n",
            "Cacao Blanco\n",
            "Cacao Nacional W.F.\n",
            "Cacao Nib Crunch\n",
            "Cacao Verapaz\n",
            "Cahabon\n",
            "Cahabon Region\n",
            "Camahogne\n",
            "Camino Verde\n",
            "Camino Verde P., 2012, Balao, Guayas\n",
            "Camino Verde P., Balao, 2015 harvest, batch8\n",
            "Camino Verde P., Balao, Guayas\n",
            "Camino Verde P., Balao, Guayas, \"Floral\"\n",
            "Camino Verde P., Balao, Guayas, \"Fruity\"\n",
            "Camino Verde P., Balao, Guayas, 2012\n",
            "Camino Verde P., Balao, Guayas, 2013\n",
            "Camino Verde P., Balao, Guayas, 2014\n",
            "Camino Verde, Balao, Guayas\n",
            "Camino Verde, Black S., batch cvu6030.0\n",
            "Camino Verde, Guayas\n",
            "Campesino w/ nibs\n",
            "Canoabo\n",
            "Canoabo, 2013\n",
            "Canoabo, Hacienda San Jose\n",
            "Capistrano\n",
            "Capistrano*\n",
            "Caracas, Venezuela and Ghana\n",
            "Caraibe\n",
            "Caranero, Choc. Garage Exclusive\n",
            "Caraque\n",
            "Carenero\n",
            "Carenero S., Barlovento, Grand Cru\n",
            "Carenero Superior\n",
            "Carenero Superior, #203, MR, SC\n",
            "Carenero Superior, Apamate\n",
            "Carenero Superior, Bucare\n",
            "Carenero Superior, Concepcion\n",
            "Carenero Superior, Gran Saman\n",
            "Carenero Superior, Mijao\n",
            "Carenero Superior, Urrutia, Barlovento\n",
            "Carenero, Empyrean Sabor\n",
            "Carenero, Guapiles, Ocumare blend\n",
            "Caribe\n",
            "Carre Amer\n",
            "Carre Grand Noir\n",
            "Carribean\n",
            "Carribean-Raw\n",
            "Carupano, H. San Jose\n",
            "Castillo, Hispaniola, unroasted\n",
            "Catongo\n",
            "Cedeno, lot 271\n",
            "Cesar\n",
            "Ceylan\n",
            "Chanchamayo Province\n",
            "Chanchamayo, Pichanadi, 2012, 60hr c.\n",
            "Chef's Blend\n",
            "Chiapan\n",
            "Chiapas\n",
            "Chiapas, Lacandon Jungle\n",
            "Chiapas, Lacandon Jungle, Oaxacom Mtn\n",
            "Chiapas, Mokaya P.\n",
            "Chiapas, Triple Cacao\n",
            "Chimelb, Lanquin, Alta Verapaz, b-GUA001\n",
            "Chocoan Rainforest, Teroro Escondido, ESM\n",
            "Chocolatey-beta\n",
            "Choobua, Kona\n",
            "Choroni\n",
            "Choroni, Finca Torres, 48hr c.\n",
            "Chuao\n",
            "Chuao 100hr\n",
            "Chuao 2002 P.\n",
            "Chuao 70hr\n",
            "Chuao, #217, DR, MC\n",
            "Chuao, #218, MR, MC\n",
            "Chuao, Aragua region\n",
            "Chuao, Dark Roast\n",
            "Chuao, Hacienda San Jose\n",
            "Chuao, Light Roast\n",
            "Chuao, Mantuano blend\n",
            "Chuao, Med. Roast\n",
            "Chuao, Venezuela\n",
            "Chuao, batch 3\n",
            "Chucuri\n",
            "Chulucanas, Batch 1\n",
            "Chulucanas, El Platanal\n",
            "Chuno\n",
            "Chuno, San Jose de Bocay, Pantasma R.,B.S.\n",
            "Chuno, Xoco\n",
            "Chuno, double turned, Xoco\n",
            "Chuno, triple turned, Xoco\n",
            "Citrus-beta\n",
            "Classic\n",
            "Claudio Corallo w/ nibs\n",
            "Colombia\n",
            "Colombia, Batch 9\n",
            "Colombia, Casa Luker\n",
            "Colombian\n",
            "Colombian 2008\n",
            "Colombian Dark\n",
            "Colombian Semi Dark\n",
            "Colombian w/ nibs\n",
            "Colombie\n",
            "Complexite\n",
            "Conacado\n",
            "Conacado Coop\n",
            "Conacado, #212, LR, SC\n",
            "Conacado, #213, DR, -C\n",
            "Conacado, #223, MR, SC\n",
            "Conacado, #224, MR, MC\n",
            "Conacado, 2012, 120hr c.\n",
            "Conacado, Manifesto\n",
            "Concepcion\n",
            "Concepcion*\n",
            "Congo\n",
            "Congo w/ nibs\n",
            "Congo, Gorilla bar\n",
            "Congo, Grand Cru\n",
            "Coopertiva Amazona\n",
            "Coopertiva Amazona w/ nibs\n",
            "Cooproagro\n",
            "Corazon del Ecuador, Calceta beans\n",
            "Cordoba\n",
            "Corona Arriba\n",
            "Cortes\n",
            "Costa Esmeraldas\n",
            "Costa Rica\n",
            "Costa Rica, Oscuro\n",
            "Cota Brus, Terciopelo, 2015\n",
            "Coto Brus\n",
            "Coto Brus, Heirloom, Batch 1\n",
            "Coto Brus, Terciopelo\n",
            "Coucher du Soleil\n",
            "Crayfish Bay Estate, 2014\n",
            "Crayfish Bay aka Non Pariel Estate\n",
            "Crazy 88\n",
            "Criollo Blend\n",
            "Criollo, Dominican Republic\n",
            "Criollo, Hawaii\n",
            "Crudo\n",
            "Cuana, 2008\n",
            "Cuana, 2013\n",
            "Cuba\n",
            "Cuba, Batch 59/100\n",
            "Cumbia\n",
            "Cumboto, farmer Jose Lugo\n",
            "Cusco\n",
            "Cusco, Cacao Cusco\n",
            "Cuyagua\n",
            "Cuyagua Village\n",
            "Cuyagua, 2013\n",
            "D.R. Congo, Cru Virunga\n",
            "DUO, batch 002\n",
            "Daintree Estates, N. Queensland\n",
            "Dak Lak, Batch 2451\n",
            "Dancing in Your Head, 5 bean blend\n",
            "Dark\n",
            "Dark 67\n",
            "Dark 75\n",
            "Dark, Stone Ground\n",
            "Davao\n",
            "Davao, Mt. Talamo foothills\n",
            "Diego 48hr/ W.F. blend prototype\n",
            "Diego 60hr/ W.F. blend prototype\n",
            "Diego/ original micro\n",
            "Djakarta, Java and Ghana\n",
            "Djual Island\n",
            "Dominican\n",
            "Dominican Republic\n",
            "Dominican Republic prototype\n",
            "Dominican Republic w/ nibs\n",
            "Dominican Republic, \"Love Bar\"\n",
            "Dominican Republic, Batch 3\n",
            "Dominican Republic, Batch 31616\n",
            "Dominican Republic, Batch D2\n",
            "Dominican Republic, Coop\n",
            "Dominican Republic, batch 7\n",
            "Dominican Republic, lot D82R\n",
            "Dominican Republic, rustic\n",
            "Dominican Republic-Organic\n",
            "Dominican Republicm, rustic\n",
            "Don Homero- Cerecita Valley\n",
            "Dong Nai\n",
            "Dos Rios\n",
            "Downtown London\n",
            "Dual Origins, Sambirano, Elvesia\n",
            "Duarte Province\n",
            "Duarte, Batch 360\n",
            "Duo- Gran Couva & Camino Verde\n",
            "Eastern Promises\n",
            "Ecuador\n",
            "Ecuador Puristique\n",
            "Ecuador, 2013\n",
            "Ecuador, Batch 1\n",
            "Ecuador, Batch 31516\n",
            "Ecuador, Bob Bar\n",
            "Ecuador, Choc. Garage Exclusive\n",
            "Ecuador, Midnight Dark\n",
            "Ecuador, Puristique\n",
            "Ecuador, Twilght Dark\n",
            "Ecuador, lot E432314L\n",
            "Ecuador, raw\n",
            "Ecuador, w/ nibs\n",
            "El Carmen, batch 1003\n",
            "El Ceibo Coop\n",
            "El Oro\n",
            "El Oro, Hacienda de Oro\n",
            "El Salvador\n",
            "Elvesia\n",
            "Elvesia P.\n",
            "Elvesia P., Batch 32\n",
            "Elvesia P., Black Science\n",
            "Elvesia, 2011\n",
            "Emerald Estate\n",
            "Epique, Blend No. 49\n",
            "Equateur\n",
            "Equator\n",
            "Esmeraldas\n",
            "Esmeraldas, Salazar Farm\n",
            "Espada\n",
            "Espiritu Santo, 'Smoke Monster'\n",
            "Excellence (US Version)\n",
            "Extra Dark\n",
            "Fazenda Camboa\n",
            "Fazenda Camboa, Bahia\n",
            "Fazenda Leolinda\n",
            "Fazenda Sempre Firme P., Bahia\n",
            "Fazenda Sempre Firme, Bahia\n",
            "Finisterra\n",
            "Fleur de Cacao\n",
            "Fortissima\n",
            "French Laundry 20th Anniversary\n",
            "Fruity-beta\n",
            "Gabon\n",
            "Garaua\n",
            "Ghana\n",
            "Ghana Puristique\n",
            "Ghana prototype\n",
            "Ghana, #211, MR, MC\n",
            "Ghana, 2013\n",
            "Ghana, 2013, batch 129\n",
            "Ghana, Kumasi\n",
            "Ghana, Panama, Ecuador\n",
            "Ghana, prototype\n",
            "Goddess Blend\n",
            "Goodman Estate\n",
            "Gran Blanco\n",
            "Gran Couva\n",
            "Gran Couva 2005 P.\n",
            "Grand 'Anse\n",
            "Grand Cru Blend No.1, 5 yr. Anniversary Ed\n",
            "Grand Cru Dominican Republic\n",
            "Grand Cru Ecuador\n",
            "Grand Cru Ghana\n",
            "Granella\n",
            "Grenada\n",
            "Grenada, Black Science\n",
            "Grenade\n",
            "Gru Grococo, St. Andrews\n",
            "Gruppo Salinas\n",
            "Guadalcanal\n",
            "Guadeloupe\n",
            "Guanaja\n",
            "Guaniamo\n",
            "Guaniamo, Amazonas\n",
            "Guantupi River\n",
            "Guapiles\n",
            "Guasare\n",
            "Guasare, La Sierra de Perija, batch gua001\n",
            "Guasare, Zulia Prov.\n",
            "Guasare, Zulia Prov., 2015, batch 124\n",
            "Guatemala\n",
            "Guayas\n",
            "Guyave\n",
            "Hacienda Las Trincheras\n",
            "Hacienda Victoria\n",
            "Hacienda la Trinidad\n",
            "Haiti\n",
            "Haleiwa E, O'ahu, 2014\n",
            "Haleiwa, O'ahu; Lonohana E., Kanahiku\n",
            "Ham Luong\n",
            "Hamakua Coast, Kokoleka\n",
            "Hamakua, Hawaiian Crown, #176\n",
            "Haut Penja, w/ nibs\n",
            "Hawai'i, Kona Estate Grown\n",
            "Hawai'i, Kona Grand Cru E.\n",
            "Hawaiian Crown, Kona Vanilla\n",
            "Hawaiian, Big Island\n",
            "Hilo\n",
            "Hilo, w/ added cocoa butter\n",
            "Hispaniola\n",
            "Hispaniola w/ nibs\n",
            "Hispaniola, 2008\n",
            "Hispaniola, 2013\n",
            "Hispaniola, batch 170104\n",
            "Honduras\n",
            "House Blend, Batch 2\n",
            "Houseblend\n",
            "Huallabamba, 2015\n",
            "Huila\n",
            "Huiwani Coop\n",
            "IL100, H. San Jose\n",
            "Ilblend\n",
            "India\n",
            "India (south)\n",
            "Indianer, Raw\n",
            "Indigena Amazonia, Grand Cru, Quizas\n",
            "Indio Rojo, Xoco\n",
            "Indonesia\n",
            "Island Growers, 120hr c.\n",
            "Island Growers, 2012, 120hr c.\n",
            "Island Growers, 96hr c.\n",
            "Ivory Coast\n",
            "Ivory Coast, Batch 56/100\n",
            "Jamaica\n",
            "Jamaica a l'ancienne\n",
            "Jamaica, #204, DR, SC\n",
            "Jamaica, #205, DR, MC\n",
            "Jamaica, #206, DR, LC\n",
            "Jamaica, #209, DR, SC\n",
            "Jamaica, #210, DR, MC\n",
            "Jamaique\n",
            "Java\n",
            "Java, Grand Cru\n",
            "Java, Indonesian Black\n",
            "Java, Indonesie\n",
            "Java, Javablond\n",
            "Johe\n",
            "Johe, Xoco\n",
            "Juliana\n",
            "Jutiapa, lot 050916D\n",
            "Kafupbo, Petit Bourg, De Borgnes\n",
            "Kakao Kamili, Kilombero Valley\n",
            "Kakoa Kamili, Both Man & Bird & Beast\n",
            "Kaori\n",
            "Kaua'I, Alea Estate +world\n",
            "Kaua'i\n",
            "Kendari\n",
            "Kendem Lembu, Java\n",
            "Kerala State\n",
            "Kilombero Valley\n",
            "Kilombero, batch 41\n",
            "Kokoa Kamili\n",
            "Kokoa Kamili Coop\n",
            "Kokoa Kamili Coop, Kilombero\n",
            "Kokoa Kamili, batch 1 SRB\n",
            "Kolumbia\n",
            "Kongo, Highlands\n",
            "Kpime\n",
            "Kulili Estate\n",
            "Kulili P., 2013\n",
            "Kumasi Sambirano\n",
            "Kuruba\n",
            "La Bahia, w/ cane juice\n",
            "La Bahia, w/ cane sugar\n",
            "La Dalia\n",
            "La Dalia, Matagalpa\n",
            "La Dalia, Matagalpa,cacao Bisesto,green label\n",
            "La Dorado, light roast\n",
            "La Masica, Batch 1, FHIA Research Center\n",
            "La Masica, Batch 7, FHIA\n",
            "La Masica, FHIA\n",
            "La Patriota, cacao Indio, purple label\n",
            "La Red\n",
            "La Red de Guanconejo, N. Highlands coop\n",
            "La Red, 2011\n",
            "La Red, Guaconejo\n",
            "La Red, Guanconjeco\n",
            "La Red, Project Reserva, Guaconejo\n",
            "La Selva\n",
            "La Tronca, Matagalpa\n",
            "Lachua\n",
            "Lachua w/ cane sugar\n",
            "Lachua w/ maple sugar, batch 5\n",
            "Lachua, Q'egchi families\n",
            "Lacri Blend\n",
            "Lago di Como, Blu\n",
            "Lam Dong\n",
            "Lam Dong, Batch 153\n",
            "LamasdelChanka, San Martin, Oro Verde coop\n",
            "Lanquin Estate\n",
            "Las Acacias E.\n",
            "Las Islas\n",
            "Latino\n",
            "Le Chocolat Chaud\n",
            "Le Noir Amer\n",
            "Le Noir Extra Amer\n",
            "Lever du Soleil\n",
            "Libanio\n",
            "Liberia\n",
            "Liberia, #174\n",
            "Little Big Man\n",
            "Loma Los Pinos, Yacao region, D.R.\n",
            "Loma Sotavento\n",
            "Loma Sotavento, 2013\n",
            "Los Ancones P.\n",
            "Los Colorados, Santo Domingo, Equateur\n",
            "Los Llanos\n",
            "Los Rios\n",
            "Los Rios, H. Iara\n",
            "Los Rios, H. Iara, 2012\n",
            "Los Rios, H. Iara, 2012, 120hr c.\n",
            "Los Rios, H. Iara, 96hr c.\n",
            "Los Rios, Hacienda Limon, Heirloom\n",
            "Los Rios, Hacienda Limon, Orecao, 2014\n",
            "Los Rios, Hacienda Limon, Orecao, 2015\n",
            "Los Rios, Puerto Romero, Equateur\n",
            "Los Rios, Quevedo\n",
            "Los Rios, Quevedo, Arriba\n",
            "Los Rios, Rancho Grande 2004/2007\n",
            "Los Rios, Rancho Grande 2007\n",
            "Los Rios, Vinces\n",
            "Los Ujuxtes\n",
            "Lumas, 2015 Harvest, Batch 6, brown sugar\n",
            "Lumas, 2015 Harvest, Batch 7\n",
            "Mababa\n",
            "Machu Pichu\n",
            "Macondo\n",
            "Macuare; Miranda; Chloe formula\n",
            "Madagared\n",
            "Madagascar\n",
            "Madagascar w/ nibs\n",
            "Madagascar, 100% criollo\n",
            "Madagascar, Ambolikapiky P.\n",
            "Madagascar, Batch 2\n",
            "Madagascar, Batch 59/100\n",
            "Madagascar, Batch 8\n",
            "Madagascar, Grand Cru\n",
            "Madagascar, Nosy Be Isle.\n",
            "Madagascar, Sassy Bar\n",
            "Madagascar, lot M0403R\n",
            "Madagascar, w/ shell\n",
            "Mahali, Kasai\n",
            "Makwale Village, Kyela\n",
            "Maleku\n",
            "Malekula Island\n",
            "Malekula P., 2013\n",
            "Malgascio\n",
            "Manabi\n",
            "Mangaro P.\n",
            "Manhattan\n",
            "Manickchand Estate\n",
            "Manjari\n",
            "Mantuano\n",
            "Mantuano, 2012\n",
            "Mara\n",
            "Marabel Farms\n",
            "Maracaibo\n",
            "Maracaibo Clasificado\n",
            "Maracaibo, El Rosario\n",
            "Maracaibo, El Vigia\n",
            "Maragda\n",
            "Maragnam\n",
            "Maralumi P.\n",
            "Maranon\n",
            "Maranon Canyon\n",
            "Maranon Canyon, Fortunato No. 4\n",
            "Maranon, #227, LR, MC\n",
            "Maranon, #228, MR, SC\n",
            "Maranon, #229, MR, LC\n",
            "Maranon, #230, DR, LC\n",
            "Maranon, 2014\n",
            "Maranon, Cajamarca\n",
            "Maranon, Fortunato No. 4\n",
            "Maranon, Good & Evil, w/ nibs\n",
            "Maranon, Joya Rara\n",
            "Maranon, batch 2\n",
            "Maranura\n",
            "Marcial, single Cote, 2012\n",
            "Markham Valley\n",
            "Markham Valley, #219, LR, MC\n",
            "Markham Valley, #220, MR, MC\n",
            "Markham Valley, #221, DR, MC\n",
            "Markham Valley, #222, LR, 0C\n",
            "Matagalpa\n",
            "Matagalpa, Cacao Bisiesto\n",
            "Matasawalevu\n",
            "Matiguas\n",
            "Matina 1-6, prototype\n",
            "Maunawili, O'ahu, Agri Research C., 2014\n",
            "Maunawili, O'ahu, Agri Research C., 2015\n",
            "Maya Belize\n",
            "Maya Mountain\n",
            "Maya Mountain w/ nibs\n",
            "Maya Mountain, Toledo, Batch 29\n",
            "Maya Mtn\n",
            "Maya Mtn, Batch 18, Heirloom\n",
            "Maya Mtn, Batch 454, Heirloom\n",
            "Maya Mtn, Moho R., Toledo D.\n",
            "Maya Mtn, Moho R., Toledo D., 2015\n",
            "Maya Mtn., Break Bar- Snark\n",
            "Medagla, Xoco\n",
            "Mekong Delta & Dong Nai\n",
            "Mekong Delta, early 2014 Harvest\n",
            "Mexico\n",
            "Mexico, Lot 28022016\n",
            "Mid Mountain, 2014\n",
            "Midnight\n",
            "Millot P., Ambanja\n",
            "Millot Plantation\n",
            "Mindo\n",
            "Misterio\n",
            "Moho River\n",
            "Moho River Valley\n",
            "Moho Valley\n",
            "Mombacho\n",
            "Momotombo\n",
            "Montanya\n",
            "Monte Alegre (Itacare), Brazil\n",
            "Monte Alegre, 3 diff. plantations\n",
            "Monte Alegre, D. Badaro, Raw, Organic\n",
            "Monte Alegre, D. Badero\n",
            "Monte Alegre, Diego Badero\n",
            "Montubia\n",
            "Mora Mora 2006\n",
            "Morobe\n",
            "Morogoro\n",
            "Morropon, Norandiono Coop, Piura\n",
            "Moxos\n",
            "Nacional\n",
            "Namau Village\n",
            "Namau Village, N. Taileva P., batch a2812\n",
            "Napa\n",
            "Nativo, Varzea\n",
            "Nature\n",
            "New Ireland\n",
            "Nibby\n",
            "Nicaliso, Xoco\n",
            "Nicalizo\n",
            "Nicaragua\n",
            "Nicaragua, American style\n",
            "Nicaragua, w/ inbs\n",
            "Nicaraqua\n",
            "Nigeria\n",
            "Nine\n",
            "Nocturne\n",
            "Noir\n",
            "Noir Infini\n",
            "Non Pariel Estate\n",
            "Norandino, batch 161208\n",
            "Noula Coop\n",
            "Nourish\n",
            "Nube- prototype\n",
            "Nutty-beta\n",
            "Nyangbo\n",
            "O'Payo\n",
            "O'ahu\n",
            "O'ahu, N. Shore, Waialua E., Kakoleka\n",
            "O'ahu, N. Shore, Waialua Estate\n",
            "O'ahu, N. Shore, Waialua Estate w/ nibs\n",
            "O'payo, Waslala\n",
            "Oahu, Winward, #151, Maunawili district\n",
            "Ocumare\n",
            "Ocumare 61\n",
            "Ocumare 61, Puertomar\n",
            "Ocumare 67, Puertofino\n",
            "Ocumare 77\n",
            "Ocumare de la Costa\n",
            "Ocumare, Cumboto\n",
            "Ocumare, H. Cata, 48hr c.\n",
            "Ocumare, H. Cata, w/ nibs\n",
            "Ocumare, Premier Cru, Quizas No. 2\n",
            "Ocumare, Puerto Cabello\n",
            "Ocumare, Puerto Cabello, Venezuela\n",
            "Ocumare, Venezuela\n",
            "Ocumare, prototype\n",
            "Oko Caribe\n",
            "Oko Caribe, DOR005\n",
            "Oko Caribe, Duarte P.\n",
            "Oko Caribe, Duarte P., Collab w Chocosol\n",
            "Oko Caribe, Duarte Province, 2016 H.\n",
            "Oko Caribe, batch 1 SRB\n",
            "One Hundred\n",
            "Onyx\n",
            "Opaeula Estate, O'ahu, Ele'ele\n",
            "Opaeula Estate, O'ahu, Nene, CG Exclusive\n",
            "Organic Dark\n",
            "Orinoco\n",
            "Orinoqua Region, Arauca\n",
            "Oro\n",
            "Oscuro\n",
            "Oscuro, Finca Chimelb\n",
            "Otucan, Grand Cru\n",
            "PNG, Devotion\n",
            "PNG, Nib Bar\n",
            "PNG, Revolution\n",
            "PNG, Voodoo\n",
            "Pablino\n",
            "Palo Blanco w/ panela, Chulucanas\n",
            "Palo Blanco, Chulucanas\n",
            "Palos Blancos\n",
            "Palos Blancos + nibs\n",
            "Panama\n",
            "Panama, Raven\n",
            "Pangoa\n",
            "Pangoa, w/ nibs\n",
            "Papaua New Guinea\n",
            "Papouasie\n",
            "Papua\n",
            "Papua Kerafat\n",
            "Papua New Guinea\n",
            "Papua New Guinea, Batch 2\n",
            "Papua New Guinea, triple roast, batch 1\n",
            "Paramaribo, batch 20160043-01\n",
            "Patanemo\n",
            "Patanemo Vil., Carabobo State, Tisano family\n",
            "Patanemo, Epoch, Donaldo\n",
            "Pepiniere, single Cote\n",
            "Perfect Illusion\n",
            "Perla Negra\n",
            "Peru\n",
            "Peru + nibs\n",
            "Peru Brutus\n",
            "Peru, Awagum bar\n",
            "Peru, Batch 1\n",
            "Peru, Batch 51/100\n",
            "Peru, Las Pampas P.\n",
            "Peru, Madagascar\n",
            "Peru- Ecuador\n",
            "Peruvian\n",
            "Peruvian Amazon\n",
            "Phantom\n",
            "Philly Blend, 5 plantations\n",
            "Piaroa, Amazonas, Batch 350\n",
            "Pichincha\n",
            "Pinchincha, Mindo, Coop Nueva Esper., 2015\n",
            "Pisa\n",
            "Piura\n",
            "Piura Blanco\n",
            "Piura Blanco, Norandino\n",
            "Piura Select, Cacao Blanc\n",
            "Piura, Apotequil, \"Porcelana\" 72hr c.\n",
            "Piura, Blanco de Criollo\n",
            "Piura, Choc. Garage Exclusive\n",
            "Piura, Illanka, Quemazon\n",
            "Piura, Perou\n",
            "Porcelana\n",
            "Porcelana, Apotequil\n",
            "Porcelana, Batch 5163\n",
            "Porcelana, Colombia, Amazonas\n",
            "Porcelana, Maracaibo, Palmira P. 2005\n",
            "Porcelana, Maracaibo, Palmira P. 2006\n",
            "Porcelana, Pariguan\n",
            "Porcelana, Pedegral\n",
            "Porcelana, Premier Cru, Quizas No. 1\n",
            "Porcelana, S. of Lake Maracaibo\n",
            "Porcelana, Sorotaima,Machiques,batch pcl001\n",
            "Porcelana, Tabasco\n",
            "Porcelana, Tabasco, Finca La Joya\n",
            "Porcelana, Tabasco, La Joya\n",
            "Porcelana, Tabasco, Limited Ed.\n",
            "Porcelana, Tabasco, Marfil de Blanco\n",
            "Porcelana, Tabasco, Mexico\n",
            "Porcelana, Venezuela\n",
            "Porcelana, Zulia\n",
            "Presidio\n",
            "Principe\n",
            "Puerto Cabello\n",
            "Puerto Cabello, Mantuano\n",
            "Puerto Plata\n",
            "Puerto Quito, heirloom\n",
            "Puerto Rico\n",
            "Punta Galera, cacao Nacional, gold label\n",
            "Purple Haze\n",
            "Quetzalcoatl\n",
            "Quilla\n",
            "Quito\n",
            "ROIG\n",
            "ROIG, 2014\n",
            "Rainforest\n",
            "Raw\n",
            "Red Mayan, Xoco\n",
            "Red Vanilla\n",
            "Rico Rugoso, Xoco\n",
            "Rio Arriba\n",
            "Rio Caribe\n",
            "Rio Caribe Superior, Paria Penninsula\n",
            "Rio Caribe, Batch 7\n",
            "Rio Caribe, Cariaco\n",
            "Rio Caribe, Macuro\n",
            "Rio Caribe, Paria Penninsula\n",
            "Rio Caribe, Tepui Treasure\n",
            "Rio Dulce, Xoco\n",
            "Rio Eni\n",
            "Rio Peripa H.\n",
            "Rio Tuma\n",
            "Rizek Cacao, Cibao Valley, Domin. Rep.\n",
            "Rizek Cacao, Domin. Rep.\n",
            "Roberto\n",
            "Robson Estate\n",
            "Roxborough, Tobago\n",
            "Rugoso\n",
            "Rugoso, Bad Fermentation\n",
            "Rugoso, Xoco\n",
            "Saidor Estate, Madang P.\n",
            "Samana\n",
            "Samar, East Visayas region\n",
            "Sambirano\n",
            "Sambirano 2006\n",
            "Sambirano Valley\n",
            "Sambirano Valley, #214, LR, MC\n",
            "Sambirano Valley, #215, MR, MC\n",
            "Sambirano Valley, #216, MR, LC\n",
            "Sambirano Valley, 2012\n",
            "Sambirano Valley, Black Science, B-60307.0\n",
            "Sambirano Valley, Le 100%\n",
            "Sambirano Valley, batch 2477\n",
            "Sambirano, 2008\n",
            "Sambirano, 2009\n",
            "Sambirano, Akesson Estate\n",
            "Sambirano, Ambanja\n",
            "Sambirano, Ambanja, Madagascar\n",
            "Sambirano, Ampamakia 2005, Millot P.\n",
            "Sambirano, Menava P.\n",
            "Sambirano, batch 170102\n",
            "San Andres\n",
            "San Andres, American style\n",
            "San Andres, silk\n",
            "San Francisco de Macoris, Cibao region\n",
            "San Joaquin\n",
            "San Jose\n",
            "San Jose del Tambo\n",
            "San Juan\n",
            "San Juan Estate\n",
            "San Juan Estate, Cherry Blossoms at Night\n",
            "San Juan Estate, Gran Couva\n",
            "San Juan de Cheni\n",
            "San Martin\n",
            "San Martin, Amazonian Highlands\n",
            "San Martin, Batch 2\n",
            "San Martin, Bellavista Coop, #226, DR, MC\n",
            "Sang Yum Coop\n",
            "Sangre Grande P., Trinidad\n",
            "Santander\n",
            "Santo Domingo\n",
            "Sao Tome\n",
            "Sao Tome & Principe\n",
            "Sao Tome, Batch 151\n",
            "Satipo Pangoa region, 16hr conche\n",
            "Satipo Pangoa region, 20hr conche\n",
            "Satipo region, white label\n",
            "Selva\n",
            "Selva Maya\n",
            "Selvagem, Jari\n",
            "Semisweet\n",
            "Sensations Intense\n",
            "Serian E., NW Borneo, b. #134/3800\n",
            "Shake Shack\n",
            "Sharkey\n",
            "Sierra Nevada\n",
            "Sierra Nevada, Tutu Iku\n",
            "Signature Blend\n",
            "Silvestre, Batch 1, 2011\n",
            "Silvestre, Batch 7, 2013\n",
            "Silvestre, La Paz, Beni\n",
            "Sisa 36hr/ W. F. blend prototype\n",
            "Sisa's Secret/ original micro\n",
            "Solomon Island\n",
            "Solomon Island w/ nibs\n",
            "Somia Plantation\n",
            "Somia Plantation, 2012\n",
            "Somia Plantation, Akesson, 2012\n",
            "Somia Plantation, Sambirano, 70hr C\n",
            "Somia, 2013\n",
            "South America\n",
            "South America and Africa\n",
            "Special Maker Reserve\n",
            "Spring, Secondary Harvest, 2012\n",
            "Sri Lanka\n",
            "St. Lucia\n",
            "Star of Ecuador\n",
            "Star of Peru\n",
            "Suchitepequez E.\n",
            "Supremo- SF\n",
            "Sur del Lago\n",
            "Sur del Lago Classificado\n",
            "Sur del Lago, Amiari Meridena, Zulia, 48hr c.\n",
            "Sur del Lago, Amiari Meridena, Zulia, w/ nibs\n",
            "Sur del Lago, Merida\n",
            "Surfin\n",
            "Sylvestre, Oialla\n",
            "TCHOPro 60.5\n",
            "TCHOPro 68\n",
            "Tabasco\n",
            "Taino Secret\n",
            "Tainori\n",
            "Talamanca, Raul-Kekoldo community\n",
            "Tamarina\n",
            "Tan Phu Dong Island, Heart of Darkness\n",
            "Tan Phu Dong, Treasure Island\n",
            "Tangara\n",
            "Tanzania\n",
            "Tanzania, Party Bar\n",
            "Tanzania, batch a1\n",
            "Tapanti, light roast\n",
            "Tarakan\n",
            "Tawau, Oct. 2015 Harvest\n",
            "Tenende, Uwate\n",
            "Tenor\n",
            "Terreiro Velho P.\n",
            "Terreiro Velho P. w/ sugar crystals\n",
            "Teyuna\n",
            "The Other One, Grand Cru\n",
            "Three Amigos(Chuao, Wild Bolivia, D.R.)\n",
            "Tien Giang\n",
            "Tien Giang, 2015, batch 10-2-16\n",
            "Tien Giang, Black S., batch VIT60420.0\n",
            "Tien Giang, Gao Co-op\n",
            "Tien Giang, batch 1 SRB\n",
            "Tingo Maria\n",
            "Tobago\n",
            "Tokiala\n",
            "Toledo District\n",
            "Toledo District, 2015 Harvest\n",
            "Toledo District, Maya\n",
            "Toledo District, w/ nibs\n",
            "Tome Acu\n",
            "Tome Acu E., Amazon Rainforest\n",
            "Toscano Black\n",
            "Tranquilidad, Batch 1\n",
            "Tranquilidad, Baures\n",
            "Tres Hombres\n",
            "Trinatario Treasure\n",
            "Trincheras\n",
            "Trinidad\n",
            "Trinidad & Tobago\n",
            "Trinidad, Heritage, Limited ed.\n",
            "Trinidad-Tobago\n",
            "Trinitario\n",
            "Trinite\n",
            "Trintade, Sao Tome\n",
            "Tsaranta\n",
            "Tumaco\n",
            "Tumbes\n",
            "Tumbes Coop\n",
            "Tumbes, \"Zarumilla\"\n",
            "Tumbes, 2013 Harvest, Batch 8\n",
            "Tumbes, Batch 2\n",
            "Tumbes, Dear Mr. Finley, 2014\n",
            "Tumbes, Norandino\n",
            "Twilight\n",
            "UNOCACE\n",
            "Uba Budo\n",
            "Uganda\n",
            "Umoho R., Toledo District, San Felipe\n",
            "Upala\n",
            "Upala w/ nibs\n",
            "Upala, Batch 12\n",
            "Upala, Batch 18\n",
            "Uranga, Lot 22032016\n",
            "Vale do Juliana E., Atlantic Forest\n",
            "Vale do Juliana, w/ nibs\n",
            "Vanua Levu\n",
            "Vanua Levu, Ami-Ami-CA\n",
            "Vanua Levu, Toto-A\n",
            "Vanuatu\n",
            "Vanuatu, batch 2410\n",
            "Venezuela\n",
            "Venezuela, Trinidad\n",
            "Venezuela, batch 122\n",
            "Venezuela; Barinos, Merida, Tachron\n",
            "Venzuela\n",
            "Vietnam\n",
            "Vietnam, Batch 50/100\n",
            "Vila Gracinda\n",
            "Villa Andina\n",
            "Vinces\n",
            "Virunga\n",
            "Waiahole, O'ahu\n",
            "Wampusirpi Region\n",
            "Wampusirpi, batch 007\n",
            "Wasatch\n",
            "West Africa\n",
            "Wild Beni, Lower Rio Beni, Tranquilidad, 2014\n",
            "Wild Beni, Lower Rio Beni, Tranquilidad, 2015\n",
            "Wild Beniano, 2016, batch 128, Heirloom\n",
            "Wild Bolivia\n",
            "Wild Bolivian\n",
            "Wild Bolivian, Batch 2\n",
            "Wild Bolivian, Jungle Love\n",
            "Wild Thing\n",
            "Winak Coop, Napo\n",
            "Winak, Sumaco\n",
            "Xoconusco\n",
            "Xoconusco, Chiapas\n",
            "Xoconusco, cacao Real\n",
            "Xocunusco, Chiapas, Pichucalco\n",
            "Zorzal Reserva\n",
            "Zorzal Reserva w/ Charles Kerchner\n",
            "Zorzal Reserva, 2015 H., Kerchner\n",
            "black label\n",
            "la Amistad\n",
            "one hundred\n",
            "single estate\n",
            "the lost city, gracias a dias, batch 362\n"
          ],
          "name": "stdout"
        }
      ]
    },
    {
      "cell_type": "markdown",
      "metadata": {
        "id": "JhuNx5G5R47g"
      },
      "source": [
        "**Student Solution**"
      ]
    },
    {
      "cell_type": "code",
      "metadata": {
        "id": "hxoy0g2iR79D",
        "colab": {
          "base_uri": "https://localhost:8080/"
        },
        "outputId": "65bf97ea-1a69-4fd9-aa5b-ccd3e19167ad"
      },
      "source": [
        "# Repair the data\n",
        "# I just change 1 entity. Too hard to find the right data\n",
        "print(\"Before change: {}\".format(df['Specific Bean Origin'].unique().size))\n",
        "\n",
        "df.loc[df['Specific Bean Origin'] == 'Papaua New Guinea', \n",
        "       'Specific Bean Origin'] = 'Papua New Guinea'\n",
        "\n",
        "print(\"After change : {}\".format(df['Specific Bean Origin'].unique().size))"
      ],
      "execution_count": null,
      "outputs": [
        {
          "output_type": "stream",
          "text": [
            "Before change: 1038\n",
            "After change : 1037\n"
          ],
          "name": "stdout"
        }
      ]
    },
    {
      "cell_type": "markdown",
      "metadata": {
        "id": "YFZQoDvHR_Rb"
      },
      "source": [
        "---"
      ]
    },
    {
      "cell_type": "markdown",
      "metadata": {
        "id": "9dyeOcIASyBa"
      },
      "source": [
        "#### Exercise 5: Top Specific Bean Origins\n",
        "\n",
        "There are just over 1,000 unique specific bean origins and over 1,700 entries in the dataset. Write code to find the top five most repeated origins. Print the origins and the number of times that each appears in the dataset."
      ]
    },
    {
      "cell_type": "markdown",
      "metadata": {
        "id": "yLz75cOFTE_T"
      },
      "source": [
        "**Student Solution**"
      ]
    },
    {
      "cell_type": "code",
      "metadata": {
        "id": "Ew8c5AknTHuQ",
        "colab": {
          "base_uri": "https://localhost:8080/"
        },
        "outputId": "fc57c9ed-56b2-4d9a-caae-7c8b426b866e"
      },
      "source": [
        "# Find the top 5 bar origins\n",
        "import operator\n",
        "\n",
        "data = df['Specific Bean Origin'].groupby(df['Specific Bean Origin']).count()\n",
        "\n",
        "data.sort_values(ascending=False,)[0:5]"
      ],
      "execution_count": null,
      "outputs": [
        {
          "output_type": "execute_result",
          "data": {
            "text/plain": [
              "Specific Bean Origin\n",
              "Madagascar            57\n",
              "Peru                  45\n",
              "Ecuador               42\n",
              "Dominican Republic    37\n",
              "Venezuela             21\n",
              "Name: Specific Bean Origin, dtype: int64"
            ]
          },
          "metadata": {
            "tags": []
          },
          "execution_count": 38
        }
      ]
    },
    {
      "cell_type": "markdown",
      "metadata": {
        "id": "0abZ4gATTGtJ"
      },
      "source": [
        "---"
      ]
    },
    {
      "cell_type": "markdown",
      "metadata": {
        "id": "OUPRZpCIdvT8"
      },
      "source": [
        "### Column: Broad Bean Origin"
      ]
    },
    {
      "cell_type": "markdown",
      "metadata": {
        "id": "lI5_PqH7Tqq3"
      },
      "source": [
        "The 'Broad Bean Origin' is the \"*broad geo-region of origin for the bean.*\" In theory, this should be broader regions than the 'Specific Bean Origin' that we just worked with.\n",
        "\n",
        "Let's dive in. First things first, let's check for N/A values."
      ]
    },
    {
      "cell_type": "code",
      "metadata": {
        "id": "-xfNxS3NUVRw",
        "colab": {
          "base_uri": "https://localhost:8080/"
        },
        "outputId": "bd657823-ba63-4df4-f77c-fddb6a7a64d4"
      },
      "source": [
        "df[df['Broad Bean Origin'].isna()].count()"
      ],
      "execution_count": null,
      "outputs": [
        {
          "output_type": "execute_result",
          "data": {
            "text/plain": [
              "Company                 1\n",
              "Company Location        1\n",
              "Bean Type               1\n",
              "Specific Bean Origin    1\n",
              "Broad Bean Origin       0\n",
              "Cocoa Percent           1\n",
              "REF                     1\n",
              "Review Date             1\n",
              "Rating                  1\n",
              "dtype: int64"
            ]
          },
          "metadata": {
            "tags": []
          },
          "execution_count": 39
        }
      ]
    },
    {
      "cell_type": "markdown",
      "metadata": {
        "id": "PDAtc4e6cmot"
      },
      "source": [
        "It looks like we are missing one origin. Let's take a look at the record."
      ]
    },
    {
      "cell_type": "code",
      "metadata": {
        "id": "Yua9pGNhdOcP",
        "colab": {
          "base_uri": "https://localhost:8080/",
          "height": 115
        },
        "outputId": "4343ce08-1720-4e9b-f23d-1fedc2c39986"
      },
      "source": [
        "df[df['Broad Bean Origin'].isna()]"
      ],
      "execution_count": null,
      "outputs": [
        {
          "output_type": "execute_result",
          "data": {
            "text/html": [
              "<div>\n",
              "<style scoped>\n",
              "    .dataframe tbody tr th:only-of-type {\n",
              "        vertical-align: middle;\n",
              "    }\n",
              "\n",
              "    .dataframe tbody tr th {\n",
              "        vertical-align: top;\n",
              "    }\n",
              "\n",
              "    .dataframe thead th {\n",
              "        text-align: right;\n",
              "    }\n",
              "</style>\n",
              "<table border=\"1\" class=\"dataframe\">\n",
              "  <thead>\n",
              "    <tr style=\"text-align: right;\">\n",
              "      <th></th>\n",
              "      <th>Company</th>\n",
              "      <th>Company Location</th>\n",
              "      <th>Bean Type</th>\n",
              "      <th>Specific Bean Origin</th>\n",
              "      <th>Broad Bean Origin</th>\n",
              "      <th>Cocoa Percent</th>\n",
              "      <th>REF</th>\n",
              "      <th>Review Date</th>\n",
              "      <th>Rating</th>\n",
              "    </tr>\n",
              "  </thead>\n",
              "  <tbody>\n",
              "    <tr>\n",
              "      <th>1072</th>\n",
              "      <td>Mast Brothers</td>\n",
              "      <td>U.S.A.</td>\n",
              "      <td>Trinitario</td>\n",
              "      <td>Madagascar</td>\n",
              "      <td>NaN</td>\n",
              "      <td>72%</td>\n",
              "      <td>999</td>\n",
              "      <td>2012</td>\n",
              "      <td>2.5</td>\n",
              "    </tr>\n",
              "  </tbody>\n",
              "</table>\n",
              "</div>"
            ],
            "text/plain": [
              "            Company Company Location   Bean Type  ...  REF Review Date Rating\n",
              "1072  Mast Brothers           U.S.A.  Trinitario  ...  999        2012    2.5\n",
              "\n",
              "[1 rows x 9 columns]"
            ]
          },
          "metadata": {
            "tags": []
          },
          "execution_count": 40
        }
      ]
    },
    {
      "cell_type": "markdown",
      "metadata": {
        "id": "UUz2RFhHde9o"
      },
      "source": [
        "The one record has a 'Specific Bean Origin' of 'Madagascar'. Let's see if there are any other chocolates from that same specific origin."
      ]
    },
    {
      "cell_type": "code",
      "metadata": {
        "id": "NWwhBGNGdRK7",
        "colab": {
          "base_uri": "https://localhost:8080/",
          "height": 1000
        },
        "outputId": "347f7957-aa79-45da-fe55-3514b7371eef"
      },
      "source": [
        "df[df['Specific Bean Origin'] == 'Madagascar']"
      ],
      "execution_count": null,
      "outputs": [
        {
          "output_type": "execute_result",
          "data": {
            "text/html": [
              "<div>\n",
              "<style scoped>\n",
              "    .dataframe tbody tr th:only-of-type {\n",
              "        vertical-align: middle;\n",
              "    }\n",
              "\n",
              "    .dataframe tbody tr th {\n",
              "        vertical-align: top;\n",
              "    }\n",
              "\n",
              "    .dataframe thead th {\n",
              "        text-align: right;\n",
              "    }\n",
              "</style>\n",
              "<table border=\"1\" class=\"dataframe\">\n",
              "  <thead>\n",
              "    <tr style=\"text-align: right;\">\n",
              "      <th></th>\n",
              "      <th>Company</th>\n",
              "      <th>Company Location</th>\n",
              "      <th>Bean Type</th>\n",
              "      <th>Specific Bean Origin</th>\n",
              "      <th>Broad Bean Origin</th>\n",
              "      <th>Cocoa Percent</th>\n",
              "      <th>REF</th>\n",
              "      <th>Review Date</th>\n",
              "      <th>Rating</th>\n",
              "    </tr>\n",
              "  </thead>\n",
              "  <tbody>\n",
              "    <tr>\n",
              "      <th>11</th>\n",
              "      <td>A. Morin</td>\n",
              "      <td>France</td>\n",
              "      <td>Criollo</td>\n",
              "      <td>Madagascar</td>\n",
              "      <td>Madagascar</td>\n",
              "      <td>70%</td>\n",
              "      <td>1011</td>\n",
              "      <td>2013</td>\n",
              "      <td>3.00</td>\n",
              "    </tr>\n",
              "    <tr>\n",
              "      <th>37</th>\n",
              "      <td>Alain Ducasse</td>\n",
              "      <td>France</td>\n",
              "      <td>Trinitario</td>\n",
              "      <td>Madagascar</td>\n",
              "      <td>Madagascar</td>\n",
              "      <td>75%</td>\n",
              "      <td>1215</td>\n",
              "      <td>2014</td>\n",
              "      <td>3.00</td>\n",
              "    </tr>\n",
              "    <tr>\n",
              "      <th>60</th>\n",
              "      <td>Amano</td>\n",
              "      <td>U.S.A.</td>\n",
              "      <td>Trinitario</td>\n",
              "      <td>Madagascar</td>\n",
              "      <td>Madagascar</td>\n",
              "      <td>70%</td>\n",
              "      <td>129</td>\n",
              "      <td>2007</td>\n",
              "      <td>3.50</td>\n",
              "    </tr>\n",
              "    <tr>\n",
              "      <th>70</th>\n",
              "      <td>Ambrosia</td>\n",
              "      <td>Canada</td>\n",
              "      <td>Trinitario</td>\n",
              "      <td>Madagascar</td>\n",
              "      <td>Madagascar</td>\n",
              "      <td>66%</td>\n",
              "      <td>1494</td>\n",
              "      <td>2015</td>\n",
              "      <td>3.25</td>\n",
              "    </tr>\n",
              "    <tr>\n",
              "      <th>83</th>\n",
              "      <td>Amedei</td>\n",
              "      <td>Italy</td>\n",
              "      <td>Trinitario (85% Criollo)</td>\n",
              "      <td>Madagascar</td>\n",
              "      <td>Madagascar</td>\n",
              "      <td>70%</td>\n",
              "      <td>123</td>\n",
              "      <td>2007</td>\n",
              "      <td>4.00</td>\n",
              "    </tr>\n",
              "    <tr>\n",
              "      <th>95</th>\n",
              "      <td>Ara</td>\n",
              "      <td>France</td>\n",
              "      <td>Trinitario</td>\n",
              "      <td>Madagascar</td>\n",
              "      <td>Madagascar</td>\n",
              "      <td>75%</td>\n",
              "      <td>1375</td>\n",
              "      <td>2014</td>\n",
              "      <td>3.00</td>\n",
              "    </tr>\n",
              "    <tr>\n",
              "      <th>133</th>\n",
              "      <td>Artisan du Chocolat</td>\n",
              "      <td>U.K.</td>\n",
              "      <td>Criollo, Trinitario</td>\n",
              "      <td>Madagascar</td>\n",
              "      <td>Madagascar</td>\n",
              "      <td>80%</td>\n",
              "      <td>363</td>\n",
              "      <td>2009</td>\n",
              "      <td>3.00</td>\n",
              "    </tr>\n",
              "    <tr>\n",
              "      <th>183</th>\n",
              "      <td>Beschle (Felchlin)</td>\n",
              "      <td>Switzerland</td>\n",
              "      <td>Trinitario</td>\n",
              "      <td>Madagascar</td>\n",
              "      <td>Madagascar</td>\n",
              "      <td>64%</td>\n",
              "      <td>636</td>\n",
              "      <td>2011</td>\n",
              "      <td>3.00</td>\n",
              "    </tr>\n",
              "    <tr>\n",
              "      <th>220</th>\n",
              "      <td>Blue Bandana</td>\n",
              "      <td>U.S.A.</td>\n",
              "      <td>Trinitario</td>\n",
              "      <td>Madagascar</td>\n",
              "      <td>Madagascar</td>\n",
              "      <td>70%</td>\n",
              "      <td>911</td>\n",
              "      <td>2012</td>\n",
              "      <td>3.75</td>\n",
              "    </tr>\n",
              "    <tr>\n",
              "      <th>244</th>\n",
              "      <td>Bonnat</td>\n",
              "      <td>France</td>\n",
              "      <td>Trinitario</td>\n",
              "      <td>Madagascar</td>\n",
              "      <td>Madagascar</td>\n",
              "      <td>75%</td>\n",
              "      <td>75</td>\n",
              "      <td>2006</td>\n",
              "      <td>4.00</td>\n",
              "    </tr>\n",
              "    <tr>\n",
              "      <th>309</th>\n",
              "      <td>Cacao Sampaka</td>\n",
              "      <td>Spain</td>\n",
              "      <td>Trinitario</td>\n",
              "      <td>Madagascar</td>\n",
              "      <td>Madagascar</td>\n",
              "      <td>71%</td>\n",
              "      <td>508</td>\n",
              "      <td>2010</td>\n",
              "      <td>3.50</td>\n",
              "    </tr>\n",
              "    <tr>\n",
              "      <th>317</th>\n",
              "      <td>Cacao Store</td>\n",
              "      <td>Japan</td>\n",
              "      <td>Trinitario</td>\n",
              "      <td>Madagascar</td>\n",
              "      <td>Madagascar</td>\n",
              "      <td>70%</td>\n",
              "      <td>1684</td>\n",
              "      <td>2015</td>\n",
              "      <td>3.00</td>\n",
              "    </tr>\n",
              "    <tr>\n",
              "      <th>390</th>\n",
              "      <td>Chocola'te</td>\n",
              "      <td>U.S.A.</td>\n",
              "      <td>Trinitario</td>\n",
              "      <td>Madagascar</td>\n",
              "      <td>Madagascar</td>\n",
              "      <td>70%</td>\n",
              "      <td>647</td>\n",
              "      <td>2011</td>\n",
              "      <td>3.75</td>\n",
              "    </tr>\n",
              "    <tr>\n",
              "      <th>410</th>\n",
              "      <td>Chocolate Tree, The</td>\n",
              "      <td>Scotland</td>\n",
              "      <td>Criollo</td>\n",
              "      <td>Madagascar</td>\n",
              "      <td>Madagascar</td>\n",
              "      <td>72%</td>\n",
              "      <td>919</td>\n",
              "      <td>2012</td>\n",
              "      <td>3.25</td>\n",
              "    </tr>\n",
              "    <tr>\n",
              "      <th>451</th>\n",
              "      <td>Coppeneur</td>\n",
              "      <td>Germany</td>\n",
              "      <td>Trinitario</td>\n",
              "      <td>Madagascar</td>\n",
              "      <td>Madagascar</td>\n",
              "      <td>70%</td>\n",
              "      <td>959</td>\n",
              "      <td>2012</td>\n",
              "      <td>3.50</td>\n",
              "    </tr>\n",
              "    <tr>\n",
              "      <th>496</th>\n",
              "      <td>Dandelion</td>\n",
              "      <td>U.S.A.</td>\n",
              "      <td>Trinitario</td>\n",
              "      <td>Madagascar</td>\n",
              "      <td>Madagascar</td>\n",
              "      <td>70%</td>\n",
              "      <td>654</td>\n",
              "      <td>2011</td>\n",
              "      <td>3.25</td>\n",
              "    </tr>\n",
              "    <tr>\n",
              "      <th>511</th>\n",
              "      <td>Dark Forest</td>\n",
              "      <td>U.S.A.</td>\n",
              "      <td>Trinitario</td>\n",
              "      <td>Madagascar</td>\n",
              "      <td>Madagascar</td>\n",
              "      <td>70%</td>\n",
              "      <td>1550</td>\n",
              "      <td>2015</td>\n",
              "      <td>3.00</td>\n",
              "    </tr>\n",
              "    <tr>\n",
              "      <th>523</th>\n",
              "      <td>Dean and Deluca (Belcolade)</td>\n",
              "      <td>U.S.A.</td>\n",
              "      <td>Trinitario</td>\n",
              "      <td>Madagascar</td>\n",
              "      <td>Madagascar</td>\n",
              "      <td>66%</td>\n",
              "      <td>170</td>\n",
              "      <td>2007</td>\n",
              "      <td>2.50</td>\n",
              "    </tr>\n",
              "    <tr>\n",
              "      <th>569</th>\n",
              "      <td>Domori</td>\n",
              "      <td>Italy</td>\n",
              "      <td>Trinitario</td>\n",
              "      <td>Madagascar</td>\n",
              "      <td>Madagascar</td>\n",
              "      <td>70%</td>\n",
              "      <td>135</td>\n",
              "      <td>2007</td>\n",
              "      <td>3.50</td>\n",
              "    </tr>\n",
              "    <tr>\n",
              "      <th>595</th>\n",
              "      <td>Durand</td>\n",
              "      <td>France</td>\n",
              "      <td>Trinitario</td>\n",
              "      <td>Madagascar</td>\n",
              "      <td>Madagascar</td>\n",
              "      <td>82%</td>\n",
              "      <td>841</td>\n",
              "      <td>2012</td>\n",
              "      <td>2.75</td>\n",
              "    </tr>\n",
              "    <tr>\n",
              "      <th>602</th>\n",
              "      <td>East Van Roasters</td>\n",
              "      <td>Canada</td>\n",
              "      <td>Trinitario</td>\n",
              "      <td>Madagascar</td>\n",
              "      <td>Madagascar</td>\n",
              "      <td>70%</td>\n",
              "      <td>1343</td>\n",
              "      <td>2014</td>\n",
              "      <td>3.50</td>\n",
              "    </tr>\n",
              "    <tr>\n",
              "      <th>668</th>\n",
              "      <td>Frederic Blondeel</td>\n",
              "      <td>Belgium</td>\n",
              "      <td>Trinitario</td>\n",
              "      <td>Madagascar</td>\n",
              "      <td>Madagascar</td>\n",
              "      <td>65%</td>\n",
              "      <td>1351</td>\n",
              "      <td>2014</td>\n",
              "      <td>3.50</td>\n",
              "    </tr>\n",
              "    <tr>\n",
              "      <th>740</th>\n",
              "      <td>Green Bean to Bar</td>\n",
              "      <td>Japan</td>\n",
              "      <td>Unknown</td>\n",
              "      <td>Madagascar</td>\n",
              "      <td>Madagascar</td>\n",
              "      <td>70%</td>\n",
              "      <td>1896</td>\n",
              "      <td>2016</td>\n",
              "      <td>3.50</td>\n",
              "    </tr>\n",
              "    <tr>\n",
              "      <th>803</th>\n",
              "      <td>hexx</td>\n",
              "      <td>U.S.A.</td>\n",
              "      <td>Trinitario</td>\n",
              "      <td>Madagascar</td>\n",
              "      <td>Madagascar</td>\n",
              "      <td>74%</td>\n",
              "      <td>1546</td>\n",
              "      <td>2015</td>\n",
              "      <td>3.00</td>\n",
              "    </tr>\n",
              "    <tr>\n",
              "      <th>872</th>\n",
              "      <td>Isidro</td>\n",
              "      <td>U.S.A.</td>\n",
              "      <td>Trinitario</td>\n",
              "      <td>Madagascar</td>\n",
              "      <td>Madagascar</td>\n",
              "      <td>72%</td>\n",
              "      <td>1275</td>\n",
              "      <td>2014</td>\n",
              "      <td>3.50</td>\n",
              "    </tr>\n",
              "    <tr>\n",
              "      <th>879</th>\n",
              "      <td>Jordis</td>\n",
              "      <td>Czech Republic</td>\n",
              "      <td>Trinitario</td>\n",
              "      <td>Madagascar</td>\n",
              "      <td>Madagascar</td>\n",
              "      <td>63%</td>\n",
              "      <td>1534</td>\n",
              "      <td>2015</td>\n",
              "      <td>2.75</td>\n",
              "    </tr>\n",
              "    <tr>\n",
              "      <th>881</th>\n",
              "      <td>Just Good Chocolate</td>\n",
              "      <td>U.S.A.</td>\n",
              "      <td>Trinitario</td>\n",
              "      <td>Madagascar</td>\n",
              "      <td>Madagascar</td>\n",
              "      <td>70%</td>\n",
              "      <td>1375</td>\n",
              "      <td>2014</td>\n",
              "      <td>3.50</td>\n",
              "    </tr>\n",
              "    <tr>\n",
              "      <th>916</th>\n",
              "      <td>Kyya</td>\n",
              "      <td>U.S.A.</td>\n",
              "      <td>Trinitario</td>\n",
              "      <td>Madagascar</td>\n",
              "      <td>Madagascar</td>\n",
              "      <td>72.5%</td>\n",
              "      <td>1363</td>\n",
              "      <td>2014</td>\n",
              "      <td>3.00</td>\n",
              "    </tr>\n",
              "    <tr>\n",
              "      <th>924</th>\n",
              "      <td>L.A. Burdick (Felchlin)</td>\n",
              "      <td>U.S.A.</td>\n",
              "      <td>Trinitario</td>\n",
              "      <td>Madagascar</td>\n",
              "      <td>Madagascar</td>\n",
              "      <td>64%</td>\n",
              "      <td>431</td>\n",
              "      <td>2009</td>\n",
              "      <td>3.50</td>\n",
              "    </tr>\n",
              "    <tr>\n",
              "      <th>968</th>\n",
              "      <td>Lilla</td>\n",
              "      <td>Finland</td>\n",
              "      <td>Trinitario</td>\n",
              "      <td>Madagascar</td>\n",
              "      <td>Madagascar</td>\n",
              "      <td>70%</td>\n",
              "      <td>1856</td>\n",
              "      <td>2016</td>\n",
              "      <td>3.00</td>\n",
              "    </tr>\n",
              "    <tr>\n",
              "      <th>990</th>\n",
              "      <td>Madecasse (Cinagra)</td>\n",
              "      <td>Madagascar</td>\n",
              "      <td>Trinitario</td>\n",
              "      <td>Madagascar</td>\n",
              "      <td>Madagascar</td>\n",
              "      <td>67%</td>\n",
              "      <td>284</td>\n",
              "      <td>2008</td>\n",
              "      <td>3.50</td>\n",
              "    </tr>\n",
              "    <tr>\n",
              "      <th>991</th>\n",
              "      <td>Madecasse (Cinagra)</td>\n",
              "      <td>Madagascar</td>\n",
              "      <td>Trinitario</td>\n",
              "      <td>Madagascar</td>\n",
              "      <td>Madagascar</td>\n",
              "      <td>70%</td>\n",
              "      <td>284</td>\n",
              "      <td>2008</td>\n",
              "      <td>3.75</td>\n",
              "    </tr>\n",
              "    <tr>\n",
              "      <th>992</th>\n",
              "      <td>Madecasse (Cinagra)</td>\n",
              "      <td>Madagascar</td>\n",
              "      <td>Trinitario</td>\n",
              "      <td>Madagascar</td>\n",
              "      <td>Madagascar</td>\n",
              "      <td>63%</td>\n",
              "      <td>284</td>\n",
              "      <td>2008</td>\n",
              "      <td>4.00</td>\n",
              "    </tr>\n",
              "    <tr>\n",
              "      <th>993</th>\n",
              "      <td>Madecasse (Cinagra)</td>\n",
              "      <td>Madagascar</td>\n",
              "      <td>Trinitario</td>\n",
              "      <td>Madagascar</td>\n",
              "      <td>Madagascar</td>\n",
              "      <td>75%</td>\n",
              "      <td>288</td>\n",
              "      <td>2008</td>\n",
              "      <td>3.50</td>\n",
              "    </tr>\n",
              "    <tr>\n",
              "      <th>1072</th>\n",
              "      <td>Mast Brothers</td>\n",
              "      <td>U.S.A.</td>\n",
              "      <td>Trinitario</td>\n",
              "      <td>Madagascar</td>\n",
              "      <td>NaN</td>\n",
              "      <td>72%</td>\n",
              "      <td>999</td>\n",
              "      <td>2012</td>\n",
              "      <td>2.50</td>\n",
              "    </tr>\n",
              "    <tr>\n",
              "      <th>1100</th>\n",
              "      <td>Menakao (aka Cinagra)</td>\n",
              "      <td>Madagascar</td>\n",
              "      <td>Trinitario</td>\n",
              "      <td>Madagascar</td>\n",
              "      <td>Madagascar</td>\n",
              "      <td>80%</td>\n",
              "      <td>837</td>\n",
              "      <td>2012</td>\n",
              "      <td>2.50</td>\n",
              "    </tr>\n",
              "    <tr>\n",
              "      <th>1101</th>\n",
              "      <td>Menakao (aka Cinagra)</td>\n",
              "      <td>Madagascar</td>\n",
              "      <td>Trinitario</td>\n",
              "      <td>Madagascar</td>\n",
              "      <td>Madagascar</td>\n",
              "      <td>72%</td>\n",
              "      <td>841</td>\n",
              "      <td>2012</td>\n",
              "      <td>2.50</td>\n",
              "    </tr>\n",
              "    <tr>\n",
              "      <th>1171</th>\n",
              "      <td>Nathan Miller</td>\n",
              "      <td>U.S.A.</td>\n",
              "      <td>Trinitario</td>\n",
              "      <td>Madagascar</td>\n",
              "      <td>Madagascar</td>\n",
              "      <td>73.5%</td>\n",
              "      <td>1403</td>\n",
              "      <td>2014</td>\n",
              "      <td>2.50</td>\n",
              "    </tr>\n",
              "    <tr>\n",
              "      <th>1224</th>\n",
              "      <td>Omnom</td>\n",
              "      <td>Iceland</td>\n",
              "      <td>Trinitario</td>\n",
              "      <td>Madagascar</td>\n",
              "      <td>Madagascar</td>\n",
              "      <td>66%</td>\n",
              "      <td>1247</td>\n",
              "      <td>2014</td>\n",
              "      <td>3.50</td>\n",
              "    </tr>\n",
              "    <tr>\n",
              "      <th>1273</th>\n",
              "      <td>Patric</td>\n",
              "      <td>U.S.A.</td>\n",
              "      <td>Trinitario</td>\n",
              "      <td>Madagascar</td>\n",
              "      <td>Madagascar</td>\n",
              "      <td>75%</td>\n",
              "      <td>331</td>\n",
              "      <td>2009</td>\n",
              "      <td>4.00</td>\n",
              "    </tr>\n",
              "    <tr>\n",
              "      <th>1274</th>\n",
              "      <td>Patric</td>\n",
              "      <td>U.S.A.</td>\n",
              "      <td>Trinitario</td>\n",
              "      <td>Madagascar</td>\n",
              "      <td>Madagascar</td>\n",
              "      <td>67%</td>\n",
              "      <td>439</td>\n",
              "      <td>2009</td>\n",
              "      <td>3.50</td>\n",
              "    </tr>\n",
              "    <tr>\n",
              "      <th>1276</th>\n",
              "      <td>Patric</td>\n",
              "      <td>U.S.A.</td>\n",
              "      <td>Trinitario</td>\n",
              "      <td>Madagascar</td>\n",
              "      <td>Madagascar</td>\n",
              "      <td>70%</td>\n",
              "      <td>196</td>\n",
              "      <td>2007</td>\n",
              "      <td>4.00</td>\n",
              "    </tr>\n",
              "    <tr>\n",
              "      <th>1358</th>\n",
              "      <td>Raaka</td>\n",
              "      <td>U.S.A.</td>\n",
              "      <td>Trinitario</td>\n",
              "      <td>Madagascar</td>\n",
              "      <td>Madagascar</td>\n",
              "      <td>75%</td>\n",
              "      <td>959</td>\n",
              "      <td>2012</td>\n",
              "      <td>3.25</td>\n",
              "    </tr>\n",
              "    <tr>\n",
              "      <th>1384</th>\n",
              "      <td>Robert (aka Chocolaterie Robert)</td>\n",
              "      <td>Madagascar</td>\n",
              "      <td>Trinitario</td>\n",
              "      <td>Madagascar</td>\n",
              "      <td>Madagascar</td>\n",
              "      <td>75%</td>\n",
              "      <td>1061</td>\n",
              "      <td>2013</td>\n",
              "      <td>3.25</td>\n",
              "    </tr>\n",
              "    <tr>\n",
              "      <th>1493</th>\n",
              "      <td>Snake &amp; Butterfly</td>\n",
              "      <td>U.S.A.</td>\n",
              "      <td>Trinitario</td>\n",
              "      <td>Madagascar</td>\n",
              "      <td>Madagascar</td>\n",
              "      <td>68%</td>\n",
              "      <td>502</td>\n",
              "      <td>2010</td>\n",
              "      <td>3.00</td>\n",
              "    </tr>\n",
              "    <tr>\n",
              "      <th>1496</th>\n",
              "      <td>Sol Cacao</td>\n",
              "      <td>U.S.A.</td>\n",
              "      <td>Trinitario</td>\n",
              "      <td>Madagascar</td>\n",
              "      <td>Madagascar</td>\n",
              "      <td>72%</td>\n",
              "      <td>1518</td>\n",
              "      <td>2015</td>\n",
              "      <td>3.00</td>\n",
              "    </tr>\n",
              "    <tr>\n",
              "      <th>1552</th>\n",
              "      <td>Soma</td>\n",
              "      <td>Canada</td>\n",
              "      <td>Criollo</td>\n",
              "      <td>Madagascar</td>\n",
              "      <td>Madagascar</td>\n",
              "      <td>70%</td>\n",
              "      <td>387</td>\n",
              "      <td>2009</td>\n",
              "      <td>3.75</td>\n",
              "    </tr>\n",
              "    <tr>\n",
              "      <th>1557</th>\n",
              "      <td>Soul</td>\n",
              "      <td>Canada</td>\n",
              "      <td>Unknown</td>\n",
              "      <td>Madagascar</td>\n",
              "      <td>Madagascar</td>\n",
              "      <td>70%</td>\n",
              "      <td>1936</td>\n",
              "      <td>2017</td>\n",
              "      <td>3.50</td>\n",
              "    </tr>\n",
              "    <tr>\n",
              "      <th>1646</th>\n",
              "      <td>Terroir</td>\n",
              "      <td>U.S.A.</td>\n",
              "      <td>Trinitario</td>\n",
              "      <td>Madagascar</td>\n",
              "      <td>Madagascar</td>\n",
              "      <td>70%</td>\n",
              "      <td>1478</td>\n",
              "      <td>2015</td>\n",
              "      <td>3.75</td>\n",
              "    </tr>\n",
              "    <tr>\n",
              "      <th>1651</th>\n",
              "      <td>Terroir</td>\n",
              "      <td>U.S.A.</td>\n",
              "      <td>Trinitario</td>\n",
              "      <td>Madagascar</td>\n",
              "      <td>Madagascar</td>\n",
              "      <td>67%</td>\n",
              "      <td>1323</td>\n",
              "      <td>2014</td>\n",
              "      <td>3.75</td>\n",
              "    </tr>\n",
              "    <tr>\n",
              "      <th>1655</th>\n",
              "      <td>Theo</td>\n",
              "      <td>U.S.A.</td>\n",
              "      <td>Trinitario</td>\n",
              "      <td>Madagascar</td>\n",
              "      <td>Madagascar</td>\n",
              "      <td>65%</td>\n",
              "      <td>162</td>\n",
              "      <td>2007</td>\n",
              "      <td>3.50</td>\n",
              "    </tr>\n",
              "    <tr>\n",
              "      <th>1671</th>\n",
              "      <td>twenty-four blackbirds</td>\n",
              "      <td>U.S.A.</td>\n",
              "      <td>Trinitario</td>\n",
              "      <td>Madagascar</td>\n",
              "      <td>Madagascar</td>\n",
              "      <td>75%</td>\n",
              "      <td>1235</td>\n",
              "      <td>2014</td>\n",
              "      <td>3.50</td>\n",
              "    </tr>\n",
              "    <tr>\n",
              "      <th>1705</th>\n",
              "      <td>Vao Vao (Chocolaterie Robert)</td>\n",
              "      <td>Madagascar</td>\n",
              "      <td>Trinitario</td>\n",
              "      <td>Madagascar</td>\n",
              "      <td>Madagascar</td>\n",
              "      <td>72%</td>\n",
              "      <td>404</td>\n",
              "      <td>2009</td>\n",
              "      <td>2.75</td>\n",
              "    </tr>\n",
              "    <tr>\n",
              "      <th>1706</th>\n",
              "      <td>Vao Vao (Chocolaterie Robert)</td>\n",
              "      <td>Madagascar</td>\n",
              "      <td>Trinitario</td>\n",
              "      <td>Madagascar</td>\n",
              "      <td>Madagascar</td>\n",
              "      <td>76%</td>\n",
              "      <td>404</td>\n",
              "      <td>2009</td>\n",
              "      <td>2.75</td>\n",
              "    </tr>\n",
              "    <tr>\n",
              "      <th>1707</th>\n",
              "      <td>Vao Vao (Chocolaterie Robert)</td>\n",
              "      <td>Madagascar</td>\n",
              "      <td>Trinitario</td>\n",
              "      <td>Madagascar</td>\n",
              "      <td>Madagascar</td>\n",
              "      <td>80%</td>\n",
              "      <td>404</td>\n",
              "      <td>2009</td>\n",
              "      <td>2.75</td>\n",
              "    </tr>\n",
              "    <tr>\n",
              "      <th>1708</th>\n",
              "      <td>Vao Vao (Chocolaterie Robert)</td>\n",
              "      <td>Madagascar</td>\n",
              "      <td>Trinitario</td>\n",
              "      <td>Madagascar</td>\n",
              "      <td>Madagascar</td>\n",
              "      <td>70%</td>\n",
              "      <td>404</td>\n",
              "      <td>2009</td>\n",
              "      <td>3.00</td>\n",
              "    </tr>\n",
              "    <tr>\n",
              "      <th>1710</th>\n",
              "      <td>Vao Vao (Chocolaterie Robert)</td>\n",
              "      <td>Madagascar</td>\n",
              "      <td>Trinitario</td>\n",
              "      <td>Madagascar</td>\n",
              "      <td>Madagascar</td>\n",
              "      <td>64%</td>\n",
              "      <td>404</td>\n",
              "      <td>2009</td>\n",
              "      <td>3.25</td>\n",
              "    </tr>\n",
              "  </tbody>\n",
              "</table>\n",
              "</div>"
            ],
            "text/plain": [
              "                               Company Company Location  ... Review Date Rating\n",
              "11                            A. Morin           France  ...        2013   3.00\n",
              "37                       Alain Ducasse           France  ...        2014   3.00\n",
              "60                               Amano           U.S.A.  ...        2007   3.50\n",
              "70                            Ambrosia           Canada  ...        2015   3.25\n",
              "83                              Amedei            Italy  ...        2007   4.00\n",
              "95                                 Ara           France  ...        2014   3.00\n",
              "133                Artisan du Chocolat             U.K.  ...        2009   3.00\n",
              "183                 Beschle (Felchlin)      Switzerland  ...        2011   3.00\n",
              "220                       Blue Bandana           U.S.A.  ...        2012   3.75\n",
              "244                             Bonnat           France  ...        2006   4.00\n",
              "309                      Cacao Sampaka            Spain  ...        2010   3.50\n",
              "317                        Cacao Store            Japan  ...        2015   3.00\n",
              "390                         Chocola'te           U.S.A.  ...        2011   3.75\n",
              "410                Chocolate Tree, The         Scotland  ...        2012   3.25\n",
              "451                          Coppeneur          Germany  ...        2012   3.50\n",
              "496                          Dandelion           U.S.A.  ...        2011   3.25\n",
              "511                        Dark Forest           U.S.A.  ...        2015   3.00\n",
              "523        Dean and Deluca (Belcolade)           U.S.A.  ...        2007   2.50\n",
              "569                             Domori            Italy  ...        2007   3.50\n",
              "595                             Durand           France  ...        2012   2.75\n",
              "602                  East Van Roasters           Canada  ...        2014   3.50\n",
              "668                  Frederic Blondeel          Belgium  ...        2014   3.50\n",
              "740                  Green Bean to Bar            Japan  ...        2016   3.50\n",
              "803                               hexx           U.S.A.  ...        2015   3.00\n",
              "872                             Isidro           U.S.A.  ...        2014   3.50\n",
              "879                             Jordis   Czech Republic  ...        2015   2.75\n",
              "881                Just Good Chocolate           U.S.A.  ...        2014   3.50\n",
              "916                               Kyya           U.S.A.  ...        2014   3.00\n",
              "924            L.A. Burdick (Felchlin)           U.S.A.  ...        2009   3.50\n",
              "968                              Lilla          Finland  ...        2016   3.00\n",
              "990                Madecasse (Cinagra)       Madagascar  ...        2008   3.50\n",
              "991                Madecasse (Cinagra)       Madagascar  ...        2008   3.75\n",
              "992                Madecasse (Cinagra)       Madagascar  ...        2008   4.00\n",
              "993                Madecasse (Cinagra)       Madagascar  ...        2008   3.50\n",
              "1072                     Mast Brothers           U.S.A.  ...        2012   2.50\n",
              "1100             Menakao (aka Cinagra)       Madagascar  ...        2012   2.50\n",
              "1101             Menakao (aka Cinagra)       Madagascar  ...        2012   2.50\n",
              "1171                     Nathan Miller           U.S.A.  ...        2014   2.50\n",
              "1224                             Omnom          Iceland  ...        2014   3.50\n",
              "1273                            Patric           U.S.A.  ...        2009   4.00\n",
              "1274                            Patric           U.S.A.  ...        2009   3.50\n",
              "1276                            Patric           U.S.A.  ...        2007   4.00\n",
              "1358                             Raaka           U.S.A.  ...        2012   3.25\n",
              "1384  Robert (aka Chocolaterie Robert)       Madagascar  ...        2013   3.25\n",
              "1493                 Snake & Butterfly           U.S.A.  ...        2010   3.00\n",
              "1496                         Sol Cacao           U.S.A.  ...        2015   3.00\n",
              "1552                              Soma           Canada  ...        2009   3.75\n",
              "1557                              Soul           Canada  ...        2017   3.50\n",
              "1646                           Terroir           U.S.A.  ...        2015   3.75\n",
              "1651                           Terroir           U.S.A.  ...        2014   3.75\n",
              "1655                              Theo           U.S.A.  ...        2007   3.50\n",
              "1671            twenty-four blackbirds           U.S.A.  ...        2014   3.50\n",
              "1705     Vao Vao (Chocolaterie Robert)       Madagascar  ...        2009   2.75\n",
              "1706     Vao Vao (Chocolaterie Robert)       Madagascar  ...        2009   2.75\n",
              "1707     Vao Vao (Chocolaterie Robert)       Madagascar  ...        2009   2.75\n",
              "1708     Vao Vao (Chocolaterie Robert)       Madagascar  ...        2009   3.00\n",
              "1710     Vao Vao (Chocolaterie Robert)       Madagascar  ...        2009   3.25\n",
              "\n",
              "[57 rows x 9 columns]"
            ]
          },
          "metadata": {
            "tags": []
          },
          "execution_count": 41
        }
      ]
    },
    {
      "cell_type": "markdown",
      "metadata": {
        "id": "N2dcIgIqdr__"
      },
      "source": [
        "Quite a few! And they all have a 'Broad Bean Origin' of 'Madagascar', except for our one missing value. It is probably safe to just set the missing value to 'Madagascar' also."
      ]
    },
    {
      "cell_type": "code",
      "metadata": {
        "id": "4QYJkAFOd8sn",
        "colab": {
          "base_uri": "https://localhost:8080/",
          "height": 66
        },
        "outputId": "da9b4a76-fd59-45b3-e5ac-e3496e47fe79"
      },
      "source": [
        "df.loc[(df['Specific Bean Origin'] == 'Madagascar') &\n",
        "       (df['Broad Bean Origin'].isna()),\n",
        "       'Broad Bean Origin'] = 'Madagascar'\n",
        "\n",
        "df[df['Broad Bean Origin'].isna()]"
      ],
      "execution_count": null,
      "outputs": [
        {
          "output_type": "execute_result",
          "data": {
            "text/html": [
              "<div>\n",
              "<style scoped>\n",
              "    .dataframe tbody tr th:only-of-type {\n",
              "        vertical-align: middle;\n",
              "    }\n",
              "\n",
              "    .dataframe tbody tr th {\n",
              "        vertical-align: top;\n",
              "    }\n",
              "\n",
              "    .dataframe thead th {\n",
              "        text-align: right;\n",
              "    }\n",
              "</style>\n",
              "<table border=\"1\" class=\"dataframe\">\n",
              "  <thead>\n",
              "    <tr style=\"text-align: right;\">\n",
              "      <th></th>\n",
              "      <th>Company</th>\n",
              "      <th>Company Location</th>\n",
              "      <th>Bean Type</th>\n",
              "      <th>Specific Bean Origin</th>\n",
              "      <th>Broad Bean Origin</th>\n",
              "      <th>Cocoa Percent</th>\n",
              "      <th>REF</th>\n",
              "      <th>Review Date</th>\n",
              "      <th>Rating</th>\n",
              "    </tr>\n",
              "  </thead>\n",
              "  <tbody>\n",
              "  </tbody>\n",
              "</table>\n",
              "</div>"
            ],
            "text/plain": [
              "Empty DataFrame\n",
              "Columns: [Company, Company Location, Bean Type, Specific Bean Origin, Broad Bean Origin, Cocoa Percent, REF, Review Date, Rating]\n",
              "Index: []"
            ]
          },
          "metadata": {
            "tags": []
          },
          "execution_count": 42
        }
      ]
    },
    {
      "cell_type": "markdown",
      "metadata": {
        "id": "q9hd_1sUePTY"
      },
      "source": [
        "Now that we have all of the N/A values handled, let's see if we have an issue with spaces."
      ]
    },
    {
      "cell_type": "code",
      "metadata": {
        "id": "fbeQTVRYeUpK",
        "colab": {
          "base_uri": "https://localhost:8080/",
          "height": 458
        },
        "outputId": "77bcdb4d-7d69-49c1-bba9-d83d191e0b8b"
      },
      "source": [
        "df[df['Broad Bean Origin'].apply(lambda x: x.strip()).str.len() == 0]"
      ],
      "execution_count": null,
      "outputs": [
        {
          "output_type": "execute_result",
          "data": {
            "text/html": [
              "<div>\n",
              "<style scoped>\n",
              "    .dataframe tbody tr th:only-of-type {\n",
              "        vertical-align: middle;\n",
              "    }\n",
              "\n",
              "    .dataframe tbody tr th {\n",
              "        vertical-align: top;\n",
              "    }\n",
              "\n",
              "    .dataframe thead th {\n",
              "        text-align: right;\n",
              "    }\n",
              "</style>\n",
              "<table border=\"1\" class=\"dataframe\">\n",
              "  <thead>\n",
              "    <tr style=\"text-align: right;\">\n",
              "      <th></th>\n",
              "      <th>Company</th>\n",
              "      <th>Company Location</th>\n",
              "      <th>Bean Type</th>\n",
              "      <th>Specific Bean Origin</th>\n",
              "      <th>Broad Bean Origin</th>\n",
              "      <th>Cocoa Percent</th>\n",
              "      <th>REF</th>\n",
              "      <th>Review Date</th>\n",
              "      <th>Rating</th>\n",
              "    </tr>\n",
              "  </thead>\n",
              "  <tbody>\n",
              "    <tr>\n",
              "      <th>77</th>\n",
              "      <td>Amedei</td>\n",
              "      <td>Italy</td>\n",
              "      <td>Blend</td>\n",
              "      <td>Nine</td>\n",
              "      <td></td>\n",
              "      <td>75%</td>\n",
              "      <td>111</td>\n",
              "      <td>2007</td>\n",
              "      <td>4.00</td>\n",
              "    </tr>\n",
              "    <tr>\n",
              "      <th>85</th>\n",
              "      <td>Amedei</td>\n",
              "      <td>Italy</td>\n",
              "      <td>Blend</td>\n",
              "      <td>Toscano Black</td>\n",
              "      <td></td>\n",
              "      <td>63%</td>\n",
              "      <td>170</td>\n",
              "      <td>2007</td>\n",
              "      <td>3.50</td>\n",
              "    </tr>\n",
              "    <tr>\n",
              "      <th>86</th>\n",
              "      <td>Amedei</td>\n",
              "      <td>Italy</td>\n",
              "      <td>Blend</td>\n",
              "      <td>Toscano Black</td>\n",
              "      <td></td>\n",
              "      <td>70%</td>\n",
              "      <td>40</td>\n",
              "      <td>2006</td>\n",
              "      <td>5.00</td>\n",
              "    </tr>\n",
              "    <tr>\n",
              "      <th>87</th>\n",
              "      <td>Amedei</td>\n",
              "      <td>Italy</td>\n",
              "      <td>Blend</td>\n",
              "      <td>Toscano Black</td>\n",
              "      <td></td>\n",
              "      <td>66%</td>\n",
              "      <td>75</td>\n",
              "      <td>2006</td>\n",
              "      <td>4.00</td>\n",
              "    </tr>\n",
              "    <tr>\n",
              "      <th>144</th>\n",
              "      <td>Bahen &amp; Co.</td>\n",
              "      <td>Australia</td>\n",
              "      <td>Unknown</td>\n",
              "      <td>Houseblend</td>\n",
              "      <td></td>\n",
              "      <td>80%</td>\n",
              "      <td>1474</td>\n",
              "      <td>2015</td>\n",
              "      <td>3.25</td>\n",
              "    </tr>\n",
              "    <tr>\n",
              "      <th>...</th>\n",
              "      <td>...</td>\n",
              "      <td>...</td>\n",
              "      <td>...</td>\n",
              "      <td>...</td>\n",
              "      <td>...</td>\n",
              "      <td>...</td>\n",
              "      <td>...</td>\n",
              "      <td>...</td>\n",
              "      <td>...</td>\n",
              "    </tr>\n",
              "    <tr>\n",
              "      <th>1766</th>\n",
              "      <td>Zak's</td>\n",
              "      <td>U.S.A.</td>\n",
              "      <td>Unknown</td>\n",
              "      <td>House Blend, Batch 2</td>\n",
              "      <td></td>\n",
              "      <td>60%</td>\n",
              "      <td>1582</td>\n",
              "      <td>2015</td>\n",
              "      <td>3.00</td>\n",
              "    </tr>\n",
              "    <tr>\n",
              "      <th>1774</th>\n",
              "      <td>Zokoko</td>\n",
              "      <td>Australia</td>\n",
              "      <td>Unknown</td>\n",
              "      <td>Goddess Blend</td>\n",
              "      <td></td>\n",
              "      <td>65%</td>\n",
              "      <td>1780</td>\n",
              "      <td>2016</td>\n",
              "      <td>3.25</td>\n",
              "    </tr>\n",
              "    <tr>\n",
              "      <th>1778</th>\n",
              "      <td>Zotter</td>\n",
              "      <td>Austria</td>\n",
              "      <td>Unknown</td>\n",
              "      <td>Raw</td>\n",
              "      <td></td>\n",
              "      <td>80%</td>\n",
              "      <td>1205</td>\n",
              "      <td>2014</td>\n",
              "      <td>2.75</td>\n",
              "    </tr>\n",
              "    <tr>\n",
              "      <th>1780</th>\n",
              "      <td>Zotter</td>\n",
              "      <td>Austria</td>\n",
              "      <td>Unknown</td>\n",
              "      <td>Amazonas Frucht</td>\n",
              "      <td></td>\n",
              "      <td>65%</td>\n",
              "      <td>801</td>\n",
              "      <td>2012</td>\n",
              "      <td>3.50</td>\n",
              "    </tr>\n",
              "    <tr>\n",
              "      <th>1789</th>\n",
              "      <td>Zotter</td>\n",
              "      <td>Austria</td>\n",
              "      <td>Unknown</td>\n",
              "      <td>Indianer, Raw</td>\n",
              "      <td></td>\n",
              "      <td>58%</td>\n",
              "      <td>883</td>\n",
              "      <td>2012</td>\n",
              "      <td>3.50</td>\n",
              "    </tr>\n",
              "  </tbody>\n",
              "</table>\n",
              "<p>73 rows × 9 columns</p>\n",
              "</div>"
            ],
            "text/plain": [
              "          Company Company Location Bean Type  ...   REF Review Date Rating\n",
              "77         Amedei            Italy     Blend  ...   111        2007   4.00\n",
              "85         Amedei            Italy     Blend  ...   170        2007   3.50\n",
              "86         Amedei            Italy     Blend  ...    40        2006   5.00\n",
              "87         Amedei            Italy     Blend  ...    75        2006   4.00\n",
              "144   Bahen & Co.        Australia   Unknown  ...  1474        2015   3.25\n",
              "...           ...              ...       ...  ...   ...         ...    ...\n",
              "1766        Zak's           U.S.A.   Unknown  ...  1582        2015   3.00\n",
              "1774       Zokoko        Australia   Unknown  ...  1780        2016   3.25\n",
              "1778       Zotter          Austria   Unknown  ...  1205        2014   2.75\n",
              "1780       Zotter          Austria   Unknown  ...   801        2012   3.50\n",
              "1789       Zotter          Austria   Unknown  ...   883        2012   3.50\n",
              "\n",
              "[73 rows x 9 columns]"
            ]
          },
          "metadata": {
            "tags": []
          },
          "execution_count": 43
        }
      ]
    },
    {
      "cell_type": "markdown",
      "metadata": {
        "id": "aH6kvNxEeb3T"
      },
      "source": [
        "There are spaces in 73 rows of the data. Let's see what those space values are."
      ]
    },
    {
      "cell_type": "code",
      "metadata": {
        "id": "GNT-nh6sehTp",
        "colab": {
          "base_uri": "https://localhost:8080/"
        },
        "outputId": "608b9995-3b15-4f9f-80f3-15a4be6fc0bf"
      },
      "source": [
        "spaces_df = df[df['Broad Bean Origin'].apply(\n",
        "    lambda x: x.strip()).str.len() == 0]\n",
        "\n",
        "for space in spaces_df['Broad Bean Origin'].unique():\n",
        "  print(\", \".join(\"0x{:02x}\".format(ord(c)) for c in space))"
      ],
      "execution_count": null,
      "outputs": [
        {
          "output_type": "stream",
          "text": [
            "0xa0\n"
          ],
          "name": "stdout"
        }
      ]
    },
    {
      "cell_type": "markdown",
      "metadata": {
        "id": "DHekK-OUe9sm"
      },
      "source": [
        "It is that pesky `0xa0` again.\n",
        "\n",
        "We can fix this by replacing all of the `0xa0` values with 'Unknown'. However, an even better fix would be if we could find similar chocolates with the same 'Specific Bean Origin' and then derive the 'Broad Bean Origin' from that.\n",
        "\n",
        "Let's see if it is even possible. To do that we can find all of the 'Specific Bean Origin' values for rows with 'Broad Bean Origin' and those without. Then we can use `pd.merge()` to combine the two. If you remember, `pd.merge()` returns only the values which appear in both of the given Series. This means that the return value will show us which values appear both in columns with 'Broad Bean Origin' values and those without."
      ]
    },
    {
      "cell_type": "code",
      "metadata": {
        "id": "3QFKBDMMr-kz",
        "colab": {
          "base_uri": "https://localhost:8080/",
          "height": 582
        },
        "outputId": "f3967933-888e-4180-fd70-fe5d3cede2ce"
      },
      "source": [
        "has_bbo_idx = df['Broad Bean Origin'].apply(lambda x: x.strip()).str.len() > 0\n",
        "\n",
        "sbo_bbo = df[has_bbo_idx]['Specific Bean Origin']\n",
        "sbo_no_bbo = df[~has_bbo_idx]['Specific Bean Origin']\n",
        "\n",
        "pd.merge(sbo_bbo, sbo_no_bbo)"
      ],
      "execution_count": null,
      "outputs": [
        {
          "output_type": "execute_result",
          "data": {
            "text/html": [
              "<div>\n",
              "<style scoped>\n",
              "    .dataframe tbody tr th:only-of-type {\n",
              "        vertical-align: middle;\n",
              "    }\n",
              "\n",
              "    .dataframe tbody tr th {\n",
              "        vertical-align: top;\n",
              "    }\n",
              "\n",
              "    .dataframe thead th {\n",
              "        text-align: right;\n",
              "    }\n",
              "</style>\n",
              "<table border=\"1\" class=\"dataframe\">\n",
              "  <thead>\n",
              "    <tr style=\"text-align: right;\">\n",
              "      <th></th>\n",
              "      <th>Specific Bean Origin</th>\n",
              "    </tr>\n",
              "  </thead>\n",
              "  <tbody>\n",
              "    <tr>\n",
              "      <th>0</th>\n",
              "      <td>Signature Blend</td>\n",
              "    </tr>\n",
              "    <tr>\n",
              "      <th>1</th>\n",
              "      <td>Blend</td>\n",
              "    </tr>\n",
              "    <tr>\n",
              "      <th>2</th>\n",
              "      <td>Blend</td>\n",
              "    </tr>\n",
              "    <tr>\n",
              "      <th>3</th>\n",
              "      <td>Blend</td>\n",
              "    </tr>\n",
              "    <tr>\n",
              "      <th>4</th>\n",
              "      <td>Amazonas</td>\n",
              "    </tr>\n",
              "    <tr>\n",
              "      <th>5</th>\n",
              "      <td>Amazonas</td>\n",
              "    </tr>\n",
              "    <tr>\n",
              "      <th>6</th>\n",
              "      <td>Amazonas</td>\n",
              "    </tr>\n",
              "    <tr>\n",
              "      <th>7</th>\n",
              "      <td>Amazonas</td>\n",
              "    </tr>\n",
              "    <tr>\n",
              "      <th>8</th>\n",
              "      <td>Dark</td>\n",
              "    </tr>\n",
              "    <tr>\n",
              "      <th>9</th>\n",
              "      <td>Dark</td>\n",
              "    </tr>\n",
              "    <tr>\n",
              "      <th>10</th>\n",
              "      <td>Dark</td>\n",
              "    </tr>\n",
              "    <tr>\n",
              "      <th>11</th>\n",
              "      <td>Dark</td>\n",
              "    </tr>\n",
              "    <tr>\n",
              "      <th>12</th>\n",
              "      <td>Raw</td>\n",
              "    </tr>\n",
              "    <tr>\n",
              "      <th>13</th>\n",
              "      <td>Raw</td>\n",
              "    </tr>\n",
              "    <tr>\n",
              "      <th>14</th>\n",
              "      <td>Raw</td>\n",
              "    </tr>\n",
              "    <tr>\n",
              "      <th>15</th>\n",
              "      <td>Raw</td>\n",
              "    </tr>\n",
              "    <tr>\n",
              "      <th>16</th>\n",
              "      <td>Orinoco</td>\n",
              "    </tr>\n",
              "  </tbody>\n",
              "</table>\n",
              "</div>"
            ],
            "text/plain": [
              "   Specific Bean Origin\n",
              "0       Signature Blend\n",
              "1                 Blend\n",
              "2                 Blend\n",
              "3                 Blend\n",
              "4              Amazonas\n",
              "5              Amazonas\n",
              "6              Amazonas\n",
              "7              Amazonas\n",
              "8                  Dark\n",
              "9                  Dark\n",
              "10                 Dark\n",
              "11                 Dark\n",
              "12                  Raw\n",
              "13                  Raw\n",
              "14                  Raw\n",
              "15                  Raw\n",
              "16              Orinoco"
            ]
          },
          "metadata": {
            "tags": []
          },
          "execution_count": 45
        }
      ]
    },
    {
      "cell_type": "markdown",
      "metadata": {
        "id": "pv2qhp-stnDK"
      },
      "source": [
        "We have overlap, which is good. In theory, we could use the 'Broad Bean Origin' values from bars that *have* that value to fill in the 'Broad Bean Origin' for bars from the same specific region that *don't have* it.\n",
        "\n",
        "But look closely at those 'Specific Bean Origin' values. Dark? Raw? Blend?\n",
        "\n",
        "Those are specific origins. The only two origins that seem even close to regions are 'Amazonas' and 'Orinoco'. Let's look closer at the data for those regions."
      ]
    },
    {
      "cell_type": "code",
      "metadata": {
        "id": "E4Rwap-emG7I",
        "colab": {
          "base_uri": "https://localhost:8080/",
          "height": 303
        },
        "outputId": "fd94022f-e64a-45fe-d410-9b8e75c0eb6c"
      },
      "source": [
        "df[(df['Specific Bean Origin'] == 'Orinoco') | \n",
        "   (df['Specific Bean Origin'] == 'Amazonas')]"
      ],
      "execution_count": null,
      "outputs": [
        {
          "output_type": "execute_result",
          "data": {
            "text/html": [
              "<div>\n",
              "<style scoped>\n",
              "    .dataframe tbody tr th:only-of-type {\n",
              "        vertical-align: middle;\n",
              "    }\n",
              "\n",
              "    .dataframe tbody tr th {\n",
              "        vertical-align: top;\n",
              "    }\n",
              "\n",
              "    .dataframe thead th {\n",
              "        text-align: right;\n",
              "    }\n",
              "</style>\n",
              "<table border=\"1\" class=\"dataframe\">\n",
              "  <thead>\n",
              "    <tr style=\"text-align: right;\">\n",
              "      <th></th>\n",
              "      <th>Company</th>\n",
              "      <th>Company Location</th>\n",
              "      <th>Bean Type</th>\n",
              "      <th>Specific Bean Origin</th>\n",
              "      <th>Broad Bean Origin</th>\n",
              "      <th>Cocoa Percent</th>\n",
              "      <th>REF</th>\n",
              "      <th>Review Date</th>\n",
              "      <th>Rating</th>\n",
              "    </tr>\n",
              "  </thead>\n",
              "  <tbody>\n",
              "    <tr>\n",
              "      <th>777</th>\n",
              "      <td>Habitual</td>\n",
              "      <td>Canada</td>\n",
              "      <td>Unknown</td>\n",
              "      <td>Amazonas</td>\n",
              "      <td></td>\n",
              "      <td>80%</td>\n",
              "      <td>1201</td>\n",
              "      <td>2014</td>\n",
              "      <td>3.00</td>\n",
              "    </tr>\n",
              "    <tr>\n",
              "      <th>855</th>\n",
              "      <td>Hummingbird</td>\n",
              "      <td>Canada</td>\n",
              "      <td>Forastero</td>\n",
              "      <td>Amazonas</td>\n",
              "      <td>Venezuela</td>\n",
              "      <td>70%</td>\n",
              "      <td>1097</td>\n",
              "      <td>2013</td>\n",
              "      <td>3.75</td>\n",
              "    </tr>\n",
              "    <tr>\n",
              "      <th>938</th>\n",
              "      <td>La Maison du Chocolat (Valrhona)</td>\n",
              "      <td>France</td>\n",
              "      <td>Unknown</td>\n",
              "      <td>Orinoco</td>\n",
              "      <td></td>\n",
              "      <td>60%</td>\n",
              "      <td>445</td>\n",
              "      <td>2009</td>\n",
              "      <td>3.75</td>\n",
              "    </tr>\n",
              "    <tr>\n",
              "      <th>1503</th>\n",
              "      <td>Solstice</td>\n",
              "      <td>U.S.A.</td>\n",
              "      <td>Unknown</td>\n",
              "      <td>Amazonas</td>\n",
              "      <td>Venezuela</td>\n",
              "      <td>70%</td>\n",
              "      <td>1157</td>\n",
              "      <td>2013</td>\n",
              "      <td>3.00</td>\n",
              "    </tr>\n",
              "    <tr>\n",
              "      <th>1531</th>\n",
              "      <td>Soma</td>\n",
              "      <td>Canada</td>\n",
              "      <td>Forastero</td>\n",
              "      <td>Orinoco</td>\n",
              "      <td>Venezuela</td>\n",
              "      <td>70%</td>\n",
              "      <td>1173</td>\n",
              "      <td>2013</td>\n",
              "      <td>3.25</td>\n",
              "    </tr>\n",
              "    <tr>\n",
              "      <th>1735</th>\n",
              "      <td>Wilkie's Organic</td>\n",
              "      <td>Ireland</td>\n",
              "      <td>Criollo</td>\n",
              "      <td>Amazonas</td>\n",
              "      <td>Peru</td>\n",
              "      <td>75%</td>\n",
              "      <td>1169</td>\n",
              "      <td>2013</td>\n",
              "      <td>2.50</td>\n",
              "    </tr>\n",
              "    <tr>\n",
              "      <th>1736</th>\n",
              "      <td>Wilkie's Organic</td>\n",
              "      <td>Ireland</td>\n",
              "      <td>Criollo</td>\n",
              "      <td>Amazonas</td>\n",
              "      <td>Peru</td>\n",
              "      <td>89%</td>\n",
              "      <td>1169</td>\n",
              "      <td>2013</td>\n",
              "      <td>2.75</td>\n",
              "    </tr>\n",
              "  </tbody>\n",
              "</table>\n",
              "</div>"
            ],
            "text/plain": [
              "                               Company Company Location  ... Review Date Rating\n",
              "777                           Habitual           Canada  ...        2014   3.00\n",
              "855                        Hummingbird           Canada  ...        2013   3.75\n",
              "938   La Maison du Chocolat (Valrhona)           France  ...        2009   3.75\n",
              "1503                          Solstice           U.S.A.  ...        2013   3.00\n",
              "1531                              Soma           Canada  ...        2013   3.25\n",
              "1735                  Wilkie's Organic          Ireland  ...        2013   2.50\n",
              "1736                  Wilkie's Organic          Ireland  ...        2013   2.75\n",
              "\n",
              "[7 rows x 9 columns]"
            ]
          },
          "metadata": {
            "tags": []
          },
          "execution_count": 46
        }
      ]
    },
    {
      "cell_type": "markdown",
      "metadata": {
        "id": "OLd2P63Cur58"
      },
      "source": [
        "Yuck! Amazonas turns out to be a very common location. There are states called Amazonas in Brazil, Venezuela, and Peru. Orinoco is a river that runs through both Venezuela and Columbia.\n",
        "\n",
        "In neither case do we have definitive data to make the call about the 'Broad Bean Origin' for these rows.\n",
        "\n",
        "Unfortunately that is how it goes when working with data. You get imperfect data into your system, and then you try to research and find the best fix. But you sometimes just have to accept that you are missing data."
      ]
    },
    {
      "cell_type": "markdown",
      "metadata": {
        "id": "rp4vPDsrvXOd"
      },
      "source": [
        "#### Exercise 6: Unknown Broad Bean Origins\n",
        "\n",
        "We have a few 'Broad Bean Origin' values of `0xa0`. Change those values to the literal string 'Unknown'."
      ]
    },
    {
      "cell_type": "markdown",
      "metadata": {
        "id": "Am8-XSgUvnTV"
      },
      "source": [
        "**Student Solution**"
      ]
    },
    {
      "cell_type": "code",
      "metadata": {
        "id": "w-1nztOJvqU0",
        "colab": {
          "base_uri": "https://localhost:8080/",
          "height": 66
        },
        "outputId": "b84be415-d835-46a9-d925-fbca6cc69a7b"
      },
      "source": [
        "# Your Code Goes Here\n",
        "is_space = df['Broad Bean Origin'] == chr(0xa0)\n",
        "# Change space chara to Unknown\n",
        "df.loc[is_space, 'Broad Bean Origin'] = 'Unknown'\n",
        "\n",
        "# List the space Broad Bean Origin (Should be 0 right now)\n",
        "df[df['Broad Bean Origin'] == chr(0xa0)]"
      ],
      "execution_count": null,
      "outputs": [
        {
          "output_type": "execute_result",
          "data": {
            "text/html": [
              "<div>\n",
              "<style scoped>\n",
              "    .dataframe tbody tr th:only-of-type {\n",
              "        vertical-align: middle;\n",
              "    }\n",
              "\n",
              "    .dataframe tbody tr th {\n",
              "        vertical-align: top;\n",
              "    }\n",
              "\n",
              "    .dataframe thead th {\n",
              "        text-align: right;\n",
              "    }\n",
              "</style>\n",
              "<table border=\"1\" class=\"dataframe\">\n",
              "  <thead>\n",
              "    <tr style=\"text-align: right;\">\n",
              "      <th></th>\n",
              "      <th>Company</th>\n",
              "      <th>Company Location</th>\n",
              "      <th>Bean Type</th>\n",
              "      <th>Specific Bean Origin</th>\n",
              "      <th>Broad Bean Origin</th>\n",
              "      <th>Cocoa Percent</th>\n",
              "      <th>REF</th>\n",
              "      <th>Review Date</th>\n",
              "      <th>Rating</th>\n",
              "    </tr>\n",
              "  </thead>\n",
              "  <tbody>\n",
              "  </tbody>\n",
              "</table>\n",
              "</div>"
            ],
            "text/plain": [
              "Empty DataFrame\n",
              "Columns: [Company, Company Location, Bean Type, Specific Bean Origin, Broad Bean Origin, Cocoa Percent, REF, Review Date, Rating]\n",
              "Index: []"
            ]
          },
          "metadata": {
            "tags": []
          },
          "execution_count": 47
        }
      ]
    },
    {
      "cell_type": "code",
      "metadata": {
        "colab": {
          "base_uri": "https://localhost:8080/",
          "height": 303
        },
        "id": "Uqqh67v2SzqD",
        "outputId": "41a20efb-1e61-41c4-fd59-b33fa5bf66d6"
      },
      "source": [
        "df[(df['Specific Bean Origin'] == 'Orinoco') | \n",
        "   (df['Specific Bean Origin'] == 'Amazonas')]"
      ],
      "execution_count": null,
      "outputs": [
        {
          "output_type": "execute_result",
          "data": {
            "text/html": [
              "<div>\n",
              "<style scoped>\n",
              "    .dataframe tbody tr th:only-of-type {\n",
              "        vertical-align: middle;\n",
              "    }\n",
              "\n",
              "    .dataframe tbody tr th {\n",
              "        vertical-align: top;\n",
              "    }\n",
              "\n",
              "    .dataframe thead th {\n",
              "        text-align: right;\n",
              "    }\n",
              "</style>\n",
              "<table border=\"1\" class=\"dataframe\">\n",
              "  <thead>\n",
              "    <tr style=\"text-align: right;\">\n",
              "      <th></th>\n",
              "      <th>Company</th>\n",
              "      <th>Company Location</th>\n",
              "      <th>Bean Type</th>\n",
              "      <th>Specific Bean Origin</th>\n",
              "      <th>Broad Bean Origin</th>\n",
              "      <th>Cocoa Percent</th>\n",
              "      <th>REF</th>\n",
              "      <th>Review Date</th>\n",
              "      <th>Rating</th>\n",
              "    </tr>\n",
              "  </thead>\n",
              "  <tbody>\n",
              "    <tr>\n",
              "      <th>777</th>\n",
              "      <td>Habitual</td>\n",
              "      <td>Canada</td>\n",
              "      <td>Unknown</td>\n",
              "      <td>Amazonas</td>\n",
              "      <td>Unknown</td>\n",
              "      <td>80%</td>\n",
              "      <td>1201</td>\n",
              "      <td>2014</td>\n",
              "      <td>3.00</td>\n",
              "    </tr>\n",
              "    <tr>\n",
              "      <th>855</th>\n",
              "      <td>Hummingbird</td>\n",
              "      <td>Canada</td>\n",
              "      <td>Forastero</td>\n",
              "      <td>Amazonas</td>\n",
              "      <td>Venezuela</td>\n",
              "      <td>70%</td>\n",
              "      <td>1097</td>\n",
              "      <td>2013</td>\n",
              "      <td>3.75</td>\n",
              "    </tr>\n",
              "    <tr>\n",
              "      <th>938</th>\n",
              "      <td>La Maison du Chocolat (Valrhona)</td>\n",
              "      <td>France</td>\n",
              "      <td>Unknown</td>\n",
              "      <td>Orinoco</td>\n",
              "      <td>Unknown</td>\n",
              "      <td>60%</td>\n",
              "      <td>445</td>\n",
              "      <td>2009</td>\n",
              "      <td>3.75</td>\n",
              "    </tr>\n",
              "    <tr>\n",
              "      <th>1503</th>\n",
              "      <td>Solstice</td>\n",
              "      <td>U.S.A.</td>\n",
              "      <td>Unknown</td>\n",
              "      <td>Amazonas</td>\n",
              "      <td>Venezuela</td>\n",
              "      <td>70%</td>\n",
              "      <td>1157</td>\n",
              "      <td>2013</td>\n",
              "      <td>3.00</td>\n",
              "    </tr>\n",
              "    <tr>\n",
              "      <th>1531</th>\n",
              "      <td>Soma</td>\n",
              "      <td>Canada</td>\n",
              "      <td>Forastero</td>\n",
              "      <td>Orinoco</td>\n",
              "      <td>Venezuela</td>\n",
              "      <td>70%</td>\n",
              "      <td>1173</td>\n",
              "      <td>2013</td>\n",
              "      <td>3.25</td>\n",
              "    </tr>\n",
              "    <tr>\n",
              "      <th>1735</th>\n",
              "      <td>Wilkie's Organic</td>\n",
              "      <td>Ireland</td>\n",
              "      <td>Criollo</td>\n",
              "      <td>Amazonas</td>\n",
              "      <td>Peru</td>\n",
              "      <td>75%</td>\n",
              "      <td>1169</td>\n",
              "      <td>2013</td>\n",
              "      <td>2.50</td>\n",
              "    </tr>\n",
              "    <tr>\n",
              "      <th>1736</th>\n",
              "      <td>Wilkie's Organic</td>\n",
              "      <td>Ireland</td>\n",
              "      <td>Criollo</td>\n",
              "      <td>Amazonas</td>\n",
              "      <td>Peru</td>\n",
              "      <td>89%</td>\n",
              "      <td>1169</td>\n",
              "      <td>2013</td>\n",
              "      <td>2.75</td>\n",
              "    </tr>\n",
              "  </tbody>\n",
              "</table>\n",
              "</div>"
            ],
            "text/plain": [
              "                               Company Company Location  ... Review Date Rating\n",
              "777                           Habitual           Canada  ...        2014   3.00\n",
              "855                        Hummingbird           Canada  ...        2013   3.75\n",
              "938   La Maison du Chocolat (Valrhona)           France  ...        2009   3.75\n",
              "1503                          Solstice           U.S.A.  ...        2013   3.00\n",
              "1531                              Soma           Canada  ...        2013   3.25\n",
              "1735                  Wilkie's Organic          Ireland  ...        2013   2.50\n",
              "1736                  Wilkie's Organic          Ireland  ...        2013   2.75\n",
              "\n",
              "[7 rows x 9 columns]"
            ]
          },
          "metadata": {
            "tags": []
          },
          "execution_count": 48
        }
      ]
    },
    {
      "cell_type": "markdown",
      "metadata": {
        "id": "eTGo8qRPvpTY"
      },
      "source": [
        "---"
      ]
    },
    {
      "cell_type": "markdown",
      "metadata": {
        "id": "u62i8AyedjYS"
      },
      "source": [
        "### Column: Cocoa Percent"
      ]
    },
    {
      "cell_type": "markdown",
      "metadata": {
        "id": "R9yoBTgVn2FC"
      },
      "source": [
        "Next we will check out the 'Cocoa Percent' column. Remember that 'Cocoa Percent' is \"*Cocoa percentage (darkness) of the chocolate bar*.\"\n",
        "\n",
        "As usual, we'll first see if there is any missing data:"
      ]
    },
    {
      "cell_type": "code",
      "metadata": {
        "id": "yf9ZR67MO2On",
        "colab": {
          "base_uri": "https://localhost:8080/"
        },
        "outputId": "a64c0bb9-4189-4cbd-fb8f-bf301d5e187c"
      },
      "source": [
        "df['Cocoa Percent'].isna().any()"
      ],
      "execution_count": null,
      "outputs": [
        {
          "output_type": "execute_result",
          "data": {
            "text/plain": [
              "False"
            ]
          },
          "metadata": {
            "tags": []
          },
          "execution_count": 49
        }
      ]
    },
    {
      "cell_type": "markdown",
      "metadata": {
        "id": "obWQn5v_O6Y8"
      },
      "source": [
        "Nothing missing. Great!\n",
        "\n",
        "Next, we should probably check to make sure that the percentages fall within a valid range: 0-100 or 0.0-1.0. You might recall that 'Cocoa Percent' isn't actually a numeric column, though, so we can't easily find the range. If we sample the data, we see that it looks like percentages from 0 to 100, but they are stored as strings with '%' symbols appended."
      ]
    },
    {
      "cell_type": "code",
      "metadata": {
        "id": "PpefxWtCPSLg",
        "colab": {
          "base_uri": "https://localhost:8080/"
        },
        "outputId": "48b9b883-028d-442f-b27a-784b28ec1fb7"
      },
      "source": [
        "df['Cocoa Percent'].sample(10)"
      ],
      "execution_count": null,
      "outputs": [
        {
          "output_type": "execute_result",
          "data": {
            "text/plain": [
              "1029    70%\n",
              "242     75%\n",
              "864     72%\n",
              "1142    67%\n",
              "768     65%\n",
              "714     70%\n",
              "1387    75%\n",
              "111     73%\n",
              "1436    62%\n",
              "1339    77%\n",
              "Name: Cocoa Percent, dtype: object"
            ]
          },
          "metadata": {
            "tags": []
          },
          "execution_count": 50
        }
      ]
    },
    {
      "cell_type": "markdown",
      "metadata": {
        "id": "0pM0VQeZPw7K"
      },
      "source": [
        "We need to remove those percentage signs and convert the digits that remain into numbers. There are a few ways that we can accomplish this.\n",
        "\n",
        "One is to apply a lambda to each value. The lambda can slice all but the last character of each value and then convert it to a float using core Python syntax."
      ]
    },
    {
      "cell_type": "code",
      "metadata": {
        "id": "0Ck7RSOBP4eV",
        "colab": {
          "base_uri": "https://localhost:8080/"
        },
        "outputId": "fd28d261-b2a0-4215-928b-b0b17fcbadd2"
      },
      "source": [
        "df['Cocoa Percent'].apply(lambda s: float(s[:-1]))"
      ],
      "execution_count": null,
      "outputs": [
        {
          "output_type": "execute_result",
          "data": {
            "text/plain": [
              "0       63.0\n",
              "1       70.0\n",
              "2       70.0\n",
              "3       70.0\n",
              "4       70.0\n",
              "        ... \n",
              "1790    70.0\n",
              "1791    65.0\n",
              "1792    65.0\n",
              "1793    62.0\n",
              "1794    65.0\n",
              "Name: Cocoa Percent, Length: 1795, dtype: float64"
            ]
          },
          "metadata": {
            "tags": []
          },
          "execution_count": 51
        }
      ]
    },
    {
      "cell_type": "markdown",
      "metadata": {
        "id": "xbgR_ICHRGxA"
      },
      "source": [
        "An alternative is to use `.str.strip('%')` on the `Series` to remove the percentage sign and then pass the resultant `Series` to `pd.to_numeric()` in order to convert the string values to numbers."
      ]
    },
    {
      "cell_type": "code",
      "metadata": {
        "id": "73zhUkgbPRL_",
        "colab": {
          "base_uri": "https://localhost:8080/"
        },
        "outputId": "943e37d2-5511-4341-c423-df7a574c502b"
      },
      "source": [
        "pd.to_numeric(df['Cocoa Percent'].str.strip('%'))"
      ],
      "execution_count": null,
      "outputs": [
        {
          "output_type": "execute_result",
          "data": {
            "text/plain": [
              "0       63.0\n",
              "1       70.0\n",
              "2       70.0\n",
              "3       70.0\n",
              "4       70.0\n",
              "        ... \n",
              "1790    70.0\n",
              "1791    65.0\n",
              "1792    65.0\n",
              "1793    62.0\n",
              "1794    65.0\n",
              "Name: Cocoa Percent, Length: 1795, dtype: float64"
            ]
          },
          "metadata": {
            "tags": []
          },
          "execution_count": 52
        }
      ]
    },
    {
      "cell_type": "markdown",
      "metadata": {
        "id": "DEka63nyRWLG"
      },
      "source": [
        "Is one way better than the other? Not necessarily. Feel free to choose whichever feels more natural to you.\n",
        "\n",
        "Either way, we need to do the conversion and save the new values to 'Cocoa Percent'."
      ]
    },
    {
      "cell_type": "code",
      "metadata": {
        "id": "PDHkS3d_Rpyq",
        "colab": {
          "base_uri": "https://localhost:8080/"
        },
        "outputId": "0a6bc85d-4932-4b60-b4d5-eea04fddd2c5"
      },
      "source": [
        "df['Cocoa Percent'] = df['Cocoa Percent'].apply(lambda s: float(s[:-1]))\n",
        "df['Cocoa Percent'].describe()"
      ],
      "execution_count": null,
      "outputs": [
        {
          "output_type": "execute_result",
          "data": {
            "text/plain": [
              "count    1795.000000\n",
              "mean       71.698329\n",
              "std         6.323118\n",
              "min        42.000000\n",
              "25%        70.000000\n",
              "50%        70.000000\n",
              "75%        75.000000\n",
              "max       100.000000\n",
              "Name: Cocoa Percent, dtype: float64"
            ]
          },
          "metadata": {
            "tags": []
          },
          "execution_count": 53
        }
      ]
    },
    {
      "cell_type": "markdown",
      "metadata": {
        "id": "K0v69PWOmpBp"
      },
      "source": [
        "We have now converted our 'Cocoa Percent' column from a string to a floating point number. We can see in the output of the call to `describe()` that the minimum cocoa percentage that we have is 42% and that the maximum is 100%. Both seem like reasonable values for cocoa content in a chocolate bar, so our work here is done."
      ]
    },
    {
      "cell_type": "markdown",
      "metadata": {
        "id": "tdmZTO2KTexy"
      },
      "source": [
        "### Column: REF"
      ]
    },
    {
      "cell_type": "markdown",
      "metadata": {
        "id": "OTwhzLEZTyi8"
      },
      "source": [
        "The 'REF' column is \"*A value linked to when the review was entered in the database. Higher = more recent*.\" Let's take a look at it.\n",
        "\n",
        "As always, we should check and see if there are any values missing."
      ]
    },
    {
      "cell_type": "code",
      "metadata": {
        "id": "1wHAtxeCVAqD",
        "colab": {
          "base_uri": "https://localhost:8080/"
        },
        "outputId": "13a3b981-06bf-4502-eb0d-39079f2890c3"
      },
      "source": [
        "df['REF'].isna().any()"
      ],
      "execution_count": null,
      "outputs": [
        {
          "output_type": "execute_result",
          "data": {
            "text/plain": [
              "False"
            ]
          },
          "metadata": {
            "tags": []
          },
          "execution_count": 54
        }
      ]
    },
    {
      "cell_type": "markdown",
      "metadata": {
        "id": "ecfkqlT8VRcY"
      },
      "source": [
        "We can `describe()` the data to see some basic statistics about it."
      ]
    },
    {
      "cell_type": "code",
      "metadata": {
        "id": "Qknt0ahdVH4W",
        "colab": {
          "base_uri": "https://localhost:8080/"
        },
        "outputId": "eec4e064-4ba0-43c0-822e-7602076fa13a"
      },
      "source": [
        "df['REF'].describe()"
      ],
      "execution_count": null,
      "outputs": [
        {
          "output_type": "execute_result",
          "data": {
            "text/plain": [
              "count    1795.000000\n",
              "mean     1035.904735\n",
              "std       552.886365\n",
              "min         5.000000\n",
              "25%       576.000000\n",
              "50%      1069.000000\n",
              "75%      1502.000000\n",
              "max      1952.000000\n",
              "Name: REF, dtype: float64"
            ]
          },
          "metadata": {
            "tags": []
          },
          "execution_count": 55
        }
      ]
    },
    {
      "cell_type": "markdown",
      "metadata": {
        "id": "0tufVwglVVwY"
      },
      "source": [
        "Here we can see that the data ranges from 5 through 1952 and that the mean is pretty high.\n",
        "\n",
        "Are the values unique?"
      ]
    },
    {
      "cell_type": "code",
      "metadata": {
        "id": "i-6iGJD0VyBf",
        "colab": {
          "base_uri": "https://localhost:8080/"
        },
        "outputId": "57c522c8-28e7-4a92-fa56-c97bb99b6d71"
      },
      "source": [
        "df['REF'].unique().size"
      ],
      "execution_count": null,
      "outputs": [
        {
          "output_type": "execute_result",
          "data": {
            "text/plain": [
              "440"
            ]
          },
          "metadata": {
            "tags": []
          },
          "execution_count": 56
        }
      ]
    },
    {
      "cell_type": "markdown",
      "metadata": {
        "id": "b0W32mH0WP8u"
      },
      "source": [
        "Not unique. So 'REF' isn't a unique identifier for our rows of data."
      ]
    },
    {
      "cell_type": "markdown",
      "metadata": {
        "id": "s2qh6_MGWdQ4"
      },
      "source": [
        "There isn't much more that we can do with this column. We might want to visualize it to see if we can find any meaning. The numbers themselves aren't particularly interesting, but the quantity of each number might be. Let's find and plot the count of each 'REF'."
      ]
    },
    {
      "cell_type": "code",
      "metadata": {
        "id": "b9zw2eTHWxJB",
        "colab": {
          "base_uri": "https://localhost:8080/",
          "height": 506
        },
        "outputId": "97b83d67-665a-40df-ae23-62db8d41f3e5"
      },
      "source": [
        "import matplotlib.pyplot as plt\n",
        "\n",
        "ref_counts = df['REF'].groupby(df['REF']).count()\n",
        "plt.figure(figsize=(20,10))\n",
        "plt.bar(ref_counts.index.values, ref_counts)\n",
        "plt.show()"
      ],
      "execution_count": null,
      "outputs": [
        {
          "output_type": "display_data",
          "data": {
            "image/png": "[encoded data removed]",
            "text/plain": [
              "<Figure size 1440x720 with 1 Axes>"
            ]
          },
          "metadata": {
            "tags": [],
            "needs_background": "light"
          }
        }
      ]
    },
    {
      "cell_type": "markdown",
      "metadata": {
        "id": "_j-xZZC_XcY7"
      },
      "source": [
        "From this chart we can see that 'REF' values repeat between 1 and 9 times with 4 being the most common. Overall, there isn't much interesting data or data repair for this column."
      ]
    },
    {
      "cell_type": "markdown",
      "metadata": {
        "id": "ceaB_NaubW1x"
      },
      "source": [
        "### Column: Review Date"
      ]
    },
    {
      "cell_type": "markdown",
      "metadata": {
        "id": "nOgnWofebcQx"
      },
      "source": [
        "Review date is the date that the review for a given row was actually published. It is a numeric column.\n",
        "\n",
        "First, let's see if any data is missing."
      ]
    },
    {
      "cell_type": "code",
      "metadata": {
        "id": "Bx71DI97brba",
        "colab": {
          "base_uri": "https://localhost:8080/"
        },
        "outputId": "ee8a39e8-f138-48cc-caed-c5985412a6d9"
      },
      "source": [
        "df['Review Date'].isna().any()"
      ],
      "execution_count": null,
      "outputs": [
        {
          "output_type": "execute_result",
          "data": {
            "text/plain": [
              "False"
            ]
          },
          "metadata": {
            "tags": []
          },
          "execution_count": 58
        }
      ]
    },
    {
      "cell_type": "markdown",
      "metadata": {
        "id": "357tRDRpb1v3"
      },
      "source": [
        "No missing data. Good.\n",
        "\n",
        "Now we can check some basic statistics about the data."
      ]
    },
    {
      "cell_type": "code",
      "metadata": {
        "id": "nTjNEeYub6np",
        "colab": {
          "base_uri": "https://localhost:8080/"
        },
        "outputId": "2d871c32-a076-4754-f0c3-16ea983a58ac"
      },
      "source": [
        "df['Review Date'].describe()"
      ],
      "execution_count": null,
      "outputs": [
        {
          "output_type": "execute_result",
          "data": {
            "text/plain": [
              "count    1795.000000\n",
              "mean     2012.325348\n",
              "std         2.927210\n",
              "min      2006.000000\n",
              "25%      2010.000000\n",
              "50%      2013.000000\n",
              "75%      2015.000000\n",
              "max      2017.000000\n",
              "Name: Review Date, dtype: float64"
            ]
          },
          "metadata": {
            "tags": []
          },
          "execution_count": 59
        }
      ]
    },
    {
      "cell_type": "markdown",
      "metadata": {
        "id": "e8t6UURbb9QW"
      },
      "source": [
        "We can see publication dates ranging from 2006 through 2017, which seems like reasonable years. If we had seen dates from the 1800s or the future, we should be worried. This range seems well within reason, though.\n",
        "\n",
        "There isn't much else that we need to do for this column. Since we only have a few years when reviews were posted, we can create a visualization showing how many reviews were posted each year."
      ]
    },
    {
      "cell_type": "markdown",
      "metadata": {
        "id": "ftNn3yb5cj2e"
      },
      "source": [
        "#### Exercise 7: Reviews Per Year\n",
        "\n",
        "Create a visualization that shows the number of reviews that were created each year."
      ]
    },
    {
      "cell_type": "markdown",
      "metadata": {
        "id": "h9b2S5Dkct1w"
      },
      "source": [
        "**Student Solution**"
      ]
    },
    {
      "cell_type": "code",
      "metadata": {
        "id": "YGsp-igoczGx",
        "colab": {
          "base_uri": "https://localhost:8080/",
          "height": 295
        },
        "outputId": "9dd1f24c-50da-4e35-fda8-ba7faa951ea2"
      },
      "source": [
        "# Reviews Per Year Visualization\n",
        "import matplotlib.pyplot as plt\n",
        "\n",
        "data = df['Review Date'].groupby(df['Review Date']).count()\n",
        "\n",
        "plt.plot(data.index, data, marker=\"X\")\n",
        "plt.title(\"Reviews Per Year\")\n",
        "plt.xlabel(\"Year\")\n",
        "plt.ylabel(\"Num of review(s)\")\n",
        "plt.show()"
      ],
      "execution_count": null,
      "outputs": [
        {
          "output_type": "display_data",
          "data": {
            "image/png": "[encoded data removed]",
            "text/plain": [
              "<Figure size 432x288 with 1 Axes>"
            ]
          },
          "metadata": {
            "tags": [],
            "needs_background": "light"
          }
        }
      ]
    },
    {
      "cell_type": "markdown",
      "metadata": {
        "id": "T-or1La-c6y7"
      },
      "source": [
        "---"
      ]
    },
    {
      "cell_type": "markdown",
      "metadata": {
        "id": "mX_nMXjMdrVT"
      },
      "source": [
        "### Column: Rating"
      ]
    },
    {
      "cell_type": "markdown",
      "metadata": {
        "id": "k_GIPUeC08Gz"
      },
      "source": [
        "We have now made it to the rating column. The rating is the \"*expert rating for the bar*.\"  From the [documentation](https://www.kaggle.com/rtatman/chocolate-bar-ratings), the possible ratings are:\n",
        "\n",
        "Rating | Meaning\n",
        "-------|---------\n",
        "5 | Elite (Transcending beyond the ordinary limits)\n",
        "4 | Premium (Superior flavor development, character and style)\n",
        "3 | Satisfactory (3.0) to praiseworthy(3.75) (well made with special qualities)\n",
        "2 | Disappointing (Passable but contains at least one significant flaw)\n",
        "1 | Unpleasant (mostly unpalatable)\n",
        "\n",
        "Let's take a look at ratings. First off, are any missing?"
      ]
    },
    {
      "cell_type": "code",
      "metadata": {
        "id": "mbpdYmLt3vam",
        "colab": {
          "base_uri": "https://localhost:8080/"
        },
        "outputId": "dcc784cc-c41d-4a87-8eef-d3f213441197"
      },
      "source": [
        "df['Rating'].isna().any()"
      ],
      "execution_count": null,
      "outputs": [
        {
          "output_type": "execute_result",
          "data": {
            "text/plain": [
              "False"
            ]
          },
          "metadata": {
            "tags": []
          },
          "execution_count": 61
        }
      ]
    },
    {
      "cell_type": "markdown",
      "metadata": {
        "id": "Vgj0-juX30CC"
      },
      "source": [
        "Nothing missing. Let's describe the column of data."
      ]
    },
    {
      "cell_type": "code",
      "metadata": {
        "id": "ux0NkE4X33A-",
        "colab": {
          "base_uri": "https://localhost:8080/"
        },
        "outputId": "9aeaebe6-a56a-4e89-bdfd-16fa8c5ede77"
      },
      "source": [
        "df['Rating'].describe()"
      ],
      "execution_count": null,
      "outputs": [
        {
          "output_type": "execute_result",
          "data": {
            "text/plain": [
              "count    1795.000000\n",
              "mean        3.185933\n",
              "std         0.478062\n",
              "min         1.000000\n",
              "25%         2.875000\n",
              "50%         3.250000\n",
              "75%         3.500000\n",
              "max         5.000000\n",
              "Name: Rating, dtype: float64"
            ]
          },
          "metadata": {
            "tags": []
          },
          "execution_count": 62
        }
      ]
    },
    {
      "cell_type": "markdown",
      "metadata": {
        "id": "I8bbhS454MRY"
      },
      "source": [
        "It looks like our ratings are indeed floating point values and that they range from 1.0 to 5.0. But are they really continuous?"
      ]
    },
    {
      "cell_type": "code",
      "metadata": {
        "id": "M8Sh68jo4TPO",
        "colab": {
          "base_uri": "https://localhost:8080/"
        },
        "outputId": "5cbabb0f-592f-4618-dd57-f571fab810a8"
      },
      "source": [
        "sorted(df['Rating'].unique())"
      ],
      "execution_count": null,
      "outputs": [
        {
          "output_type": "execute_result",
          "data": {
            "text/plain": [
              "[1.0, 1.5, 1.75, 2.0, 2.25, 2.5, 2.75, 3.0, 3.25, 3.5, 3.75, 4.0, 5.0]"
            ]
          },
          "metadata": {
            "tags": []
          },
          "execution_count": 63
        }
      ]
    },
    {
      "cell_type": "markdown",
      "metadata": {
        "id": "06Xu3zAoyI1R"
      },
      "source": [
        "Interestingly enough, the values don't seem to be continuous, but instead seem to be divided into quarters. Instead of infinite possible values between 1.0 and 5.0, we really have 17 possible values: 1.0, 1.25, 1.5, 1.75, 2.0, 2.25, 2.5, 2.75, 3.0, 3.25, 3.5, 3.75, 4.0, 4.25, 4.5, 4.75, 5.0.\n",
        "\n",
        "What does this mean for us?\n",
        "\n",
        "It means that downstream we might be able to use a regression or categorical model in order to predict these values.\n",
        "\n",
        "If we think about the ratings numbers, their relative position matters. For example, a 4.0 chocolate is better than a 2.0 chocolate. But does the magnitude matter? Is a 4.0 chocolate twice as good as a 2.0 chocolate? What does that even mean?\n",
        "\n",
        "Let's set our modelers up for success and create a new column that they can use to potentially build models for our data."
      ]
    },
    {
      "cell_type": "markdown",
      "metadata": {
        "id": "31Ca5wI4zqA_"
      },
      "source": [
        "#### Exercise 8: Ratings as Categories\n",
        "\n",
        "In this exercise we are going to create a new column called 'Grade'. Grade is a categorical rating system that maps the following ratings to grades:\n",
        "\n",
        "Rating | Grade\n",
        "-------|------\n",
        "5.00   | A\n",
        "4.75   | B\n",
        "4.50   | C\n",
        "4.25   | D\n",
        "4.00   | E\n",
        "3.75   | F\n",
        "3.50   | G\n",
        "3.25   | H\n",
        "3.00   | I\n",
        "2.75   | J\n",
        "2.50   | K\n",
        "2.25   | L\n",
        "2.00   | M\n",
        "1.75   | N\n",
        "1.50   | O\n",
        "1.25   | P\n",
        "1.00   | Q\n",
        "\n",
        "Create the 'Grade' column and add it to our chocolate bar `DataFrame`."
      ]
    },
    {
      "cell_type": "markdown",
      "metadata": {
        "id": "l8taMl3U0cv2"
      },
      "source": [
        "**Student Solution**"
      ]
    },
    {
      "cell_type": "code",
      "metadata": {
        "id": "3ZvVNGDe0cNw",
        "colab": {
          "base_uri": "https://localhost:8080/",
          "height": 258
        },
        "outputId": "70358e8d-b96d-40ad-a353-1d31fbca7330"
      },
      "source": [
        "# Your Code Goes Here\n",
        "import numpy as np\n",
        "import pandas as pd\n",
        "import string\n",
        "    \n",
        "grade = pd.Series(list(string.ascii_uppercase[0:17]))\n",
        "rating = pd.Series(np.linspace(5, 1, num=17))\n",
        "\n",
        "rating_df = pd.DataFrame({'Rating': rating, 'Grade': grade})\n",
        "pd.merge(df, rating_df).sample(5)"
      ],
      "execution_count": null,
      "outputs": [
        {
          "output_type": "execute_result",
          "data": {
            "text/html": [
              "<div>\n",
              "<style scoped>\n",
              "    .dataframe tbody tr th:only-of-type {\n",
              "        vertical-align: middle;\n",
              "    }\n",
              "\n",
              "    .dataframe tbody tr th {\n",
              "        vertical-align: top;\n",
              "    }\n",
              "\n",
              "    .dataframe thead th {\n",
              "        text-align: right;\n",
              "    }\n",
              "</style>\n",
              "<table border=\"1\" class=\"dataframe\">\n",
              "  <thead>\n",
              "    <tr style=\"text-align: right;\">\n",
              "      <th></th>\n",
              "      <th>Company</th>\n",
              "      <th>Company Location</th>\n",
              "      <th>Bean Type</th>\n",
              "      <th>Specific Bean Origin</th>\n",
              "      <th>Broad Bean Origin</th>\n",
              "      <th>Cocoa Percent</th>\n",
              "      <th>REF</th>\n",
              "      <th>Review Date</th>\n",
              "      <th>Rating</th>\n",
              "      <th>Grade</th>\n",
              "    </tr>\n",
              "  </thead>\n",
              "  <tbody>\n",
              "    <tr>\n",
              "      <th>1673</th>\n",
              "      <td>Kto</td>\n",
              "      <td>U.S.A.</td>\n",
              "      <td>Unknown</td>\n",
              "      <td>San Martin</td>\n",
              "      <td>Peru</td>\n",
              "      <td>72.0</td>\n",
              "      <td>1422</td>\n",
              "      <td>2014</td>\n",
              "      <td>2.50</td>\n",
              "      <td>K</td>\n",
              "    </tr>\n",
              "    <tr>\n",
              "      <th>358</th>\n",
              "      <td>Malagasy (Chocolaterie Robert)</td>\n",
              "      <td>Madagascar</td>\n",
              "      <td>Trinitario</td>\n",
              "      <td>Sambirano 2006</td>\n",
              "      <td>Madagascar</td>\n",
              "      <td>75.0</td>\n",
              "      <td>184</td>\n",
              "      <td>2007</td>\n",
              "      <td>2.75</td>\n",
              "      <td>J</td>\n",
              "    </tr>\n",
              "    <tr>\n",
              "      <th>93</th>\n",
              "      <td>Heirloom Cacao Preservation (Zokoko)</td>\n",
              "      <td>U.S.A.</td>\n",
              "      <td>Amazon, ICS</td>\n",
              "      <td>Alto Beni, Upper Rio Beni, 2015</td>\n",
              "      <td>Bolivia</td>\n",
              "      <td>68.0</td>\n",
              "      <td>1744</td>\n",
              "      <td>2016</td>\n",
              "      <td>3.75</td>\n",
              "      <td>F</td>\n",
              "    </tr>\n",
              "    <tr>\n",
              "      <th>1570</th>\n",
              "      <td>Taza</td>\n",
              "      <td>U.S.A.</td>\n",
              "      <td>Unknown</td>\n",
              "      <td>Alto Beni</td>\n",
              "      <td>Bolivia</td>\n",
              "      <td>87.0</td>\n",
              "      <td>785</td>\n",
              "      <td>2011</td>\n",
              "      <td>3.25</td>\n",
              "      <td>H</td>\n",
              "    </tr>\n",
              "    <tr>\n",
              "      <th>306</th>\n",
              "      <td>Feitoria Cacao</td>\n",
              "      <td>Portugal</td>\n",
              "      <td>Trinitario</td>\n",
              "      <td>Maya Mountain</td>\n",
              "      <td>Belize</td>\n",
              "      <td>76.0</td>\n",
              "      <td>1736</td>\n",
              "      <td>2016</td>\n",
              "      <td>2.75</td>\n",
              "      <td>J</td>\n",
              "    </tr>\n",
              "  </tbody>\n",
              "</table>\n",
              "</div>"
            ],
            "text/plain": [
              "                                   Company Company Location  ... Rating Grade\n",
              "1673                                   Kto           U.S.A.  ...   2.50     K\n",
              "358         Malagasy (Chocolaterie Robert)       Madagascar  ...   2.75     J\n",
              "93    Heirloom Cacao Preservation (Zokoko)           U.S.A.  ...   3.75     F\n",
              "1570                                  Taza           U.S.A.  ...   3.25     H\n",
              "306                         Feitoria Cacao         Portugal  ...   2.75     J\n",
              "\n",
              "[5 rows x 10 columns]"
            ]
          },
          "metadata": {
            "tags": []
          },
          "execution_count": 64
        }
      ]
    },
    {
      "cell_type": "markdown",
      "metadata": {
        "id": "sOKQItqF0gR3"
      },
      "source": [
        "---"
      ]
    },
    {
      "cell_type": "markdown",
      "metadata": {
        "id": "e0E6_seMAPNg"
      },
      "source": [
        "## Onward\n",
        "\n",
        "We've now explored every column in our dataset. We have filled in missing values and repaired obviously bad data.\n",
        "\n",
        "As you can imagine, you can spend near infinite time trying to get a dataset into shape for analysis and modeling. It is common to hear that up to 60% to 80% of a data scientist's time is spent working on the data before it is fed to a model!\n",
        "\n",
        "In this lab, we only tried to get the data into the state that it was intended to be in. Once we get into modeling, we will learn even more data manipulation techniques that need to be used in order to get models to train well on the data.\n",
        "\n",
        "But we aren't quite ready for model building yet. There is still more Exploratory Data Analysis (EDA) to do. In part 2 of this unit, we will look more closely at the relationships between the columns."
      ]
    }
  ]
}