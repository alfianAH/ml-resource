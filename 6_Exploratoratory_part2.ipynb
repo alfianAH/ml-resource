{
  "nbformat": 4,
  "nbformat_minor": 0,
  "metadata": {
    "colab": {
      "name": "#6-Exploratoratory part2.ipynb",
      "provenance": [],
      "collapsed_sections": [
        "copyright",
        "6PECS1ohB0r6",
        "8S_TJhJuBujB",
        "vu0HqS7duv2l",
        "zuNhoRa6MHyZ"
      ],
      "toc_visible": true
    },
    "kernelspec": {
      "display_name": "Python 3",
      "name": "python3"
    }
  },
  "cells": [
    {
      "cell_type": "markdown",
      "metadata": {
        "id": "copyright"
      },
      "source": [
        "#### Copyright 2020 Google LLC."
      ]
    },
    {
      "cell_type": "code",
      "metadata": {
        "id": "jHUQ8PUGZh8y"
      },
      "source": [
        "# Licensed under the Apache License, Version 2.0 (the \"License\");\n",
        "# you may not use this file except in compliance with the License.\n",
        "# You may obtain a copy of the License at\n",
        "#\n",
        "# https://www.apache.org/licenses/LICENSE-2.0\n",
        "#\n",
        "# Unless required by applicable law or agreed to in writing, software\n",
        "# distributed under the License is distributed on an \"AS IS\" BASIS,\n",
        "# WITHOUT WARRANTIES OR CONDITIONS OF ANY KIND, either express or implied.\n",
        "# See the License for the specific language governing permissions and\n",
        "# limitations under the License."
      ],
      "execution_count": 199,
      "outputs": []
    },
    {
      "cell_type": "markdown",
      "metadata": {
        "id": "HQswfu6M_ZBR"
      },
      "source": [
        "# Exploratory Data Analysis: Part 2 - Analysis and Visualizations"
      ]
    },
    {
      "cell_type": "markdown",
      "metadata": {
        "id": "invE35z3n2Yn"
      },
      "source": [
        "In this second part of our [Exploratory Data Analysis](https://en.wikipedia.org/wiki/Exploratory_data_analysis) journey, we will build upon the cleaned up dataset that we created in part 1.\n",
        "\n",
        "In part 2 we will use visualization libraries to look closer at individual columns and to see how different columns relate to one another."
      ]
    },
    {
      "cell_type": "markdown",
      "metadata": {
        "id": "bIxZkNQzBiyc"
      },
      "source": [
        "## Part 1 Recap"
      ]
    },
    {
      "cell_type": "markdown",
      "metadata": {
        "id": "U4nDJfscDH9o"
      },
      "source": [
        "### The Dataset: Chocolate Bar Ratings\n",
        "\n",
        "You should remember that in this lab we are using a [chocolate bar ratings dataset](https://www.kaggle.com/rtatman/chocolate-bar-ratings) from the [Flavors of Cacao](http://flavorsofcacao.com/flavor.html) data. On the [Kaggle page for the dataset](https://www.kaggle.com/rtatman/chocolate-bar-ratings) we can find the documentation for the columns:\n",
        "\n",
        "Column | Data Type | Description\n",
        "-------|-----------|-------------\n",
        "Company (Maker-if known) | String | Name of the company manufacturing the bar.\n",
        "Specific Bean Origin or Bar Name | String | The specific geo-region of origin for the bar.\n",
        "REF | Number | A value linked to when the review was entered in the database. Higher = more recent.\n",
        "Review Date | Number | Date of publication of the review.\n",
        "Cocoa Percent | String | Cocoa percentage (darkness) of the chocolate bar being reviewed.\n",
        "Company Location | String | Manufacturer base country.\n",
        "Rating | Number | Expert rating for the bar.\n",
        "BeanType | String | The variety (breed) of bean used, if provided.\n",
        "Broad Bean Origin | String | The broad geo-region of origin for the bean.\n",
        "\n",
        "In part 1 of this unit we modified the columns to be:\n",
        "\n",
        "Column | Data Type | Description\n",
        "-------|-----------|------------\n",
        "Company | String  | Name of the company manufacturing the bar.\n",
        "Company Location | String | Manufacturer base country.\n",
        "Bean Type | String | The variety (breed) of bean used, if provided.\n",
        "Specific Bean Origin | String | The specific geo-region of origin for the bar.\n",
        "Broad Bean Origin | String | The broad geo-region of origin for the bean.\n",
        "Cocoa Percent | Number | Cocoa percentage (darkness) of the chocolate bar being reviewed.\n",
        "REF | Number |A value linked to when the review was entered in the database. Higher = more recent.\n",
        "Review Date | Number | Date of publication of the review.\n",
        "Rating | Number | Expert rating for the bar. Number between 1.0 and 5.0, inclusive.\n",
        "Grade | Number | Expert rating for the bar. 'A' - 'Q'. Maps to distinct ratings.\n",
        "\n",
        "Let's download the dataset again and apply the changes that we made in part 1."
      ]
    },
    {
      "cell_type": "markdown",
      "metadata": {
        "id": "GP-kRR_72562"
      },
      "source": [
        "### Acquiring the Data\n",
        "\n",
        "The data is hosted on Kaggle, so we can use our Kaggle credentials to download the data into the lab. The dataset is located at [https://www.kaggle.com/rtatman/chocolate-bar-ratings](https://www.kaggle.com/rtatman/chocolate-bar-ratings). We can use the `kaggle` command line utility to do this.\n",
        "\n",
        "First off, upload your `kaggle.json` file into the lab now.\n",
        "\n",
        "Next, run the following command to get the credential files set to the right permissions and located in the correct spot."
      ]
    },
    {
      "cell_type": "code",
      "metadata": {
        "id": "-UuViqN232cr",
        "colab": {
          "base_uri": "https://localhost:8080/"
        },
        "outputId": "eeb64a80-a5a4-4e78-b743-5b90855dbb3e"
      },
      "source": [
        "! chmod 600 kaggle.json && (ls ~/.kaggle 2>/dev/null || mkdir ~/.kaggle) && mv kaggle.json ~/.kaggle/ && echo 'Done'"
      ],
      "execution_count": 200,
      "outputs": [
        {
          "output_type": "stream",
          "text": [
            "chmod: cannot access 'kaggle.json': No such file or directory\n"
          ],
          "name": "stdout"
        }
      ]
    },
    {
      "cell_type": "markdown",
      "metadata": {
        "id": "gCMEX2915D1Y"
      },
      "source": [
        "Now we can run the `kaggle` command to actually download the data."
      ]
    },
    {
      "cell_type": "code",
      "metadata": {
        "id": "Mo1mS1Jp4c5W",
        "colab": {
          "base_uri": "https://localhost:8080/"
        },
        "outputId": "c02bc959-27ae-44d4-80da-662b076ccd48"
      },
      "source": [
        "! kaggle datasets download rtatman/chocolate-bar-ratings\n",
        "! ls"
      ],
      "execution_count": 201,
      "outputs": [
        {
          "output_type": "stream",
          "text": [
            "chocolate-bar-ratings.zip: Skipping, found more recently modified local copy (use --force to force download)\n",
            "chocolate-bar-ratings.zip  sample_data\n"
          ],
          "name": "stdout"
        }
      ]
    },
    {
      "cell_type": "markdown",
      "metadata": {
        "id": "PytnXVWU7Lom"
      },
      "source": [
        "We now have our data downloaded to our virtual machine and stored in the file `chocolate-bar-ratings.zip`."
      ]
    },
    {
      "cell_type": "markdown",
      "metadata": {
        "id": "A8pOhe8_7YOt"
      },
      "source": [
        "### Prepping the `DataFrame`\n",
        "\n",
        "We will now load the data into a `DataFrame` and apply the data preprocessing that was done in part 1 of this unit. Run the hidden code block below to fill a `DataFrame` called `df` with preprocessed data.\n",
        "\n",
        "Run this block again if you need to reset the `df` `DataFrame`. After you run the code block, there will also be a function that you can use to reset `df`:\n",
        "\n",
        "```python\n",
        "  df = reload_data()\n",
        "```"
      ]
    },
    {
      "cell_type": "code",
      "metadata": {
        "id": "dEDlbe_L7LEl",
        "colab": {
          "base_uri": "https://localhost:8080/",
          "height": 519
        },
        "cellView": "form",
        "outputId": "33125979-ef40-4160-eac1-b766307b2f5c"
      },
      "source": [
        "#@title Part 1 Code: Press Run To Load Preprocessed Data Frame\n",
        "\n",
        "import pandas as pd\n",
        "\n",
        "def reload_data():\n",
        "  df = pd.read_csv('chocolate-bar-ratings.zip')\n",
        "\n",
        "  df.columns = [\n",
        "    'Company',\n",
        "    'Specific Bean Origin',\n",
        "    'REF',\n",
        "    'Review Date',\n",
        "    'Cocoa Percent',\n",
        "    'Company Location',\n",
        "    'Rating',\n",
        "    'Bean Type',\n",
        "    'Broad Bean Origin'\n",
        "  ]\n",
        "\n",
        "  df = df[[\n",
        "    'Company',\n",
        "    'Company Location',\n",
        "    'Bean Type',\n",
        "    'Specific Bean Origin',\n",
        "    'Broad Bean Origin',\n",
        "    'Cocoa Percent',\n",
        "    'REF',\n",
        "    'Review Date',\n",
        "    'Rating',\n",
        "  ]]\n",
        "\n",
        "  column = 'Company'\n",
        "  for broken, fixed in {\n",
        "    'Shattel': 'Shattell',\n",
        "    'Cacao de Origin': 'Cacao de Origen',\n",
        "  }.items():\n",
        "    df.loc[df[column] == broken, column] = fixed\n",
        "\n",
        "  column = 'Company Location'\n",
        "  for broken, fixed in {\n",
        "    'Domincan Republic': 'Dominican Republic',\n",
        "    'Niacragua': 'Nicaragua',\n",
        "    'Eucador': 'Ecuador',\n",
        "    'Amsterdam': 'Holland',\n",
        "    'U.K.': 'England',\n",
        "  }.items():\n",
        "    df.loc[df[column] == broken, column] = fixed\n",
        "\n",
        "  column = 'Bean Type'\n",
        "  df.loc[df[column].isna(), column] = 'Unknown'\n",
        "  df.loc[df[column] == chr(0xa0), column] = 'Unknown'\n",
        "\n",
        "  column = 'Specific Bean Origin'\n",
        "  for broken, fixed in {\n",
        "    'Ambolikapkly P.': 'Ambolikapiky P.',\n",
        "    'Dominican Republicm, rustic': 'Dominican Republic, rustic',\n",
        "    'Nicaraqua': 'Nicaragua',\n",
        "  }.items():\n",
        "    df.loc[df[column] == broken, column] = fixed\n",
        "\n",
        "  column = 'Broad Bean Origin'\n",
        "  df.loc[(df['Specific Bean Origin'] == 'Madagascar') &\n",
        "        (df[column].isna()), column] = 'Madagascar'\n",
        "  df.loc[df[column] == chr(0xa0), column] = 'Unknown'\n",
        "\n",
        "  column = 'Cocoa Percent'\n",
        "  df[column] = df[column].apply(lambda s: float(s[:-1]))\n",
        "\n",
        "  def grade(rating):\n",
        "    letter_grade = 'A'\n",
        "    numeric_rating = 5.0\n",
        "    while rating < numeric_rating:\n",
        "      letter_grade = chr(ord(letter_grade) + 1)\n",
        "      numeric_rating -= 0.25\n",
        "    return letter_grade\n",
        "\n",
        "  column = 'Grade'\n",
        "  df[column] = df['Rating'].apply(grade)\n",
        "  \n",
        "  return df\n",
        "\n",
        "df = reload_data()\n",
        "df.sample(10)"
      ],
      "execution_count": 202,
      "outputs": [
        {
          "output_type": "execute_result",
          "data": {
            "text/html": [
              "<div>\n",
              "<style scoped>\n",
              "    .dataframe tbody tr th:only-of-type {\n",
              "        vertical-align: middle;\n",
              "    }\n",
              "\n",
              "    .dataframe tbody tr th {\n",
              "        vertical-align: top;\n",
              "    }\n",
              "\n",
              "    .dataframe thead th {\n",
              "        text-align: right;\n",
              "    }\n",
              "</style>\n",
              "<table border=\"1\" class=\"dataframe\">\n",
              "  <thead>\n",
              "    <tr style=\"text-align: right;\">\n",
              "      <th></th>\n",
              "      <th>Company</th>\n",
              "      <th>Company Location</th>\n",
              "      <th>Bean Type</th>\n",
              "      <th>Specific Bean Origin</th>\n",
              "      <th>Broad Bean Origin</th>\n",
              "      <th>Cocoa Percent</th>\n",
              "      <th>REF</th>\n",
              "      <th>Review Date</th>\n",
              "      <th>Rating</th>\n",
              "      <th>Grade</th>\n",
              "    </tr>\n",
              "  </thead>\n",
              "  <tbody>\n",
              "    <tr>\n",
              "      <th>126</th>\n",
              "      <td>Artisan du Chocolat</td>\n",
              "      <td>England</td>\n",
              "      <td>Trinitario</td>\n",
              "      <td>Jamaica</td>\n",
              "      <td>Jamaica</td>\n",
              "      <td>72.0</td>\n",
              "      <td>531</td>\n",
              "      <td>2010</td>\n",
              "      <td>3.75</td>\n",
              "      <td>F</td>\n",
              "    </tr>\n",
              "    <tr>\n",
              "      <th>264</th>\n",
              "      <td>Brazen</td>\n",
              "      <td>U.S.A.</td>\n",
              "      <td>Unknown</td>\n",
              "      <td>Ambolikapiky P.</td>\n",
              "      <td>Madagascar</td>\n",
              "      <td>80.0</td>\n",
              "      <td>1518</td>\n",
              "      <td>2015</td>\n",
              "      <td>2.75</td>\n",
              "      <td>J</td>\n",
              "    </tr>\n",
              "    <tr>\n",
              "      <th>1359</th>\n",
              "      <td>Raaka</td>\n",
              "      <td>U.S.A.</td>\n",
              "      <td>Unknown</td>\n",
              "      <td>La Red</td>\n",
              "      <td>Dominican Republic</td>\n",
              "      <td>85.0</td>\n",
              "      <td>785</td>\n",
              "      <td>2011</td>\n",
              "      <td>3.50</td>\n",
              "      <td>G</td>\n",
              "    </tr>\n",
              "    <tr>\n",
              "      <th>1323</th>\n",
              "      <td>Pralus</td>\n",
              "      <td>France</td>\n",
              "      <td>Forastero</td>\n",
              "      <td>Monte Alegre (Itacare), Brazil</td>\n",
              "      <td>Brazil</td>\n",
              "      <td>75.0</td>\n",
              "      <td>105</td>\n",
              "      <td>2006</td>\n",
              "      <td>3.00</td>\n",
              "      <td>I</td>\n",
              "    </tr>\n",
              "    <tr>\n",
              "      <th>1569</th>\n",
              "      <td>Spencer</td>\n",
              "      <td>Australia</td>\n",
              "      <td>Unknown</td>\n",
              "      <td>Ecuador, lot E432314L</td>\n",
              "      <td>Ecuador</td>\n",
              "      <td>70.0</td>\n",
              "      <td>1792</td>\n",
              "      <td>2016</td>\n",
              "      <td>3.75</td>\n",
              "      <td>F</td>\n",
              "    </tr>\n",
              "    <tr>\n",
              "      <th>86</th>\n",
              "      <td>Amedei</td>\n",
              "      <td>Italy</td>\n",
              "      <td>Blend</td>\n",
              "      <td>Toscano Black</td>\n",
              "      <td>Unknown</td>\n",
              "      <td>70.0</td>\n",
              "      <td>40</td>\n",
              "      <td>2006</td>\n",
              "      <td>5.00</td>\n",
              "      <td>A</td>\n",
              "    </tr>\n",
              "    <tr>\n",
              "      <th>1191</th>\n",
              "      <td>Nova Monda</td>\n",
              "      <td>Nicaragua</td>\n",
              "      <td>Unknown</td>\n",
              "      <td>La Dalia, Matagalpa,cacao Bisesto,green label</td>\n",
              "      <td>Nicaragua</td>\n",
              "      <td>75.0</td>\n",
              "      <td>935</td>\n",
              "      <td>2012</td>\n",
              "      <td>2.75</td>\n",
              "      <td>J</td>\n",
              "    </tr>\n",
              "    <tr>\n",
              "      <th>823</th>\n",
              "      <td>Holy Cacao</td>\n",
              "      <td>Israel</td>\n",
              "      <td>Unknown</td>\n",
              "      <td>San Martin</td>\n",
              "      <td>Peru</td>\n",
              "      <td>70.0</td>\n",
              "      <td>431</td>\n",
              "      <td>2009</td>\n",
              "      <td>3.50</td>\n",
              "      <td>G</td>\n",
              "    </tr>\n",
              "    <tr>\n",
              "      <th>1085</th>\n",
              "      <td>Mast Brothers</td>\n",
              "      <td>U.S.A.</td>\n",
              "      <td>Unknown</td>\n",
              "      <td>Dominican Republic, Coop</td>\n",
              "      <td>Dominican Republic</td>\n",
              "      <td>70.0</td>\n",
              "      <td>572</td>\n",
              "      <td>2010</td>\n",
              "      <td>3.25</td>\n",
              "      <td>H</td>\n",
              "    </tr>\n",
              "    <tr>\n",
              "      <th>1421</th>\n",
              "      <td>Santander (Compania Nacional)</td>\n",
              "      <td>Colombia</td>\n",
              "      <td>Forastero (Nacional)</td>\n",
              "      <td>Colombian 2008</td>\n",
              "      <td>Colombia</td>\n",
              "      <td>75.0</td>\n",
              "      <td>404</td>\n",
              "      <td>2009</td>\n",
              "      <td>2.75</td>\n",
              "      <td>J</td>\n",
              "    </tr>\n",
              "  </tbody>\n",
              "</table>\n",
              "</div>"
            ],
            "text/plain": [
              "                            Company Company Location  ... Rating Grade\n",
              "126             Artisan du Chocolat          England  ...   3.75     F\n",
              "264                          Brazen           U.S.A.  ...   2.75     J\n",
              "1359                          Raaka           U.S.A.  ...   3.50     G\n",
              "1323                         Pralus           France  ...   3.00     I\n",
              "1569                        Spencer        Australia  ...   3.75     F\n",
              "86                           Amedei            Italy  ...   5.00     A\n",
              "1191                     Nova Monda        Nicaragua  ...   2.75     J\n",
              "823                      Holy Cacao           Israel  ...   3.50     G\n",
              "1085                  Mast Brothers           U.S.A.  ...   3.25     H\n",
              "1421  Santander (Compania Nacional)         Colombia  ...   2.75     J\n",
              "\n",
              "[10 rows x 10 columns]"
            ]
          },
          "metadata": {
            "tags": []
          },
          "execution_count": 202
        }
      ]
    },
    {
      "cell_type": "markdown",
      "metadata": {
        "id": "lmbCYQJu9SJp"
      },
      "source": [
        "## Data Analysis\n",
        "\n",
        "We have looked at each column in isolation in order to ensure that the data in that column is complete and seems to make sense. In this section we will take that newly-cleaned data and look at it in a little more depth. We will examine some columns individually. We'll also see how columns might relate to one another."
      ]
    },
    {
      "cell_type": "markdown",
      "metadata": {
        "id": "XrNet1xDAF-W"
      },
      "source": [
        "### Visualizing Ratings\n",
        "\n",
        "Ratings are very important to our dataset. One interesting visualization might be a line chart of counts of each rating. To do that we can extract a `Series` containing the ratings, group by that `Series`, and plot the counts."
      ]
    },
    {
      "cell_type": "code",
      "metadata": {
        "id": "xdX5BpD3-gFM",
        "colab": {
          "base_uri": "https://localhost:8080/",
          "height": 265
        },
        "outputId": "d3cdc4f7-553d-4b25-848f-e874566aa550"
      },
      "source": [
        "import matplotlib.pyplot as plt\n",
        "\n",
        "ratings = df['Rating'].groupby(df['Rating']).count()\n",
        "\n",
        "plt.plot(ratings.index, ratings)\n",
        "plt.show()"
      ],
      "execution_count": 203,
      "outputs": [
        {
          "output_type": "display_data",
          "data": {
            "image/png": "[encoded data removed]",
            "text/plain": [
              "<Figure size 432x288 with 1 Axes>"
            ]
          },
          "metadata": {
            "tags": [],
            "needs_background": "light"
          }
        }
      ]
    },
    {
      "cell_type": "markdown",
      "metadata": {
        "id": "NsS3asnJAWRX"
      },
      "source": [
        "This shows that ratings seem to mostly be in the 3s with a reasonable tail higher and lower.\n",
        "\n",
        "We can also put these values in a bar chart"
      ]
    },
    {
      "cell_type": "code",
      "metadata": {
        "id": "C59We7HvAD3U",
        "colab": {
          "base_uri": "https://localhost:8080/",
          "height": 265
        },
        "outputId": "b4b69c1b-b8db-4b46-ebbf-61588700efa4"
      },
      "source": [
        "import matplotlib.pyplot as plt\n",
        "\n",
        "grades = df['Rating'].groupby(df['Rating']).count()\n",
        "\n",
        "plt.bar(grades.index, grades)\n",
        "plt.show()"
      ],
      "execution_count": 204,
      "outputs": [
        {
          "output_type": "display_data",
          "data": {
            "image/png": "[encoded data removed]",
            "text/plain": [
              "<Figure size 432x288 with 1 Axes>"
            ]
          },
          "metadata": {
            "tags": [],
            "needs_background": "light"
          }
        }
      ]
    },
    {
      "cell_type": "markdown",
      "metadata": {
        "id": "-w4w1FacBECK"
      },
      "source": [
        "This changes the visualization's form quite a bit. Instead of using 'Rating' for the chart, let's use our 'Grade' column."
      ]
    },
    {
      "cell_type": "code",
      "metadata": {
        "id": "OwjzLAC4BRPR",
        "colab": {
          "base_uri": "https://localhost:8080/",
          "height": 265
        },
        "outputId": "34bcbcfe-3c3e-4c80-bae5-64989ef6185b"
      },
      "source": [
        "import matplotlib.pyplot as plt\n",
        "\n",
        "grades = df['Grade'].groupby(df['Grade']).count()\n",
        "\n",
        "plt.bar(grades.index, grades)\n",
        "plt.show()"
      ],
      "execution_count": 205,
      "outputs": [
        {
          "output_type": "display_data",
          "data": {
            "image/png": "[encoded data removed]",
            "text/plain": [
              "<Figure size 432x288 with 1 Axes>"
            ]
          },
          "metadata": {
            "tags": [],
            "needs_background": "light"
          }
        }
      ]
    },
    {
      "cell_type": "markdown",
      "metadata": {
        "id": "9jq0Ap-dBUfE"
      },
      "source": [
        "Overall, that's looking better. The sorting is opposite of 'Rating', so our best chocolates are to the left instead of the right. And you can see that we are missing 'B', 'C' and other values, which is not ideal."
      ]
    },
    {
      "cell_type": "markdown",
      "metadata": {
        "id": "ijMD7xpmBnrr"
      },
      "source": [
        "#### Exercise 1: Grade Bar Chart\n",
        "\n",
        "Improve on the bar chart of Grade values by having the chart include all letter grades, with counts or not, between 'A' and 'Q'."
      ]
    },
    {
      "cell_type": "code",
      "metadata": {
        "id": "vGD88y2fBxMg",
        "colab": {
          "base_uri": "https://localhost:8080/",
          "height": 265
        },
        "outputId": "fb17b7a1-c0d0-45f0-a4f1-15ddcf83bb4d"
      },
      "source": [
        "df = reload_data()\n",
        "\n",
        "# Your Solution Goes Here\n",
        "import matplotlib.pyplot as plt\n",
        "import pandas as pd\n",
        "import string\n",
        "\n",
        "grades = df['Grade'].groupby(df['Grade']).count()\n",
        "\n",
        "# Get letter that not in grades\n",
        "for letter in list(string.ascii_uppercase[0:17]):\n",
        "    if letter not in grades.index:\n",
        "        grades[letter] = 0\n",
        "\n",
        "# Sort by grades\n",
        "grades.sort_index(inplace=True)\n",
        "\n",
        "plt.bar(grades.index, grades)\n",
        "plt.show()"
      ],
      "execution_count": 206,
      "outputs": [
        {
          "output_type": "display_data",
          "data": {
            "image/png": "[encoded data removed]",
            "text/plain": [
              "<Figure size 432x288 with 1 Axes>"
            ]
          },
          "metadata": {
            "tags": [],
            "needs_background": "light"
          }
        }
      ]
    },
    {
      "cell_type": "markdown",
      "metadata": {
        "id": "IaXHefe6BQ7m"
      },
      "source": [
        "---"
      ]
    },
    {
      "cell_type": "markdown",
      "metadata": {
        "id": "8U_spjA2FLPP"
      },
      "source": [
        "### Visualizing Cocoa Percentage\n",
        "\n",
        "Cocoa percentage is another value that might be interesting in our data analysis. For instance, does a higher or lower cocoa percentage seem to correlate with the rating in any manner?\n",
        "\n",
        "We'll get to questions like this, but first let's just create a simple plot.\n",
        "\n",
        "First let's see if 'Cocoa Percent' is an actual continuous variable."
      ]
    },
    {
      "cell_type": "code",
      "metadata": {
        "id": "_YFI7jilF5ud",
        "colab": {
          "base_uri": "https://localhost:8080/"
        },
        "outputId": "e3fa549a-71cc-47d1-b831-86264ee242cb"
      },
      "source": [
        "sorted(df['Cocoa Percent'].unique())"
      ],
      "execution_count": 207,
      "outputs": [
        {
          "output_type": "execute_result",
          "data": {
            "text/plain": [
              "[42.0,\n",
              " 46.0,\n",
              " 50.0,\n",
              " 53.0,\n",
              " 55.0,\n",
              " 56.0,\n",
              " 57.0,\n",
              " 58.0,\n",
              " 60.0,\n",
              " 60.5,\n",
              " 61.0,\n",
              " 62.0,\n",
              " 63.0,\n",
              " 64.0,\n",
              " 65.0,\n",
              " 66.0,\n",
              " 67.0,\n",
              " 68.0,\n",
              " 69.0,\n",
              " 70.0,\n",
              " 71.0,\n",
              " 72.0,\n",
              " 72.5,\n",
              " 73.0,\n",
              " 73.5,\n",
              " 74.0,\n",
              " 75.0,\n",
              " 76.0,\n",
              " 77.0,\n",
              " 78.0,\n",
              " 79.0,\n",
              " 80.0,\n",
              " 81.0,\n",
              " 82.0,\n",
              " 83.0,\n",
              " 84.0,\n",
              " 85.0,\n",
              " 86.0,\n",
              " 87.0,\n",
              " 88.0,\n",
              " 89.0,\n",
              " 90.0,\n",
              " 91.0,\n",
              " 99.0,\n",
              " 100.0]"
            ]
          },
          "metadata": {
            "tags": []
          },
          "execution_count": 207
        }
      ]
    },
    {
      "cell_type": "markdown",
      "metadata": {
        "id": "zCGxvCKBF8fU"
      },
      "source": [
        "This does seem much more like a continuous variable than 'Rating' did. In this case we will want to use some sort of continuous plot.\n",
        "\n",
        "For this particular visualization, we will pull out a new tool, the [`seaborn.distplot`](https://seaborn.pydata.org/generated/seaborn.distplot.html). This plot combines a line chart of kernel density and a histogram to show the distribution of values in the `Series`."
      ]
    },
    {
      "cell_type": "code",
      "metadata": {
        "cellView": "both",
        "id": "Z1ZVr0efD0dV",
        "colab": {
          "base_uri": "https://localhost:8080/",
          "height": 336
        },
        "outputId": "2c167a34-c361-4e9c-946a-0ca0e478068e"
      },
      "source": [
        "import seaborn as sns\n",
        "\n",
        "_ = sns.distplot(df['Cocoa Percent'])"
      ],
      "execution_count": 208,
      "outputs": [
        {
          "output_type": "stream",
          "text": [
            "/usr/local/lib/python3.7/dist-packages/seaborn/distributions.py:2557: FutureWarning: `distplot` is a deprecated function and will be removed in a future version. Please adapt your code to use either `displot` (a figure-level function with similar flexibility) or `histplot` (an axes-level function for histograms).\n",
            "  warnings.warn(msg, FutureWarning)\n"
          ],
          "name": "stderr"
        },
        {
          "output_type": "display_data",
          "data": {
            "image/png": "[encoded data removed]",
            "text/plain": [
              "<Figure size 432x288 with 1 Axes>"
            ]
          },
          "metadata": {
            "tags": [],
            "needs_background": "light"
          }
        }
      ]
    },
    {
      "cell_type": "code",
      "metadata": {
        "colab": {
          "base_uri": "https://localhost:8080/",
          "height": 282
        },
        "id": "XcPodp7C8trP",
        "outputId": "5e940606-a40e-4478-9bad-23e4f4df3e2c"
      },
      "source": [
        "_ = sns.histplot(df['Cocoa Percent'])"
      ],
      "execution_count": 209,
      "outputs": [
        {
          "output_type": "display_data",
          "data": {
            "image/png": "[encoded data removed]",
            "text/plain": [
              "<Figure size 432x288 with 1 Axes>"
            ]
          },
          "metadata": {
            "tags": [],
            "needs_background": "light"
          }
        }
      ]
    },
    {
      "cell_type": "code",
      "metadata": {
        "colab": {
          "base_uri": "https://localhost:8080/",
          "height": 369
        },
        "id": "ePSXNlay9Ji3",
        "outputId": "78717dc7-8f17-49d3-ab9d-237b5fea8c2f"
      },
      "source": [
        "_ = sns.displot(df['Cocoa Percent'])"
      ],
      "execution_count": 210,
      "outputs": [
        {
          "output_type": "display_data",
          "data": {
            "image/png": "[encoded data removed]",
            "text/plain": [
              "<Figure size 360x360 with 1 Axes>"
            ]
          },
          "metadata": {
            "tags": [],
            "needs_background": "light"
          }
        }
      ]
    },
    {
      "cell_type": "code",
      "metadata": {
        "colab": {
          "base_uri": "https://localhost:8080/",
          "height": 279
        },
        "id": "QhVhH8y59cbP",
        "outputId": "7411b51d-8584-494d-b1fd-6521fc4d4a8a"
      },
      "source": [
        "_ = sns.kdeplot(df['Cocoa Percent'])"
      ],
      "execution_count": 211,
      "outputs": [
        {
          "output_type": "display_data",
          "data": {
            "image/png": "[encoded data removed]",
            "text/plain": [
              "<Figure size 432x288 with 1 Axes>"
            ]
          },
          "metadata": {
            "tags": [],
            "needs_background": "light"
          }
        }
      ]
    },
    {
      "cell_type": "markdown",
      "metadata": {
        "id": "9bQCTf0nz0ek"
      },
      "source": [
        "As we can tell from this plot, a very large proportion of chocolate bars rated have around 70% cocoa. We may want to ask whether this sample is representative of chocolate bars on the market in general or whether reviewers favor such bars because they expect them to be more enjoyable. (i.e. Is our sample representative of the population?) This, of course, would require research outside of our data set."
      ]
    },
    {
      "cell_type": "markdown",
      "metadata": {
        "id": "0FwaxnlLYLAR"
      },
      "source": [
        "#### Exercise 2: What Is a Distplot?\n",
        "\n",
        "We plotted a \"distplot\" above but didn't get too specific on what was actually being shown. The values on the x-axis make sense; they are the percentage of cocoa used in the bar. But there are some other aspects of the chart that are a little less clear at first.\n",
        "\n",
        "Using the [`seaborn.distplot` documentation](https://seaborn.pydata.org/generated/seaborn.distplot.html) and other resources, answer the following questions:"
      ]
    },
    {
      "cell_type": "markdown",
      "metadata": {
        "id": "HX1p6Ul3ZRPd"
      },
      "source": [
        "**Student Solution**\n",
        "\n",
        "1. What do the columns on the chart represent?\n",
        "> Cocoa Percent (?)\n",
        "1. What does the continuous line on the chart represent?\n",
        "> That continuous line is from `sns.kdeplot`. KDE represents the data using a continuous probability density curve in one or more dimensions. \n",
        "1. What is the y-value of the `sns.distplot`?\n",
        ">  A probability can be obtained only by integrating the density across a range. The curve is normalized so that the integral over all possible values is 1, meaning that the scale of the density axis depends on the data values.\n",
        "\n"
      ]
    },
    {
      "cell_type": "markdown",
      "metadata": {
        "id": "Z0kNJE7HZN_D"
      },
      "source": [
        "---"
      ]
    },
    {
      "cell_type": "markdown",
      "metadata": {
        "id": "G0e6LcTBhTZN"
      },
      "source": [
        "### Visualizing Ratings by Bean Type\n",
        "\n",
        "Sometimes it is useful to visualize our target, in this case, 'Rating', by different features. One way to do this with a continuous variable like 'Rating' is with a box plot.\n",
        "\n",
        "Box plots (a.k.a., box and whisker plots) show the distribution across categories. These plots are quite informative, as they display a five-statistic summary of a dataset, including:\n",
        "\n",
        "1. Minimum\n",
        "1. First quartile (about 25% of the numbers in the dataset lie below it)\n",
        "1. Median (splits the dataset in half)\n",
        "1. Third quartile (about 75% of the numbers in the dataset lie below it)\n",
        "1. Maximum\n",
        "\n",
        "In the example below, we create our box plot using [`seaborn.boxplot()`](https://seaborn.pydata.org/generated/seaborn.boxplot.html). We pass the function our `DataFrame`, the y-value which determines the number of box plots, and the x-value which is what the statistics are gathered from.\n",
        "\n",
        "Remember that `seaborn` is based on `matplotlib`, so we can still use features of `matplotlib` like the figure size to increase the size of `seaborn` charts."
      ]
    },
    {
      "cell_type": "code",
      "metadata": {
        "cellView": "both",
        "id": "3eCG0Z6RiIbz",
        "colab": {
          "base_uri": "https://localhost:8080/",
          "height": 948
        },
        "outputId": "4ee55ad5-f736-4cce-ef6b-86558685bfa3"
      },
      "source": [
        "import pandas as pd\n",
        "import matplotlib.pyplot as plt\n",
        "import seaborn as sns\n",
        "\n",
        "df = reload_data()\n",
        "\n",
        "plt.figure(figsize=[10, 16])\n",
        "ax = sns.boxplot(\n",
        "    data=df,\n",
        "    y='Bean Type',\n",
        "    x='Rating',\n",
        ")\n",
        "_ = ax.set_title('Rating Distribution by Bean Type')"
      ],
      "execution_count": 212,
      "outputs": [
        {
          "output_type": "display_data",
          "data": {
            "image/png": "[encoded data removed]",
            "text/plain": [
              "<Figure size 720x1152 with 1 Axes>"
            ]
          },
          "metadata": {
            "tags": [],
            "needs_background": "light"
          }
        }
      ]
    },
    {
      "cell_type": "markdown",
      "metadata": {
        "id": "7PkbuxBKdTLH"
      },
      "source": [
        "This is a nice chart, but it is difficult to get a snapshot view of the data. Sometimes sorting is important.\n",
        "\n",
        "As an example, let's look at a chart that is sorted alphabetically."
      ]
    },
    {
      "cell_type": "code",
      "metadata": {
        "id": "6dPdRuSsdoEg",
        "colab": {
          "base_uri": "https://localhost:8080/",
          "height": 948
        },
        "outputId": "dd7a2dab-90a6-4701-be7e-7bf4e480247f"
      },
      "source": [
        "import pandas as pd\n",
        "import matplotlib.pyplot as plt\n",
        "import seaborn as sns\n",
        "\n",
        "df = reload_data()\n",
        "\n",
        "plt.figure(figsize=[10, 16])\n",
        "\n",
        "ax = sns.boxplot(\n",
        "    data=df,\n",
        "    y='Bean Type',\n",
        "    x='Rating',\n",
        "    order=sorted(df['Bean Type'].unique()),\n",
        ")\n",
        "\n",
        "_ = ax.set_title('Rating Distribution by Bean Type')"
      ],
      "execution_count": 213,
      "outputs": [
        {
          "output_type": "display_data",
          "data": {
            "image/png": "[encoded data removed]",
            "text/plain": [
              "<Figure size 720x1152 with 1 Axes>"
            ]
          },
          "metadata": {
            "tags": [],
            "needs_background": "light"
          }
        }
      ]
    },
    {
      "cell_type": "markdown",
      "metadata": {
        "id": "aEJc9XTOdwZh"
      },
      "source": [
        "That might be even worse!\n",
        "\n",
        "What sort order might give some meaning to this chart?"
      ]
    },
    {
      "cell_type": "markdown",
      "metadata": {
        "id": "cSKVrR0IemDS"
      },
      "source": [
        "#### Exercise 3: Building Boxplots\n",
        "\n",
        "Boxplots are useful, but without curated sorting, the message can get lost in the noise. Experiment with different sorting strategies for the boxplot and make an argument for why you find value in your plot.\n",
        "\n",
        "Below is an example of plots sorted by the mean rating. Look at it and see why sorting by mean might bring value."
      ]
    },
    {
      "cell_type": "code",
      "metadata": {
        "id": "V84L80dnamgQ",
        "colab": {
          "base_uri": "https://localhost:8080/",
          "height": 948
        },
        "outputId": "af8a0c09-7845-4b46-f015-4073a76a8eec"
      },
      "source": [
        "import pandas as pd\n",
        "import matplotlib.pyplot as plt\n",
        "import seaborn as sns\n",
        "\n",
        "df = reload_data()\n",
        "\n",
        "plt.figure(figsize=[10, 16])\n",
        "\n",
        "ax = sns.boxplot(\n",
        "    data=df,\n",
        "    y='Bean Type',\n",
        "    x='Rating',\n",
        "    order=sorted(df['Bean Type'].unique(), \n",
        "                 key=lambda bt: df[df['Bean Type'] == bt]['Rating'].mean()),\n",
        ")\n",
        "\n",
        "_ = ax.set_title('Rating Distribution by Bean Type')"
      ],
      "execution_count": 214,
      "outputs": [
        {
          "output_type": "display_data",
          "data": {
            "image/png": "[encoded data removed]",
            "text/plain": [
              "<Figure size 720x1152 with 1 Axes>"
            ]
          },
          "metadata": {
            "tags": [],
            "needs_background": "light"
          }
        }
      ]
    },
    {
      "cell_type": "markdown",
      "metadata": {
        "id": "24EN2gtaiMQh"
      },
      "source": [
        "Some thoughts:\n",
        "\n",
        "* Even sorting by mean, the max ratings can still be held by beans near the median.\n",
        "* Beans with a low median rating are actually widespread on ratings.\n",
        "* Quality tightens with beans with higher median rankings.\n",
        "\n",
        "These observations may lead us to ask: what are the sample sizes? Are the top-median beans just single samples while more popular beans are weighted down by large sample sizes? Regardless of which sorting criteria we use, we should take a closer look at our bean types. Some of the types with fewer samples might need to be rolled into a larger grouping.\n",
        "\n",
        "For this exercise, try different statistics for sorting. Find one that you can interpret and explain why the specific sorting is meaningful."
      ]
    },
    {
      "cell_type": "markdown",
      "metadata": {
        "id": "iGxgg4GTiw1T"
      },
      "source": [
        "**Student Solution**"
      ]
    },
    {
      "cell_type": "code",
      "metadata": {
        "id": "kY1VXhtGizfO"
      },
      "source": [
        "# Your Solution Goes Here"
      ],
      "execution_count": 215,
      "outputs": []
    },
    {
      "cell_type": "markdown",
      "metadata": {
        "id": "06vfzCqFi2qT"
      },
      "source": [
        "---"
      ]
    },
    {
      "cell_type": "markdown",
      "metadata": {
        "id": "Nf-9ooG5zzsR"
      },
      "source": [
        "### Visualizing Ratings by Cocoa Percent\n",
        "\n",
        "Let's take a moment to also look at the spread of ratings by 'Cocoa Percent'. A natural way to do this might be a scatter plot."
      ]
    },
    {
      "cell_type": "code",
      "metadata": {
        "id": "YvneTVU74Xzf",
        "colab": {
          "base_uri": "https://localhost:8080/",
          "height": 621
        },
        "outputId": "a7ee33cc-f4b5-4295-f0c5-e7e9817ca5fc"
      },
      "source": [
        "import pandas as pd\n",
        "import matplotlib.pyplot as plt\n",
        "import seaborn as sns\n",
        "\n",
        "df = reload_data()\n",
        "\n",
        "plt.figure(figsize=[10, 10])\n",
        "ax = sns.scatterplot(\n",
        "    data=df,\n",
        "    x='Cocoa Percent',\n",
        "    y='Rating',\n",
        ")\n",
        "\n",
        "_ = ax.set_title('Ratings by Cocoa Percent')"
      ],
      "execution_count": 216,
      "outputs": [
        {
          "output_type": "display_data",
          "data": {
            "image/png": "[encoded data removed]",
            "text/plain": [
              "<Figure size 720x720 with 1 Axes>"
            ]
          },
          "metadata": {
            "tags": [],
            "needs_background": "light"
          }
        }
      ]
    },
    {
      "cell_type": "markdown",
      "metadata": {
        "id": "GZVb_w8H4wB0"
      },
      "source": [
        "This is a somewhat unfulfilling scatter plot. Since ratings aren't really continuous, we see \"lines\" of dots for the ratings tranches. There are also some lines formed vertically; though 'Cocoa Percent' is continuous, some percentages are more common than others.\n",
        "\n",
        "Maybe a boxplot would work?"
      ]
    },
    {
      "cell_type": "code",
      "metadata": {
        "id": "a5fILyKl5R3e",
        "colab": {
          "base_uri": "https://localhost:8080/",
          "height": 621
        },
        "outputId": "94cd6d9e-7342-4653-c8a3-1a3f575fe7de"
      },
      "source": [
        "import pandas as pd\n",
        "import matplotlib.pyplot as plt\n",
        "import seaborn as sns\n",
        "\n",
        "df = reload_data()\n",
        "\n",
        "plt.figure(figsize=[10, 10])\n",
        "ax = sns.boxplot(\n",
        "    data=df,\n",
        "    x='Cocoa Percent',\n",
        "    y='Rating',\n",
        ")\n",
        "\n",
        "_ = ax.set_title('Ratings by Cocoa Percent')"
      ],
      "execution_count": 217,
      "outputs": [
        {
          "output_type": "display_data",
          "data": {
            "image/png": "[encoded data removed]",
            "text/plain": [
              "<Figure size 720x720 with 1 Axes>"
            ]
          },
          "metadata": {
            "tags": [],
            "needs_background": "light"
          }
        }
      ]
    },
    {
      "cell_type": "markdown",
      "metadata": {
        "id": "WAAgMT-g5Yic"
      },
      "source": [
        "That is better. Given this box plot, we can see some trends in the data. However, there are enough different 'Cocoa Percent' values to make this chart a little cluttered.\n",
        "\n",
        "We can clean it up a bit by **binning** the 'Cocoa Percent' values.\n",
        "\n",
        "Binning is the process of taking a large set of continuous values and dividing them into a fixed number of bins where each bin contains a range of values. Each bin typically has the same sized range.\n",
        "\n",
        "To bin data we can use [`NumPy.histogram_bin_edges`](https://numpy.org/devdocs/reference/generated/numpy.histogram_bin_edges.html) to find the edges of our bins."
      ]
    },
    {
      "cell_type": "code",
      "metadata": {
        "id": "qhn-2WHa7AEZ",
        "colab": {
          "base_uri": "https://localhost:8080/"
        },
        "outputId": "2d982e86-c6f7-4e56-8cc7-47612db05bf4"
      },
      "source": [
        "import pandas as pd\n",
        "import numpy as np\n",
        "\n",
        "df = reload_data()\n",
        "\n",
        "edges = np.histogram_bin_edges(df['Cocoa Percent'])\n",
        "\n",
        "for i in range(len(edges) - 1):\n",
        "  print(f'{edges[i]:.{1}f} - {edges[i+1]:.{1}f} ({edges[i+1]-edges[i]:.{1}f})')"
      ],
      "execution_count": 218,
      "outputs": [
        {
          "output_type": "stream",
          "text": [
            "42.0 - 47.8 (5.8)\n",
            "47.8 - 53.6 (5.8)\n",
            "53.6 - 59.4 (5.8)\n",
            "59.4 - 65.2 (5.8)\n",
            "65.2 - 71.0 (5.8)\n",
            "71.0 - 76.8 (5.8)\n",
            "76.8 - 82.6 (5.8)\n",
            "82.6 - 88.4 (5.8)\n",
            "88.4 - 94.2 (5.8)\n",
            "94.2 - 100.0 (5.8)\n"
          ],
          "name": "stdout"
        }
      ]
    },
    {
      "cell_type": "markdown",
      "metadata": {
        "id": "VhIGlaFS7Zh7"
      },
      "source": [
        "In the code above we asked `histogram_bin_edges()` to find the edges of our bins for 'Cocoa Percent'. We then printed the edges for each bin and the size of the range for each bin. You can see that each is 5.8.\n",
        "\n",
        "Given these bin edges, we can now use another handy `NumPy` function: `digitize`.  `digitize` will examine our 'Cocoa Percent' values and return the bin that each value belongs in."
      ]
    },
    {
      "cell_type": "code",
      "metadata": {
        "id": "_8KmuyS486ZL",
        "colab": {
          "base_uri": "https://localhost:8080/"
        },
        "outputId": "9a33d83f-0947-4d5f-ff78-f20b23bcb8bf"
      },
      "source": [
        "import pandas as pd\n",
        "import numpy as np\n",
        "\n",
        "df = reload_data()\n",
        "\n",
        "edges = np.histogram_bin_edges(df['Cocoa Percent'])\n",
        "bins = np.digitize(df['Cocoa Percent'], edges)\n",
        "np.unique(bins)"
      ],
      "execution_count": 219,
      "outputs": [
        {
          "output_type": "execute_result",
          "data": {
            "text/plain": [
              "array([ 1,  2,  3,  4,  5,  6,  7,  8,  9, 10, 11])"
            ]
          },
          "metadata": {
            "tags": []
          },
          "execution_count": 219
        }
      ]
    },
    {
      "cell_type": "markdown",
      "metadata": {
        "id": "-ggWQzVV-anp"
      },
      "source": [
        "Wait, there are 11 bins when there were only supposed to be 10. What happened?\n",
        "\n",
        "It turns out that `histogram_bin_edges` and `digitize` think differently about the list of edges. `histogram_bin_edges` returns `bin_count + 1` values (in this case, 11), so that each bin has a defined stop and start. The final edge serves as an upper limit (in this case, 100).\n",
        "\n",
        "On the other hand, `digitize` lets the final bin accept any data larger than the start of the bin (or smaller if you are creating decreasing order bins), so there's no need for an edge to define the outside boundary. For that reason, we have to not pass digitize the final edge."
      ]
    },
    {
      "cell_type": "code",
      "metadata": {
        "id": "97ZSYL3z_DGd",
        "colab": {
          "base_uri": "https://localhost:8080/"
        },
        "outputId": "41864495-cb3d-41f3-8906-06985880782c"
      },
      "source": [
        "import pandas as pd\n",
        "import numpy as np\n",
        "\n",
        "df = reload_data()\n",
        "\n",
        "edges = np.histogram_bin_edges(df['Cocoa Percent'])\n",
        "bins = np.digitize(df['Cocoa Percent'], edges[:-1])\n",
        "np.unique(bins)"
      ],
      "execution_count": 220,
      "outputs": [
        {
          "output_type": "execute_result",
          "data": {
            "text/plain": [
              "array([ 1,  2,  3,  4,  5,  6,  7,  8,  9, 10])"
            ]
          },
          "metadata": {
            "tags": []
          },
          "execution_count": 220
        }
      ]
    },
    {
      "cell_type": "markdown",
      "metadata": {
        "id": "wEmsn0H69Ja-"
      },
      "source": [
        "That is better. We can now bring it all together and create a binned boxplot."
      ]
    },
    {
      "cell_type": "code",
      "metadata": {
        "id": "MQmOh6j6zCtx",
        "colab": {
          "base_uri": "https://localhost:8080/",
          "height": 607
        },
        "outputId": "7490fbe8-8dd9-4af2-8d0a-4e66d095b44f"
      },
      "source": [
        "import pandas as pd\n",
        "import matplotlib.pyplot as plt\n",
        "import seaborn as sns\n",
        "import numpy as np\n",
        "\n",
        "\n",
        "df = reload_data()\n",
        "\n",
        "edges = np.histogram_bin_edges(df['Cocoa Percent'], bins=10)\n",
        "bins = np.digitize(df['Cocoa Percent'], edges[:-1])\n",
        "\n",
        "plt.figure(figsize=[16, 10])\n",
        "\n",
        "ax = sns.boxplot(\n",
        "    x=bins,\n",
        "    y=df['Rating'],\n",
        ")\n",
        "\n",
        "labels = [f'{edges[i]:.{1}f} - {edges[i+1]:.{1}f}'\n",
        "            for i in range(len(edges) - 1)]\n",
        "_ = plt.xticks(list(range(10)), labels)\n",
        "_ = ax.set_title('Ratings by Cocoa Percent')"
      ],
      "execution_count": 221,
      "outputs": [
        {
          "output_type": "display_data",
          "data": {
            "image/png": "[encoded data removed]",
            "text/plain": [
              "<Figure size 1152x720 with 1 Axes>"
            ]
          },
          "metadata": {
            "tags": [],
            "needs_background": "light"
          }
        }
      ]
    },
    {
      "cell_type": "markdown",
      "metadata": {
        "id": "AsHtYfWeAa5K"
      },
      "source": [
        "#### Exercise 4: Interpreting Box Plots\n",
        "\n",
        "We've now created a boxplot that shows the range of ratings for different bins of percentages of cocoa. Use the plot to answer the following questions."
      ]
    },
    {
      "cell_type": "markdown",
      "metadata": {
        "id": "jJaSYdApBA-E"
      },
      "source": [
        "**Student Solution**\n",
        "\n",
        "1. Which bin of cocoa percentages tends to be the lowest rated?\n",
        "> 94.2-100\n",
        "1. Which bin (or bins) of cocoa percentages tend to get the most consistent ratings?\n",
        "> 71-76.8"
      ]
    },
    {
      "cell_type": "markdown",
      "metadata": {
        "id": "jQOj4HWkBwuc"
      },
      "source": [
        "---"
      ]
    },
    {
      "cell_type": "markdown",
      "metadata": {
        "id": "3WGACfglohPS"
      },
      "source": [
        "### Finding Correlations\n",
        "\n",
        "Another important check is to see if there are any correlations in your dataset. Correlation is a measure of how well two continuous variables track together.\n",
        "\n",
        "Pandas provides `DataFrame.corr()`, which provides a correlation matrix for all of the numeric values in the `DataFrame`."
      ]
    },
    {
      "cell_type": "code",
      "metadata": {
        "id": "02yE24S1ok5H",
        "colab": {
          "base_uri": "https://localhost:8080/",
          "height": 175
        },
        "outputId": "634be28a-6702-4f9a-fb96-995432b74d71"
      },
      "source": [
        "df = reload_data()\n",
        "\n",
        "df.corr()"
      ],
      "execution_count": 222,
      "outputs": [
        {
          "output_type": "execute_result",
          "data": {
            "text/html": [
              "<div>\n",
              "<style scoped>\n",
              "    .dataframe tbody tr th:only-of-type {\n",
              "        vertical-align: middle;\n",
              "    }\n",
              "\n",
              "    .dataframe tbody tr th {\n",
              "        vertical-align: top;\n",
              "    }\n",
              "\n",
              "    .dataframe thead th {\n",
              "        text-align: right;\n",
              "    }\n",
              "</style>\n",
              "<table border=\"1\" class=\"dataframe\">\n",
              "  <thead>\n",
              "    <tr style=\"text-align: right;\">\n",
              "      <th></th>\n",
              "      <th>Cocoa Percent</th>\n",
              "      <th>REF</th>\n",
              "      <th>Review Date</th>\n",
              "      <th>Rating</th>\n",
              "    </tr>\n",
              "  </thead>\n",
              "  <tbody>\n",
              "    <tr>\n",
              "      <th>Cocoa Percent</th>\n",
              "      <td>1.000000</td>\n",
              "      <td>0.037791</td>\n",
              "      <td>0.038177</td>\n",
              "      <td>-0.164820</td>\n",
              "    </tr>\n",
              "    <tr>\n",
              "      <th>REF</th>\n",
              "      <td>0.037791</td>\n",
              "      <td>1.000000</td>\n",
              "      <td>0.985076</td>\n",
              "      <td>0.101030</td>\n",
              "    </tr>\n",
              "    <tr>\n",
              "      <th>Review Date</th>\n",
              "      <td>0.038177</td>\n",
              "      <td>0.985076</td>\n",
              "      <td>1.000000</td>\n",
              "      <td>0.099846</td>\n",
              "    </tr>\n",
              "    <tr>\n",
              "      <th>Rating</th>\n",
              "      <td>-0.164820</td>\n",
              "      <td>0.101030</td>\n",
              "      <td>0.099846</td>\n",
              "      <td>1.000000</td>\n",
              "    </tr>\n",
              "  </tbody>\n",
              "</table>\n",
              "</div>"
            ],
            "text/plain": [
              "               Cocoa Percent       REF  Review Date    Rating\n",
              "Cocoa Percent       1.000000  0.037791     0.038177 -0.164820\n",
              "REF                 0.037791  1.000000     0.985076  0.101030\n",
              "Review Date         0.038177  0.985076     1.000000  0.099846\n",
              "Rating             -0.164820  0.101030     0.099846  1.000000"
            ]
          },
          "metadata": {
            "tags": []
          },
          "execution_count": 222
        }
      ]
    },
    {
      "cell_type": "markdown",
      "metadata": {
        "id": "GJ3XC7Z8tnQK"
      },
      "source": [
        "#### Exercise 5: Heatmap Correlations\n",
        "\n",
        "It is common for correlations to be shown in a heatmap. In this exercise we will create a heatmap and then attempt to interpret the map."
      ]
    },
    {
      "cell_type": "markdown",
      "metadata": {
        "id": "KSD0W-5Dt7_g"
      },
      "source": [
        "**Student Solution**\n",
        "\n",
        "Uses `seaborn` or `matplotlib` to create a heatmap representing the correlations in `df`."
      ]
    },
    {
      "cell_type": "code",
      "metadata": {
        "id": "GGun9IjKt5tX",
        "colab": {
          "base_uri": "https://localhost:8080/",
          "height": 287
        },
        "outputId": "09a3eb9e-3d48-4ab3-9eb0-356c4bf16494"
      },
      "source": [
        "# Your Solution Goes Here\n",
        "import seaborn as sns\n",
        "\n",
        "sns.heatmap(df.corr(), cmap='coolwarm')"
      ],
      "execution_count": 223,
      "outputs": [
        {
          "output_type": "execute_result",
          "data": {
            "text/plain": [
              "<matplotlib.axes._subplots.AxesSubplot at 0x7fc0b630a690>"
            ]
          },
          "metadata": {
            "tags": []
          },
          "execution_count": 223
        },
        {
          "output_type": "display_data",
          "data": {
            "image/png": "[encoded data removed]",
            "text/plain": [
              "<Figure size 432x288 with 2 Axes>"
            ]
          },
          "metadata": {
            "tags": [],
            "needs_background": "light"
          }
        }
      ]
    },
    {
      "cell_type": "code",
      "metadata": {
        "colab": {
          "base_uri": "https://localhost:8080/",
          "height": 441
        },
        "id": "QWXIv9_-NmFD",
        "outputId": "21fd5779-b620-450a-8bb3-daf0fc5d74b8"
      },
      "source": [
        "df"
      ],
      "execution_count": 224,
      "outputs": [
        {
          "output_type": "execute_result",
          "data": {
            "text/html": [
              "<div>\n",
              "<style scoped>\n",
              "    .dataframe tbody tr th:only-of-type {\n",
              "        vertical-align: middle;\n",
              "    }\n",
              "\n",
              "    .dataframe tbody tr th {\n",
              "        vertical-align: top;\n",
              "    }\n",
              "\n",
              "    .dataframe thead th {\n",
              "        text-align: right;\n",
              "    }\n",
              "</style>\n",
              "<table border=\"1\" class=\"dataframe\">\n",
              "  <thead>\n",
              "    <tr style=\"text-align: right;\">\n",
              "      <th></th>\n",
              "      <th>Company</th>\n",
              "      <th>Company Location</th>\n",
              "      <th>Bean Type</th>\n",
              "      <th>Specific Bean Origin</th>\n",
              "      <th>Broad Bean Origin</th>\n",
              "      <th>Cocoa Percent</th>\n",
              "      <th>REF</th>\n",
              "      <th>Review Date</th>\n",
              "      <th>Rating</th>\n",
              "      <th>Grade</th>\n",
              "    </tr>\n",
              "  </thead>\n",
              "  <tbody>\n",
              "    <tr>\n",
              "      <th>0</th>\n",
              "      <td>A. Morin</td>\n",
              "      <td>France</td>\n",
              "      <td>Unknown</td>\n",
              "      <td>Agua Grande</td>\n",
              "      <td>Sao Tome</td>\n",
              "      <td>63.0</td>\n",
              "      <td>1876</td>\n",
              "      <td>2016</td>\n",
              "      <td>3.75</td>\n",
              "      <td>F</td>\n",
              "    </tr>\n",
              "    <tr>\n",
              "      <th>1</th>\n",
              "      <td>A. Morin</td>\n",
              "      <td>France</td>\n",
              "      <td>Unknown</td>\n",
              "      <td>Kpime</td>\n",
              "      <td>Togo</td>\n",
              "      <td>70.0</td>\n",
              "      <td>1676</td>\n",
              "      <td>2015</td>\n",
              "      <td>2.75</td>\n",
              "      <td>J</td>\n",
              "    </tr>\n",
              "    <tr>\n",
              "      <th>2</th>\n",
              "      <td>A. Morin</td>\n",
              "      <td>France</td>\n",
              "      <td>Unknown</td>\n",
              "      <td>Atsane</td>\n",
              "      <td>Togo</td>\n",
              "      <td>70.0</td>\n",
              "      <td>1676</td>\n",
              "      <td>2015</td>\n",
              "      <td>3.00</td>\n",
              "      <td>I</td>\n",
              "    </tr>\n",
              "    <tr>\n",
              "      <th>3</th>\n",
              "      <td>A. Morin</td>\n",
              "      <td>France</td>\n",
              "      <td>Unknown</td>\n",
              "      <td>Akata</td>\n",
              "      <td>Togo</td>\n",
              "      <td>70.0</td>\n",
              "      <td>1680</td>\n",
              "      <td>2015</td>\n",
              "      <td>3.50</td>\n",
              "      <td>G</td>\n",
              "    </tr>\n",
              "    <tr>\n",
              "      <th>4</th>\n",
              "      <td>A. Morin</td>\n",
              "      <td>France</td>\n",
              "      <td>Unknown</td>\n",
              "      <td>Quilla</td>\n",
              "      <td>Peru</td>\n",
              "      <td>70.0</td>\n",
              "      <td>1704</td>\n",
              "      <td>2015</td>\n",
              "      <td>3.50</td>\n",
              "      <td>G</td>\n",
              "    </tr>\n",
              "    <tr>\n",
              "      <th>...</th>\n",
              "      <td>...</td>\n",
              "      <td>...</td>\n",
              "      <td>...</td>\n",
              "      <td>...</td>\n",
              "      <td>...</td>\n",
              "      <td>...</td>\n",
              "      <td>...</td>\n",
              "      <td>...</td>\n",
              "      <td>...</td>\n",
              "      <td>...</td>\n",
              "    </tr>\n",
              "    <tr>\n",
              "      <th>1790</th>\n",
              "      <td>Zotter</td>\n",
              "      <td>Austria</td>\n",
              "      <td>Unknown</td>\n",
              "      <td>Peru</td>\n",
              "      <td>Peru</td>\n",
              "      <td>70.0</td>\n",
              "      <td>647</td>\n",
              "      <td>2011</td>\n",
              "      <td>3.75</td>\n",
              "      <td>F</td>\n",
              "    </tr>\n",
              "    <tr>\n",
              "      <th>1791</th>\n",
              "      <td>Zotter</td>\n",
              "      <td>Austria</td>\n",
              "      <td>Forastero</td>\n",
              "      <td>Congo</td>\n",
              "      <td>Congo</td>\n",
              "      <td>65.0</td>\n",
              "      <td>749</td>\n",
              "      <td>2011</td>\n",
              "      <td>3.00</td>\n",
              "      <td>I</td>\n",
              "    </tr>\n",
              "    <tr>\n",
              "      <th>1792</th>\n",
              "      <td>Zotter</td>\n",
              "      <td>Austria</td>\n",
              "      <td>Forastero</td>\n",
              "      <td>Kerala State</td>\n",
              "      <td>India</td>\n",
              "      <td>65.0</td>\n",
              "      <td>749</td>\n",
              "      <td>2011</td>\n",
              "      <td>3.50</td>\n",
              "      <td>G</td>\n",
              "    </tr>\n",
              "    <tr>\n",
              "      <th>1793</th>\n",
              "      <td>Zotter</td>\n",
              "      <td>Austria</td>\n",
              "      <td>Unknown</td>\n",
              "      <td>Kerala State</td>\n",
              "      <td>India</td>\n",
              "      <td>62.0</td>\n",
              "      <td>781</td>\n",
              "      <td>2011</td>\n",
              "      <td>3.25</td>\n",
              "      <td>H</td>\n",
              "    </tr>\n",
              "    <tr>\n",
              "      <th>1794</th>\n",
              "      <td>Zotter</td>\n",
              "      <td>Austria</td>\n",
              "      <td>Unknown</td>\n",
              "      <td>Brazil, Mitzi Blue</td>\n",
              "      <td>Brazil</td>\n",
              "      <td>65.0</td>\n",
              "      <td>486</td>\n",
              "      <td>2010</td>\n",
              "      <td>3.00</td>\n",
              "      <td>I</td>\n",
              "    </tr>\n",
              "  </tbody>\n",
              "</table>\n",
              "<p>1795 rows × 10 columns</p>\n",
              "</div>"
            ],
            "text/plain": [
              "       Company Company Location  Bean Type  ... Review Date Rating  Grade\n",
              "0     A. Morin           France    Unknown  ...        2016   3.75      F\n",
              "1     A. Morin           France    Unknown  ...        2015   2.75      J\n",
              "2     A. Morin           France    Unknown  ...        2015   3.00      I\n",
              "3     A. Morin           France    Unknown  ...        2015   3.50      G\n",
              "4     A. Morin           France    Unknown  ...        2015   3.50      G\n",
              "...        ...              ...        ...  ...         ...    ...    ...\n",
              "1790    Zotter          Austria    Unknown  ...        2011   3.75      F\n",
              "1791    Zotter          Austria  Forastero  ...        2011   3.00      I\n",
              "1792    Zotter          Austria  Forastero  ...        2011   3.50      G\n",
              "1793    Zotter          Austria    Unknown  ...        2011   3.25      H\n",
              "1794    Zotter          Austria    Unknown  ...        2010   3.00      I\n",
              "\n",
              "[1795 rows x 10 columns]"
            ]
          },
          "metadata": {
            "tags": []
          },
          "execution_count": 224
        }
      ]
    },
    {
      "cell_type": "markdown",
      "metadata": {
        "id": "GZhg482nuj4a"
      },
      "source": [
        "1. Which columns have the strongest correlation?\n",
        "> REF and Review Date\n",
        "1. Why do you think they have such a strong correlation?\n",
        "> Because the higher the REF, the newer review date."
      ]
    },
    {
      "cell_type": "markdown",
      "metadata": {
        "id": "P9HSXHrFuFlZ"
      },
      "source": [
        "---"
      ]
    },
    {
      "cell_type": "markdown",
      "metadata": {
        "id": "YzECzbj_tcSz"
      },
      "source": [
        "### Visualizing Ratings Across the Globe\n",
        "\n",
        "This dataset seems to really emphasize the source of the cocoa beans used to make a chocolate bar. It would be interesting to see if there was a correlation with the geographical source of the beans and the perceived quality of the resulting chocolate.\n",
        "\n",
        "In order to do this, we need to take one of our columns of location data and turn it into geographical coordinates that we can then use to attempt to identify a pattern.\n",
        "\n",
        "The alleged geographical columns that we have in our data are:\n",
        "\n",
        "Column | Data Type | Description\n",
        "-------|-----------|------------\n",
        "Company Location | String | Manufacturer base country.\n",
        "Specific Bean Origin | String | The specific geo-region of origin for the bar.\n",
        "Broad Bean Origin | String | The broad geo-region of origin for the bean.\n",
        "\n",
        "But we know from our earlier analysis of the data that both of the bean origin columns are pretty messy. We could possibly tie most of the data points down to a geographical location, but it would be a huge undertaking. Also, the bean origins can have multiple locations for mixed blends. Ultimately this would be an interesting undertaking, but not for the scope of this course. \n",
        "\n",
        "'Company Location' offers more promise though. We have verified that it contains country information. It doesn't necessarily relate to the source of the bean, but we can at least try to see where the best bars are created!"
      ]
    },
    {
      "cell_type": "markdown",
      "metadata": {
        "id": "MYe9Ov7_Ie0f"
      },
      "source": [
        "Since the 'Company Location' values are all countries, we went ahead and created a `DataFrame` below that contains the latitude and longitude values for the countries that we have company data for. We have also merged the lat/long data into `df`.\n",
        "\n",
        "Run the hidden code cell below to update `df` with latitude and longitude data. After you run this cell a function called `reload_data_plus_latlong()` will be available to you to restore `df` to its original state at any time. To use it in your code write:\n",
        "\n",
        "```python\n",
        "df = reload_data_plus_latlong()\n",
        "```"
      ]
    },
    {
      "cell_type": "code",
      "metadata": {
        "cellView": "form",
        "id": "wyUIAdfavtRV",
        "colab": {
          "base_uri": "https://localhost:8080/",
          "height": 556
        },
        "outputId": "d3cf29bd-c83d-47c9-c183-3aecd7f843d9"
      },
      "source": [
        "#@title Lat Long Addition: Press Run To Load `df`\n",
        "\n",
        "def reload_data_plus_latlong():\n",
        "  df = reload_data()\n",
        "\n",
        "  country_df = pd.DataFrame([\n",
        "    ['Argentina', -36.3, -60.0],\n",
        "    ['Australia', -35.15, 149.08],\n",
        "    ['Austria', 48.12, 16.22],\n",
        "    ['Belgium', 50.51, 4.21],\n",
        "    ['Bolivia', -16.2, -68.1],\n",
        "    ['Brazil', -15.47, -47.55],\n",
        "    ['Canada', 45.27, -75.42],\n",
        "    ['Chile', -33.24, -70.4],\n",
        "    ['Colombia', 4.34, -74.0],\n",
        "    ['Costa Rica', 9.55, -84.02],\n",
        "    ['Czech Republic', 50.05, 14.22],\n",
        "    ['Denmark', 55.41, 12.34],\n",
        "    ['Dominican Republic', 18.74, -70.16],\n",
        "    ['Ecuador', -0.15, -78.35],\n",
        "    ['England', 52.36, -1.17],\n",
        "    ['Fiji', -18.06, 178.3],\n",
        "    ['Finland', 60.15, 25.03],\n",
        "    ['France', 48.5, 2.2],\n",
        "    ['Germany', 52.3, 13.25],\n",
        "    ['Ghana', 5.35, -0.06],\n",
        "    ['Grenada', 12.12, -61.68],\n",
        "    ['Guatemala', 14.4, -90.22],\n",
        "    ['Holland', 52.13, 5.29],\n",
        "    ['Honduras', 14.05, -87.14],\n",
        "    ['Hungary', 47.29, 19.05],\n",
        "    ['Iceland', 64.1, -21.57],\n",
        "    ['India', 28.37, 77.13],\n",
        "    ['Ireland', 53.21, -6.15],\n",
        "    ['Israel', 31.71, -35.1],\n",
        "    ['Italy', 41.54, 12.29],\n",
        "    ['Japan', 36.2, 138.25],\n",
        "    ['Lithuania', 54.38, 25.19],\n",
        "    ['Madagascar', -18.55, 47.31],\n",
        "    ['Martinique', 14.36, -61.02],\n",
        "    ['Mexico', 19.2, -99.1],\n",
        "    ['Netherlands', 52.23, 4.54],\n",
        "    ['New Zealand', -41.19, 174.46],\n",
        "    ['Nicaragua', 12.06, -86.2],\n",
        "    ['Peru', -12.0, -77.0],\n",
        "    ['Philippines', 14.4, 121.03],\n",
        "    ['Poland', 52.13, 21.0],\n",
        "    ['Portugal', 38.42, -9.1],\n",
        "    ['Puerto Rico', 18.28, -66.07],\n",
        "    ['Russia', 61.52, 105.32],\n",
        "    ['Sao Tome', 0.19, 6.61],\n",
        "    ['Scotland', 56.49, 4.2],\n",
        "    ['Singapore', 1.35, 103.82],\n",
        "    ['South Africa', -25.44, 28.12],\n",
        "    ['South Korea', 35.91, 127.77],\n",
        "    ['Spain', 40.25, -3.45],\n",
        "    ['St. Lucia', 13.91, -60.98],\n",
        "    ['Suriname', 5.5, -55.1],\n",
        "    ['Sweden', 59.2, 18.03],\n",
        "    ['Switzerland', 46.57, 7.28],\n",
        "    ['U.S.A.', 39.91, -77.02],\n",
        "    ['Venezuela', 10.3, -66.55],\n",
        "    ['Vietnam', 14.06, 108.28],\n",
        "    ['Wales', 52.13, -3.78],\n",
        "  ], columns=['Country', 'Latitude', 'Longitude'])\n",
        "\n",
        "  df = pd.merge(df, country_df, left_on='Company Location', right_on='Country')\n",
        "  return df\n",
        "\n",
        "df = reload_data_plus_latlong()\n",
        "df.sample(10)"
      ],
      "execution_count": 225,
      "outputs": [
        {
          "output_type": "execute_result",
          "data": {
            "text/html": [
              "<div>\n",
              "<style scoped>\n",
              "    .dataframe tbody tr th:only-of-type {\n",
              "        vertical-align: middle;\n",
              "    }\n",
              "\n",
              "    .dataframe tbody tr th {\n",
              "        vertical-align: top;\n",
              "    }\n",
              "\n",
              "    .dataframe thead th {\n",
              "        text-align: right;\n",
              "    }\n",
              "</style>\n",
              "<table border=\"1\" class=\"dataframe\">\n",
              "  <thead>\n",
              "    <tr style=\"text-align: right;\">\n",
              "      <th></th>\n",
              "      <th>Company</th>\n",
              "      <th>Company Location</th>\n",
              "      <th>Bean Type</th>\n",
              "      <th>Specific Bean Origin</th>\n",
              "      <th>Broad Bean Origin</th>\n",
              "      <th>Cocoa Percent</th>\n",
              "      <th>REF</th>\n",
              "      <th>Review Date</th>\n",
              "      <th>Rating</th>\n",
              "      <th>Grade</th>\n",
              "      <th>Country</th>\n",
              "      <th>Latitude</th>\n",
              "      <th>Longitude</th>\n",
              "    </tr>\n",
              "  </thead>\n",
              "  <tbody>\n",
              "    <tr>\n",
              "      <th>582</th>\n",
              "      <td>Mana</td>\n",
              "      <td>U.S.A.</td>\n",
              "      <td>Unknown</td>\n",
              "      <td>Peru</td>\n",
              "      <td>Peru</td>\n",
              "      <td>74.0</td>\n",
              "      <td>1219</td>\n",
              "      <td>2014</td>\n",
              "      <td>2.50</td>\n",
              "      <td>K</td>\n",
              "      <td>U.S.A.</td>\n",
              "      <td>39.91</td>\n",
              "      <td>-77.02</td>\n",
              "    </tr>\n",
              "    <tr>\n",
              "      <th>1045</th>\n",
              "      <td>Chocovic</td>\n",
              "      <td>Spain</td>\n",
              "      <td>Forastero (Arriba)</td>\n",
              "      <td>Bolivar, Guaranda</td>\n",
              "      <td>Ecuador</td>\n",
              "      <td>71.0</td>\n",
              "      <td>117</td>\n",
              "      <td>2007</td>\n",
              "      <td>2.50</td>\n",
              "      <td>K</td>\n",
              "      <td>Spain</td>\n",
              "      <td>40.25</td>\n",
              "      <td>-3.45</td>\n",
              "    </tr>\n",
              "    <tr>\n",
              "      <th>764</th>\n",
              "      <td>Scharffen Berger</td>\n",
              "      <td>U.S.A.</td>\n",
              "      <td>Trinitario</td>\n",
              "      <td>Ben Tre</td>\n",
              "      <td>Vietnam</td>\n",
              "      <td>72.0</td>\n",
              "      <td>445</td>\n",
              "      <td>2009</td>\n",
              "      <td>3.75</td>\n",
              "      <td>F</td>\n",
              "      <td>U.S.A.</td>\n",
              "      <td>39.91</td>\n",
              "      <td>-77.02</td>\n",
              "    </tr>\n",
              "    <tr>\n",
              "      <th>1173</th>\n",
              "      <td>Soma</td>\n",
              "      <td>Canada</td>\n",
              "      <td>Trinitario</td>\n",
              "      <td>Grenada, Black Science</td>\n",
              "      <td>Grenada</td>\n",
              "      <td>70.0</td>\n",
              "      <td>676</td>\n",
              "      <td>2011</td>\n",
              "      <td>2.75</td>\n",
              "      <td>J</td>\n",
              "      <td>Canada</td>\n",
              "      <td>45.27</td>\n",
              "      <td>-75.42</td>\n",
              "    </tr>\n",
              "    <tr>\n",
              "      <th>1229</th>\n",
              "      <td>Domori</td>\n",
              "      <td>Italy</td>\n",
              "      <td>Forastero (Arriba)</td>\n",
              "      <td>Ecuador</td>\n",
              "      <td>Ecuador</td>\n",
              "      <td>70.0</td>\n",
              "      <td>192</td>\n",
              "      <td>2007</td>\n",
              "      <td>4.00</td>\n",
              "      <td>E</td>\n",
              "      <td>Italy</td>\n",
              "      <td>41.54</td>\n",
              "      <td>12.29</td>\n",
              "    </tr>\n",
              "    <tr>\n",
              "      <th>1773</th>\n",
              "      <td>Rozsavolgyi</td>\n",
              "      <td>Hungary</td>\n",
              "      <td>Unknown</td>\n",
              "      <td>Aragua, Trincheras</td>\n",
              "      <td>Venezuela</td>\n",
              "      <td>70.0</td>\n",
              "      <td>717</td>\n",
              "      <td>2011</td>\n",
              "      <td>3.50</td>\n",
              "      <td>G</td>\n",
              "      <td>Hungary</td>\n",
              "      <td>47.29</td>\n",
              "      <td>19.05</td>\n",
              "    </tr>\n",
              "    <tr>\n",
              "      <th>201</th>\n",
              "      <td>Askinosie</td>\n",
              "      <td>U.S.A.</td>\n",
              "      <td>Trinitario</td>\n",
              "      <td>Mababa</td>\n",
              "      <td>Tanzania</td>\n",
              "      <td>68.0</td>\n",
              "      <td>1780</td>\n",
              "      <td>2016</td>\n",
              "      <td>3.75</td>\n",
              "      <td>F</td>\n",
              "      <td>U.S.A.</td>\n",
              "      <td>39.91</td>\n",
              "      <td>-77.02</td>\n",
              "    </tr>\n",
              "    <tr>\n",
              "      <th>1274</th>\n",
              "      <td>Artisan du Chocolat</td>\n",
              "      <td>England</td>\n",
              "      <td>Unknown</td>\n",
              "      <td>Haiti</td>\n",
              "      <td>Haiti</td>\n",
              "      <td>72.0</td>\n",
              "      <td>729</td>\n",
              "      <td>2011</td>\n",
              "      <td>4.00</td>\n",
              "      <td>E</td>\n",
              "      <td>England</td>\n",
              "      <td>52.36</td>\n",
              "      <td>-1.17</td>\n",
              "    </tr>\n",
              "    <tr>\n",
              "      <th>1518</th>\n",
              "      <td>Cacao Hunters</td>\n",
              "      <td>Colombia</td>\n",
              "      <td>Unknown</td>\n",
              "      <td>Macondo</td>\n",
              "      <td>Colombia</td>\n",
              "      <td>71.0</td>\n",
              "      <td>1816</td>\n",
              "      <td>2016</td>\n",
              "      <td>3.75</td>\n",
              "      <td>F</td>\n",
              "      <td>Colombia</td>\n",
              "      <td>4.34</td>\n",
              "      <td>-74.00</td>\n",
              "    </tr>\n",
              "    <tr>\n",
              "      <th>174</th>\n",
              "      <td>Amano</td>\n",
              "      <td>U.S.A.</td>\n",
              "      <td>Trinitario</td>\n",
              "      <td>Madagascar</td>\n",
              "      <td>Madagascar</td>\n",
              "      <td>70.0</td>\n",
              "      <td>129</td>\n",
              "      <td>2007</td>\n",
              "      <td>3.50</td>\n",
              "      <td>G</td>\n",
              "      <td>U.S.A.</td>\n",
              "      <td>39.91</td>\n",
              "      <td>-77.02</td>\n",
              "    </tr>\n",
              "  </tbody>\n",
              "</table>\n",
              "</div>"
            ],
            "text/plain": [
              "                  Company Company Location  ... Latitude Longitude\n",
              "582                  Mana           U.S.A.  ...    39.91    -77.02\n",
              "1045             Chocovic            Spain  ...    40.25     -3.45\n",
              "764      Scharffen Berger           U.S.A.  ...    39.91    -77.02\n",
              "1173                 Soma           Canada  ...    45.27    -75.42\n",
              "1229               Domori            Italy  ...    41.54     12.29\n",
              "1773          Rozsavolgyi          Hungary  ...    47.29     19.05\n",
              "201             Askinosie           U.S.A.  ...    39.91    -77.02\n",
              "1274  Artisan du Chocolat          England  ...    52.36     -1.17\n",
              "1518        Cacao Hunters         Colombia  ...     4.34    -74.00\n",
              "174                 Amano           U.S.A.  ...    39.91    -77.02\n",
              "\n",
              "[10 rows x 13 columns]"
            ]
          },
          "metadata": {
            "tags": []
          },
          "execution_count": 225
        }
      ]
    },
    {
      "cell_type": "markdown",
      "metadata": {
        "id": "9RtPDGc3I-KH"
      },
      "source": [
        "Given this new geographical data, we can now scatter plot the mean ratings data for each country onto the country's latitude and longitude."
      ]
    },
    {
      "cell_type": "code",
      "metadata": {
        "id": "D1pnKKrsEGiE",
        "colab": {
          "base_uri": "https://localhost:8080/",
          "height": 279
        },
        "outputId": "fb8dce8a-1f02-4aa3-8da8-b1f06dd0fc16"
      },
      "source": [
        "import seaborn as sns\n",
        "\n",
        "df = reload_data_plus_latlong()\n",
        "\n",
        "mean_ratings_df = df.groupby(['Latitude', 'Longitude'],\n",
        "                             as_index=False).mean()\n",
        "mean_ratings_df = mean_ratings_df[['Latitude', 'Longitude', 'Rating']]\n",
        "\n",
        "_ = sns.scatterplot(x='Longitude', y='Latitude', data=mean_ratings_df)"
      ],
      "execution_count": 226,
      "outputs": [
        {
          "output_type": "display_data",
          "data": {
            "image/png": "[encoded data removed]",
            "text/plain": [
              "<Figure size 432x288 with 1 Axes>"
            ]
          },
          "metadata": {
            "tags": [],
            "needs_background": "light"
          }
        }
      ]
    },
    {
      "cell_type": "markdown",
      "metadata": {
        "id": "tmTsMt-KKRB5"
      },
      "source": [
        "#### Exercise 6: More Meaningful Scatter Plots\n",
        "\n",
        "We just added in geographical data in order to scatter plot our ratings onto a \"map\", but the plot isn't very meaningful. From the plots we can somewhat make out Europe and South America, but we don't really know if they produce high-quality chocolates.\n",
        "\n",
        "In this exercise you will add visual cues to the scatter plot to indicate the relative quality of chocolate produced by each country. Check out the [`seaborn.scatterplot()` documentation](https://seaborn.pydata.org/generated/seaborn.scatterplot.html) and find arguments that you can pass to `seaborn.scatterplot()` that will call out the good chocolate from the bad by changing the size and color of the dots on the plot."
      ]
    },
    {
      "cell_type": "markdown",
      "metadata": {
        "id": "E12id18ZLFGe"
      },
      "source": [
        "**Student Solution**"
      ]
    },
    {
      "cell_type": "code",
      "metadata": {
        "id": "dYmAzq1CMFNi",
        "colab": {
          "base_uri": "https://localhost:8080/",
          "height": 279
        },
        "outputId": "85f133f7-6676-4879-9ab7-cdb8832af8d9"
      },
      "source": [
        "# Your Solution Goes Here\n",
        "import seaborn as sns\n",
        "\n",
        "df = reload_data_plus_latlong()\n",
        "\n",
        "mean_ratings_df = df.groupby(['Latitude', 'Longitude'],\n",
        "                             as_index=False).mean()\n",
        "mean_ratings_df = mean_ratings_df[['Latitude', 'Longitude', 'Rating']]\n",
        "\n",
        "_ = sns.scatterplot(x='Longitude', y='Latitude', data=mean_ratings_df, \n",
        "                    hue=\"Rating\", size=\"Rating\")"
      ],
      "execution_count": 227,
      "outputs": [
        {
          "output_type": "display_data",
          "data": {
            "image/png": "[encoded data removed]",
            "text/plain": [
              "<Figure size 432x288 with 1 Axes>"
            ]
          },
          "metadata": {
            "tags": [],
            "needs_background": "light"
          }
        }
      ]
    },
    {
      "cell_type": "markdown",
      "metadata": {
        "id": "-2a4Lrg3MG_I"
      },
      "source": [
        "---"
      ]
    },
    {
      "cell_type": "markdown",
      "metadata": {
        "id": "7N2EuunjyJ5n"
      },
      "source": [
        "### Finding Facts About the Data\n",
        "\n",
        "We've created some nice visualizations to explore our data. Sometimes, you might just want textual information. In this section we'll use `Pandas` to answer a few questions about our dataset."
      ]
    },
    {
      "cell_type": "markdown",
      "metadata": {
        "id": "mYFUFJT5ECIH"
      },
      "source": [
        "We might want to find the companies with the highest average ratings. To do this we can group our data by 'Company', find the mean rating, and print out only the top rated companies. We'll do this just using `Pandas`."
      ]
    },
    {
      "cell_type": "code",
      "metadata": {
        "id": "yFwZizQfETbM",
        "colab": {
          "base_uri": "https://localhost:8080/",
          "height": 394
        },
        "outputId": "f82d8703-9b79-48f6-e9f0-b23cc6180847"
      },
      "source": [
        "df.groupby('Company')[['Rating']].mean().sort_values(by='Rating').tail(10)"
      ],
      "execution_count": 228,
      "outputs": [
        {
          "output_type": "execute_result",
          "data": {
            "text/html": [
              "<div>\n",
              "<style scoped>\n",
              "    .dataframe tbody tr th:only-of-type {\n",
              "        vertical-align: middle;\n",
              "    }\n",
              "\n",
              "    .dataframe tbody tr th {\n",
              "        vertical-align: top;\n",
              "    }\n",
              "\n",
              "    .dataframe thead th {\n",
              "        text-align: right;\n",
              "    }\n",
              "</style>\n",
              "<table border=\"1\" class=\"dataframe\">\n",
              "  <thead>\n",
              "    <tr style=\"text-align: right;\">\n",
              "      <th></th>\n",
              "      <th>Rating</th>\n",
              "    </tr>\n",
              "    <tr>\n",
              "      <th>Company</th>\n",
              "      <th></th>\n",
              "    </tr>\n",
              "  </thead>\n",
              "  <tbody>\n",
              "    <tr>\n",
              "      <th>Timo A. Meyer</th>\n",
              "      <td>3.750000</td>\n",
              "    </tr>\n",
              "    <tr>\n",
              "      <th>Acalli</th>\n",
              "      <td>3.750000</td>\n",
              "    </tr>\n",
              "    <tr>\n",
              "      <th>Chocola'te</th>\n",
              "      <td>3.750000</td>\n",
              "    </tr>\n",
              "    <tr>\n",
              "      <th>Idilio (Felchlin)</th>\n",
              "      <td>3.775000</td>\n",
              "    </tr>\n",
              "    <tr>\n",
              "      <th>Patric</th>\n",
              "      <td>3.791667</td>\n",
              "    </tr>\n",
              "    <tr>\n",
              "      <th>Matale</th>\n",
              "      <td>3.812500</td>\n",
              "    </tr>\n",
              "    <tr>\n",
              "      <th>Amedei</th>\n",
              "      <td>3.846154</td>\n",
              "    </tr>\n",
              "    <tr>\n",
              "      <th>Ocelot</th>\n",
              "      <td>3.875000</td>\n",
              "    </tr>\n",
              "    <tr>\n",
              "      <th>Heirloom Cacao Preservation (Zokoko)</th>\n",
              "      <td>3.875000</td>\n",
              "    </tr>\n",
              "    <tr>\n",
              "      <th>Tobago Estate (Pralus)</th>\n",
              "      <td>4.000000</td>\n",
              "    </tr>\n",
              "  </tbody>\n",
              "</table>\n",
              "</div>"
            ],
            "text/plain": [
              "                                        Rating\n",
              "Company                                       \n",
              "Timo A. Meyer                         3.750000\n",
              "Acalli                                3.750000\n",
              "Chocola'te                            3.750000\n",
              "Idilio (Felchlin)                     3.775000\n",
              "Patric                                3.791667\n",
              "Matale                                3.812500\n",
              "Amedei                                3.846154\n",
              "Ocelot                                3.875000\n",
              "Heirloom Cacao Preservation (Zokoko)  3.875000\n",
              "Tobago Estate (Pralus)                4.000000"
            ]
          },
          "metadata": {
            "tags": []
          },
          "execution_count": 228
        }
      ]
    },
    {
      "cell_type": "markdown",
      "metadata": {
        "id": "XRfvCCnuJPsq"
      },
      "source": [
        "We can use grouping and index selection to answer questions like: *How many companies produce, on average, worse than the overall mean rated chocolates?*"
      ]
    },
    {
      "cell_type": "code",
      "metadata": {
        "id": "TQ-ZM7zAEvZt",
        "colab": {
          "base_uri": "https://localhost:8080/"
        },
        "outputId": "ac0b6e1d-9ba8-4f86-c903-b92b0fb0ac14"
      },
      "source": [
        "# Find the overall mean rating\n",
        "mean_rating = df['Rating'].mean()\n",
        "\n",
        "# Find each company's mean rating\n",
        "mean_ratings_by_company = df.groupby('Company',\n",
        "                                     as_index=False)[['Rating']].mean()\n",
        "\n",
        "# See how many of those ratings are below the mean\n",
        "mean_ratings_by_company[mean_ratings_by_company['Rating'] < mean_rating]['Company'].count()"
      ],
      "execution_count": 229,
      "outputs": [
        {
          "output_type": "execute_result",
          "data": {
            "text/plain": [
              "238"
            ]
          },
          "metadata": {
            "tags": []
          },
          "execution_count": 229
        }
      ]
    },
    {
      "cell_type": "markdown",
      "metadata": {
        "id": "YBV-0VPlKQka"
      },
      "source": [
        "#### Exercise 7: Highest Rated Companies With Many Reviews\n",
        "\n",
        "Earlier we found the companies with the highest mean rating, but some of those companies only have one or two reviews. For this exercise find five highest-mean rated companies with at least five reviews."
      ]
    },
    {
      "cell_type": "markdown",
      "metadata": {
        "id": "SJP0GqHHNiC0"
      },
      "source": [
        "**Student Solution**"
      ]
    },
    {
      "cell_type": "code",
      "metadata": {
        "id": "wQTPDtqwNkyX",
        "colab": {
          "base_uri": "https://localhost:8080/",
          "height": 424
        },
        "outputId": "e00623fc-0ebf-4fc9-a056-7f10053ddc01"
      },
      "source": [
        "# Your Code Goes Here\n",
        "\n",
        "company_count = df.groupby('Company')[['Company']].count().copy()\n",
        "company_count.rename(columns={'Company': 'Count'}, inplace=True)\n",
        "company_count.reset_index(inplace=True)\n",
        "company_count"
      ],
      "execution_count": 271,
      "outputs": [
        {
          "output_type": "execute_result",
          "data": {
            "text/html": [
              "<div>\n",
              "<style scoped>\n",
              "    .dataframe tbody tr th:only-of-type {\n",
              "        vertical-align: middle;\n",
              "    }\n",
              "\n",
              "    .dataframe tbody tr th {\n",
              "        vertical-align: top;\n",
              "    }\n",
              "\n",
              "    .dataframe thead th {\n",
              "        text-align: right;\n",
              "    }\n",
              "</style>\n",
              "<table border=\"1\" class=\"dataframe\">\n",
              "  <thead>\n",
              "    <tr style=\"text-align: right;\">\n",
              "      <th></th>\n",
              "      <th>Company</th>\n",
              "      <th>Count</th>\n",
              "    </tr>\n",
              "  </thead>\n",
              "  <tbody>\n",
              "    <tr>\n",
              "      <th>0</th>\n",
              "      <td>A. Morin</td>\n",
              "      <td>23</td>\n",
              "    </tr>\n",
              "    <tr>\n",
              "      <th>1</th>\n",
              "      <td>AMMA</td>\n",
              "      <td>5</td>\n",
              "    </tr>\n",
              "    <tr>\n",
              "      <th>2</th>\n",
              "      <td>Acalli</td>\n",
              "      <td>2</td>\n",
              "    </tr>\n",
              "    <tr>\n",
              "      <th>3</th>\n",
              "      <td>Adi</td>\n",
              "      <td>4</td>\n",
              "    </tr>\n",
              "    <tr>\n",
              "      <th>4</th>\n",
              "      <td>Aequare (Gianduja)</td>\n",
              "      <td>2</td>\n",
              "    </tr>\n",
              "    <tr>\n",
              "      <th>...</th>\n",
              "      <td>...</td>\n",
              "      <td>...</td>\n",
              "    </tr>\n",
              "    <tr>\n",
              "      <th>409</th>\n",
              "      <td>hello cocoa</td>\n",
              "      <td>2</td>\n",
              "    </tr>\n",
              "    <tr>\n",
              "      <th>410</th>\n",
              "      <td>hexx</td>\n",
              "      <td>5</td>\n",
              "    </tr>\n",
              "    <tr>\n",
              "      <th>411</th>\n",
              "      <td>iQ Chocolate</td>\n",
              "      <td>2</td>\n",
              "    </tr>\n",
              "    <tr>\n",
              "      <th>412</th>\n",
              "      <td>organicfair</td>\n",
              "      <td>5</td>\n",
              "    </tr>\n",
              "    <tr>\n",
              "      <th>413</th>\n",
              "      <td>twenty-four blackbirds</td>\n",
              "      <td>6</td>\n",
              "    </tr>\n",
              "  </tbody>\n",
              "</table>\n",
              "<p>414 rows × 2 columns</p>\n",
              "</div>"
            ],
            "text/plain": [
              "                    Company  Count\n",
              "0                  A. Morin     23\n",
              "1                      AMMA      5\n",
              "2                    Acalli      2\n",
              "3                       Adi      4\n",
              "4        Aequare (Gianduja)      2\n",
              "..                      ...    ...\n",
              "409             hello cocoa      2\n",
              "410                    hexx      5\n",
              "411            iQ Chocolate      2\n",
              "412             organicfair      5\n",
              "413  twenty-four blackbirds      6\n",
              "\n",
              "[414 rows x 2 columns]"
            ]
          },
          "metadata": {
            "tags": []
          },
          "execution_count": 271
        }
      ]
    },
    {
      "cell_type": "code",
      "metadata": {
        "colab": {
          "base_uri": "https://localhost:8080/",
          "height": 424
        },
        "id": "pkZLx3dSX1mx",
        "outputId": "a009b0f6-b33d-4188-ed90-2b1362c257d1"
      },
      "source": [
        "rating_mean = df.groupby('Company')[['Rating']].mean()\n",
        "rating_mean.reset_index(inplace=True)\n",
        "rating_mean"
      ],
      "execution_count": 272,
      "outputs": [
        {
          "output_type": "execute_result",
          "data": {
            "text/html": [
              "<div>\n",
              "<style scoped>\n",
              "    .dataframe tbody tr th:only-of-type {\n",
              "        vertical-align: middle;\n",
              "    }\n",
              "\n",
              "    .dataframe tbody tr th {\n",
              "        vertical-align: top;\n",
              "    }\n",
              "\n",
              "    .dataframe thead th {\n",
              "        text-align: right;\n",
              "    }\n",
              "</style>\n",
              "<table border=\"1\" class=\"dataframe\">\n",
              "  <thead>\n",
              "    <tr style=\"text-align: right;\">\n",
              "      <th></th>\n",
              "      <th>Company</th>\n",
              "      <th>Rating</th>\n",
              "    </tr>\n",
              "  </thead>\n",
              "  <tbody>\n",
              "    <tr>\n",
              "      <th>0</th>\n",
              "      <td>A. Morin</td>\n",
              "      <td>3.380435</td>\n",
              "    </tr>\n",
              "    <tr>\n",
              "      <th>1</th>\n",
              "      <td>AMMA</td>\n",
              "      <td>3.500000</td>\n",
              "    </tr>\n",
              "    <tr>\n",
              "      <th>2</th>\n",
              "      <td>Acalli</td>\n",
              "      <td>3.750000</td>\n",
              "    </tr>\n",
              "    <tr>\n",
              "      <th>3</th>\n",
              "      <td>Adi</td>\n",
              "      <td>3.250000</td>\n",
              "    </tr>\n",
              "    <tr>\n",
              "      <th>4</th>\n",
              "      <td>Aequare (Gianduja)</td>\n",
              "      <td>2.875000</td>\n",
              "    </tr>\n",
              "    <tr>\n",
              "      <th>...</th>\n",
              "      <td>...</td>\n",
              "      <td>...</td>\n",
              "    </tr>\n",
              "    <tr>\n",
              "      <th>409</th>\n",
              "      <td>hello cocoa</td>\n",
              "      <td>3.125000</td>\n",
              "    </tr>\n",
              "    <tr>\n",
              "      <th>410</th>\n",
              "      <td>hexx</td>\n",
              "      <td>3.050000</td>\n",
              "    </tr>\n",
              "    <tr>\n",
              "      <th>411</th>\n",
              "      <td>iQ Chocolate</td>\n",
              "      <td>2.875000</td>\n",
              "    </tr>\n",
              "    <tr>\n",
              "      <th>412</th>\n",
              "      <td>organicfair</td>\n",
              "      <td>2.850000</td>\n",
              "    </tr>\n",
              "    <tr>\n",
              "      <th>413</th>\n",
              "      <td>twenty-four blackbirds</td>\n",
              "      <td>3.041667</td>\n",
              "    </tr>\n",
              "  </tbody>\n",
              "</table>\n",
              "<p>414 rows × 2 columns</p>\n",
              "</div>"
            ],
            "text/plain": [
              "                    Company    Rating\n",
              "0                  A. Morin  3.380435\n",
              "1                      AMMA  3.500000\n",
              "2                    Acalli  3.750000\n",
              "3                       Adi  3.250000\n",
              "4        Aequare (Gianduja)  2.875000\n",
              "..                      ...       ...\n",
              "409             hello cocoa  3.125000\n",
              "410                    hexx  3.050000\n",
              "411            iQ Chocolate  2.875000\n",
              "412             organicfair  2.850000\n",
              "413  twenty-four blackbirds  3.041667\n",
              "\n",
              "[414 rows x 2 columns]"
            ]
          },
          "metadata": {
            "tags": []
          },
          "execution_count": 272
        }
      ]
    },
    {
      "cell_type": "code",
      "metadata": {
        "colab": {
          "base_uri": "https://localhost:8080/",
          "height": 237
        },
        "id": "dKVaDsEV6sht",
        "outputId": "2451c1bd-d687-4108-f70f-bdbdaf1f63c0"
      },
      "source": [
        "result = pd.merge(rating_mean, company_count).copy()\n",
        "is_five_review = result['Count'] >= 5\n",
        "result[is_five_review].set_index('Company')[['Rating']].sort_values(by='Rating').tail(5)"
      ],
      "execution_count": 284,
      "outputs": [
        {
          "output_type": "execute_result",
          "data": {
            "text/html": [
              "<div>\n",
              "<style scoped>\n",
              "    .dataframe tbody tr th:only-of-type {\n",
              "        vertical-align: middle;\n",
              "    }\n",
              "\n",
              "    .dataframe tbody tr th {\n",
              "        vertical-align: top;\n",
              "    }\n",
              "\n",
              "    .dataframe thead th {\n",
              "        text-align: right;\n",
              "    }\n",
              "</style>\n",
              "<table border=\"1\" class=\"dataframe\">\n",
              "  <thead>\n",
              "    <tr style=\"text-align: right;\">\n",
              "      <th></th>\n",
              "      <th>Rating</th>\n",
              "    </tr>\n",
              "    <tr>\n",
              "      <th>Company</th>\n",
              "      <th></th>\n",
              "    </tr>\n",
              "  </thead>\n",
              "  <tbody>\n",
              "    <tr>\n",
              "      <th>Cacao Sampaka</th>\n",
              "      <td>3.666667</td>\n",
              "    </tr>\n",
              "    <tr>\n",
              "      <th>Benoit Nihant</th>\n",
              "      <td>3.708333</td>\n",
              "    </tr>\n",
              "    <tr>\n",
              "      <th>Idilio (Felchlin)</th>\n",
              "      <td>3.775000</td>\n",
              "    </tr>\n",
              "    <tr>\n",
              "      <th>Patric</th>\n",
              "      <td>3.791667</td>\n",
              "    </tr>\n",
              "    <tr>\n",
              "      <th>Amedei</th>\n",
              "      <td>3.846154</td>\n",
              "    </tr>\n",
              "  </tbody>\n",
              "</table>\n",
              "</div>"
            ],
            "text/plain": [
              "                     Rating\n",
              "Company                    \n",
              "Cacao Sampaka      3.666667\n",
              "Benoit Nihant      3.708333\n",
              "Idilio (Felchlin)  3.775000\n",
              "Patric             3.791667\n",
              "Amedei             3.846154"
            ]
          },
          "metadata": {
            "tags": []
          },
          "execution_count": 284
        }
      ]
    },
    {
      "cell_type": "markdown",
      "metadata": {
        "id": "8cFocDu5NnI4"
      },
      "source": [
        "---"
      ]
    },
    {
      "cell_type": "markdown",
      "metadata": {
        "id": "qZbZgDNoOqFC"
      },
      "source": [
        "## Conclusion"
      ]
    },
    {
      "cell_type": "markdown",
      "metadata": {
        "id": "blB7c1ZpOsKY"
      },
      "source": [
        "Congratulations. You have now taken a dataset with missing and messy values, cleaned it up, and examined the data through visualization and through Pandas queries.\n",
        "\n",
        "This exploratory data analysis and data preprocessing is a very important step in data science and machine learning. Knowing how to use machine learning models is important, but if you want to model data properly, it is just as important that you understand your data well."
      ]
    }
  ]
}