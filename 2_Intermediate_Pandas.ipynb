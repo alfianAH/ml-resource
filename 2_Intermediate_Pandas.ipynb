{
  "nbformat": 4,
  "nbformat_minor": 0,
  "metadata": {
    "colab": {
      "name": "#2-Intermediate Pandas.ipynb",
      "provenance": [],
      "collapsed_sections": [
        "lRh9gZN5NnoA"
      ],
      "toc_visible": true
    },
    "kernelspec": {
      "display_name": "Python 3",
      "name": "python3"
    }
  },
  "cells": [
    {
      "cell_type": "markdown",
      "metadata": {
        "id": "lRh9gZN5NnoA"
      },
      "source": [
        "####Copyright 2020 Google LLC."
      ]
    },
    {
      "cell_type": "code",
      "metadata": {
        "id": "xqxbnlgPNozU"
      },
      "source": [
        "# Licensed under the Apache License, Version 2.0 (the \"License\");\n",
        "# you may not use this file except in compliance with the License.\n",
        "# You may obtain a copy of the License at\n",
        "#\n",
        "# https://www.apache.org/licenses/LICENSE-2.0\n",
        "#\n",
        "# Unless required by applicable law or agreed to in writing, software\n",
        "# distributed under the License is distributed on an \"AS IS\" BASIS,\n",
        "# WITHOUT WARRANTIES OR CONDITIONS OF ANY KIND, either express or implied.\n",
        "# See the License for the specific language governing permissions and\n",
        "# limitations under the License."
      ],
      "execution_count": null,
      "outputs": []
    },
    {
      "cell_type": "markdown",
      "metadata": {
        "id": "8ZtwR4AUmERg"
      },
      "source": [
        "# Intermediate Pandas\n",
        "\n",
        "[Pandas](https://pandas.pydata.org/) is a powerful Python library for working with data. For this lab, you should already know what a [DataFrame](https://pandas.pydata.org/pandas-docs/stable/reference/api/pandas.DataFrame.html) and [Series](https://pandas.pydata.org/pandas-docs/stable/reference/series.html) are and how to do some simple analysis of the data contained in those structures.\n",
        "\n",
        "In this lab we'll look at some more advanced capabilities of Pandas, such as filtering, grouping, merging, and sorting."
      ]
    },
    {
      "cell_type": "markdown",
      "metadata": {
        "id": "sSPe_A_RQIPU"
      },
      "source": [
        "## DataFrame Information"
      ]
    },
    {
      "cell_type": "markdown",
      "metadata": {
        "id": "YBbMQ-Mnl_ys"
      },
      "source": [
        "`DataFrame` objects are rich containers that allow us to explore and modify data. In this lab we will learn powerful techniques for working with the data contained in `DataFrame` objects.\n",
        "\n",
        "To begin, let's create a `DataFrame` containing information about populations and airports in a few select cities."
      ]
    },
    {
      "cell_type": "code",
      "metadata": {
        "id": "xy6gwtEvJhuj",
        "colab": {
          "base_uri": "https://localhost:8080/",
          "height": 269
        },
        "outputId": "20681127-a6e3-4f66-e159-9421aa426260"
      },
      "source": [
        "import pandas as pd\n",
        "\n",
        "airport_df = pd.DataFrame.from_records((\n",
        "  ('Atlanta', 498044, 2),\n",
        "  ('Austin', 964254, 2),\n",
        "  ('Kansas City',  491918, 8),\n",
        "  ('New York City', 8398748, 3),\n",
        "  ('Portland', 653115, 1),\n",
        "  ('San Francisco', 883305, 3),\n",
        "  ('Seattle', 744955, 2),\n",
        "), columns=(\"City Name\", \"Population\", \"Airports\"))\n",
        "\n",
        "airport_df"
      ],
      "execution_count": null,
      "outputs": [
        {
          "output_type": "execute_result",
          "data": {
            "text/html": [
              "<div>\n",
              "<style scoped>\n",
              "    .dataframe tbody tr th:only-of-type {\n",
              "        vertical-align: middle;\n",
              "    }\n",
              "\n",
              "    .dataframe tbody tr th {\n",
              "        vertical-align: top;\n",
              "    }\n",
              "\n",
              "    .dataframe thead th {\n",
              "        text-align: right;\n",
              "    }\n",
              "</style>\n",
              "<table border=\"1\" class=\"dataframe\">\n",
              "  <thead>\n",
              "    <tr style=\"text-align: right;\">\n",
              "      <th></th>\n",
              "      <th>City Name</th>\n",
              "      <th>Population</th>\n",
              "      <th>Airports</th>\n",
              "    </tr>\n",
              "  </thead>\n",
              "  <tbody>\n",
              "    <tr>\n",
              "      <th>0</th>\n",
              "      <td>Atlanta</td>\n",
              "      <td>498044</td>\n",
              "      <td>2</td>\n",
              "    </tr>\n",
              "    <tr>\n",
              "      <th>1</th>\n",
              "      <td>Austin</td>\n",
              "      <td>964254</td>\n",
              "      <td>2</td>\n",
              "    </tr>\n",
              "    <tr>\n",
              "      <th>2</th>\n",
              "      <td>Kansas City</td>\n",
              "      <td>491918</td>\n",
              "      <td>8</td>\n",
              "    </tr>\n",
              "    <tr>\n",
              "      <th>3</th>\n",
              "      <td>New York City</td>\n",
              "      <td>8398748</td>\n",
              "      <td>3</td>\n",
              "    </tr>\n",
              "    <tr>\n",
              "      <th>4</th>\n",
              "      <td>Portland</td>\n",
              "      <td>653115</td>\n",
              "      <td>1</td>\n",
              "    </tr>\n",
              "    <tr>\n",
              "      <th>5</th>\n",
              "      <td>San Francisco</td>\n",
              "      <td>883305</td>\n",
              "      <td>3</td>\n",
              "    </tr>\n",
              "    <tr>\n",
              "      <th>6</th>\n",
              "      <td>Seattle</td>\n",
              "      <td>744955</td>\n",
              "      <td>2</td>\n",
              "    </tr>\n",
              "  </tbody>\n",
              "</table>\n",
              "</div>"
            ],
            "text/plain": [
              "       City Name  Population  Airports\n",
              "0        Atlanta      498044         2\n",
              "1         Austin      964254         2\n",
              "2    Kansas City      491918         8\n",
              "3  New York City     8398748         3\n",
              "4       Portland      653115         1\n",
              "5  San Francisco      883305         3\n",
              "6        Seattle      744955         2"
            ]
          },
          "metadata": {
            "tags": []
          },
          "execution_count": 1
        }
      ]
    },
    {
      "cell_type": "markdown",
      "metadata": {
        "id": "v9xkHrhvirQZ"
      },
      "source": [
        "If you aren't familiar with the `from_records()` method, it is a way to create a `DataFrame` from data formatted in a tabular manner. In this case we have a tuple-of-tuples where each inner-tuple is a row of data for a city."
      ]
    },
    {
      "cell_type": "markdown",
      "metadata": {
        "id": "TiJbWvWlplO7"
      },
      "source": [
        "### Shape\n",
        "\n",
        "One interesting fact about a `DataFrame` is its shape. What is shape?\n",
        "\n",
        "Shape is the number of rows and columns contained in the dataframe.\n",
        "\n",
        "Let's find the shape of the `airport_df`:"
      ]
    },
    {
      "cell_type": "code",
      "metadata": {
        "id": "uogKNp6YnQuN",
        "colab": {
          "base_uri": "https://localhost:8080/"
        },
        "outputId": "df549c88-af3f-4e8c-e01b-3cb7b662884d"
      },
      "source": [
        "airport_df.shape"
      ],
      "execution_count": null,
      "outputs": [
        {
          "output_type": "execute_result",
          "data": {
            "text/plain": [
              "(7, 3)"
            ]
          },
          "metadata": {
            "tags": []
          },
          "execution_count": 2
        }
      ]
    },
    {
      "cell_type": "markdown",
      "metadata": {
        "id": "Nacr3tyxp-KN"
      },
      "source": [
        "The `DataFrame` has a shape of `(7, 3)`.\n",
        "\n",
        "This means that the `DataFrame` has seven rows and three columns.\n",
        "\n",
        "If you are familiar with [NumPy](http://numpy.org), you probably are also familiar with `shape`. `NumPy` arrays can have n-dimensional shapes while `DataFrame` objects tend to stick to two dimensions: rows and columns."
      ]
    },
    {
      "cell_type": "markdown",
      "metadata": {
        "id": "MvXVgSZh_AyF"
      },
      "source": [
        "#### Exercise 1: Finding Shape\n",
        "\n",
        "Download the California housing data referenced below into a `DataFrame`, and print out the shape of the data."
      ]
    },
    {
      "cell_type": "markdown",
      "metadata": {
        "id": "GZYNh_sk_cgj"
      },
      "source": [
        "**Student Solution**"
      ]
    },
    {
      "cell_type": "code",
      "metadata": {
        "id": "WB0AE8Cb-0Cx",
        "colab": {
          "base_uri": "https://localhost:8080/"
        },
        "outputId": "f410dfc1-4b53-4aae-cbd4-41506f639480"
      },
      "source": [
        "url = \"https://download.mlcc.google.com/mledu-datasets/california_housing_train.csv\"\n",
        "\n",
        "# Download the housing data\n",
        "df = pd.read_csv(url)\n",
        "# Print the shape of the data\n",
        "print(df.shape)"
      ],
      "execution_count": null,
      "outputs": [
        {
          "output_type": "stream",
          "text": [
            "(17000, 9)\n"
          ],
          "name": "stdout"
        }
      ]
    },
    {
      "cell_type": "markdown",
      "metadata": {
        "id": "2Pw1Aw7jXAwZ"
      },
      "source": [
        "---"
      ]
    },
    {
      "cell_type": "markdown",
      "metadata": {
        "id": "UgAd9Zo83sWQ"
      },
      "source": [
        "### Columns\n",
        "\n",
        "Speaking of columns, it's possible to ask a `DataFrame` what columns it contains using the `columns` attribute:"
      ]
    },
    {
      "cell_type": "code",
      "metadata": {
        "id": "tam4t-l8nsZk",
        "colab": {
          "base_uri": "https://localhost:8080/"
        },
        "outputId": "defedd2a-44a8-4c08-807d-6ad4ffea77aa"
      },
      "source": [
        "airport_df.columns"
      ],
      "execution_count": null,
      "outputs": [
        {
          "output_type": "execute_result",
          "data": {
            "text/plain": [
              "Index(['City Name', 'Population', 'Airports'], dtype='object')"
            ]
          },
          "metadata": {
            "tags": []
          },
          "execution_count": 7
        }
      ]
    },
    {
      "cell_type": "markdown",
      "metadata": {
        "id": "EzTuZeWV35hu"
      },
      "source": [
        "Notice that the columns are contained in an `Index` object. An `Index` wraps the list of columns. For basic usage, like loops, you can just use the `Index` directly:"
      ]
    },
    {
      "cell_type": "code",
      "metadata": {
        "id": "1d4Cn6f-3_Sj",
        "colab": {
          "base_uri": "https://localhost:8080/"
        },
        "outputId": "b07f6145-a06b-42f7-abb9-d87d6132dbdc"
      },
      "source": [
        "for c in airport_df.columns:\n",
        "    print(c)"
      ],
      "execution_count": null,
      "outputs": [
        {
          "output_type": "stream",
          "text": [
            "City Name\n",
            "Population\n",
            "Airports\n"
          ],
          "name": "stdout"
        }
      ]
    },
    {
      "cell_type": "markdown",
      "metadata": {
        "id": "3GphYBOj3-hD"
      },
      "source": [
        "If you do need the columns in a lower level format, you can use `.values` to get a `NumPy` array:"
      ]
    },
    {
      "cell_type": "code",
      "metadata": {
        "id": "SGqGoVhq4MeV",
        "colab": {
          "base_uri": "https://localhost:8080/"
        },
        "outputId": "06845789-4379-4feb-dc5a-54c134b76502"
      },
      "source": [
        "type(airport_df.columns.values)"
      ],
      "execution_count": null,
      "outputs": [
        {
          "output_type": "execute_result",
          "data": {
            "text/plain": [
              "numpy.ndarray"
            ]
          },
          "metadata": {
            "tags": []
          },
          "execution_count": 13
        }
      ]
    },
    {
      "cell_type": "markdown",
      "metadata": {
        "id": "Bt0CLEp04hVS"
      },
      "source": [
        "If you need a basic Python list, you can then call `.tolist()` to get the core Python list of column names:"
      ]
    },
    {
      "cell_type": "code",
      "metadata": {
        "id": "Iztav3ht4oxn",
        "colab": {
          "base_uri": "https://localhost:8080/"
        },
        "outputId": "76dcf571-a899-4dfb-d13e-3935f304ba58"
      },
      "source": [
        "type(airport_df.columns.values.tolist())"
      ],
      "execution_count": null,
      "outputs": [
        {
          "output_type": "execute_result",
          "data": {
            "text/plain": [
              "list"
            ]
          },
          "metadata": {
            "tags": []
          },
          "execution_count": 14
        }
      ]
    },
    {
      "cell_type": "markdown",
      "metadata": {
        "id": "_Kq758-PABWw"
      },
      "source": [
        "#### Exercise 2: Pretty Print Columns\n",
        "\n",
        "The columns in the California housing dataset are not necessarily easy on the eyes. Columns like `housing_median_age` would be easier to read if they were presented as `Housing Median Age`.\n",
        "\n",
        "In the code block below, download the California housing dataset. Then find the names of the columns in the dataset and convert them from \"snake case\" to regular English.  For instance `housing_median_age` becomes `Housing Median Age` and `total_rooms` becomes `Total Rooms`. Print the human-readable names one per line. You can find Python string methods that might be helpful [here](https://docs.python.org/3/library/stdtypes.html#text-sequence-type-str).\n",
        "\n",
        "Write your code in a manner that it could handle any column name in \"snake case\": Underscores should be replaced by spaces. The first letter of each word should be capitalized.\n",
        "\n",
        "Be sure to get the column names from the `DataFrame`."
      ]
    },
    {
      "cell_type": "markdown",
      "metadata": {
        "id": "-PTP9f0xA-7I"
      },
      "source": [
        "**Student Solution**"
      ]
    },
    {
      "cell_type": "code",
      "metadata": {
        "id": "-8-9eI3oBBQj",
        "colab": {
          "base_uri": "https://localhost:8080/",
          "height": 441
        },
        "outputId": "8395681e-9d29-4542-9c41-541269394949"
      },
      "source": [
        "import pandas as pd\n",
        "import re\n",
        "\n",
        "url = \"https://download.mlcc.google.com/mledu-datasets/california_housing_train.csv\"\n",
        "\n",
        "df = pd.read_csv(url)\n",
        "\n",
        "# Your Code Goes Here\n",
        "def change_underscore_to_space(s):\n",
        "    return re.sub(r\"(_)\", \" \", s)\n",
        "    \n",
        "for column_name in df.columns:\n",
        "    new_column_name = change_underscore_to_space(column_name).title()\n",
        "    df = df.rename(columns={column_name: new_column_name})\n",
        "df"
      ],
      "execution_count": null,
      "outputs": [
        {
          "output_type": "execute_result",
          "data": {
            "text/html": [
              "<div>\n",
              "<style scoped>\n",
              "    .dataframe tbody tr th:only-of-type {\n",
              "        vertical-align: middle;\n",
              "    }\n",
              "\n",
              "    .dataframe tbody tr th {\n",
              "        vertical-align: top;\n",
              "    }\n",
              "\n",
              "    .dataframe thead th {\n",
              "        text-align: right;\n",
              "    }\n",
              "</style>\n",
              "<table border=\"1\" class=\"dataframe\">\n",
              "  <thead>\n",
              "    <tr style=\"text-align: right;\">\n",
              "      <th></th>\n",
              "      <th>Longitude</th>\n",
              "      <th>Latitude</th>\n",
              "      <th>Housing Median Age</th>\n",
              "      <th>Total Rooms</th>\n",
              "      <th>Total Bedrooms</th>\n",
              "      <th>Population</th>\n",
              "      <th>Households</th>\n",
              "      <th>Median Income</th>\n",
              "      <th>Median House Value</th>\n",
              "    </tr>\n",
              "  </thead>\n",
              "  <tbody>\n",
              "    <tr>\n",
              "      <th>0</th>\n",
              "      <td>-114.31</td>\n",
              "      <td>34.19</td>\n",
              "      <td>15.0</td>\n",
              "      <td>5612.0</td>\n",
              "      <td>1283.0</td>\n",
              "      <td>1015.0</td>\n",
              "      <td>472.0</td>\n",
              "      <td>1.4936</td>\n",
              "      <td>66900.0</td>\n",
              "    </tr>\n",
              "    <tr>\n",
              "      <th>1</th>\n",
              "      <td>-114.47</td>\n",
              "      <td>34.40</td>\n",
              "      <td>19.0</td>\n",
              "      <td>7650.0</td>\n",
              "      <td>1901.0</td>\n",
              "      <td>1129.0</td>\n",
              "      <td>463.0</td>\n",
              "      <td>1.8200</td>\n",
              "      <td>80100.0</td>\n",
              "    </tr>\n",
              "    <tr>\n",
              "      <th>2</th>\n",
              "      <td>-114.56</td>\n",
              "      <td>33.69</td>\n",
              "      <td>17.0</td>\n",
              "      <td>720.0</td>\n",
              "      <td>174.0</td>\n",
              "      <td>333.0</td>\n",
              "      <td>117.0</td>\n",
              "      <td>1.6509</td>\n",
              "      <td>85700.0</td>\n",
              "    </tr>\n",
              "    <tr>\n",
              "      <th>3</th>\n",
              "      <td>-114.57</td>\n",
              "      <td>33.64</td>\n",
              "      <td>14.0</td>\n",
              "      <td>1501.0</td>\n",
              "      <td>337.0</td>\n",
              "      <td>515.0</td>\n",
              "      <td>226.0</td>\n",
              "      <td>3.1917</td>\n",
              "      <td>73400.0</td>\n",
              "    </tr>\n",
              "    <tr>\n",
              "      <th>4</th>\n",
              "      <td>-114.57</td>\n",
              "      <td>33.57</td>\n",
              "      <td>20.0</td>\n",
              "      <td>1454.0</td>\n",
              "      <td>326.0</td>\n",
              "      <td>624.0</td>\n",
              "      <td>262.0</td>\n",
              "      <td>1.9250</td>\n",
              "      <td>65500.0</td>\n",
              "    </tr>\n",
              "    <tr>\n",
              "      <th>...</th>\n",
              "      <td>...</td>\n",
              "      <td>...</td>\n",
              "      <td>...</td>\n",
              "      <td>...</td>\n",
              "      <td>...</td>\n",
              "      <td>...</td>\n",
              "      <td>...</td>\n",
              "      <td>...</td>\n",
              "      <td>...</td>\n",
              "    </tr>\n",
              "    <tr>\n",
              "      <th>16995</th>\n",
              "      <td>-124.26</td>\n",
              "      <td>40.58</td>\n",
              "      <td>52.0</td>\n",
              "      <td>2217.0</td>\n",
              "      <td>394.0</td>\n",
              "      <td>907.0</td>\n",
              "      <td>369.0</td>\n",
              "      <td>2.3571</td>\n",
              "      <td>111400.0</td>\n",
              "    </tr>\n",
              "    <tr>\n",
              "      <th>16996</th>\n",
              "      <td>-124.27</td>\n",
              "      <td>40.69</td>\n",
              "      <td>36.0</td>\n",
              "      <td>2349.0</td>\n",
              "      <td>528.0</td>\n",
              "      <td>1194.0</td>\n",
              "      <td>465.0</td>\n",
              "      <td>2.5179</td>\n",
              "      <td>79000.0</td>\n",
              "    </tr>\n",
              "    <tr>\n",
              "      <th>16997</th>\n",
              "      <td>-124.30</td>\n",
              "      <td>41.84</td>\n",
              "      <td>17.0</td>\n",
              "      <td>2677.0</td>\n",
              "      <td>531.0</td>\n",
              "      <td>1244.0</td>\n",
              "      <td>456.0</td>\n",
              "      <td>3.0313</td>\n",
              "      <td>103600.0</td>\n",
              "    </tr>\n",
              "    <tr>\n",
              "      <th>16998</th>\n",
              "      <td>-124.30</td>\n",
              "      <td>41.80</td>\n",
              "      <td>19.0</td>\n",
              "      <td>2672.0</td>\n",
              "      <td>552.0</td>\n",
              "      <td>1298.0</td>\n",
              "      <td>478.0</td>\n",
              "      <td>1.9797</td>\n",
              "      <td>85800.0</td>\n",
              "    </tr>\n",
              "    <tr>\n",
              "      <th>16999</th>\n",
              "      <td>-124.35</td>\n",
              "      <td>40.54</td>\n",
              "      <td>52.0</td>\n",
              "      <td>1820.0</td>\n",
              "      <td>300.0</td>\n",
              "      <td>806.0</td>\n",
              "      <td>270.0</td>\n",
              "      <td>3.0147</td>\n",
              "      <td>94600.0</td>\n",
              "    </tr>\n",
              "  </tbody>\n",
              "</table>\n",
              "<p>17000 rows × 9 columns</p>\n",
              "</div>"
            ],
            "text/plain": [
              "       Longitude  Latitude  ...  Median Income  Median House Value\n",
              "0        -114.31     34.19  ...         1.4936             66900.0\n",
              "1        -114.47     34.40  ...         1.8200             80100.0\n",
              "2        -114.56     33.69  ...         1.6509             85700.0\n",
              "3        -114.57     33.64  ...         3.1917             73400.0\n",
              "4        -114.57     33.57  ...         1.9250             65500.0\n",
              "...          ...       ...  ...            ...                 ...\n",
              "16995    -124.26     40.58  ...         2.3571            111400.0\n",
              "16996    -124.27     40.69  ...         2.5179             79000.0\n",
              "16997    -124.30     41.84  ...         3.0313            103600.0\n",
              "16998    -124.30     41.80  ...         1.9797             85800.0\n",
              "16999    -124.35     40.54  ...         3.0147             94600.0\n",
              "\n",
              "[17000 rows x 9 columns]"
            ]
          },
          "metadata": {
            "tags": []
          },
          "execution_count": 33
        }
      ]
    },
    {
      "cell_type": "markdown",
      "metadata": {
        "id": "LuijNhGgXGgH"
      },
      "source": [
        "---"
      ]
    },
    {
      "cell_type": "markdown",
      "metadata": {
        "id": "jcHixEI54DPi"
      },
      "source": [
        "### Missing Values\n",
        "\n",
        "It is common to find datasets with missing data. When this happens it's good to know that the data is missing so you can determine how to handle the situation.\n",
        "\n",
        "Let's recreate our city data but set some values to `None`:"
      ]
    },
    {
      "cell_type": "code",
      "metadata": {
        "id": "1x2RigRT4Kqv",
        "colab": {
          "base_uri": "https://localhost:8080/",
          "height": 269
        },
        "outputId": "a5e8eb7f-3bdc-449f-8d6a-25d2e54f1836"
      },
      "source": [
        "import pandas as pd\n",
        "\n",
        "airport_df = pd.DataFrame.from_records((\n",
        "  ('Atlanta', 498044, 2),\n",
        "  (None, 964254, 2),\n",
        "  ('Kansas City',  491918, 8), \n",
        "  ('New York City', None, 3),\n",
        "  ('Portland', 653115, 1),\n",
        "  ('San Francisco', 883305, None),\n",
        "  ('Seattle', 744955, 2),\n",
        "), columns=(\"City Name\", \"Population\", \"Airports\"))\n",
        "\n",
        "airport_df"
      ],
      "execution_count": null,
      "outputs": [
        {
          "output_type": "execute_result",
          "data": {
            "text/html": [
              "<div>\n",
              "<style scoped>\n",
              "    .dataframe tbody tr th:only-of-type {\n",
              "        vertical-align: middle;\n",
              "    }\n",
              "\n",
              "    .dataframe tbody tr th {\n",
              "        vertical-align: top;\n",
              "    }\n",
              "\n",
              "    .dataframe thead th {\n",
              "        text-align: right;\n",
              "    }\n",
              "</style>\n",
              "<table border=\"1\" class=\"dataframe\">\n",
              "  <thead>\n",
              "    <tr style=\"text-align: right;\">\n",
              "      <th></th>\n",
              "      <th>City Name</th>\n",
              "      <th>Population</th>\n",
              "      <th>Airports</th>\n",
              "    </tr>\n",
              "  </thead>\n",
              "  <tbody>\n",
              "    <tr>\n",
              "      <th>0</th>\n",
              "      <td>Atlanta</td>\n",
              "      <td>498044.0</td>\n",
              "      <td>2.0</td>\n",
              "    </tr>\n",
              "    <tr>\n",
              "      <th>1</th>\n",
              "      <td>None</td>\n",
              "      <td>964254.0</td>\n",
              "      <td>2.0</td>\n",
              "    </tr>\n",
              "    <tr>\n",
              "      <th>2</th>\n",
              "      <td>Kansas City</td>\n",
              "      <td>491918.0</td>\n",
              "      <td>8.0</td>\n",
              "    </tr>\n",
              "    <tr>\n",
              "      <th>3</th>\n",
              "      <td>New York City</td>\n",
              "      <td>NaN</td>\n",
              "      <td>3.0</td>\n",
              "    </tr>\n",
              "    <tr>\n",
              "      <th>4</th>\n",
              "      <td>Portland</td>\n",
              "      <td>653115.0</td>\n",
              "      <td>1.0</td>\n",
              "    </tr>\n",
              "    <tr>\n",
              "      <th>5</th>\n",
              "      <td>San Francisco</td>\n",
              "      <td>883305.0</td>\n",
              "      <td>NaN</td>\n",
              "    </tr>\n",
              "    <tr>\n",
              "      <th>6</th>\n",
              "      <td>Seattle</td>\n",
              "      <td>744955.0</td>\n",
              "      <td>2.0</td>\n",
              "    </tr>\n",
              "  </tbody>\n",
              "</table>\n",
              "</div>"
            ],
            "text/plain": [
              "       City Name  Population  Airports\n",
              "0        Atlanta    498044.0       2.0\n",
              "1           None    964254.0       2.0\n",
              "2    Kansas City    491918.0       8.0\n",
              "3  New York City         NaN       3.0\n",
              "4       Portland    653115.0       1.0\n",
              "5  San Francisco    883305.0       NaN\n",
              "6        Seattle    744955.0       2.0"
            ]
          },
          "metadata": {
            "tags": []
          },
          "execution_count": 40
        }
      ]
    },
    {
      "cell_type": "markdown",
      "metadata": {
        "id": "-KRSoq7e4nxA"
      },
      "source": [
        "You can see that the population of New York and the number of airports in San Francisco are now represented by `NaN` values. This stands for 'Not a Number', which means that the value is an unknown numeric value. You'll also see that where 'Austin' once was, we now have a `None` value. This means that we are missing a non-numeric value.\n",
        "\n",
        "If we want to ask the `DataFrame` what values are present or missing, we can use the `isna()` method:"
      ]
    },
    {
      "cell_type": "code",
      "metadata": {
        "id": "IoDDdI6c5P16",
        "colab": {
          "base_uri": "https://localhost:8080/",
          "height": 269
        },
        "outputId": "63fa343d-a957-4219-d3e3-4de751f2d629"
      },
      "source": [
        "airport_df.isna()"
      ],
      "execution_count": null,
      "outputs": [
        {
          "output_type": "execute_result",
          "data": {
            "text/html": [
              "<div>\n",
              "<style scoped>\n",
              "    .dataframe tbody tr th:only-of-type {\n",
              "        vertical-align: middle;\n",
              "    }\n",
              "\n",
              "    .dataframe tbody tr th {\n",
              "        vertical-align: top;\n",
              "    }\n",
              "\n",
              "    .dataframe thead th {\n",
              "        text-align: right;\n",
              "    }\n",
              "</style>\n",
              "<table border=\"1\" class=\"dataframe\">\n",
              "  <thead>\n",
              "    <tr style=\"text-align: right;\">\n",
              "      <th></th>\n",
              "      <th>City Name</th>\n",
              "      <th>Population</th>\n",
              "      <th>Airports</th>\n",
              "    </tr>\n",
              "  </thead>\n",
              "  <tbody>\n",
              "    <tr>\n",
              "      <th>0</th>\n",
              "      <td>False</td>\n",
              "      <td>False</td>\n",
              "      <td>False</td>\n",
              "    </tr>\n",
              "    <tr>\n",
              "      <th>1</th>\n",
              "      <td>True</td>\n",
              "      <td>False</td>\n",
              "      <td>False</td>\n",
              "    </tr>\n",
              "    <tr>\n",
              "      <th>2</th>\n",
              "      <td>False</td>\n",
              "      <td>False</td>\n",
              "      <td>False</td>\n",
              "    </tr>\n",
              "    <tr>\n",
              "      <th>3</th>\n",
              "      <td>False</td>\n",
              "      <td>True</td>\n",
              "      <td>False</td>\n",
              "    </tr>\n",
              "    <tr>\n",
              "      <th>4</th>\n",
              "      <td>False</td>\n",
              "      <td>False</td>\n",
              "      <td>False</td>\n",
              "    </tr>\n",
              "    <tr>\n",
              "      <th>5</th>\n",
              "      <td>False</td>\n",
              "      <td>False</td>\n",
              "      <td>True</td>\n",
              "    </tr>\n",
              "    <tr>\n",
              "      <th>6</th>\n",
              "      <td>False</td>\n",
              "      <td>False</td>\n",
              "      <td>False</td>\n",
              "    </tr>\n",
              "  </tbody>\n",
              "</table>\n",
              "</div>"
            ],
            "text/plain": [
              "   City Name  Population  Airports\n",
              "0      False       False     False\n",
              "1       True       False     False\n",
              "2      False       False     False\n",
              "3      False        True     False\n",
              "4      False       False     False\n",
              "5      False       False      True\n",
              "6      False       False     False"
            ]
          },
          "metadata": {
            "tags": []
          },
          "execution_count": 41
        }
      ]
    },
    {
      "cell_type": "markdown",
      "metadata": {
        "id": "ZI0SXsne5SWp"
      },
      "source": [
        "Here we get `True` values where a data point is missing and `False` values where we have data.\n",
        "\n",
        "Using this, we can do powerful things like select all columns with populations or airports that have missing data:"
      ]
    },
    {
      "cell_type": "code",
      "metadata": {
        "id": "YyDD_HWY5eri",
        "colab": {
          "base_uri": "https://localhost:8080/",
          "height": 112
        },
        "outputId": "e9023fd3-b623-4ad1-af47-419db5cecafe"
      },
      "source": [
        "airport_df[airport_df['Population'].isna() | airport_df['Airports'].isna()]"
      ],
      "execution_count": null,
      "outputs": [
        {
          "output_type": "execute_result",
          "data": {
            "text/html": [
              "<div>\n",
              "<style scoped>\n",
              "    .dataframe tbody tr th:only-of-type {\n",
              "        vertical-align: middle;\n",
              "    }\n",
              "\n",
              "    .dataframe tbody tr th {\n",
              "        vertical-align: top;\n",
              "    }\n",
              "\n",
              "    .dataframe thead th {\n",
              "        text-align: right;\n",
              "    }\n",
              "</style>\n",
              "<table border=\"1\" class=\"dataframe\">\n",
              "  <thead>\n",
              "    <tr style=\"text-align: right;\">\n",
              "      <th></th>\n",
              "      <th>City Name</th>\n",
              "      <th>Population</th>\n",
              "      <th>Airports</th>\n",
              "    </tr>\n",
              "  </thead>\n",
              "  <tbody>\n",
              "    <tr>\n",
              "      <th>3</th>\n",
              "      <td>New York City</td>\n",
              "      <td>NaN</td>\n",
              "      <td>3.0</td>\n",
              "    </tr>\n",
              "    <tr>\n",
              "      <th>5</th>\n",
              "      <td>San Francisco</td>\n",
              "      <td>883305.0</td>\n",
              "      <td>NaN</td>\n",
              "    </tr>\n",
              "  </tbody>\n",
              "</table>\n",
              "</div>"
            ],
            "text/plain": [
              "       City Name  Population  Airports\n",
              "3  New York City         NaN       3.0\n",
              "5  San Francisco    883305.0       NaN"
            ]
          },
          "metadata": {
            "tags": []
          },
          "execution_count": 42
        }
      ]
    },
    {
      "cell_type": "markdown",
      "metadata": {
        "id": "tlDu7LZl5zqk"
      },
      "source": [
        "Now that we know that we are missing the population of New York and the number of airports in San Francisco, we can look up that data and manually fix it.\n",
        "\n",
        "Sometimes the fixes aren't so easy. The data might be impossible to find, or there might be so many missing values that you can't individually fix them all.\n",
        "\n",
        "In these cases you have two options: completely remove the offending rows or columns or patch the data in some way. Throughout this course we will work with many datasets that have missing or obviously invalid values, and we will discuss mitigation strategies."
      ]
    },
    {
      "cell_type": "markdown",
      "metadata": {
        "id": "OdciSvRDqcEk"
      },
      "source": [
        "## Filtering\n"
      ]
    },
    {
      "cell_type": "markdown",
      "metadata": {
        "id": "7EaUx6GAreMu"
      },
      "source": [
        "Filtering is an important concept in data analysis and processing. When you think of filtering in the real world, you likely think of an object that blocks undesired things while allowing desired things to pass through.\n",
        "\n",
        "Imagine a coffee filter. It stops the coffee grounds from getting into the coffee pot, but it allows the water bound to coffee's chemical compounds to pass through into your perfect brew.\n",
        "\n",
        "Filtering a `DataFrame` is similar. A `DataFrame` contains rows of data. Some of these rows might be important to you, and some you might want to discard. Filtering allows you select only the data that you care about and put that data in a new `DataFrame`.\n",
        "\n",
        "In the example below, we filter our `airport_df` to select only cities that have more than two airports. In return we get a `DataFrame` that contains only information about cities that have more than two airports."
      ]
    },
    {
      "cell_type": "code",
      "metadata": {
        "id": "lG9MD0F2sQ1K",
        "colab": {
          "base_uri": "https://localhost:8080/",
          "height": 112
        },
        "outputId": "318b4543-f849-4c1a-c1ad-01aaef594fd5"
      },
      "source": [
        "airport_df[airport_df['Airports'] > 2]"
      ],
      "execution_count": null,
      "outputs": [
        {
          "output_type": "execute_result",
          "data": {
            "text/html": [
              "<div>\n",
              "<style scoped>\n",
              "    .dataframe tbody tr th:only-of-type {\n",
              "        vertical-align: middle;\n",
              "    }\n",
              "\n",
              "    .dataframe tbody tr th {\n",
              "        vertical-align: top;\n",
              "    }\n",
              "\n",
              "    .dataframe thead th {\n",
              "        text-align: right;\n",
              "    }\n",
              "</style>\n",
              "<table border=\"1\" class=\"dataframe\">\n",
              "  <thead>\n",
              "    <tr style=\"text-align: right;\">\n",
              "      <th></th>\n",
              "      <th>City Name</th>\n",
              "      <th>Population</th>\n",
              "      <th>Airports</th>\n",
              "    </tr>\n",
              "  </thead>\n",
              "  <tbody>\n",
              "    <tr>\n",
              "      <th>2</th>\n",
              "      <td>Kansas City</td>\n",
              "      <td>491918.0</td>\n",
              "      <td>8.0</td>\n",
              "    </tr>\n",
              "    <tr>\n",
              "      <th>3</th>\n",
              "      <td>New York City</td>\n",
              "      <td>NaN</td>\n",
              "      <td>3.0</td>\n",
              "    </tr>\n",
              "  </tbody>\n",
              "</table>\n",
              "</div>"
            ],
            "text/plain": [
              "       City Name  Population  Airports\n",
              "2    Kansas City    491918.0       8.0\n",
              "3  New York City         NaN       3.0"
            ]
          },
          "metadata": {
            "tags": []
          },
          "execution_count": 43
        }
      ]
    },
    {
      "cell_type": "markdown",
      "metadata": {
        "id": "bLw910vesx28"
      },
      "source": [
        "Let's deconstruct this statement. At its core we have:\n",
        "\n",
        "```python\n",
        "airport_df['Airports'] > 2\n",
        "```\n",
        "\n",
        "This expression compares every 'Airports' value in the `airport_df` `DataFrame` and returns `True` if there are more than two airports, `False` otherwise."
      ]
    },
    {
      "cell_type": "code",
      "metadata": {
        "id": "VwYDdc8bMewA",
        "colab": {
          "base_uri": "https://localhost:8080/"
        },
        "outputId": "3745aa19-428e-488f-e633-afa8e9246370"
      },
      "source": [
        "airport_df['Airports'] > 2"
      ],
      "execution_count": null,
      "outputs": [
        {
          "output_type": "execute_result",
          "data": {
            "text/plain": [
              "0    False\n",
              "1    False\n",
              "2     True\n",
              "3     True\n",
              "4    False\n",
              "5    False\n",
              "6    False\n",
              "Name: Airports, dtype: bool"
            ]
          },
          "metadata": {
            "tags": []
          },
          "execution_count": 44
        }
      ]
    },
    {
      "cell_type": "markdown",
      "metadata": {
        "id": "j3LGIAKDMxta"
      },
      "source": [
        "This data is returned as a Pandas `Series`. The series is then used as a boolean index for the `airport_df` the `DataFrame`.\n",
        "\n",
        "**Boolean index** is just a term used to refer to a `Series` (or other list-like structure) of boolean values used in the index operator, `[]`, for the `DataFrame`. Ideally the boolean index length should be equal to the number of rows in the `DataFrame` being indexed. `DataFrame` rows that map to `True` values in the index are retained, while rows that map to `False` values are filtered out."
      ]
    },
    {
      "cell_type": "code",
      "metadata": {
        "id": "V7aul282NAMH",
        "colab": {
          "base_uri": "https://localhost:8080/",
          "height": 112
        },
        "outputId": "fb0d2937-06c8-43e1-d841-43092f0701d2"
      },
      "source": [
        "has_many_airports = airport_df['Airports'] > 2\n",
        "\n",
        "airport_df[has_many_airports]"
      ],
      "execution_count": null,
      "outputs": [
        {
          "output_type": "execute_result",
          "data": {
            "text/html": [
              "<div>\n",
              "<style scoped>\n",
              "    .dataframe tbody tr th:only-of-type {\n",
              "        vertical-align: middle;\n",
              "    }\n",
              "\n",
              "    .dataframe tbody tr th {\n",
              "        vertical-align: top;\n",
              "    }\n",
              "\n",
              "    .dataframe thead th {\n",
              "        text-align: right;\n",
              "    }\n",
              "</style>\n",
              "<table border=\"1\" class=\"dataframe\">\n",
              "  <thead>\n",
              "    <tr style=\"text-align: right;\">\n",
              "      <th></th>\n",
              "      <th>City Name</th>\n",
              "      <th>Population</th>\n",
              "      <th>Airports</th>\n",
              "    </tr>\n",
              "  </thead>\n",
              "  <tbody>\n",
              "    <tr>\n",
              "      <th>2</th>\n",
              "      <td>Kansas City</td>\n",
              "      <td>491918.0</td>\n",
              "      <td>8.0</td>\n",
              "    </tr>\n",
              "    <tr>\n",
              "      <th>3</th>\n",
              "      <td>New York City</td>\n",
              "      <td>NaN</td>\n",
              "      <td>3.0</td>\n",
              "    </tr>\n",
              "  </tbody>\n",
              "</table>\n",
              "</div>"
            ],
            "text/plain": [
              "       City Name  Population  Airports\n",
              "2    Kansas City    491918.0       8.0\n",
              "3  New York City         NaN       3.0"
            ]
          },
          "metadata": {
            "tags": []
          },
          "execution_count": 45
        }
      ]
    },
    {
      "cell_type": "markdown",
      "metadata": {
        "id": "toPxH8YUOLDC"
      },
      "source": [
        "If you are familiar with Boolean logic and Python, you probably know that you can create compound expressions using the `or` and `and` keywords. You can also use the keyword `not` to reverse an expression."
      ]
    },
    {
      "cell_type": "code",
      "metadata": {
        "id": "vF6tfJQCtMRr",
        "colab": {
          "base_uri": "https://localhost:8080/"
        },
        "outputId": "72c29f09-53c7-47af-d7db-9532c0faf187"
      },
      "source": [
        "print(True and False)\n",
        "print(True or False)\n",
        "print(not True)"
      ],
      "execution_count": null,
      "outputs": [
        {
          "output_type": "stream",
          "text": [
            "False\n",
            "True\n",
            "False\n"
          ],
          "name": "stdout"
        }
      ]
    },
    {
      "cell_type": "markdown",
      "metadata": {
        "id": "Bj8LEytmwBAU"
      },
      "source": [
        "You can do similar things in Pandas with boolean indices. However, `and`, `or`, and `not` don't work as expected. Instead you need to use the `&`, `|`, and `!` operators.\n",
        "\n",
        "- `and` changes to `&`\n",
        "- `or` changes to `|`\n",
        "- `not` changes to `!`\n",
        "\n",
        "For normal numbers in Python, these are actually the 'bitwise logical operators'. When working on Pandas objects, these operators don't perform bitwise calculations but instead perform Boolean logic."
      ]
    },
    {
      "cell_type": "markdown",
      "metadata": {
        "id": "xTft1GCVPOoz"
      },
      "source": [
        "Let's see this in action with an example. Imagine we want to find all cities with more than two airports and less than a million inhabitants. First, let's find the rows with more than two airports:"
      ]
    },
    {
      "cell_type": "code",
      "metadata": {
        "id": "uoFFVmGXPVZ1",
        "colab": {
          "base_uri": "https://localhost:8080/"
        },
        "outputId": "567f6cb4-4563-4356-896a-2190c968da42"
      },
      "source": [
        "has_many_airports = airport_df['Airports'] > 2\n",
        "has_many_airports"
      ],
      "execution_count": null,
      "outputs": [
        {
          "output_type": "execute_result",
          "data": {
            "text/plain": [
              "0    False\n",
              "1    False\n",
              "2     True\n",
              "3     True\n",
              "4    False\n",
              "5    False\n",
              "6    False\n",
              "Name: Airports, dtype: bool"
            ]
          },
          "metadata": {
            "tags": []
          },
          "execution_count": 47
        }
      ]
    },
    {
      "cell_type": "markdown",
      "metadata": {
        "id": "ETWeK941P-9p"
      },
      "source": [
        "Now we can find the rows that represent a city with less than a million residents:"
      ]
    },
    {
      "cell_type": "code",
      "metadata": {
        "id": "inVE7JULQRR7",
        "colab": {
          "base_uri": "https://localhost:8080/"
        },
        "outputId": "24b6f9a5-1d72-457b-dd9a-c44124b16e24"
      },
      "source": [
        "small_cities = airport_df['Population'] < 1000000\n",
        "small_cities"
      ],
      "execution_count": null,
      "outputs": [
        {
          "output_type": "execute_result",
          "data": {
            "text/plain": [
              "0     True\n",
              "1     True\n",
              "2     True\n",
              "3    False\n",
              "4     True\n",
              "5     True\n",
              "6     True\n",
              "Name: Population, dtype: bool"
            ]
          },
          "metadata": {
            "tags": []
          },
          "execution_count": 48
        }
      ]
    },
    {
      "cell_type": "markdown",
      "metadata": {
        "id": "kvUSkBt3QdhP"
      },
      "source": [
        "We can then combine `has_many_airports` with `small_cities` to find small cities with a large number of airports.\n",
        "\n",
        "To do this we first need to use the `&` operator to combine the two Boolean tables:"
      ]
    },
    {
      "cell_type": "code",
      "metadata": {
        "id": "-vxs4Y8IwtT0",
        "colab": {
          "base_uri": "https://localhost:8080/"
        },
        "outputId": "1ad057f5-de78-4adc-9ccf-8be04548e798"
      },
      "source": [
        "small_but_flighty = has_many_airports & small_cities\n",
        "small_but_flighty"
      ],
      "execution_count": null,
      "outputs": [
        {
          "output_type": "execute_result",
          "data": {
            "text/plain": [
              "0    False\n",
              "1    False\n",
              "2     True\n",
              "3    False\n",
              "4    False\n",
              "5    False\n",
              "6    False\n",
              "dtype: bool"
            ]
          },
          "metadata": {
            "tags": []
          },
          "execution_count": 49
        }
      ]
    },
    {
      "cell_type": "markdown",
      "metadata": {
        "id": "GrLRsLeXQy2M"
      },
      "source": [
        "We can use this boolean index to select the rows from the original `DataFrame` that contain data about cities with fewer than one million residents and more than two airports."
      ]
    },
    {
      "cell_type": "code",
      "metadata": {
        "id": "KkKcM5NPRLLk",
        "colab": {
          "base_uri": "https://localhost:8080/",
          "height": 80
        },
        "outputId": "204945aa-2055-4cd9-d3ac-dd0ecdd2b73f"
      },
      "source": [
        "airport_df[small_but_flighty]"
      ],
      "execution_count": null,
      "outputs": [
        {
          "output_type": "execute_result",
          "data": {
            "text/html": [
              "<div>\n",
              "<style scoped>\n",
              "    .dataframe tbody tr th:only-of-type {\n",
              "        vertical-align: middle;\n",
              "    }\n",
              "\n",
              "    .dataframe tbody tr th {\n",
              "        vertical-align: top;\n",
              "    }\n",
              "\n",
              "    .dataframe thead th {\n",
              "        text-align: right;\n",
              "    }\n",
              "</style>\n",
              "<table border=\"1\" class=\"dataframe\">\n",
              "  <thead>\n",
              "    <tr style=\"text-align: right;\">\n",
              "      <th></th>\n",
              "      <th>City Name</th>\n",
              "      <th>Population</th>\n",
              "      <th>Airports</th>\n",
              "    </tr>\n",
              "  </thead>\n",
              "  <tbody>\n",
              "    <tr>\n",
              "      <th>2</th>\n",
              "      <td>Kansas City</td>\n",
              "      <td>491918.0</td>\n",
              "      <td>8.0</td>\n",
              "    </tr>\n",
              "  </tbody>\n",
              "</table>\n",
              "</div>"
            ],
            "text/plain": [
              "     City Name  Population  Airports\n",
              "2  Kansas City    491918.0       8.0"
            ]
          },
          "metadata": {
            "tags": []
          },
          "execution_count": 50
        }
      ]
    },
    {
      "cell_type": "markdown",
      "metadata": {
        "id": "jWQJW8xPQ_No"
      },
      "source": [
        "In this example we broke the filter down into many steps. It could actually be performed in one expression as shown below."
      ]
    },
    {
      "cell_type": "code",
      "metadata": {
        "id": "7Mhp076pQv0b",
        "colab": {
          "base_uri": "https://localhost:8080/",
          "height": 80
        },
        "outputId": "b419a7f5-6707-4dd8-8a76-d646352e0b7e"
      },
      "source": [
        "airport_df[(airport_df['Airports'] > 2) & (airport_df['Population'] < 1000000)]"
      ],
      "execution_count": null,
      "outputs": [
        {
          "output_type": "execute_result",
          "data": {
            "text/html": [
              "<div>\n",
              "<style scoped>\n",
              "    .dataframe tbody tr th:only-of-type {\n",
              "        vertical-align: middle;\n",
              "    }\n",
              "\n",
              "    .dataframe tbody tr th {\n",
              "        vertical-align: top;\n",
              "    }\n",
              "\n",
              "    .dataframe thead th {\n",
              "        text-align: right;\n",
              "    }\n",
              "</style>\n",
              "<table border=\"1\" class=\"dataframe\">\n",
              "  <thead>\n",
              "    <tr style=\"text-align: right;\">\n",
              "      <th></th>\n",
              "      <th>City Name</th>\n",
              "      <th>Population</th>\n",
              "      <th>Airports</th>\n",
              "    </tr>\n",
              "  </thead>\n",
              "  <tbody>\n",
              "    <tr>\n",
              "      <th>2</th>\n",
              "      <td>Kansas City</td>\n",
              "      <td>491918.0</td>\n",
              "      <td>8.0</td>\n",
              "    </tr>\n",
              "  </tbody>\n",
              "</table>\n",
              "</div>"
            ],
            "text/plain": [
              "     City Name  Population  Airports\n",
              "2  Kansas City    491918.0       8.0"
            ]
          },
          "metadata": {
            "tags": []
          },
          "execution_count": 55
        }
      ]
    },
    {
      "cell_type": "markdown",
      "metadata": {
        "id": "aiPlnHeORWKE"
      },
      "source": [
        "Notice the need for parenthesis around each Boolean expression. This is because `&` has a higher precedence than `>` and `<`."
      ]
    },
    {
      "cell_type": "markdown",
      "metadata": {
        "id": "YkFnQx9Kw6oL"
      },
      "source": [
        "The term 'filtering' is typically used when talking about rows of data. However, it is possible to filter out columns of a dataset. To filter columns simply list the columns that you do want to keep in a `list` and pass it to the `DataFrame` selector:"
      ]
    },
    {
      "cell_type": "code",
      "metadata": {
        "id": "fFqGfRRJQ7Kp",
        "colab": {
          "base_uri": "https://localhost:8080/",
          "height": 269
        },
        "outputId": "7d71b61b-9971-4209-ba1f-558713c299cc"
      },
      "source": [
        "population_df = airport_df[['City Name', 'Population']]\n",
        "\n",
        "population_df"
      ],
      "execution_count": null,
      "outputs": [
        {
          "output_type": "execute_result",
          "data": {
            "text/html": [
              "<div>\n",
              "<style scoped>\n",
              "    .dataframe tbody tr th:only-of-type {\n",
              "        vertical-align: middle;\n",
              "    }\n",
              "\n",
              "    .dataframe tbody tr th {\n",
              "        vertical-align: top;\n",
              "    }\n",
              "\n",
              "    .dataframe thead th {\n",
              "        text-align: right;\n",
              "    }\n",
              "</style>\n",
              "<table border=\"1\" class=\"dataframe\">\n",
              "  <thead>\n",
              "    <tr style=\"text-align: right;\">\n",
              "      <th></th>\n",
              "      <th>City Name</th>\n",
              "      <th>Population</th>\n",
              "    </tr>\n",
              "  </thead>\n",
              "  <tbody>\n",
              "    <tr>\n",
              "      <th>0</th>\n",
              "      <td>Atlanta</td>\n",
              "      <td>498044.0</td>\n",
              "    </tr>\n",
              "    <tr>\n",
              "      <th>1</th>\n",
              "      <td>None</td>\n",
              "      <td>964254.0</td>\n",
              "    </tr>\n",
              "    <tr>\n",
              "      <th>2</th>\n",
              "      <td>Kansas City</td>\n",
              "      <td>491918.0</td>\n",
              "    </tr>\n",
              "    <tr>\n",
              "      <th>3</th>\n",
              "      <td>New York City</td>\n",
              "      <td>NaN</td>\n",
              "    </tr>\n",
              "    <tr>\n",
              "      <th>4</th>\n",
              "      <td>Portland</td>\n",
              "      <td>653115.0</td>\n",
              "    </tr>\n",
              "    <tr>\n",
              "      <th>5</th>\n",
              "      <td>San Francisco</td>\n",
              "      <td>883305.0</td>\n",
              "    </tr>\n",
              "    <tr>\n",
              "      <th>6</th>\n",
              "      <td>Seattle</td>\n",
              "      <td>744955.0</td>\n",
              "    </tr>\n",
              "  </tbody>\n",
              "</table>\n",
              "</div>"
            ],
            "text/plain": [
              "       City Name  Population\n",
              "0        Atlanta    498044.0\n",
              "1           None    964254.0\n",
              "2    Kansas City    491918.0\n",
              "3  New York City         NaN\n",
              "4       Portland    653115.0\n",
              "5  San Francisco    883305.0\n",
              "6        Seattle    744955.0"
            ]
          },
          "metadata": {
            "tags": []
          },
          "execution_count": 56
        }
      ]
    },
    {
      "cell_type": "markdown",
      "metadata": {
        "id": "unUW_uDUZ-0q"
      },
      "source": [
        "If a dataset has many columns, it might be easier to exclude a column using a list expansion instead of explicitly listing many columns:"
      ]
    },
    {
      "cell_type": "code",
      "metadata": {
        "id": "ZiBtFKUWZXSV",
        "colab": {
          "base_uri": "https://localhost:8080/",
          "height": 269
        },
        "outputId": "1e3b2f9e-604a-42e5-bd3b-5a70da37413c"
      },
      "source": [
        "population_df = airport_df[\n",
        "  [col for col in airport_df.columns if col is not 'Airports']]\n",
        "\n",
        "population_df"
      ],
      "execution_count": null,
      "outputs": [
        {
          "output_type": "execute_result",
          "data": {
            "text/html": [
              "<div>\n",
              "<style scoped>\n",
              "    .dataframe tbody tr th:only-of-type {\n",
              "        vertical-align: middle;\n",
              "    }\n",
              "\n",
              "    .dataframe tbody tr th {\n",
              "        vertical-align: top;\n",
              "    }\n",
              "\n",
              "    .dataframe thead th {\n",
              "        text-align: right;\n",
              "    }\n",
              "</style>\n",
              "<table border=\"1\" class=\"dataframe\">\n",
              "  <thead>\n",
              "    <tr style=\"text-align: right;\">\n",
              "      <th></th>\n",
              "      <th>City Name</th>\n",
              "      <th>Population</th>\n",
              "    </tr>\n",
              "  </thead>\n",
              "  <tbody>\n",
              "    <tr>\n",
              "      <th>0</th>\n",
              "      <td>Atlanta</td>\n",
              "      <td>498044.0</td>\n",
              "    </tr>\n",
              "    <tr>\n",
              "      <th>1</th>\n",
              "      <td>None</td>\n",
              "      <td>964254.0</td>\n",
              "    </tr>\n",
              "    <tr>\n",
              "      <th>2</th>\n",
              "      <td>Kansas City</td>\n",
              "      <td>491918.0</td>\n",
              "    </tr>\n",
              "    <tr>\n",
              "      <th>3</th>\n",
              "      <td>New York City</td>\n",
              "      <td>NaN</td>\n",
              "    </tr>\n",
              "    <tr>\n",
              "      <th>4</th>\n",
              "      <td>Portland</td>\n",
              "      <td>653115.0</td>\n",
              "    </tr>\n",
              "    <tr>\n",
              "      <th>5</th>\n",
              "      <td>San Francisco</td>\n",
              "      <td>883305.0</td>\n",
              "    </tr>\n",
              "    <tr>\n",
              "      <th>6</th>\n",
              "      <td>Seattle</td>\n",
              "      <td>744955.0</td>\n",
              "    </tr>\n",
              "  </tbody>\n",
              "</table>\n",
              "</div>"
            ],
            "text/plain": [
              "       City Name  Population\n",
              "0        Atlanta    498044.0\n",
              "1           None    964254.0\n",
              "2    Kansas City    491918.0\n",
              "3  New York City         NaN\n",
              "4       Portland    653115.0\n",
              "5  San Francisco    883305.0\n",
              "6        Seattle    744955.0"
            ]
          },
          "metadata": {
            "tags": []
          },
          "execution_count": 57
        }
      ]
    },
    {
      "cell_type": "markdown",
      "metadata": {
        "id": "-b4Pw5dYad9e"
      },
      "source": [
        "This works for multiple columns also:"
      ]
    },
    {
      "cell_type": "code",
      "metadata": {
        "id": "Mi5bmUWoagX8",
        "colab": {
          "base_uri": "https://localhost:8080/",
          "height": 269
        },
        "outputId": "2b311ed1-9ee9-4e68-c2be-ed6597851e25"
      },
      "source": [
        "population_df = airport_df[\n",
        "  [col for col in airport_df.columns if col not in {'Airports', 'Population'}]]\n",
        "\n",
        "population_df"
      ],
      "execution_count": null,
      "outputs": [
        {
          "output_type": "execute_result",
          "data": {
            "text/html": [
              "<div>\n",
              "<style scoped>\n",
              "    .dataframe tbody tr th:only-of-type {\n",
              "        vertical-align: middle;\n",
              "    }\n",
              "\n",
              "    .dataframe tbody tr th {\n",
              "        vertical-align: top;\n",
              "    }\n",
              "\n",
              "    .dataframe thead th {\n",
              "        text-align: right;\n",
              "    }\n",
              "</style>\n",
              "<table border=\"1\" class=\"dataframe\">\n",
              "  <thead>\n",
              "    <tr style=\"text-align: right;\">\n",
              "      <th></th>\n",
              "      <th>City Name</th>\n",
              "    </tr>\n",
              "  </thead>\n",
              "  <tbody>\n",
              "    <tr>\n",
              "      <th>0</th>\n",
              "      <td>Atlanta</td>\n",
              "    </tr>\n",
              "    <tr>\n",
              "      <th>1</th>\n",
              "      <td>None</td>\n",
              "    </tr>\n",
              "    <tr>\n",
              "      <th>2</th>\n",
              "      <td>Kansas City</td>\n",
              "    </tr>\n",
              "    <tr>\n",
              "      <th>3</th>\n",
              "      <td>New York City</td>\n",
              "    </tr>\n",
              "    <tr>\n",
              "      <th>4</th>\n",
              "      <td>Portland</td>\n",
              "    </tr>\n",
              "    <tr>\n",
              "      <th>5</th>\n",
              "      <td>San Francisco</td>\n",
              "    </tr>\n",
              "    <tr>\n",
              "      <th>6</th>\n",
              "      <td>Seattle</td>\n",
              "    </tr>\n",
              "  </tbody>\n",
              "</table>\n",
              "</div>"
            ],
            "text/plain": [
              "       City Name\n",
              "0        Atlanta\n",
              "1           None\n",
              "2    Kansas City\n",
              "3  New York City\n",
              "4       Portland\n",
              "5  San Francisco\n",
              "6        Seattle"
            ]
          },
          "metadata": {
            "tags": []
          },
          "execution_count": 58
        }
      ]
    },
    {
      "cell_type": "markdown",
      "metadata": {
        "id": "vIP0T0ZdX-o3"
      },
      "source": [
        "### Exercise 3: SoCal\n",
        "\n",
        "Using the California housing `DataFrame` from the previous unit, make a new `DataFrame` that only contains data from the southern part of California. What is 'southern'? For the purpose of this exercise, let's say that southern California includes everything below 36 degrees latitude. \n",
        "\n",
        "Create a new `DataFrame` called `socal_df` containing only data points below the 36 latitude. Then print out the shape of that `DataFrame`."
      ]
    },
    {
      "cell_type": "markdown",
      "metadata": {
        "id": "sgmmbVmmcK17"
      },
      "source": [
        "**Student Solution**"
      ]
    },
    {
      "cell_type": "code",
      "metadata": {
        "id": "DoyOJDagZRRp",
        "colab": {
          "base_uri": "https://localhost:8080/",
          "height": 444
        },
        "outputId": "745c19c5-2a9c-4816-bab5-0ffab5f36b50"
      },
      "source": [
        "url = \"https://download.mlcc.google.com/mledu-datasets/california_housing_train.csv\"\n",
        "cali_df = pd.read_csv(url)\n",
        "\n",
        "# Your Code Goes here\n",
        "socal = cali_df['latitude'] < 36\n",
        "socal_df = cali_df[socal]\n",
        "socal_df"
      ],
      "execution_count": null,
      "outputs": [
        {
          "output_type": "execute_result",
          "data": {
            "text/html": [
              "<div>\n",
              "<style scoped>\n",
              "    .dataframe tbody tr th:only-of-type {\n",
              "        vertical-align: middle;\n",
              "    }\n",
              "\n",
              "    .dataframe tbody tr th {\n",
              "        vertical-align: top;\n",
              "    }\n",
              "\n",
              "    .dataframe thead th {\n",
              "        text-align: right;\n",
              "    }\n",
              "</style>\n",
              "<table border=\"1\" class=\"dataframe\">\n",
              "  <thead>\n",
              "    <tr style=\"text-align: right;\">\n",
              "      <th></th>\n",
              "      <th>longitude</th>\n",
              "      <th>latitude</th>\n",
              "      <th>housing_median_age</th>\n",
              "      <th>total_rooms</th>\n",
              "      <th>total_bedrooms</th>\n",
              "      <th>population</th>\n",
              "      <th>households</th>\n",
              "      <th>median_income</th>\n",
              "      <th>median_house_value</th>\n",
              "    </tr>\n",
              "  </thead>\n",
              "  <tbody>\n",
              "    <tr>\n",
              "      <th>0</th>\n",
              "      <td>-114.31</td>\n",
              "      <td>34.19</td>\n",
              "      <td>15.0</td>\n",
              "      <td>5612.0</td>\n",
              "      <td>1283.0</td>\n",
              "      <td>1015.0</td>\n",
              "      <td>472.0</td>\n",
              "      <td>1.4936</td>\n",
              "      <td>66900.0</td>\n",
              "    </tr>\n",
              "    <tr>\n",
              "      <th>1</th>\n",
              "      <td>-114.47</td>\n",
              "      <td>34.40</td>\n",
              "      <td>19.0</td>\n",
              "      <td>7650.0</td>\n",
              "      <td>1901.0</td>\n",
              "      <td>1129.0</td>\n",
              "      <td>463.0</td>\n",
              "      <td>1.8200</td>\n",
              "      <td>80100.0</td>\n",
              "    </tr>\n",
              "    <tr>\n",
              "      <th>2</th>\n",
              "      <td>-114.56</td>\n",
              "      <td>33.69</td>\n",
              "      <td>17.0</td>\n",
              "      <td>720.0</td>\n",
              "      <td>174.0</td>\n",
              "      <td>333.0</td>\n",
              "      <td>117.0</td>\n",
              "      <td>1.6509</td>\n",
              "      <td>85700.0</td>\n",
              "    </tr>\n",
              "    <tr>\n",
              "      <th>3</th>\n",
              "      <td>-114.57</td>\n",
              "      <td>33.64</td>\n",
              "      <td>14.0</td>\n",
              "      <td>1501.0</td>\n",
              "      <td>337.0</td>\n",
              "      <td>515.0</td>\n",
              "      <td>226.0</td>\n",
              "      <td>3.1917</td>\n",
              "      <td>73400.0</td>\n",
              "    </tr>\n",
              "    <tr>\n",
              "      <th>4</th>\n",
              "      <td>-114.57</td>\n",
              "      <td>33.57</td>\n",
              "      <td>20.0</td>\n",
              "      <td>1454.0</td>\n",
              "      <td>326.0</td>\n",
              "      <td>624.0</td>\n",
              "      <td>262.0</td>\n",
              "      <td>1.9250</td>\n",
              "      <td>65500.0</td>\n",
              "    </tr>\n",
              "    <tr>\n",
              "      <th>...</th>\n",
              "      <td>...</td>\n",
              "      <td>...</td>\n",
              "      <td>...</td>\n",
              "      <td>...</td>\n",
              "      <td>...</td>\n",
              "      <td>...</td>\n",
              "      <td>...</td>\n",
              "      <td>...</td>\n",
              "      <td>...</td>\n",
              "    </tr>\n",
              "    <tr>\n",
              "      <th>11262</th>\n",
              "      <td>-121.10</td>\n",
              "      <td>35.60</td>\n",
              "      <td>20.0</td>\n",
              "      <td>3389.0</td>\n",
              "      <td>704.0</td>\n",
              "      <td>1309.0</td>\n",
              "      <td>520.0</td>\n",
              "      <td>3.2112</td>\n",
              "      <td>204500.0</td>\n",
              "    </tr>\n",
              "    <tr>\n",
              "      <th>11271</th>\n",
              "      <td>-121.11</td>\n",
              "      <td>35.52</td>\n",
              "      <td>9.0</td>\n",
              "      <td>6044.0</td>\n",
              "      <td>1222.0</td>\n",
              "      <td>2239.0</td>\n",
              "      <td>972.0</td>\n",
              "      <td>3.2400</td>\n",
              "      <td>264600.0</td>\n",
              "    </tr>\n",
              "    <tr>\n",
              "      <th>11278</th>\n",
              "      <td>-121.12</td>\n",
              "      <td>35.58</td>\n",
              "      <td>16.0</td>\n",
              "      <td>4109.0</td>\n",
              "      <td>798.0</td>\n",
              "      <td>1298.0</td>\n",
              "      <td>626.0</td>\n",
              "      <td>3.4799</td>\n",
              "      <td>320800.0</td>\n",
              "    </tr>\n",
              "    <tr>\n",
              "      <th>11299</th>\n",
              "      <td>-121.14</td>\n",
              "      <td>35.55</td>\n",
              "      <td>13.0</td>\n",
              "      <td>5383.0</td>\n",
              "      <td>1070.0</td>\n",
              "      <td>1880.0</td>\n",
              "      <td>796.0</td>\n",
              "      <td>3.8019</td>\n",
              "      <td>271200.0</td>\n",
              "    </tr>\n",
              "    <tr>\n",
              "      <th>11802</th>\n",
              "      <td>-121.32</td>\n",
              "      <td>35.95</td>\n",
              "      <td>31.0</td>\n",
              "      <td>372.0</td>\n",
              "      <td>68.0</td>\n",
              "      <td>479.0</td>\n",
              "      <td>67.0</td>\n",
              "      <td>3.5547</td>\n",
              "      <td>200000.0</td>\n",
              "    </tr>\n",
              "  </tbody>\n",
              "</table>\n",
              "<p>9755 rows × 9 columns</p>\n",
              "</div>"
            ],
            "text/plain": [
              "       longitude  latitude  ...  median_income  median_house_value\n",
              "0        -114.31     34.19  ...         1.4936             66900.0\n",
              "1        -114.47     34.40  ...         1.8200             80100.0\n",
              "2        -114.56     33.69  ...         1.6509             85700.0\n",
              "3        -114.57     33.64  ...         3.1917             73400.0\n",
              "4        -114.57     33.57  ...         1.9250             65500.0\n",
              "...          ...       ...  ...            ...                 ...\n",
              "11262    -121.10     35.60  ...         3.2112            204500.0\n",
              "11271    -121.11     35.52  ...         3.2400            264600.0\n",
              "11278    -121.12     35.58  ...         3.4799            320800.0\n",
              "11299    -121.14     35.55  ...         3.8019            271200.0\n",
              "11802    -121.32     35.95  ...         3.5547            200000.0\n",
              "\n",
              "[9755 rows x 9 columns]"
            ]
          },
          "metadata": {
            "tags": []
          },
          "execution_count": 60
        }
      ]
    },
    {
      "cell_type": "markdown",
      "metadata": {
        "id": "C_G3TvXRXLjY"
      },
      "source": [
        "---"
      ]
    },
    {
      "cell_type": "markdown",
      "metadata": {
        "id": "SRBFJi0qS38z"
      },
      "source": [
        "##Grouping Data"
      ]
    },
    {
      "cell_type": "markdown",
      "metadata": {
        "id": "nv1ObGUeS6OB"
      },
      "source": [
        "We can also aggregate `DataFrame` objects by grouping rows of data together.\n",
        "\n",
        "For our examples we will create a `DataFrame` containing the ages, heights, and weights of a sample of children:"
      ]
    },
    {
      "cell_type": "code",
      "metadata": {
        "id": "nOOJZjqDUNYb",
        "colab": {
          "base_uri": "https://localhost:8080/",
          "height": 645
        },
        "outputId": "7fdd5162-0493-4030-cf65-495779328b1c"
      },
      "source": [
        "import pandas as pd\n",
        "\n",
        "body_measurement_df = pd.DataFrame.from_records((\n",
        "  (2, 83.82, 8.4),\n",
        "  (4, 99.31, 16.97),\n",
        "  (3, 96.52, 14.41),\n",
        "  (6, 114.3, 20.14),\n",
        "  (4, 101.6, 16.91),\n",
        "  (2, 86.36, 12.64),\n",
        "  (3, 92.71, 14.23),\n",
        "  (2, 85.09, 11.11),\n",
        "  (2, 85.85, 14.18),\n",
        "  (5, 106.68, 20.01),\n",
        "  (4, 99.06, 13.17),\n",
        "  (5, 109.22, 15.36),\n",
        "  (4, 100.84, 14.78),\n",
        "  (6, 115.06, 20.06),\n",
        "  (2, 84.07, 10.02),\n",
        "  (7, 121.67, 28.4),\n",
        "  (3, 94.49, 14.05),\n",
        "  (6, 116.59, 17.55),\n",
        "  (7, 121.92, 22.96),\n",
        "), columns=(\"Age (yrs)\", \"Height (cm)\", \"Weight (kg)\"))\n",
        "\n",
        "body_measurement_df"
      ],
      "execution_count": null,
      "outputs": [
        {
          "output_type": "execute_result",
          "data": {
            "text/html": [
              "<div>\n",
              "<style scoped>\n",
              "    .dataframe tbody tr th:only-of-type {\n",
              "        vertical-align: middle;\n",
              "    }\n",
              "\n",
              "    .dataframe tbody tr th {\n",
              "        vertical-align: top;\n",
              "    }\n",
              "\n",
              "    .dataframe thead th {\n",
              "        text-align: right;\n",
              "    }\n",
              "</style>\n",
              "<table border=\"1\" class=\"dataframe\">\n",
              "  <thead>\n",
              "    <tr style=\"text-align: right;\">\n",
              "      <th></th>\n",
              "      <th>Age (yrs)</th>\n",
              "      <th>Height (cm)</th>\n",
              "      <th>Weight (kg)</th>\n",
              "    </tr>\n",
              "  </thead>\n",
              "  <tbody>\n",
              "    <tr>\n",
              "      <th>0</th>\n",
              "      <td>2</td>\n",
              "      <td>83.82</td>\n",
              "      <td>8.40</td>\n",
              "    </tr>\n",
              "    <tr>\n",
              "      <th>1</th>\n",
              "      <td>4</td>\n",
              "      <td>99.31</td>\n",
              "      <td>16.97</td>\n",
              "    </tr>\n",
              "    <tr>\n",
              "      <th>2</th>\n",
              "      <td>3</td>\n",
              "      <td>96.52</td>\n",
              "      <td>14.41</td>\n",
              "    </tr>\n",
              "    <tr>\n",
              "      <th>3</th>\n",
              "      <td>6</td>\n",
              "      <td>114.30</td>\n",
              "      <td>20.14</td>\n",
              "    </tr>\n",
              "    <tr>\n",
              "      <th>4</th>\n",
              "      <td>4</td>\n",
              "      <td>101.60</td>\n",
              "      <td>16.91</td>\n",
              "    </tr>\n",
              "    <tr>\n",
              "      <th>5</th>\n",
              "      <td>2</td>\n",
              "      <td>86.36</td>\n",
              "      <td>12.64</td>\n",
              "    </tr>\n",
              "    <tr>\n",
              "      <th>6</th>\n",
              "      <td>3</td>\n",
              "      <td>92.71</td>\n",
              "      <td>14.23</td>\n",
              "    </tr>\n",
              "    <tr>\n",
              "      <th>7</th>\n",
              "      <td>2</td>\n",
              "      <td>85.09</td>\n",
              "      <td>11.11</td>\n",
              "    </tr>\n",
              "    <tr>\n",
              "      <th>8</th>\n",
              "      <td>2</td>\n",
              "      <td>85.85</td>\n",
              "      <td>14.18</td>\n",
              "    </tr>\n",
              "    <tr>\n",
              "      <th>9</th>\n",
              "      <td>5</td>\n",
              "      <td>106.68</td>\n",
              "      <td>20.01</td>\n",
              "    </tr>\n",
              "    <tr>\n",
              "      <th>10</th>\n",
              "      <td>4</td>\n",
              "      <td>99.06</td>\n",
              "      <td>13.17</td>\n",
              "    </tr>\n",
              "    <tr>\n",
              "      <th>11</th>\n",
              "      <td>5</td>\n",
              "      <td>109.22</td>\n",
              "      <td>15.36</td>\n",
              "    </tr>\n",
              "    <tr>\n",
              "      <th>12</th>\n",
              "      <td>4</td>\n",
              "      <td>100.84</td>\n",
              "      <td>14.78</td>\n",
              "    </tr>\n",
              "    <tr>\n",
              "      <th>13</th>\n",
              "      <td>6</td>\n",
              "      <td>115.06</td>\n",
              "      <td>20.06</td>\n",
              "    </tr>\n",
              "    <tr>\n",
              "      <th>14</th>\n",
              "      <td>2</td>\n",
              "      <td>84.07</td>\n",
              "      <td>10.02</td>\n",
              "    </tr>\n",
              "    <tr>\n",
              "      <th>15</th>\n",
              "      <td>7</td>\n",
              "      <td>121.67</td>\n",
              "      <td>28.40</td>\n",
              "    </tr>\n",
              "    <tr>\n",
              "      <th>16</th>\n",
              "      <td>3</td>\n",
              "      <td>94.49</td>\n",
              "      <td>14.05</td>\n",
              "    </tr>\n",
              "    <tr>\n",
              "      <th>17</th>\n",
              "      <td>6</td>\n",
              "      <td>116.59</td>\n",
              "      <td>17.55</td>\n",
              "    </tr>\n",
              "    <tr>\n",
              "      <th>18</th>\n",
              "      <td>7</td>\n",
              "      <td>121.92</td>\n",
              "      <td>22.96</td>\n",
              "    </tr>\n",
              "  </tbody>\n",
              "</table>\n",
              "</div>"
            ],
            "text/plain": [
              "    Age (yrs)  Height (cm)  Weight (kg)\n",
              "0           2        83.82         8.40\n",
              "1           4        99.31        16.97\n",
              "2           3        96.52        14.41\n",
              "3           6       114.30        20.14\n",
              "4           4       101.60        16.91\n",
              "5           2        86.36        12.64\n",
              "6           3        92.71        14.23\n",
              "7           2        85.09        11.11\n",
              "8           2        85.85        14.18\n",
              "9           5       106.68        20.01\n",
              "10          4        99.06        13.17\n",
              "11          5       109.22        15.36\n",
              "12          4       100.84        14.78\n",
              "13          6       115.06        20.06\n",
              "14          2        84.07        10.02\n",
              "15          7       121.67        28.40\n",
              "16          3        94.49        14.05\n",
              "17          6       116.59        17.55\n",
              "18          7       121.92        22.96"
            ]
          },
          "metadata": {
            "tags": []
          },
          "execution_count": 61
        }
      ]
    },
    {
      "cell_type": "markdown",
      "metadata": {
        "id": "-CJqrV2usfEw"
      },
      "source": [
        "As you can see, we have a fairly low-level dump of data. It is unsorted and is generally difficult to gain any insight from. We could group the data by age and find metrics such as the count, max, min, mean, median, and more. This information might be more easy to analyze.\n",
        "\n",
        "In order to do this grouping, we use the `groupby` method on the `DataFrame`.\n",
        "\n",
        "For instance, if we wanted to know the mean values for the columns for each year of age, we could run the following code:"
      ]
    },
    {
      "cell_type": "code",
      "metadata": {
        "id": "uwdzP6gTWT_h",
        "colab": {
          "base_uri": "https://localhost:8080/",
          "height": 269
        },
        "outputId": "a4ff9228-1a6e-4cc5-ecf0-5956632f07cc"
      },
      "source": [
        "body_measurement_df.groupby('Age (yrs)').mean()"
      ],
      "execution_count": null,
      "outputs": [
        {
          "output_type": "execute_result",
          "data": {
            "text/html": [
              "<div>\n",
              "<style scoped>\n",
              "    .dataframe tbody tr th:only-of-type {\n",
              "        vertical-align: middle;\n",
              "    }\n",
              "\n",
              "    .dataframe tbody tr th {\n",
              "        vertical-align: top;\n",
              "    }\n",
              "\n",
              "    .dataframe thead th {\n",
              "        text-align: right;\n",
              "    }\n",
              "</style>\n",
              "<table border=\"1\" class=\"dataframe\">\n",
              "  <thead>\n",
              "    <tr style=\"text-align: right;\">\n",
              "      <th></th>\n",
              "      <th>Height (cm)</th>\n",
              "      <th>Weight (kg)</th>\n",
              "    </tr>\n",
              "    <tr>\n",
              "      <th>Age (yrs)</th>\n",
              "      <th></th>\n",
              "      <th></th>\n",
              "    </tr>\n",
              "  </thead>\n",
              "  <tbody>\n",
              "    <tr>\n",
              "      <th>2</th>\n",
              "      <td>85.038000</td>\n",
              "      <td>11.2700</td>\n",
              "    </tr>\n",
              "    <tr>\n",
              "      <th>3</th>\n",
              "      <td>94.573333</td>\n",
              "      <td>14.2300</td>\n",
              "    </tr>\n",
              "    <tr>\n",
              "      <th>4</th>\n",
              "      <td>100.202500</td>\n",
              "      <td>15.4575</td>\n",
              "    </tr>\n",
              "    <tr>\n",
              "      <th>5</th>\n",
              "      <td>107.950000</td>\n",
              "      <td>17.6850</td>\n",
              "    </tr>\n",
              "    <tr>\n",
              "      <th>6</th>\n",
              "      <td>115.316667</td>\n",
              "      <td>19.2500</td>\n",
              "    </tr>\n",
              "    <tr>\n",
              "      <th>7</th>\n",
              "      <td>121.795000</td>\n",
              "      <td>25.6800</td>\n",
              "    </tr>\n",
              "  </tbody>\n",
              "</table>\n",
              "</div>"
            ],
            "text/plain": [
              "           Height (cm)  Weight (kg)\n",
              "Age (yrs)                          \n",
              "2            85.038000      11.2700\n",
              "3            94.573333      14.2300\n",
              "4           100.202500      15.4575\n",
              "5           107.950000      17.6850\n",
              "6           115.316667      19.2500\n",
              "7           121.795000      25.6800"
            ]
          },
          "metadata": {
            "tags": []
          },
          "execution_count": 62
        }
      ]
    },
    {
      "cell_type": "markdown",
      "metadata": {
        "id": "h-JbY4OzW5Ds"
      },
      "source": [
        "We get a `DataFrame` sorted by the column that we chose to group by. The 'Height (cm)' and 'Weight (kg)' columns now represent the mean height and weight for each age represented in our dataset.\n",
        "\n",
        "Looking at this data, you can now see a steady increase in height and weight as age increases, which is what you are likely to expect.\n",
        "\n",
        "You might notice here that the 'Age (yrs)' column looks a little different. It is now not a regular column, but is instead an index column.\n",
        "\n",
        "Let's see what this means by saving the grouped data into a new `DataFrame`:"
      ]
    },
    {
      "cell_type": "code",
      "metadata": {
        "id": "bME3NRjzdskw",
        "colab": {
          "base_uri": "https://localhost:8080/"
        },
        "outputId": "9be9f07f-89a2-485f-d747-4a86d6a65bff"
      },
      "source": [
        "mean_body_measurement_df = body_measurement_df.groupby('Age (yrs)').mean()\n",
        "\n",
        "mean_body_measurement_df.columns"
      ],
      "execution_count": null,
      "outputs": [
        {
          "output_type": "execute_result",
          "data": {
            "text/plain": [
              "Index(['Height (cm)', 'Weight (kg)'], dtype='object')"
            ]
          },
          "metadata": {
            "tags": []
          },
          "execution_count": 63
        }
      ]
    },
    {
      "cell_type": "markdown",
      "metadata": {
        "id": "QE7b6thod1vo"
      },
      "source": [
        "You'll notice that 'Age (yrs)' is no longer listed as a column. In order to access the age you instead have to use the `.index` property of the `DataFrame`.\n",
        "\n",
        "Note that we get an `Int64Index` object back and not a `Series` as we would if we referenced a single column."
      ]
    },
    {
      "cell_type": "code",
      "metadata": {
        "id": "cyV4hb42eBhf",
        "colab": {
          "base_uri": "https://localhost:8080/"
        },
        "outputId": "89778208-9633-4540-b244-21d3968c0972"
      },
      "source": [
        "mean_body_measurement_df.index"
      ],
      "execution_count": null,
      "outputs": [
        {
          "output_type": "execute_result",
          "data": {
            "text/plain": [
              "Int64Index([2, 3, 4, 5, 6, 7], dtype='int64', name='Age (yrs)')"
            ]
          },
          "metadata": {
            "tags": []
          },
          "execution_count": 64
        }
      ]
    },
    {
      "cell_type": "markdown",
      "metadata": {
        "id": "4ySz5KfpdbBx"
      },
      "source": [
        "\n",
        "We aren't restricted to just using `mean()`. There are many other aggregate functions that we could use, including `max()`, which gives us the largest sample in each grouping:"
      ]
    },
    {
      "cell_type": "code",
      "metadata": {
        "id": "lWWI17h5cKGy",
        "colab": {
          "base_uri": "https://localhost:8080/",
          "height": 269
        },
        "outputId": "8ae81135-7756-4531-b581-383da7f30604"
      },
      "source": [
        "body_measurement_df.groupby('Age (yrs)').max()"
      ],
      "execution_count": null,
      "outputs": [
        {
          "output_type": "execute_result",
          "data": {
            "text/html": [
              "<div>\n",
              "<style scoped>\n",
              "    .dataframe tbody tr th:only-of-type {\n",
              "        vertical-align: middle;\n",
              "    }\n",
              "\n",
              "    .dataframe tbody tr th {\n",
              "        vertical-align: top;\n",
              "    }\n",
              "\n",
              "    .dataframe thead th {\n",
              "        text-align: right;\n",
              "    }\n",
              "</style>\n",
              "<table border=\"1\" class=\"dataframe\">\n",
              "  <thead>\n",
              "    <tr style=\"text-align: right;\">\n",
              "      <th></th>\n",
              "      <th>Height (cm)</th>\n",
              "      <th>Weight (kg)</th>\n",
              "    </tr>\n",
              "    <tr>\n",
              "      <th>Age (yrs)</th>\n",
              "      <th></th>\n",
              "      <th></th>\n",
              "    </tr>\n",
              "  </thead>\n",
              "  <tbody>\n",
              "    <tr>\n",
              "      <th>2</th>\n",
              "      <td>86.36</td>\n",
              "      <td>14.18</td>\n",
              "    </tr>\n",
              "    <tr>\n",
              "      <th>3</th>\n",
              "      <td>96.52</td>\n",
              "      <td>14.41</td>\n",
              "    </tr>\n",
              "    <tr>\n",
              "      <th>4</th>\n",
              "      <td>101.60</td>\n",
              "      <td>16.97</td>\n",
              "    </tr>\n",
              "    <tr>\n",
              "      <th>5</th>\n",
              "      <td>109.22</td>\n",
              "      <td>20.01</td>\n",
              "    </tr>\n",
              "    <tr>\n",
              "      <th>6</th>\n",
              "      <td>116.59</td>\n",
              "      <td>20.14</td>\n",
              "    </tr>\n",
              "    <tr>\n",
              "      <th>7</th>\n",
              "      <td>121.92</td>\n",
              "      <td>28.40</td>\n",
              "    </tr>\n",
              "  </tbody>\n",
              "</table>\n",
              "</div>"
            ],
            "text/plain": [
              "           Height (cm)  Weight (kg)\n",
              "Age (yrs)                          \n",
              "2                86.36        14.18\n",
              "3                96.52        14.41\n",
              "4               101.60        16.97\n",
              "5               109.22        20.01\n",
              "6               116.59        20.14\n",
              "7               121.92        28.40"
            ]
          },
          "metadata": {
            "tags": []
          },
          "execution_count": 65
        }
      ]
    },
    {
      "cell_type": "markdown",
      "metadata": {
        "id": "MpOjED6FcNFA"
      },
      "source": [
        "And `min()` which gives the smallest value in each grouping:"
      ]
    },
    {
      "cell_type": "code",
      "metadata": {
        "id": "En439mp5cQ8y",
        "colab": {
          "base_uri": "https://localhost:8080/",
          "height": 269
        },
        "outputId": "85d0eda4-ac5d-4f0c-f766-daec321559e3"
      },
      "source": [
        "body_measurement_df.groupby('Age (yrs)').min()"
      ],
      "execution_count": null,
      "outputs": [
        {
          "output_type": "execute_result",
          "data": {
            "text/html": [
              "<div>\n",
              "<style scoped>\n",
              "    .dataframe tbody tr th:only-of-type {\n",
              "        vertical-align: middle;\n",
              "    }\n",
              "\n",
              "    .dataframe tbody tr th {\n",
              "        vertical-align: top;\n",
              "    }\n",
              "\n",
              "    .dataframe thead th {\n",
              "        text-align: right;\n",
              "    }\n",
              "</style>\n",
              "<table border=\"1\" class=\"dataframe\">\n",
              "  <thead>\n",
              "    <tr style=\"text-align: right;\">\n",
              "      <th></th>\n",
              "      <th>Height (cm)</th>\n",
              "      <th>Weight (kg)</th>\n",
              "    </tr>\n",
              "    <tr>\n",
              "      <th>Age (yrs)</th>\n",
              "      <th></th>\n",
              "      <th></th>\n",
              "    </tr>\n",
              "  </thead>\n",
              "  <tbody>\n",
              "    <tr>\n",
              "      <th>2</th>\n",
              "      <td>83.82</td>\n",
              "      <td>8.40</td>\n",
              "    </tr>\n",
              "    <tr>\n",
              "      <th>3</th>\n",
              "      <td>92.71</td>\n",
              "      <td>14.05</td>\n",
              "    </tr>\n",
              "    <tr>\n",
              "      <th>4</th>\n",
              "      <td>99.06</td>\n",
              "      <td>13.17</td>\n",
              "    </tr>\n",
              "    <tr>\n",
              "      <th>5</th>\n",
              "      <td>106.68</td>\n",
              "      <td>15.36</td>\n",
              "    </tr>\n",
              "    <tr>\n",
              "      <th>6</th>\n",
              "      <td>114.30</td>\n",
              "      <td>17.55</td>\n",
              "    </tr>\n",
              "    <tr>\n",
              "      <th>7</th>\n",
              "      <td>121.67</td>\n",
              "      <td>22.96</td>\n",
              "    </tr>\n",
              "  </tbody>\n",
              "</table>\n",
              "</div>"
            ],
            "text/plain": [
              "           Height (cm)  Weight (kg)\n",
              "Age (yrs)                          \n",
              "2                83.82         8.40\n",
              "3                92.71        14.05\n",
              "4                99.06        13.17\n",
              "5               106.68        15.36\n",
              "6               114.30        17.55\n",
              "7               121.67        22.96"
            ]
          },
          "metadata": {
            "tags": []
          },
          "execution_count": 66
        }
      ]
    },
    {
      "cell_type": "markdown",
      "metadata": {
        "id": "TBy8K-w4cTvU"
      },
      "source": [
        "There are many other aggregate functions. You can see the entire list in the [`GroupBy` documentation](https://pandas.pydata.org/pandas-docs/stable/reference/groupby.html)."
      ]
    },
    {
      "cell_type": "markdown",
      "metadata": {
        "id": "jRSPayIbP5b1"
      },
      "source": [
        "Sometimes performing a single aggregation across all columns is limiting. What if you want the mean of one column and the max of another? What if you want to perform multiple aggregations on one column?\n",
        "\n",
        "You can perform different and multiple aggregations using the `agg()` function:"
      ]
    },
    {
      "cell_type": "code",
      "metadata": {
        "id": "S76LCG4eQXKr",
        "colab": {
          "base_uri": "https://localhost:8080/",
          "height": 300
        },
        "outputId": "c5506e75-2cc3-4a7b-aba2-913a1ece38ec"
      },
      "source": [
        "body_measurement_df.groupby('Age (yrs)').agg({\n",
        "    'Height (cm)': 'mean',\n",
        "    'Weight (kg)': ['max', 'min'],\n",
        "})"
      ],
      "execution_count": null,
      "outputs": [
        {
          "output_type": "execute_result",
          "data": {
            "text/html": [
              "<div>\n",
              "<style scoped>\n",
              "    .dataframe tbody tr th:only-of-type {\n",
              "        vertical-align: middle;\n",
              "    }\n",
              "\n",
              "    .dataframe tbody tr th {\n",
              "        vertical-align: top;\n",
              "    }\n",
              "\n",
              "    .dataframe thead tr th {\n",
              "        text-align: left;\n",
              "    }\n",
              "\n",
              "    .dataframe thead tr:last-of-type th {\n",
              "        text-align: right;\n",
              "    }\n",
              "</style>\n",
              "<table border=\"1\" class=\"dataframe\">\n",
              "  <thead>\n",
              "    <tr>\n",
              "      <th></th>\n",
              "      <th>Height (cm)</th>\n",
              "      <th colspan=\"2\" halign=\"left\">Weight (kg)</th>\n",
              "    </tr>\n",
              "    <tr>\n",
              "      <th></th>\n",
              "      <th>mean</th>\n",
              "      <th>max</th>\n",
              "      <th>min</th>\n",
              "    </tr>\n",
              "    <tr>\n",
              "      <th>Age (yrs)</th>\n",
              "      <th></th>\n",
              "      <th></th>\n",
              "      <th></th>\n",
              "    </tr>\n",
              "  </thead>\n",
              "  <tbody>\n",
              "    <tr>\n",
              "      <th>2</th>\n",
              "      <td>85.038000</td>\n",
              "      <td>14.18</td>\n",
              "      <td>8.40</td>\n",
              "    </tr>\n",
              "    <tr>\n",
              "      <th>3</th>\n",
              "      <td>94.573333</td>\n",
              "      <td>14.41</td>\n",
              "      <td>14.05</td>\n",
              "    </tr>\n",
              "    <tr>\n",
              "      <th>4</th>\n",
              "      <td>100.202500</td>\n",
              "      <td>16.97</td>\n",
              "      <td>13.17</td>\n",
              "    </tr>\n",
              "    <tr>\n",
              "      <th>5</th>\n",
              "      <td>107.950000</td>\n",
              "      <td>20.01</td>\n",
              "      <td>15.36</td>\n",
              "    </tr>\n",
              "    <tr>\n",
              "      <th>6</th>\n",
              "      <td>115.316667</td>\n",
              "      <td>20.14</td>\n",
              "      <td>17.55</td>\n",
              "    </tr>\n",
              "    <tr>\n",
              "      <th>7</th>\n",
              "      <td>121.795000</td>\n",
              "      <td>28.40</td>\n",
              "      <td>22.96</td>\n",
              "    </tr>\n",
              "  </tbody>\n",
              "</table>\n",
              "</div>"
            ],
            "text/plain": [
              "          Height (cm) Weight (kg)       \n",
              "                 mean         max    min\n",
              "Age (yrs)                               \n",
              "2           85.038000       14.18   8.40\n",
              "3           94.573333       14.41  14.05\n",
              "4          100.202500       16.97  13.17\n",
              "5          107.950000       20.01  15.36\n",
              "6          115.316667       20.14  17.55\n",
              "7          121.795000       28.40  22.96"
            ]
          },
          "metadata": {
            "tags": []
          },
          "execution_count": 69
        }
      ]
    },
    {
      "cell_type": "markdown",
      "metadata": {
        "id": "IKN9RN8SpyYV"
      },
      "source": [
        "As you can see, `agg()` accepts a dictionary. The keys are the columns that you want to aggregate. The values are either a single aggregation function name or lists of aggregation function names."
      ]
    },
    {
      "cell_type": "markdown",
      "metadata": {
        "id": "5ye5dnYuqBY0"
      },
      "source": [
        "### Exercise 4: Grouping\n",
        "\n",
        "Given the body measurement dataset in a `DataFrame`, group the data by 'Age (yrs)' and find the following aggregations using the `agg()` function:\n",
        "\n",
        "* 'Age (yrs)' count\n",
        "* 'Height (cm)' min\n",
        "* 'Height (cm)' max\n",
        "* 'Height (cm)' mean\n",
        "* 'Height (cm)' standard deviation\n",
        "* 'Weight (kg)' min\n",
        "* 'Weight (kg)' max\n",
        "* 'Weight (kg)' mean\n",
        "* 'Weight (kg)' standard deviation\n"
      ]
    },
    {
      "cell_type": "markdown",
      "metadata": {
        "id": "BnP-BOCMrS3j"
      },
      "source": [
        "**Student Solution**"
      ]
    },
    {
      "cell_type": "code",
      "metadata": {
        "id": "FVEHgjt_rVro",
        "colab": {
          "base_uri": "https://localhost:8080/",
          "height": 300
        },
        "outputId": "234c5090-0cdc-4fe2-d7ad-d61dabc4a5e1"
      },
      "source": [
        "import pandas as pd\n",
        "\n",
        "body_measurement_df = pd.DataFrame.from_records((\n",
        "  (2, 83.82, 8.4),\n",
        "  (4, 99.31, 16.97),\n",
        "  (3, 96.52, 14.41),\n",
        "  (6, 114.3, 20.14),\n",
        "  (4, 101.6, 16.91),\n",
        "  (2, 86.36, 12.64),\n",
        "  (3, 92.71, 14.23),\n",
        "  (2, 85.09, 11.11),\n",
        "  (2, 85.85, 14.18),\n",
        "  (5, 106.68, 20.01),\n",
        "  (4, 99.06, 13.17),\n",
        "  (5, 109.22, 15.36),\n",
        "  (4, 100.84, 14.78),\n",
        "  (6, 115.06, 20.06),\n",
        "  (2, 84.07, 10.02),\n",
        "  (7, 121.67, 28.4),\n",
        "  (3, 94.49, 14.05),\n",
        "  (6, 116.59, 17.55),\n",
        "  (7, 121.92, 22.96),\n",
        "), columns=(\"Age (yrs)\", \"Height (cm)\", \"Weight (kg)\"))\n",
        "\n",
        "body_measurement_df\n",
        "\n",
        "# Your Solution Goes Here\n",
        "body_measurement_df.groupby(\"Age (yrs)\").agg({\n",
        "    'Age (yrs)': 'count',\n",
        "    'Height (cm)': ['min', 'max', 'mean', 'std'],\n",
        "    'Weight (kg)': ['min', 'max', 'mean', 'std']\n",
        "})"
      ],
      "execution_count": null,
      "outputs": [
        {
          "output_type": "execute_result",
          "data": {
            "text/html": [
              "<div>\n",
              "<style scoped>\n",
              "    .dataframe tbody tr th:only-of-type {\n",
              "        vertical-align: middle;\n",
              "    }\n",
              "\n",
              "    .dataframe tbody tr th {\n",
              "        vertical-align: top;\n",
              "    }\n",
              "\n",
              "    .dataframe thead tr th {\n",
              "        text-align: left;\n",
              "    }\n",
              "\n",
              "    .dataframe thead tr:last-of-type th {\n",
              "        text-align: right;\n",
              "    }\n",
              "</style>\n",
              "<table border=\"1\" class=\"dataframe\">\n",
              "  <thead>\n",
              "    <tr>\n",
              "      <th></th>\n",
              "      <th>Age (yrs)</th>\n",
              "      <th colspan=\"4\" halign=\"left\">Height (cm)</th>\n",
              "      <th colspan=\"4\" halign=\"left\">Weight (kg)</th>\n",
              "    </tr>\n",
              "    <tr>\n",
              "      <th></th>\n",
              "      <th>count</th>\n",
              "      <th>min</th>\n",
              "      <th>max</th>\n",
              "      <th>mean</th>\n",
              "      <th>std</th>\n",
              "      <th>min</th>\n",
              "      <th>max</th>\n",
              "      <th>mean</th>\n",
              "      <th>std</th>\n",
              "    </tr>\n",
              "    <tr>\n",
              "      <th>Age (yrs)</th>\n",
              "      <th></th>\n",
              "      <th></th>\n",
              "      <th></th>\n",
              "      <th></th>\n",
              "      <th></th>\n",
              "      <th></th>\n",
              "      <th></th>\n",
              "      <th></th>\n",
              "      <th></th>\n",
              "    </tr>\n",
              "  </thead>\n",
              "  <tbody>\n",
              "    <tr>\n",
              "      <th>2</th>\n",
              "      <td>5</td>\n",
              "      <td>83.82</td>\n",
              "      <td>86.36</td>\n",
              "      <td>85.038000</td>\n",
              "      <td>1.098895</td>\n",
              "      <td>8.40</td>\n",
              "      <td>14.18</td>\n",
              "      <td>11.2700</td>\n",
              "      <td>2.245551</td>\n",
              "    </tr>\n",
              "    <tr>\n",
              "      <th>3</th>\n",
              "      <td>3</td>\n",
              "      <td>92.71</td>\n",
              "      <td>96.52</td>\n",
              "      <td>94.573333</td>\n",
              "      <td>1.906367</td>\n",
              "      <td>14.05</td>\n",
              "      <td>14.41</td>\n",
              "      <td>14.2300</td>\n",
              "      <td>0.180000</td>\n",
              "    </tr>\n",
              "    <tr>\n",
              "      <th>4</th>\n",
              "      <td>4</td>\n",
              "      <td>99.06</td>\n",
              "      <td>101.60</td>\n",
              "      <td>100.202500</td>\n",
              "      <td>1.219464</td>\n",
              "      <td>13.17</td>\n",
              "      <td>16.97</td>\n",
              "      <td>15.4575</td>\n",
              "      <td>1.833855</td>\n",
              "    </tr>\n",
              "    <tr>\n",
              "      <th>5</th>\n",
              "      <td>2</td>\n",
              "      <td>106.68</td>\n",
              "      <td>109.22</td>\n",
              "      <td>107.950000</td>\n",
              "      <td>1.796051</td>\n",
              "      <td>15.36</td>\n",
              "      <td>20.01</td>\n",
              "      <td>17.6850</td>\n",
              "      <td>3.288047</td>\n",
              "    </tr>\n",
              "    <tr>\n",
              "      <th>6</th>\n",
              "      <td>3</td>\n",
              "      <td>114.30</td>\n",
              "      <td>116.59</td>\n",
              "      <td>115.316667</td>\n",
              "      <td>1.166376</td>\n",
              "      <td>17.55</td>\n",
              "      <td>20.14</td>\n",
              "      <td>19.2500</td>\n",
              "      <td>1.472786</td>\n",
              "    </tr>\n",
              "    <tr>\n",
              "      <th>7</th>\n",
              "      <td>2</td>\n",
              "      <td>121.67</td>\n",
              "      <td>121.92</td>\n",
              "      <td>121.795000</td>\n",
              "      <td>0.176777</td>\n",
              "      <td>22.96</td>\n",
              "      <td>28.40</td>\n",
              "      <td>25.6800</td>\n",
              "      <td>3.846661</td>\n",
              "    </tr>\n",
              "  </tbody>\n",
              "</table>\n",
              "</div>"
            ],
            "text/plain": [
              "          Age (yrs) Height (cm)          ... Weight (kg)                   \n",
              "              count         min     max  ...         max     mean       std\n",
              "Age (yrs)                                ...                               \n",
              "2                 5       83.82   86.36  ...       14.18  11.2700  2.245551\n",
              "3                 3       92.71   96.52  ...       14.41  14.2300  0.180000\n",
              "4                 4       99.06  101.60  ...       16.97  15.4575  1.833855\n",
              "5                 2      106.68  109.22  ...       20.01  17.6850  3.288047\n",
              "6                 3      114.30  116.59  ...       20.14  19.2500  1.472786\n",
              "7                 2      121.67  121.92  ...       28.40  25.6800  3.846661\n",
              "\n",
              "[6 rows x 9 columns]"
            ]
          },
          "metadata": {
            "tags": []
          },
          "execution_count": 74
        }
      ]
    },
    {
      "cell_type": "markdown",
      "metadata": {
        "id": "2fkrClixratI"
      },
      "source": [
        "---"
      ]
    },
    {
      "cell_type": "markdown",
      "metadata": {
        "id": "ad_H5eYvTDba"
      },
      "source": [
        "##Merging Data"
      ]
    },
    {
      "cell_type": "markdown",
      "metadata": {
        "id": "cW4jfRDgTn-T"
      },
      "source": [
        "It is common for related data to be stored in different locations. When this happens you sometimes need to merge the data into a single `DataFrame` in order to work with all of the data in an easy manner.\n",
        "\n",
        "Let's take a look at some data about popular desserts. First, we have nutritional information:"
      ]
    },
    {
      "cell_type": "code",
      "metadata": {
        "id": "PtgzWRngsvjy",
        "colab": {
          "base_uri": "https://localhost:8080/",
          "height": 488
        },
        "outputId": "7222fb1a-1d39-41d8-984b-c7642e25bcf5"
      },
      "source": [
        "import pandas as pd\n",
        "\n",
        "nutrition_information_df = pd.DataFrame.from_records((\n",
        "  ('Cupcake', 178, 5.26, 32.54, 1.37),\n",
        "  ('Donut', 190, 10.51, 21.62, 2.62),\n",
        "  ('Eclair', 267, 16.01, 24.68, 6.53),\n",
        "  ('Froyo', 214, 2.94, 39.24, 9.4),\n",
        "  ('Gingerbread', 130, 5, 19, 2),\n",
        "  ('Honeycomb', 190, 13, 23, 2),\n",
        "  ('Ice Cream Sandwich', 143, 5.6, 21.75, 2.61),\n",
        "  ('Jelly Bean', 100, 0, 25, 0),\n",
        "  ('KitKat', 210, 11, 27, 3),\n",
        "  ('Lollipop', 110, 0, 28, 0),\n",
        "  ('Marshmallow', 100, 0, 24, 1),\n",
        "  ('Nougat', 56, 0.23, 12.93, 0.47),\n",
        "  ('Oreo', 160, 7, 25, 1),\n",
        "  ('Pie', 356, 16.5, 51, 2.85),\n",
        "), columns=('Name', 'Calories', 'Fat (g)', 'Carbs (g)', 'Protein (g)'))\n",
        "\n",
        "nutrition_information_df"
      ],
      "execution_count": null,
      "outputs": [
        {
          "output_type": "execute_result",
          "data": {
            "text/html": [
              "<div>\n",
              "<style scoped>\n",
              "    .dataframe tbody tr th:only-of-type {\n",
              "        vertical-align: middle;\n",
              "    }\n",
              "\n",
              "    .dataframe tbody tr th {\n",
              "        vertical-align: top;\n",
              "    }\n",
              "\n",
              "    .dataframe thead th {\n",
              "        text-align: right;\n",
              "    }\n",
              "</style>\n",
              "<table border=\"1\" class=\"dataframe\">\n",
              "  <thead>\n",
              "    <tr style=\"text-align: right;\">\n",
              "      <th></th>\n",
              "      <th>Name</th>\n",
              "      <th>Calories</th>\n",
              "      <th>Fat (g)</th>\n",
              "      <th>Carbs (g)</th>\n",
              "      <th>Protein (g)</th>\n",
              "    </tr>\n",
              "  </thead>\n",
              "  <tbody>\n",
              "    <tr>\n",
              "      <th>0</th>\n",
              "      <td>Cupcake</td>\n",
              "      <td>178</td>\n",
              "      <td>5.26</td>\n",
              "      <td>32.54</td>\n",
              "      <td>1.37</td>\n",
              "    </tr>\n",
              "    <tr>\n",
              "      <th>1</th>\n",
              "      <td>Donut</td>\n",
              "      <td>190</td>\n",
              "      <td>10.51</td>\n",
              "      <td>21.62</td>\n",
              "      <td>2.62</td>\n",
              "    </tr>\n",
              "    <tr>\n",
              "      <th>2</th>\n",
              "      <td>Eclair</td>\n",
              "      <td>267</td>\n",
              "      <td>16.01</td>\n",
              "      <td>24.68</td>\n",
              "      <td>6.53</td>\n",
              "    </tr>\n",
              "    <tr>\n",
              "      <th>3</th>\n",
              "      <td>Froyo</td>\n",
              "      <td>214</td>\n",
              "      <td>2.94</td>\n",
              "      <td>39.24</td>\n",
              "      <td>9.40</td>\n",
              "    </tr>\n",
              "    <tr>\n",
              "      <th>4</th>\n",
              "      <td>Gingerbread</td>\n",
              "      <td>130</td>\n",
              "      <td>5.00</td>\n",
              "      <td>19.00</td>\n",
              "      <td>2.00</td>\n",
              "    </tr>\n",
              "    <tr>\n",
              "      <th>5</th>\n",
              "      <td>Honeycomb</td>\n",
              "      <td>190</td>\n",
              "      <td>13.00</td>\n",
              "      <td>23.00</td>\n",
              "      <td>2.00</td>\n",
              "    </tr>\n",
              "    <tr>\n",
              "      <th>6</th>\n",
              "      <td>Ice Cream Sandwich</td>\n",
              "      <td>143</td>\n",
              "      <td>5.60</td>\n",
              "      <td>21.75</td>\n",
              "      <td>2.61</td>\n",
              "    </tr>\n",
              "    <tr>\n",
              "      <th>7</th>\n",
              "      <td>Jelly Bean</td>\n",
              "      <td>100</td>\n",
              "      <td>0.00</td>\n",
              "      <td>25.00</td>\n",
              "      <td>0.00</td>\n",
              "    </tr>\n",
              "    <tr>\n",
              "      <th>8</th>\n",
              "      <td>KitKat</td>\n",
              "      <td>210</td>\n",
              "      <td>11.00</td>\n",
              "      <td>27.00</td>\n",
              "      <td>3.00</td>\n",
              "    </tr>\n",
              "    <tr>\n",
              "      <th>9</th>\n",
              "      <td>Lollipop</td>\n",
              "      <td>110</td>\n",
              "      <td>0.00</td>\n",
              "      <td>28.00</td>\n",
              "      <td>0.00</td>\n",
              "    </tr>\n",
              "    <tr>\n",
              "      <th>10</th>\n",
              "      <td>Marshmallow</td>\n",
              "      <td>100</td>\n",
              "      <td>0.00</td>\n",
              "      <td>24.00</td>\n",
              "      <td>1.00</td>\n",
              "    </tr>\n",
              "    <tr>\n",
              "      <th>11</th>\n",
              "      <td>Nougat</td>\n",
              "      <td>56</td>\n",
              "      <td>0.23</td>\n",
              "      <td>12.93</td>\n",
              "      <td>0.47</td>\n",
              "    </tr>\n",
              "    <tr>\n",
              "      <th>12</th>\n",
              "      <td>Oreo</td>\n",
              "      <td>160</td>\n",
              "      <td>7.00</td>\n",
              "      <td>25.00</td>\n",
              "      <td>1.00</td>\n",
              "    </tr>\n",
              "    <tr>\n",
              "      <th>13</th>\n",
              "      <td>Pie</td>\n",
              "      <td>356</td>\n",
              "      <td>16.50</td>\n",
              "      <td>51.00</td>\n",
              "      <td>2.85</td>\n",
              "    </tr>\n",
              "  </tbody>\n",
              "</table>\n",
              "</div>"
            ],
            "text/plain": [
              "                  Name  Calories  Fat (g)  Carbs (g)  Protein (g)\n",
              "0              Cupcake       178     5.26      32.54         1.37\n",
              "1                Donut       190    10.51      21.62         2.62\n",
              "2               Eclair       267    16.01      24.68         6.53\n",
              "3                Froyo       214     2.94      39.24         9.40\n",
              "4          Gingerbread       130     5.00      19.00         2.00\n",
              "5            Honeycomb       190    13.00      23.00         2.00\n",
              "6   Ice Cream Sandwich       143     5.60      21.75         2.61\n",
              "7           Jelly Bean       100     0.00      25.00         0.00\n",
              "8               KitKat       210    11.00      27.00         3.00\n",
              "9             Lollipop       110     0.00      28.00         0.00\n",
              "10         Marshmallow       100     0.00      24.00         1.00\n",
              "11              Nougat        56     0.23      12.93         0.47\n",
              "12                Oreo       160     7.00      25.00         1.00\n",
              "13                 Pie       356    16.50      51.00         2.85"
            ]
          },
          "metadata": {
            "tags": []
          },
          "execution_count": 2
        }
      ]
    },
    {
      "cell_type": "markdown",
      "metadata": {
        "id": "10ezmFWFx5Tf"
      },
      "source": [
        "We also have data about the manufacturing costs and the retail price of each of the desserts:"
      ]
    },
    {
      "cell_type": "code",
      "metadata": {
        "id": "3f032gQPx54K",
        "colab": {
          "base_uri": "https://localhost:8080/",
          "height": 488
        },
        "outputId": "81c3dd23-35c9-4b5c-ccde-bd950e4c39a6"
      },
      "source": [
        "import pandas as pd\n",
        "\n",
        "costs_df = pd.DataFrame.from_records((\n",
        "  ('Cupcake', 1.24, 4.50),\n",
        "  ('Donut', 0.17, 0.99),\n",
        "  ('Eclair', 0.54, 2.50),\n",
        "  ('Froyo', 0.78, 3.50),\n",
        "  ('Gingerbread', 0.45, 0.99),\n",
        "  ('Honeycomb', 1.25, 3.00),\n",
        "  ('Ice Cream Sandwich', 1.21, 2.99),\n",
        "  ('Jelly Bean', 0.04, 0.99),\n",
        "  ('KitKat', 0.33, 1.50),\n",
        "  ('Lollipop', 0.11, 1.10),\n",
        "  ('Marshmallow', 0.03, 0.50),\n",
        "  ('Nougat', 0.75, 1.50),\n",
        "  ('Oreo', 0.78, 2.00),\n",
        "  ('Pie', 0.66, 2.25),\n",
        "), columns=('Name', 'Manufacturing (USD)', 'Retail (USD)'))\n",
        "\n",
        "costs_df"
      ],
      "execution_count": null,
      "outputs": [
        {
          "output_type": "execute_result",
          "data": {
            "text/html": [
              "<div>\n",
              "<style scoped>\n",
              "    .dataframe tbody tr th:only-of-type {\n",
              "        vertical-align: middle;\n",
              "    }\n",
              "\n",
              "    .dataframe tbody tr th {\n",
              "        vertical-align: top;\n",
              "    }\n",
              "\n",
              "    .dataframe thead th {\n",
              "        text-align: right;\n",
              "    }\n",
              "</style>\n",
              "<table border=\"1\" class=\"dataframe\">\n",
              "  <thead>\n",
              "    <tr style=\"text-align: right;\">\n",
              "      <th></th>\n",
              "      <th>Name</th>\n",
              "      <th>Manufacturing (USD)</th>\n",
              "      <th>Retail (USD)</th>\n",
              "    </tr>\n",
              "  </thead>\n",
              "  <tbody>\n",
              "    <tr>\n",
              "      <th>0</th>\n",
              "      <td>Cupcake</td>\n",
              "      <td>1.24</td>\n",
              "      <td>4.50</td>\n",
              "    </tr>\n",
              "    <tr>\n",
              "      <th>1</th>\n",
              "      <td>Donut</td>\n",
              "      <td>0.17</td>\n",
              "      <td>0.99</td>\n",
              "    </tr>\n",
              "    <tr>\n",
              "      <th>2</th>\n",
              "      <td>Eclair</td>\n",
              "      <td>0.54</td>\n",
              "      <td>2.50</td>\n",
              "    </tr>\n",
              "    <tr>\n",
              "      <th>3</th>\n",
              "      <td>Froyo</td>\n",
              "      <td>0.78</td>\n",
              "      <td>3.50</td>\n",
              "    </tr>\n",
              "    <tr>\n",
              "      <th>4</th>\n",
              "      <td>Gingerbread</td>\n",
              "      <td>0.45</td>\n",
              "      <td>0.99</td>\n",
              "    </tr>\n",
              "    <tr>\n",
              "      <th>5</th>\n",
              "      <td>Honeycomb</td>\n",
              "      <td>1.25</td>\n",
              "      <td>3.00</td>\n",
              "    </tr>\n",
              "    <tr>\n",
              "      <th>6</th>\n",
              "      <td>Ice Cream Sandwich</td>\n",
              "      <td>1.21</td>\n",
              "      <td>2.99</td>\n",
              "    </tr>\n",
              "    <tr>\n",
              "      <th>7</th>\n",
              "      <td>Jelly Bean</td>\n",
              "      <td>0.04</td>\n",
              "      <td>0.99</td>\n",
              "    </tr>\n",
              "    <tr>\n",
              "      <th>8</th>\n",
              "      <td>KitKat</td>\n",
              "      <td>0.33</td>\n",
              "      <td>1.50</td>\n",
              "    </tr>\n",
              "    <tr>\n",
              "      <th>9</th>\n",
              "      <td>Lollipop</td>\n",
              "      <td>0.11</td>\n",
              "      <td>1.10</td>\n",
              "    </tr>\n",
              "    <tr>\n",
              "      <th>10</th>\n",
              "      <td>Marshmallow</td>\n",
              "      <td>0.03</td>\n",
              "      <td>0.50</td>\n",
              "    </tr>\n",
              "    <tr>\n",
              "      <th>11</th>\n",
              "      <td>Nougat</td>\n",
              "      <td>0.75</td>\n",
              "      <td>1.50</td>\n",
              "    </tr>\n",
              "    <tr>\n",
              "      <th>12</th>\n",
              "      <td>Oreo</td>\n",
              "      <td>0.78</td>\n",
              "      <td>2.00</td>\n",
              "    </tr>\n",
              "    <tr>\n",
              "      <th>13</th>\n",
              "      <td>Pie</td>\n",
              "      <td>0.66</td>\n",
              "      <td>2.25</td>\n",
              "    </tr>\n",
              "  </tbody>\n",
              "</table>\n",
              "</div>"
            ],
            "text/plain": [
              "                  Name  Manufacturing (USD)  Retail (USD)\n",
              "0              Cupcake                 1.24          4.50\n",
              "1                Donut                 0.17          0.99\n",
              "2               Eclair                 0.54          2.50\n",
              "3                Froyo                 0.78          3.50\n",
              "4          Gingerbread                 0.45          0.99\n",
              "5            Honeycomb                 1.25          3.00\n",
              "6   Ice Cream Sandwich                 1.21          2.99\n",
              "7           Jelly Bean                 0.04          0.99\n",
              "8               KitKat                 0.33          1.50\n",
              "9             Lollipop                 0.11          1.10\n",
              "10         Marshmallow                 0.03          0.50\n",
              "11              Nougat                 0.75          1.50\n",
              "12                Oreo                 0.78          2.00\n",
              "13                 Pie                 0.66          2.25"
            ]
          },
          "metadata": {
            "tags": []
          },
          "execution_count": 3
        }
      ]
    },
    {
      "cell_type": "markdown",
      "metadata": {
        "id": "azvf4DpSzZTJ"
      },
      "source": [
        "If we want to combine the data into a single `DataFrame`, we can merge the data:"
      ]
    },
    {
      "cell_type": "code",
      "metadata": {
        "id": "wI3fvRedzglL",
        "colab": {
          "base_uri": "https://localhost:8080/",
          "height": 488
        },
        "outputId": "0e9c35a2-f24e-44b7-8f49-9122d8143e5a"
      },
      "source": [
        "pd.merge(nutrition_information_df, costs_df)"
      ],
      "execution_count": null,
      "outputs": [
        {
          "output_type": "execute_result",
          "data": {
            "text/html": [
              "<div>\n",
              "<style scoped>\n",
              "    .dataframe tbody tr th:only-of-type {\n",
              "        vertical-align: middle;\n",
              "    }\n",
              "\n",
              "    .dataframe tbody tr th {\n",
              "        vertical-align: top;\n",
              "    }\n",
              "\n",
              "    .dataframe thead th {\n",
              "        text-align: right;\n",
              "    }\n",
              "</style>\n",
              "<table border=\"1\" class=\"dataframe\">\n",
              "  <thead>\n",
              "    <tr style=\"text-align: right;\">\n",
              "      <th></th>\n",
              "      <th>Name</th>\n",
              "      <th>Calories</th>\n",
              "      <th>Fat (g)</th>\n",
              "      <th>Carbs (g)</th>\n",
              "      <th>Protein (g)</th>\n",
              "      <th>Manufacturing (USD)</th>\n",
              "      <th>Retail (USD)</th>\n",
              "    </tr>\n",
              "  </thead>\n",
              "  <tbody>\n",
              "    <tr>\n",
              "      <th>0</th>\n",
              "      <td>Cupcake</td>\n",
              "      <td>178</td>\n",
              "      <td>5.26</td>\n",
              "      <td>32.54</td>\n",
              "      <td>1.37</td>\n",
              "      <td>1.24</td>\n",
              "      <td>4.50</td>\n",
              "    </tr>\n",
              "    <tr>\n",
              "      <th>1</th>\n",
              "      <td>Donut</td>\n",
              "      <td>190</td>\n",
              "      <td>10.51</td>\n",
              "      <td>21.62</td>\n",
              "      <td>2.62</td>\n",
              "      <td>0.17</td>\n",
              "      <td>0.99</td>\n",
              "    </tr>\n",
              "    <tr>\n",
              "      <th>2</th>\n",
              "      <td>Eclair</td>\n",
              "      <td>267</td>\n",
              "      <td>16.01</td>\n",
              "      <td>24.68</td>\n",
              "      <td>6.53</td>\n",
              "      <td>0.54</td>\n",
              "      <td>2.50</td>\n",
              "    </tr>\n",
              "    <tr>\n",
              "      <th>3</th>\n",
              "      <td>Froyo</td>\n",
              "      <td>214</td>\n",
              "      <td>2.94</td>\n",
              "      <td>39.24</td>\n",
              "      <td>9.40</td>\n",
              "      <td>0.78</td>\n",
              "      <td>3.50</td>\n",
              "    </tr>\n",
              "    <tr>\n",
              "      <th>4</th>\n",
              "      <td>Gingerbread</td>\n",
              "      <td>130</td>\n",
              "      <td>5.00</td>\n",
              "      <td>19.00</td>\n",
              "      <td>2.00</td>\n",
              "      <td>0.45</td>\n",
              "      <td>0.99</td>\n",
              "    </tr>\n",
              "    <tr>\n",
              "      <th>5</th>\n",
              "      <td>Honeycomb</td>\n",
              "      <td>190</td>\n",
              "      <td>13.00</td>\n",
              "      <td>23.00</td>\n",
              "      <td>2.00</td>\n",
              "      <td>1.25</td>\n",
              "      <td>3.00</td>\n",
              "    </tr>\n",
              "    <tr>\n",
              "      <th>6</th>\n",
              "      <td>Ice Cream Sandwich</td>\n",
              "      <td>143</td>\n",
              "      <td>5.60</td>\n",
              "      <td>21.75</td>\n",
              "      <td>2.61</td>\n",
              "      <td>1.21</td>\n",
              "      <td>2.99</td>\n",
              "    </tr>\n",
              "    <tr>\n",
              "      <th>7</th>\n",
              "      <td>Jelly Bean</td>\n",
              "      <td>100</td>\n",
              "      <td>0.00</td>\n",
              "      <td>25.00</td>\n",
              "      <td>0.00</td>\n",
              "      <td>0.04</td>\n",
              "      <td>0.99</td>\n",
              "    </tr>\n",
              "    <tr>\n",
              "      <th>8</th>\n",
              "      <td>KitKat</td>\n",
              "      <td>210</td>\n",
              "      <td>11.00</td>\n",
              "      <td>27.00</td>\n",
              "      <td>3.00</td>\n",
              "      <td>0.33</td>\n",
              "      <td>1.50</td>\n",
              "    </tr>\n",
              "    <tr>\n",
              "      <th>9</th>\n",
              "      <td>Lollipop</td>\n",
              "      <td>110</td>\n",
              "      <td>0.00</td>\n",
              "      <td>28.00</td>\n",
              "      <td>0.00</td>\n",
              "      <td>0.11</td>\n",
              "      <td>1.10</td>\n",
              "    </tr>\n",
              "    <tr>\n",
              "      <th>10</th>\n",
              "      <td>Marshmallow</td>\n",
              "      <td>100</td>\n",
              "      <td>0.00</td>\n",
              "      <td>24.00</td>\n",
              "      <td>1.00</td>\n",
              "      <td>0.03</td>\n",
              "      <td>0.50</td>\n",
              "    </tr>\n",
              "    <tr>\n",
              "      <th>11</th>\n",
              "      <td>Nougat</td>\n",
              "      <td>56</td>\n",
              "      <td>0.23</td>\n",
              "      <td>12.93</td>\n",
              "      <td>0.47</td>\n",
              "      <td>0.75</td>\n",
              "      <td>1.50</td>\n",
              "    </tr>\n",
              "    <tr>\n",
              "      <th>12</th>\n",
              "      <td>Oreo</td>\n",
              "      <td>160</td>\n",
              "      <td>7.00</td>\n",
              "      <td>25.00</td>\n",
              "      <td>1.00</td>\n",
              "      <td>0.78</td>\n",
              "      <td>2.00</td>\n",
              "    </tr>\n",
              "    <tr>\n",
              "      <th>13</th>\n",
              "      <td>Pie</td>\n",
              "      <td>356</td>\n",
              "      <td>16.50</td>\n",
              "      <td>51.00</td>\n",
              "      <td>2.85</td>\n",
              "      <td>0.66</td>\n",
              "      <td>2.25</td>\n",
              "    </tr>\n",
              "  </tbody>\n",
              "</table>\n",
              "</div>"
            ],
            "text/plain": [
              "                  Name  Calories  ...  Manufacturing (USD)  Retail (USD)\n",
              "0              Cupcake       178  ...                 1.24          4.50\n",
              "1                Donut       190  ...                 0.17          0.99\n",
              "2               Eclair       267  ...                 0.54          2.50\n",
              "3                Froyo       214  ...                 0.78          3.50\n",
              "4          Gingerbread       130  ...                 0.45          0.99\n",
              "5            Honeycomb       190  ...                 1.25          3.00\n",
              "6   Ice Cream Sandwich       143  ...                 1.21          2.99\n",
              "7           Jelly Bean       100  ...                 0.04          0.99\n",
              "8               KitKat       210  ...                 0.33          1.50\n",
              "9             Lollipop       110  ...                 0.11          1.10\n",
              "10         Marshmallow       100  ...                 0.03          0.50\n",
              "11              Nougat        56  ...                 0.75          1.50\n",
              "12                Oreo       160  ...                 0.78          2.00\n",
              "13                 Pie       356  ...                 0.66          2.25\n",
              "\n",
              "[14 rows x 7 columns]"
            ]
          },
          "metadata": {
            "tags": []
          },
          "execution_count": 4
        }
      ]
    },
    {
      "cell_type": "markdown",
      "metadata": {
        "id": "BPX3cFqSzf_N"
      },
      "source": [
        "[Pandas](https://pandas.pydata.org) searches for columns with the same name and uses those columns to match rows of data. The result is a single `DataFrame` with columns from the merged `DataFrame` objects."
      ]
    },
    {
      "cell_type": "markdown",
      "metadata": {
        "id": "bBUwl36Lz667"
      },
      "source": [
        "What if we have yet another `DataFrame` that contains the inventory of desserts that we have in stock:"
      ]
    },
    {
      "cell_type": "code",
      "metadata": {
        "id": "WPu2L2zjPIcE",
        "colab": {
          "base_uri": "https://localhost:8080/",
          "height": 175
        },
        "outputId": "988c3b99-a616-41d5-cfce-22d92ecaee67"
      },
      "source": [
        "import pandas as pd\n",
        "\n",
        "inventory_df = pd.DataFrame.from_records((\n",
        "  ('Marshmallow', 1004),\n",
        "  ('Nougat', 563),\n",
        "  ('Oreo', 789),\n",
        "  ('Pie', 33),\n",
        "), columns=('Name', '# In Stock'))\n",
        "\n",
        "inventory_df"
      ],
      "execution_count": null,
      "outputs": [
        {
          "output_type": "execute_result",
          "data": {
            "text/html": [
              "<div>\n",
              "<style scoped>\n",
              "    .dataframe tbody tr th:only-of-type {\n",
              "        vertical-align: middle;\n",
              "    }\n",
              "\n",
              "    .dataframe tbody tr th {\n",
              "        vertical-align: top;\n",
              "    }\n",
              "\n",
              "    .dataframe thead th {\n",
              "        text-align: right;\n",
              "    }\n",
              "</style>\n",
              "<table border=\"1\" class=\"dataframe\">\n",
              "  <thead>\n",
              "    <tr style=\"text-align: right;\">\n",
              "      <th></th>\n",
              "      <th>Name</th>\n",
              "      <th># In Stock</th>\n",
              "    </tr>\n",
              "  </thead>\n",
              "  <tbody>\n",
              "    <tr>\n",
              "      <th>0</th>\n",
              "      <td>Marshmallow</td>\n",
              "      <td>1004</td>\n",
              "    </tr>\n",
              "    <tr>\n",
              "      <th>1</th>\n",
              "      <td>Nougat</td>\n",
              "      <td>563</td>\n",
              "    </tr>\n",
              "    <tr>\n",
              "      <th>2</th>\n",
              "      <td>Oreo</td>\n",
              "      <td>789</td>\n",
              "    </tr>\n",
              "    <tr>\n",
              "      <th>3</th>\n",
              "      <td>Pie</td>\n",
              "      <td>33</td>\n",
              "    </tr>\n",
              "  </tbody>\n",
              "</table>\n",
              "</div>"
            ],
            "text/plain": [
              "          Name  # In Stock\n",
              "0  Marshmallow        1004\n",
              "1       Nougat         563\n",
              "2         Oreo         789\n",
              "3          Pie          33"
            ]
          },
          "metadata": {
            "tags": []
          },
          "execution_count": 5
        }
      ]
    },
    {
      "cell_type": "markdown",
      "metadata": {
        "id": "OkjR0rgT0SGJ"
      },
      "source": [
        "If we want to join our inventory with our cost data to see how much earning potential we have in stock, we can join the `costs_df` with the `inventory_df`:"
      ]
    },
    {
      "cell_type": "code",
      "metadata": {
        "id": "SFLiozsz0j5n",
        "colab": {
          "base_uri": "https://localhost:8080/",
          "height": 175
        },
        "outputId": "1fa3561f-ea08-4089-a5f3-554cf69ade23"
      },
      "source": [
        "pd.merge(costs_df, inventory_df)"
      ],
      "execution_count": null,
      "outputs": [
        {
          "output_type": "execute_result",
          "data": {
            "text/html": [
              "<div>\n",
              "<style scoped>\n",
              "    .dataframe tbody tr th:only-of-type {\n",
              "        vertical-align: middle;\n",
              "    }\n",
              "\n",
              "    .dataframe tbody tr th {\n",
              "        vertical-align: top;\n",
              "    }\n",
              "\n",
              "    .dataframe thead th {\n",
              "        text-align: right;\n",
              "    }\n",
              "</style>\n",
              "<table border=\"1\" class=\"dataframe\">\n",
              "  <thead>\n",
              "    <tr style=\"text-align: right;\">\n",
              "      <th></th>\n",
              "      <th>Name</th>\n",
              "      <th>Manufacturing (USD)</th>\n",
              "      <th>Retail (USD)</th>\n",
              "      <th># In Stock</th>\n",
              "    </tr>\n",
              "  </thead>\n",
              "  <tbody>\n",
              "    <tr>\n",
              "      <th>0</th>\n",
              "      <td>Marshmallow</td>\n",
              "      <td>0.03</td>\n",
              "      <td>0.50</td>\n",
              "      <td>1004</td>\n",
              "    </tr>\n",
              "    <tr>\n",
              "      <th>1</th>\n",
              "      <td>Nougat</td>\n",
              "      <td>0.75</td>\n",
              "      <td>1.50</td>\n",
              "      <td>563</td>\n",
              "    </tr>\n",
              "    <tr>\n",
              "      <th>2</th>\n",
              "      <td>Oreo</td>\n",
              "      <td>0.78</td>\n",
              "      <td>2.00</td>\n",
              "      <td>789</td>\n",
              "    </tr>\n",
              "    <tr>\n",
              "      <th>3</th>\n",
              "      <td>Pie</td>\n",
              "      <td>0.66</td>\n",
              "      <td>2.25</td>\n",
              "      <td>33</td>\n",
              "    </tr>\n",
              "  </tbody>\n",
              "</table>\n",
              "</div>"
            ],
            "text/plain": [
              "          Name  Manufacturing (USD)  Retail (USD)  # In Stock\n",
              "0  Marshmallow                 0.03          0.50        1004\n",
              "1       Nougat                 0.75          1.50         563\n",
              "2         Oreo                 0.78          2.00         789\n",
              "3          Pie                 0.66          2.25          33"
            ]
          },
          "metadata": {
            "tags": []
          },
          "execution_count": 8
        }
      ]
    },
    {
      "cell_type": "markdown",
      "metadata": {
        "id": "AST2N2HAWao_"
      },
      "source": [
        "If we wanted we could then sum up our retail prices multiplied by inventory to see how much gross revenue potential we currently have.\n",
        "\n",
        "Notice that we only have four desserts. What happened?\n",
        "\n",
        "By default when merging `DataFrame` objects only rows that match across `DataFrame` objects are returned. Non-matching rows are filtered out.\n",
        "\n",
        "We can change this by telling `merge` to do an *outer* join. This will keep all of the data in the first `DataFrame` passed to `merge()` and fill in any missing data with null values."
      ]
    },
    {
      "cell_type": "code",
      "metadata": {
        "id": "2eDf58qQ1JNS",
        "colab": {
          "base_uri": "https://localhost:8080/",
          "height": 488
        },
        "outputId": "680c2382-b67a-4ce4-a549-0a2670a394f9"
      },
      "source": [
        "pd.merge(costs_df, inventory_df, how='outer')"
      ],
      "execution_count": null,
      "outputs": [
        {
          "output_type": "execute_result",
          "data": {
            "text/html": [
              "<div>\n",
              "<style scoped>\n",
              "    .dataframe tbody tr th:only-of-type {\n",
              "        vertical-align: middle;\n",
              "    }\n",
              "\n",
              "    .dataframe tbody tr th {\n",
              "        vertical-align: top;\n",
              "    }\n",
              "\n",
              "    .dataframe thead th {\n",
              "        text-align: right;\n",
              "    }\n",
              "</style>\n",
              "<table border=\"1\" class=\"dataframe\">\n",
              "  <thead>\n",
              "    <tr style=\"text-align: right;\">\n",
              "      <th></th>\n",
              "      <th>Name</th>\n",
              "      <th>Manufacturing (USD)</th>\n",
              "      <th>Retail (USD)</th>\n",
              "      <th># In Stock</th>\n",
              "    </tr>\n",
              "  </thead>\n",
              "  <tbody>\n",
              "    <tr>\n",
              "      <th>0</th>\n",
              "      <td>Cupcake</td>\n",
              "      <td>1.24</td>\n",
              "      <td>4.50</td>\n",
              "      <td>NaN</td>\n",
              "    </tr>\n",
              "    <tr>\n",
              "      <th>1</th>\n",
              "      <td>Donut</td>\n",
              "      <td>0.17</td>\n",
              "      <td>0.99</td>\n",
              "      <td>NaN</td>\n",
              "    </tr>\n",
              "    <tr>\n",
              "      <th>2</th>\n",
              "      <td>Eclair</td>\n",
              "      <td>0.54</td>\n",
              "      <td>2.50</td>\n",
              "      <td>NaN</td>\n",
              "    </tr>\n",
              "    <tr>\n",
              "      <th>3</th>\n",
              "      <td>Froyo</td>\n",
              "      <td>0.78</td>\n",
              "      <td>3.50</td>\n",
              "      <td>NaN</td>\n",
              "    </tr>\n",
              "    <tr>\n",
              "      <th>4</th>\n",
              "      <td>Gingerbread</td>\n",
              "      <td>0.45</td>\n",
              "      <td>0.99</td>\n",
              "      <td>NaN</td>\n",
              "    </tr>\n",
              "    <tr>\n",
              "      <th>5</th>\n",
              "      <td>Honeycomb</td>\n",
              "      <td>1.25</td>\n",
              "      <td>3.00</td>\n",
              "      <td>NaN</td>\n",
              "    </tr>\n",
              "    <tr>\n",
              "      <th>6</th>\n",
              "      <td>Ice Cream Sandwich</td>\n",
              "      <td>1.21</td>\n",
              "      <td>2.99</td>\n",
              "      <td>NaN</td>\n",
              "    </tr>\n",
              "    <tr>\n",
              "      <th>7</th>\n",
              "      <td>Jelly Bean</td>\n",
              "      <td>0.04</td>\n",
              "      <td>0.99</td>\n",
              "      <td>NaN</td>\n",
              "    </tr>\n",
              "    <tr>\n",
              "      <th>8</th>\n",
              "      <td>KitKat</td>\n",
              "      <td>0.33</td>\n",
              "      <td>1.50</td>\n",
              "      <td>NaN</td>\n",
              "    </tr>\n",
              "    <tr>\n",
              "      <th>9</th>\n",
              "      <td>Lollipop</td>\n",
              "      <td>0.11</td>\n",
              "      <td>1.10</td>\n",
              "      <td>NaN</td>\n",
              "    </tr>\n",
              "    <tr>\n",
              "      <th>10</th>\n",
              "      <td>Marshmallow</td>\n",
              "      <td>0.03</td>\n",
              "      <td>0.50</td>\n",
              "      <td>1004.0</td>\n",
              "    </tr>\n",
              "    <tr>\n",
              "      <th>11</th>\n",
              "      <td>Nougat</td>\n",
              "      <td>0.75</td>\n",
              "      <td>1.50</td>\n",
              "      <td>563.0</td>\n",
              "    </tr>\n",
              "    <tr>\n",
              "      <th>12</th>\n",
              "      <td>Oreo</td>\n",
              "      <td>0.78</td>\n",
              "      <td>2.00</td>\n",
              "      <td>789.0</td>\n",
              "    </tr>\n",
              "    <tr>\n",
              "      <th>13</th>\n",
              "      <td>Pie</td>\n",
              "      <td>0.66</td>\n",
              "      <td>2.25</td>\n",
              "      <td>33.0</td>\n",
              "    </tr>\n",
              "  </tbody>\n",
              "</table>\n",
              "</div>"
            ],
            "text/plain": [
              "                  Name  Manufacturing (USD)  Retail (USD)  # In Stock\n",
              "0              Cupcake                 1.24          4.50         NaN\n",
              "1                Donut                 0.17          0.99         NaN\n",
              "2               Eclair                 0.54          2.50         NaN\n",
              "3                Froyo                 0.78          3.50         NaN\n",
              "4          Gingerbread                 0.45          0.99         NaN\n",
              "5            Honeycomb                 1.25          3.00         NaN\n",
              "6   Ice Cream Sandwich                 1.21          2.99         NaN\n",
              "7           Jelly Bean                 0.04          0.99         NaN\n",
              "8               KitKat                 0.33          1.50         NaN\n",
              "9             Lollipop                 0.11          1.10         NaN\n",
              "10         Marshmallow                 0.03          0.50      1004.0\n",
              "11              Nougat                 0.75          1.50       563.0\n",
              "12                Oreo                 0.78          2.00       789.0\n",
              "13                 Pie                 0.66          2.25        33.0"
            ]
          },
          "metadata": {
            "tags": []
          },
          "execution_count": 9
        }
      ]
    },
    {
      "cell_type": "markdown",
      "metadata": {
        "id": "9d6GZp8_1c44"
      },
      "source": [
        "There are many options for merging data. You have options available to keep rows in specific `DataFrames`, to use different columns to join on, and much more. Check out the [`merge` documentation](https://pandas.pydata.org/pandas-docs/stable/reference/api/pandas.DataFrame.merge.html) to learn more."
      ]
    },
    {
      "cell_type": "markdown",
      "metadata": {
        "id": "VKfkT-3b11MP"
      },
      "source": [
        "### Exercise 5: Merging `DataFrame` Objects\n",
        "\n",
        "In this exercise we will answer a few questions about our dessert-making operation. In order to answer these questions, you are provided with the `costs_df` `DataFrame`, which contains names of treats and costs related to them.\n",
        "\n",
        "The columns are:\n",
        "  * **Name**: The name of the treat.\n",
        "  * **Manufacturing (USD)**: The cost in United States dollars to create one saleable unit of the treat.\n",
        "  * **Retail (USD)**: The price that one serving of the treat is sold for. "
      ]
    },
    {
      "cell_type": "code",
      "metadata": {
        "id": "f2cyoyBi19km",
        "colab": {
          "base_uri": "https://localhost:8080/",
          "height": 488
        },
        "outputId": "83119d3f-4460-4bab-9c9c-262e49458e40"
      },
      "source": [
        "import pandas as pd\n",
        "\n",
        "costs_df = pd.DataFrame.from_records((\n",
        "  ('Cupcake', 1.24, 4.50),\n",
        "  ('Donut', 0.17, 0.99),\n",
        "  ('Eclair', 0.54, 2.50),\n",
        "  ('Froyo', 0.78, 3.50),\n",
        "  ('Gingerbread', 0.45, 0.99),\n",
        "  ('Honeycomb', 1.25, 3.00),\n",
        "  ('Ice Cream Sandwich', 1.21, 2.99),\n",
        "  ('Jelly Bean', 0.04, 0.99),\n",
        "  ('KitKat', 0.33, 1.50),\n",
        "  ('Lollipop', 0.11, 1.10),\n",
        "  ('Marshmallow', 0.03, 0.50),\n",
        "  ('Nougat', 0.75, 1.50),\n",
        "  ('Oreo', 0.78, 2.00),\n",
        "  ('Pie', 0.66, 2.25),\n",
        "), columns=('Name', 'Manufacturing (USD)', 'Retail (USD)'))\n",
        "\n",
        "costs_df"
      ],
      "execution_count": null,
      "outputs": [
        {
          "output_type": "execute_result",
          "data": {
            "text/html": [
              "<div>\n",
              "<style scoped>\n",
              "    .dataframe tbody tr th:only-of-type {\n",
              "        vertical-align: middle;\n",
              "    }\n",
              "\n",
              "    .dataframe tbody tr th {\n",
              "        vertical-align: top;\n",
              "    }\n",
              "\n",
              "    .dataframe thead th {\n",
              "        text-align: right;\n",
              "    }\n",
              "</style>\n",
              "<table border=\"1\" class=\"dataframe\">\n",
              "  <thead>\n",
              "    <tr style=\"text-align: right;\">\n",
              "      <th></th>\n",
              "      <th>Name</th>\n",
              "      <th>Manufacturing (USD)</th>\n",
              "      <th>Retail (USD)</th>\n",
              "    </tr>\n",
              "  </thead>\n",
              "  <tbody>\n",
              "    <tr>\n",
              "      <th>0</th>\n",
              "      <td>Cupcake</td>\n",
              "      <td>1.24</td>\n",
              "      <td>4.50</td>\n",
              "    </tr>\n",
              "    <tr>\n",
              "      <th>1</th>\n",
              "      <td>Donut</td>\n",
              "      <td>0.17</td>\n",
              "      <td>0.99</td>\n",
              "    </tr>\n",
              "    <tr>\n",
              "      <th>2</th>\n",
              "      <td>Eclair</td>\n",
              "      <td>0.54</td>\n",
              "      <td>2.50</td>\n",
              "    </tr>\n",
              "    <tr>\n",
              "      <th>3</th>\n",
              "      <td>Froyo</td>\n",
              "      <td>0.78</td>\n",
              "      <td>3.50</td>\n",
              "    </tr>\n",
              "    <tr>\n",
              "      <th>4</th>\n",
              "      <td>Gingerbread</td>\n",
              "      <td>0.45</td>\n",
              "      <td>0.99</td>\n",
              "    </tr>\n",
              "    <tr>\n",
              "      <th>5</th>\n",
              "      <td>Honeycomb</td>\n",
              "      <td>1.25</td>\n",
              "      <td>3.00</td>\n",
              "    </tr>\n",
              "    <tr>\n",
              "      <th>6</th>\n",
              "      <td>Ice Cream Sandwich</td>\n",
              "      <td>1.21</td>\n",
              "      <td>2.99</td>\n",
              "    </tr>\n",
              "    <tr>\n",
              "      <th>7</th>\n",
              "      <td>Jelly Bean</td>\n",
              "      <td>0.04</td>\n",
              "      <td>0.99</td>\n",
              "    </tr>\n",
              "    <tr>\n",
              "      <th>8</th>\n",
              "      <td>KitKat</td>\n",
              "      <td>0.33</td>\n",
              "      <td>1.50</td>\n",
              "    </tr>\n",
              "    <tr>\n",
              "      <th>9</th>\n",
              "      <td>Lollipop</td>\n",
              "      <td>0.11</td>\n",
              "      <td>1.10</td>\n",
              "    </tr>\n",
              "    <tr>\n",
              "      <th>10</th>\n",
              "      <td>Marshmallow</td>\n",
              "      <td>0.03</td>\n",
              "      <td>0.50</td>\n",
              "    </tr>\n",
              "    <tr>\n",
              "      <th>11</th>\n",
              "      <td>Nougat</td>\n",
              "      <td>0.75</td>\n",
              "      <td>1.50</td>\n",
              "    </tr>\n",
              "    <tr>\n",
              "      <th>12</th>\n",
              "      <td>Oreo</td>\n",
              "      <td>0.78</td>\n",
              "      <td>2.00</td>\n",
              "    </tr>\n",
              "    <tr>\n",
              "      <th>13</th>\n",
              "      <td>Pie</td>\n",
              "      <td>0.66</td>\n",
              "      <td>2.25</td>\n",
              "    </tr>\n",
              "  </tbody>\n",
              "</table>\n",
              "</div>"
            ],
            "text/plain": [
              "                  Name  Manufacturing (USD)  Retail (USD)\n",
              "0              Cupcake                 1.24          4.50\n",
              "1                Donut                 0.17          0.99\n",
              "2               Eclair                 0.54          2.50\n",
              "3                Froyo                 0.78          3.50\n",
              "4          Gingerbread                 0.45          0.99\n",
              "5            Honeycomb                 1.25          3.00\n",
              "6   Ice Cream Sandwich                 1.21          2.99\n",
              "7           Jelly Bean                 0.04          0.99\n",
              "8               KitKat                 0.33          1.50\n",
              "9             Lollipop                 0.11          1.10\n",
              "10         Marshmallow                 0.03          0.50\n",
              "11              Nougat                 0.75          1.50\n",
              "12                Oreo                 0.78          2.00\n",
              "13                 Pie                 0.66          2.25"
            ]
          },
          "metadata": {
            "tags": []
          },
          "execution_count": 10
        }
      ]
    },
    {
      "cell_type": "markdown",
      "metadata": {
        "id": "rowTBXyvBYSt"
      },
      "source": [
        "The other `DataFrame` that we have at our disposal is the `inventory_df`. This `DataFrame` contains information about how many of each type of treat we have in stock and ready to sell.\n",
        "\n",
        "The columns are:\n",
        "  * **Name**: The name of the treat.\n",
        "  * **# In Stock**: The number of saleable units of the treat that we have.\n",
        "\n",
        "Any treats not in inventory are assumed to be out of stock."
      ]
    },
    {
      "cell_type": "code",
      "metadata": {
        "id": "HzBZ_Id-BxlA",
        "colab": {
          "base_uri": "https://localhost:8080/",
          "height": 175
        },
        "outputId": "2deb6c22-5895-4dad-c3f4-8111e9d2d600"
      },
      "source": [
        "inventory_df = pd.DataFrame.from_records((\n",
        "  ('Marshmallow', 1004),\n",
        "  ('Nougat', 563),\n",
        "  ('Oreo', 789),\n",
        "  ('Pie', 33),\n",
        "), columns=('Name', '# In Stock'))\n",
        "\n",
        "inventory_df"
      ],
      "execution_count": null,
      "outputs": [
        {
          "output_type": "execute_result",
          "data": {
            "text/html": [
              "<div>\n",
              "<style scoped>\n",
              "    .dataframe tbody tr th:only-of-type {\n",
              "        vertical-align: middle;\n",
              "    }\n",
              "\n",
              "    .dataframe tbody tr th {\n",
              "        vertical-align: top;\n",
              "    }\n",
              "\n",
              "    .dataframe thead th {\n",
              "        text-align: right;\n",
              "    }\n",
              "</style>\n",
              "<table border=\"1\" class=\"dataframe\">\n",
              "  <thead>\n",
              "    <tr style=\"text-align: right;\">\n",
              "      <th></th>\n",
              "      <th>Name</th>\n",
              "      <th># In Stock</th>\n",
              "    </tr>\n",
              "  </thead>\n",
              "  <tbody>\n",
              "    <tr>\n",
              "      <th>0</th>\n",
              "      <td>Marshmallow</td>\n",
              "      <td>1004</td>\n",
              "    </tr>\n",
              "    <tr>\n",
              "      <th>1</th>\n",
              "      <td>Nougat</td>\n",
              "      <td>563</td>\n",
              "    </tr>\n",
              "    <tr>\n",
              "      <th>2</th>\n",
              "      <td>Oreo</td>\n",
              "      <td>789</td>\n",
              "    </tr>\n",
              "    <tr>\n",
              "      <th>3</th>\n",
              "      <td>Pie</td>\n",
              "      <td>33</td>\n",
              "    </tr>\n",
              "  </tbody>\n",
              "</table>\n",
              "</div>"
            ],
            "text/plain": [
              "          Name  # In Stock\n",
              "0  Marshmallow        1004\n",
              "1       Nougat         563\n",
              "2         Oreo         789\n",
              "3          Pie          33"
            ]
          },
          "metadata": {
            "tags": []
          },
          "execution_count": 11
        }
      ]
    },
    {
      "cell_type": "markdown",
      "metadata": {
        "id": "jVl-zbWdB_fZ"
      },
      "source": [
        "#### Question 1: Potential Profit\n",
        "\n",
        "For this question we want to determine the potential profit that we can make with the items that we have in stock.\n",
        "\n",
        "> $profit = \\Sigma^{t}_{i=1} n * (r - m)$\n",
        "\n",
        "Where:\n",
        "\n",
        " * `t` is every type of treat in stock\n",
        " * `n` is the number of units of that treat\n",
        " * `r` is the retail price of the treat\n",
        " * `m` are the manufacturing costs for the treat\n",
        "\n",
        "Merge `inventory_df` and `costs_df` to calculate the `potential_profit`. Print out the potential profit."
      ]
    },
    {
      "cell_type": "markdown",
      "metadata": {
        "id": "FbzRwtslDffl"
      },
      "source": [
        "**Student Solution**"
      ]
    },
    {
      "cell_type": "code",
      "metadata": {
        "id": "HdGsNRwEDo6E",
        "colab": {
          "base_uri": "https://localhost:8080/"
        },
        "outputId": "24c41dce-aebf-4478-cdd3-9bfc6a2242c1"
      },
      "source": [
        "# Merge the DataFrame objects\n",
        "dessert_df = pd.merge(costs_df, inventory_df)\n",
        "\n",
        "# Calculate potential profit\n",
        "stock = dessert_df['# In Stock']\n",
        "retail = dessert_df['Retail (USD)']\n",
        "manufactur = dessert_df['Manufacturing (USD)']\n",
        "potential_profit = stock.T @ (retail - manufactur)\n",
        "\n",
        "# Print the potential profit\n",
        "print(\"Potential profit: {}\".format(potential_profit))"
      ],
      "execution_count": null,
      "outputs": [
        {
          "output_type": "stream",
          "text": [
            "Potential profit: 1909.18\n"
          ],
          "name": "stdout"
        }
      ]
    },
    {
      "cell_type": "markdown",
      "metadata": {
        "id": "3iYAPQFmET5i"
      },
      "source": [
        "#### Question 2: Restocking Cost\n",
        "\n",
        "There are only four different treats available for sale. We need to get some more inventory in this shop!\n",
        "\n",
        "In this portion of the exercise we will calculate the total cost to get 100 units of each of the missing treats onto the shelves and ready to sale.\n",
        "\n",
        "The cost is calculated with:\n",
        "\n",
        "> $cost = \\Sigma^{t}_{i=1} 100 * m$\n",
        "\n",
        "Where:\n",
        "\n",
        " * `t` is every type of treat **NOT** in stock\n",
        " * `100` is the number of units of that treat that we'd like to make\n",
        " * `m` are the manufacturing costs for the treat\n",
        "\n",
        "Merge `inventory_df` and `costs_df` to calculate the `cost_to_make`. Print out the cost."
      ]
    },
    {
      "cell_type": "markdown",
      "metadata": {
        "id": "M8Lp0EZKFSem"
      },
      "source": [
        "**Student Solution**"
      ]
    },
    {
      "cell_type": "code",
      "metadata": {
        "id": "fz6X8h3nFUZH",
        "colab": {
          "base_uri": "https://localhost:8080/"
        },
        "outputId": "4180b67e-36c5-42b1-b3fc-b12acc820545"
      },
      "source": [
        "# Merge the DataFrame objects\n",
        "dessert_df = pd.merge(costs_df, inventory_df, how='outer')\n",
        "\n",
        "# Identify the missing desserts\n",
        "missing_dessert_df = dessert_df[dessert_df['# In Stock'].isna()]\n",
        "\n",
        "# Calculate the cost to make 100 of each of the missing treats\n",
        "manufactur = missing_dessert_df['Manufacturing (USD)']\n",
        "cost_to_make = sum(100*manufactur)\n",
        "\n",
        "# Print the cost\n",
        "print(\"Cost: {}\".format(cost_to_make))"
      ],
      "execution_count": null,
      "outputs": [
        {
          "output_type": "stream",
          "text": [
            "Cost: 612.0\n"
          ],
          "name": "stdout"
        }
      ]
    },
    {
      "cell_type": "markdown",
      "metadata": {
        "id": "jBnaj4YXFpPS"
      },
      "source": [
        "---"
      ]
    },
    {
      "cell_type": "markdown",
      "metadata": {
        "id": "3IPzZkHyW8G8"
      },
      "source": [
        "##Sorting"
      ]
    },
    {
      "cell_type": "markdown",
      "metadata": {
        "id": "YShTCy0DXB4o"
      },
      "source": [
        "It is often important to sort data in order to visually examine the data for patterns and anomalies. Luckily this is easy to do in Pandas.\n",
        "\n",
        "To start off, let's build a `DataFrame` to sort. For this example we will use a `DataFrame` containing information about cities, their populations, and the number of airports in-and-around the cities."
      ]
    },
    {
      "cell_type": "code",
      "metadata": {
        "id": "3A50pJfEWlYS",
        "colab": {
          "base_uri": "https://localhost:8080/",
          "height": 269
        },
        "outputId": "7d0844cb-d09d-4cd5-c978-1fc7469e605e"
      },
      "source": [
        "import pandas as pd\n",
        "\n",
        "airport_df = pd.DataFrame.from_records((\n",
        "  ('Atlanta', 498044, 2),\n",
        "  ('Austin', 964254, 2),\n",
        "  ('Kansas City',  491918, 8),\n",
        "  ('New York City', 8398748, 3),\n",
        "  ('Portland', 653115, 1),\n",
        "  ('San Francisco', 883305, 3),\n",
        "  ('Seattle', 744955, 2),\n",
        "), columns=(\"City Name\", \"Population\", \"Airports\"))\n",
        "\n",
        "airport_df"
      ],
      "execution_count": null,
      "outputs": [
        {
          "output_type": "execute_result",
          "data": {
            "text/html": [
              "<div>\n",
              "<style scoped>\n",
              "    .dataframe tbody tr th:only-of-type {\n",
              "        vertical-align: middle;\n",
              "    }\n",
              "\n",
              "    .dataframe tbody tr th {\n",
              "        vertical-align: top;\n",
              "    }\n",
              "\n",
              "    .dataframe thead th {\n",
              "        text-align: right;\n",
              "    }\n",
              "</style>\n",
              "<table border=\"1\" class=\"dataframe\">\n",
              "  <thead>\n",
              "    <tr style=\"text-align: right;\">\n",
              "      <th></th>\n",
              "      <th>City Name</th>\n",
              "      <th>Population</th>\n",
              "      <th>Airports</th>\n",
              "    </tr>\n",
              "  </thead>\n",
              "  <tbody>\n",
              "    <tr>\n",
              "      <th>0</th>\n",
              "      <td>Atlanta</td>\n",
              "      <td>498044</td>\n",
              "      <td>2</td>\n",
              "    </tr>\n",
              "    <tr>\n",
              "      <th>1</th>\n",
              "      <td>Austin</td>\n",
              "      <td>964254</td>\n",
              "      <td>2</td>\n",
              "    </tr>\n",
              "    <tr>\n",
              "      <th>2</th>\n",
              "      <td>Kansas City</td>\n",
              "      <td>491918</td>\n",
              "      <td>8</td>\n",
              "    </tr>\n",
              "    <tr>\n",
              "      <th>3</th>\n",
              "      <td>New York City</td>\n",
              "      <td>8398748</td>\n",
              "      <td>3</td>\n",
              "    </tr>\n",
              "    <tr>\n",
              "      <th>4</th>\n",
              "      <td>Portland</td>\n",
              "      <td>653115</td>\n",
              "      <td>1</td>\n",
              "    </tr>\n",
              "    <tr>\n",
              "      <th>5</th>\n",
              "      <td>San Francisco</td>\n",
              "      <td>883305</td>\n",
              "      <td>3</td>\n",
              "    </tr>\n",
              "    <tr>\n",
              "      <th>6</th>\n",
              "      <td>Seattle</td>\n",
              "      <td>744955</td>\n",
              "      <td>2</td>\n",
              "    </tr>\n",
              "  </tbody>\n",
              "</table>\n",
              "</div>"
            ],
            "text/plain": [
              "       City Name  Population  Airports\n",
              "0        Atlanta      498044         2\n",
              "1         Austin      964254         2\n",
              "2    Kansas City      491918         8\n",
              "3  New York City     8398748         3\n",
              "4       Portland      653115         1\n",
              "5  San Francisco      883305         3\n",
              "6        Seattle      744955         2"
            ]
          },
          "metadata": {
            "tags": []
          },
          "execution_count": 27
        }
      ]
    },
    {
      "cell_type": "markdown",
      "metadata": {
        "id": "DLvx7DVxI4ZG"
      },
      "source": [
        "The data seems to be sorted by `City Name`. If we want to sort the data by `Population` we can use the `sort_values()` method:"
      ]
    },
    {
      "cell_type": "code",
      "metadata": {
        "id": "sZvMTrfEIj8I",
        "colab": {
          "base_uri": "https://localhost:8080/",
          "height": 269
        },
        "outputId": "d836ab9c-4d3d-4bbd-a0f3-faae8e870976"
      },
      "source": [
        "airport_df.sort_values('Population')"
      ],
      "execution_count": null,
      "outputs": [
        {
          "output_type": "execute_result",
          "data": {
            "text/html": [
              "<div>\n",
              "<style scoped>\n",
              "    .dataframe tbody tr th:only-of-type {\n",
              "        vertical-align: middle;\n",
              "    }\n",
              "\n",
              "    .dataframe tbody tr th {\n",
              "        vertical-align: top;\n",
              "    }\n",
              "\n",
              "    .dataframe thead th {\n",
              "        text-align: right;\n",
              "    }\n",
              "</style>\n",
              "<table border=\"1\" class=\"dataframe\">\n",
              "  <thead>\n",
              "    <tr style=\"text-align: right;\">\n",
              "      <th></th>\n",
              "      <th>City Name</th>\n",
              "      <th>Population</th>\n",
              "      <th>Airports</th>\n",
              "    </tr>\n",
              "  </thead>\n",
              "  <tbody>\n",
              "    <tr>\n",
              "      <th>2</th>\n",
              "      <td>Kansas City</td>\n",
              "      <td>491918</td>\n",
              "      <td>8</td>\n",
              "    </tr>\n",
              "    <tr>\n",
              "      <th>0</th>\n",
              "      <td>Atlanta</td>\n",
              "      <td>498044</td>\n",
              "      <td>2</td>\n",
              "    </tr>\n",
              "    <tr>\n",
              "      <th>4</th>\n",
              "      <td>Portland</td>\n",
              "      <td>653115</td>\n",
              "      <td>1</td>\n",
              "    </tr>\n",
              "    <tr>\n",
              "      <th>6</th>\n",
              "      <td>Seattle</td>\n",
              "      <td>744955</td>\n",
              "      <td>2</td>\n",
              "    </tr>\n",
              "    <tr>\n",
              "      <th>5</th>\n",
              "      <td>San Francisco</td>\n",
              "      <td>883305</td>\n",
              "      <td>3</td>\n",
              "    </tr>\n",
              "    <tr>\n",
              "      <th>1</th>\n",
              "      <td>Austin</td>\n",
              "      <td>964254</td>\n",
              "      <td>2</td>\n",
              "    </tr>\n",
              "    <tr>\n",
              "      <th>3</th>\n",
              "      <td>New York City</td>\n",
              "      <td>8398748</td>\n",
              "      <td>3</td>\n",
              "    </tr>\n",
              "  </tbody>\n",
              "</table>\n",
              "</div>"
            ],
            "text/plain": [
              "       City Name  Population  Airports\n",
              "2    Kansas City      491918         8\n",
              "0        Atlanta      498044         2\n",
              "4       Portland      653115         1\n",
              "6        Seattle      744955         2\n",
              "5  San Francisco      883305         3\n",
              "1         Austin      964254         2\n",
              "3  New York City     8398748         3"
            ]
          },
          "metadata": {
            "tags": []
          },
          "execution_count": 30
        }
      ]
    },
    {
      "cell_type": "markdown",
      "metadata": {
        "id": "HZ_hpCdCX0My"
      },
      "source": [
        "We can see that Kansas City is the smallest city in our dataset, and New York City is the largest.\n",
        "\n",
        "If you were thinking, *Why does Kansas City have so many airports?*, good for you!\n",
        "\n",
        "This is one of the benefits we can get from viewing our data in different sorting orders. We can see that the smallest city by population has the largest number of airports. This doesn't seem right.\n",
        "\n",
        "If we were going to be using this dataset for an actual data science project, we would want to investigate this further. We could:\n",
        "\n",
        " * Verify that Kansas City actually does have 8 airports\n",
        " * Verify that a few of the other cities, especially the larger ones, have so few airports\n",
        " * Look into how the data was collected to see if the count for Kansas City was collected differently:\n",
        "   * Does it contain regional airports while others do not?\n",
        "   * What counts as an airport for the city? Farm landing strips? Military bases?\n",
        "   * How close to a city does an airport need to be to be considered an airport for that city?\n",
        "\n",
        "You can probably think of many more questions to ask about the data and how it was collected.\n",
        "\n",
        "When you see something that looks odd in your data, ask questions!"
      ]
    },
    {
      "cell_type": "markdown",
      "metadata": {
        "id": "146W-B21Knnx"
      },
      "source": [
        "For now, let's get back to sorting. What if we wanted to sort by more than one column?\n",
        "\n",
        "For instance, we can sort by the number of airports in a city and then by population:"
      ]
    },
    {
      "cell_type": "code",
      "metadata": {
        "id": "z2p-lwv-K2OY",
        "colab": {
          "base_uri": "https://localhost:8080/",
          "height": 269
        },
        "outputId": "1d02483e-0a8c-4654-b306-110696695852"
      },
      "source": [
        "airport_df.sort_values(['Airports', 'Population'])"
      ],
      "execution_count": null,
      "outputs": [
        {
          "output_type": "execute_result",
          "data": {
            "text/html": [
              "<div>\n",
              "<style scoped>\n",
              "    .dataframe tbody tr th:only-of-type {\n",
              "        vertical-align: middle;\n",
              "    }\n",
              "\n",
              "    .dataframe tbody tr th {\n",
              "        vertical-align: top;\n",
              "    }\n",
              "\n",
              "    .dataframe thead th {\n",
              "        text-align: right;\n",
              "    }\n",
              "</style>\n",
              "<table border=\"1\" class=\"dataframe\">\n",
              "  <thead>\n",
              "    <tr style=\"text-align: right;\">\n",
              "      <th></th>\n",
              "      <th>City Name</th>\n",
              "      <th>Population</th>\n",
              "      <th>Airports</th>\n",
              "    </tr>\n",
              "  </thead>\n",
              "  <tbody>\n",
              "    <tr>\n",
              "      <th>4</th>\n",
              "      <td>Portland</td>\n",
              "      <td>653115</td>\n",
              "      <td>1</td>\n",
              "    </tr>\n",
              "    <tr>\n",
              "      <th>0</th>\n",
              "      <td>Atlanta</td>\n",
              "      <td>498044</td>\n",
              "      <td>2</td>\n",
              "    </tr>\n",
              "    <tr>\n",
              "      <th>6</th>\n",
              "      <td>Seattle</td>\n",
              "      <td>744955</td>\n",
              "      <td>2</td>\n",
              "    </tr>\n",
              "    <tr>\n",
              "      <th>1</th>\n",
              "      <td>Austin</td>\n",
              "      <td>964254</td>\n",
              "      <td>2</td>\n",
              "    </tr>\n",
              "    <tr>\n",
              "      <th>5</th>\n",
              "      <td>San Francisco</td>\n",
              "      <td>883305</td>\n",
              "      <td>3</td>\n",
              "    </tr>\n",
              "    <tr>\n",
              "      <th>3</th>\n",
              "      <td>New York City</td>\n",
              "      <td>8398748</td>\n",
              "      <td>3</td>\n",
              "    </tr>\n",
              "    <tr>\n",
              "      <th>2</th>\n",
              "      <td>Kansas City</td>\n",
              "      <td>491918</td>\n",
              "      <td>8</td>\n",
              "    </tr>\n",
              "  </tbody>\n",
              "</table>\n",
              "</div>"
            ],
            "text/plain": [
              "       City Name  Population  Airports\n",
              "4       Portland      653115         1\n",
              "0        Atlanta      498044         2\n",
              "6        Seattle      744955         2\n",
              "1         Austin      964254         2\n",
              "5  San Francisco      883305         3\n",
              "3  New York City     8398748         3\n",
              "2    Kansas City      491918         8"
            ]
          },
          "metadata": {
            "tags": []
          },
          "execution_count": 31
        }
      ]
    },
    {
      "cell_type": "markdown",
      "metadata": {
        "id": "PQMkNutAK18b"
      },
      "source": [
        "Using this we can now answer questions such as *What is the smallest city with two airports?*\n"
      ]
    },
    {
      "cell_type": "markdown",
      "metadata": {
        "id": "BrmeRDWjLNe6"
      },
      "source": [
        "Notice that although we sorted the `DataFrame`, we didn't actually change the `DataFrame` itself:"
      ]
    },
    {
      "cell_type": "code",
      "metadata": {
        "id": "pc9ErSKyLUbC",
        "colab": {
          "base_uri": "https://localhost:8080/",
          "height": 269
        },
        "outputId": "8d9afa5f-e24b-4f7c-9d97-0775337d85a3"
      },
      "source": [
        "airport_df"
      ],
      "execution_count": null,
      "outputs": [
        {
          "output_type": "execute_result",
          "data": {
            "text/html": [
              "<div>\n",
              "<style scoped>\n",
              "    .dataframe tbody tr th:only-of-type {\n",
              "        vertical-align: middle;\n",
              "    }\n",
              "\n",
              "    .dataframe tbody tr th {\n",
              "        vertical-align: top;\n",
              "    }\n",
              "\n",
              "    .dataframe thead th {\n",
              "        text-align: right;\n",
              "    }\n",
              "</style>\n",
              "<table border=\"1\" class=\"dataframe\">\n",
              "  <thead>\n",
              "    <tr style=\"text-align: right;\">\n",
              "      <th></th>\n",
              "      <th>City Name</th>\n",
              "      <th>Population</th>\n",
              "      <th>Airports</th>\n",
              "    </tr>\n",
              "  </thead>\n",
              "  <tbody>\n",
              "    <tr>\n",
              "      <th>0</th>\n",
              "      <td>Atlanta</td>\n",
              "      <td>498044</td>\n",
              "      <td>2</td>\n",
              "    </tr>\n",
              "    <tr>\n",
              "      <th>1</th>\n",
              "      <td>Austin</td>\n",
              "      <td>964254</td>\n",
              "      <td>2</td>\n",
              "    </tr>\n",
              "    <tr>\n",
              "      <th>2</th>\n",
              "      <td>Kansas City</td>\n",
              "      <td>491918</td>\n",
              "      <td>8</td>\n",
              "    </tr>\n",
              "    <tr>\n",
              "      <th>3</th>\n",
              "      <td>New York City</td>\n",
              "      <td>8398748</td>\n",
              "      <td>3</td>\n",
              "    </tr>\n",
              "    <tr>\n",
              "      <th>4</th>\n",
              "      <td>Portland</td>\n",
              "      <td>653115</td>\n",
              "      <td>1</td>\n",
              "    </tr>\n",
              "    <tr>\n",
              "      <th>5</th>\n",
              "      <td>San Francisco</td>\n",
              "      <td>883305</td>\n",
              "      <td>3</td>\n",
              "    </tr>\n",
              "    <tr>\n",
              "      <th>6</th>\n",
              "      <td>Seattle</td>\n",
              "      <td>744955</td>\n",
              "      <td>2</td>\n",
              "    </tr>\n",
              "  </tbody>\n",
              "</table>\n",
              "</div>"
            ],
            "text/plain": [
              "       City Name  Population  Airports\n",
              "0        Atlanta      498044         2\n",
              "1         Austin      964254         2\n",
              "2    Kansas City      491918         8\n",
              "3  New York City     8398748         3\n",
              "4       Portland      653115         1\n",
              "5  San Francisco      883305         3\n",
              "6        Seattle      744955         2"
            ]
          },
          "metadata": {
            "tags": []
          },
          "execution_count": 32
        }
      ]
    },
    {
      "cell_type": "markdown",
      "metadata": {
        "id": "yURJft1iLT-D"
      },
      "source": [
        "If we do want to save the sort order we can assign the return value of `sort_values()` to another variable:"
      ]
    },
    {
      "cell_type": "code",
      "metadata": {
        "id": "e3hVozogaX3s",
        "colab": {
          "base_uri": "https://localhost:8080/",
          "height": 269
        },
        "outputId": "603d2162-dddc-49b6-bf7c-c432b6fd18ec"
      },
      "source": [
        "sorted_airport_df = airport_df.sort_values(['Airports', 'Population'])\n",
        "\n",
        "sorted_airport_df"
      ],
      "execution_count": null,
      "outputs": [
        {
          "output_type": "execute_result",
          "data": {
            "text/html": [
              "<div>\n",
              "<style scoped>\n",
              "    .dataframe tbody tr th:only-of-type {\n",
              "        vertical-align: middle;\n",
              "    }\n",
              "\n",
              "    .dataframe tbody tr th {\n",
              "        vertical-align: top;\n",
              "    }\n",
              "\n",
              "    .dataframe thead th {\n",
              "        text-align: right;\n",
              "    }\n",
              "</style>\n",
              "<table border=\"1\" class=\"dataframe\">\n",
              "  <thead>\n",
              "    <tr style=\"text-align: right;\">\n",
              "      <th></th>\n",
              "      <th>City Name</th>\n",
              "      <th>Population</th>\n",
              "      <th>Airports</th>\n",
              "    </tr>\n",
              "  </thead>\n",
              "  <tbody>\n",
              "    <tr>\n",
              "      <th>4</th>\n",
              "      <td>Portland</td>\n",
              "      <td>653115</td>\n",
              "      <td>1</td>\n",
              "    </tr>\n",
              "    <tr>\n",
              "      <th>0</th>\n",
              "      <td>Atlanta</td>\n",
              "      <td>498044</td>\n",
              "      <td>2</td>\n",
              "    </tr>\n",
              "    <tr>\n",
              "      <th>6</th>\n",
              "      <td>Seattle</td>\n",
              "      <td>744955</td>\n",
              "      <td>2</td>\n",
              "    </tr>\n",
              "    <tr>\n",
              "      <th>1</th>\n",
              "      <td>Austin</td>\n",
              "      <td>964254</td>\n",
              "      <td>2</td>\n",
              "    </tr>\n",
              "    <tr>\n",
              "      <th>5</th>\n",
              "      <td>San Francisco</td>\n",
              "      <td>883305</td>\n",
              "      <td>3</td>\n",
              "    </tr>\n",
              "    <tr>\n",
              "      <th>3</th>\n",
              "      <td>New York City</td>\n",
              "      <td>8398748</td>\n",
              "      <td>3</td>\n",
              "    </tr>\n",
              "    <tr>\n",
              "      <th>2</th>\n",
              "      <td>Kansas City</td>\n",
              "      <td>491918</td>\n",
              "      <td>8</td>\n",
              "    </tr>\n",
              "  </tbody>\n",
              "</table>\n",
              "</div>"
            ],
            "text/plain": [
              "       City Name  Population  Airports\n",
              "4       Portland      653115         1\n",
              "0        Atlanta      498044         2\n",
              "6        Seattle      744955         2\n",
              "1         Austin      964254         2\n",
              "5  San Francisco      883305         3\n",
              "3  New York City     8398748         3\n",
              "2    Kansas City      491918         8"
            ]
          },
          "metadata": {
            "tags": []
          },
          "execution_count": 33
        }
      ]
    },
    {
      "cell_type": "markdown",
      "metadata": {
        "id": "9ah3Y8joadBz"
      },
      "source": [
        "But this doesn't modify the original `DataFrame`. To do that, use the `inplace` argument:"
      ]
    },
    {
      "cell_type": "code",
      "metadata": {
        "id": "rLbqP39Caj9F",
        "colab": {
          "base_uri": "https://localhost:8080/",
          "height": 269
        },
        "outputId": "b53e10fc-569e-4057-e8ca-bbab31f4b4c7"
      },
      "source": [
        "airport_df.sort_values(['Airports', 'Population'], inplace=True)\n",
        "\n",
        "airport_df"
      ],
      "execution_count": null,
      "outputs": [
        {
          "output_type": "execute_result",
          "data": {
            "text/html": [
              "<div>\n",
              "<style scoped>\n",
              "    .dataframe tbody tr th:only-of-type {\n",
              "        vertical-align: middle;\n",
              "    }\n",
              "\n",
              "    .dataframe tbody tr th {\n",
              "        vertical-align: top;\n",
              "    }\n",
              "\n",
              "    .dataframe thead th {\n",
              "        text-align: right;\n",
              "    }\n",
              "</style>\n",
              "<table border=\"1\" class=\"dataframe\">\n",
              "  <thead>\n",
              "    <tr style=\"text-align: right;\">\n",
              "      <th></th>\n",
              "      <th>City Name</th>\n",
              "      <th>Population</th>\n",
              "      <th>Airports</th>\n",
              "    </tr>\n",
              "  </thead>\n",
              "  <tbody>\n",
              "    <tr>\n",
              "      <th>4</th>\n",
              "      <td>Portland</td>\n",
              "      <td>653115</td>\n",
              "      <td>1</td>\n",
              "    </tr>\n",
              "    <tr>\n",
              "      <th>0</th>\n",
              "      <td>Atlanta</td>\n",
              "      <td>498044</td>\n",
              "      <td>2</td>\n",
              "    </tr>\n",
              "    <tr>\n",
              "      <th>6</th>\n",
              "      <td>Seattle</td>\n",
              "      <td>744955</td>\n",
              "      <td>2</td>\n",
              "    </tr>\n",
              "    <tr>\n",
              "      <th>1</th>\n",
              "      <td>Austin</td>\n",
              "      <td>964254</td>\n",
              "      <td>2</td>\n",
              "    </tr>\n",
              "    <tr>\n",
              "      <th>5</th>\n",
              "      <td>San Francisco</td>\n",
              "      <td>883305</td>\n",
              "      <td>3</td>\n",
              "    </tr>\n",
              "    <tr>\n",
              "      <th>3</th>\n",
              "      <td>New York City</td>\n",
              "      <td>8398748</td>\n",
              "      <td>3</td>\n",
              "    </tr>\n",
              "    <tr>\n",
              "      <th>2</th>\n",
              "      <td>Kansas City</td>\n",
              "      <td>491918</td>\n",
              "      <td>8</td>\n",
              "    </tr>\n",
              "  </tbody>\n",
              "</table>\n",
              "</div>"
            ],
            "text/plain": [
              "       City Name  Population  Airports\n",
              "4       Portland      653115         1\n",
              "0        Atlanta      498044         2\n",
              "6        Seattle      744955         2\n",
              "1         Austin      964254         2\n",
              "5  San Francisco      883305         3\n",
              "3  New York City     8398748         3\n",
              "2    Kansas City      491918         8"
            ]
          },
          "metadata": {
            "tags": []
          },
          "execution_count": 34
        }
      ]
    },
    {
      "cell_type": "markdown",
      "metadata": {
        "id": "d3Nwr9urap49"
      },
      "source": [
        "## References and Copies\n",
        "\n",
        "Both [Python](https://python.org) and [Pandas](https://pandas.pydata.org) strive to hide lower-level programming details from you whenever they can. However, there are some cases where you do have to be aware of how your data is being managed.\n",
        "\n",
        "One place where this often happens is when Pandas is working indirectly with with a `DataFrame`.\n",
        "\n",
        "We'll walk through some examples using the airport data we have seen many times in this lab."
      ]
    },
    {
      "cell_type": "code",
      "metadata": {
        "id": "qmmhdg7mbAcB",
        "colab": {
          "base_uri": "https://localhost:8080/",
          "height": 269
        },
        "outputId": "8a50ab8b-d717-4c6a-df24-474101a80e50"
      },
      "source": [
        "import pandas as pd\n",
        "\n",
        "airport_df = pd.DataFrame.from_records((\n",
        "  ('Atlanta', 498044, 2),\n",
        "  ('Austin', 964254, 2),\n",
        "  ('Kansas City',  491918, 8),\n",
        "  ('New York City', 8398748, 3),\n",
        "  ('Portland', 653115, 1),\n",
        "  ('San Francisco', 883305, 3),\n",
        "  ('Seattle', 744955, 2),\n",
        "), columns=(\"City Name\", \"Population\", \"Airports\"))\n",
        "\n",
        "airport_df"
      ],
      "execution_count": null,
      "outputs": [
        {
          "output_type": "execute_result",
          "data": {
            "text/html": [
              "<div>\n",
              "<style scoped>\n",
              "    .dataframe tbody tr th:only-of-type {\n",
              "        vertical-align: middle;\n",
              "    }\n",
              "\n",
              "    .dataframe tbody tr th {\n",
              "        vertical-align: top;\n",
              "    }\n",
              "\n",
              "    .dataframe thead th {\n",
              "        text-align: right;\n",
              "    }\n",
              "</style>\n",
              "<table border=\"1\" class=\"dataframe\">\n",
              "  <thead>\n",
              "    <tr style=\"text-align: right;\">\n",
              "      <th></th>\n",
              "      <th>City Name</th>\n",
              "      <th>Population</th>\n",
              "      <th>Airports</th>\n",
              "    </tr>\n",
              "  </thead>\n",
              "  <tbody>\n",
              "    <tr>\n",
              "      <th>0</th>\n",
              "      <td>Atlanta</td>\n",
              "      <td>498044</td>\n",
              "      <td>2</td>\n",
              "    </tr>\n",
              "    <tr>\n",
              "      <th>1</th>\n",
              "      <td>Austin</td>\n",
              "      <td>964254</td>\n",
              "      <td>2</td>\n",
              "    </tr>\n",
              "    <tr>\n",
              "      <th>2</th>\n",
              "      <td>Kansas City</td>\n",
              "      <td>491918</td>\n",
              "      <td>8</td>\n",
              "    </tr>\n",
              "    <tr>\n",
              "      <th>3</th>\n",
              "      <td>New York City</td>\n",
              "      <td>8398748</td>\n",
              "      <td>3</td>\n",
              "    </tr>\n",
              "    <tr>\n",
              "      <th>4</th>\n",
              "      <td>Portland</td>\n",
              "      <td>653115</td>\n",
              "      <td>1</td>\n",
              "    </tr>\n",
              "    <tr>\n",
              "      <th>5</th>\n",
              "      <td>San Francisco</td>\n",
              "      <td>883305</td>\n",
              "      <td>3</td>\n",
              "    </tr>\n",
              "    <tr>\n",
              "      <th>6</th>\n",
              "      <td>Seattle</td>\n",
              "      <td>744955</td>\n",
              "      <td>2</td>\n",
              "    </tr>\n",
              "  </tbody>\n",
              "</table>\n",
              "</div>"
            ],
            "text/plain": [
              "       City Name  Population  Airports\n",
              "0        Atlanta      498044         2\n",
              "1         Austin      964254         2\n",
              "2    Kansas City      491918         8\n",
              "3  New York City     8398748         3\n",
              "4       Portland      653115         1\n",
              "5  San Francisco      883305         3\n",
              "6        Seattle      744955         2"
            ]
          },
          "metadata": {
            "tags": []
          },
          "execution_count": 35
        }
      ]
    },
    {
      "cell_type": "markdown",
      "metadata": {
        "id": "oq6aHv2sdmNj"
      },
      "source": [
        "We'll start simple and assign the `airport_df` to another variable, `airport_df2`. We then try to double the number of airports in `airport_df2`.\n",
        "\n",
        "What happens to `airport_df` and `airport_df2`?"
      ]
    },
    {
      "cell_type": "code",
      "metadata": {
        "id": "EbqbCEzFbBsw",
        "colab": {
          "base_uri": "https://localhost:8080/",
          "height": 269
        },
        "outputId": "f09178db-280c-44e5-ab65-d9d32c18228a"
      },
      "source": [
        "airport_df2 = airport_df\n",
        "\n",
        "airport_df2.loc[:, 'Airports'] *= 2\n",
        "\n",
        "airport_df"
      ],
      "execution_count": null,
      "outputs": [
        {
          "output_type": "execute_result",
          "data": {
            "text/html": [
              "<div>\n",
              "<style scoped>\n",
              "    .dataframe tbody tr th:only-of-type {\n",
              "        vertical-align: middle;\n",
              "    }\n",
              "\n",
              "    .dataframe tbody tr th {\n",
              "        vertical-align: top;\n",
              "    }\n",
              "\n",
              "    .dataframe thead th {\n",
              "        text-align: right;\n",
              "    }\n",
              "</style>\n",
              "<table border=\"1\" class=\"dataframe\">\n",
              "  <thead>\n",
              "    <tr style=\"text-align: right;\">\n",
              "      <th></th>\n",
              "      <th>City Name</th>\n",
              "      <th>Population</th>\n",
              "      <th>Airports</th>\n",
              "    </tr>\n",
              "  </thead>\n",
              "  <tbody>\n",
              "    <tr>\n",
              "      <th>0</th>\n",
              "      <td>Atlanta</td>\n",
              "      <td>498044</td>\n",
              "      <td>4</td>\n",
              "    </tr>\n",
              "    <tr>\n",
              "      <th>1</th>\n",
              "      <td>Austin</td>\n",
              "      <td>964254</td>\n",
              "      <td>4</td>\n",
              "    </tr>\n",
              "    <tr>\n",
              "      <th>2</th>\n",
              "      <td>Kansas City</td>\n",
              "      <td>491918</td>\n",
              "      <td>16</td>\n",
              "    </tr>\n",
              "    <tr>\n",
              "      <th>3</th>\n",
              "      <td>New York City</td>\n",
              "      <td>8398748</td>\n",
              "      <td>6</td>\n",
              "    </tr>\n",
              "    <tr>\n",
              "      <th>4</th>\n",
              "      <td>Portland</td>\n",
              "      <td>653115</td>\n",
              "      <td>2</td>\n",
              "    </tr>\n",
              "    <tr>\n",
              "      <th>5</th>\n",
              "      <td>San Francisco</td>\n",
              "      <td>883305</td>\n",
              "      <td>6</td>\n",
              "    </tr>\n",
              "    <tr>\n",
              "      <th>6</th>\n",
              "      <td>Seattle</td>\n",
              "      <td>744955</td>\n",
              "      <td>4</td>\n",
              "    </tr>\n",
              "  </tbody>\n",
              "</table>\n",
              "</div>"
            ],
            "text/plain": [
              "       City Name  Population  Airports\n",
              "0        Atlanta      498044         4\n",
              "1         Austin      964254         4\n",
              "2    Kansas City      491918        16\n",
              "3  New York City     8398748         6\n",
              "4       Portland      653115         2\n",
              "5  San Francisco      883305         6\n",
              "6        Seattle      744955         4"
            ]
          },
          "metadata": {
            "tags": []
          },
          "execution_count": 36
        }
      ]
    },
    {
      "cell_type": "markdown",
      "metadata": {
        "id": "uPoGJwMieOtH"
      },
      "source": [
        "Yikes! When we modified `airport_df2` we also modified `airport_df`.\n",
        "\n",
        "This actually has nothing to do with Pandas, but instead is a case where Python creates a **reference** to our original `DataFrame` instead of a copy.\n",
        "\n",
        "When we assign `airport_df` to `airport_df2` Python just makes `airport_df2` refer to the object that is in `airport_df`. Both refer to the same copy of the data.\n",
        "\n",
        "This is desirable in many cases. Your data might be big. Having many copies can consume a lot of memory and take a lot of time.\n",
        "\n",
        "But sometimes you need to actually copy data. Let's reset our airport `DataFrame` and do just that."
      ]
    },
    {
      "cell_type": "code",
      "metadata": {
        "id": "cwJe0-12bOxI",
        "colab": {
          "base_uri": "https://localhost:8080/",
          "height": 269
        },
        "outputId": "017711ad-8ae0-462a-afcb-4ec12333aa80"
      },
      "source": [
        "import pandas as pd\n",
        "\n",
        "airport_df = pd.DataFrame.from_records((\n",
        "  ('Atlanta', 498044, 2),\n",
        "  ('Austin', 964254, 2),\n",
        "  ('Kansas City',  491918, 8),\n",
        "  ('New York City', 8398748, 3),\n",
        "  ('Portland', 653115, 1),\n",
        "  ('San Francisco', 883305, 3),\n",
        "  ('Seattle', 744955, 2),\n",
        "), columns=(\"City Name\", \"Population\", \"Airports\"))\n",
        "\n",
        "airport_df"
      ],
      "execution_count": null,
      "outputs": [
        {
          "output_type": "execute_result",
          "data": {
            "text/html": [
              "<div>\n",
              "<style scoped>\n",
              "    .dataframe tbody tr th:only-of-type {\n",
              "        vertical-align: middle;\n",
              "    }\n",
              "\n",
              "    .dataframe tbody tr th {\n",
              "        vertical-align: top;\n",
              "    }\n",
              "\n",
              "    .dataframe thead th {\n",
              "        text-align: right;\n",
              "    }\n",
              "</style>\n",
              "<table border=\"1\" class=\"dataframe\">\n",
              "  <thead>\n",
              "    <tr style=\"text-align: right;\">\n",
              "      <th></th>\n",
              "      <th>City Name</th>\n",
              "      <th>Population</th>\n",
              "      <th>Airports</th>\n",
              "    </tr>\n",
              "  </thead>\n",
              "  <tbody>\n",
              "    <tr>\n",
              "      <th>0</th>\n",
              "      <td>Atlanta</td>\n",
              "      <td>498044</td>\n",
              "      <td>2</td>\n",
              "    </tr>\n",
              "    <tr>\n",
              "      <th>1</th>\n",
              "      <td>Austin</td>\n",
              "      <td>964254</td>\n",
              "      <td>2</td>\n",
              "    </tr>\n",
              "    <tr>\n",
              "      <th>2</th>\n",
              "      <td>Kansas City</td>\n",
              "      <td>491918</td>\n",
              "      <td>8</td>\n",
              "    </tr>\n",
              "    <tr>\n",
              "      <th>3</th>\n",
              "      <td>New York City</td>\n",
              "      <td>8398748</td>\n",
              "      <td>3</td>\n",
              "    </tr>\n",
              "    <tr>\n",
              "      <th>4</th>\n",
              "      <td>Portland</td>\n",
              "      <td>653115</td>\n",
              "      <td>1</td>\n",
              "    </tr>\n",
              "    <tr>\n",
              "      <th>5</th>\n",
              "      <td>San Francisco</td>\n",
              "      <td>883305</td>\n",
              "      <td>3</td>\n",
              "    </tr>\n",
              "    <tr>\n",
              "      <th>6</th>\n",
              "      <td>Seattle</td>\n",
              "      <td>744955</td>\n",
              "      <td>2</td>\n",
              "    </tr>\n",
              "  </tbody>\n",
              "</table>\n",
              "</div>"
            ],
            "text/plain": [
              "       City Name  Population  Airports\n",
              "0        Atlanta      498044         2\n",
              "1         Austin      964254         2\n",
              "2    Kansas City      491918         8\n",
              "3  New York City     8398748         3\n",
              "4       Portland      653115         1\n",
              "5  San Francisco      883305         3\n",
              "6        Seattle      744955         2"
            ]
          },
          "metadata": {
            "tags": []
          },
          "execution_count": 45
        }
      ]
    },
    {
      "cell_type": "markdown",
      "metadata": {
        "id": "O6hWyJSVfEQx"
      },
      "source": [
        "To make a copy of a `DataFrame` use the `copy()` method."
      ]
    },
    {
      "cell_type": "code",
      "metadata": {
        "id": "eTQkj4h6bRLw",
        "colab": {
          "base_uri": "https://localhost:8080/",
          "height": 269
        },
        "outputId": "ff969db5-18ac-49b9-95cf-27b814e2dd4b"
      },
      "source": [
        "airport_df2 = airport_df.copy()\n",
        "\n",
        "airport_df2.loc[:, 'Airports'] *= 2\n",
        "\n",
        "airport_df"
      ],
      "execution_count": null,
      "outputs": [
        {
          "output_type": "execute_result",
          "data": {
            "text/html": [
              "<div>\n",
              "<style scoped>\n",
              "    .dataframe tbody tr th:only-of-type {\n",
              "        vertical-align: middle;\n",
              "    }\n",
              "\n",
              "    .dataframe tbody tr th {\n",
              "        vertical-align: top;\n",
              "    }\n",
              "\n",
              "    .dataframe thead th {\n",
              "        text-align: right;\n",
              "    }\n",
              "</style>\n",
              "<table border=\"1\" class=\"dataframe\">\n",
              "  <thead>\n",
              "    <tr style=\"text-align: right;\">\n",
              "      <th></th>\n",
              "      <th>City Name</th>\n",
              "      <th>Population</th>\n",
              "      <th>Airports</th>\n",
              "    </tr>\n",
              "  </thead>\n",
              "  <tbody>\n",
              "    <tr>\n",
              "      <th>0</th>\n",
              "      <td>Atlanta</td>\n",
              "      <td>498044</td>\n",
              "      <td>2</td>\n",
              "    </tr>\n",
              "    <tr>\n",
              "      <th>1</th>\n",
              "      <td>Austin</td>\n",
              "      <td>964254</td>\n",
              "      <td>2</td>\n",
              "    </tr>\n",
              "    <tr>\n",
              "      <th>2</th>\n",
              "      <td>Kansas City</td>\n",
              "      <td>491918</td>\n",
              "      <td>8</td>\n",
              "    </tr>\n",
              "    <tr>\n",
              "      <th>3</th>\n",
              "      <td>New York City</td>\n",
              "      <td>8398748</td>\n",
              "      <td>3</td>\n",
              "    </tr>\n",
              "    <tr>\n",
              "      <th>4</th>\n",
              "      <td>Portland</td>\n",
              "      <td>653115</td>\n",
              "      <td>1</td>\n",
              "    </tr>\n",
              "    <tr>\n",
              "      <th>5</th>\n",
              "      <td>San Francisco</td>\n",
              "      <td>883305</td>\n",
              "      <td>3</td>\n",
              "    </tr>\n",
              "    <tr>\n",
              "      <th>6</th>\n",
              "      <td>Seattle</td>\n",
              "      <td>744955</td>\n",
              "      <td>2</td>\n",
              "    </tr>\n",
              "  </tbody>\n",
              "</table>\n",
              "</div>"
            ],
            "text/plain": [
              "       City Name  Population  Airports\n",
              "0        Atlanta      498044         2\n",
              "1         Austin      964254         2\n",
              "2    Kansas City      491918         8\n",
              "3  New York City     8398748         3\n",
              "4       Portland      653115         1\n",
              "5  San Francisco      883305         3\n",
              "6        Seattle      744955         2"
            ]
          },
          "metadata": {
            "tags": []
          },
          "execution_count": 38
        }
      ]
    },
    {
      "cell_type": "markdown",
      "metadata": {
        "id": "2q4uwv-EfMoX"
      },
      "source": [
        "As you can see, `airport_df` did not change.\n",
        "\n",
        "But you can see below that `airport_df2` did:"
      ]
    },
    {
      "cell_type": "code",
      "metadata": {
        "id": "hjbdPTi5fT-U",
        "colab": {
          "base_uri": "https://localhost:8080/",
          "height": 269
        },
        "outputId": "1b09f21d-9e6d-413e-b557-67014aa53149"
      },
      "source": [
        "airport_df2"
      ],
      "execution_count": null,
      "outputs": [
        {
          "output_type": "execute_result",
          "data": {
            "text/html": [
              "<div>\n",
              "<style scoped>\n",
              "    .dataframe tbody tr th:only-of-type {\n",
              "        vertical-align: middle;\n",
              "    }\n",
              "\n",
              "    .dataframe tbody tr th {\n",
              "        vertical-align: top;\n",
              "    }\n",
              "\n",
              "    .dataframe thead th {\n",
              "        text-align: right;\n",
              "    }\n",
              "</style>\n",
              "<table border=\"1\" class=\"dataframe\">\n",
              "  <thead>\n",
              "    <tr style=\"text-align: right;\">\n",
              "      <th></th>\n",
              "      <th>City Name</th>\n",
              "      <th>Population</th>\n",
              "      <th>Airports</th>\n",
              "    </tr>\n",
              "  </thead>\n",
              "  <tbody>\n",
              "    <tr>\n",
              "      <th>0</th>\n",
              "      <td>Atlanta</td>\n",
              "      <td>498044</td>\n",
              "      <td>4</td>\n",
              "    </tr>\n",
              "    <tr>\n",
              "      <th>1</th>\n",
              "      <td>Austin</td>\n",
              "      <td>964254</td>\n",
              "      <td>4</td>\n",
              "    </tr>\n",
              "    <tr>\n",
              "      <th>2</th>\n",
              "      <td>Kansas City</td>\n",
              "      <td>491918</td>\n",
              "      <td>16</td>\n",
              "    </tr>\n",
              "    <tr>\n",
              "      <th>3</th>\n",
              "      <td>New York City</td>\n",
              "      <td>8398748</td>\n",
              "      <td>6</td>\n",
              "    </tr>\n",
              "    <tr>\n",
              "      <th>4</th>\n",
              "      <td>Portland</td>\n",
              "      <td>653115</td>\n",
              "      <td>2</td>\n",
              "    </tr>\n",
              "    <tr>\n",
              "      <th>5</th>\n",
              "      <td>San Francisco</td>\n",
              "      <td>883305</td>\n",
              "      <td>6</td>\n",
              "    </tr>\n",
              "    <tr>\n",
              "      <th>6</th>\n",
              "      <td>Seattle</td>\n",
              "      <td>744955</td>\n",
              "      <td>4</td>\n",
              "    </tr>\n",
              "  </tbody>\n",
              "</table>\n",
              "</div>"
            ],
            "text/plain": [
              "       City Name  Population  Airports\n",
              "0        Atlanta      498044         4\n",
              "1         Austin      964254         4\n",
              "2    Kansas City      491918        16\n",
              "3  New York City     8398748         6\n",
              "4       Portland      653115         2\n",
              "5  San Francisco      883305         6\n",
              "6        Seattle      744955         4"
            ]
          },
          "metadata": {
            "tags": []
          },
          "execution_count": 39
        }
      ]
    },
    {
      "cell_type": "markdown",
      "metadata": {
        "id": "mHnGs4e6fWL8"
      },
      "source": [
        "Pandas adds an additional level of abstraction called **views**. Views are a way to look at the same data from a different perspective.\n",
        "\n",
        "Let's work through an example using our airport dataset.\n",
        "\n",
        "Say we wanted to filter to only rows with more than two airports:"
      ]
    },
    {
      "cell_type": "code",
      "metadata": {
        "id": "8OBsjMxqgdFt",
        "colab": {
          "base_uri": "https://localhost:8080/",
          "height": 143
        },
        "outputId": "9c7197d9-885c-4277-e121-309c51b08a5d"
      },
      "source": [
        "many_airports_df = airport_df[airport_df['Airports'] > 2]\n",
        "\n",
        "many_airports_df"
      ],
      "execution_count": null,
      "outputs": [
        {
          "output_type": "execute_result",
          "data": {
            "text/html": [
              "<div>\n",
              "<style scoped>\n",
              "    .dataframe tbody tr th:only-of-type {\n",
              "        vertical-align: middle;\n",
              "    }\n",
              "\n",
              "    .dataframe tbody tr th {\n",
              "        vertical-align: top;\n",
              "    }\n",
              "\n",
              "    .dataframe thead th {\n",
              "        text-align: right;\n",
              "    }\n",
              "</style>\n",
              "<table border=\"1\" class=\"dataframe\">\n",
              "  <thead>\n",
              "    <tr style=\"text-align: right;\">\n",
              "      <th></th>\n",
              "      <th>City Name</th>\n",
              "      <th>Population</th>\n",
              "      <th>Airports</th>\n",
              "    </tr>\n",
              "  </thead>\n",
              "  <tbody>\n",
              "    <tr>\n",
              "      <th>2</th>\n",
              "      <td>Kansas City</td>\n",
              "      <td>491918</td>\n",
              "      <td>8</td>\n",
              "    </tr>\n",
              "    <tr>\n",
              "      <th>3</th>\n",
              "      <td>New York City</td>\n",
              "      <td>8398748</td>\n",
              "      <td>3</td>\n",
              "    </tr>\n",
              "    <tr>\n",
              "      <th>5</th>\n",
              "      <td>San Francisco</td>\n",
              "      <td>883305</td>\n",
              "      <td>3</td>\n",
              "    </tr>\n",
              "  </tbody>\n",
              "</table>\n",
              "</div>"
            ],
            "text/plain": [
              "       City Name  Population  Airports\n",
              "2    Kansas City      491918         8\n",
              "3  New York City     8398748         3\n",
              "5  San Francisco      883305         3"
            ]
          },
          "metadata": {
            "tags": []
          },
          "execution_count": 40
        }
      ]
    },
    {
      "cell_type": "markdown",
      "metadata": {
        "id": "HgG6vaRPggtg"
      },
      "source": [
        "What is `many_airports_df`? Is it a new `DataFrame`? Does it only contain three rows of data? Are the rows separate or the same as the rows in `airport_df`? If we modify `many_airports_df` will `airports_df` be modified?\n",
        "\n",
        "Let's try and see:"
      ]
    },
    {
      "cell_type": "code",
      "metadata": {
        "id": "Ujuae9SvbXuz",
        "colab": {
          "base_uri": "https://localhost:8080/",
          "height": 399
        },
        "outputId": "a772b42b-b905-4220-d839-83dc6aa2935e"
      },
      "source": [
        "many_airports_df = airport_df[airport_df['Airports'] > 2]\n",
        "\n",
        "many_airports_df['City Name'] = \\\n",
        "  many_airports_df['City Name'].apply(lambda s: s.upper())\n",
        "\n",
        "airport_df"
      ],
      "execution_count": null,
      "outputs": [
        {
          "output_type": "stream",
          "text": [
            "/usr/local/lib/python3.7/dist-packages/ipykernel_launcher.py:3: SettingWithCopyWarning: \n",
            "A value is trying to be set on a copy of a slice from a DataFrame.\n",
            "Try using .loc[row_indexer,col_indexer] = value instead\n",
            "\n",
            "See the caveats in the documentation: https://pandas.pydata.org/pandas-docs/stable/user_guide/indexing.html#returning-a-view-versus-a-copy\n",
            "  This is separate from the ipykernel package so we can avoid doing imports until\n"
          ],
          "name": "stderr"
        },
        {
          "output_type": "execute_result",
          "data": {
            "text/html": [
              "<div>\n",
              "<style scoped>\n",
              "    .dataframe tbody tr th:only-of-type {\n",
              "        vertical-align: middle;\n",
              "    }\n",
              "\n",
              "    .dataframe tbody tr th {\n",
              "        vertical-align: top;\n",
              "    }\n",
              "\n",
              "    .dataframe thead th {\n",
              "        text-align: right;\n",
              "    }\n",
              "</style>\n",
              "<table border=\"1\" class=\"dataframe\">\n",
              "  <thead>\n",
              "    <tr style=\"text-align: right;\">\n",
              "      <th></th>\n",
              "      <th>City Name</th>\n",
              "      <th>Population</th>\n",
              "      <th>Airports</th>\n",
              "    </tr>\n",
              "  </thead>\n",
              "  <tbody>\n",
              "    <tr>\n",
              "      <th>0</th>\n",
              "      <td>Atlanta</td>\n",
              "      <td>498044</td>\n",
              "      <td>2</td>\n",
              "    </tr>\n",
              "    <tr>\n",
              "      <th>1</th>\n",
              "      <td>Austin</td>\n",
              "      <td>964254</td>\n",
              "      <td>2</td>\n",
              "    </tr>\n",
              "    <tr>\n",
              "      <th>2</th>\n",
              "      <td>Kansas City</td>\n",
              "      <td>491918</td>\n",
              "      <td>8</td>\n",
              "    </tr>\n",
              "    <tr>\n",
              "      <th>3</th>\n",
              "      <td>New York City</td>\n",
              "      <td>8398748</td>\n",
              "      <td>3</td>\n",
              "    </tr>\n",
              "    <tr>\n",
              "      <th>4</th>\n",
              "      <td>Portland</td>\n",
              "      <td>653115</td>\n",
              "      <td>1</td>\n",
              "    </tr>\n",
              "    <tr>\n",
              "      <th>5</th>\n",
              "      <td>San Francisco</td>\n",
              "      <td>883305</td>\n",
              "      <td>3</td>\n",
              "    </tr>\n",
              "    <tr>\n",
              "      <th>6</th>\n",
              "      <td>Seattle</td>\n",
              "      <td>744955</td>\n",
              "      <td>2</td>\n",
              "    </tr>\n",
              "  </tbody>\n",
              "</table>\n",
              "</div>"
            ],
            "text/plain": [
              "       City Name  Population  Airports\n",
              "0        Atlanta      498044         2\n",
              "1         Austin      964254         2\n",
              "2    Kansas City      491918         8\n",
              "3  New York City     8398748         3\n",
              "4       Portland      653115         1\n",
              "5  San Francisco      883305         3\n",
              "6        Seattle      744955         2"
            ]
          },
          "metadata": {
            "tags": []
          },
          "execution_count": 41
        }
      ]
    },
    {
      "cell_type": "markdown",
      "metadata": {
        "id": "z-pXSUKChLOl"
      },
      "source": [
        "We didn't modify `airport_df`, so we must be working with a copy.\n",
        "\n",
        "We did get a warning though:\n",
        "\n",
        "> ```\n",
        "SettingWithCopyWarning: \n",
        "A value is trying to be set on a copy of a slice from a DataFrame.\n",
        "Try using .loc[row_indexer,col_indexer] = value instead\n",
        "```\n",
        "\n",
        "In this case Pandas created a copy of the data, but it was uncertain if we wanted to modify the copy or the original `DataFrame`.\n",
        "\n",
        "Warnings are typically a bad sign. We can get rid of the warning by being explicit about what we want to do.\n",
        "\n",
        "If we want to copy the data into a new `DataFrame`, we can use `.copy()`:"
      ]
    },
    {
      "cell_type": "code",
      "metadata": {
        "id": "0UzzBaIKifSV",
        "colab": {
          "base_uri": "https://localhost:8080/",
          "height": 143
        },
        "outputId": "eaa2be7d-d4d0-4821-feef-e978d7ecb4c7"
      },
      "source": [
        "many_airports_df = airport_df[airport_df['Airports'] > 2].copy()\n",
        "\n",
        "many_airports_df['City Name'] = \\\n",
        "  many_airports_df['City Name'].apply(lambda s: s.upper())\n",
        "\n",
        "many_airports_df"
      ],
      "execution_count": null,
      "outputs": [
        {
          "output_type": "execute_result",
          "data": {
            "text/html": [
              "<div>\n",
              "<style scoped>\n",
              "    .dataframe tbody tr th:only-of-type {\n",
              "        vertical-align: middle;\n",
              "    }\n",
              "\n",
              "    .dataframe tbody tr th {\n",
              "        vertical-align: top;\n",
              "    }\n",
              "\n",
              "    .dataframe thead th {\n",
              "        text-align: right;\n",
              "    }\n",
              "</style>\n",
              "<table border=\"1\" class=\"dataframe\">\n",
              "  <thead>\n",
              "    <tr style=\"text-align: right;\">\n",
              "      <th></th>\n",
              "      <th>City Name</th>\n",
              "      <th>Population</th>\n",
              "      <th>Airports</th>\n",
              "    </tr>\n",
              "  </thead>\n",
              "  <tbody>\n",
              "    <tr>\n",
              "      <th>2</th>\n",
              "      <td>KANSAS CITY</td>\n",
              "      <td>491918</td>\n",
              "      <td>8</td>\n",
              "    </tr>\n",
              "    <tr>\n",
              "      <th>3</th>\n",
              "      <td>NEW YORK CITY</td>\n",
              "      <td>8398748</td>\n",
              "      <td>3</td>\n",
              "    </tr>\n",
              "    <tr>\n",
              "      <th>5</th>\n",
              "      <td>SAN FRANCISCO</td>\n",
              "      <td>883305</td>\n",
              "      <td>3</td>\n",
              "    </tr>\n",
              "  </tbody>\n",
              "</table>\n",
              "</div>"
            ],
            "text/plain": [
              "       City Name  Population  Airports\n",
              "2    KANSAS CITY      491918         8\n",
              "3  NEW YORK CITY     8398748         3\n",
              "5  SAN FRANCISCO      883305         3"
            ]
          },
          "metadata": {
            "tags": []
          },
          "execution_count": 47
        }
      ]
    },
    {
      "cell_type": "markdown",
      "metadata": {
        "id": "70AfR0OmimGt"
      },
      "source": [
        "And if we want to not copy the data and to modify the original we need to index into `airport_df` for the modification:"
      ]
    },
    {
      "cell_type": "code",
      "metadata": {
        "id": "AHqD9SiZbvGn",
        "colab": {
          "base_uri": "https://localhost:8080/",
          "height": 269
        },
        "outputId": "54f9d838-fe4c-4d1d-8011-06b8fda65075"
      },
      "source": [
        "has_many_airports = airport_df['Airports'] > 2\n",
        "\n",
        "airport_df.loc[has_many_airports, 'City Name'] = \\\n",
        "  airport_df.loc[has_many_airports, 'City Name'].apply(lambda s: s.upper())\n",
        "\n",
        "airport_df"
      ],
      "execution_count": null,
      "outputs": [
        {
          "output_type": "execute_result",
          "data": {
            "text/html": [
              "<div>\n",
              "<style scoped>\n",
              "    .dataframe tbody tr th:only-of-type {\n",
              "        vertical-align: middle;\n",
              "    }\n",
              "\n",
              "    .dataframe tbody tr th {\n",
              "        vertical-align: top;\n",
              "    }\n",
              "\n",
              "    .dataframe thead th {\n",
              "        text-align: right;\n",
              "    }\n",
              "</style>\n",
              "<table border=\"1\" class=\"dataframe\">\n",
              "  <thead>\n",
              "    <tr style=\"text-align: right;\">\n",
              "      <th></th>\n",
              "      <th>City Name</th>\n",
              "      <th>Population</th>\n",
              "      <th>Airports</th>\n",
              "    </tr>\n",
              "  </thead>\n",
              "  <tbody>\n",
              "    <tr>\n",
              "      <th>0</th>\n",
              "      <td>Atlanta</td>\n",
              "      <td>498044</td>\n",
              "      <td>2</td>\n",
              "    </tr>\n",
              "    <tr>\n",
              "      <th>1</th>\n",
              "      <td>Austin</td>\n",
              "      <td>964254</td>\n",
              "      <td>2</td>\n",
              "    </tr>\n",
              "    <tr>\n",
              "      <th>2</th>\n",
              "      <td>KANSAS CITY</td>\n",
              "      <td>491918</td>\n",
              "      <td>8</td>\n",
              "    </tr>\n",
              "    <tr>\n",
              "      <th>3</th>\n",
              "      <td>NEW YORK CITY</td>\n",
              "      <td>8398748</td>\n",
              "      <td>3</td>\n",
              "    </tr>\n",
              "    <tr>\n",
              "      <th>4</th>\n",
              "      <td>Portland</td>\n",
              "      <td>653115</td>\n",
              "      <td>1</td>\n",
              "    </tr>\n",
              "    <tr>\n",
              "      <th>5</th>\n",
              "      <td>SAN FRANCISCO</td>\n",
              "      <td>883305</td>\n",
              "      <td>3</td>\n",
              "    </tr>\n",
              "    <tr>\n",
              "      <th>6</th>\n",
              "      <td>Seattle</td>\n",
              "      <td>744955</td>\n",
              "      <td>2</td>\n",
              "    </tr>\n",
              "  </tbody>\n",
              "</table>\n",
              "</div>"
            ],
            "text/plain": [
              "       City Name  Population  Airports\n",
              "0        Atlanta      498044         2\n",
              "1         Austin      964254         2\n",
              "2    KANSAS CITY      491918         8\n",
              "3  NEW YORK CITY     8398748         3\n",
              "4       Portland      653115         1\n",
              "5  SAN FRANCISCO      883305         3\n",
              "6        Seattle      744955         2"
            ]
          },
          "metadata": {
            "tags": []
          },
          "execution_count": 48
        }
      ]
    },
    {
      "cell_type": "markdown",
      "metadata": {
        "id": "vt8vGMYVmA2G"
      },
      "source": [
        "### Exercise 6: Updating Calories\n",
        "\n",
        "We just learned that the calorie count for our candy shop's jelly beans and lollipops is 10% too low. We need to update the calorie count for these two treats.\n",
        "\n",
        "Below you'll find the `nutrition_information_df` which contains nutritional information about our treats. Write some code to increase the calories for 'Jelly Bean' and 'Lollipop' by 10%. Be sure that the data stored in `nutrition_information_df` is updated.\n",
        "\n",
        "Be sure that no warnings are issued!"
      ]
    },
    {
      "cell_type": "markdown",
      "metadata": {
        "id": "vjXxLMR9nord"
      },
      "source": [
        "**Student Solution**"
      ]
    },
    {
      "cell_type": "code",
      "metadata": {
        "id": "3M7wJz3Knw9c",
        "colab": {
          "base_uri": "https://localhost:8080/",
          "height": 488
        },
        "outputId": "f775f176-75e0-49ba-ef4a-70ff7f620ca9"
      },
      "source": [
        "import pandas as pd\n",
        "\n",
        "nutrition_information_df = pd.DataFrame.from_records((\n",
        "      ('Cupcake', 178, 5.26, 32.54, 1.37),\n",
        "      ('Donut', 190, 10.51, 21.62, 2.62),\n",
        "      ('Eclair', 267, 16.01, 24.68, 6.53),\n",
        "      ('Froyo', 214, 2.94, 39.24, 9.4),\n",
        "      ('Gingerbread', 130, 5, 19, 2),\n",
        "      ('Honeycomb', 190, 13, 23, 2),\n",
        "      ('Ice Cream Sandwich', 143, 5.6, 21.75, 2.61),\n",
        "      ('Jelly Bean', 100, 0, 25, 0),\n",
        "      ('KitKat', 210, 11, 27, 3),\n",
        "      ('Lollipop', 110, 0, 28, 0),\n",
        "      ('Marshmallow', 100, 0, 24, 1),\n",
        "      ('Nougat', 56, 0.23, 12.93, 0.47),\n",
        "      ('Oreo', 160, 7, 25, 1),\n",
        "      ('Pie', 356, 16.5, 51, 2.85),\n",
        "), columns=('Name', 'Calories', 'Fat (g)', 'Carbs (g)', 'Protein (g)'))\n",
        "\n",
        "# Update 'Lollipop' and 'Jelly Bean' calories by 10%\n",
        "nutrition_information_df.loc[7, 'Calories'] += 0.1 * nutrition_information_df.loc[7, 'Calories']\n",
        "nutrition_information_df.loc[9, 'Calories'] += 0.1 * nutrition_information_df.loc[9, 'Calories']\n",
        "nutrition_information_df"
      ],
      "execution_count": null,
      "outputs": [
        {
          "output_type": "execute_result",
          "data": {
            "text/html": [
              "<div>\n",
              "<style scoped>\n",
              "    .dataframe tbody tr th:only-of-type {\n",
              "        vertical-align: middle;\n",
              "    }\n",
              "\n",
              "    .dataframe tbody tr th {\n",
              "        vertical-align: top;\n",
              "    }\n",
              "\n",
              "    .dataframe thead th {\n",
              "        text-align: right;\n",
              "    }\n",
              "</style>\n",
              "<table border=\"1\" class=\"dataframe\">\n",
              "  <thead>\n",
              "    <tr style=\"text-align: right;\">\n",
              "      <th></th>\n",
              "      <th>Name</th>\n",
              "      <th>Calories</th>\n",
              "      <th>Fat (g)</th>\n",
              "      <th>Carbs (g)</th>\n",
              "      <th>Protein (g)</th>\n",
              "    </tr>\n",
              "  </thead>\n",
              "  <tbody>\n",
              "    <tr>\n",
              "      <th>0</th>\n",
              "      <td>Cupcake</td>\n",
              "      <td>178.0</td>\n",
              "      <td>5.26</td>\n",
              "      <td>32.54</td>\n",
              "      <td>1.37</td>\n",
              "    </tr>\n",
              "    <tr>\n",
              "      <th>1</th>\n",
              "      <td>Donut</td>\n",
              "      <td>190.0</td>\n",
              "      <td>10.51</td>\n",
              "      <td>21.62</td>\n",
              "      <td>2.62</td>\n",
              "    </tr>\n",
              "    <tr>\n",
              "      <th>2</th>\n",
              "      <td>Eclair</td>\n",
              "      <td>267.0</td>\n",
              "      <td>16.01</td>\n",
              "      <td>24.68</td>\n",
              "      <td>6.53</td>\n",
              "    </tr>\n",
              "    <tr>\n",
              "      <th>3</th>\n",
              "      <td>Froyo</td>\n",
              "      <td>214.0</td>\n",
              "      <td>2.94</td>\n",
              "      <td>39.24</td>\n",
              "      <td>9.40</td>\n",
              "    </tr>\n",
              "    <tr>\n",
              "      <th>4</th>\n",
              "      <td>Gingerbread</td>\n",
              "      <td>130.0</td>\n",
              "      <td>5.00</td>\n",
              "      <td>19.00</td>\n",
              "      <td>2.00</td>\n",
              "    </tr>\n",
              "    <tr>\n",
              "      <th>5</th>\n",
              "      <td>Honeycomb</td>\n",
              "      <td>190.0</td>\n",
              "      <td>13.00</td>\n",
              "      <td>23.00</td>\n",
              "      <td>2.00</td>\n",
              "    </tr>\n",
              "    <tr>\n",
              "      <th>6</th>\n",
              "      <td>Ice Cream Sandwich</td>\n",
              "      <td>143.0</td>\n",
              "      <td>5.60</td>\n",
              "      <td>21.75</td>\n",
              "      <td>2.61</td>\n",
              "    </tr>\n",
              "    <tr>\n",
              "      <th>7</th>\n",
              "      <td>Jelly Bean</td>\n",
              "      <td>110.0</td>\n",
              "      <td>0.00</td>\n",
              "      <td>25.00</td>\n",
              "      <td>0.00</td>\n",
              "    </tr>\n",
              "    <tr>\n",
              "      <th>8</th>\n",
              "      <td>KitKat</td>\n",
              "      <td>210.0</td>\n",
              "      <td>11.00</td>\n",
              "      <td>27.00</td>\n",
              "      <td>3.00</td>\n",
              "    </tr>\n",
              "    <tr>\n",
              "      <th>9</th>\n",
              "      <td>Lollipop</td>\n",
              "      <td>121.0</td>\n",
              "      <td>0.00</td>\n",
              "      <td>28.00</td>\n",
              "      <td>0.00</td>\n",
              "    </tr>\n",
              "    <tr>\n",
              "      <th>10</th>\n",
              "      <td>Marshmallow</td>\n",
              "      <td>100.0</td>\n",
              "      <td>0.00</td>\n",
              "      <td>24.00</td>\n",
              "      <td>1.00</td>\n",
              "    </tr>\n",
              "    <tr>\n",
              "      <th>11</th>\n",
              "      <td>Nougat</td>\n",
              "      <td>56.0</td>\n",
              "      <td>0.23</td>\n",
              "      <td>12.93</td>\n",
              "      <td>0.47</td>\n",
              "    </tr>\n",
              "    <tr>\n",
              "      <th>12</th>\n",
              "      <td>Oreo</td>\n",
              "      <td>160.0</td>\n",
              "      <td>7.00</td>\n",
              "      <td>25.00</td>\n",
              "      <td>1.00</td>\n",
              "    </tr>\n",
              "    <tr>\n",
              "      <th>13</th>\n",
              "      <td>Pie</td>\n",
              "      <td>356.0</td>\n",
              "      <td>16.50</td>\n",
              "      <td>51.00</td>\n",
              "      <td>2.85</td>\n",
              "    </tr>\n",
              "  </tbody>\n",
              "</table>\n",
              "</div>"
            ],
            "text/plain": [
              "                  Name  Calories  Fat (g)  Carbs (g)  Protein (g)\n",
              "0              Cupcake     178.0     5.26      32.54         1.37\n",
              "1                Donut     190.0    10.51      21.62         2.62\n",
              "2               Eclair     267.0    16.01      24.68         6.53\n",
              "3                Froyo     214.0     2.94      39.24         9.40\n",
              "4          Gingerbread     130.0     5.00      19.00         2.00\n",
              "5            Honeycomb     190.0    13.00      23.00         2.00\n",
              "6   Ice Cream Sandwich     143.0     5.60      21.75         2.61\n",
              "7           Jelly Bean     110.0     0.00      25.00         0.00\n",
              "8               KitKat     210.0    11.00      27.00         3.00\n",
              "9             Lollipop     121.0     0.00      28.00         0.00\n",
              "10         Marshmallow     100.0     0.00      24.00         1.00\n",
              "11              Nougat      56.0     0.23      12.93         0.47\n",
              "12                Oreo     160.0     7.00      25.00         1.00\n",
              "13                 Pie     356.0    16.50      51.00         2.85"
            ]
          },
          "metadata": {
            "tags": []
          },
          "execution_count": 53
        }
      ]
    },
    {
      "cell_type": "markdown",
      "metadata": {
        "id": "N4pKePXYn9nI"
      },
      "source": [
        "---"
      ]
    },
    {
      "cell_type": "markdown",
      "metadata": {
        "id": "nFHPt2OWoJM-"
      },
      "source": [
        "## Additional Exercises"
      ]
    },
    {
      "cell_type": "markdown",
      "metadata": {
        "id": "oCeN_IP2Lxac"
      },
      "source": [
        "### Exercise 7: Retail Data\n",
        "\n",
        "You have been hired to organize a small-town retail chain's data and report to them which of their stores have the most effective marketing, measured by how many dollars of merchandise are sold per visitor.\n",
        "\n",
        "To accomplish this you are given access to two tables of data.\n",
        "\n",
        "The first table keeps track of the average daily traffic to each store. We store it in `traffic_df`:"
      ]
    },
    {
      "cell_type": "code",
      "metadata": {
        "id": "3S3N-FlxobsD",
        "colab": {
          "base_uri": "https://localhost:8080/",
          "height": 426
        },
        "outputId": "7817d854-d075-4345-cd0f-abc8d7851736"
      },
      "source": [
        "import pandas as pd\n",
        "\n",
        "traffic_df = pd.DataFrame.from_records((\n",
        "      ('43 Crescent Way', 2036),\n",
        "      ('1001 Main St.', 1399),\n",
        "      ('235 Pear Lane', 1386),\n",
        "      ('199 Forest Way', 1295),\n",
        "      ('703 Grove St.', 1154),\n",
        "      ('55 Orchard Blvd.', 1022),\n",
        "      ('202 Pine Drive', 968),\n",
        "      ('98 Mountain Circle', 730),\n",
        "      ('2136 A St.', 729),\n",
        "      ('3430 17th St.', 504),\n",
        "      ('7766 Ocean Ave.', 452),\n",
        "      ('1797 Albatross Ct.', 316),\n",
        "), columns=('Location', 'Traffic'))\n",
        "\n",
        "traffic_df"
      ],
      "execution_count": null,
      "outputs": [
        {
          "output_type": "execute_result",
          "data": {
            "text/html": [
              "<div>\n",
              "<style scoped>\n",
              "    .dataframe tbody tr th:only-of-type {\n",
              "        vertical-align: middle;\n",
              "    }\n",
              "\n",
              "    .dataframe tbody tr th {\n",
              "        vertical-align: top;\n",
              "    }\n",
              "\n",
              "    .dataframe thead th {\n",
              "        text-align: right;\n",
              "    }\n",
              "</style>\n",
              "<table border=\"1\" class=\"dataframe\">\n",
              "  <thead>\n",
              "    <tr style=\"text-align: right;\">\n",
              "      <th></th>\n",
              "      <th>Location</th>\n",
              "      <th>Traffic</th>\n",
              "    </tr>\n",
              "  </thead>\n",
              "  <tbody>\n",
              "    <tr>\n",
              "      <th>0</th>\n",
              "      <td>43 Crescent Way</td>\n",
              "      <td>2036</td>\n",
              "    </tr>\n",
              "    <tr>\n",
              "      <th>1</th>\n",
              "      <td>1001 Main St.</td>\n",
              "      <td>1399</td>\n",
              "    </tr>\n",
              "    <tr>\n",
              "      <th>2</th>\n",
              "      <td>235 Pear Lane</td>\n",
              "      <td>1386</td>\n",
              "    </tr>\n",
              "    <tr>\n",
              "      <th>3</th>\n",
              "      <td>199 Forest Way</td>\n",
              "      <td>1295</td>\n",
              "    </tr>\n",
              "    <tr>\n",
              "      <th>4</th>\n",
              "      <td>703 Grove St.</td>\n",
              "      <td>1154</td>\n",
              "    </tr>\n",
              "    <tr>\n",
              "      <th>5</th>\n",
              "      <td>55 Orchard Blvd.</td>\n",
              "      <td>1022</td>\n",
              "    </tr>\n",
              "    <tr>\n",
              "      <th>6</th>\n",
              "      <td>202 Pine Drive</td>\n",
              "      <td>968</td>\n",
              "    </tr>\n",
              "    <tr>\n",
              "      <th>7</th>\n",
              "      <td>98 Mountain Circle</td>\n",
              "      <td>730</td>\n",
              "    </tr>\n",
              "    <tr>\n",
              "      <th>8</th>\n",
              "      <td>2136 A St.</td>\n",
              "      <td>729</td>\n",
              "    </tr>\n",
              "    <tr>\n",
              "      <th>9</th>\n",
              "      <td>3430 17th St.</td>\n",
              "      <td>504</td>\n",
              "    </tr>\n",
              "    <tr>\n",
              "      <th>10</th>\n",
              "      <td>7766 Ocean Ave.</td>\n",
              "      <td>452</td>\n",
              "    </tr>\n",
              "    <tr>\n",
              "      <th>11</th>\n",
              "      <td>1797 Albatross Ct.</td>\n",
              "      <td>316</td>\n",
              "    </tr>\n",
              "  </tbody>\n",
              "</table>\n",
              "</div>"
            ],
            "text/plain": [
              "              Location  Traffic\n",
              "0      43 Crescent Way     2036\n",
              "1        1001 Main St.     1399\n",
              "2        235 Pear Lane     1386\n",
              "3       199 Forest Way     1295\n",
              "4        703 Grove St.     1154\n",
              "5     55 Orchard Blvd.     1022\n",
              "6       202 Pine Drive      968\n",
              "7   98 Mountain Circle      730\n",
              "8           2136 A St.      729\n",
              "9        3430 17th St.      504\n",
              "10     7766 Ocean Ave.      452\n",
              "11  1797 Albatross Ct.      316"
            ]
          },
          "metadata": {
            "tags": []
          },
          "execution_count": 54
        }
      ]
    },
    {
      "cell_type": "markdown",
      "metadata": {
        "id": "4VFzPVdstO2c"
      },
      "source": [
        "The second table contains the average revenue from each store. We store in it `locations_df`:"
      ]
    },
    {
      "cell_type": "code",
      "metadata": {
        "id": "TK0oZjtJMyHu",
        "colab": {
          "base_uri": "https://localhost:8080/",
          "height": 426
        },
        "outputId": "65e1c2e7-4b9e-453e-9327-2d78159eb8a7"
      },
      "source": [
        "locations_df = pd.DataFrame.from_records((\n",
        "  ('43 Crescent Way', 6832),\n",
        "  ('55 Orchard Blvd.', 13985),\n",
        "  ('98 Mountain Circle', 3956),\n",
        "  ('199 Forest Way', 572),\n",
        "  ('202 Pine Drive', 3963),\n",
        "  ('235 Pear Lane', 25653),\n",
        "  ('703 Grove St.', 496),\n",
        "  ('1001 Main St.', 38532),\n",
        "  ('1797 Albatross Ct.', 26445),\n",
        "  ('2136 A St.', 34560),\n",
        "  ('3430 17th St.', 1826),\n",
        "  ('7766 Ocean Ave.', 5124),\n",
        "), columns=('Location', 'Revenue'))\n",
        "  \n",
        "locations_df"
      ],
      "execution_count": null,
      "outputs": [
        {
          "output_type": "execute_result",
          "data": {
            "text/html": [
              "<div>\n",
              "<style scoped>\n",
              "    .dataframe tbody tr th:only-of-type {\n",
              "        vertical-align: middle;\n",
              "    }\n",
              "\n",
              "    .dataframe tbody tr th {\n",
              "        vertical-align: top;\n",
              "    }\n",
              "\n",
              "    .dataframe thead th {\n",
              "        text-align: right;\n",
              "    }\n",
              "</style>\n",
              "<table border=\"1\" class=\"dataframe\">\n",
              "  <thead>\n",
              "    <tr style=\"text-align: right;\">\n",
              "      <th></th>\n",
              "      <th>Location</th>\n",
              "      <th>Revenue</th>\n",
              "    </tr>\n",
              "  </thead>\n",
              "  <tbody>\n",
              "    <tr>\n",
              "      <th>0</th>\n",
              "      <td>43 Crescent Way</td>\n",
              "      <td>6832</td>\n",
              "    </tr>\n",
              "    <tr>\n",
              "      <th>1</th>\n",
              "      <td>55 Orchard Blvd.</td>\n",
              "      <td>13985</td>\n",
              "    </tr>\n",
              "    <tr>\n",
              "      <th>2</th>\n",
              "      <td>98 Mountain Circle</td>\n",
              "      <td>3956</td>\n",
              "    </tr>\n",
              "    <tr>\n",
              "      <th>3</th>\n",
              "      <td>199 Forest Way</td>\n",
              "      <td>572</td>\n",
              "    </tr>\n",
              "    <tr>\n",
              "      <th>4</th>\n",
              "      <td>202 Pine Drive</td>\n",
              "      <td>3963</td>\n",
              "    </tr>\n",
              "    <tr>\n",
              "      <th>5</th>\n",
              "      <td>235 Pear Lane</td>\n",
              "      <td>25653</td>\n",
              "    </tr>\n",
              "    <tr>\n",
              "      <th>6</th>\n",
              "      <td>703 Grove St.</td>\n",
              "      <td>496</td>\n",
              "    </tr>\n",
              "    <tr>\n",
              "      <th>7</th>\n",
              "      <td>1001 Main St.</td>\n",
              "      <td>38532</td>\n",
              "    </tr>\n",
              "    <tr>\n",
              "      <th>8</th>\n",
              "      <td>1797 Albatross Ct.</td>\n",
              "      <td>26445</td>\n",
              "    </tr>\n",
              "    <tr>\n",
              "      <th>9</th>\n",
              "      <td>2136 A St.</td>\n",
              "      <td>34560</td>\n",
              "    </tr>\n",
              "    <tr>\n",
              "      <th>10</th>\n",
              "      <td>3430 17th St.</td>\n",
              "      <td>1826</td>\n",
              "    </tr>\n",
              "    <tr>\n",
              "      <th>11</th>\n",
              "      <td>7766 Ocean Ave.</td>\n",
              "      <td>5124</td>\n",
              "    </tr>\n",
              "  </tbody>\n",
              "</table>\n",
              "</div>"
            ],
            "text/plain": [
              "              Location  Revenue\n",
              "0      43 Crescent Way     6832\n",
              "1     55 Orchard Blvd.    13985\n",
              "2   98 Mountain Circle     3956\n",
              "3       199 Forest Way      572\n",
              "4       202 Pine Drive     3963\n",
              "5        235 Pear Lane    25653\n",
              "6        703 Grove St.      496\n",
              "7        1001 Main St.    38532\n",
              "8   1797 Albatross Ct.    26445\n",
              "9           2136 A St.    34560\n",
              "10       3430 17th St.     1826\n",
              "11     7766 Ocean Ave.     5124"
            ]
          },
          "metadata": {
            "tags": []
          },
          "execution_count": 55
        }
      ]
    },
    {
      "cell_type": "markdown",
      "metadata": {
        "id": "Lquj4BgqtalL"
      },
      "source": [
        "Given the two `DataFrame` objects mentioned above, perform the following tasks:\n",
        "\n",
        "1. Merge the two dataframes to create a single dataframe with store names: average daily traffic and average daily revenue. Call this new `DataFrame` `performance_df`.\n",
        "\n",
        "2. Make a new column in `performance_df`, showing the average daily revenue *per customer*. Call the new column 'Revenue per Customer'. Revenue per customer is defined as `rpc = revenue / traffic`.\n",
        "\n",
        "3. Print the 'Location' of the store that has the highest 'Revenue per Customer'."
      ]
    },
    {
      "cell_type": "code",
      "metadata": {
        "id": "jf_tOMgeTclO",
        "colab": {
          "base_uri": "https://localhost:8080/",
          "height": 444
        },
        "outputId": "3519ff5c-7b37-4005-f543-10030b3b10c5"
      },
      "source": [
        "# Part 1: Perform merge\n",
        "performance_df = pd.merge(traffic_df, locations_df)\n",
        "\n",
        "# Part 2: Create column\n",
        "revenue = performance_df['Revenue']\n",
        "traffic = performance_df['Traffic']\n",
        "performance_df['Revenue per Customer'] = revenue / traffic\n",
        "\n",
        "# Part 3: Print location of store with the most revenue per customer\n",
        "performance_df.sort_values('Revenue per Customer', ascending=False, inplace=True)\n",
        "highest = performance_df.iloc[0]\n",
        "print(\"Highest revenue per customer: {}\".format(highest['Location']))\n"
      ],
      "execution_count": null,
      "outputs": [
        {
          "output_type": "stream",
          "text": [
            "Highest revenue per customer: 1797 Albatross Ct.\n"
          ],
          "name": "stdout"
        },
        {
          "output_type": "execute_result",
          "data": {
            "text/html": [
              "<div>\n",
              "<style scoped>\n",
              "    .dataframe tbody tr th:only-of-type {\n",
              "        vertical-align: middle;\n",
              "    }\n",
              "\n",
              "    .dataframe tbody tr th {\n",
              "        vertical-align: top;\n",
              "    }\n",
              "\n",
              "    .dataframe thead th {\n",
              "        text-align: right;\n",
              "    }\n",
              "</style>\n",
              "<table border=\"1\" class=\"dataframe\">\n",
              "  <thead>\n",
              "    <tr style=\"text-align: right;\">\n",
              "      <th></th>\n",
              "      <th>Location</th>\n",
              "      <th>Traffic</th>\n",
              "      <th>Revenue</th>\n",
              "      <th>Revenue per Customer</th>\n",
              "    </tr>\n",
              "  </thead>\n",
              "  <tbody>\n",
              "    <tr>\n",
              "      <th>11</th>\n",
              "      <td>1797 Albatross Ct.</td>\n",
              "      <td>316</td>\n",
              "      <td>26445</td>\n",
              "      <td>83.686709</td>\n",
              "    </tr>\n",
              "    <tr>\n",
              "      <th>8</th>\n",
              "      <td>2136 A St.</td>\n",
              "      <td>729</td>\n",
              "      <td>34560</td>\n",
              "      <td>47.407407</td>\n",
              "    </tr>\n",
              "    <tr>\n",
              "      <th>1</th>\n",
              "      <td>1001 Main St.</td>\n",
              "      <td>1399</td>\n",
              "      <td>38532</td>\n",
              "      <td>27.542530</td>\n",
              "    </tr>\n",
              "    <tr>\n",
              "      <th>2</th>\n",
              "      <td>235 Pear Lane</td>\n",
              "      <td>1386</td>\n",
              "      <td>25653</td>\n",
              "      <td>18.508658</td>\n",
              "    </tr>\n",
              "    <tr>\n",
              "      <th>5</th>\n",
              "      <td>55 Orchard Blvd.</td>\n",
              "      <td>1022</td>\n",
              "      <td>13985</td>\n",
              "      <td>13.683953</td>\n",
              "    </tr>\n",
              "    <tr>\n",
              "      <th>10</th>\n",
              "      <td>7766 Ocean Ave.</td>\n",
              "      <td>452</td>\n",
              "      <td>5124</td>\n",
              "      <td>11.336283</td>\n",
              "    </tr>\n",
              "    <tr>\n",
              "      <th>7</th>\n",
              "      <td>98 Mountain Circle</td>\n",
              "      <td>730</td>\n",
              "      <td>3956</td>\n",
              "      <td>5.419178</td>\n",
              "    </tr>\n",
              "    <tr>\n",
              "      <th>6</th>\n",
              "      <td>202 Pine Drive</td>\n",
              "      <td>968</td>\n",
              "      <td>3963</td>\n",
              "      <td>4.094008</td>\n",
              "    </tr>\n",
              "    <tr>\n",
              "      <th>9</th>\n",
              "      <td>3430 17th St.</td>\n",
              "      <td>504</td>\n",
              "      <td>1826</td>\n",
              "      <td>3.623016</td>\n",
              "    </tr>\n",
              "    <tr>\n",
              "      <th>0</th>\n",
              "      <td>43 Crescent Way</td>\n",
              "      <td>2036</td>\n",
              "      <td>6832</td>\n",
              "      <td>3.355599</td>\n",
              "    </tr>\n",
              "    <tr>\n",
              "      <th>3</th>\n",
              "      <td>199 Forest Way</td>\n",
              "      <td>1295</td>\n",
              "      <td>572</td>\n",
              "      <td>0.441699</td>\n",
              "    </tr>\n",
              "    <tr>\n",
              "      <th>4</th>\n",
              "      <td>703 Grove St.</td>\n",
              "      <td>1154</td>\n",
              "      <td>496</td>\n",
              "      <td>0.429809</td>\n",
              "    </tr>\n",
              "  </tbody>\n",
              "</table>\n",
              "</div>"
            ],
            "text/plain": [
              "              Location  Traffic  Revenue  Revenue per Customer\n",
              "11  1797 Albatross Ct.      316    26445             83.686709\n",
              "8           2136 A St.      729    34560             47.407407\n",
              "1        1001 Main St.     1399    38532             27.542530\n",
              "2        235 Pear Lane     1386    25653             18.508658\n",
              "5     55 Orchard Blvd.     1022    13985             13.683953\n",
              "10     7766 Ocean Ave.      452     5124             11.336283\n",
              "7   98 Mountain Circle      730     3956              5.419178\n",
              "6       202 Pine Drive      968     3963              4.094008\n",
              "9        3430 17th St.      504     1826              3.623016\n",
              "0      43 Crescent Way     2036     6832              3.355599\n",
              "3       199 Forest Way     1295      572              0.441699\n",
              "4        703 Grove St.     1154      496              0.429809"
            ]
          },
          "metadata": {
            "tags": []
          },
          "execution_count": 69
        }
      ]
    },
    {
      "cell_type": "markdown",
      "metadata": {
        "id": "-Fo9th7owvCP"
      },
      "source": [
        "---"
      ]
    }
  ]
}