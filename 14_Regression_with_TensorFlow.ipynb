{
  "nbformat": 4,
  "nbformat_minor": 0,
  "metadata": {
    "colab": {
      "name": "#14-Regression with TensorFlow.ipynb",
      "provenance": [],
      "collapsed_sections": [
        "copyright",
        "5fsbamUAVuCP",
        "0o3jHPj9llA8",
        "s9hGTw7O6Mtu"
      ],
      "toc_visible": true,
      "include_colab_link": true
    },
    "kernelspec": {
      "display_name": "Python 3",
      "name": "python3"
    }
  },
  "cells": [
    {
      "cell_type": "markdown",
      "metadata": {
        "id": "view-in-github",
        "colab_type": "text"
      },
      "source": [
        "<a href=\"https://colab.research.google.com/github/alfianAH/ml-resource/blob/main/14_Regression_with_TensorFlow.ipynb\" target=\"_parent\"><img src=\"https://colab.research.google.com/assets/colab-badge.svg\" alt=\"Open In Colab\"/></a>"
      ]
    },
    {
      "cell_type": "markdown",
      "metadata": {
        "id": "copyright"
      },
      "source": [
        "#### Copyright 2020 Google LLC."
      ]
    },
    {
      "cell_type": "code",
      "metadata": {
        "cellView": "both",
        "id": "hMqWDc_m6rUC"
      },
      "source": [
        "# Licensed under the Apache License, Version 2.0 (the \"License\");\n",
        "# you may not use this file except in compliance with the License.\n",
        "# You may obtain a copy of the License at\n",
        "#\n",
        "# https://www.apache.org/licenses/LICENSE-2.0\n",
        "#\n",
        "# Unless required by applicable law or agreed to in writing, software\n",
        "# distributed under the License is distributed on an \"AS IS\" BASIS,\n",
        "# WITHOUT WARRANTIES OR CONDITIONS OF ANY KIND, either express or implied.\n",
        "# See the License for the specific language governing permissions and\n",
        "# limitations under the License."
      ],
      "execution_count": null,
      "outputs": []
    },
    {
      "cell_type": "markdown",
      "metadata": {
        "id": "c2hPzRb6j_CA"
      },
      "source": [
        "# Regression with TensorFlow"
      ]
    },
    {
      "cell_type": "markdown",
      "metadata": {
        "id": "9x88D_U-4oTH"
      },
      "source": [
        "We have trained a linear regression model in TensorFlow and used it to predict housing prices. However, the model didn't perform as well as we would have liked it to. In this lab, we will build a neural network to try to tackle the same regression problem and see if we can get better results."
      ]
    },
    {
      "cell_type": "markdown",
      "metadata": {
        "id": "6AaBjI9hmqnT"
      },
      "source": [
        "## Loading and Preparing the Data"
      ]
    },
    {
      "cell_type": "markdown",
      "metadata": {
        "id": "4f3CKqFUqL2-"
      },
      "source": [
        "The dataset we'll use for this Colab contains California housing information taken from the 1990 census data. We explored this data in a previous lab, so we won't do an analysis here. As a reminder, the documentation for the dataset can be found [on Kaggle](https://www.kaggle.com/camnugent/california-housing-prices)."
      ]
    },
    {
      "cell_type": "markdown",
      "metadata": {
        "id": "MxiIKhP4E2Zr"
      },
      "source": [
        "Upload your `kaggle.json` file and run the code block below."
      ]
    },
    {
      "cell_type": "code",
      "metadata": {
        "id": "tkRBt4c813MP",
        "colab": {
          "base_uri": "https://localhost:8080/"
        },
        "outputId": "e8ada50c-1bf7-4513-81f3-54c1bf916cd4"
      },
      "source": [
        "! chmod 600 kaggle.json && (ls ~/.kaggle 2>/dev/null || mkdir ~/.kaggle) && mv kaggle.json ~/.kaggle/ && echo 'Done'"
      ],
      "execution_count": null,
      "outputs": [
        {
          "output_type": "stream",
          "text": [
            "chmod: cannot access 'kaggle.json': No such file or directory\n"
          ],
          "name": "stdout"
        }
      ]
    },
    {
      "cell_type": "markdown",
      "metadata": {
        "id": "WdltN0vY18H_"
      },
      "source": [
        "Once you are done, use the `kaggle` command to download the file into the lab."
      ]
    },
    {
      "cell_type": "code",
      "metadata": {
        "id": "wt4pCnny2Am2",
        "colab": {
          "base_uri": "https://localhost:8080/"
        },
        "outputId": "b535e8ed-9b37-492b-9964-ea3a97719565"
      },
      "source": [
        "!kaggle datasets download camnugent/california-housing-prices\n",
        "!ls"
      ],
      "execution_count": null,
      "outputs": [
        {
          "output_type": "stream",
          "text": [
            "california-housing-prices.zip: Skipping, found more recently modified local copy (use --force to force download)\n",
            "california-housing-prices.zip  sample_data\n"
          ],
          "name": "stdout"
        }
      ]
    },
    {
      "cell_type": "markdown",
      "metadata": {
        "id": "5aJqOuak2FCs"
      },
      "source": [
        "We now have a file called `california-housing-prices.zip` that we can load into a `DataFrame`."
      ]
    },
    {
      "cell_type": "code",
      "metadata": {
        "id": "9ivCDWnwE2Zx",
        "colab": {
          "base_uri": "https://localhost:8080/",
          "height": 444
        },
        "outputId": "5c6ac849-f55e-47ee-b13e-6ff787879981"
      },
      "source": [
        "import pandas as pd\n",
        "\n",
        "housing_df = pd.read_csv('california-housing-prices.zip')\n",
        "\n",
        "housing_df"
      ],
      "execution_count": null,
      "outputs": [
        {
          "output_type": "execute_result",
          "data": {
            "text/html": [
              "<div>\n",
              "<style scoped>\n",
              "    .dataframe tbody tr th:only-of-type {\n",
              "        vertical-align: middle;\n",
              "    }\n",
              "\n",
              "    .dataframe tbody tr th {\n",
              "        vertical-align: top;\n",
              "    }\n",
              "\n",
              "    .dataframe thead th {\n",
              "        text-align: right;\n",
              "    }\n",
              "</style>\n",
              "<table border=\"1\" class=\"dataframe\">\n",
              "  <thead>\n",
              "    <tr style=\"text-align: right;\">\n",
              "      <th></th>\n",
              "      <th>longitude</th>\n",
              "      <th>latitude</th>\n",
              "      <th>housing_median_age</th>\n",
              "      <th>total_rooms</th>\n",
              "      <th>total_bedrooms</th>\n",
              "      <th>population</th>\n",
              "      <th>households</th>\n",
              "      <th>median_income</th>\n",
              "      <th>median_house_value</th>\n",
              "      <th>ocean_proximity</th>\n",
              "    </tr>\n",
              "  </thead>\n",
              "  <tbody>\n",
              "    <tr>\n",
              "      <th>0</th>\n",
              "      <td>-122.23</td>\n",
              "      <td>37.88</td>\n",
              "      <td>41.0</td>\n",
              "      <td>880.0</td>\n",
              "      <td>129.0</td>\n",
              "      <td>322.0</td>\n",
              "      <td>126.0</td>\n",
              "      <td>8.3252</td>\n",
              "      <td>452600.0</td>\n",
              "      <td>NEAR BAY</td>\n",
              "    </tr>\n",
              "    <tr>\n",
              "      <th>1</th>\n",
              "      <td>-122.22</td>\n",
              "      <td>37.86</td>\n",
              "      <td>21.0</td>\n",
              "      <td>7099.0</td>\n",
              "      <td>1106.0</td>\n",
              "      <td>2401.0</td>\n",
              "      <td>1138.0</td>\n",
              "      <td>8.3014</td>\n",
              "      <td>358500.0</td>\n",
              "      <td>NEAR BAY</td>\n",
              "    </tr>\n",
              "    <tr>\n",
              "      <th>2</th>\n",
              "      <td>-122.24</td>\n",
              "      <td>37.85</td>\n",
              "      <td>52.0</td>\n",
              "      <td>1467.0</td>\n",
              "      <td>190.0</td>\n",
              "      <td>496.0</td>\n",
              "      <td>177.0</td>\n",
              "      <td>7.2574</td>\n",
              "      <td>352100.0</td>\n",
              "      <td>NEAR BAY</td>\n",
              "    </tr>\n",
              "    <tr>\n",
              "      <th>3</th>\n",
              "      <td>-122.25</td>\n",
              "      <td>37.85</td>\n",
              "      <td>52.0</td>\n",
              "      <td>1274.0</td>\n",
              "      <td>235.0</td>\n",
              "      <td>558.0</td>\n",
              "      <td>219.0</td>\n",
              "      <td>5.6431</td>\n",
              "      <td>341300.0</td>\n",
              "      <td>NEAR BAY</td>\n",
              "    </tr>\n",
              "    <tr>\n",
              "      <th>4</th>\n",
              "      <td>-122.25</td>\n",
              "      <td>37.85</td>\n",
              "      <td>52.0</td>\n",
              "      <td>1627.0</td>\n",
              "      <td>280.0</td>\n",
              "      <td>565.0</td>\n",
              "      <td>259.0</td>\n",
              "      <td>3.8462</td>\n",
              "      <td>342200.0</td>\n",
              "      <td>NEAR BAY</td>\n",
              "    </tr>\n",
              "    <tr>\n",
              "      <th>...</th>\n",
              "      <td>...</td>\n",
              "      <td>...</td>\n",
              "      <td>...</td>\n",
              "      <td>...</td>\n",
              "      <td>...</td>\n",
              "      <td>...</td>\n",
              "      <td>...</td>\n",
              "      <td>...</td>\n",
              "      <td>...</td>\n",
              "      <td>...</td>\n",
              "    </tr>\n",
              "    <tr>\n",
              "      <th>20635</th>\n",
              "      <td>-121.09</td>\n",
              "      <td>39.48</td>\n",
              "      <td>25.0</td>\n",
              "      <td>1665.0</td>\n",
              "      <td>374.0</td>\n",
              "      <td>845.0</td>\n",
              "      <td>330.0</td>\n",
              "      <td>1.5603</td>\n",
              "      <td>78100.0</td>\n",
              "      <td>INLAND</td>\n",
              "    </tr>\n",
              "    <tr>\n",
              "      <th>20636</th>\n",
              "      <td>-121.21</td>\n",
              "      <td>39.49</td>\n",
              "      <td>18.0</td>\n",
              "      <td>697.0</td>\n",
              "      <td>150.0</td>\n",
              "      <td>356.0</td>\n",
              "      <td>114.0</td>\n",
              "      <td>2.5568</td>\n",
              "      <td>77100.0</td>\n",
              "      <td>INLAND</td>\n",
              "    </tr>\n",
              "    <tr>\n",
              "      <th>20637</th>\n",
              "      <td>-121.22</td>\n",
              "      <td>39.43</td>\n",
              "      <td>17.0</td>\n",
              "      <td>2254.0</td>\n",
              "      <td>485.0</td>\n",
              "      <td>1007.0</td>\n",
              "      <td>433.0</td>\n",
              "      <td>1.7000</td>\n",
              "      <td>92300.0</td>\n",
              "      <td>INLAND</td>\n",
              "    </tr>\n",
              "    <tr>\n",
              "      <th>20638</th>\n",
              "      <td>-121.32</td>\n",
              "      <td>39.43</td>\n",
              "      <td>18.0</td>\n",
              "      <td>1860.0</td>\n",
              "      <td>409.0</td>\n",
              "      <td>741.0</td>\n",
              "      <td>349.0</td>\n",
              "      <td>1.8672</td>\n",
              "      <td>84700.0</td>\n",
              "      <td>INLAND</td>\n",
              "    </tr>\n",
              "    <tr>\n",
              "      <th>20639</th>\n",
              "      <td>-121.24</td>\n",
              "      <td>39.37</td>\n",
              "      <td>16.0</td>\n",
              "      <td>2785.0</td>\n",
              "      <td>616.0</td>\n",
              "      <td>1387.0</td>\n",
              "      <td>530.0</td>\n",
              "      <td>2.3886</td>\n",
              "      <td>89400.0</td>\n",
              "      <td>INLAND</td>\n",
              "    </tr>\n",
              "  </tbody>\n",
              "</table>\n",
              "<p>20640 rows × 10 columns</p>\n",
              "</div>"
            ],
            "text/plain": [
              "       longitude  latitude  ...  median_house_value  ocean_proximity\n",
              "0        -122.23     37.88  ...            452600.0         NEAR BAY\n",
              "1        -122.22     37.86  ...            358500.0         NEAR BAY\n",
              "2        -122.24     37.85  ...            352100.0         NEAR BAY\n",
              "3        -122.25     37.85  ...            341300.0         NEAR BAY\n",
              "4        -122.25     37.85  ...            342200.0         NEAR BAY\n",
              "...          ...       ...  ...                 ...              ...\n",
              "20635    -121.09     39.48  ...             78100.0           INLAND\n",
              "20636    -121.21     39.49  ...             77100.0           INLAND\n",
              "20637    -121.22     39.43  ...             92300.0           INLAND\n",
              "20638    -121.32     39.43  ...             84700.0           INLAND\n",
              "20639    -121.24     39.37  ...             89400.0           INLAND\n",
              "\n",
              "[20640 rows x 10 columns]"
            ]
          },
          "metadata": {
            "tags": []
          },
          "execution_count": 26
        }
      ]
    },
    {
      "cell_type": "markdown",
      "metadata": {
        "id": "KI9ElSbPje6j"
      },
      "source": [
        "Next we can define which columns are features and which is the target.\n",
        "\n",
        "We'll also make a separate list of our numeric columns."
      ]
    },
    {
      "cell_type": "code",
      "metadata": {
        "id": "wTjb8Gn-92v2",
        "colab": {
          "base_uri": "https://localhost:8080/"
        },
        "outputId": "2c474474-6417-4b3f-8a97-c3938170ac96"
      },
      "source": [
        "target_column = 'median_house_value'\n",
        "feature_columns = [c for c in housing_df.columns if c != target_column]\n",
        "numeric_feature_columns = [c for c in feature_columns if c != 'ocean_proximity']\n",
        "\n",
        "target_column, feature_columns, numeric_feature_columns"
      ],
      "execution_count": null,
      "outputs": [
        {
          "output_type": "execute_result",
          "data": {
            "text/plain": [
              "('median_house_value',\n",
              " ['longitude',\n",
              "  'latitude',\n",
              "  'housing_median_age',\n",
              "  'total_rooms',\n",
              "  'total_bedrooms',\n",
              "  'population',\n",
              "  'households',\n",
              "  'median_income',\n",
              "  'ocean_proximity'],\n",
              " ['longitude',\n",
              "  'latitude',\n",
              "  'housing_median_age',\n",
              "  'total_rooms',\n",
              "  'total_bedrooms',\n",
              "  'population',\n",
              "  'households',\n",
              "  'median_income'])"
            ]
          },
          "metadata": {
            "tags": []
          },
          "execution_count": 27
        }
      ]
    },
    {
      "cell_type": "markdown",
      "metadata": {
        "id": "wrOyGuN_k74i"
      },
      "source": [
        "We also reduced the value of our targets by a factor in the previous lab. This reduction in magnitude was done to help the model train faster. Let's do that again."
      ]
    },
    {
      "cell_type": "code",
      "metadata": {
        "id": "1RkwE7QGlAjG",
        "colab": {
          "base_uri": "https://localhost:8080/"
        },
        "outputId": "c0fa6c85-774b-4d24-e32f-6107207ebc66"
      },
      "source": [
        "TARGET_FACTOR = 100000\n",
        "\n",
        "housing_df[target_column] /= TARGET_FACTOR\n",
        "\n",
        "housing_df[target_column].describe()"
      ],
      "execution_count": null,
      "outputs": [
        {
          "output_type": "execute_result",
          "data": {
            "text/plain": [
              "count    20640.000000\n",
              "mean         2.068558\n",
              "std          1.153956\n",
              "min          0.149990\n",
              "25%          1.196000\n",
              "50%          1.797000\n",
              "75%          2.647250\n",
              "max          5.000010\n",
              "Name: median_house_value, dtype: float64"
            ]
          },
          "metadata": {
            "tags": []
          },
          "execution_count": 28
        }
      ]
    },
    {
      "cell_type": "markdown",
      "metadata": {
        "id": "EzTdkcVS2ZCk"
      },
      "source": [
        "And we filled in some missing `total_bedrooms` values."
      ]
    },
    {
      "cell_type": "code",
      "metadata": {
        "id": "LByQBpsy2b--",
        "colab": {
          "base_uri": "https://localhost:8080/",
          "height": 320
        },
        "outputId": "e420f15c-8fba-4608-c79d-6e5ef524ef14"
      },
      "source": [
        "has_all_data = housing_df[~housing_df['total_bedrooms'].isna()]\n",
        "\n",
        "sums = has_all_data[['total_bedrooms', 'total_rooms']].sum().tolist()\n",
        "\n",
        "bedrooms_to_total_rooms_ratio = sums[0] / sums[1]\n",
        "\n",
        "missing_total_bedrooms_idx = housing_df['total_bedrooms'].isna()\n",
        "\n",
        "housing_df.loc[missing_total_bedrooms_idx, 'total_bedrooms'] = housing_df[\n",
        "    missing_total_bedrooms_idx]['total_rooms'] * bedrooms_to_total_rooms_ratio\n",
        "\n",
        "housing_df.describe()"
      ],
      "execution_count": null,
      "outputs": [
        {
          "output_type": "execute_result",
          "data": {
            "text/html": [
              "<div>\n",
              "<style scoped>\n",
              "    .dataframe tbody tr th:only-of-type {\n",
              "        vertical-align: middle;\n",
              "    }\n",
              "\n",
              "    .dataframe tbody tr th {\n",
              "        vertical-align: top;\n",
              "    }\n",
              "\n",
              "    .dataframe thead th {\n",
              "        text-align: right;\n",
              "    }\n",
              "</style>\n",
              "<table border=\"1\" class=\"dataframe\">\n",
              "  <thead>\n",
              "    <tr style=\"text-align: right;\">\n",
              "      <th></th>\n",
              "      <th>longitude</th>\n",
              "      <th>latitude</th>\n",
              "      <th>housing_median_age</th>\n",
              "      <th>total_rooms</th>\n",
              "      <th>total_bedrooms</th>\n",
              "      <th>population</th>\n",
              "      <th>households</th>\n",
              "      <th>median_income</th>\n",
              "      <th>median_house_value</th>\n",
              "    </tr>\n",
              "  </thead>\n",
              "  <tbody>\n",
              "    <tr>\n",
              "      <th>count</th>\n",
              "      <td>20640.000000</td>\n",
              "      <td>20640.000000</td>\n",
              "      <td>20640.000000</td>\n",
              "      <td>20640.000000</td>\n",
              "      <td>20640.000000</td>\n",
              "      <td>20640.000000</td>\n",
              "      <td>20640.000000</td>\n",
              "      <td>20640.000000</td>\n",
              "      <td>20640.000000</td>\n",
              "    </tr>\n",
              "    <tr>\n",
              "      <th>mean</th>\n",
              "      <td>-119.569704</td>\n",
              "      <td>35.631861</td>\n",
              "      <td>28.639486</td>\n",
              "      <td>2635.763081</td>\n",
              "      <td>537.719351</td>\n",
              "      <td>1425.476744</td>\n",
              "      <td>499.539680</td>\n",
              "      <td>3.870671</td>\n",
              "      <td>2.068558</td>\n",
              "    </tr>\n",
              "    <tr>\n",
              "      <th>std</th>\n",
              "      <td>2.003532</td>\n",
              "      <td>2.135952</td>\n",
              "      <td>12.585558</td>\n",
              "      <td>2181.615252</td>\n",
              "      <td>420.848774</td>\n",
              "      <td>1132.462122</td>\n",
              "      <td>382.329753</td>\n",
              "      <td>1.899822</td>\n",
              "      <td>1.153956</td>\n",
              "    </tr>\n",
              "    <tr>\n",
              "      <th>min</th>\n",
              "      <td>-124.350000</td>\n",
              "      <td>32.540000</td>\n",
              "      <td>1.000000</td>\n",
              "      <td>2.000000</td>\n",
              "      <td>1.000000</td>\n",
              "      <td>3.000000</td>\n",
              "      <td>1.000000</td>\n",
              "      <td>0.499900</td>\n",
              "      <td>0.149990</td>\n",
              "    </tr>\n",
              "    <tr>\n",
              "      <th>25%</th>\n",
              "      <td>-121.800000</td>\n",
              "      <td>33.930000</td>\n",
              "      <td>18.000000</td>\n",
              "      <td>1447.750000</td>\n",
              "      <td>295.000000</td>\n",
              "      <td>787.000000</td>\n",
              "      <td>280.000000</td>\n",
              "      <td>2.563400</td>\n",
              "      <td>1.196000</td>\n",
              "    </tr>\n",
              "    <tr>\n",
              "      <th>50%</th>\n",
              "      <td>-118.490000</td>\n",
              "      <td>34.260000</td>\n",
              "      <td>29.000000</td>\n",
              "      <td>2127.000000</td>\n",
              "      <td>435.000000</td>\n",
              "      <td>1166.000000</td>\n",
              "      <td>409.000000</td>\n",
              "      <td>3.534800</td>\n",
              "      <td>1.797000</td>\n",
              "    </tr>\n",
              "    <tr>\n",
              "      <th>75%</th>\n",
              "      <td>-118.010000</td>\n",
              "      <td>37.710000</td>\n",
              "      <td>37.000000</td>\n",
              "      <td>3148.000000</td>\n",
              "      <td>647.000000</td>\n",
              "      <td>1725.000000</td>\n",
              "      <td>605.000000</td>\n",
              "      <td>4.743250</td>\n",
              "      <td>2.647250</td>\n",
              "    </tr>\n",
              "    <tr>\n",
              "      <th>max</th>\n",
              "      <td>-114.310000</td>\n",
              "      <td>41.950000</td>\n",
              "      <td>52.000000</td>\n",
              "      <td>39320.000000</td>\n",
              "      <td>6445.000000</td>\n",
              "      <td>35682.000000</td>\n",
              "      <td>6082.000000</td>\n",
              "      <td>15.000100</td>\n",
              "      <td>5.000010</td>\n",
              "    </tr>\n",
              "  </tbody>\n",
              "</table>\n",
              "</div>"
            ],
            "text/plain": [
              "          longitude      latitude  ...  median_income  median_house_value\n",
              "count  20640.000000  20640.000000  ...   20640.000000        20640.000000\n",
              "mean    -119.569704     35.631861  ...       3.870671            2.068558\n",
              "std        2.003532      2.135952  ...       1.899822            1.153956\n",
              "min     -124.350000     32.540000  ...       0.499900            0.149990\n",
              "25%     -121.800000     33.930000  ...       2.563400            1.196000\n",
              "50%     -118.490000     34.260000  ...       3.534800            1.797000\n",
              "75%     -118.010000     37.710000  ...       4.743250            2.647250\n",
              "max     -114.310000     41.950000  ...      15.000100            5.000010\n",
              "\n",
              "[8 rows x 9 columns]"
            ]
          },
          "metadata": {
            "tags": []
          },
          "execution_count": 29
        }
      ]
    },
    {
      "cell_type": "markdown",
      "metadata": {
        "id": "YYI2A_97jlD-"
      },
      "source": [
        "### Exercise 1: Standardization\n",
        "\n",
        "Previously when we worked with this dataset, we normalized the feature data in order to get it ready for the model. Normalization was the process of making all of the data fit between 0.0 and 1.0 by subtracting the minimum of each column from each data point in that column and then dividing by the delta between the maximum and minimum values.\n",
        "\n",
        "In this exercise you will need to standardize all of the feature columns. Standardization is performed by subtracting the mean value of each column from each data point in that column and then dividing by the standard deviation.\n",
        "\n",
        "> *Hint: When you are done call `describe()` and ensure that the standard deviation for every feature column is 1.0`*"
      ]
    },
    {
      "cell_type": "markdown",
      "metadata": {
        "id": "kvbESp4tkTeO"
      },
      "source": [
        "#### **Student Solution**"
      ]
    },
    {
      "cell_type": "code",
      "metadata": {
        "id": "8PMD-9e8kVDK",
        "colab": {
          "base_uri": "https://localhost:8080/",
          "height": 320
        },
        "outputId": "e6f9fdf7-2665-46b5-b43b-fe0c0f5f617c"
      },
      "source": [
        "# Your Code Goes Here\n",
        "housing_df.loc[:, numeric_feature_columns] = (\n",
        "    housing_df[numeric_feature_columns] - housing_df[numeric_feature_columns].min()) / (\n",
        "        housing_df[numeric_feature_columns].max() - housing_df[numeric_feature_columns].min())\n",
        "\n",
        "housing_df.describe()"
      ],
      "execution_count": null,
      "outputs": [
        {
          "output_type": "execute_result",
          "data": {
            "text/html": [
              "<div>\n",
              "<style scoped>\n",
              "    .dataframe tbody tr th:only-of-type {\n",
              "        vertical-align: middle;\n",
              "    }\n",
              "\n",
              "    .dataframe tbody tr th {\n",
              "        vertical-align: top;\n",
              "    }\n",
              "\n",
              "    .dataframe thead th {\n",
              "        text-align: right;\n",
              "    }\n",
              "</style>\n",
              "<table border=\"1\" class=\"dataframe\">\n",
              "  <thead>\n",
              "    <tr style=\"text-align: right;\">\n",
              "      <th></th>\n",
              "      <th>longitude</th>\n",
              "      <th>latitude</th>\n",
              "      <th>housing_median_age</th>\n",
              "      <th>total_rooms</th>\n",
              "      <th>total_bedrooms</th>\n",
              "      <th>population</th>\n",
              "      <th>households</th>\n",
              "      <th>median_income</th>\n",
              "      <th>median_house_value</th>\n",
              "    </tr>\n",
              "  </thead>\n",
              "  <tbody>\n",
              "    <tr>\n",
              "      <th>count</th>\n",
              "      <td>20640.000000</td>\n",
              "      <td>20640.000000</td>\n",
              "      <td>20640.000000</td>\n",
              "      <td>20640.000000</td>\n",
              "      <td>20640.000000</td>\n",
              "      <td>20640.000000</td>\n",
              "      <td>20640.000000</td>\n",
              "      <td>20640.000000</td>\n",
              "      <td>20640.000000</td>\n",
              "    </tr>\n",
              "    <tr>\n",
              "      <th>mean</th>\n",
              "      <td>0.476125</td>\n",
              "      <td>0.328572</td>\n",
              "      <td>0.541951</td>\n",
              "      <td>0.066986</td>\n",
              "      <td>0.083290</td>\n",
              "      <td>0.039869</td>\n",
              "      <td>0.081983</td>\n",
              "      <td>0.232464</td>\n",
              "      <td>2.068558</td>\n",
              "    </tr>\n",
              "    <tr>\n",
              "      <th>std</th>\n",
              "      <td>0.199555</td>\n",
              "      <td>0.226988</td>\n",
              "      <td>0.246776</td>\n",
              "      <td>0.055486</td>\n",
              "      <td>0.065309</td>\n",
              "      <td>0.031740</td>\n",
              "      <td>0.062873</td>\n",
              "      <td>0.131020</td>\n",
              "      <td>1.153956</td>\n",
              "    </tr>\n",
              "    <tr>\n",
              "      <th>min</th>\n",
              "      <td>0.000000</td>\n",
              "      <td>0.000000</td>\n",
              "      <td>0.000000</td>\n",
              "      <td>0.000000</td>\n",
              "      <td>0.000000</td>\n",
              "      <td>0.000000</td>\n",
              "      <td>0.000000</td>\n",
              "      <td>0.000000</td>\n",
              "      <td>0.149990</td>\n",
              "    </tr>\n",
              "    <tr>\n",
              "      <th>25%</th>\n",
              "      <td>0.253984</td>\n",
              "      <td>0.147715</td>\n",
              "      <td>0.333333</td>\n",
              "      <td>0.036771</td>\n",
              "      <td>0.045624</td>\n",
              "      <td>0.021974</td>\n",
              "      <td>0.045881</td>\n",
              "      <td>0.142308</td>\n",
              "      <td>1.196000</td>\n",
              "    </tr>\n",
              "    <tr>\n",
              "      <th>50%</th>\n",
              "      <td>0.583665</td>\n",
              "      <td>0.182784</td>\n",
              "      <td>0.549020</td>\n",
              "      <td>0.054046</td>\n",
              "      <td>0.067349</td>\n",
              "      <td>0.032596</td>\n",
              "      <td>0.067094</td>\n",
              "      <td>0.209301</td>\n",
              "      <td>1.797000</td>\n",
              "    </tr>\n",
              "    <tr>\n",
              "      <th>75%</th>\n",
              "      <td>0.631474</td>\n",
              "      <td>0.549416</td>\n",
              "      <td>0.705882</td>\n",
              "      <td>0.080014</td>\n",
              "      <td>0.100248</td>\n",
              "      <td>0.048264</td>\n",
              "      <td>0.099326</td>\n",
              "      <td>0.292641</td>\n",
              "      <td>2.647250</td>\n",
              "    </tr>\n",
              "    <tr>\n",
              "      <th>max</th>\n",
              "      <td>1.000000</td>\n",
              "      <td>1.000000</td>\n",
              "      <td>1.000000</td>\n",
              "      <td>1.000000</td>\n",
              "      <td>1.000000</td>\n",
              "      <td>1.000000</td>\n",
              "      <td>1.000000</td>\n",
              "      <td>1.000000</td>\n",
              "      <td>5.000010</td>\n",
              "    </tr>\n",
              "  </tbody>\n",
              "</table>\n",
              "</div>"
            ],
            "text/plain": [
              "          longitude      latitude  ...  median_income  median_house_value\n",
              "count  20640.000000  20640.000000  ...   20640.000000        20640.000000\n",
              "mean       0.476125      0.328572  ...       0.232464            2.068558\n",
              "std        0.199555      0.226988  ...       0.131020            1.153956\n",
              "min        0.000000      0.000000  ...       0.000000            0.149990\n",
              "25%        0.253984      0.147715  ...       0.142308            1.196000\n",
              "50%        0.583665      0.182784  ...       0.209301            1.797000\n",
              "75%        0.631474      0.549416  ...       0.292641            2.647250\n",
              "max        1.000000      1.000000  ...       1.000000            5.000010\n",
              "\n",
              "[8 rows x 9 columns]"
            ]
          },
          "metadata": {
            "tags": []
          },
          "execution_count": 30
        }
      ]
    },
    {
      "cell_type": "markdown",
      "metadata": {
        "id": "1tsH6xLZkXFL"
      },
      "source": [
        "---"
      ]
    },
    {
      "cell_type": "markdown",
      "metadata": {
        "id": "Jt-DiypL6HZ9"
      },
      "source": [
        "### One-Hot Encoding"
      ]
    },
    {
      "cell_type": "markdown",
      "metadata": {
        "id": "qPpALMfd6KbK"
      },
      "source": [
        "The `ocean_proximity` column will not work with the neural network model that we are planning to build. Neural networks expect numeric values, but `ocean_proximity` contains string values.\n",
        "\n",
        "Let's remind ourselves which values it contains:"
      ]
    },
    {
      "cell_type": "code",
      "metadata": {
        "id": "uYL4unBF6NeC",
        "colab": {
          "base_uri": "https://localhost:8080/"
        },
        "outputId": "4dc87505-0083-4a6c-e7e6-4932d36a24de"
      },
      "source": [
        "sorted(housing_df['ocean_proximity'].unique())"
      ],
      "execution_count": null,
      "outputs": [
        {
          "output_type": "execute_result",
          "data": {
            "text/plain": [
              "['<1H OCEAN', 'INLAND', 'ISLAND', 'NEAR BAY', 'NEAR OCEAN']"
            ]
          },
          "metadata": {
            "tags": []
          },
          "execution_count": 31
        }
      ]
    },
    {
      "cell_type": "markdown",
      "metadata": {
        "id": "moQf0ZjC6Rso"
      },
      "source": [
        "There are five string values. In our linear regression Colab we told TensorFlow to treat these values as a categorical column. Each string was converted to a whole number that represented their position in a vocabulary list: `0`, `1`, `2`, `3`, or `4`.\n",
        "\n",
        "For neural networks it is common to see another strategy called one-hot encoding. One-hot encoding is the process of taking a column with a fixed list of string values and turning it into multiple columns containing only zeros and ones.\n",
        "\n",
        "For instance the column `ocean_proximity` containing five strings would be converted to five columns containing ones and zeros:\n",
        "\n",
        "op_sub_hr | op_inland | op_island | op_near_bay | op_near_ocean\n",
        "----------|-----------|-----------|-------------|--------------\n",
        " 0        | 0         | 0         | 1           | 0\n",
        " 0        | 1         | 0         | 0           | 0\n",
        " 0        | 1         | 0         | 0           | 0\n",
        " 1        | 0         | 0         | 0           | 0\n",
        " 0        | 0         | 1         | 0           | 0\n",
        " 0        | 0         | 0         | 0           | 1\n",
        " 0        | 0         | 1         | 0           | 0\n",
        "\n",
        " Notice that in each row, only one column has a value of `1`. The rest are all `0`. This is the \"one-hot\" in one-hot encoding.\n",
        "\n",
        "As you can imagine, it doesn't scale well for columns with many distinct values. In our case, `5` is perfectly reasonable.\n",
        "\n",
        "Let's manually one-hot encode our data."
      ]
    },
    {
      "cell_type": "code",
      "metadata": {
        "id": "DC2E1ItX6Q5N",
        "colab": {
          "base_uri": "https://localhost:8080/",
          "height": 444
        },
        "outputId": "51edfd2d-ac1b-4e4a-811b-a1175b5620bd"
      },
      "source": [
        "for op in sorted(housing_df['ocean_proximity'].unique()):\n",
        "  op_col = op.lower().replace(' ', '_').replace('<', '')\n",
        "  housing_df[op_col] = (housing_df['ocean_proximity'] == op).astype(int)\n",
        "  feature_columns.append(op_col)\n",
        "\n",
        "feature_columns.remove('ocean_proximity')\n",
        "\n",
        "housing_df"
      ],
      "execution_count": null,
      "outputs": [
        {
          "output_type": "execute_result",
          "data": {
            "text/html": [
              "<div>\n",
              "<style scoped>\n",
              "    .dataframe tbody tr th:only-of-type {\n",
              "        vertical-align: middle;\n",
              "    }\n",
              "\n",
              "    .dataframe tbody tr th {\n",
              "        vertical-align: top;\n",
              "    }\n",
              "\n",
              "    .dataframe thead th {\n",
              "        text-align: right;\n",
              "    }\n",
              "</style>\n",
              "<table border=\"1\" class=\"dataframe\">\n",
              "  <thead>\n",
              "    <tr style=\"text-align: right;\">\n",
              "      <th></th>\n",
              "      <th>longitude</th>\n",
              "      <th>latitude</th>\n",
              "      <th>housing_median_age</th>\n",
              "      <th>total_rooms</th>\n",
              "      <th>total_bedrooms</th>\n",
              "      <th>population</th>\n",
              "      <th>households</th>\n",
              "      <th>median_income</th>\n",
              "      <th>median_house_value</th>\n",
              "      <th>ocean_proximity</th>\n",
              "      <th>1h_ocean</th>\n",
              "      <th>inland</th>\n",
              "      <th>island</th>\n",
              "      <th>near_bay</th>\n",
              "      <th>near_ocean</th>\n",
              "    </tr>\n",
              "  </thead>\n",
              "  <tbody>\n",
              "    <tr>\n",
              "      <th>0</th>\n",
              "      <td>0.211155</td>\n",
              "      <td>0.567481</td>\n",
              "      <td>0.784314</td>\n",
              "      <td>0.022331</td>\n",
              "      <td>0.019863</td>\n",
              "      <td>0.008941</td>\n",
              "      <td>0.020556</td>\n",
              "      <td>0.539668</td>\n",
              "      <td>4.526</td>\n",
              "      <td>NEAR BAY</td>\n",
              "      <td>0</td>\n",
              "      <td>0</td>\n",
              "      <td>0</td>\n",
              "      <td>1</td>\n",
              "      <td>0</td>\n",
              "    </tr>\n",
              "    <tr>\n",
              "      <th>1</th>\n",
              "      <td>0.212151</td>\n",
              "      <td>0.565356</td>\n",
              "      <td>0.392157</td>\n",
              "      <td>0.180503</td>\n",
              "      <td>0.171477</td>\n",
              "      <td>0.067210</td>\n",
              "      <td>0.186976</td>\n",
              "      <td>0.538027</td>\n",
              "      <td>3.585</td>\n",
              "      <td>NEAR BAY</td>\n",
              "      <td>0</td>\n",
              "      <td>0</td>\n",
              "      <td>0</td>\n",
              "      <td>1</td>\n",
              "      <td>0</td>\n",
              "    </tr>\n",
              "    <tr>\n",
              "      <th>2</th>\n",
              "      <td>0.210159</td>\n",
              "      <td>0.564293</td>\n",
              "      <td>1.000000</td>\n",
              "      <td>0.037260</td>\n",
              "      <td>0.029330</td>\n",
              "      <td>0.013818</td>\n",
              "      <td>0.028943</td>\n",
              "      <td>0.466028</td>\n",
              "      <td>3.521</td>\n",
              "      <td>NEAR BAY</td>\n",
              "      <td>0</td>\n",
              "      <td>0</td>\n",
              "      <td>0</td>\n",
              "      <td>1</td>\n",
              "      <td>0</td>\n",
              "    </tr>\n",
              "    <tr>\n",
              "      <th>3</th>\n",
              "      <td>0.209163</td>\n",
              "      <td>0.564293</td>\n",
              "      <td>1.000000</td>\n",
              "      <td>0.032352</td>\n",
              "      <td>0.036313</td>\n",
              "      <td>0.015555</td>\n",
              "      <td>0.035849</td>\n",
              "      <td>0.354699</td>\n",
              "      <td>3.413</td>\n",
              "      <td>NEAR BAY</td>\n",
              "      <td>0</td>\n",
              "      <td>0</td>\n",
              "      <td>0</td>\n",
              "      <td>1</td>\n",
              "      <td>0</td>\n",
              "    </tr>\n",
              "    <tr>\n",
              "      <th>4</th>\n",
              "      <td>0.209163</td>\n",
              "      <td>0.564293</td>\n",
              "      <td>1.000000</td>\n",
              "      <td>0.041330</td>\n",
              "      <td>0.043296</td>\n",
              "      <td>0.015752</td>\n",
              "      <td>0.042427</td>\n",
              "      <td>0.230776</td>\n",
              "      <td>3.422</td>\n",
              "      <td>NEAR BAY</td>\n",
              "      <td>0</td>\n",
              "      <td>0</td>\n",
              "      <td>0</td>\n",
              "      <td>1</td>\n",
              "      <td>0</td>\n",
              "    </tr>\n",
              "    <tr>\n",
              "      <th>...</th>\n",
              "      <td>...</td>\n",
              "      <td>...</td>\n",
              "      <td>...</td>\n",
              "      <td>...</td>\n",
              "      <td>...</td>\n",
              "      <td>...</td>\n",
              "      <td>...</td>\n",
              "      <td>...</td>\n",
              "      <td>...</td>\n",
              "      <td>...</td>\n",
              "      <td>...</td>\n",
              "      <td>...</td>\n",
              "      <td>...</td>\n",
              "      <td>...</td>\n",
              "      <td>...</td>\n",
              "    </tr>\n",
              "    <tr>\n",
              "      <th>20635</th>\n",
              "      <td>0.324701</td>\n",
              "      <td>0.737513</td>\n",
              "      <td>0.470588</td>\n",
              "      <td>0.042296</td>\n",
              "      <td>0.057883</td>\n",
              "      <td>0.023599</td>\n",
              "      <td>0.054103</td>\n",
              "      <td>0.073130</td>\n",
              "      <td>0.781</td>\n",
              "      <td>INLAND</td>\n",
              "      <td>0</td>\n",
              "      <td>1</td>\n",
              "      <td>0</td>\n",
              "      <td>0</td>\n",
              "      <td>0</td>\n",
              "    </tr>\n",
              "    <tr>\n",
              "      <th>20636</th>\n",
              "      <td>0.312749</td>\n",
              "      <td>0.738576</td>\n",
              "      <td>0.333333</td>\n",
              "      <td>0.017676</td>\n",
              "      <td>0.023122</td>\n",
              "      <td>0.009894</td>\n",
              "      <td>0.018582</td>\n",
              "      <td>0.141853</td>\n",
              "      <td>0.771</td>\n",
              "      <td>INLAND</td>\n",
              "      <td>0</td>\n",
              "      <td>1</td>\n",
              "      <td>0</td>\n",
              "      <td>0</td>\n",
              "      <td>0</td>\n",
              "    </tr>\n",
              "    <tr>\n",
              "      <th>20637</th>\n",
              "      <td>0.311753</td>\n",
              "      <td>0.732200</td>\n",
              "      <td>0.313725</td>\n",
              "      <td>0.057277</td>\n",
              "      <td>0.075109</td>\n",
              "      <td>0.028140</td>\n",
              "      <td>0.071041</td>\n",
              "      <td>0.082764</td>\n",
              "      <td>0.923</td>\n",
              "      <td>INLAND</td>\n",
              "      <td>0</td>\n",
              "      <td>1</td>\n",
              "      <td>0</td>\n",
              "      <td>0</td>\n",
              "      <td>0</td>\n",
              "    </tr>\n",
              "    <tr>\n",
              "      <th>20638</th>\n",
              "      <td>0.301793</td>\n",
              "      <td>0.732200</td>\n",
              "      <td>0.333333</td>\n",
              "      <td>0.047256</td>\n",
              "      <td>0.063315</td>\n",
              "      <td>0.020684</td>\n",
              "      <td>0.057227</td>\n",
              "      <td>0.094295</td>\n",
              "      <td>0.847</td>\n",
              "      <td>INLAND</td>\n",
              "      <td>0</td>\n",
              "      <td>1</td>\n",
              "      <td>0</td>\n",
              "      <td>0</td>\n",
              "      <td>0</td>\n",
              "    </tr>\n",
              "    <tr>\n",
              "      <th>20639</th>\n",
              "      <td>0.309761</td>\n",
              "      <td>0.725824</td>\n",
              "      <td>0.294118</td>\n",
              "      <td>0.070782</td>\n",
              "      <td>0.095438</td>\n",
              "      <td>0.038790</td>\n",
              "      <td>0.086992</td>\n",
              "      <td>0.130253</td>\n",
              "      <td>0.894</td>\n",
              "      <td>INLAND</td>\n",
              "      <td>0</td>\n",
              "      <td>1</td>\n",
              "      <td>0</td>\n",
              "      <td>0</td>\n",
              "      <td>0</td>\n",
              "    </tr>\n",
              "  </tbody>\n",
              "</table>\n",
              "<p>20640 rows × 15 columns</p>\n",
              "</div>"
            ],
            "text/plain": [
              "       longitude  latitude  housing_median_age  ...  island  near_bay  near_ocean\n",
              "0       0.211155  0.567481            0.784314  ...       0         1           0\n",
              "1       0.212151  0.565356            0.392157  ...       0         1           0\n",
              "2       0.210159  0.564293            1.000000  ...       0         1           0\n",
              "3       0.209163  0.564293            1.000000  ...       0         1           0\n",
              "4       0.209163  0.564293            1.000000  ...       0         1           0\n",
              "...          ...       ...                 ...  ...     ...       ...         ...\n",
              "20635   0.324701  0.737513            0.470588  ...       0         0           0\n",
              "20636   0.312749  0.738576            0.333333  ...       0         0           0\n",
              "20637   0.311753  0.732200            0.313725  ...       0         0           0\n",
              "20638   0.301793  0.732200            0.333333  ...       0         0           0\n",
              "20639   0.309761  0.725824            0.294118  ...       0         0           0\n",
              "\n",
              "[20640 rows x 15 columns]"
            ]
          },
          "metadata": {
            "tags": []
          },
          "execution_count": 32
        }
      ]
    },
    {
      "cell_type": "markdown",
      "metadata": {
        "id": "b6RtwkjglSwN"
      },
      "source": [
        "### Exercise 2: Split the Data\n",
        "\n",
        "We want to hold out some of the data for validation. Using standard Python or a library, split the data. Put 20% of the data in a `DataFrame` called `testing_df` and the other 80% in a `DataFrame` called `training_df`. Be sure to shuffle the data before splitting. Print the number of records in `testing_df` and `training_df` in order to check your work."
      ]
    },
    {
      "cell_type": "markdown",
      "metadata": {
        "id": "30T4hQ4bmCM-"
      },
      "source": [
        "#### **Student Solution**"
      ]
    },
    {
      "cell_type": "code",
      "metadata": {
        "id": "-GqS7LRJmFsf",
        "colab": {
          "base_uri": "https://localhost:8080/"
        },
        "outputId": "cd9bc43d-6f1a-49ff-8184-9602d30bf274"
      },
      "source": [
        "# Your Code Goes Here\n",
        "housing_df = housing_df.sample(frac=1)\n",
        "\n",
        "test_set_size = int(len(housing_df) * 0.2)\n",
        "\n",
        "testing_df = housing_df[:test_set_size]\n",
        "training_df = housing_df[test_set_size:]\n",
        "\n",
        "print(\"Size of training: {}\".format(len(training_df)))\n",
        "print(\"Size of testing : {}\".format(len(testing_df)))"
      ],
      "execution_count": null,
      "outputs": [
        {
          "output_type": "stream",
          "text": [
            "Size of training: 16512\n",
            "Size of testing : 4128\n"
          ],
          "name": "stdout"
        }
      ]
    },
    {
      "cell_type": "markdown",
      "metadata": {
        "id": "MIOTjR4mmL_X"
      },
      "source": [
        "---"
      ]
    },
    {
      "cell_type": "markdown",
      "metadata": {
        "id": "hyCUUMkpn0Wi"
      },
      "source": [
        "## Building the Model"
      ]
    },
    {
      "cell_type": "markdown",
      "metadata": {
        "id": "qv4GnnTyohQe"
      },
      "source": [
        "We will build the model using TensorFlow 2. Let's enable it and go ahead and load up TensorFlow."
      ]
    },
    {
      "cell_type": "code",
      "metadata": {
        "id": "6u6detBun2pN",
        "colab": {
          "base_uri": "https://localhost:8080/",
          "height": 36
        },
        "outputId": "34f40bde-a2b9-4986-c691-6ca5bd54e9e4"
      },
      "source": [
        "%tensorflow_version 2.x\n",
        "\n",
        "import tensorflow as tf\n",
        "tf.__version__"
      ],
      "execution_count": null,
      "outputs": [
        {
          "output_type": "execute_result",
          "data": {
            "application/vnd.google.colaboratory.intrinsic+json": {
              "type": "string"
            },
            "text/plain": [
              "'2.4.1'"
            ]
          },
          "metadata": {
            "tags": []
          },
          "execution_count": 34
        }
      ]
    },
    {
      "cell_type": "markdown",
      "metadata": {
        "id": "e4Pfxar2o5O2"
      },
      "source": [
        "When we built a TensorFlow `LinearRegressor` in a previous lab, we were using a pre-configured model. For our neural network regressor, we will build the model ourselves using the [Keras API of TensorFlow](https://www.tensorflow.org/guide/keras).\n",
        "\n",
        "We'll build a **sequential** model where one layer feeds into the next. Each layer will be **densely connected**, which means every node in one layer connects to every node in the next layer.\n",
        "\n",
        "A few things are required for our network. We need to have 13 input nodes since that is the number of features that we have (8 original numerical columns, plus the 5 one-hot encoded ocean proximity columns that we added). We also need to have one output node since we are trying to predict a single price value.\n",
        "\n",
        "Let's see what that would look like:\n"
      ]
    },
    {
      "cell_type": "code",
      "metadata": {
        "id": "vkkNFjzop3I2",
        "colab": {
          "base_uri": "https://localhost:8080/"
        },
        "outputId": "fc0eb362-1085-40eb-cdeb-baafff001e61"
      },
      "source": [
        "from tensorflow import keras\n",
        "from tensorflow.keras import layers\n",
        "\n",
        "# Create the Sequential model.\n",
        "model = keras.Sequential()\n",
        "\n",
        "# Determine the \"input shape\", which is the number\n",
        "# of features that we will feed into the model.\n",
        "input_shape = len(feature_columns)\n",
        "\n",
        "# Create a layer that accepts our features and outputs\n",
        "# a single value, the predicted median home price.\n",
        "layer = layers.Dense(1, input_shape=[input_shape])\n",
        "\n",
        "# Add the layer to our model.\n",
        "model.add(layer)\n",
        "\n",
        "# Print out a model summary.\n",
        "model.summary()"
      ],
      "execution_count": null,
      "outputs": [
        {
          "output_type": "stream",
          "text": [
            "Model: \"sequential_6\"\n",
            "_________________________________________________________________\n",
            "Layer (type)                 Output Shape              Param #   \n",
            "=================================================================\n",
            "dense_8 (Dense)              (None, 1)                 14        \n",
            "=================================================================\n",
            "Total params: 14\n",
            "Trainable params: 14\n",
            "Non-trainable params: 0\n",
            "_________________________________________________________________\n"
          ],
          "name": "stdout"
        }
      ]
    },
    {
      "cell_type": "markdown",
      "metadata": {
        "id": "sdu82rLhrFXM"
      },
      "source": [
        "Above we have basically recreated our linear regression from an earlier lab. We have all of our inputs directly mapping to a single output. We didn't choose an activation function, and the default activation function for a [`Dense`](https://www.tensorflow.org/api_docs/python/tf/keras/layers/Dense) layer is a linear function $f(x) = x$.\n",
        "\n",
        "Note that the way we built this model was pretty verbose. You typically see simple models like this built in a more compact manner:"
      ]
    },
    {
      "cell_type": "code",
      "metadata": {
        "id": "MTCo5CpVLV2g",
        "colab": {
          "base_uri": "https://localhost:8080/"
        },
        "outputId": "ed5c54e8-76b1-4d18-bf7e-93c2a34cdd1a"
      },
      "source": [
        "from tensorflow import keras\n",
        "from tensorflow.keras import layers\n",
        "\n",
        "model = keras.Sequential(layers=[\n",
        "    layers.Dense(1, input_shape=[len(feature_columns)])\n",
        "])\n",
        "\n",
        "model.summary()"
      ],
      "execution_count": null,
      "outputs": [
        {
          "output_type": "stream",
          "text": [
            "Model: \"sequential_7\"\n",
            "_________________________________________________________________\n",
            "Layer (type)                 Output Shape              Param #   \n",
            "=================================================================\n",
            "dense_9 (Dense)              (None, 1)                 14        \n",
            "=================================================================\n",
            "Total params: 14\n",
            "Trainable params: 14\n",
            "Non-trainable params: 0\n",
            "_________________________________________________________________\n"
          ],
          "name": "stdout"
        }
      ]
    },
    {
      "cell_type": "markdown",
      "metadata": {
        "id": "pEPw3kIhMtiW"
      },
      "source": [
        "Also notice that the layers are named `dense_1`, `dense_2`, etc.\n",
        "\n",
        "If you don't supply a name for a layer, TensorFlow will provide a name for you. In small models, this isn't a problem, but you might want to have a meaningful layer name in larger models.\n",
        "\n",
        "Even in simple models, is `dense_2` a good name for the first layer in a model?"
      ]
    },
    {
      "cell_type": "markdown",
      "metadata": {
        "id": "25xCx2aCNLcc"
      },
      "source": [
        "#### Exercise 3: Name Your Layers\n",
        "\n",
        "The default naming scheme for layers can start to become confusing, especially if you repeatedly run a cell block to iterate on your model design.\n",
        "\n",
        "In this exercise consult the [`Dense` documentation](https://www.tensorflow.org/api_docs/python/tf/keras/layers/Dense) and find the argument that allows you to name your layer. Use that argument in the code below to name your layer 'the_only_layer'. Note that you might have to consult the documentation for the parent classes of `Dense`.\n",
        "\n",
        "Also, don't forget to answer the question below the code block!"
      ]
    },
    {
      "cell_type": "markdown",
      "metadata": {
        "id": "j3SrSWLvViFn"
      },
      "source": [
        "#### **Student Solution**"
      ]
    },
    {
      "cell_type": "code",
      "metadata": {
        "id": "VjbI2IPsVKlo",
        "colab": {
          "base_uri": "https://localhost:8080/"
        },
        "outputId": "a081fbc1-6d8c-4950-85c9-b7dfcfeffdd9"
      },
      "source": [
        "from tensorflow import keras\n",
        "from tensorflow.keras import layers\n",
        "\n",
        "model = keras.Sequential(layers=[\n",
        "    layers.Dense(\n",
        "        1,\n",
        "        input_shape=[len(feature_columns)],\n",
        "        # Name your layer here\n",
        "        name='the_only_layer'\n",
        "    )\n",
        "])\n",
        "\n",
        "model.summary()"
      ],
      "execution_count": null,
      "outputs": [
        {
          "output_type": "stream",
          "text": [
            "Model: \"sequential_8\"\n",
            "_________________________________________________________________\n",
            "Layer (type)                 Output Shape              Param #   \n",
            "=================================================================\n",
            "the_only_layer (Dense)       (None, 1)                 14        \n",
            "=================================================================\n",
            "Total params: 14\n",
            "Trainable params: 14\n",
            "Non-trainable params: 0\n",
            "_________________________________________________________________\n"
          ],
          "name": "stdout"
        }
      ]
    },
    {
      "cell_type": "markdown",
      "metadata": {
        "id": "4E3jXNquVhCn"
      },
      "source": [
        "Which class did the parameter that you used originate from?\n",
        "\n",
        "> string(?)"
      ]
    },
    {
      "cell_type": "markdown",
      "metadata": {
        "id": "sdvLFUFQVsVf"
      },
      "source": [
        "---"
      ]
    },
    {
      "cell_type": "markdown",
      "metadata": {
        "id": "PXiiJF3fWReI"
      },
      "source": [
        "#### Making a Deep Neural Network"
      ]
    },
    {
      "cell_type": "markdown",
      "metadata": {
        "id": "Ef2RnBnKLKjM"
      },
      "source": [
        "Where neural networks really get powerful is when you add **hidden layers**. These hidden layers can find complex patterns in your data.\n",
        "\n",
        "Let's create a model with a few hidden layers. We'll add two layers with sixty-four nodes each."
      ]
    },
    {
      "cell_type": "code",
      "metadata": {
        "id": "eIz2AyIPr6Qt",
        "colab": {
          "base_uri": "https://localhost:8080/"
        },
        "outputId": "64807158-dfe1-4ca0-d9fe-7f663ced2a3f"
      },
      "source": [
        "from tensorflow import keras\n",
        "from tensorflow.keras import layers\n",
        "\n",
        "# feature_count = len(feature_columns)\n",
        "\n",
        "model = keras.Sequential([\n",
        "  layers.Dense(64, input_shape=[8]),\n",
        "  layers.Dense(64),\n",
        "  layers.Dense(1)\n",
        "])\n",
        "\n",
        "model.summary()"
      ],
      "execution_count": null,
      "outputs": [
        {
          "output_type": "stream",
          "text": [
            "Model: \"sequential\"\n",
            "_________________________________________________________________\n",
            "Layer (type)                 Output Shape              Param #   \n",
            "=================================================================\n",
            "dense (Dense)                (None, 64)                576       \n",
            "_________________________________________________________________\n",
            "dense_1 (Dense)              (None, 64)                4160      \n",
            "_________________________________________________________________\n",
            "dense_2 (Dense)              (None, 1)                 65        \n",
            "=================================================================\n",
            "Total params: 4,801\n",
            "Trainable params: 4,801\n",
            "Non-trainable params: 0\n",
            "_________________________________________________________________\n"
          ],
          "name": "stdout"
        }
      ]
    },
    {
      "cell_type": "markdown",
      "metadata": {
        "id": "4BYvMgqWtblx"
      },
      "source": [
        "We now have a deep neural network model. The model has 13 input nodes. These nodes feed into our first hidden layer of 64 nodes.\n",
        "\n",
        "The first line of our model summary tells us that we have 64 nodes and 896 parameters. The node count in 'Output Shape' makes sense, but what about the 'Param #' of 896?\n",
        "\n",
        "Remember that we have 13 input nodes feeding into 64 nodes in our first hidden layer. The layers are densely connected, so each of the 13 input nodes connects to each of the 64 nodes in the next layer. `13 * 64 = 832` connections. Add another 64 for the number of nodes in the layer, and you get the 896 number.\n",
        "\n",
        "This pattern repeats for the next layer. 64 nodes connecting to 64 nodes: `64 * 64 + 64 = 4160`.\n",
        "\n",
        "And finally 64 nodes connect to the final output node: `64 * 1 + 1 = 65`.\n",
        "\n",
        "This makes for a total of 5121 parameters in the model. Even a very small neural network like this can have a lot of trainable parameters inside of it!"
      ]
    },
    {
      "cell_type": "markdown",
      "metadata": {
        "id": "ktQvZT_jS0UY"
      },
      "source": [
        "Before we start training it, we need to tell TensorFlow how and what to optimize the model for using the [`compile` method](https://keras.io/models/model/#compile). In our example below, we are optimizing for mean squared error using the [Adam optimizer](https://www.tensorflow.org/api_docs/python/tf/keras/optimizers/Adam).  We'll calculate and report the mean squared error and mean absolute error along the way."
      ]
    },
    {
      "cell_type": "code",
      "metadata": {
        "id": "58EnP9hwuCxe",
        "colab": {
          "base_uri": "https://localhost:8080/"
        },
        "outputId": "e38c8049-cc96-493e-ebe9-dcd0118a1db3"
      },
      "source": [
        "model.compile(\n",
        "  loss='mse',\n",
        "  optimizer='Adam',\n",
        "  metrics=['mae', 'mse'],\n",
        ")\n",
        "\n",
        "model.summary()"
      ],
      "execution_count": null,
      "outputs": [
        {
          "output_type": "stream",
          "text": [
            "Model: \"sequential_9\"\n",
            "_________________________________________________________________\n",
            "Layer (type)                 Output Shape              Param #   \n",
            "=================================================================\n",
            "dense_10 (Dense)             (None, 64)                896       \n",
            "_________________________________________________________________\n",
            "dense_11 (Dense)             (None, 64)                4160      \n",
            "_________________________________________________________________\n",
            "dense_12 (Dense)             (None, 1)                 65        \n",
            "=================================================================\n",
            "Total params: 5,121\n",
            "Trainable params: 5,121\n",
            "Non-trainable params: 0\n",
            "_________________________________________________________________\n"
          ],
          "name": "stdout"
        }
      ]
    },
    {
      "cell_type": "markdown",
      "metadata": {
        "id": "vwa9xoVwulvh"
      },
      "source": [
        "## Training the Model"
      ]
    },
    {
      "cell_type": "markdown",
      "metadata": {
        "id": "e-8Vaoryu9rv"
      },
      "source": [
        "We can now train the model using the [`fit()` method](https://keras.io/models/model/#fit). Training is performed for a specified number of **epochs**. An epoch is a full pass over the training data. In this case, we are asking to train over the full dataset 50 times.\n",
        "\n",
        "In order to get the data into the model, we don't have to write an input function like we did with the `Estimator` API. The Keras API provides for a much more direct format."
      ]
    },
    {
      "cell_type": "code",
      "metadata": {
        "id": "suWnhYbUuoYC",
        "colab": {
          "base_uri": "https://localhost:8080/"
        },
        "outputId": "b422d25c-a1a3-40f3-8419-2f5769920dc1"
      },
      "source": [
        "EPOCHS = 50\n",
        "\n",
        "model.fit(\n",
        "  training_df[feature_columns],\n",
        "  training_df[target_column],\n",
        "  epochs=EPOCHS,\n",
        "  validation_split=0.2,\n",
        ")"
      ],
      "execution_count": null,
      "outputs": [
        {
          "output_type": "stream",
          "text": [
            "Epoch 1/50\n",
            "413/413 [==============================] - 1s 2ms/step - loss: 1.1066 - mae: 0.7636 - mse: 1.1066 - val_loss: 0.5439 - val_mae: 0.5360 - val_mse: 0.5439\n",
            "Epoch 2/50\n",
            "413/413 [==============================] - 1s 2ms/step - loss: 0.5258 - mae: 0.5333 - mse: 0.5258 - val_loss: 0.5320 - val_mae: 0.5416 - val_mse: 0.5320\n",
            "Epoch 3/50\n",
            "413/413 [==============================] - 1s 2ms/step - loss: 0.4901 - mae: 0.5101 - mse: 0.4901 - val_loss: 0.5261 - val_mae: 0.5314 - val_mse: 0.5261\n",
            "Epoch 4/50\n",
            "413/413 [==============================] - 1s 2ms/step - loss: 0.5027 - mae: 0.5224 - mse: 0.5027 - val_loss: 0.5193 - val_mae: 0.5069 - val_mse: 0.5193\n",
            "Epoch 5/50\n",
            "413/413 [==============================] - 1s 2ms/step - loss: 0.4974 - mae: 0.5145 - mse: 0.4974 - val_loss: 0.5186 - val_mae: 0.5166 - val_mse: 0.5186\n",
            "Epoch 6/50\n",
            "413/413 [==============================] - 1s 2ms/step - loss: 0.4843 - mae: 0.5061 - mse: 0.4843 - val_loss: 0.5333 - val_mae: 0.5322 - val_mse: 0.5333\n",
            "Epoch 7/50\n",
            "413/413 [==============================] - 1s 2ms/step - loss: 0.4903 - mae: 0.5134 - mse: 0.4903 - val_loss: 0.5232 - val_mae: 0.5205 - val_mse: 0.5232\n",
            "Epoch 8/50\n",
            "413/413 [==============================] - 1s 2ms/step - loss: 0.4706 - mae: 0.5026 - mse: 0.4706 - val_loss: 0.5224 - val_mae: 0.5219 - val_mse: 0.5224\n",
            "Epoch 9/50\n",
            "413/413 [==============================] - 1s 2ms/step - loss: 0.4744 - mae: 0.5045 - mse: 0.4744 - val_loss: 0.5335 - val_mae: 0.5308 - val_mse: 0.5335\n",
            "Epoch 10/50\n",
            "413/413 [==============================] - 1s 2ms/step - loss: 0.4701 - mae: 0.5020 - mse: 0.4701 - val_loss: 0.5312 - val_mae: 0.5079 - val_mse: 0.5312\n",
            "Epoch 11/50\n",
            "413/413 [==============================] - 1s 2ms/step - loss: 0.4929 - mae: 0.5148 - mse: 0.4929 - val_loss: 0.5327 - val_mae: 0.5087 - val_mse: 0.5327\n",
            "Epoch 12/50\n",
            "413/413 [==============================] - 1s 2ms/step - loss: 0.4706 - mae: 0.5063 - mse: 0.4706 - val_loss: 0.5242 - val_mae: 0.5152 - val_mse: 0.5242\n",
            "Epoch 13/50\n",
            "413/413 [==============================] - 1s 2ms/step - loss: 0.4691 - mae: 0.4976 - mse: 0.4691 - val_loss: 0.5528 - val_mae: 0.5056 - val_mse: 0.5528\n",
            "Epoch 14/50\n",
            "413/413 [==============================] - 1s 2ms/step - loss: 0.4761 - mae: 0.5008 - mse: 0.4761 - val_loss: 0.5181 - val_mae: 0.5093 - val_mse: 0.5181\n",
            "Epoch 15/50\n",
            "413/413 [==============================] - 1s 2ms/step - loss: 0.4664 - mae: 0.4997 - mse: 0.4664 - val_loss: 0.5351 - val_mae: 0.5353 - val_mse: 0.5351\n",
            "Epoch 16/50\n",
            "413/413 [==============================] - 1s 2ms/step - loss: 0.4624 - mae: 0.5003 - mse: 0.4624 - val_loss: 0.5368 - val_mae: 0.5407 - val_mse: 0.5368\n",
            "Epoch 17/50\n",
            "413/413 [==============================] - 1s 2ms/step - loss: 0.4743 - mae: 0.5035 - mse: 0.4743 - val_loss: 0.5263 - val_mae: 0.5217 - val_mse: 0.5263\n",
            "Epoch 18/50\n",
            "413/413 [==============================] - 1s 2ms/step - loss: 0.4732 - mae: 0.4973 - mse: 0.4732 - val_loss: 0.5239 - val_mae: 0.5155 - val_mse: 0.5239\n",
            "Epoch 19/50\n",
            "413/413 [==============================] - 1s 2ms/step - loss: 0.4703 - mae: 0.4999 - mse: 0.4703 - val_loss: 0.5284 - val_mae: 0.5204 - val_mse: 0.5284\n",
            "Epoch 20/50\n",
            "413/413 [==============================] - 1s 2ms/step - loss: 0.4815 - mae: 0.5036 - mse: 0.4815 - val_loss: 0.5255 - val_mae: 0.5044 - val_mse: 0.5255\n",
            "Epoch 21/50\n",
            "413/413 [==============================] - 1s 2ms/step - loss: 0.4731 - mae: 0.5039 - mse: 0.4731 - val_loss: 0.5215 - val_mae: 0.5163 - val_mse: 0.5215\n",
            "Epoch 22/50\n",
            "413/413 [==============================] - 1s 2ms/step - loss: 0.4686 - mae: 0.5013 - mse: 0.4686 - val_loss: 0.5265 - val_mae: 0.5094 - val_mse: 0.5265\n",
            "Epoch 23/50\n",
            "413/413 [==============================] - 1s 2ms/step - loss: 0.4664 - mae: 0.5008 - mse: 0.4664 - val_loss: 0.5270 - val_mae: 0.5097 - val_mse: 0.5270\n",
            "Epoch 24/50\n",
            "413/413 [==============================] - 1s 2ms/step - loss: 0.4814 - mae: 0.5052 - mse: 0.4814 - val_loss: 0.5288 - val_mae: 0.5042 - val_mse: 0.5288\n",
            "Epoch 25/50\n",
            "413/413 [==============================] - 1s 2ms/step - loss: 0.4625 - mae: 0.4957 - mse: 0.4625 - val_loss: 0.5311 - val_mae: 0.5165 - val_mse: 0.5311\n",
            "Epoch 26/50\n",
            "413/413 [==============================] - 1s 2ms/step - loss: 0.4753 - mae: 0.5093 - mse: 0.4753 - val_loss: 0.5280 - val_mae: 0.5119 - val_mse: 0.5280\n",
            "Epoch 27/50\n",
            "413/413 [==============================] - 1s 2ms/step - loss: 0.4848 - mae: 0.5093 - mse: 0.4848 - val_loss: 0.5223 - val_mae: 0.5132 - val_mse: 0.5223\n",
            "Epoch 28/50\n",
            "413/413 [==============================] - 1s 2ms/step - loss: 0.4643 - mae: 0.4968 - mse: 0.4643 - val_loss: 0.5322 - val_mae: 0.5024 - val_mse: 0.5322\n",
            "Epoch 29/50\n",
            "413/413 [==============================] - 1s 2ms/step - loss: 0.4673 - mae: 0.4984 - mse: 0.4673 - val_loss: 0.5335 - val_mae: 0.5067 - val_mse: 0.5335\n",
            "Epoch 30/50\n",
            "413/413 [==============================] - 1s 2ms/step - loss: 0.4733 - mae: 0.5043 - mse: 0.4733 - val_loss: 0.5255 - val_mae: 0.5209 - val_mse: 0.5255\n",
            "Epoch 31/50\n",
            "413/413 [==============================] - 1s 2ms/step - loss: 0.4649 - mae: 0.4973 - mse: 0.4649 - val_loss: 0.5267 - val_mae: 0.5079 - val_mse: 0.5267\n",
            "Epoch 32/50\n",
            "413/413 [==============================] - 1s 2ms/step - loss: 0.4621 - mae: 0.4967 - mse: 0.4621 - val_loss: 0.5269 - val_mae: 0.5092 - val_mse: 0.5269\n",
            "Epoch 33/50\n",
            "413/413 [==============================] - 1s 2ms/step - loss: 0.4654 - mae: 0.4980 - mse: 0.4654 - val_loss: 0.5784 - val_mae: 0.5125 - val_mse: 0.5784\n",
            "Epoch 34/50\n",
            "413/413 [==============================] - 1s 2ms/step - loss: 0.4692 - mae: 0.5008 - mse: 0.4692 - val_loss: 0.5227 - val_mae: 0.5039 - val_mse: 0.5227\n",
            "Epoch 35/50\n",
            "413/413 [==============================] - 1s 2ms/step - loss: 0.4746 - mae: 0.4996 - mse: 0.4746 - val_loss: 0.5231 - val_mae: 0.5118 - val_mse: 0.5231\n",
            "Epoch 36/50\n",
            "413/413 [==============================] - 1s 2ms/step - loss: 0.4608 - mae: 0.4970 - mse: 0.4608 - val_loss: 0.5276 - val_mae: 0.5025 - val_mse: 0.5276\n",
            "Epoch 37/50\n",
            "413/413 [==============================] - 1s 2ms/step - loss: 0.4785 - mae: 0.5031 - mse: 0.4785 - val_loss: 0.5325 - val_mae: 0.5304 - val_mse: 0.5325\n",
            "Epoch 38/50\n",
            "413/413 [==============================] - 1s 2ms/step - loss: 0.4972 - mae: 0.5134 - mse: 0.4972 - val_loss: 0.5251 - val_mae: 0.5064 - val_mse: 0.5251\n",
            "Epoch 39/50\n",
            "413/413 [==============================] - 1s 2ms/step - loss: 0.4740 - mae: 0.5006 - mse: 0.4740 - val_loss: 0.5361 - val_mae: 0.5045 - val_mse: 0.5361\n",
            "Epoch 40/50\n",
            "413/413 [==============================] - 1s 2ms/step - loss: 0.4436 - mae: 0.4860 - mse: 0.4436 - val_loss: 0.5351 - val_mae: 0.5301 - val_mse: 0.5351\n",
            "Epoch 41/50\n",
            "413/413 [==============================] - 1s 2ms/step - loss: 0.4771 - mae: 0.5044 - mse: 0.4771 - val_loss: 0.5476 - val_mae: 0.5018 - val_mse: 0.5476\n",
            "Epoch 42/50\n",
            "413/413 [==============================] - 1s 2ms/step - loss: 0.4651 - mae: 0.4961 - mse: 0.4651 - val_loss: 0.5261 - val_mae: 0.5217 - val_mse: 0.5261\n",
            "Epoch 43/50\n",
            "413/413 [==============================] - 1s 2ms/step - loss: 0.4846 - mae: 0.5082 - mse: 0.4846 - val_loss: 0.5331 - val_mae: 0.5264 - val_mse: 0.5331\n",
            "Epoch 44/50\n",
            "413/413 [==============================] - 1s 2ms/step - loss: 0.4655 - mae: 0.5023 - mse: 0.4655 - val_loss: 0.5267 - val_mae: 0.5049 - val_mse: 0.5267\n",
            "Epoch 45/50\n",
            "413/413 [==============================] - 1s 2ms/step - loss: 0.4583 - mae: 0.4922 - mse: 0.4583 - val_loss: 0.5254 - val_mae: 0.5120 - val_mse: 0.5254\n",
            "Epoch 46/50\n",
            "413/413 [==============================] - 1s 2ms/step - loss: 0.4661 - mae: 0.4982 - mse: 0.4661 - val_loss: 0.5345 - val_mae: 0.5025 - val_mse: 0.5345\n",
            "Epoch 47/50\n",
            "413/413 [==============================] - 1s 2ms/step - loss: 0.4545 - mae: 0.4933 - mse: 0.4545 - val_loss: 0.5252 - val_mae: 0.5100 - val_mse: 0.5252\n",
            "Epoch 48/50\n",
            "413/413 [==============================] - 1s 2ms/step - loss: 0.4635 - mae: 0.4981 - mse: 0.4635 - val_loss: 0.5304 - val_mae: 0.5051 - val_mse: 0.5304\n",
            "Epoch 49/50\n",
            "413/413 [==============================] - 1s 2ms/step - loss: 0.4789 - mae: 0.5048 - mse: 0.4789 - val_loss: 0.5281 - val_mae: 0.5121 - val_mse: 0.5281\n",
            "Epoch 50/50\n",
            "413/413 [==============================] - 1s 2ms/step - loss: 0.4754 - mae: 0.5046 - mse: 0.4754 - val_loss: 0.5230 - val_mae: 0.5113 - val_mse: 0.5230\n"
          ],
          "name": "stdout"
        },
        {
          "output_type": "execute_result",
          "data": {
            "text/plain": [
              "<tensorflow.python.keras.callbacks.History at 0x7fc9d4ad46d0>"
            ]
          },
          "metadata": {
            "tags": []
          },
          "execution_count": 40
        }
      ]
    },
    {
      "cell_type": "markdown",
      "metadata": {
        "id": "TuTsElUdv4uU"
      },
      "source": [
        "## Validating the Model"
      ]
    },
    {
      "cell_type": "markdown",
      "metadata": {
        "id": "pFLnpozdwYbL"
      },
      "source": [
        "We can now see how well our model performs on our validation test set. In order to get the model to make predictions, we use the [`predict` method](https://keras.io/models/model/#predict)."
      ]
    },
    {
      "cell_type": "code",
      "metadata": {
        "id": "qzC4Q6kuxy-m",
        "colab": {
          "base_uri": "https://localhost:8080/"
        },
        "outputId": "5c627e1a-3ad0-4784-bfbd-44076f4731bd"
      },
      "source": [
        "predictions = model.predict(testing_df[feature_columns])\n",
        "\n",
        "predictions"
      ],
      "execution_count": null,
      "outputs": [
        {
          "output_type": "execute_result",
          "data": {
            "text/plain": [
              "array([[2.6235507],\n",
              "       [2.3353362],\n",
              "       [1.017668 ],\n",
              "       ...,\n",
              "       [2.9445941],\n",
              "       [1.2377841],\n",
              "       [2.3761418]], dtype=float32)"
            ]
          },
          "metadata": {
            "tags": []
          },
          "execution_count": 41
        }
      ]
    },
    {
      "cell_type": "markdown",
      "metadata": {
        "id": "3nAGc2VQyIGu"
      },
      "source": [
        "Notice that the predictions are lists of lists. This is because neural networks can return more than one prediction per input. We set this network up to have a single final node, but could have had more."
      ]
    },
    {
      "cell_type": "markdown",
      "metadata": {
        "id": "XH_6-meyzBIj"
      },
      "source": [
        "### Exercise 4: Calculating RMSE\n",
        "\n",
        "At this point we have the predicted values from our test features and the actual values. In this exercise you are tasked with computing the root-mean squared error of those predictions. Given the predictions stored in `predictions` above, write code that computes the root mean squared error of those predictions vs. the truth found in `testing_df`. Print the root mean squared error."
      ]
    },
    {
      "cell_type": "markdown",
      "metadata": {
        "id": "GuY3HZAZl4z7"
      },
      "source": [
        "#### **Student Solution**"
      ]
    },
    {
      "cell_type": "code",
      "metadata": {
        "id": "_flON0FHc_yW",
        "colab": {
          "base_uri": "https://localhost:8080/"
        },
        "outputId": "393d33e5-71a3-45c0-9792-854045a14c53"
      },
      "source": [
        "# Your Code Goes here\n",
        "from sklearn.metrics import mean_squared_error\n",
        "\n",
        "rmse = mean_squared_error(testing_df['median_house_value'], predictions, squared=False)\n",
        "rmse"
      ],
      "execution_count": null,
      "outputs": [
        {
          "output_type": "execute_result",
          "data": {
            "text/plain": [
              "0.6832837039045299"
            ]
          },
          "metadata": {
            "tags": []
          },
          "execution_count": 47
        }
      ]
    },
    {
      "cell_type": "markdown",
      "metadata": {
        "id": "4DncNYnRdBQ6"
      },
      "source": [
        "---"
      ]
    },
    {
      "cell_type": "markdown",
      "metadata": {
        "id": "33SMPRXPeLmv"
      },
      "source": [
        "## Improving the Model"
      ]
    },
    {
      "cell_type": "markdown",
      "metadata": {
        "id": "YAtfBRAXeSYW"
      },
      "source": [
        "In the exercise above, you likely got a root mean squared error very close to the error we got in the linear regression lab. What's going on? I thought deep learning models were supposed to be really, really good!\n",
        "\n",
        "Deep learning models can be really good, but they often require a bit of hyperparameter tuning. Aside from the breadth and depth of the hidden layers, the activation function for the model can have a big impact on how a model performs.\n",
        "\n",
        "Earlier we mentioned that the default activation function for `Dense` layers is the linear function $f(x) = x$. It turns out that if you stack layers of linear functions, you just get a single linear function, so the network that we built is basically just one big linear regression.\n",
        "\n",
        "We can change the activation function layer by layer for our model. In order to do that, we just pass an `activation` argument to our `Dense` class. Keras has [many built-in activations](https://www.tensorflow.org/api_docs/python/tf/keras/activations) that you can reference by name like:\n",
        "\n",
        "```python\n",
        "  layers.Dense(64, activation='sigmoid')\n",
        "```\n",
        "\n",
        "For activations that aren't built into Keras, you can use the full path to their class:\n",
        "\n",
        "```python\n",
        "  layers.Dense(64, activation=tf.nn.swish)\n",
        "```\n",
        "\n",
        "The [`tf.nn` namespace](https://www.tensorflow.org/api_docs/python/tf/nn) is a little crowded, but there are activations functions in there including [`swish`](https://www.tensorflow.org/api_docs/python/tf/nn/swish), [`leaky_relu`](https://www.tensorflow.org/api_docs/python/tf/nn/leaky_relu), and more."
      ]
    },
    {
      "cell_type": "markdown",
      "metadata": {
        "id": "M-BNO2fAeOZ2"
      },
      "source": [
        "### Exercise 5: A Better Activation Function\n",
        "\n",
        "Experiment with different activation functions and find one that performs better than the linear activation that we used above. You can set the activation function on any or all of the layers in the network. The functions don't have to be the same.\n",
        "\n",
        "Print out the root mean squared error once you find an acceptable activation function."
      ]
    },
    {
      "cell_type": "markdown",
      "metadata": {
        "id": "cMgsYuE0ld9g"
      },
      "source": [
        "#### **Student Solution**"
      ]
    },
    {
      "cell_type": "code",
      "metadata": {
        "colab": {
          "base_uri": "https://localhost:8080/",
          "height": 444
        },
        "id": "QVQqBagb7ZSt",
        "outputId": "e3cafbfe-d8b3-4e62-9a55-689d40bc3b4d"
      },
      "source": [
        "training_df"
      ],
      "execution_count": null,
      "outputs": [
        {
          "output_type": "execute_result",
          "data": {
            "text/html": [
              "<div>\n",
              "<style scoped>\n",
              "    .dataframe tbody tr th:only-of-type {\n",
              "        vertical-align: middle;\n",
              "    }\n",
              "\n",
              "    .dataframe tbody tr th {\n",
              "        vertical-align: top;\n",
              "    }\n",
              "\n",
              "    .dataframe thead th {\n",
              "        text-align: right;\n",
              "    }\n",
              "</style>\n",
              "<table border=\"1\" class=\"dataframe\">\n",
              "  <thead>\n",
              "    <tr style=\"text-align: right;\">\n",
              "      <th></th>\n",
              "      <th>longitude</th>\n",
              "      <th>latitude</th>\n",
              "      <th>housing_median_age</th>\n",
              "      <th>total_rooms</th>\n",
              "      <th>total_bedrooms</th>\n",
              "      <th>population</th>\n",
              "      <th>households</th>\n",
              "      <th>median_income</th>\n",
              "      <th>median_house_value</th>\n",
              "      <th>ocean_proximity</th>\n",
              "      <th>1h_ocean</th>\n",
              "      <th>inland</th>\n",
              "      <th>island</th>\n",
              "      <th>near_bay</th>\n",
              "      <th>near_ocean</th>\n",
              "    </tr>\n",
              "  </thead>\n",
              "  <tbody>\n",
              "    <tr>\n",
              "      <th>12868</th>\n",
              "      <td>0.298805</td>\n",
              "      <td>0.656748</td>\n",
              "      <td>0.019608</td>\n",
              "      <td>0.556870</td>\n",
              "      <td>0.545003</td>\n",
              "      <td>0.242412</td>\n",
              "      <td>0.472291</td>\n",
              "      <td>0.278844</td>\n",
              "      <td>1.513</td>\n",
              "      <td>INLAND</td>\n",
              "      <td>0</td>\n",
              "      <td>1</td>\n",
              "      <td>0</td>\n",
              "      <td>0</td>\n",
              "      <td>0</td>\n",
              "    </tr>\n",
              "    <tr>\n",
              "      <th>19567</th>\n",
              "      <td>0.336653</td>\n",
              "      <td>0.538789</td>\n",
              "      <td>0.294118</td>\n",
              "      <td>0.033674</td>\n",
              "      <td>0.058038</td>\n",
              "      <td>0.024692</td>\n",
              "      <td>0.061503</td>\n",
              "      <td>0.094557</td>\n",
              "      <td>1.039</td>\n",
              "      <td>INLAND</td>\n",
              "      <td>0</td>\n",
              "      <td>1</td>\n",
              "      <td>0</td>\n",
              "      <td>0</td>\n",
              "      <td>0</td>\n",
              "    </tr>\n",
              "    <tr>\n",
              "      <th>12789</th>\n",
              "      <td>0.289841</td>\n",
              "      <td>0.646121</td>\n",
              "      <td>0.705882</td>\n",
              "      <td>0.076479</td>\n",
              "      <td>0.113594</td>\n",
              "      <td>0.042322</td>\n",
              "      <td>0.096530</td>\n",
              "      <td>0.064744</td>\n",
              "      <td>0.610</td>\n",
              "      <td>INLAND</td>\n",
              "      <td>0</td>\n",
              "      <td>1</td>\n",
              "      <td>0</td>\n",
              "      <td>0</td>\n",
              "      <td>0</td>\n",
              "    </tr>\n",
              "    <tr>\n",
              "      <th>3515</th>\n",
              "      <td>0.585657</td>\n",
              "      <td>0.181722</td>\n",
              "      <td>0.647059</td>\n",
              "      <td>0.044000</td>\n",
              "      <td>0.061763</td>\n",
              "      <td>0.031307</td>\n",
              "      <td>0.065779</td>\n",
              "      <td>0.251672</td>\n",
              "      <td>1.957</td>\n",
              "      <td>&lt;1H OCEAN</td>\n",
              "      <td>1</td>\n",
              "      <td>0</td>\n",
              "      <td>0</td>\n",
              "      <td>0</td>\n",
              "      <td>0</td>\n",
              "    </tr>\n",
              "    <tr>\n",
              "      <th>20484</th>\n",
              "      <td>0.560757</td>\n",
              "      <td>0.184910</td>\n",
              "      <td>0.313725</td>\n",
              "      <td>0.077547</td>\n",
              "      <td>0.096436</td>\n",
              "      <td>0.047703</td>\n",
              "      <td>0.081237</td>\n",
              "      <td>0.361216</td>\n",
              "      <td>2.186</td>\n",
              "      <td>&lt;1H OCEAN</td>\n",
              "      <td>1</td>\n",
              "      <td>0</td>\n",
              "      <td>0</td>\n",
              "      <td>0</td>\n",
              "      <td>0</td>\n",
              "    </tr>\n",
              "    <tr>\n",
              "      <th>...</th>\n",
              "      <td>...</td>\n",
              "      <td>...</td>\n",
              "      <td>...</td>\n",
              "      <td>...</td>\n",
              "      <td>...</td>\n",
              "      <td>...</td>\n",
              "      <td>...</td>\n",
              "      <td>...</td>\n",
              "      <td>...</td>\n",
              "      <td>...</td>\n",
              "      <td>...</td>\n",
              "      <td>...</td>\n",
              "      <td>...</td>\n",
              "      <td>...</td>\n",
              "      <td>...</td>\n",
              "    </tr>\n",
              "    <tr>\n",
              "      <th>7645</th>\n",
              "      <td>0.605578</td>\n",
              "      <td>0.134963</td>\n",
              "      <td>0.176471</td>\n",
              "      <td>0.047790</td>\n",
              "      <td>0.088454</td>\n",
              "      <td>0.049497</td>\n",
              "      <td>0.090775</td>\n",
              "      <td>0.236459</td>\n",
              "      <td>1.140</td>\n",
              "      <td>&lt;1H OCEAN</td>\n",
              "      <td>1</td>\n",
              "      <td>0</td>\n",
              "      <td>0</td>\n",
              "      <td>0</td>\n",
              "      <td>0</td>\n",
              "    </tr>\n",
              "    <tr>\n",
              "      <th>12013</th>\n",
              "      <td>0.675299</td>\n",
              "      <td>0.145590</td>\n",
              "      <td>0.411765</td>\n",
              "      <td>0.066585</td>\n",
              "      <td>0.061297</td>\n",
              "      <td>0.037025</td>\n",
              "      <td>0.059365</td>\n",
              "      <td>0.336106</td>\n",
              "      <td>2.146</td>\n",
              "      <td>INLAND</td>\n",
              "      <td>0</td>\n",
              "      <td>1</td>\n",
              "      <td>0</td>\n",
              "      <td>0</td>\n",
              "      <td>0</td>\n",
              "    </tr>\n",
              "    <tr>\n",
              "      <th>11859</th>\n",
              "      <td>0.339641</td>\n",
              "      <td>0.807651</td>\n",
              "      <td>0.588235</td>\n",
              "      <td>0.079480</td>\n",
              "      <td>0.102886</td>\n",
              "      <td>0.037613</td>\n",
              "      <td>0.095215</td>\n",
              "      <td>0.074309</td>\n",
              "      <td>0.580</td>\n",
              "      <td>INLAND</td>\n",
              "      <td>0</td>\n",
              "      <td>1</td>\n",
              "      <td>0</td>\n",
              "      <td>0</td>\n",
              "      <td>0</td>\n",
              "    </tr>\n",
              "    <tr>\n",
              "      <th>10235</th>\n",
              "      <td>0.640438</td>\n",
              "      <td>0.140276</td>\n",
              "      <td>0.490196</td>\n",
              "      <td>0.018897</td>\n",
              "      <td>0.024829</td>\n",
              "      <td>0.006839</td>\n",
              "      <td>0.024667</td>\n",
              "      <td>0.216383</td>\n",
              "      <td>1.339</td>\n",
              "      <td>&lt;1H OCEAN</td>\n",
              "      <td>1</td>\n",
              "      <td>0</td>\n",
              "      <td>0</td>\n",
              "      <td>0</td>\n",
              "      <td>0</td>\n",
              "    </tr>\n",
              "    <tr>\n",
              "      <th>14164</th>\n",
              "      <td>0.726096</td>\n",
              "      <td>0.024442</td>\n",
              "      <td>0.647059</td>\n",
              "      <td>0.043949</td>\n",
              "      <td>0.057728</td>\n",
              "      <td>0.020376</td>\n",
              "      <td>0.057392</td>\n",
              "      <td>0.105412</td>\n",
              "      <td>1.618</td>\n",
              "      <td>NEAR OCEAN</td>\n",
              "      <td>0</td>\n",
              "      <td>0</td>\n",
              "      <td>0</td>\n",
              "      <td>0</td>\n",
              "      <td>1</td>\n",
              "    </tr>\n",
              "  </tbody>\n",
              "</table>\n",
              "<p>16512 rows × 15 columns</p>\n",
              "</div>"
            ],
            "text/plain": [
              "       longitude  latitude  housing_median_age  ...  island  near_bay  near_ocean\n",
              "12868   0.298805  0.656748            0.019608  ...       0         0           0\n",
              "19567   0.336653  0.538789            0.294118  ...       0         0           0\n",
              "12789   0.289841  0.646121            0.705882  ...       0         0           0\n",
              "3515    0.585657  0.181722            0.647059  ...       0         0           0\n",
              "20484   0.560757  0.184910            0.313725  ...       0         0           0\n",
              "...          ...       ...                 ...  ...     ...       ...         ...\n",
              "7645    0.605578  0.134963            0.176471  ...       0         0           0\n",
              "12013   0.675299  0.145590            0.411765  ...       0         0           0\n",
              "11859   0.339641  0.807651            0.588235  ...       0         0           0\n",
              "10235   0.640438  0.140276            0.490196  ...       0         0           0\n",
              "14164   0.726096  0.024442            0.647059  ...       0         0           1\n",
              "\n",
              "[16512 rows x 15 columns]"
            ]
          },
          "metadata": {
            "tags": []
          },
          "execution_count": 49
        }
      ]
    },
    {
      "cell_type": "code",
      "metadata": {
        "id": "HuWQBoAslfo0",
        "colab": {
          "base_uri": "https://localhost:8080/"
        },
        "outputId": "57bda223-dc17-46af-f6cf-879b222de6fd"
      },
      "source": [
        "# Your Code Goes Here\n",
        "import tensorflow as tf\n",
        "from tensorflow import keras\n",
        "from tensorflow.keras import layers\n",
        "\n",
        "feature_count = len(feature_columns)\n",
        "\n",
        "model = keras.Sequential([\n",
        "    layers.Dense(64, activation=tf.nn.relu, input_shape=[feature_count]),\n",
        "    layers.Dense(64, activation=tf.nn.relu),\n",
        "    layers.Dense(1, activation=tf.keras.activations.swish)\n",
        "])\n",
        "\n",
        "model.compile(\n",
        "    loss='mse',\n",
        "    optimizer='Adam',\n",
        "    metrics=['mae', 'mse'],\n",
        ")\n",
        "\n",
        "EPOCHS = 50\n",
        "\n",
        "model.fit(\n",
        "    training_df[feature_columns],\n",
        "    training_df[target_column],\n",
        "    epochs=EPOCHS,\n",
        "    validation_split=0.2,\n",
        ")"
      ],
      "execution_count": null,
      "outputs": [
        {
          "output_type": "stream",
          "text": [
            "Epoch 1/50\n",
            "413/413 [==============================] - 1s 2ms/step - loss: 1.7693 - mae: 0.9611 - mse: 1.7693 - val_loss: 0.5363 - val_mae: 0.5402 - val_mse: 0.5363\n",
            "Epoch 2/50\n",
            "413/413 [==============================] - 1s 2ms/step - loss: 0.4986 - mae: 0.5128 - mse: 0.4986 - val_loss: 0.5156 - val_mae: 0.4872 - val_mse: 0.5156\n",
            "Epoch 3/50\n",
            "413/413 [==============================] - 1s 2ms/step - loss: 0.4723 - mae: 0.4937 - mse: 0.4723 - val_loss: 0.4841 - val_mae: 0.4879 - val_mse: 0.4841\n",
            "Epoch 4/50\n",
            "413/413 [==============================] - 1s 2ms/step - loss: 0.4586 - mae: 0.4854 - mse: 0.4586 - val_loss: 0.4767 - val_mae: 0.4744 - val_mse: 0.4767\n",
            "Epoch 5/50\n",
            "413/413 [==============================] - 1s 2ms/step - loss: 0.4481 - mae: 0.4738 - mse: 0.4481 - val_loss: 0.4683 - val_mae: 0.4939 - val_mse: 0.4683\n",
            "Epoch 6/50\n",
            "413/413 [==============================] - 1s 2ms/step - loss: 0.4251 - mae: 0.4628 - mse: 0.4251 - val_loss: 0.4575 - val_mae: 0.4584 - val_mse: 0.4575\n",
            "Epoch 7/50\n",
            "413/413 [==============================] - 1s 2ms/step - loss: 0.4112 - mae: 0.4569 - mse: 0.4112 - val_loss: 0.4312 - val_mae: 0.4605 - val_mse: 0.4312\n",
            "Epoch 8/50\n",
            "413/413 [==============================] - 1s 2ms/step - loss: 0.3976 - mae: 0.4445 - mse: 0.3976 - val_loss: 0.4231 - val_mae: 0.4578 - val_mse: 0.4231\n",
            "Epoch 9/50\n",
            "413/413 [==============================] - 1s 2ms/step - loss: 0.3969 - mae: 0.4428 - mse: 0.3969 - val_loss: 0.4181 - val_mae: 0.4440 - val_mse: 0.4181\n",
            "Epoch 10/50\n",
            "413/413 [==============================] - 1s 2ms/step - loss: 0.3798 - mae: 0.4321 - mse: 0.3798 - val_loss: 0.4081 - val_mae: 0.4556 - val_mse: 0.4081\n",
            "Epoch 11/50\n",
            "413/413 [==============================] - 1s 2ms/step - loss: 0.3696 - mae: 0.4263 - mse: 0.3696 - val_loss: 0.4160 - val_mae: 0.4573 - val_mse: 0.4160\n",
            "Epoch 12/50\n",
            "413/413 [==============================] - 1s 2ms/step - loss: 0.3797 - mae: 0.4297 - mse: 0.3797 - val_loss: 0.3990 - val_mae: 0.4285 - val_mse: 0.3990\n",
            "Epoch 13/50\n",
            "413/413 [==============================] - 1s 2ms/step - loss: 0.3724 - mae: 0.4278 - mse: 0.3724 - val_loss: 0.3998 - val_mae: 0.4303 - val_mse: 0.3998\n",
            "Epoch 14/50\n",
            "413/413 [==============================] - 1s 2ms/step - loss: 0.3457 - mae: 0.4089 - mse: 0.3457 - val_loss: 0.3970 - val_mae: 0.4473 - val_mse: 0.3970\n",
            "Epoch 15/50\n",
            "413/413 [==============================] - 1s 2ms/step - loss: 0.3596 - mae: 0.4129 - mse: 0.3596 - val_loss: 0.3813 - val_mae: 0.4192 - val_mse: 0.3813\n",
            "Epoch 16/50\n",
            "413/413 [==============================] - 1s 2ms/step - loss: 0.3619 - mae: 0.4172 - mse: 0.3619 - val_loss: 0.3781 - val_mae: 0.4241 - val_mse: 0.3781\n",
            "Epoch 17/50\n",
            "413/413 [==============================] - 1s 2ms/step - loss: 0.3363 - mae: 0.4061 - mse: 0.3363 - val_loss: 0.3773 - val_mae: 0.4219 - val_mse: 0.3773\n",
            "Epoch 18/50\n",
            "413/413 [==============================] - 1s 2ms/step - loss: 0.3424 - mae: 0.4080 - mse: 0.3424 - val_loss: 0.3862 - val_mae: 0.4181 - val_mse: 0.3862\n",
            "Epoch 19/50\n",
            "413/413 [==============================] - 1s 2ms/step - loss: 0.3320 - mae: 0.4036 - mse: 0.3320 - val_loss: 0.3779 - val_mae: 0.4335 - val_mse: 0.3779\n",
            "Epoch 20/50\n",
            "413/413 [==============================] - 1s 2ms/step - loss: 0.3336 - mae: 0.3995 - mse: 0.3336 - val_loss: 0.3765 - val_mae: 0.4126 - val_mse: 0.3765\n",
            "Epoch 21/50\n",
            "413/413 [==============================] - 1s 2ms/step - loss: 0.3343 - mae: 0.3978 - mse: 0.3343 - val_loss: 0.3652 - val_mae: 0.4109 - val_mse: 0.3652\n",
            "Epoch 22/50\n",
            "413/413 [==============================] - 1s 2ms/step - loss: 0.3314 - mae: 0.3977 - mse: 0.3314 - val_loss: 0.4371 - val_mae: 0.4346 - val_mse: 0.4371\n",
            "Epoch 23/50\n",
            "413/413 [==============================] - 1s 2ms/step - loss: 0.3328 - mae: 0.3981 - mse: 0.3328 - val_loss: 0.3749 - val_mae: 0.4117 - val_mse: 0.3749\n",
            "Epoch 24/50\n",
            "413/413 [==============================] - 1s 2ms/step - loss: 0.3319 - mae: 0.3962 - mse: 0.3319 - val_loss: 0.3628 - val_mae: 0.4082 - val_mse: 0.3628\n",
            "Epoch 25/50\n",
            "413/413 [==============================] - 1s 2ms/step - loss: 0.3191 - mae: 0.3882 - mse: 0.3191 - val_loss: 0.3682 - val_mae: 0.4214 - val_mse: 0.3682\n",
            "Epoch 26/50\n",
            "413/413 [==============================] - 1s 2ms/step - loss: 0.3291 - mae: 0.3953 - mse: 0.3291 - val_loss: 0.3519 - val_mae: 0.4125 - val_mse: 0.3519\n",
            "Epoch 27/50\n",
            "413/413 [==============================] - 1s 2ms/step - loss: 0.3245 - mae: 0.3912 - mse: 0.3245 - val_loss: 0.3778 - val_mae: 0.4035 - val_mse: 0.3778\n",
            "Epoch 28/50\n",
            "413/413 [==============================] - 1s 2ms/step - loss: 0.3256 - mae: 0.3943 - mse: 0.3256 - val_loss: 0.3579 - val_mae: 0.4072 - val_mse: 0.3579\n",
            "Epoch 29/50\n",
            "413/413 [==============================] - 1s 2ms/step - loss: 0.3104 - mae: 0.3845 - mse: 0.3104 - val_loss: 0.3707 - val_mae: 0.4013 - val_mse: 0.3707\n",
            "Epoch 30/50\n",
            "413/413 [==============================] - 1s 2ms/step - loss: 0.3078 - mae: 0.3837 - mse: 0.3078 - val_loss: 0.3649 - val_mae: 0.4320 - val_mse: 0.3649\n",
            "Epoch 31/50\n",
            "413/413 [==============================] - 1s 2ms/step - loss: 0.3176 - mae: 0.3929 - mse: 0.3176 - val_loss: 0.3551 - val_mae: 0.4211 - val_mse: 0.3551\n",
            "Epoch 32/50\n",
            "413/413 [==============================] - 1s 2ms/step - loss: 0.3101 - mae: 0.3846 - mse: 0.3101 - val_loss: 0.3659 - val_mae: 0.4392 - val_mse: 0.3659\n",
            "Epoch 33/50\n",
            "413/413 [==============================] - 1s 2ms/step - loss: 0.3097 - mae: 0.3831 - mse: 0.3097 - val_loss: 0.3463 - val_mae: 0.4001 - val_mse: 0.3463\n",
            "Epoch 34/50\n",
            "413/413 [==============================] - 1s 2ms/step - loss: 0.3141 - mae: 0.3854 - mse: 0.3141 - val_loss: 0.3545 - val_mae: 0.4112 - val_mse: 0.3545\n",
            "Epoch 35/50\n",
            "413/413 [==============================] - 1s 2ms/step - loss: 0.3176 - mae: 0.3872 - mse: 0.3176 - val_loss: 0.3396 - val_mae: 0.3999 - val_mse: 0.3396\n",
            "Epoch 36/50\n",
            "413/413 [==============================] - 1s 2ms/step - loss: 0.3075 - mae: 0.3813 - mse: 0.3075 - val_loss: 0.3558 - val_mae: 0.3950 - val_mse: 0.3558\n",
            "Epoch 37/50\n",
            "413/413 [==============================] - 1s 2ms/step - loss: 0.2981 - mae: 0.3786 - mse: 0.2981 - val_loss: 0.3405 - val_mae: 0.4023 - val_mse: 0.3405\n",
            "Epoch 38/50\n",
            "413/413 [==============================] - 1s 2ms/step - loss: 0.3058 - mae: 0.3793 - mse: 0.3058 - val_loss: 0.3417 - val_mae: 0.3922 - val_mse: 0.3417\n",
            "Epoch 39/50\n",
            "413/413 [==============================] - 1s 2ms/step - loss: 0.3009 - mae: 0.3781 - mse: 0.3009 - val_loss: 0.3403 - val_mae: 0.4001 - val_mse: 0.3403\n",
            "Epoch 40/50\n",
            "413/413 [==============================] - 1s 2ms/step - loss: 0.3067 - mae: 0.3813 - mse: 0.3067 - val_loss: 0.3328 - val_mae: 0.3889 - val_mse: 0.3328\n",
            "Epoch 41/50\n",
            "413/413 [==============================] - 1s 2ms/step - loss: 0.3017 - mae: 0.3774 - mse: 0.3017 - val_loss: 0.3591 - val_mae: 0.4330 - val_mse: 0.3591\n",
            "Epoch 42/50\n",
            "413/413 [==============================] - 1s 2ms/step - loss: 0.3036 - mae: 0.3786 - mse: 0.3036 - val_loss: 0.3401 - val_mae: 0.3855 - val_mse: 0.3401\n",
            "Epoch 43/50\n",
            "413/413 [==============================] - 1s 2ms/step - loss: 0.3053 - mae: 0.3796 - mse: 0.3053 - val_loss: 0.3406 - val_mae: 0.3895 - val_mse: 0.3406\n",
            "Epoch 44/50\n",
            "413/413 [==============================] - 1s 2ms/step - loss: 0.3083 - mae: 0.3746 - mse: 0.3083 - val_loss: 0.3403 - val_mae: 0.3847 - val_mse: 0.3403\n",
            "Epoch 45/50\n",
            "413/413 [==============================] - 1s 2ms/step - loss: 0.2922 - mae: 0.3691 - mse: 0.2922 - val_loss: 0.3360 - val_mae: 0.3893 - val_mse: 0.3360\n",
            "Epoch 46/50\n",
            "413/413 [==============================] - 1s 2ms/step - loss: 0.2955 - mae: 0.3727 - mse: 0.2955 - val_loss: 0.3377 - val_mae: 0.3956 - val_mse: 0.3377\n",
            "Epoch 47/50\n",
            "413/413 [==============================] - 1s 2ms/step - loss: 0.2995 - mae: 0.3724 - mse: 0.2995 - val_loss: 0.3306 - val_mae: 0.3875 - val_mse: 0.3306\n",
            "Epoch 48/50\n",
            "413/413 [==============================] - 1s 2ms/step - loss: 0.2994 - mae: 0.3739 - mse: 0.2994 - val_loss: 0.3415 - val_mae: 0.4008 - val_mse: 0.3415\n",
            "Epoch 49/50\n",
            "413/413 [==============================] - 1s 2ms/step - loss: 0.2939 - mae: 0.3710 - mse: 0.2939 - val_loss: 0.3260 - val_mae: 0.3778 - val_mse: 0.3260\n",
            "Epoch 50/50\n",
            "413/413 [==============================] - 1s 2ms/step - loss: 0.2842 - mae: 0.3646 - mse: 0.2842 - val_loss: 0.3275 - val_mae: 0.3812 - val_mse: 0.3275\n"
          ],
          "name": "stdout"
        },
        {
          "output_type": "execute_result",
          "data": {
            "text/plain": [
              "<tensorflow.python.keras.callbacks.History at 0x7fc9c39dc1d0>"
            ]
          },
          "metadata": {
            "tags": []
          },
          "execution_count": 65
        }
      ]
    },
    {
      "cell_type": "code",
      "metadata": {
        "colab": {
          "base_uri": "https://localhost:8080/"
        },
        "id": "pVJPiVzh8U7c",
        "outputId": "ff4413f7-37ec-4eca-beb3-da39f1308b82"
      },
      "source": [
        "predictions = model.predict(testing_df[feature_columns])\n",
        "predictions"
      ],
      "execution_count": null,
      "outputs": [
        {
          "output_type": "execute_result",
          "data": {
            "text/plain": [
              "array([[3.778885 ],\n",
              "       [1.8306324],\n",
              "       [0.6583254],\n",
              "       ...,\n",
              "       [2.6525545],\n",
              "       [1.0388312],\n",
              "       [2.6696036]], dtype=float32)"
            ]
          },
          "metadata": {
            "tags": []
          },
          "execution_count": 66
        }
      ]
    },
    {
      "cell_type": "code",
      "metadata": {
        "colab": {
          "base_uri": "https://localhost:8080/"
        },
        "id": "w4RKIUCK34Cw",
        "outputId": "3cb117fa-7240-479d-b8c8-cfaf9045520e"
      },
      "source": [
        "from sklearn.metrics import mean_squared_error\n",
        "\n",
        "rmse = mean_squared_error(testing_df['median_house_value'], predictions, squared=False)\n",
        "rmse"
      ],
      "execution_count": null,
      "outputs": [
        {
          "output_type": "execute_result",
          "data": {
            "text/plain": [
              "0.5481113993557271"
            ]
          },
          "metadata": {
            "tags": []
          },
          "execution_count": 67
        }
      ]
    },
    {
      "cell_type": "markdown",
      "metadata": {
        "id": "J2csiDfLlgtT"
      },
      "source": [
        "---"
      ]
    },
    {
      "cell_type": "markdown",
      "metadata": {
        "id": "7E63WyKpmleN"
      },
      "source": [
        "## Visualizing Training"
      ]
    },
    {
      "cell_type": "markdown",
      "metadata": {
        "id": "ixm_bQDGuYbr"
      },
      "source": [
        "At this point, we have a pretty solid neural network regression model. It performs better than our linear regression model, though it does take a while to train.\n",
        "\n",
        "Training time is largely a product of two factors:\n",
        "\n",
        "1. The size of the model\n",
        "1. The number of epochs\n",
        "\n",
        "Larger models take longer to train. That shouldn't come as a surprise. Remember from above that we calculated the number of parameters in our model. Every layer that is densely connected adds many more parameters that need to be adjusted during training.\n",
        "\n",
        "Our goal is to find a model that is big enough, but not too big. This, it turns out, is very much an area where experimentation is required.\n",
        "\n",
        "The second determination of model training time is the number of epochs. We can choose an arbitrary number of epochs from one to infinity. How many do we need?\n",
        "\n",
        "It turns out that we can be much more scientific about this parameter. As a model begins to converge, there is less and less benefit for each subsequent epoch.\n",
        "\n",
        "More training does not necessarily mean a better model.\n",
        "\n",
        "There are a few ways to determine the appropriate number of epochs. One is to plot the error and see when it flattens out.\n",
        "\n",
        "It turns out that our model actually returns the error values when you fit the model."
      ]
    },
    {
      "cell_type": "code",
      "metadata": {
        "id": "KbhsGp9_0LOK",
        "colab": {
          "base_uri": "https://localhost:8080/"
        },
        "outputId": "e12fbe19-fe1d-4954-f162-8a527f644204"
      },
      "source": [
        "model = keras.Sequential([\n",
        "  layers.Dense(64, input_shape=[feature_count]),\n",
        "  layers.Dense(64),\n",
        "  layers.Dense(1)\n",
        "])\n",
        "\n",
        "model.compile(\n",
        "  loss='mse',\n",
        "  optimizer='Adam',\n",
        "  metrics=['mae', 'mse'],\n",
        ")\n",
        "\n",
        "EPOCHS = 5\n",
        "\n",
        "history = model.fit(\n",
        "  training_df[feature_columns],\n",
        "  training_df[target_column],\n",
        "  epochs=EPOCHS,\n",
        "  verbose=0,                     # New parameter to make model training silent\n",
        "  validation_split=0.2,\n",
        ")\n",
        "\n",
        "history.history"
      ],
      "execution_count": null,
      "outputs": [
        {
          "output_type": "execute_result",
          "data": {
            "text/plain": [
              "{'loss': [0.6810020804405212,\n",
              "  0.516365647315979,\n",
              "  0.5027371644973755,\n",
              "  0.4919399321079254,\n",
              "  0.4845682978630066],\n",
              " 'mae': [0.6021654009819031,\n",
              "  0.5248839855194092,\n",
              "  0.5173166990280151,\n",
              "  0.5129233002662659,\n",
              "  0.5091933608055115],\n",
              " 'mse': [0.6810020804405212,\n",
              "  0.516365647315979,\n",
              "  0.5027371644973755,\n",
              "  0.4919399321079254,\n",
              "  0.4845682978630066],\n",
              " 'val_loss': [0.5535661578178406,\n",
              "  0.5296065211296082,\n",
              "  0.5383336544036865,\n",
              "  0.5160989761352539,\n",
              "  0.5364993214607239],\n",
              " 'val_mae': [0.5475435256958008,\n",
              "  0.5114800333976746,\n",
              "  0.5463980436325073,\n",
              "  0.5072331428527832,\n",
              "  0.5056113004684448],\n",
              " 'val_mse': [0.5535661578178406,\n",
              "  0.5296065211296082,\n",
              "  0.5383336544036865,\n",
              "  0.5160989761352539,\n",
              "  0.5364993214607239]}"
            ]
          },
          "metadata": {
            "tags": []
          },
          "execution_count": 68
        }
      ]
    },
    {
      "cell_type": "markdown",
      "metadata": {
        "id": "VqUttCc121Mo"
      },
      "source": [
        "Notice that the `history.history` contains our model's loss (`loss`), mean absolute error (`mae`), mean squared error (`mse`), validation loss (`val_loss`), validation mean absolute error (`val_mae`), and validation mean squared error (`val_mse`) at each epoch.\n",
        "\n",
        "It would be useful to plot the error over time. In the next exercise, you will create a visualization that will help us determine when to stop training the model."
      ]
    },
    {
      "cell_type": "markdown",
      "metadata": {
        "id": "8_Pn1ZFe3mEp"
      },
      "source": [
        "### Exercise 6: Plotting Error"
      ]
    },
    {
      "cell_type": "markdown",
      "metadata": {
        "id": "HERuu5h332oV"
      },
      "source": [
        "Use `matplotlib.pyplot` or `seaborn` to create a line plot that shows the mean squared error and the validation mean squared error per epoch.\n",
        "\n",
        "In the code block below, we save the errors per epoch in the variable `history`. Inspect the variable and plot a line plot which has the epoch on the x-axis and the mean squared error on the y-axis. There should be two lines on the visualization: mean absolute error and validation mean absolute error.\n",
        "\n",
        "Note that we created the model with the default activation function. Use the activation function that you found to be more useful in exercise 5.\n",
        "\n",
        "The result should be a line plot of epoch and error with two lines similar to:\n",
        "\n",
        "![alt text](https://i.imgur.com/0YDzVhq.png)"
      ]
    },
    {
      "cell_type": "code",
      "metadata": {
        "id": "qK0v5ehj58nx"
      },
      "source": [
        "model = keras.Sequential([\n",
        "  layers.Dense(64, input_shape=[feature_count]),\n",
        "  layers.Dense(64),\n",
        "  layers.Dense(1)\n",
        "])\n",
        "\n",
        "model.compile(\n",
        "  loss='mse',\n",
        "  optimizer='Adam',\n",
        "  metrics=['mae', 'mse'],\n",
        ")\n",
        "\n",
        "EPOCHS = 100\n",
        "\n",
        "history = model.fit(\n",
        "  training_df[feature_columns],\n",
        "  training_df[target_column],\n",
        "  epochs=EPOCHS,\n",
        "  verbose=0,\n",
        "  validation_split=0.2,\n",
        ")"
      ],
      "execution_count": null,
      "outputs": []
    },
    {
      "cell_type": "markdown",
      "metadata": {
        "id": "H743wjkE56AV"
      },
      "source": [
        "#### **Student Solution**"
      ]
    },
    {
      "cell_type": "code",
      "metadata": {
        "id": "4rN-BXBX6KkV",
        "colab": {
          "base_uri": "https://localhost:8080/",
          "height": 509
        },
        "outputId": "54c544b2-5199-45e1-b22c-0b959dae9a9e"
      },
      "source": [
        "# Your Code Goes Here\n",
        "import matplotlib.pyplot as plt\n",
        "import numpy as np\n",
        "\n",
        "X = np.arange(EPOCHS)\n",
        "plt.figure(figsize=(20,10))\n",
        "plt.plot(X, history.history['mse'])\n",
        "plt.plot(X, history.history['val_mse'])\n",
        "plt.legend(['Mean Squared Error', 'Validation Mean Squared Error'])\n",
        "plt.xlabel(\"Epochs\")\n",
        "plt.ylabel(\"MSE\")\n",
        "plt.show()"
      ],
      "execution_count": null,
      "outputs": [
        {
          "output_type": "display_data",
          "data": {
            "image/png": "[encoded data removed]",
            "text/plain": [
              "<Figure size 1440x720 with 1 Axes>"
            ]
          },
          "metadata": {
            "tags": [],
            "needs_background": "light"
          }
        }
      ]
    },
    {
      "cell_type": "markdown",
      "metadata": {
        "id": "q6XBdKqj6L7Z"
      },
      "source": [
        "---"
      ]
    },
    {
      "cell_type": "markdown",
      "metadata": {
        "id": "xqp93VIH7eEJ"
      },
      "source": [
        "### Interpreting Loss Visualizations"
      ]
    },
    {
      "cell_type": "markdown",
      "metadata": {
        "id": "_B4Cwtbs7ifl"
      },
      "source": [
        "We have now created a visualization that should look something like this:\n",
        "\n",
        "![alt text](https://i.imgur.com/0YDzVhq.png)\n",
        "\n",
        "But how do we interpret this visualization?\n",
        "\n",
        "The blue line is the mean squared error for the training data. You can see it plummeting fast as the model quickly learns.\n",
        "\n",
        "The orange line is the validation data. This is a holdout set of data that the model checks after each epoch. You can see it dropping pretty quickly, too, but then it seems to stabilize somewhat by 20 epochs.\n",
        "\n",
        "Toward the right side of the graph, you can see that our validation set says volatile but relatively flat, while our training data set keeps getting better and better.\n",
        "\n",
        "Should we train more or less?\n",
        "\n",
        "The constantly reducing blue line is actually a signal of overfitting on the training data.\n",
        "\n",
        "The flat(ish) orange line signals this model is as good as we can get.\n",
        "\n",
        "For this model we could possibly stop training after even 25 epochs and get similar performance.\n",
        "\n",
        "But how do you know when to stop?\n",
        "\n",
        "Luckily there is an *early stopping* algorithm that allows a model to stop training when validation data isn't improving.\n",
        "\n",
        "In the example below, we set up a model to train for 1000 epochs; however, we add an early stopping callback. Early stopping stops training when the model isn't progressing upon validation.\n",
        "\n",
        "If you run the code block below, you'll see far fewer than 1000 epochs run."
      ]
    },
    {
      "cell_type": "code",
      "metadata": {
        "id": "lgCZjgOT7JqO",
        "colab": {
          "base_uri": "https://localhost:8080/"
        },
        "outputId": "312abae1-2091-471f-bb89-815a867c39b5"
      },
      "source": [
        "model = keras.Sequential([\n",
        "  layers.Dense(64, input_shape=[feature_count]),\n",
        "  layers.Dense(64),\n",
        "  layers.Dense(1)\n",
        "])\n",
        "\n",
        "model.compile(\n",
        "  loss='mse',\n",
        "  optimizer='Adam',\n",
        "  metrics=['mae', 'mse'],\n",
        ")\n",
        "\n",
        "EPOCHS = 1000\n",
        "\n",
        "early_stop = keras.callbacks.EarlyStopping(monitor='val_loss', patience=10)\n",
        "\n",
        "history = model.fit(\n",
        "  training_df[feature_columns],\n",
        "  training_df[target_column],\n",
        "  epochs=EPOCHS,\n",
        "  validation_split=0.2,\n",
        "  callbacks=[early_stop],\n",
        ")"
      ],
      "execution_count": null,
      "outputs": [
        {
          "output_type": "stream",
          "text": [
            "Epoch 1/1000\n",
            "413/413 [==============================] - 1s 2ms/step - loss: 0.9611 - mae: 0.7096 - mse: 0.9611 - val_loss: 0.5705 - val_mae: 0.5767 - val_mse: 0.5705\n",
            "Epoch 2/1000\n",
            "413/413 [==============================] - 1s 2ms/step - loss: 0.5338 - mae: 0.5375 - mse: 0.5338 - val_loss: 0.5348 - val_mae: 0.5113 - val_mse: 0.5348\n",
            "Epoch 3/1000\n",
            "413/413 [==============================] - 1s 2ms/step - loss: 0.5107 - mae: 0.5204 - mse: 0.5107 - val_loss: 0.5228 - val_mae: 0.5180 - val_mse: 0.5228\n",
            "Epoch 4/1000\n",
            "413/413 [==============================] - 1s 2ms/step - loss: 0.4857 - mae: 0.5064 - mse: 0.4857 - val_loss: 0.5266 - val_mae: 0.5434 - val_mse: 0.5266\n",
            "Epoch 5/1000\n",
            "413/413 [==============================] - 1s 2ms/step - loss: 0.5013 - mae: 0.5185 - mse: 0.5013 - val_loss: 0.5216 - val_mae: 0.5301 - val_mse: 0.5216\n",
            "Epoch 6/1000\n",
            "413/413 [==============================] - 1s 2ms/step - loss: 0.4727 - mae: 0.5052 - mse: 0.4727 - val_loss: 0.5272 - val_mae: 0.5015 - val_mse: 0.5272\n",
            "Epoch 7/1000\n",
            "413/413 [==============================] - 1s 2ms/step - loss: 0.4675 - mae: 0.5028 - mse: 0.4675 - val_loss: 0.5379 - val_mae: 0.5420 - val_mse: 0.5379\n",
            "Epoch 8/1000\n",
            "413/413 [==============================] - 1s 2ms/step - loss: 0.4828 - mae: 0.5111 - mse: 0.4828 - val_loss: 0.5364 - val_mae: 0.5081 - val_mse: 0.5364\n",
            "Epoch 9/1000\n",
            "413/413 [==============================] - 1s 2ms/step - loss: 0.4810 - mae: 0.5064 - mse: 0.4810 - val_loss: 0.5757 - val_mae: 0.5786 - val_mse: 0.5757\n",
            "Epoch 10/1000\n",
            "413/413 [==============================] - 1s 2ms/step - loss: 0.4706 - mae: 0.5051 - mse: 0.4706 - val_loss: 0.5463 - val_mae: 0.5071 - val_mse: 0.5463\n",
            "Epoch 11/1000\n",
            "413/413 [==============================] - 1s 2ms/step - loss: 0.4763 - mae: 0.5015 - mse: 0.4763 - val_loss: 0.5302 - val_mae: 0.5064 - val_mse: 0.5302\n",
            "Epoch 12/1000\n",
            "413/413 [==============================] - 1s 2ms/step - loss: 0.4669 - mae: 0.4977 - mse: 0.4669 - val_loss: 0.5277 - val_mae: 0.5083 - val_mse: 0.5277\n",
            "Epoch 13/1000\n",
            "413/413 [==============================] - 1s 2ms/step - loss: 0.4653 - mae: 0.4997 - mse: 0.4653 - val_loss: 0.5409 - val_mae: 0.5079 - val_mse: 0.5409\n",
            "Epoch 14/1000\n",
            "413/413 [==============================] - 1s 2ms/step - loss: 0.4764 - mae: 0.5086 - mse: 0.4764 - val_loss: 0.5261 - val_mae: 0.5075 - val_mse: 0.5261\n",
            "Epoch 15/1000\n",
            "413/413 [==============================] - 1s 2ms/step - loss: 0.4663 - mae: 0.4978 - mse: 0.4663 - val_loss: 0.5543 - val_mae: 0.5063 - val_mse: 0.5543\n"
          ],
          "name": "stdout"
        }
      ]
    },
    {
      "cell_type": "markdown",
      "metadata": {
        "id": "ehTtTmPT61oH"
      },
      "source": [
        "## Conclusion"
      ]
    },
    {
      "cell_type": "markdown",
      "metadata": {
        "id": "21IdNfUG64H6"
      },
      "source": [
        "We have now learned how to build a deep neural network to solve a regression problem. We have visualized our loss in order to determine when we might stop training, and we have utilized early stopping to avoid wasting time training a model.\n",
        "\n",
        "Welcome to deep neural networks. They are deceptively simple to build, but they are very complex to master. When you can build a model to fit a domain, you can create amazing predictions that rival human experts."
      ]
    }
  ]
}